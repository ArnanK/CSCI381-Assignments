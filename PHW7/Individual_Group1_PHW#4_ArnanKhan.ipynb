{
    "cells": [
        {
            "attachments": {},
            "cell_type": "markdown",
            "metadata": {
                "azdata_cell_guid": "b53111a9-7ec1-42a8-a46b-a10a9f9ac855"
            },
            "source": [
                "## **<u>CSCI 381: PHW#7 - Individual (Arnan Khan)</u>**"
            ]
        },
        {
            "cell_type": "markdown",
            "metadata": {},
            "source": [
                "CHATGPT Propositions: https://chatgpt.com/share/6734f0b1-de1c-800f-b2ce-264f5197bad3"
            ]
        },
        {
            "cell_type": "markdown",
            "metadata": {},
            "source": [
                "### Proposition 1: Product Ranking by List Price\n",
                "Write a query to assign a `ROW_NUMBER` to each product in the `Production.Product` table, ordered by `ListPrice` in descending order, within each `ProductSubcategoryID`. This will rank the products by price within each subcategory.\n"
            ]
        },
        {
            "cell_type": "code",
            "execution_count": null,
            "metadata": {
                "vscode": {
                    "languageId": "plaintext"
                }
            },
            "outputs": [],
            "source": []
        }
    ],
    "metadata": {
        "kernelspec": {
            "display_name": "SQL",
            "language": "sql",
            "name": "SQL"
        },
        "language_info": {
            "name": "sql",
            "version": ""
        }
    },
    "nbformat": 4,
    "nbformat_minor": 2
}
