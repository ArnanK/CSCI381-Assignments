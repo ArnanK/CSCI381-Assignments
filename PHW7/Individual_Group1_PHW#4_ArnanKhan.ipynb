{
    "metadata": {
        "kernelspec": {
            "name": "SQL",
            "display_name": "SQL",
            "language": "sql"
        },
        "language_info": {
            "name": "sql",
            "version": ""
        }
    },
    "nbformat_minor": 2,
    "nbformat": 4,
    "cells": [
        {
            "cell_type": "markdown",
            "source": [
                "## **<u>CSCI 381: PHW#7 - Individual (Arnan Khan)</u>**"
            ],
            "metadata": {
                "azdata_cell_guid": "b53111a9-7ec1-42a8-a46b-a10a9f9ac855"
            },
            "attachments": {}
        },
        {
            "cell_type": "markdown",
            "source": [
                "CHATGPT Propositions: https://chatgpt.com/share/6734f0b1-de1c-800f-b2ce-264f5197bad3"
            ],
            "metadata": {
                "azdata_cell_guid": "ea005162-64d4-4af3-bae2-dd9d3b8fb22b"
            }
        },
        {
            "cell_type": "code",
            "source": [
                "USE AdventureWorks2017"
            ],
            "metadata": {
                "azdata_cell_guid": "efeafa2f-486d-42bb-9587-6cbd606c7ae2",
                "language": "sql"
            },
            "outputs": [
                {
                    "output_type": "display_data",
                    "data": {
                        "text/html": "Commands completed successfully."
                    },
                    "metadata": {}
                },
                {
                    "output_type": "display_data",
                    "data": {
                        "text/html": "Total execution time: 00:00:00.018"
                    },
                    "metadata": {}
                }
            ],
            "execution_count": 1
        },
        {
            "cell_type": "markdown",
            "source": [
                "### Proposition 1: Product Ranking by List Price\n",
                "Write a query to assign a `ROW_NUMBER` to each product in the `Production.Product` table, ordered by `ListPrice` in descending order, within each `ProductSubcategoryID`. This will rank the products by price within each subcategory.\n"
            ],
            "metadata": {
                "azdata_cell_guid": "617f5141-4b46-4295-b155-e555c2c9f68f"
            }
        },
        {
            "cell_type": "code",
            "source": [
                "SELECT TOP (20) *\r\n",
                "FROM(\r\n",
                "    SELECT  ProductID, ProductSubcategoryID, ListPrice,\r\n",
                "            ROW_NUMBER() OVER(Partition By ProductSubcategoryID ORDER BY ListPrice DESC, ProductID ASC) as RowNumber\r\n",
                "    FROM Production.Product\r\n",
                "    WHERE ProductSubcategoryID IS NOT NULL\r\n",
                ") as T1\r\n",
                "WHERE RowNumber <= 5"
            ],
            "metadata": {
                "vscode": {
                    "languageId": "plaintext"
                },
                "azdata_cell_guid": "dae23c1d-a42e-4b68-9bbe-ee92048bbb91",
                "language": "sql"
            },
            "outputs": [
                {
                    "output_type": "display_data",
                    "data": {
                        "text/html": "(20 rows affected)"
                    },
                    "metadata": {}
                },
                {
                    "output_type": "display_data",
                    "data": {
                        "text/html": "Total execution time: 00:00:00.028"
                    },
                    "metadata": {}
                },
                {
                    "output_type": "execute_result",
                    "metadata": {},
                    "execution_count": 7,
                    "data": {
                        "application/vnd.dataresource+json": {
                            "schema": {
                                "fields": [
                                    {
                                        "name": "ProductID"
                                    },
                                    {
                                        "name": "ProductSubcategoryID"
                                    },
                                    {
                                        "name": "ListPrice"
                                    },
                                    {
                                        "name": "RowNumber"
                                    }
                                ]
                            },
                            "data": [
                                {
                                    "ProductID": "771",
                                    "ProductSubcategoryID": "1",
                                    "ListPrice": "3399.99",
                                    "RowNumber": "1"
                                },
                                {
                                    "ProductID": "772",
                                    "ProductSubcategoryID": "1",
                                    "ListPrice": "3399.99",
                                    "RowNumber": "2"
                                },
                                {
                                    "ProductID": "773",
                                    "ProductSubcategoryID": "1",
                                    "ListPrice": "3399.99",
                                    "RowNumber": "3"
                                },
                                {
                                    "ProductID": "774",
                                    "ProductSubcategoryID": "1",
                                    "ListPrice": "3399.99",
                                    "RowNumber": "4"
                                },
                                {
                                    "ProductID": "775",
                                    "ProductSubcategoryID": "1",
                                    "ListPrice": "3374.99",
                                    "RowNumber": "5"
                                },
                                {
                                    "ProductID": "749",
                                    "ProductSubcategoryID": "2",
                                    "ListPrice": "3578.27",
                                    "RowNumber": "1"
                                },
                                {
                                    "ProductID": "750",
                                    "ProductSubcategoryID": "2",
                                    "ListPrice": "3578.27",
                                    "RowNumber": "2"
                                },
                                {
                                    "ProductID": "751",
                                    "ProductSubcategoryID": "2",
                                    "ListPrice": "3578.27",
                                    "RowNumber": "3"
                                },
                                {
                                    "ProductID": "752",
                                    "ProductSubcategoryID": "2",
                                    "ListPrice": "3578.27",
                                    "RowNumber": "4"
                                },
                                {
                                    "ProductID": "753",
                                    "ProductSubcategoryID": "2",
                                    "ListPrice": "3578.27",
                                    "RowNumber": "5"
                                },
                                {
                                    "ProductID": "954",
                                    "ProductSubcategoryID": "3",
                                    "ListPrice": "2384.07",
                                    "RowNumber": "1"
                                },
                                {
                                    "ProductID": "955",
                                    "ProductSubcategoryID": "3",
                                    "ListPrice": "2384.07",
                                    "RowNumber": "2"
                                },
                                {
                                    "ProductID": "956",
                                    "ProductSubcategoryID": "3",
                                    "ListPrice": "2384.07",
                                    "RowNumber": "3"
                                },
                                {
                                    "ProductID": "957",
                                    "ProductSubcategoryID": "3",
                                    "ListPrice": "2384.07",
                                    "RowNumber": "4"
                                },
                                {
                                    "ProductID": "966",
                                    "ProductSubcategoryID": "3",
                                    "ListPrice": "2384.07",
                                    "RowNumber": "5"
                                },
                                {
                                    "ProductID": "810",
                                    "ProductSubcategoryID": "4",
                                    "ListPrice": "120.27",
                                    "RowNumber": "1"
                                },
                                {
                                    "ProductID": "813",
                                    "ProductSubcategoryID": "4",
                                    "ListPrice": "120.27",
                                    "RowNumber": "2"
                                },
                                {
                                    "ProductID": "947",
                                    "ProductSubcategoryID": "4",
                                    "ListPrice": "91.57",
                                    "RowNumber": "3"
                                },
                                {
                                    "ProductID": "809",
                                    "ProductSubcategoryID": "4",
                                    "ListPrice": "61.92",
                                    "RowNumber": "4"
                                },
                                {
                                    "ProductID": "812",
                                    "ProductSubcategoryID": "4",
                                    "ListPrice": "61.92",
                                    "RowNumber": "5"
                                }
                            ]
                        },
                        "text/html": [
                            "<table>",
                            "<tr><th>ProductID</th><th>ProductSubcategoryID</th><th>ListPrice</th><th>RowNumber</th></tr>",
                            "<tr><td>771</td><td>1</td><td>3399.99</td><td>1</td></tr>",
                            "<tr><td>772</td><td>1</td><td>3399.99</td><td>2</td></tr>",
                            "<tr><td>773</td><td>1</td><td>3399.99</td><td>3</td></tr>",
                            "<tr><td>774</td><td>1</td><td>3399.99</td><td>4</td></tr>",
                            "<tr><td>775</td><td>1</td><td>3374.99</td><td>5</td></tr>",
                            "<tr><td>749</td><td>2</td><td>3578.27</td><td>1</td></tr>",
                            "<tr><td>750</td><td>2</td><td>3578.27</td><td>2</td></tr>",
                            "<tr><td>751</td><td>2</td><td>3578.27</td><td>3</td></tr>",
                            "<tr><td>752</td><td>2</td><td>3578.27</td><td>4</td></tr>",
                            "<tr><td>753</td><td>2</td><td>3578.27</td><td>5</td></tr>",
                            "<tr><td>954</td><td>3</td><td>2384.07</td><td>1</td></tr>",
                            "<tr><td>955</td><td>3</td><td>2384.07</td><td>2</td></tr>",
                            "<tr><td>956</td><td>3</td><td>2384.07</td><td>3</td></tr>",
                            "<tr><td>957</td><td>3</td><td>2384.07</td><td>4</td></tr>",
                            "<tr><td>966</td><td>3</td><td>2384.07</td><td>5</td></tr>",
                            "<tr><td>810</td><td>4</td><td>120.27</td><td>1</td></tr>",
                            "<tr><td>813</td><td>4</td><td>120.27</td><td>2</td></tr>",
                            "<tr><td>947</td><td>4</td><td>91.57</td><td>3</td></tr>",
                            "<tr><td>809</td><td>4</td><td>61.92</td><td>4</td></tr>",
                            "<tr><td>812</td><td>4</td><td>61.92</td><td>5</td></tr>",
                            "</table>"
                        ]
                    }
                }
            ],
            "execution_count": 7
        },
        {
            "cell_type": "markdown",
            "source": [
                "### Proposition 2: Rank Order Line Items by Unit Price\n",
                "\n",
                "Using the `Sales.SalesOrderDetail` table, rank each line item in a sales order by `UnitPrice` for each `SalesOrderID`. Use the `RANK` function to create ranks based on `UnitPrice` in ascending order. Rank the top 5 lowest unit prices"
            ],
            "metadata": {
                "azdata_cell_guid": "63d06113-4557-49c9-a70c-6516c4af5002"
            },
            "attachments": {}
        },
        {
            "cell_type": "code",
            "source": [
                "SELECT  TOP (5) UnitPrice, \r\n",
                "        RANK() OVER(Order By UnitPrice ASC) AS Rank\r\n",
                "FROM(\r\n",
                "    SELECT  DISTINCT UnitPrice\r\n",
                "    FROM Sales.SalesOrderDetail\r\n",
                ") AS T1\r\n",
                ""
            ],
            "metadata": {
                "azdata_cell_guid": "16eae81c-5b0d-4b5a-8572-fae2c38d0d79",
                "language": "sql"
            },
            "outputs": [
                {
                    "output_type": "display_data",
                    "data": {
                        "text/html": "(5 rows affected)"
                    },
                    "metadata": {}
                },
                {
                    "output_type": "display_data",
                    "data": {
                        "text/html": "Total execution time: 00:00:00.054"
                    },
                    "metadata": {}
                },
                {
                    "output_type": "execute_result",
                    "metadata": {},
                    "execution_count": 18,
                    "data": {
                        "application/vnd.dataresource+json": {
                            "schema": {
                                "fields": [
                                    {
                                        "name": "UnitPrice"
                                    },
                                    {
                                        "name": "Rank"
                                    }
                                ]
                            },
                            "data": [
                                {
                                    "UnitPrice": "1.3282",
                                    "Rank": "1"
                                },
                                {
                                    "UnitPrice": "1.374",
                                    "Rank": "2"
                                },
                                {
                                    "UnitPrice": "2.29",
                                    "Rank": "3"
                                },
                                {
                                    "UnitPrice": "2.495",
                                    "Rank": "4"
                                },
                                {
                                    "UnitPrice": "2.7445",
                                    "Rank": "5"
                                }
                            ]
                        },
                        "text/html": [
                            "<table>",
                            "<tr><th>UnitPrice</th><th>Rank</th></tr>",
                            "<tr><td>1.3282</td><td>1</td></tr>",
                            "<tr><td>1.374</td><td>2</td></tr>",
                            "<tr><td>2.29</td><td>3</td></tr>",
                            "<tr><td>2.495</td><td>4</td></tr>",
                            "<tr><td>2.7445</td><td>5</td></tr>",
                            "</table>"
                        ]
                    }
                }
            ],
            "execution_count": 18
        },
        {
            "cell_type": "markdown",
            "source": [
                "### Proposition 3: Cumulative Employee Count by Hire Date\r\n",
                "In the `HumanResources.Employee` table, calculate the cumulative number of employees hired over time, grouped by `JobTitle` and ordered by `HireDate`. This will show the growth of employees over time in each job role.\r\n",
                ""
            ],
            "metadata": {
                "azdata_cell_guid": "df9243f9-3c04-4f0c-b05a-2e5a7299f209"
            },
            "attachments": {}
        },
        {
            "cell_type": "code",
            "source": [
                "SELECT CONCAT(MONTH(HireDate), '-', YEAR(HireDate)) as [Date],\r\n",
                "        SUM(COUNT(*)) OVER(ORDER BY MIN(HireDate) ASC) [Cumalative Employees Hired]\r\n",
                "FROM HumanResources.Employee\r\n",
                "GROUP BY CONCAT(MONTH(HireDate), '-', YEAR(HireDate))\r\n",
                "ORDER BY [Cumalative Employees Hired] ASC\r\n",
                "\r\n",
                ""
            ],
            "metadata": {
                "azdata_cell_guid": "69df74e6-ce8d-40c8-bd27-9804afe95706",
                "language": "sql"
            },
            "outputs": [
                {
                    "output_type": "display_data",
                    "data": {
                        "text/html": "(25 rows affected)"
                    },
                    "metadata": {}
                },
                {
                    "output_type": "display_data",
                    "data": {
                        "text/html": "Total execution time: 00:00:00.048"
                    },
                    "metadata": {}
                },
                {
                    "output_type": "execute_result",
                    "metadata": {},
                    "execution_count": 29,
                    "data": {
                        "application/vnd.dataresource+json": {
                            "schema": {
                                "fields": [
                                    {
                                        "name": "Date"
                                    },
                                    {
                                        "name": "Cumalative Employees Hired"
                                    }
                                ]
                            },
                            "data": [
                                {
                                    "Date": "6-2006",
                                    "Cumalative Employees Hired": "1"
                                },
                                {
                                    "Date": "1-2007",
                                    "Cumalative Employees Hired": "2"
                                },
                                {
                                    "Date": "11-2007",
                                    "Cumalative Employees Hired": "3"
                                },
                                {
                                    "Date": "12-2007",
                                    "Cumalative Employees Hired": "7"
                                },
                                {
                                    "Date": "1-2008",
                                    "Cumalative Employees Hired": "12"
                                },
                                {
                                    "Date": "2-2008",
                                    "Cumalative Employees Hired": "16"
                                },
                                {
                                    "Date": "3-2008",
                                    "Cumalative Employees Hired": "19"
                                },
                                {
                                    "Date": "12-2008",
                                    "Cumalative Employees Hired": "81"
                                },
                                {
                                    "Date": "1-2009",
                                    "Cumalative Employees Hired": "142"
                                },
                                {
                                    "Date": "2-2009",
                                    "Cumalative Employees Hired": "200"
                                },
                                {
                                    "Date": "3-2009",
                                    "Cumalative Employees Hired": "216"
                                },
                                {
                                    "Date": "5-2009",
                                    "Cumalative Employees Hired": "217"
                                },
                                {
                                    "Date": "12-2009",
                                    "Cumalative Employees Hired": "229"
                                },
                                {
                                    "Date": "1-2010",
                                    "Cumalative Employees Hired": "244"
                                },
                                {
                                    "Date": "2-2010",
                                    "Cumalative Employees Hired": "256"
                                },
                                {
                                    "Date": "3-2010",
                                    "Cumalative Employees Hired": "262"
                                },
                                {
                                    "Date": "12-2010",
                                    "Cumalative Employees Hired": "267"
                                },
                                {
                                    "Date": "1-2011",
                                    "Cumalative Employees Hired": "270"
                                },
                                {
                                    "Date": "2-2011",
                                    "Cumalative Employees Hired": "274"
                                },
                                {
                                    "Date": "5-2011",
                                    "Cumalative Employees Hired": "283"
                                },
                                {
                                    "Date": "4-2012",
                                    "Cumalative Employees Hired": "284"
                                },
                                {
                                    "Date": "5-2012",
                                    "Cumalative Employees Hired": "286"
                                },
                                {
                                    "Date": "9-2012",
                                    "Cumalative Employees Hired": "287"
                                },
                                {
                                    "Date": "3-2013",
                                    "Cumalative Employees Hired": "288"
                                },
                                {
                                    "Date": "5-2013",
                                    "Cumalative Employees Hired": "290"
                                }
                            ]
                        },
                        "text/html": [
                            "<table>",
                            "<tr><th>Date</th><th>Cumalative Employees Hired</th></tr>",
                            "<tr><td>6-2006</td><td>1</td></tr>",
                            "<tr><td>1-2007</td><td>2</td></tr>",
                            "<tr><td>11-2007</td><td>3</td></tr>",
                            "<tr><td>12-2007</td><td>7</td></tr>",
                            "<tr><td>1-2008</td><td>12</td></tr>",
                            "<tr><td>2-2008</td><td>16</td></tr>",
                            "<tr><td>3-2008</td><td>19</td></tr>",
                            "<tr><td>12-2008</td><td>81</td></tr>",
                            "<tr><td>1-2009</td><td>142</td></tr>",
                            "<tr><td>2-2009</td><td>200</td></tr>",
                            "<tr><td>3-2009</td><td>216</td></tr>",
                            "<tr><td>5-2009</td><td>217</td></tr>",
                            "<tr><td>12-2009</td><td>229</td></tr>",
                            "<tr><td>1-2010</td><td>244</td></tr>",
                            "<tr><td>2-2010</td><td>256</td></tr>",
                            "<tr><td>3-2010</td><td>262</td></tr>",
                            "<tr><td>12-2010</td><td>267</td></tr>",
                            "<tr><td>1-2011</td><td>270</td></tr>",
                            "<tr><td>2-2011</td><td>274</td></tr>",
                            "<tr><td>5-2011</td><td>283</td></tr>",
                            "<tr><td>4-2012</td><td>284</td></tr>",
                            "<tr><td>5-2012</td><td>286</td></tr>",
                            "<tr><td>9-2012</td><td>287</td></tr>",
                            "<tr><td>3-2013</td><td>288</td></tr>",
                            "<tr><td>5-2013</td><td>290</td></tr>",
                            "</table>"
                        ]
                    }
                }
            ],
            "execution_count": 29
        },
        {
            "cell_type": "markdown",
            "source": [
                "### Proposition 4: Previous Product List Price\r\n",
                "Display each product in the `Production.Product` table, along with the previous product's `ListPrice` based on `ProductID` ordering. Use the `LAG` function to retrieve the price of the preceding product.\r\n",
                ""
            ],
            "metadata": {
                "azdata_cell_guid": "fc9e5b8d-4072-4d1b-af81-9ca5ccb91973"
            },
            "attachments": {}
        },
        {
            "cell_type": "code",
            "source": [
                "SELECT  TOP 50 ProductSubcategoryID ,ProductID, ListPrice, \r\n",
                "LAG(ListPrice) OVER(PARTITION BY ProductSubcategoryID ORDER BY ListPrice) as Prev\r\n",
                "FROM Production.Product\r\n",
                "WHERE ProductSubcategoryID IS NOT NULL\r\n",
                ""
            ],
            "metadata": {
                "azdata_cell_guid": "2c4feefb-4662-45e3-9ea7-1f2916c3e11a",
                "language": "sql"
            },
            "outputs": [
                {
                    "output_type": "display_data",
                    "data": {
                        "text/html": "(50 rows affected)"
                    },
                    "metadata": {}
                },
                {
                    "output_type": "display_data",
                    "data": {
                        "text/html": "Total execution time: 00:00:00.077"
                    },
                    "metadata": {}
                },
                {
                    "output_type": "execute_result",
                    "metadata": {},
                    "execution_count": 39,
                    "data": {
                        "application/vnd.dataresource+json": {
                            "schema": {
                                "fields": [
                                    {
                                        "name": "ProductSubcategoryID"
                                    },
                                    {
                                        "name": "ProductID"
                                    },
                                    {
                                        "name": "ListPrice"
                                    },
                                    {
                                        "name": "Prev"
                                    }
                                ]
                            },
                            "data": [
                                {
                                    "ProductSubcategoryID": "1",
                                    "ProductID": "989",
                                    "ListPrice": "539.99",
                                    "Prev": "NULL"
                                },
                                {
                                    "ProductSubcategoryID": "1",
                                    "ProductID": "990",
                                    "ListPrice": "539.99",
                                    "Prev": "539.99"
                                },
                                {
                                    "ProductSubcategoryID": "1",
                                    "ProductID": "991",
                                    "ListPrice": "539.99",
                                    "Prev": "539.99"
                                },
                                {
                                    "ProductSubcategoryID": "1",
                                    "ProductID": "992",
                                    "ListPrice": "539.99",
                                    "Prev": "539.99"
                                },
                                {
                                    "ProductSubcategoryID": "1",
                                    "ProductID": "993",
                                    "ListPrice": "539.99",
                                    "Prev": "539.99"
                                },
                                {
                                    "ProductSubcategoryID": "1",
                                    "ProductID": "984",
                                    "ListPrice": "564.99",
                                    "Prev": "539.99"
                                },
                                {
                                    "ProductSubcategoryID": "1",
                                    "ProductID": "985",
                                    "ListPrice": "564.99",
                                    "Prev": "564.99"
                                },
                                {
                                    "ProductSubcategoryID": "1",
                                    "ProductID": "986",
                                    "ListPrice": "564.99",
                                    "Prev": "564.99"
                                },
                                {
                                    "ProductSubcategoryID": "1",
                                    "ProductID": "987",
                                    "ListPrice": "564.99",
                                    "Prev": "564.99"
                                },
                                {
                                    "ProductSubcategoryID": "1",
                                    "ProductID": "988",
                                    "ListPrice": "564.99",
                                    "Prev": "564.99"
                                },
                                {
                                    "ProductSubcategoryID": "1",
                                    "ProductID": "980",
                                    "ListPrice": "769.49",
                                    "Prev": "564.99"
                                },
                                {
                                    "ProductSubcategoryID": "1",
                                    "ProductID": "981",
                                    "ListPrice": "769.49",
                                    "Prev": "769.49"
                                },
                                {
                                    "ProductSubcategoryID": "1",
                                    "ProductID": "982",
                                    "ListPrice": "769.49",
                                    "Prev": "769.49"
                                },
                                {
                                    "ProductSubcategoryID": "1",
                                    "ProductID": "983",
                                    "ListPrice": "769.49",
                                    "Prev": "769.49"
                                },
                                {
                                    "ProductSubcategoryID": "1",
                                    "ProductID": "785",
                                    "ListPrice": "1079.99",
                                    "Prev": "769.49"
                                },
                                {
                                    "ProductSubcategoryID": "1",
                                    "ProductID": "786",
                                    "ListPrice": "1079.99",
                                    "Prev": "1079.99"
                                },
                                {
                                    "ProductSubcategoryID": "1",
                                    "ProductID": "787",
                                    "ListPrice": "1079.99",
                                    "Prev": "1079.99"
                                },
                                {
                                    "ProductSubcategoryID": "1",
                                    "ProductID": "788",
                                    "ListPrice": "1079.99",
                                    "Prev": "1079.99"
                                },
                                {
                                    "ProductSubcategoryID": "1",
                                    "ProductID": "782",
                                    "ListPrice": "2294.99",
                                    "Prev": "1079.99"
                                },
                                {
                                    "ProductSubcategoryID": "1",
                                    "ProductID": "783",
                                    "ListPrice": "2294.99",
                                    "Prev": "2294.99"
                                },
                                {
                                    "ProductSubcategoryID": "1",
                                    "ProductID": "784",
                                    "ListPrice": "2294.99",
                                    "Prev": "2294.99"
                                },
                                {
                                    "ProductSubcategoryID": "1",
                                    "ProductID": "779",
                                    "ListPrice": "2319.99",
                                    "Prev": "2294.99"
                                },
                                {
                                    "ProductSubcategoryID": "1",
                                    "ProductID": "780",
                                    "ListPrice": "2319.99",
                                    "Prev": "2319.99"
                                },
                                {
                                    "ProductSubcategoryID": "1",
                                    "ProductID": "781",
                                    "ListPrice": "2319.99",
                                    "Prev": "2319.99"
                                },
                                {
                                    "ProductSubcategoryID": "1",
                                    "ProductID": "775",
                                    "ListPrice": "3374.99",
                                    "Prev": "2319.99"
                                },
                                {
                                    "ProductSubcategoryID": "1",
                                    "ProductID": "776",
                                    "ListPrice": "3374.99",
                                    "Prev": "3374.99"
                                },
                                {
                                    "ProductSubcategoryID": "1",
                                    "ProductID": "777",
                                    "ListPrice": "3374.99",
                                    "Prev": "3374.99"
                                },
                                {
                                    "ProductSubcategoryID": "1",
                                    "ProductID": "778",
                                    "ListPrice": "3374.99",
                                    "Prev": "3374.99"
                                },
                                {
                                    "ProductSubcategoryID": "1",
                                    "ProductID": "771",
                                    "ListPrice": "3399.99",
                                    "Prev": "3374.99"
                                },
                                {
                                    "ProductSubcategoryID": "1",
                                    "ProductID": "772",
                                    "ListPrice": "3399.99",
                                    "Prev": "3399.99"
                                },
                                {
                                    "ProductSubcategoryID": "1",
                                    "ProductID": "773",
                                    "ListPrice": "3399.99",
                                    "Prev": "3399.99"
                                },
                                {
                                    "ProductSubcategoryID": "1",
                                    "ProductID": "774",
                                    "ListPrice": "3399.99",
                                    "Prev": "3399.99"
                                },
                                {
                                    "ProductSubcategoryID": "2",
                                    "ProductID": "977",
                                    "ListPrice": "539.99",
                                    "Prev": "NULL"
                                },
                                {
                                    "ProductSubcategoryID": "2",
                                    "ProductID": "997",
                                    "ListPrice": "539.99",
                                    "Prev": "539.99"
                                },
                                {
                                    "ProductSubcategoryID": "2",
                                    "ProductID": "998",
                                    "ListPrice": "539.99",
                                    "Prev": "539.99"
                                },
                                {
                                    "ProductSubcategoryID": "2",
                                    "ProductID": "999",
                                    "ListPrice": "539.99",
                                    "Prev": "539.99"
                                },
                                {
                                    "ProductSubcategoryID": "2",
                                    "ProductID": "759",
                                    "ListPrice": "782.99",
                                    "Prev": "539.99"
                                },
                                {
                                    "ProductSubcategoryID": "2",
                                    "ProductID": "760",
                                    "ListPrice": "782.99",
                                    "Prev": "782.99"
                                },
                                {
                                    "ProductSubcategoryID": "2",
                                    "ProductID": "761",
                                    "ListPrice": "782.99",
                                    "Prev": "782.99"
                                },
                                {
                                    "ProductSubcategoryID": "2",
                                    "ProductID": "762",
                                    "ListPrice": "782.99",
                                    "Prev": "782.99"
                                },
                                {
                                    "ProductSubcategoryID": "2",
                                    "ProductID": "763",
                                    "ListPrice": "782.99",
                                    "Prev": "782.99"
                                },
                                {
                                    "ProductSubcategoryID": "2",
                                    "ProductID": "764",
                                    "ListPrice": "782.99",
                                    "Prev": "782.99"
                                },
                                {
                                    "ProductSubcategoryID": "2",
                                    "ProductID": "765",
                                    "ListPrice": "782.99",
                                    "Prev": "782.99"
                                },
                                {
                                    "ProductSubcategoryID": "2",
                                    "ProductID": "766",
                                    "ListPrice": "782.99",
                                    "Prev": "782.99"
                                },
                                {
                                    "ProductSubcategoryID": "2",
                                    "ProductID": "767",
                                    "ListPrice": "782.99",
                                    "Prev": "782.99"
                                },
                                {
                                    "ProductSubcategoryID": "2",
                                    "ProductID": "768",
                                    "ListPrice": "782.99",
                                    "Prev": "782.99"
                                },
                                {
                                    "ProductSubcategoryID": "2",
                                    "ProductID": "769",
                                    "ListPrice": "782.99",
                                    "Prev": "782.99"
                                },
                                {
                                    "ProductSubcategoryID": "2",
                                    "ProductID": "770",
                                    "ListPrice": "782.99",
                                    "Prev": "782.99"
                                },
                                {
                                    "ProductSubcategoryID": "2",
                                    "ProductID": "797",
                                    "ListPrice": "1120.49",
                                    "Prev": "782.99"
                                },
                                {
                                    "ProductSubcategoryID": "2",
                                    "ProductID": "798",
                                    "ListPrice": "1120.49",
                                    "Prev": "1120.49"
                                }
                            ]
                        },
                        "text/html": [
                            "<table>",
                            "<tr><th>ProductSubcategoryID</th><th>ProductID</th><th>ListPrice</th><th>Prev</th></tr>",
                            "<tr><td>1</td><td>989</td><td>539.99</td><td>NULL</td></tr>",
                            "<tr><td>1</td><td>990</td><td>539.99</td><td>539.99</td></tr>",
                            "<tr><td>1</td><td>991</td><td>539.99</td><td>539.99</td></tr>",
                            "<tr><td>1</td><td>992</td><td>539.99</td><td>539.99</td></tr>",
                            "<tr><td>1</td><td>993</td><td>539.99</td><td>539.99</td></tr>",
                            "<tr><td>1</td><td>984</td><td>564.99</td><td>539.99</td></tr>",
                            "<tr><td>1</td><td>985</td><td>564.99</td><td>564.99</td></tr>",
                            "<tr><td>1</td><td>986</td><td>564.99</td><td>564.99</td></tr>",
                            "<tr><td>1</td><td>987</td><td>564.99</td><td>564.99</td></tr>",
                            "<tr><td>1</td><td>988</td><td>564.99</td><td>564.99</td></tr>",
                            "<tr><td>1</td><td>980</td><td>769.49</td><td>564.99</td></tr>",
                            "<tr><td>1</td><td>981</td><td>769.49</td><td>769.49</td></tr>",
                            "<tr><td>1</td><td>982</td><td>769.49</td><td>769.49</td></tr>",
                            "<tr><td>1</td><td>983</td><td>769.49</td><td>769.49</td></tr>",
                            "<tr><td>1</td><td>785</td><td>1079.99</td><td>769.49</td></tr>",
                            "<tr><td>1</td><td>786</td><td>1079.99</td><td>1079.99</td></tr>",
                            "<tr><td>1</td><td>787</td><td>1079.99</td><td>1079.99</td></tr>",
                            "<tr><td>1</td><td>788</td><td>1079.99</td><td>1079.99</td></tr>",
                            "<tr><td>1</td><td>782</td><td>2294.99</td><td>1079.99</td></tr>",
                            "<tr><td>1</td><td>783</td><td>2294.99</td><td>2294.99</td></tr>",
                            "<tr><td>1</td><td>784</td><td>2294.99</td><td>2294.99</td></tr>",
                            "<tr><td>1</td><td>779</td><td>2319.99</td><td>2294.99</td></tr>",
                            "<tr><td>1</td><td>780</td><td>2319.99</td><td>2319.99</td></tr>",
                            "<tr><td>1</td><td>781</td><td>2319.99</td><td>2319.99</td></tr>",
                            "<tr><td>1</td><td>775</td><td>3374.99</td><td>2319.99</td></tr>",
                            "<tr><td>1</td><td>776</td><td>3374.99</td><td>3374.99</td></tr>",
                            "<tr><td>1</td><td>777</td><td>3374.99</td><td>3374.99</td></tr>",
                            "<tr><td>1</td><td>778</td><td>3374.99</td><td>3374.99</td></tr>",
                            "<tr><td>1</td><td>771</td><td>3399.99</td><td>3374.99</td></tr>",
                            "<tr><td>1</td><td>772</td><td>3399.99</td><td>3399.99</td></tr>",
                            "<tr><td>1</td><td>773</td><td>3399.99</td><td>3399.99</td></tr>",
                            "<tr><td>1</td><td>774</td><td>3399.99</td><td>3399.99</td></tr>",
                            "<tr><td>2</td><td>977</td><td>539.99</td><td>NULL</td></tr>",
                            "<tr><td>2</td><td>997</td><td>539.99</td><td>539.99</td></tr>",
                            "<tr><td>2</td><td>998</td><td>539.99</td><td>539.99</td></tr>",
                            "<tr><td>2</td><td>999</td><td>539.99</td><td>539.99</td></tr>",
                            "<tr><td>2</td><td>759</td><td>782.99</td><td>539.99</td></tr>",
                            "<tr><td>2</td><td>760</td><td>782.99</td><td>782.99</td></tr>",
                            "<tr><td>2</td><td>761</td><td>782.99</td><td>782.99</td></tr>",
                            "<tr><td>2</td><td>762</td><td>782.99</td><td>782.99</td></tr>",
                            "<tr><td>2</td><td>763</td><td>782.99</td><td>782.99</td></tr>",
                            "<tr><td>2</td><td>764</td><td>782.99</td><td>782.99</td></tr>",
                            "<tr><td>2</td><td>765</td><td>782.99</td><td>782.99</td></tr>",
                            "<tr><td>2</td><td>766</td><td>782.99</td><td>782.99</td></tr>",
                            "<tr><td>2</td><td>767</td><td>782.99</td><td>782.99</td></tr>",
                            "<tr><td>2</td><td>768</td><td>782.99</td><td>782.99</td></tr>",
                            "<tr><td>2</td><td>769</td><td>782.99</td><td>782.99</td></tr>",
                            "<tr><td>2</td><td>770</td><td>782.99</td><td>782.99</td></tr>",
                            "<tr><td>2</td><td>797</td><td>1120.49</td><td>782.99</td></tr>",
                            "<tr><td>2</td><td>798</td><td>1120.49</td><td>1120.49</td></tr>",
                            "</table>"
                        ]
                    }
                }
            ],
            "execution_count": 39
        },
        {
            "cell_type": "markdown",
            "source": [
                "### Proposition 5: Cumulative SubTotal by Customer\r\n",
                "Using the `Sales.SalesOrderHeader` table, calculate the cumulative total `SubTotal` amount for each `CustomerID`, ordered by `OrderDate`. This will show each customer's total spending over time.\r\n",
                ""
            ],
            "metadata": {
                "azdata_cell_guid": "c2f7bcc6-748a-4a7b-8e86-2df0e04bf3ae"
            },
            "attachments": {}
        },
        {
            "cell_type": "code",
            "source": [
                "SELECT  TOP(50) CustomerID, CONCAT_WS('-',MONTH(OrderDate),DAY(OrderDate),YEAR(OrderDate)) as [Date],\r\n",
                "        SUM(SubTotal) OVER(PARTITION BY CustomerID ORDER BY OrderDate ASC) as [Cumulative SubTotal]\r\n",
                "FROM Sales.SalesOrderHeader"
            ],
            "metadata": {
                "azdata_cell_guid": "6e746202-3f62-46c9-960f-b48c4219c621",
                "language": "sql"
            },
            "outputs": [
                {
                    "output_type": "display_data",
                    "data": {
                        "text/html": "(50 rows affected)"
                    },
                    "metadata": {}
                },
                {
                    "output_type": "display_data",
                    "data": {
                        "text/html": "Total execution time: 00:00:00.077"
                    },
                    "metadata": {}
                },
                {
                    "output_type": "execute_result",
                    "metadata": {},
                    "execution_count": 40,
                    "data": {
                        "application/vnd.dataresource+json": {
                            "schema": {
                                "fields": [
                                    {
                                        "name": "CustomerID"
                                    },
                                    {
                                        "name": "Date"
                                    },
                                    {
                                        "name": "Cumulative SubTotal"
                                    }
                                ]
                            },
                            "data": [
                                {
                                    "CustomerID": "11000",
                                    "Date": "6-21-2011",
                                    "Cumulative SubTotal": "3399.99"
                                },
                                {
                                    "CustomerID": "11000",
                                    "Date": "6-20-2013",
                                    "Cumulative SubTotal": "5741.96"
                                },
                                {
                                    "CustomerID": "11000",
                                    "Date": "10-3-2013",
                                    "Cumulative SubTotal": "8248.99"
                                },
                                {
                                    "CustomerID": "11001",
                                    "Date": "6-17-2011",
                                    "Cumulative SubTotal": "3374.99"
                                },
                                {
                                    "CustomerID": "11001",
                                    "Date": "6-18-2013",
                                    "Cumulative SubTotal": "5794.92"
                                },
                                {
                                    "CustomerID": "11001",
                                    "Date": "5-12-2014",
                                    "Cumulative SubTotal": "6383.88"
                                },
                                {
                                    "CustomerID": "11002",
                                    "Date": "6-9-2011",
                                    "Cumulative SubTotal": "3399.99"
                                },
                                {
                                    "CustomerID": "11002",
                                    "Date": "6-2-2013",
                                    "Cumulative SubTotal": "5694.98"
                                },
                                {
                                    "CustomerID": "11002",
                                    "Date": "7-26-2013",
                                    "Cumulative SubTotal": "8114.04"
                                },
                                {
                                    "CustomerID": "11003",
                                    "Date": "5-31-2011",
                                    "Cumulative SubTotal": "3399.99"
                                },
                                {
                                    "CustomerID": "11003",
                                    "Date": "6-7-2013",
                                    "Cumulative SubTotal": "5718.95"
                                },
                                {
                                    "CustomerID": "11003",
                                    "Date": "10-10-2013",
                                    "Cumulative SubTotal": "8139.29"
                                },
                                {
                                    "CustomerID": "11004",
                                    "Date": "6-25-2011",
                                    "Cumulative SubTotal": "3399.99"
                                },
                                {
                                    "CustomerID": "11004",
                                    "Date": "6-24-2013",
                                    "Cumulative SubTotal": "5776.95"
                                },
                                {
                                    "CustomerID": "11004",
                                    "Date": "10-1-2013",
                                    "Cumulative SubTotal": "8196.01"
                                },
                                {
                                    "CustomerID": "11005",
                                    "Date": "6-1-2011",
                                    "Cumulative SubTotal": "3374.99"
                                },
                                {
                                    "CustomerID": "11005",
                                    "Date": "6-25-2013",
                                    "Cumulative SubTotal": "5737.26"
                                },
                                {
                                    "CustomerID": "11005",
                                    "Date": "10-2-2013",
                                    "Cumulative SubTotal": "8121.33"
                                },
                                {
                                    "CustomerID": "11006",
                                    "Date": "6-26-2011",
                                    "Cumulative SubTotal": "3399.99"
                                },
                                {
                                    "CustomerID": "11006",
                                    "Date": "5-31-2013",
                                    "Cumulative SubTotal": "5734.96"
                                },
                                {
                                    "CustomerID": "11006",
                                    "Date": "10-14-2013",
                                    "Cumulative SubTotal": "8119.03"
                                },
                                {
                                    "CustomerID": "11007",
                                    "Date": "6-11-2011",
                                    "Cumulative SubTotal": "3399.99"
                                },
                                {
                                    "CustomerID": "11007",
                                    "Date": "6-23-2013",
                                    "Cumulative SubTotal": "5791.94"
                                },
                                {
                                    "CustomerID": "11007",
                                    "Date": "8-19-2013",
                                    "Cumulative SubTotal": "8211.00"
                                },
                                {
                                    "CustomerID": "11008",
                                    "Date": "6-27-2011",
                                    "Cumulative SubTotal": "3374.99"
                                },
                                {
                                    "CustomerID": "11008",
                                    "Date": "6-5-2013",
                                    "Cumulative SubTotal": "5687.25"
                                },
                                {
                                    "CustomerID": "11008",
                                    "Date": "8-2-2013",
                                    "Cumulative SubTotal": "8106.31"
                                },
                                {
                                    "CustomerID": "11009",
                                    "Date": "6-29-2011",
                                    "Cumulative SubTotal": "3374.99"
                                },
                                {
                                    "CustomerID": "11009",
                                    "Date": "6-22-2013",
                                    "Cumulative SubTotal": "5672.27"
                                },
                                {
                                    "CustomerID": "11009",
                                    "Date": "10-9-2013",
                                    "Cumulative SubTotal": "8091.33"
                                },
                                {
                                    "CustomerID": "11010",
                                    "Date": "6-16-2011",
                                    "Cumulative SubTotal": "3399.99"
                                },
                                {
                                    "CustomerID": "11010",
                                    "Date": "6-13-2013",
                                    "Cumulative SubTotal": "5694.98"
                                },
                                {
                                    "CustomerID": "11010",
                                    "Date": "10-23-2013",
                                    "Cumulative SubTotal": "8088.04"
                                },
                                {
                                    "CustomerID": "11011",
                                    "Date": "6-1-2011",
                                    "Cumulative SubTotal": "3399.99"
                                },
                                {
                                    "CustomerID": "11011",
                                    "Date": "6-27-2013",
                                    "Cumulative SubTotal": "5694.98"
                                },
                                {
                                    "CustomerID": "11011",
                                    "Date": "8-19-2013",
                                    "Cumulative SubTotal": "8133.04"
                                },
                                {
                                    "CustomerID": "11012",
                                    "Date": "8-16-2013",
                                    "Cumulative SubTotal": "74.98"
                                },
                                {
                                    "CustomerID": "11012",
                                    "Date": "3-17-2014",
                                    "Cumulative SubTotal": "81.26"
                                },
                                {
                                    "CustomerID": "11013",
                                    "Date": "9-13-2013",
                                    "Cumulative SubTotal": "38.98"
                                },
                                {
                                    "CustomerID": "11013",
                                    "Date": "6-23-2014",
                                    "Cumulative SubTotal": "113.96"
                                },
                                {
                                    "CustomerID": "11014",
                                    "Date": "8-23-2013",
                                    "Cumulative SubTotal": "38.98"
                                },
                                {
                                    "CustomerID": "11014",
                                    "Date": "9-30-2013",
                                    "Cumulative SubTotal": "138.45"
                                },
                                {
                                    "CustomerID": "11015",
                                    "Date": "6-20-2013",
                                    "Cumulative SubTotal": "2500.97"
                                },
                                {
                                    "CustomerID": "11016",
                                    "Date": "7-12-2013",
                                    "Cumulative SubTotal": "2332.28"
                                },
                                {
                                    "CustomerID": "11017",
                                    "Date": "6-14-2011",
                                    "Cumulative SubTotal": "3374.99"
                                },
                                {
                                    "CustomerID": "11017",
                                    "Date": "6-3-2013",
                                    "Cumulative SubTotal": "5691.96"
                                },
                                {
                                    "CustomerID": "11017",
                                    "Date": "3-16-2014",
                                    "Cumulative SubTotal": "6434.31"
                                },
                                {
                                    "CustomerID": "11018",
                                    "Date": "6-19-2011",
                                    "Cumulative SubTotal": "3399.99"
                                },
                                {
                                    "CustomerID": "11018",
                                    "Date": "6-18-2013",
                                    "Cumulative SubTotal": "5741.96"
                                },
                                {
                                    "CustomerID": "11018",
                                    "Date": "3-26-2014",
                                    "Cumulative SubTotal": "6533.28"
                                }
                            ]
                        },
                        "text/html": [
                            "<table>",
                            "<tr><th>CustomerID</th><th>Date</th><th>Cumulative SubTotal</th></tr>",
                            "<tr><td>11000</td><td>6-21-2011</td><td>3399.99</td></tr>",
                            "<tr><td>11000</td><td>6-20-2013</td><td>5741.96</td></tr>",
                            "<tr><td>11000</td><td>10-3-2013</td><td>8248.99</td></tr>",
                            "<tr><td>11001</td><td>6-17-2011</td><td>3374.99</td></tr>",
                            "<tr><td>11001</td><td>6-18-2013</td><td>5794.92</td></tr>",
                            "<tr><td>11001</td><td>5-12-2014</td><td>6383.88</td></tr>",
                            "<tr><td>11002</td><td>6-9-2011</td><td>3399.99</td></tr>",
                            "<tr><td>11002</td><td>6-2-2013</td><td>5694.98</td></tr>",
                            "<tr><td>11002</td><td>7-26-2013</td><td>8114.04</td></tr>",
                            "<tr><td>11003</td><td>5-31-2011</td><td>3399.99</td></tr>",
                            "<tr><td>11003</td><td>6-7-2013</td><td>5718.95</td></tr>",
                            "<tr><td>11003</td><td>10-10-2013</td><td>8139.29</td></tr>",
                            "<tr><td>11004</td><td>6-25-2011</td><td>3399.99</td></tr>",
                            "<tr><td>11004</td><td>6-24-2013</td><td>5776.95</td></tr>",
                            "<tr><td>11004</td><td>10-1-2013</td><td>8196.01</td></tr>",
                            "<tr><td>11005</td><td>6-1-2011</td><td>3374.99</td></tr>",
                            "<tr><td>11005</td><td>6-25-2013</td><td>5737.26</td></tr>",
                            "<tr><td>11005</td><td>10-2-2013</td><td>8121.33</td></tr>",
                            "<tr><td>11006</td><td>6-26-2011</td><td>3399.99</td></tr>",
                            "<tr><td>11006</td><td>5-31-2013</td><td>5734.96</td></tr>",
                            "<tr><td>11006</td><td>10-14-2013</td><td>8119.03</td></tr>",
                            "<tr><td>11007</td><td>6-11-2011</td><td>3399.99</td></tr>",
                            "<tr><td>11007</td><td>6-23-2013</td><td>5791.94</td></tr>",
                            "<tr><td>11007</td><td>8-19-2013</td><td>8211.00</td></tr>",
                            "<tr><td>11008</td><td>6-27-2011</td><td>3374.99</td></tr>",
                            "<tr><td>11008</td><td>6-5-2013</td><td>5687.25</td></tr>",
                            "<tr><td>11008</td><td>8-2-2013</td><td>8106.31</td></tr>",
                            "<tr><td>11009</td><td>6-29-2011</td><td>3374.99</td></tr>",
                            "<tr><td>11009</td><td>6-22-2013</td><td>5672.27</td></tr>",
                            "<tr><td>11009</td><td>10-9-2013</td><td>8091.33</td></tr>",
                            "<tr><td>11010</td><td>6-16-2011</td><td>3399.99</td></tr>",
                            "<tr><td>11010</td><td>6-13-2013</td><td>5694.98</td></tr>",
                            "<tr><td>11010</td><td>10-23-2013</td><td>8088.04</td></tr>",
                            "<tr><td>11011</td><td>6-1-2011</td><td>3399.99</td></tr>",
                            "<tr><td>11011</td><td>6-27-2013</td><td>5694.98</td></tr>",
                            "<tr><td>11011</td><td>8-19-2013</td><td>8133.04</td></tr>",
                            "<tr><td>11012</td><td>8-16-2013</td><td>74.98</td></tr>",
                            "<tr><td>11012</td><td>3-17-2014</td><td>81.26</td></tr>",
                            "<tr><td>11013</td><td>9-13-2013</td><td>38.98</td></tr>",
                            "<tr><td>11013</td><td>6-23-2014</td><td>113.96</td></tr>",
                            "<tr><td>11014</td><td>8-23-2013</td><td>38.98</td></tr>",
                            "<tr><td>11014</td><td>9-30-2013</td><td>138.45</td></tr>",
                            "<tr><td>11015</td><td>6-20-2013</td><td>2500.97</td></tr>",
                            "<tr><td>11016</td><td>7-12-2013</td><td>2332.28</td></tr>",
                            "<tr><td>11017</td><td>6-14-2011</td><td>3374.99</td></tr>",
                            "<tr><td>11017</td><td>6-3-2013</td><td>5691.96</td></tr>",
                            "<tr><td>11017</td><td>3-16-2014</td><td>6434.31</td></tr>",
                            "<tr><td>11018</td><td>6-19-2011</td><td>3399.99</td></tr>",
                            "<tr><td>11018</td><td>6-18-2013</td><td>5741.96</td></tr>",
                            "<tr><td>11018</td><td>3-26-2014</td><td>6533.28</td></tr>",
                            "</table>"
                        ]
                    }
                }
            ],
            "execution_count": 40
        },
        {
            "cell_type": "markdown",
            "source": [
                "### Proposition 6: Average List Price by Product Subcategory\n",
                "\n",
                "In the `Production.Product` table, calculate the average `ListPrice` for each `ProductSubcategoryID`. Use the `AVG` window function to calculate the average price within each subcategory."
            ],
            "metadata": {
                "azdata_cell_guid": "07f19839-3f88-48ff-a6f8-eb01339d2ff9"
            },
            "attachments": {}
        },
        {
            "cell_type": "code",
            "source": [
                "SELECT  DISTINCT ProductSubcategoryID,\r\n",
                "        AVG(ListPrice) OVER (PARTITION BY ProductSubcategoryID) as [Avg List Price]\r\n",
                "FROM Production.Product\r\n",
                "WHERE ProductSubcategoryID IS NOT NULL"
            ],
            "metadata": {
                "azdata_cell_guid": "466f0568-55f0-4b90-b7ba-6776ab4a44b3",
                "language": "sql"
            },
            "outputs": [
                {
                    "output_type": "display_data",
                    "data": {
                        "text/html": "(37 rows affected)"
                    },
                    "metadata": {}
                },
                {
                    "output_type": "display_data",
                    "data": {
                        "text/html": "Total execution time: 00:00:00.100"
                    },
                    "metadata": {}
                },
                {
                    "output_type": "execute_result",
                    "metadata": {},
                    "execution_count": 42,
                    "data": {
                        "application/vnd.dataresource+json": {
                            "schema": {
                                "fields": [
                                    {
                                        "name": "ProductSubcategoryID"
                                    },
                                    {
                                        "name": "Avg List Price"
                                    }
                                ]
                            },
                            "data": [
                                {
                                    "ProductSubcategoryID": "1",
                                    "Avg List Price": "1683.365"
                                },
                                {
                                    "ProductSubcategoryID": "2",
                                    "Avg List Price": "1597.45"
                                },
                                {
                                    "ProductSubcategoryID": "3",
                                    "Avg List Price": "1425.2481"
                                },
                                {
                                    "ProductSubcategoryID": "4",
                                    "Avg List Price": "73.89"
                                },
                                {
                                    "ProductSubcategoryID": "5",
                                    "Avg List Price": "92.24"
                                },
                                {
                                    "ProductSubcategoryID": "6",
                                    "Avg List Price": "106.50"
                                },
                                {
                                    "ProductSubcategoryID": "7",
                                    "Avg List Price": "20.24"
                                },
                                {
                                    "ProductSubcategoryID": "8",
                                    "Avg List Price": "278.99"
                                },
                                {
                                    "ProductSubcategoryID": "9",
                                    "Avg List Price": "106.475"
                                },
                                {
                                    "ProductSubcategoryID": "10",
                                    "Avg List Price": "184.40"
                                },
                                {
                                    "ProductSubcategoryID": "11",
                                    "Avg List Price": "87.0733"
                                },
                                {
                                    "ProductSubcategoryID": "12",
                                    "Avg List Price": "678.2535"
                                },
                                {
                                    "ProductSubcategoryID": "13",
                                    "Avg List Price": "64.0185"
                                },
                                {
                                    "ProductSubcategoryID": "14",
                                    "Avg List Price": "780.0436"
                                },
                                {
                                    "ProductSubcategoryID": "15",
                                    "Avg List Price": "39.6333"
                                },
                                {
                                    "ProductSubcategoryID": "16",
                                    "Avg List Price": "631.4155"
                                },
                                {
                                    "ProductSubcategoryID": "17",
                                    "Avg List Price": "220.9292"
                                },
                                {
                                    "ProductSubcategoryID": "18",
                                    "Avg List Price": "89.99"
                                },
                                {
                                    "ProductSubcategoryID": "19",
                                    "Avg List Price": "8.99"
                                },
                                {
                                    "ProductSubcategoryID": "20",
                                    "Avg List Price": "31.24"
                                },
                                {
                                    "ProductSubcategoryID": "21",
                                    "Avg List Price": "51.99"
                                },
                                {
                                    "ProductSubcategoryID": "22",
                                    "Avg List Price": "64.2757"
                                },
                                {
                                    "ProductSubcategoryID": "23",
                                    "Avg List Price": "9.245"
                                },
                                {
                                    "ProductSubcategoryID": "24",
                                    "Avg List Price": "74.99"
                                },
                                {
                                    "ProductSubcategoryID": "25",
                                    "Avg List Price": "63.50"
                                },
                                {
                                    "ProductSubcategoryID": "26",
                                    "Avg List Price": "120.00"
                                },
                                {
                                    "ProductSubcategoryID": "27",
                                    "Avg List Price": "159.00"
                                },
                                {
                                    "ProductSubcategoryID": "28",
                                    "Avg List Price": "7.99"
                                },
                                {
                                    "ProductSubcategoryID": "29",
                                    "Avg List Price": "7.95"
                                },
                                {
                                    "ProductSubcategoryID": "30",
                                    "Avg List Price": "21.98"
                                },
                                {
                                    "ProductSubcategoryID": "31",
                                    "Avg List Price": "34.99"
                                },
                                {
                                    "ProductSubcategoryID": "32",
                                    "Avg List Price": "54.99"
                                },
                                {
                                    "ProductSubcategoryID": "33",
                                    "Avg List Price": "31.3233"
                                },
                                {
                                    "ProductSubcategoryID": "34",
                                    "Avg List Price": "25.00"
                                },
                                {
                                    "ProductSubcategoryID": "35",
                                    "Avg List Price": "125.00"
                                },
                                {
                                    "ProductSubcategoryID": "36",
                                    "Avg List Price": "22.49"
                                },
                                {
                                    "ProductSubcategoryID": "37",
                                    "Avg List Price": "19.4827"
                                }
                            ]
                        },
                        "text/html": [
                            "<table>",
                            "<tr><th>ProductSubcategoryID</th><th>Avg List Price</th></tr>",
                            "<tr><td>1</td><td>1683.365</td></tr>",
                            "<tr><td>2</td><td>1597.45</td></tr>",
                            "<tr><td>3</td><td>1425.2481</td></tr>",
                            "<tr><td>4</td><td>73.89</td></tr>",
                            "<tr><td>5</td><td>92.24</td></tr>",
                            "<tr><td>6</td><td>106.50</td></tr>",
                            "<tr><td>7</td><td>20.24</td></tr>",
                            "<tr><td>8</td><td>278.99</td></tr>",
                            "<tr><td>9</td><td>106.475</td></tr>",
                            "<tr><td>10</td><td>184.40</td></tr>",
                            "<tr><td>11</td><td>87.0733</td></tr>",
                            "<tr><td>12</td><td>678.2535</td></tr>",
                            "<tr><td>13</td><td>64.0185</td></tr>",
                            "<tr><td>14</td><td>780.0436</td></tr>",
                            "<tr><td>15</td><td>39.6333</td></tr>",
                            "<tr><td>16</td><td>631.4155</td></tr>",
                            "<tr><td>17</td><td>220.9292</td></tr>",
                            "<tr><td>18</td><td>89.99</td></tr>",
                            "<tr><td>19</td><td>8.99</td></tr>",
                            "<tr><td>20</td><td>31.24</td></tr>",
                            "<tr><td>21</td><td>51.99</td></tr>",
                            "<tr><td>22</td><td>64.2757</td></tr>",
                            "<tr><td>23</td><td>9.245</td></tr>",
                            "<tr><td>24</td><td>74.99</td></tr>",
                            "<tr><td>25</td><td>63.50</td></tr>",
                            "<tr><td>26</td><td>120.00</td></tr>",
                            "<tr><td>27</td><td>159.00</td></tr>",
                            "<tr><td>28</td><td>7.99</td></tr>",
                            "<tr><td>29</td><td>7.95</td></tr>",
                            "<tr><td>30</td><td>21.98</td></tr>",
                            "<tr><td>31</td><td>34.99</td></tr>",
                            "<tr><td>32</td><td>54.99</td></tr>",
                            "<tr><td>33</td><td>31.3233</td></tr>",
                            "<tr><td>34</td><td>25.00</td></tr>",
                            "<tr><td>35</td><td>125.00</td></tr>",
                            "<tr><td>36</td><td>22.49</td></tr>",
                            "<tr><td>37</td><td>19.4827</td></tr>",
                            "</table>"
                        ]
                    }
                }
            ],
            "execution_count": 42
        },
        {
            "cell_type": "markdown",
            "source": [
                "### Proposition 7: Difference in Sick Leave Hours\r\n",
                "List each employee from the `HumanResources.Employee` table, along with their `JobTitle`, `SickLeaveHours`, and the difference in `SickLeaveHours` compared to the next employee. Order by `JobTitle` and `SickLeaveHours`, and use the `LEAD` function to calculate this difference.\r\n",
                ""
            ],
            "metadata": {
                "azdata_cell_guid": "fb35243e-4492-4d18-af89-98a06f1b4a39"
            },
            "attachments": {}
        },
        {
            "cell_type": "code",
            "source": [
                "SELECT  TOP 50 BusinessEntityID, JobTitle, SickLeaveHours,\r\n",
                "        LEAD(SickLeaveHours) OVER (ORDER BY BusinessEntityID) as [NextSickLeaveHours],\r\n",
                "        ABS([SickLeaveHours] - LEAD(SickLeaveHours) OVER (ORDER BY BusinessEntityID)) as [SickLeaveHours Difference]\r\n",
                "FROM HumanResources.Employee"
            ],
            "metadata": {
                "azdata_cell_guid": "34c4e835-1bec-4fe0-96df-634baa259f54",
                "language": "sql"
            },
            "outputs": [
                {
                    "output_type": "display_data",
                    "data": {
                        "text/html": "(50 rows affected)"
                    },
                    "metadata": {}
                },
                {
                    "output_type": "display_data",
                    "data": {
                        "text/html": "Total execution time: 00:00:00.019"
                    },
                    "metadata": {}
                },
                {
                    "output_type": "execute_result",
                    "metadata": {},
                    "execution_count": 47,
                    "data": {
                        "application/vnd.dataresource+json": {
                            "schema": {
                                "fields": [
                                    {
                                        "name": "BusinessEntityID"
                                    },
                                    {
                                        "name": "JobTitle"
                                    },
                                    {
                                        "name": "SickLeaveHours"
                                    },
                                    {
                                        "name": "NextSickLeaveHours"
                                    },
                                    {
                                        "name": "SickLeaveHours Difference"
                                    }
                                ]
                            },
                            "data": [
                                {
                                    "BusinessEntityID": "1",
                                    "JobTitle": "Chief Executive Officer",
                                    "SickLeaveHours": "69",
                                    "NextSickLeaveHours": "20",
                                    "SickLeaveHours Difference": "49"
                                },
                                {
                                    "BusinessEntityID": "2",
                                    "JobTitle": "Vice President of Engineering",
                                    "SickLeaveHours": "20",
                                    "NextSickLeaveHours": "21",
                                    "SickLeaveHours Difference": "1"
                                },
                                {
                                    "BusinessEntityID": "3",
                                    "JobTitle": "Engineering Manager",
                                    "SickLeaveHours": "21",
                                    "NextSickLeaveHours": "80",
                                    "SickLeaveHours Difference": "59"
                                },
                                {
                                    "BusinessEntityID": "4",
                                    "JobTitle": "Senior Tool Designer",
                                    "SickLeaveHours": "80",
                                    "NextSickLeaveHours": "22",
                                    "SickLeaveHours Difference": "58"
                                },
                                {
                                    "BusinessEntityID": "5",
                                    "JobTitle": "Design Engineer",
                                    "SickLeaveHours": "22",
                                    "NextSickLeaveHours": "23",
                                    "SickLeaveHours Difference": "1"
                                },
                                {
                                    "BusinessEntityID": "6",
                                    "JobTitle": "Design Engineer",
                                    "SickLeaveHours": "23",
                                    "NextSickLeaveHours": "50",
                                    "SickLeaveHours Difference": "27"
                                },
                                {
                                    "BusinessEntityID": "7",
                                    "JobTitle": "Research and Development Manager",
                                    "SickLeaveHours": "50",
                                    "NextSickLeaveHours": "51",
                                    "SickLeaveHours Difference": "1"
                                },
                                {
                                    "BusinessEntityID": "8",
                                    "JobTitle": "Research and Development Engineer",
                                    "SickLeaveHours": "51",
                                    "NextSickLeaveHours": "51",
                                    "SickLeaveHours Difference": "0"
                                },
                                {
                                    "BusinessEntityID": "9",
                                    "JobTitle": "Research and Development Engineer",
                                    "SickLeaveHours": "51",
                                    "NextSickLeaveHours": "64",
                                    "SickLeaveHours Difference": "13"
                                },
                                {
                                    "BusinessEntityID": "10",
                                    "JobTitle": "Research and Development Manager",
                                    "SickLeaveHours": "64",
                                    "NextSickLeaveHours": "23",
                                    "SickLeaveHours Difference": "41"
                                },
                                {
                                    "BusinessEntityID": "11",
                                    "JobTitle": "Senior Tool Designer",
                                    "SickLeaveHours": "23",
                                    "NextSickLeaveHours": "24",
                                    "SickLeaveHours Difference": "1"
                                },
                                {
                                    "BusinessEntityID": "12",
                                    "JobTitle": "Tool Designer",
                                    "SickLeaveHours": "24",
                                    "NextSickLeaveHours": "24",
                                    "SickLeaveHours Difference": "0"
                                },
                                {
                                    "BusinessEntityID": "13",
                                    "JobTitle": "Tool Designer",
                                    "SickLeaveHours": "24",
                                    "NextSickLeaveHours": "21",
                                    "SickLeaveHours Difference": "3"
                                },
                                {
                                    "BusinessEntityID": "14",
                                    "JobTitle": "Senior Design Engineer",
                                    "SickLeaveHours": "21",
                                    "NextSickLeaveHours": "22",
                                    "SickLeaveHours Difference": "1"
                                },
                                {
                                    "BusinessEntityID": "15",
                                    "JobTitle": "Design Engineer",
                                    "SickLeaveHours": "22",
                                    "NextSickLeaveHours": "40",
                                    "SickLeaveHours Difference": "18"
                                },
                                {
                                    "BusinessEntityID": "16",
                                    "JobTitle": "Marketing Manager",
                                    "SickLeaveHours": "40",
                                    "NextSickLeaveHours": "41",
                                    "SickLeaveHours Difference": "1"
                                },
                                {
                                    "BusinessEntityID": "17",
                                    "JobTitle": "Marketing Assistant",
                                    "SickLeaveHours": "41",
                                    "NextSickLeaveHours": "44",
                                    "SickLeaveHours Difference": "3"
                                },
                                {
                                    "BusinessEntityID": "18",
                                    "JobTitle": "Marketing Specialist",
                                    "SickLeaveHours": "44",
                                    "NextSickLeaveHours": "41",
                                    "SickLeaveHours Difference": "3"
                                },
                                {
                                    "BusinessEntityID": "19",
                                    "JobTitle": "Marketing Assistant",
                                    "SickLeaveHours": "41",
                                    "NextSickLeaveHours": "40",
                                    "SickLeaveHours Difference": "1"
                                },
                                {
                                    "BusinessEntityID": "20",
                                    "JobTitle": "Marketing Assistant",
                                    "SickLeaveHours": "40",
                                    "NextSickLeaveHours": "42",
                                    "SickLeaveHours Difference": "2"
                                },
                                {
                                    "BusinessEntityID": "21",
                                    "JobTitle": "Marketing Specialist",
                                    "SickLeaveHours": "42",
                                    "NextSickLeaveHours": "42",
                                    "SickLeaveHours Difference": "0"
                                },
                                {
                                    "BusinessEntityID": "22",
                                    "JobTitle": "Marketing Specialist",
                                    "SickLeaveHours": "42",
                                    "NextSickLeaveHours": "43",
                                    "SickLeaveHours Difference": "1"
                                },
                                {
                                    "BusinessEntityID": "23",
                                    "JobTitle": "Marketing Specialist",
                                    "SickLeaveHours": "43",
                                    "NextSickLeaveHours": "43",
                                    "SickLeaveHours Difference": "0"
                                },
                                {
                                    "BusinessEntityID": "24",
                                    "JobTitle": "Marketing Specialist",
                                    "SickLeaveHours": "43",
                                    "NextSickLeaveHours": "52",
                                    "SickLeaveHours Difference": "9"
                                },
                                {
                                    "BusinessEntityID": "25",
                                    "JobTitle": "Vice President of Production",
                                    "SickLeaveHours": "52",
                                    "NextSickLeaveHours": "41",
                                    "SickLeaveHours Difference": "11"
                                },
                                {
                                    "BusinessEntityID": "26",
                                    "JobTitle": "Production Control Manager",
                                    "SickLeaveHours": "41",
                                    "NextSickLeaveHours": "60",
                                    "SickLeaveHours Difference": "19"
                                },
                                {
                                    "BusinessEntityID": "27",
                                    "JobTitle": "Production Supervisor - WC60",
                                    "SickLeaveHours": "60",
                                    "NextSickLeaveHours": "30",
                                    "SickLeaveHours Difference": "30"
                                },
                                {
                                    "BusinessEntityID": "28",
                                    "JobTitle": "Production Technician - WC60",
                                    "SickLeaveHours": "30",
                                    "NextSickLeaveHours": "29",
                                    "SickLeaveHours Difference": "1"
                                },
                                {
                                    "BusinessEntityID": "29",
                                    "JobTitle": "Production Technician - WC60",
                                    "SickLeaveHours": "29",
                                    "NextSickLeaveHours": "27",
                                    "SickLeaveHours Difference": "2"
                                },
                                {
                                    "BusinessEntityID": "30",
                                    "JobTitle": "Production Technician - WC60",
                                    "SickLeaveHours": "27",
                                    "NextSickLeaveHours": "29",
                                    "SickLeaveHours Difference": "2"
                                },
                                {
                                    "BusinessEntityID": "31",
                                    "JobTitle": "Production Technician - WC60",
                                    "SickLeaveHours": "29",
                                    "NextSickLeaveHours": "31",
                                    "SickLeaveHours Difference": "2"
                                },
                                {
                                    "BusinessEntityID": "32",
                                    "JobTitle": "Production Technician - WC60",
                                    "SickLeaveHours": "31",
                                    "NextSickLeaveHours": "28",
                                    "SickLeaveHours Difference": "3"
                                },
                                {
                                    "BusinessEntityID": "33",
                                    "JobTitle": "Production Technician - WC60",
                                    "SickLeaveHours": "28",
                                    "NextSickLeaveHours": "27",
                                    "SickLeaveHours Difference": "1"
                                },
                                {
                                    "BusinessEntityID": "34",
                                    "JobTitle": "Production Technician - WC60",
                                    "SickLeaveHours": "27",
                                    "NextSickLeaveHours": "31",
                                    "SickLeaveHours Difference": "4"
                                },
                                {
                                    "BusinessEntityID": "35",
                                    "JobTitle": "Production Technician - WC60",
                                    "SickLeaveHours": "31",
                                    "NextSickLeaveHours": "30",
                                    "SickLeaveHours Difference": "1"
                                },
                                {
                                    "BusinessEntityID": "36",
                                    "JobTitle": "Production Technician - WC60",
                                    "SickLeaveHours": "30",
                                    "NextSickLeaveHours": "28",
                                    "SickLeaveHours Difference": "2"
                                },
                                {
                                    "BusinessEntityID": "37",
                                    "JobTitle": "Production Technician - WC60",
                                    "SickLeaveHours": "28",
                                    "NextSickLeaveHours": "32",
                                    "SickLeaveHours Difference": "4"
                                },
                                {
                                    "BusinessEntityID": "38",
                                    "JobTitle": "Production Technician - WC60",
                                    "SickLeaveHours": "32",
                                    "NextSickLeaveHours": "32",
                                    "SickLeaveHours Difference": "0"
                                },
                                {
                                    "BusinessEntityID": "39",
                                    "JobTitle": "Production Technician - WC60",
                                    "SickLeaveHours": "32",
                                    "NextSickLeaveHours": "61",
                                    "SickLeaveHours Difference": "29"
                                },
                                {
                                    "BusinessEntityID": "40",
                                    "JobTitle": "Production Supervisor - WC60",
                                    "SickLeaveHours": "61",
                                    "NextSickLeaveHours": "37",
                                    "SickLeaveHours Difference": "24"
                                },
                                {
                                    "BusinessEntityID": "41",
                                    "JobTitle": "Production Technician - WC60",
                                    "SickLeaveHours": "37",
                                    "NextSickLeaveHours": "39",
                                    "SickLeaveHours Difference": "2"
                                },
                                {
                                    "BusinessEntityID": "42",
                                    "JobTitle": "Production Technician - WC60",
                                    "SickLeaveHours": "39",
                                    "NextSickLeaveHours": "37",
                                    "SickLeaveHours Difference": "2"
                                },
                                {
                                    "BusinessEntityID": "43",
                                    "JobTitle": "Production Technician - WC60",
                                    "SickLeaveHours": "37",
                                    "NextSickLeaveHours": "39",
                                    "SickLeaveHours Difference": "2"
                                },
                                {
                                    "BusinessEntityID": "44",
                                    "JobTitle": "Production Technician - WC60",
                                    "SickLeaveHours": "39",
                                    "NextSickLeaveHours": "38",
                                    "SickLeaveHours Difference": "1"
                                },
                                {
                                    "BusinessEntityID": "45",
                                    "JobTitle": "Production Technician - WC60",
                                    "SickLeaveHours": "38",
                                    "NextSickLeaveHours": "38",
                                    "SickLeaveHours Difference": "0"
                                },
                                {
                                    "BusinessEntityID": "46",
                                    "JobTitle": "Production Technician - WC60",
                                    "SickLeaveHours": "38",
                                    "NextSickLeaveHours": "52",
                                    "SickLeaveHours Difference": "14"
                                },
                                {
                                    "BusinessEntityID": "47",
                                    "JobTitle": "Production Supervisor - WC10",
                                    "SickLeaveHours": "52",
                                    "NextSickLeaveHours": "61",
                                    "SickLeaveHours Difference": "9"
                                },
                                {
                                    "BusinessEntityID": "48",
                                    "JobTitle": "Production Technician - WC10",
                                    "SickLeaveHours": "61",
                                    "NextSickLeaveHours": "64",
                                    "SickLeaveHours Difference": "3"
                                },
                                {
                                    "BusinessEntityID": "49",
                                    "JobTitle": "Production Technician - WC10",
                                    "SickLeaveHours": "64",
                                    "NextSickLeaveHours": "62",
                                    "SickLeaveHours Difference": "2"
                                },
                                {
                                    "BusinessEntityID": "50",
                                    "JobTitle": "Production Technician - WC10",
                                    "SickLeaveHours": "62",
                                    "NextSickLeaveHours": "62",
                                    "SickLeaveHours Difference": "0"
                                }
                            ]
                        },
                        "text/html": [
                            "<table>",
                            "<tr><th>BusinessEntityID</th><th>JobTitle</th><th>SickLeaveHours</th><th>NextSickLeaveHours</th><th>SickLeaveHours Difference</th></tr>",
                            "<tr><td>1</td><td>Chief Executive Officer</td><td>69</td><td>20</td><td>49</td></tr>",
                            "<tr><td>2</td><td>Vice President of Engineering</td><td>20</td><td>21</td><td>1</td></tr>",
                            "<tr><td>3</td><td>Engineering Manager</td><td>21</td><td>80</td><td>59</td></tr>",
                            "<tr><td>4</td><td>Senior Tool Designer</td><td>80</td><td>22</td><td>58</td></tr>",
                            "<tr><td>5</td><td>Design Engineer</td><td>22</td><td>23</td><td>1</td></tr>",
                            "<tr><td>6</td><td>Design Engineer</td><td>23</td><td>50</td><td>27</td></tr>",
                            "<tr><td>7</td><td>Research and Development Manager</td><td>50</td><td>51</td><td>1</td></tr>",
                            "<tr><td>8</td><td>Research and Development Engineer</td><td>51</td><td>51</td><td>0</td></tr>",
                            "<tr><td>9</td><td>Research and Development Engineer</td><td>51</td><td>64</td><td>13</td></tr>",
                            "<tr><td>10</td><td>Research and Development Manager</td><td>64</td><td>23</td><td>41</td></tr>",
                            "<tr><td>11</td><td>Senior Tool Designer</td><td>23</td><td>24</td><td>1</td></tr>",
                            "<tr><td>12</td><td>Tool Designer</td><td>24</td><td>24</td><td>0</td></tr>",
                            "<tr><td>13</td><td>Tool Designer</td><td>24</td><td>21</td><td>3</td></tr>",
                            "<tr><td>14</td><td>Senior Design Engineer</td><td>21</td><td>22</td><td>1</td></tr>",
                            "<tr><td>15</td><td>Design Engineer</td><td>22</td><td>40</td><td>18</td></tr>",
                            "<tr><td>16</td><td>Marketing Manager</td><td>40</td><td>41</td><td>1</td></tr>",
                            "<tr><td>17</td><td>Marketing Assistant</td><td>41</td><td>44</td><td>3</td></tr>",
                            "<tr><td>18</td><td>Marketing Specialist</td><td>44</td><td>41</td><td>3</td></tr>",
                            "<tr><td>19</td><td>Marketing Assistant</td><td>41</td><td>40</td><td>1</td></tr>",
                            "<tr><td>20</td><td>Marketing Assistant</td><td>40</td><td>42</td><td>2</td></tr>",
                            "<tr><td>21</td><td>Marketing Specialist</td><td>42</td><td>42</td><td>0</td></tr>",
                            "<tr><td>22</td><td>Marketing Specialist</td><td>42</td><td>43</td><td>1</td></tr>",
                            "<tr><td>23</td><td>Marketing Specialist</td><td>43</td><td>43</td><td>0</td></tr>",
                            "<tr><td>24</td><td>Marketing Specialist</td><td>43</td><td>52</td><td>9</td></tr>",
                            "<tr><td>25</td><td>Vice President of Production</td><td>52</td><td>41</td><td>11</td></tr>",
                            "<tr><td>26</td><td>Production Control Manager</td><td>41</td><td>60</td><td>19</td></tr>",
                            "<tr><td>27</td><td>Production Supervisor - WC60</td><td>60</td><td>30</td><td>30</td></tr>",
                            "<tr><td>28</td><td>Production Technician - WC60</td><td>30</td><td>29</td><td>1</td></tr>",
                            "<tr><td>29</td><td>Production Technician - WC60</td><td>29</td><td>27</td><td>2</td></tr>",
                            "<tr><td>30</td><td>Production Technician - WC60</td><td>27</td><td>29</td><td>2</td></tr>",
                            "<tr><td>31</td><td>Production Technician - WC60</td><td>29</td><td>31</td><td>2</td></tr>",
                            "<tr><td>32</td><td>Production Technician - WC60</td><td>31</td><td>28</td><td>3</td></tr>",
                            "<tr><td>33</td><td>Production Technician - WC60</td><td>28</td><td>27</td><td>1</td></tr>",
                            "<tr><td>34</td><td>Production Technician - WC60</td><td>27</td><td>31</td><td>4</td></tr>",
                            "<tr><td>35</td><td>Production Technician - WC60</td><td>31</td><td>30</td><td>1</td></tr>",
                            "<tr><td>36</td><td>Production Technician - WC60</td><td>30</td><td>28</td><td>2</td></tr>",
                            "<tr><td>37</td><td>Production Technician - WC60</td><td>28</td><td>32</td><td>4</td></tr>",
                            "<tr><td>38</td><td>Production Technician - WC60</td><td>32</td><td>32</td><td>0</td></tr>",
                            "<tr><td>39</td><td>Production Technician - WC60</td><td>32</td><td>61</td><td>29</td></tr>",
                            "<tr><td>40</td><td>Production Supervisor - WC60</td><td>61</td><td>37</td><td>24</td></tr>",
                            "<tr><td>41</td><td>Production Technician - WC60</td><td>37</td><td>39</td><td>2</td></tr>",
                            "<tr><td>42</td><td>Production Technician - WC60</td><td>39</td><td>37</td><td>2</td></tr>",
                            "<tr><td>43</td><td>Production Technician - WC60</td><td>37</td><td>39</td><td>2</td></tr>",
                            "<tr><td>44</td><td>Production Technician - WC60</td><td>39</td><td>38</td><td>1</td></tr>",
                            "<tr><td>45</td><td>Production Technician - WC60</td><td>38</td><td>38</td><td>0</td></tr>",
                            "<tr><td>46</td><td>Production Technician - WC60</td><td>38</td><td>52</td><td>14</td></tr>",
                            "<tr><td>47</td><td>Production Supervisor - WC10</td><td>52</td><td>61</td><td>9</td></tr>",
                            "<tr><td>48</td><td>Production Technician - WC10</td><td>61</td><td>64</td><td>3</td></tr>",
                            "<tr><td>49</td><td>Production Technician - WC10</td><td>64</td><td>62</td><td>2</td></tr>",
                            "<tr><td>50</td><td>Production Technician - WC10</td><td>62</td><td>62</td><td>0</td></tr>",
                            "</table>"
                        ]
                    }
                }
            ],
            "execution_count": 47
        },
        {
            "cell_type": "markdown",
            "source": [
                "### Proposition 8: NTILE Quartiles for Order Quantities\r\n",
                "In the `Sales.SalesOrderDetail` table, assign each order line item within each `ProductID` to an NTILE quartile based on `OrderQty`. This will divide order quantities into quartiles within each product.\r\n",
                ""
            ],
            "metadata": {
                "azdata_cell_guid": "3f9383a5-d182-4458-8cc6-db089657cd03"
            },
            "attachments": {}
        },
        {
            "cell_type": "code",
            "source": [
                "SELECT TOP(50)ProductID, OrderQty,\r\n",
                "        NTILE(4) OVER(PARTITION BY ProductID Order BY OrderQty) as ntile\r\n",
                "FROM Sales.SalesOrderDetail\r\n",
                "ORDER BY ntile desc\r\n",
                ""
            ],
            "metadata": {
                "azdata_cell_guid": "d68c5303-da90-4a6f-9db3-777f539144a7",
                "language": "sql"
            },
            "outputs": [
                {
                    "output_type": "display_data",
                    "data": {
                        "text/html": "(50 rows affected)"
                    },
                    "metadata": {}
                },
                {
                    "output_type": "display_data",
                    "data": {
                        "text/html": "Total execution time: 00:00:00.259"
                    },
                    "metadata": {}
                },
                {
                    "output_type": "execute_result",
                    "metadata": {},
                    "execution_count": 58,
                    "data": {
                        "application/vnd.dataresource+json": {
                            "schema": {
                                "fields": [
                                    {
                                        "name": "ProductID"
                                    },
                                    {
                                        "name": "OrderQty"
                                    },
                                    {
                                        "name": "ntile"
                                    }
                                ]
                            },
                            "data": [
                                {
                                    "ProductID": "715",
                                    "OrderQty": "6",
                                    "ntile": "4"
                                },
                                {
                                    "ProductID": "716",
                                    "OrderQty": "4",
                                    "ntile": "4"
                                },
                                {
                                    "ProductID": "709",
                                    "OrderQty": "6",
                                    "ntile": "4"
                                },
                                {
                                    "ProductID": "707",
                                    "OrderQty": "1",
                                    "ntile": "4"
                                },
                                {
                                    "ProductID": "719",
                                    "OrderQty": "6",
                                    "ntile": "4"
                                },
                                {
                                    "ProductID": "712",
                                    "OrderQty": "3",
                                    "ntile": "4"
                                },
                                {
                                    "ProductID": "713",
                                    "OrderQty": "1",
                                    "ntile": "4"
                                },
                                {
                                    "ProductID": "711",
                                    "OrderQty": "2",
                                    "ntile": "4"
                                },
                                {
                                    "ProductID": "715",
                                    "OrderQty": "6",
                                    "ntile": "4"
                                },
                                {
                                    "ProductID": "716",
                                    "OrderQty": "4",
                                    "ntile": "4"
                                },
                                {
                                    "ProductID": "709",
                                    "OrderQty": "6",
                                    "ntile": "4"
                                },
                                {
                                    "ProductID": "707",
                                    "OrderQty": "1",
                                    "ntile": "4"
                                },
                                {
                                    "ProductID": "719",
                                    "OrderQty": "6",
                                    "ntile": "4"
                                },
                                {
                                    "ProductID": "712",
                                    "OrderQty": "3",
                                    "ntile": "4"
                                },
                                {
                                    "ProductID": "713",
                                    "OrderQty": "1",
                                    "ntile": "4"
                                },
                                {
                                    "ProductID": "711",
                                    "OrderQty": "2",
                                    "ntile": "4"
                                },
                                {
                                    "ProductID": "715",
                                    "OrderQty": "6",
                                    "ntile": "4"
                                },
                                {
                                    "ProductID": "716",
                                    "OrderQty": "4",
                                    "ntile": "4"
                                },
                                {
                                    "ProductID": "709",
                                    "OrderQty": "6",
                                    "ntile": "4"
                                },
                                {
                                    "ProductID": "707",
                                    "OrderQty": "1",
                                    "ntile": "4"
                                },
                                {
                                    "ProductID": "719",
                                    "OrderQty": "5",
                                    "ntile": "4"
                                },
                                {
                                    "ProductID": "712",
                                    "OrderQty": "3",
                                    "ntile": "4"
                                },
                                {
                                    "ProductID": "713",
                                    "OrderQty": "1",
                                    "ntile": "4"
                                },
                                {
                                    "ProductID": "711",
                                    "OrderQty": "2",
                                    "ntile": "4"
                                },
                                {
                                    "ProductID": "715",
                                    "OrderQty": "6",
                                    "ntile": "4"
                                },
                                {
                                    "ProductID": "716",
                                    "OrderQty": "4",
                                    "ntile": "4"
                                },
                                {
                                    "ProductID": "709",
                                    "OrderQty": "6",
                                    "ntile": "4"
                                },
                                {
                                    "ProductID": "707",
                                    "OrderQty": "1",
                                    "ntile": "4"
                                },
                                {
                                    "ProductID": "719",
                                    "OrderQty": "4",
                                    "ntile": "4"
                                },
                                {
                                    "ProductID": "712",
                                    "OrderQty": "3",
                                    "ntile": "4"
                                },
                                {
                                    "ProductID": "713",
                                    "OrderQty": "1",
                                    "ntile": "4"
                                },
                                {
                                    "ProductID": "711",
                                    "OrderQty": "2",
                                    "ntile": "4"
                                },
                                {
                                    "ProductID": "715",
                                    "OrderQty": "6",
                                    "ntile": "4"
                                },
                                {
                                    "ProductID": "716",
                                    "OrderQty": "4",
                                    "ntile": "4"
                                },
                                {
                                    "ProductID": "709",
                                    "OrderQty": "7",
                                    "ntile": "4"
                                },
                                {
                                    "ProductID": "707",
                                    "OrderQty": "1",
                                    "ntile": "4"
                                },
                                {
                                    "ProductID": "719",
                                    "OrderQty": "4",
                                    "ntile": "4"
                                },
                                {
                                    "ProductID": "712",
                                    "OrderQty": "3",
                                    "ntile": "4"
                                },
                                {
                                    "ProductID": "713",
                                    "OrderQty": "1",
                                    "ntile": "4"
                                },
                                {
                                    "ProductID": "711",
                                    "OrderQty": "2",
                                    "ntile": "4"
                                },
                                {
                                    "ProductID": "715",
                                    "OrderQty": "6",
                                    "ntile": "4"
                                },
                                {
                                    "ProductID": "716",
                                    "OrderQty": "4",
                                    "ntile": "4"
                                },
                                {
                                    "ProductID": "709",
                                    "OrderQty": "7",
                                    "ntile": "4"
                                },
                                {
                                    "ProductID": "707",
                                    "OrderQty": "1",
                                    "ntile": "4"
                                },
                                {
                                    "ProductID": "719",
                                    "OrderQty": "4",
                                    "ntile": "4"
                                },
                                {
                                    "ProductID": "712",
                                    "OrderQty": "3",
                                    "ntile": "4"
                                },
                                {
                                    "ProductID": "713",
                                    "OrderQty": "1",
                                    "ntile": "4"
                                },
                                {
                                    "ProductID": "711",
                                    "OrderQty": "2",
                                    "ntile": "4"
                                },
                                {
                                    "ProductID": "715",
                                    "OrderQty": "6",
                                    "ntile": "4"
                                },
                                {
                                    "ProductID": "716",
                                    "OrderQty": "4",
                                    "ntile": "4"
                                }
                            ]
                        },
                        "text/html": [
                            "<table>",
                            "<tr><th>ProductID</th><th>OrderQty</th><th>ntile</th></tr>",
                            "<tr><td>715</td><td>6</td><td>4</td></tr>",
                            "<tr><td>716</td><td>4</td><td>4</td></tr>",
                            "<tr><td>709</td><td>6</td><td>4</td></tr>",
                            "<tr><td>707</td><td>1</td><td>4</td></tr>",
                            "<tr><td>719</td><td>6</td><td>4</td></tr>",
                            "<tr><td>712</td><td>3</td><td>4</td></tr>",
                            "<tr><td>713</td><td>1</td><td>4</td></tr>",
                            "<tr><td>711</td><td>2</td><td>4</td></tr>",
                            "<tr><td>715</td><td>6</td><td>4</td></tr>",
                            "<tr><td>716</td><td>4</td><td>4</td></tr>",
                            "<tr><td>709</td><td>6</td><td>4</td></tr>",
                            "<tr><td>707</td><td>1</td><td>4</td></tr>",
                            "<tr><td>719</td><td>6</td><td>4</td></tr>",
                            "<tr><td>712</td><td>3</td><td>4</td></tr>",
                            "<tr><td>713</td><td>1</td><td>4</td></tr>",
                            "<tr><td>711</td><td>2</td><td>4</td></tr>",
                            "<tr><td>715</td><td>6</td><td>4</td></tr>",
                            "<tr><td>716</td><td>4</td><td>4</td></tr>",
                            "<tr><td>709</td><td>6</td><td>4</td></tr>",
                            "<tr><td>707</td><td>1</td><td>4</td></tr>",
                            "<tr><td>719</td><td>5</td><td>4</td></tr>",
                            "<tr><td>712</td><td>3</td><td>4</td></tr>",
                            "<tr><td>713</td><td>1</td><td>4</td></tr>",
                            "<tr><td>711</td><td>2</td><td>4</td></tr>",
                            "<tr><td>715</td><td>6</td><td>4</td></tr>",
                            "<tr><td>716</td><td>4</td><td>4</td></tr>",
                            "<tr><td>709</td><td>6</td><td>4</td></tr>",
                            "<tr><td>707</td><td>1</td><td>4</td></tr>",
                            "<tr><td>719</td><td>4</td><td>4</td></tr>",
                            "<tr><td>712</td><td>3</td><td>4</td></tr>",
                            "<tr><td>713</td><td>1</td><td>4</td></tr>",
                            "<tr><td>711</td><td>2</td><td>4</td></tr>",
                            "<tr><td>715</td><td>6</td><td>4</td></tr>",
                            "<tr><td>716</td><td>4</td><td>4</td></tr>",
                            "<tr><td>709</td><td>7</td><td>4</td></tr>",
                            "<tr><td>707</td><td>1</td><td>4</td></tr>",
                            "<tr><td>719</td><td>4</td><td>4</td></tr>",
                            "<tr><td>712</td><td>3</td><td>4</td></tr>",
                            "<tr><td>713</td><td>1</td><td>4</td></tr>",
                            "<tr><td>711</td><td>2</td><td>4</td></tr>",
                            "<tr><td>715</td><td>6</td><td>4</td></tr>",
                            "<tr><td>716</td><td>4</td><td>4</td></tr>",
                            "<tr><td>709</td><td>7</td><td>4</td></tr>",
                            "<tr><td>707</td><td>1</td><td>4</td></tr>",
                            "<tr><td>719</td><td>4</td><td>4</td></tr>",
                            "<tr><td>712</td><td>3</td><td>4</td></tr>",
                            "<tr><td>713</td><td>1</td><td>4</td></tr>",
                            "<tr><td>711</td><td>2</td><td>4</td></tr>",
                            "<tr><td>715</td><td>6</td><td>4</td></tr>",
                            "<tr><td>716</td><td>4</td><td>4</td></tr>",
                            "</table>"
                        ]
                    }
                }
            ],
            "execution_count": 58
        },
        {
            "cell_type": "markdown",
            "source": [
                "### Proposition 9: Dense Rank of Customers by Territory\r\n",
                "Using the `Sales.Customer` table, rank each `CustomerID` by `AccountNumber` within each `TerritoryID`. Use the `DENSE_RANK` function to assign rank values without gaps for customers in the same territory.\r\n",
                ""
            ],
            "metadata": {
                "azdata_cell_guid": "3b25a5b8-fd6d-47b4-b2f1-a3edfcdd9e1a"
            },
            "attachments": {}
        },
        {
            "cell_type": "code",
            "source": [
                "SELECT top 25 \r\n",
                "    TerritoryID,\r\n",
                "    CustomerID,\r\n",
                "    AccountNumber,\r\n",
                "    DENSE_RANK() OVER (PARTITION BY TerritoryID ORDER BY AccountNumber) AS CustomerRank\r\n",
                "FROM \r\n",
                "    Sales.Customer;\r\n",
                ""
            ],
            "metadata": {
                "azdata_cell_guid": "6f883bd1-df8f-439b-bfd3-46009bb827ec",
                "language": "sql"
            },
            "outputs": [
                {
                    "output_type": "display_data",
                    "data": {
                        "text/html": "(25 rows affected)"
                    },
                    "metadata": {}
                },
                {
                    "output_type": "display_data",
                    "data": {
                        "text/html": "Total execution time: 00:00:00.258"
                    },
                    "metadata": {}
                },
                {
                    "output_type": "execute_result",
                    "metadata": {},
                    "execution_count": 60,
                    "data": {
                        "application/vnd.dataresource+json": {
                            "schema": {
                                "fields": [
                                    {
                                        "name": "TerritoryID"
                                    },
                                    {
                                        "name": "CustomerID"
                                    },
                                    {
                                        "name": "AccountNumber"
                                    },
                                    {
                                        "name": "CustomerRank"
                                    }
                                ]
                            },
                            "data": [
                                {
                                    "TerritoryID": "1",
                                    "CustomerID": "1",
                                    "AccountNumber": "AW00000001",
                                    "CustomerRank": "1"
                                },
                                {
                                    "TerritoryID": "1",
                                    "CustomerID": "2",
                                    "AccountNumber": "AW00000002",
                                    "CustomerRank": "2"
                                },
                                {
                                    "TerritoryID": "1",
                                    "CustomerID": "7",
                                    "AccountNumber": "AW00000007",
                                    "CustomerRank": "3"
                                },
                                {
                                    "TerritoryID": "1",
                                    "CustomerID": "19",
                                    "AccountNumber": "AW00000019",
                                    "CustomerRank": "4"
                                },
                                {
                                    "TerritoryID": "1",
                                    "CustomerID": "20",
                                    "AccountNumber": "AW00000020",
                                    "CustomerRank": "5"
                                },
                                {
                                    "TerritoryID": "1",
                                    "CustomerID": "37",
                                    "AccountNumber": "AW00000037",
                                    "CustomerRank": "6"
                                },
                                {
                                    "TerritoryID": "1",
                                    "CustomerID": "38",
                                    "AccountNumber": "AW00000038",
                                    "CustomerRank": "7"
                                },
                                {
                                    "TerritoryID": "1",
                                    "CustomerID": "43",
                                    "AccountNumber": "AW00000043",
                                    "CustomerRank": "8"
                                },
                                {
                                    "TerritoryID": "1",
                                    "CustomerID": "55",
                                    "AccountNumber": "AW00000055",
                                    "CustomerRank": "9"
                                },
                                {
                                    "TerritoryID": "1",
                                    "CustomerID": "56",
                                    "AccountNumber": "AW00000056",
                                    "CustomerRank": "10"
                                },
                                {
                                    "TerritoryID": "1",
                                    "CustomerID": "73",
                                    "AccountNumber": "AW00000073",
                                    "CustomerRank": "11"
                                },
                                {
                                    "TerritoryID": "1",
                                    "CustomerID": "74",
                                    "AccountNumber": "AW00000074",
                                    "CustomerRank": "12"
                                },
                                {
                                    "TerritoryID": "1",
                                    "CustomerID": "91",
                                    "AccountNumber": "AW00000091",
                                    "CustomerRank": "13"
                                },
                                {
                                    "TerritoryID": "1",
                                    "CustomerID": "92",
                                    "AccountNumber": "AW00000092",
                                    "CustomerRank": "14"
                                },
                                {
                                    "TerritoryID": "1",
                                    "CustomerID": "109",
                                    "AccountNumber": "AW00000109",
                                    "CustomerRank": "15"
                                },
                                {
                                    "TerritoryID": "1",
                                    "CustomerID": "110",
                                    "AccountNumber": "AW00000110",
                                    "CustomerRank": "16"
                                },
                                {
                                    "TerritoryID": "1",
                                    "CustomerID": "115",
                                    "AccountNumber": "AW00000115",
                                    "CustomerRank": "17"
                                },
                                {
                                    "TerritoryID": "1",
                                    "CustomerID": "127",
                                    "AccountNumber": "AW00000127",
                                    "CustomerRank": "18"
                                },
                                {
                                    "TerritoryID": "1",
                                    "CustomerID": "128",
                                    "AccountNumber": "AW00000128",
                                    "CustomerRank": "19"
                                },
                                {
                                    "TerritoryID": "1",
                                    "CustomerID": "145",
                                    "AccountNumber": "AW00000145",
                                    "CustomerRank": "20"
                                },
                                {
                                    "TerritoryID": "1",
                                    "CustomerID": "146",
                                    "AccountNumber": "AW00000146",
                                    "CustomerRank": "21"
                                },
                                {
                                    "TerritoryID": "1",
                                    "CustomerID": "163",
                                    "AccountNumber": "AW00000163",
                                    "CustomerRank": "22"
                                },
                                {
                                    "TerritoryID": "1",
                                    "CustomerID": "164",
                                    "AccountNumber": "AW00000164",
                                    "CustomerRank": "23"
                                },
                                {
                                    "TerritoryID": "1",
                                    "CustomerID": "169",
                                    "AccountNumber": "AW00000169",
                                    "CustomerRank": "24"
                                },
                                {
                                    "TerritoryID": "1",
                                    "CustomerID": "181",
                                    "AccountNumber": "AW00000181",
                                    "CustomerRank": "25"
                                }
                            ]
                        },
                        "text/html": [
                            "<table>",
                            "<tr><th>TerritoryID</th><th>CustomerID</th><th>AccountNumber</th><th>CustomerRank</th></tr>",
                            "<tr><td>1</td><td>1</td><td>AW00000001</td><td>1</td></tr>",
                            "<tr><td>1</td><td>2</td><td>AW00000002</td><td>2</td></tr>",
                            "<tr><td>1</td><td>7</td><td>AW00000007</td><td>3</td></tr>",
                            "<tr><td>1</td><td>19</td><td>AW00000019</td><td>4</td></tr>",
                            "<tr><td>1</td><td>20</td><td>AW00000020</td><td>5</td></tr>",
                            "<tr><td>1</td><td>37</td><td>AW00000037</td><td>6</td></tr>",
                            "<tr><td>1</td><td>38</td><td>AW00000038</td><td>7</td></tr>",
                            "<tr><td>1</td><td>43</td><td>AW00000043</td><td>8</td></tr>",
                            "<tr><td>1</td><td>55</td><td>AW00000055</td><td>9</td></tr>",
                            "<tr><td>1</td><td>56</td><td>AW00000056</td><td>10</td></tr>",
                            "<tr><td>1</td><td>73</td><td>AW00000073</td><td>11</td></tr>",
                            "<tr><td>1</td><td>74</td><td>AW00000074</td><td>12</td></tr>",
                            "<tr><td>1</td><td>91</td><td>AW00000091</td><td>13</td></tr>",
                            "<tr><td>1</td><td>92</td><td>AW00000092</td><td>14</td></tr>",
                            "<tr><td>1</td><td>109</td><td>AW00000109</td><td>15</td></tr>",
                            "<tr><td>1</td><td>110</td><td>AW00000110</td><td>16</td></tr>",
                            "<tr><td>1</td><td>115</td><td>AW00000115</td><td>17</td></tr>",
                            "<tr><td>1</td><td>127</td><td>AW00000127</td><td>18</td></tr>",
                            "<tr><td>1</td><td>128</td><td>AW00000128</td><td>19</td></tr>",
                            "<tr><td>1</td><td>145</td><td>AW00000145</td><td>20</td></tr>",
                            "<tr><td>1</td><td>146</td><td>AW00000146</td><td>21</td></tr>",
                            "<tr><td>1</td><td>163</td><td>AW00000163</td><td>22</td></tr>",
                            "<tr><td>1</td><td>164</td><td>AW00000164</td><td>23</td></tr>",
                            "<tr><td>1</td><td>169</td><td>AW00000169</td><td>24</td></tr>",
                            "<tr><td>1</td><td>181</td><td>AW00000181</td><td>25</td></tr>",
                            "</table>"
                        ]
                    }
                }
            ],
            "execution_count": 60
        },
        {
            "cell_type": "markdown",
            "source": [
                "### Proposition 10: Running Total of Order Subtotals\r\n",
                "In the `Sales.SalesOrderHeader` table, calculate a running total of `SubTotal` across all orders, ordered by `OrderDate`. Display each `SalesOrderID`, `SubTotal`, and the cumulative running total.\r\n",
                ""
            ],
            "metadata": {
                "azdata_cell_guid": "4eb31f27-fe0c-4372-95c2-35d27e1c92de"
            },
            "attachments": {}
        },
        {
            "cell_type": "code",
            "source": [
                "    SELECT top 25\r\n",
                "    SalesOrderID,\r\n",
                "    OrderDate,\r\n",
                "    SubTotal,\r\n",
                "    SUM(SubTotal) OVER (ORDER BY OrderDate ROWS UNBOUNDED PRECEDING) AS RunningTotal\r\n",
                "FROM \r\n",
                "    Sales.SalesOrderHeader\r\n",
                "ORDER BY \r\n",
                "    OrderDate;\r\n",
                ""
            ],
            "metadata": {
                "azdata_cell_guid": "30512fce-f27a-4efe-980b-0ab8b0086174",
                "language": "sql"
            },
            "outputs": [
                {
                    "output_type": "display_data",
                    "data": {
                        "text/html": "(25 rows affected)"
                    },
                    "metadata": {}
                },
                {
                    "output_type": "display_data",
                    "data": {
                        "text/html": "Total execution time: 00:00:00.071"
                    },
                    "metadata": {}
                },
                {
                    "output_type": "execute_result",
                    "metadata": {},
                    "execution_count": 62,
                    "data": {
                        "application/vnd.dataresource+json": {
                            "schema": {
                                "fields": [
                                    {
                                        "name": "SalesOrderID"
                                    },
                                    {
                                        "name": "OrderDate"
                                    },
                                    {
                                        "name": "SubTotal"
                                    },
                                    {
                                        "name": "RunningTotal"
                                    }
                                ]
                            },
                            "data": [
                                {
                                    "SalesOrderID": "43659",
                                    "OrderDate": "2011-05-31 00:00:00.000",
                                    "SubTotal": "20565.6206",
                                    "RunningTotal": "20565.6206"
                                },
                                {
                                    "SalesOrderID": "43660",
                                    "OrderDate": "2011-05-31 00:00:00.000",
                                    "SubTotal": "1294.2529",
                                    "RunningTotal": "21859.8735"
                                },
                                {
                                    "SalesOrderID": "43661",
                                    "OrderDate": "2011-05-31 00:00:00.000",
                                    "SubTotal": "32726.4786",
                                    "RunningTotal": "54586.3521"
                                },
                                {
                                    "SalesOrderID": "43662",
                                    "OrderDate": "2011-05-31 00:00:00.000",
                                    "SubTotal": "28832.5289",
                                    "RunningTotal": "83418.881"
                                },
                                {
                                    "SalesOrderID": "43663",
                                    "OrderDate": "2011-05-31 00:00:00.000",
                                    "SubTotal": "419.4589",
                                    "RunningTotal": "83838.3399"
                                },
                                {
                                    "SalesOrderID": "43664",
                                    "OrderDate": "2011-05-31 00:00:00.000",
                                    "SubTotal": "24432.6088",
                                    "RunningTotal": "108270.9487"
                                },
                                {
                                    "SalesOrderID": "43665",
                                    "OrderDate": "2011-05-31 00:00:00.000",
                                    "SubTotal": "14352.7713",
                                    "RunningTotal": "122623.72"
                                },
                                {
                                    "SalesOrderID": "43666",
                                    "OrderDate": "2011-05-31 00:00:00.000",
                                    "SubTotal": "5056.4896",
                                    "RunningTotal": "127680.2096"
                                },
                                {
                                    "SalesOrderID": "43667",
                                    "OrderDate": "2011-05-31 00:00:00.000",
                                    "SubTotal": "6107.082",
                                    "RunningTotal": "133787.2916"
                                },
                                {
                                    "SalesOrderID": "43668",
                                    "OrderDate": "2011-05-31 00:00:00.000",
                                    "SubTotal": "35944.1562",
                                    "RunningTotal": "169731.4478"
                                },
                                {
                                    "SalesOrderID": "43669",
                                    "OrderDate": "2011-05-31 00:00:00.000",
                                    "SubTotal": "714.7043",
                                    "RunningTotal": "170446.1521"
                                },
                                {
                                    "SalesOrderID": "43670",
                                    "OrderDate": "2011-05-31 00:00:00.000",
                                    "SubTotal": "6122.082",
                                    "RunningTotal": "176568.2341"
                                },
                                {
                                    "SalesOrderID": "43671",
                                    "OrderDate": "2011-05-31 00:00:00.000",
                                    "SubTotal": "8128.7876",
                                    "RunningTotal": "184697.0217"
                                },
                                {
                                    "SalesOrderID": "43672",
                                    "OrderDate": "2011-05-31 00:00:00.000",
                                    "SubTotal": "6124.182",
                                    "RunningTotal": "190821.2037"
                                },
                                {
                                    "SalesOrderID": "43673",
                                    "OrderDate": "2011-05-31 00:00:00.000",
                                    "SubTotal": "3746.2015",
                                    "RunningTotal": "194567.4052"
                                },
                                {
                                    "SalesOrderID": "43674",
                                    "OrderDate": "2011-05-31 00:00:00.000",
                                    "SubTotal": "2624.382",
                                    "RunningTotal": "197191.7872"
                                },
                                {
                                    "SalesOrderID": "43675",
                                    "OrderDate": "2011-05-31 00:00:00.000",
                                    "SubTotal": "5716.3102",
                                    "RunningTotal": "202908.0974"
                                },
                                {
                                    "SalesOrderID": "43676",
                                    "OrderDate": "2011-05-31 00:00:00.000",
                                    "SubTotal": "14203.458",
                                    "RunningTotal": "217111.5554"
                                },
                                {
                                    "SalesOrderID": "43677",
                                    "OrderDate": "2011-05-31 00:00:00.000",
                                    "SubTotal": "7793.1108",
                                    "RunningTotal": "224904.6662"
                                },
                                {
                                    "SalesOrderID": "43678",
                                    "OrderDate": "2011-05-31 00:00:00.000",
                                    "SubTotal": "9799.9243",
                                    "RunningTotal": "234704.5905"
                                },
                                {
                                    "SalesOrderID": "43679",
                                    "OrderDate": "2011-05-31 00:00:00.000",
                                    "SubTotal": "1316.0575",
                                    "RunningTotal": "236020.648"
                                },
                                {
                                    "SalesOrderID": "43680",
                                    "OrderDate": "2011-05-31 00:00:00.000",
                                    "SubTotal": "11397.4992",
                                    "RunningTotal": "247418.1472"
                                },
                                {
                                    "SalesOrderID": "43681",
                                    "OrderDate": "2011-05-31 00:00:00.000",
                                    "SubTotal": "13787.5434",
                                    "RunningTotal": "261205.6906"
                                },
                                {
                                    "SalesOrderID": "43682",
                                    "OrderDate": "2011-05-31 00:00:00.000",
                                    "SubTotal": "3875.7229",
                                    "RunningTotal": "265081.4135"
                                },
                                {
                                    "SalesOrderID": "43683",
                                    "OrderDate": "2011-05-31 00:00:00.000",
                                    "SubTotal": "42813.4333",
                                    "RunningTotal": "307894.8468"
                                }
                            ]
                        },
                        "text/html": [
                            "<table>",
                            "<tr><th>SalesOrderID</th><th>OrderDate</th><th>SubTotal</th><th>RunningTotal</th></tr>",
                            "<tr><td>43659</td><td>2011-05-31 00:00:00.000</td><td>20565.6206</td><td>20565.6206</td></tr>",
                            "<tr><td>43660</td><td>2011-05-31 00:00:00.000</td><td>1294.2529</td><td>21859.8735</td></tr>",
                            "<tr><td>43661</td><td>2011-05-31 00:00:00.000</td><td>32726.4786</td><td>54586.3521</td></tr>",
                            "<tr><td>43662</td><td>2011-05-31 00:00:00.000</td><td>28832.5289</td><td>83418.881</td></tr>",
                            "<tr><td>43663</td><td>2011-05-31 00:00:00.000</td><td>419.4589</td><td>83838.3399</td></tr>",
                            "<tr><td>43664</td><td>2011-05-31 00:00:00.000</td><td>24432.6088</td><td>108270.9487</td></tr>",
                            "<tr><td>43665</td><td>2011-05-31 00:00:00.000</td><td>14352.7713</td><td>122623.72</td></tr>",
                            "<tr><td>43666</td><td>2011-05-31 00:00:00.000</td><td>5056.4896</td><td>127680.2096</td></tr>",
                            "<tr><td>43667</td><td>2011-05-31 00:00:00.000</td><td>6107.082</td><td>133787.2916</td></tr>",
                            "<tr><td>43668</td><td>2011-05-31 00:00:00.000</td><td>35944.1562</td><td>169731.4478</td></tr>",
                            "<tr><td>43669</td><td>2011-05-31 00:00:00.000</td><td>714.7043</td><td>170446.1521</td></tr>",
                            "<tr><td>43670</td><td>2011-05-31 00:00:00.000</td><td>6122.082</td><td>176568.2341</td></tr>",
                            "<tr><td>43671</td><td>2011-05-31 00:00:00.000</td><td>8128.7876</td><td>184697.0217</td></tr>",
                            "<tr><td>43672</td><td>2011-05-31 00:00:00.000</td><td>6124.182</td><td>190821.2037</td></tr>",
                            "<tr><td>43673</td><td>2011-05-31 00:00:00.000</td><td>3746.2015</td><td>194567.4052</td></tr>",
                            "<tr><td>43674</td><td>2011-05-31 00:00:00.000</td><td>2624.382</td><td>197191.7872</td></tr>",
                            "<tr><td>43675</td><td>2011-05-31 00:00:00.000</td><td>5716.3102</td><td>202908.0974</td></tr>",
                            "<tr><td>43676</td><td>2011-05-31 00:00:00.000</td><td>14203.458</td><td>217111.5554</td></tr>",
                            "<tr><td>43677</td><td>2011-05-31 00:00:00.000</td><td>7793.1108</td><td>224904.6662</td></tr>",
                            "<tr><td>43678</td><td>2011-05-31 00:00:00.000</td><td>9799.9243</td><td>234704.5905</td></tr>",
                            "<tr><td>43679</td><td>2011-05-31 00:00:00.000</td><td>1316.0575</td><td>236020.648</td></tr>",
                            "<tr><td>43680</td><td>2011-05-31 00:00:00.000</td><td>11397.4992</td><td>247418.1472</td></tr>",
                            "<tr><td>43681</td><td>2011-05-31 00:00:00.000</td><td>13787.5434</td><td>261205.6906</td></tr>",
                            "<tr><td>43682</td><td>2011-05-31 00:00:00.000</td><td>3875.7229</td><td>265081.4135</td></tr>",
                            "<tr><td>43683</td><td>2011-05-31 00:00:00.000</td><td>42813.4333</td><td>307894.8468</td></tr>",
                            "</table>"
                        ]
                    }
                }
            ],
            "execution_count": 62
        }
    ]
}