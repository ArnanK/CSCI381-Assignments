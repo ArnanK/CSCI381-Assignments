{
    "metadata": {
        "kernelspec": {
            "name": "SQL",
            "display_name": "SQL",
            "language": "sql"
        },
        "language_info": {
            "name": "sql",
            "version": ""
        }
    },
    "nbformat_minor": 2,
    "nbformat": 4,
    "cells": [
        {
            "cell_type": "markdown",
            "source": [
                "## **<u>CSCI 381: PHW#3 - Individual (Arnan Khan)</u>**"
            ],
            "metadata": {
                "azdata_cell_guid": "123348d0-17f0-4539-9160-4b021934b3a9"
            },
            "attachments": {}
        },
        {
            "cell_type": "markdown",
            "source": [
                "#### Chapter 4\n",
                "\n",
                "\\[ChatGPT Generates Propositions\\](<span style=\"color: var(--vscode-foreground);\">https://chatgpt.com/share/67021e78-2098-800f-b589-aa54688bae1d</span><span style=\"color: var(--vscode-foreground);\">)</span>"
            ],
            "metadata": {
                "azdata_cell_guid": "e2384af9-dba7-47ab-85e9-c8f2533ea2d8"
            },
            "attachments": {}
        },
        {
            "cell_type": "markdown",
            "source": [
                "### 1\\. Find \\*top 5\\* Customers with the Highest Total Sales Value\n",
                "\n",
                "Write a query to list customers who have the highest total sales value. Use a subquery to calculate the total sales for each customer, then filter for those with the highest sales."
            ],
            "metadata": {
                "azdata_cell_guid": "1bdacacc-d24d-45c0-ba5a-9a592645f764"
            },
            "attachments": {}
        },
        {
            "cell_type": "code",
            "source": [
                "SELECT C.CustomerName as [Customer Name], TS.[Total Sales Value]\r\n",
                "FROM (SELECT TOP(5) CustomerID, SUM(OL.Quantity * OL.UnitPrice) as [Total Sales Value]\r\n",
                "        FROM Sales.Orders as O\r\n",
                "        INNER JOIN Sales.OrderLines as OL on O.OrderID = OL.OrderID\r\n",
                "        GROUP BY CustomerID\r\n",
                "        ORDER BY [Total Sales Value] desc) as TS\r\n",
                "INNER JOIN Sales.Customers as C ON TS.CustomerID = C.CustomerID\r\n",
                "\r\n",
                " "
            ],
            "metadata": {
                "azdata_cell_guid": "35b5aee4-1d75-4cae-8926-ac437f4fcce2",
                "language": "sql"
            },
            "outputs": [
                {
                    "output_type": "display_data",
                    "data": {
                        "text/html": "(5 rows affected)"
                    },
                    "metadata": {}
                },
                {
                    "output_type": "display_data",
                    "data": {
                        "text/html": "Total execution time: 00:00:00.062"
                    },
                    "metadata": {}
                },
                {
                    "output_type": "execute_result",
                    "execution_count": 24,
                    "data": {
                        "application/vnd.dataresource+json": {
                            "schema": {
                                "fields": [
                                    {
                                        "name": "Customer Name"
                                    },
                                    {
                                        "name": "Total Sales Value"
                                    }
                                ]
                            },
                            "data": [
                                {
                                    "Customer Name": "Tailspin Toys (Minidoka, ID)",
                                    "Total Sales Value": "379660.70"
                                },
                                {
                                    "Customer Name": "Tailspin Toys (Inguadona, MN)",
                                    "Total Sales Value": "384393.35"
                                },
                                {
                                    "Customer Name": "Wingtip Toys (Sarversville, PA)",
                                    "Total Sales Value": "372350.00"
                                },
                                {
                                    "Customer Name": "Ingrida Zeltina",
                                    "Total Sales Value": "368067.45"
                                },
                                {
                                    "Customer Name": "Mauno Laurila",
                                    "Total Sales Value": "377189.80"
                                }
                            ]
                        },
                        "text/html": "<table><tr><th>Customer Name</th><th>Total Sales Value</th></tr><tr><td>Tailspin Toys (Minidoka, ID)</td><td>379660.70</td></tr><tr><td>Tailspin Toys (Inguadona, MN)</td><td>384393.35</td></tr><tr><td>Wingtip Toys (Sarversville, PA)</td><td>372350.00</td></tr><tr><td>Ingrida Zeltina</td><td>368067.45</td></tr><tr><td>Mauno Laurila</td><td>377189.80</td></tr></table>"
                    },
                    "metadata": {}
                }
            ],
            "execution_count": 24
        },
        {
            "cell_type": "markdown",
            "source": [
                "### 2\\. \\*_Top 25\\*_ Products with Below Average Unit Prices\n",
                "\n",
                "Write a query to find all products that are priced below the average price of all products. Use a subquery to calculate the average unit price and compare individual product prices against this average."
            ],
            "metadata": {
                "azdata_cell_guid": "130edb6b-2b1a-4439-a90f-b43f3cdc9b32"
            },
            "attachments": {}
        },
        {
            "cell_type": "code",
            "source": [
                "SELECT TOP(25) StockItemID, StockItemName, UnitPrice\r\n",
                "FROM Warehouse.StockItems as SI\r\n",
                "WHERE UnitPrice <  (SELECT AVG(UnitPrice) as [Average Unite Price]\r\n",
                "                    FROM Warehouse.StockItems as SI)\r\n",
                "Order BY UnitPrice desc"
            ],
            "metadata": {
                "azdata_cell_guid": "730f92cb-e453-45e9-a0bd-0b7ced53da9f",
                "language": "sql"
            },
            "outputs": [
                {
                    "output_type": "display_data",
                    "data": {
                        "text/html": "(25 rows affected)"
                    },
                    "metadata": {}
                },
                {
                    "output_type": "display_data",
                    "data": {
                        "text/html": "Total execution time: 00:00:00.013"
                    },
                    "metadata": {}
                },
                {
                    "output_type": "execute_result",
                    "execution_count": 23,
                    "data": {
                        "application/vnd.dataresource+json": {
                            "schema": {
                                "fields": [
                                    {
                                        "name": "StockItemID"
                                    },
                                    {
                                        "name": "StockItemName"
                                    },
                                    {
                                        "name": "UnitPrice"
                                    }
                                ]
                            },
                            "data": [
                                {
                                    "StockItemID": "166",
                                    "StockItemName": "10 mm Anti static bubble wrap (Blue) 20m",
                                    "UnitPrice": "42.00"
                                },
                                {
                                    "StockItemID": "218",
                                    "StockItemName": "Void fill 300 L bag (White) 300L",
                                    "UnitPrice": "37.50"
                                },
                                {
                                    "StockItemID": "163",
                                    "StockItemName": "32 mm Double sided bubble wrap 20m",
                                    "UnitPrice": "37.00"
                                },
                                {
                                    "StockItemID": "102",
                                    "StockItemName": "Alien officer hoodie (Black) XL",
                                    "UnitPrice": "35.00"
                                },
                                {
                                    "StockItemID": "103",
                                    "StockItemName": "Alien officer hoodie (Black) XXL",
                                    "UnitPrice": "35.00"
                                },
                                {
                                    "StockItemID": "104",
                                    "StockItemName": "Alien officer hoodie (Black) 3XL",
                                    "UnitPrice": "35.00"
                                },
                                {
                                    "StockItemID": "105",
                                    "StockItemName": "Alien officer hoodie (Black) 4XL",
                                    "UnitPrice": "35.00"
                                },
                                {
                                    "StockItemID": "106",
                                    "StockItemName": "Alien officer hoodie (Black) 5XL",
                                    "UnitPrice": "35.00"
                                },
                                {
                                    "StockItemID": "115",
                                    "StockItemName": "Superhero action jacket (Blue) 3XL",
                                    "UnitPrice": "34.00"
                                },
                                {
                                    "StockItemID": "116",
                                    "StockItemName": "Superhero action jacket (Blue) 4XL",
                                    "UnitPrice": "34.00"
                                },
                                {
                                    "StockItemID": "117",
                                    "StockItemName": "Superhero action jacket (Blue) 5XL",
                                    "UnitPrice": "34.00"
                                },
                                {
                                    "StockItemID": "160",
                                    "StockItemName": "20 mm Double sided bubble wrap 20m",
                                    "UnitPrice": "33.00"
                                },
                                {
                                    "StockItemID": "171",
                                    "StockItemName": "32 mm Anti static bubble wrap (Blue) 10m",
                                    "UnitPrice": "32.00"
                                },
                                {
                                    "StockItemID": "118",
                                    "StockItemName": "Dinosaur battery-powered slippers (Green) S",
                                    "UnitPrice": "32.00"
                                },
                                {
                                    "StockItemID": "119",
                                    "StockItemName": "Dinosaur battery-powered slippers (Green) M",
                                    "UnitPrice": "32.00"
                                },
                                {
                                    "StockItemID": "120",
                                    "StockItemName": "Dinosaur battery-powered slippers (Green) L",
                                    "UnitPrice": "32.00"
                                },
                                {
                                    "StockItemID": "121",
                                    "StockItemName": "Dinosaur battery-powered slippers (Green) XL",
                                    "UnitPrice": "32.00"
                                },
                                {
                                    "StockItemID": "122",
                                    "StockItemName": "Ogre battery-powered slippers (Green) S",
                                    "UnitPrice": "32.00"
                                },
                                {
                                    "StockItemID": "123",
                                    "StockItemName": "Ogre battery-powered slippers (Green) M",
                                    "UnitPrice": "32.00"
                                },
                                {
                                    "StockItemID": "124",
                                    "StockItemName": "Ogre battery-powered slippers (Green) L",
                                    "UnitPrice": "32.00"
                                },
                                {
                                    "StockItemID": "125",
                                    "StockItemName": "Ogre battery-powered slippers (Green) XL",
                                    "UnitPrice": "32.00"
                                },
                                {
                                    "StockItemID": "126",
                                    "StockItemName": "Plush shark slippers (Gray) S",
                                    "UnitPrice": "32.00"
                                },
                                {
                                    "StockItemID": "127",
                                    "StockItemName": "Plush shark slippers (Gray) M",
                                    "UnitPrice": "32.00"
                                },
                                {
                                    "StockItemID": "128",
                                    "StockItemName": "Plush shark slippers (Gray) L",
                                    "UnitPrice": "32.00"
                                },
                                {
                                    "StockItemID": "129",
                                    "StockItemName": "Plush shark slippers (Gray) XL",
                                    "UnitPrice": "32.00"
                                }
                            ]
                        },
                        "text/html": "<table><tr><th>StockItemID</th><th>StockItemName</th><th>UnitPrice</th></tr><tr><td>166</td><td>10 mm Anti static bubble wrap (Blue) 20m</td><td>42.00</td></tr><tr><td>218</td><td>Void fill 300 L bag (White) 300L</td><td>37.50</td></tr><tr><td>163</td><td>32 mm Double sided bubble wrap 20m</td><td>37.00</td></tr><tr><td>102</td><td>Alien officer hoodie (Black) XL</td><td>35.00</td></tr><tr><td>103</td><td>Alien officer hoodie (Black) XXL</td><td>35.00</td></tr><tr><td>104</td><td>Alien officer hoodie (Black) 3XL</td><td>35.00</td></tr><tr><td>105</td><td>Alien officer hoodie (Black) 4XL</td><td>35.00</td></tr><tr><td>106</td><td>Alien officer hoodie (Black) 5XL</td><td>35.00</td></tr><tr><td>115</td><td>Superhero action jacket (Blue) 3XL</td><td>34.00</td></tr><tr><td>116</td><td>Superhero action jacket (Blue) 4XL</td><td>34.00</td></tr><tr><td>117</td><td>Superhero action jacket (Blue) 5XL</td><td>34.00</td></tr><tr><td>160</td><td>20 mm Double sided bubble wrap 20m</td><td>33.00</td></tr><tr><td>171</td><td>32 mm Anti static bubble wrap (Blue) 10m</td><td>32.00</td></tr><tr><td>118</td><td>Dinosaur battery-powered slippers (Green) S</td><td>32.00</td></tr><tr><td>119</td><td>Dinosaur battery-powered slippers (Green) M</td><td>32.00</td></tr><tr><td>120</td><td>Dinosaur battery-powered slippers (Green) L</td><td>32.00</td></tr><tr><td>121</td><td>Dinosaur battery-powered slippers (Green) XL</td><td>32.00</td></tr><tr><td>122</td><td>Ogre battery-powered slippers (Green) S</td><td>32.00</td></tr><tr><td>123</td><td>Ogre battery-powered slippers (Green) M</td><td>32.00</td></tr><tr><td>124</td><td>Ogre battery-powered slippers (Green) L</td><td>32.00</td></tr><tr><td>125</td><td>Ogre battery-powered slippers (Green) XL</td><td>32.00</td></tr><tr><td>126</td><td>Plush shark slippers (Gray) S</td><td>32.00</td></tr><tr><td>127</td><td>Plush shark slippers (Gray) M</td><td>32.00</td></tr><tr><td>128</td><td>Plush shark slippers (Gray) L</td><td>32.00</td></tr><tr><td>129</td><td>Plush shark slippers (Gray) XL</td><td>32.00</td></tr></table>"
                    },
                    "metadata": {}
                }
            ],
            "execution_count": 23
        },
        {
            "cell_type": "markdown",
            "source": [
                "### 3\\. \\*Top 25\\* Customers Who Placed Orders with High Average Order Value\n",
                "\n",
                "Write a query to find customers whose average order value is higher than the overall average order value. Use a subquery to calculate the average order value per customer, and another to calculate the overall average order value."
            ],
            "metadata": {
                "language": "sql",
                "azdata_cell_guid": "f27a3efd-10f3-4909-b937-a35c34070812"
            },
            "attachments": {}
        },
        {
            "cell_type": "code",
            "source": [
                "WITH AVG_OV_CTE AS \r\n",
                "(\r\n",
                "    SELECT O.CustomerID, AVG(OL.UnitPrice * OL.Quantity) as [Avg Order Value]\r\n",
                "    FROM Sales.Orders as O\r\n",
                "    INNER JOIN Sales.OrderLines as OL on O.OrderID = OL.OrderID\r\n",
                "    GROUP BY O.CustomerID\r\n",
                ")\r\n",
                " \r\n",
                "\r\n",
                "SELECT TOP(25) [AVG_OV_CTE].CustomerID, C.CustomerName, [AVG_OV_CTE].[Avg Order Value]\r\n",
                "FROM AVG_OV_CTE \r\n",
                "INNER JOIN Sales.Customers as C on C.[CustomerID] = [AVG_OV_CTE].CustomerID\r\n",
                "WHERE [Avg Order Value] > (SELECT AVG([Avg Order Value]) as [Overall Average Order Value] FROM AVG_OV_CTE)\r\n",
                "ORDER BY [Avg Order Value] DESC\r\n",
                ""
            ],
            "metadata": {
                "language": "sql",
                "azdata_cell_guid": "69bb2aec-27a3-4214-9fbd-26ca0ac99134"
            },
            "outputs": [
                {
                    "output_type": "display_data",
                    "data": {
                        "text/html": "(25 rows affected)"
                    },
                    "metadata": {}
                },
                {
                    "output_type": "display_data",
                    "data": {
                        "text/html": "Total execution time: 00:00:00.095"
                    },
                    "metadata": {}
                },
                {
                    "output_type": "execute_result",
                    "metadata": {},
                    "execution_count": 11,
                    "data": {
                        "application/vnd.dataresource+json": {
                            "schema": {
                                "fields": [
                                    {
                                        "name": "CustomerID"
                                    },
                                    {
                                        "name": "CustomerName"
                                    },
                                    {
                                        "name": "Avg Order Value"
                                    }
                                ]
                            },
                            "data": [
                                {
                                    "CustomerID": "1058",
                                    "CustomerName": "Jaroslav Fisar",
                                    "Avg Order Value": "1091.048000"
                                },
                                {
                                    "CustomerID": "945",
                                    "CustomerName": "Hoc Tran",
                                    "Avg Order Value": "1026.202960"
                                },
                                {
                                    "CustomerID": "1036",
                                    "CustomerName": "Erik Malk",
                                    "Avg Order Value": "1019.220858"
                                },
                                {
                                    "CustomerID": "996",
                                    "CustomerName": "Laszlo Gardenier",
                                    "Avg Order Value": "1012.747308"
                                },
                                {
                                    "CustomerID": "870",
                                    "CustomerName": "In-Su Bae",
                                    "Avg Order Value": "1009.979848"
                                },
                                {
                                    "CustomerID": "109",
                                    "CustomerName": "Tailspin Toys (South Laguna, CA)",
                                    "Avg Order Value": "1006.387066"
                                },
                                {
                                    "CustomerID": "1056",
                                    "CustomerName": "Kalyani Benjaree",
                                    "Avg Order Value": "995.743333"
                                },
                                {
                                    "CustomerID": "1006",
                                    "CustomerName": "Taj Syme",
                                    "Avg Order Value": "989.940752"
                                },
                                {
                                    "CustomerID": "415",
                                    "CustomerName": "Wingtip Toys (Leathersville, GA)",
                                    "Avg Order Value": "979.646234"
                                },
                                {
                                    "CustomerID": "4",
                                    "CustomerName": "Tailspin Toys (Medicine Lodge, KS)",
                                    "Avg Order Value": "968.547819"
                                },
                                {
                                    "CustomerID": "550",
                                    "CustomerName": "Wingtip Toys (Morrison Bluff, AR)",
                                    "Avg Order Value": "966.897587"
                                },
                                {
                                    "CustomerID": "192",
                                    "CustomerName": "Tailspin Toys (Optimo, NM)",
                                    "Avg Order Value": "960.269230"
                                },
                                {
                                    "CustomerID": "977",
                                    "CustomerName": "Mauno Laurila",
                                    "Avg Order Value": "959.770483"
                                },
                                {
                                    "CustomerID": "40",
                                    "CustomerName": "Tailspin Toys (Impact, TX)",
                                    "Avg Order Value": "958.313808"
                                },
                                {
                                    "CustomerID": "533",
                                    "CustomerName": "Wingtip Toys (Nichols Hills, OK)",
                                    "Avg Order Value": "950.853135"
                                },
                                {
                                    "CustomerID": "480",
                                    "CustomerName": "Wingtip Toys (Wapinitia, OR)",
                                    "Avg Order Value": "939.460686"
                                },
                                {
                                    "CustomerID": "834",
                                    "CustomerName": "Cong Hoa",
                                    "Avg Order Value": "935.968508"
                                },
                                {
                                    "CustomerID": "86",
                                    "CustomerName": "Tailspin Toys (New Lexington, OH)",
                                    "Avg Order Value": "935.042507"
                                },
                                {
                                    "CustomerID": "422",
                                    "CustomerName": "Wingtip Toys (Naches, WA)",
                                    "Avg Order Value": "929.676779"
                                },
                                {
                                    "CustomerID": "582",
                                    "CustomerName": "Wingtip Toys (Montoya, NM)",
                                    "Avg Order Value": "925.559331"
                                },
                                {
                                    "CustomerID": "14",
                                    "CustomerName": "Tailspin Toys (Long Meadow, MD)",
                                    "Avg Order Value": "925.084382"
                                },
                                {
                                    "CustomerID": "983",
                                    "CustomerName": "Sabine Alksne",
                                    "Avg Order Value": "924.938922"
                                },
                                {
                                    "CustomerID": "81",
                                    "CustomerName": "Tailspin Toys (Big Moose, NY)",
                                    "Avg Order Value": "922.184400"
                                },
                                {
                                    "CustomerID": "874",
                                    "CustomerName": "Daniel Martensson",
                                    "Avg Order Value": "921.825706"
                                },
                                {
                                    "CustomerID": "949",
                                    "CustomerName": "Seo-yun Paik",
                                    "Avg Order Value": "920.364435"
                                }
                            ]
                        },
                        "text/html": [
                            "<table>",
                            "<tr><th>CustomerID</th><th>CustomerName</th><th>Avg Order Value</th></tr>",
                            "<tr><td>1058</td><td>Jaroslav Fisar</td><td>1091.048000</td></tr>",
                            "<tr><td>945</td><td>Hoc Tran</td><td>1026.202960</td></tr>",
                            "<tr><td>1036</td><td>Erik Malk</td><td>1019.220858</td></tr>",
                            "<tr><td>996</td><td>Laszlo Gardenier</td><td>1012.747308</td></tr>",
                            "<tr><td>870</td><td>In-Su Bae</td><td>1009.979848</td></tr>",
                            "<tr><td>109</td><td>Tailspin Toys (South Laguna, CA)</td><td>1006.387066</td></tr>",
                            "<tr><td>1056</td><td>Kalyani Benjaree</td><td>995.743333</td></tr>",
                            "<tr><td>1006</td><td>Taj Syme</td><td>989.940752</td></tr>",
                            "<tr><td>415</td><td>Wingtip Toys (Leathersville, GA)</td><td>979.646234</td></tr>",
                            "<tr><td>4</td><td>Tailspin Toys (Medicine Lodge, KS)</td><td>968.547819</td></tr>",
                            "<tr><td>550</td><td>Wingtip Toys (Morrison Bluff, AR)</td><td>966.897587</td></tr>",
                            "<tr><td>192</td><td>Tailspin Toys (Optimo, NM)</td><td>960.269230</td></tr>",
                            "<tr><td>977</td><td>Mauno Laurila</td><td>959.770483</td></tr>",
                            "<tr><td>40</td><td>Tailspin Toys (Impact, TX)</td><td>958.313808</td></tr>",
                            "<tr><td>533</td><td>Wingtip Toys (Nichols Hills, OK)</td><td>950.853135</td></tr>",
                            "<tr><td>480</td><td>Wingtip Toys (Wapinitia, OR)</td><td>939.460686</td></tr>",
                            "<tr><td>834</td><td>Cong Hoa</td><td>935.968508</td></tr>",
                            "<tr><td>86</td><td>Tailspin Toys (New Lexington, OH)</td><td>935.042507</td></tr>",
                            "<tr><td>422</td><td>Wingtip Toys (Naches, WA)</td><td>929.676779</td></tr>",
                            "<tr><td>582</td><td>Wingtip Toys (Montoya, NM)</td><td>925.559331</td></tr>",
                            "<tr><td>14</td><td>Tailspin Toys (Long Meadow, MD)</td><td>925.084382</td></tr>",
                            "<tr><td>983</td><td>Sabine Alksne</td><td>924.938922</td></tr>",
                            "<tr><td>81</td><td>Tailspin Toys (Big Moose, NY)</td><td>922.184400</td></tr>",
                            "<tr><td>874</td><td>Daniel Martensson</td><td>921.825706</td></tr>",
                            "<tr><td>949</td><td>Seo-yun Paik</td><td>920.364435</td></tr>",
                            "</table>"
                        ]
                    }
                }
            ],
            "execution_count": 11
        },
        {
            "cell_type": "markdown",
            "source": [
                "### 4\\. Suppliers Providing More than the Average Number of Products\n",
                "\n",
                "Write a query to find suppliers who supply more products than the average number of products supplied by all suppliers. Use a subquery to determine the average number of products supplied."
            ],
            "metadata": {
                "language": "sql",
                "azdata_cell_guid": "178852ab-7493-4ae0-aad0-3899817fd932"
            },
            "attachments": {}
        },
        {
            "cell_type": "code",
            "source": [
                "DECLARE @AvgProductsSupplied DECIMAL(10,2) = \r\n",
                "(SELECT AVG([Products Supplied]) \r\n",
                " FROM   (SELECT SI.SupplierID, COUNT(DISTINCT SI.StockItemID) as [Products Supplied]\r\n",
                "        FROM Warehouse.StockItems as SI\r\n",
                "        GROUP BY SI.SupplierID\r\n",
                "        ) as PS\r\n",
                ");\r\n",
                "\r\n",
                "\r\n",
                "SELECT SI.SupplierID, S.SupplierName, COUNT(DISTINCT SI.StockItemID) as [Products Supplied]\r\n",
                "FROM Warehouse.StockItems as SI\r\n",
                "INNER JOIN Purchasing.Suppliers as S on S.SupplierID = SI.SupplierID\r\n",
                "GROUP BY SI.SupplierID, S.SupplierName\r\n",
                "HAVING COUNT(DISTINCT SI.StockItemID) > @AvgProductsSupplied\r\n",
                "\r\n",
                "\r\n",
                "\r\n",
                "\r\n",
                ""
            ],
            "metadata": {
                "language": "sql",
                "azdata_cell_guid": "f617e19b-8427-494a-b805-b718c6c748d5"
            },
            "outputs": [
                {
                    "output_type": "display_data",
                    "data": {
                        "text/html": "(3 rows affected)"
                    },
                    "metadata": {}
                },
                {
                    "output_type": "display_data",
                    "data": {
                        "text/html": "Total execution time: 00:00:00.015"
                    },
                    "metadata": {}
                },
                {
                    "output_type": "execute_result",
                    "metadata": {},
                    "execution_count": 32,
                    "data": {
                        "application/vnd.dataresource+json": {
                            "schema": {
                                "fields": [
                                    {
                                        "name": "SupplierID"
                                    },
                                    {
                                        "name": "SupplierName"
                                    },
                                    {
                                        "name": "Products Supplied"
                                    }
                                ]
                            },
                            "data": [
                                {
                                    "SupplierID": "4",
                                    "SupplierName": "Fabrikam, Inc.",
                                    "Products Supplied": "74"
                                },
                                {
                                    "SupplierID": "5",
                                    "SupplierName": "Graphic Design Institute",
                                    "Products Supplied": "42"
                                },
                                {
                                    "SupplierID": "7",
                                    "SupplierName": "Litware, Inc.",
                                    "Products Supplied": "67"
                                }
                            ]
                        },
                        "text/html": [
                            "<table>",
                            "<tr><th>SupplierID</th><th>SupplierName</th><th>Products Supplied</th></tr>",
                            "<tr><td>4</td><td>Fabrikam, Inc.</td><td>74</td></tr>",
                            "<tr><td>5</td><td>Graphic Design Institute</td><td>42</td></tr>",
                            "<tr><td>7</td><td>Litware, Inc.</td><td>67</td></tr>",
                            "</table>"
                        ]
                    }
                }
            ],
            "execution_count": 32
        },
        {
            "cell_type": "markdown",
            "source": [
                "### 5\\. \\*top 5\\* Orders That Contain Products from the Same Supplier\n",
                "\n",
                "Write a query to list all orders that contain products sourced from a single supplier. Use a subquery to find the supplier associated with each product in the order and compare the results."
            ],
            "metadata": {
                "language": "sql",
                "azdata_cell_guid": "9bd0d4f9-b7b4-4ec7-a3c2-fa612a105cf9"
            },
            "attachments": {}
        },
        {
            "cell_type": "code",
            "source": [
                "SELECT TOP(5)OrderID\r\n",
                "FROM Sales.OrderLines\r\n",
                "WHERE OrderID IN (\r\n",
                "    SELECT OrderID\r\n",
                "    FROM Sales.OrderLines AS ol\r\n",
                "    JOIN Warehouse.StockItems AS si ON ol.StockItemID = si.StockItemID\r\n",
                "    GROUP BY OrderID\r\n",
                "    HAVING COUNT(DISTINCT si.SupplierID) = 1\r\n",
                ");\r\n",
                ""
            ],
            "metadata": {
                "language": "sql",
                "azdata_cell_guid": "a5fd914c-51bf-4145-865a-8dff3bed926f"
            },
            "outputs": [
                {
                    "output_type": "display_data",
                    "data": {
                        "text/html": "(5 rows affected)"
                    },
                    "metadata": {}
                },
                {
                    "output_type": "display_data",
                    "data": {
                        "text/html": "Total execution time: 00:00:00.102"
                    },
                    "metadata": {}
                },
                {
                    "output_type": "execute_result",
                    "metadata": {},
                    "execution_count": 18,
                    "data": {
                        "application/vnd.dataresource+json": {
                            "schema": {
                                "fields": [
                                    {
                                        "name": "OrderID"
                                    }
                                ]
                            },
                            "data": [
                                {
                                    "OrderID": "697"
                                },
                                {
                                    "OrderID": "153"
                                },
                                {
                                    "OrderID": "765"
                                },
                                {
                                    "OrderID": "1301"
                                },
                                {
                                    "OrderID": "1301"
                                }
                            ]
                        },
                        "text/html": [
                            "<table>",
                            "<tr><th>OrderID</th></tr>",
                            "<tr><td>697</td></tr>",
                            "<tr><td>153</td></tr>",
                            "<tr><td>765</td></tr>",
                            "<tr><td>1301</td></tr>",
                            "<tr><td>1301</td></tr>",
                            "</table>"
                        ]
                    }
                }
            ],
            "execution_count": 18
        }
    ]
}