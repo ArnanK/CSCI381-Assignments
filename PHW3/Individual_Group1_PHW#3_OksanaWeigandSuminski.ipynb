
--1. Find customers with a DeliveryCityID less than 10,000 who have placed at least one order
SELECT CustomerID, CustomerName, DeliveryCityID
FROM Sales.Customers
WHERE DeliveryCityID < 10000
AND CustomerID IN (
    SELECT CustomerID
    FROM Sales.Orders
    GROUP BY CustomerID
);

-- 2. Find the top 15 cities with the highest total transaction amounts
SELECT TOP 15 c.CityID, c.CityName, TotalTransactionAmount
FROM Application.Cities c
JOIN (
    SELECT CustomerTransactionID, SUM(ct.TransactionAmount) AS TotalTransactionAmount
    FROM Sales.CustomerTransactions ct
    GROUP BY CustomerTransactionID
) sales ON c.CityID = sales.CustomerTransactionID
ORDER BY TotalTransactionAmount DESC;

-- 3. Find customers who have placed orders on January 5, 2013
SELECT c.CustomerID, c.CustomerName, o.OrderDate
FROM Sales.Customers c
JOIN Sales.Orders o ON c.CustomerID = o.CustomerID
WHERE o.OrderDate IN (
    SELECT OrderDate
    FROM Sales.Orders
    WHERE OrderDate = '2013-01-05'
);

-- 4. Find customers who have placed more than 5 orders
SELECT CustomerID, CustomerName
FROM Sales.Customers
WHERE CustomerID IN (
    SELECT CustomerID
    FROM Sales.Orders
    GROUP BY CustomerID
    HAVING COUNT(OrderID) > 5
);

-- 5. Retrieve the OrderID, UnitPrice of each order line, and the overall average UnitPrice across all order lines
SELECT OrderID, UnitPrice, 
       (SELECT AVG(UnitPrice) FROM Sales.OrderLines) AS AverageUnitPrice
FROM Sales.OrderLines;

-- 6. Find CityID, CityName, LatestRecordedPopulation, and the maximum population for cities in the same state
SELECT c.CityID, 
       c.CityName, 
       c.LatestRecordedPopulation,
       (SELECT MAX(LatestRecordedPopulation) 
        FROM Application.Cities 
        WHERE StateProvinceID = c.StateProvinceID) AS MaxPopulationInState
FROM Application.Cities c;

-- 7. Retrieve the CustomerID and CustomerName for customers whose names start with the letter 'L'
WITH FilteredCustomers AS (
    SELECT CustomerID, CustomerName
    FROM Sales.Customers
    WHERE CustomerName LIKE 'L%'
)
SELECT CustomerID, CustomerName
FROM FilteredCustomers;

-- 8. Find the year, customer count, and minimum SalespersonID for years with over 100 customers
WITH YearlyOrders AS (
    SELECT YEAR(OrderDate) AS OrderYear, CustomerID, SalespersonPersonID
    FROM Sales.Orders
)
SELECT 
    OrderYear, 
    COUNT(DISTINCT CustomerID) AS NumCusts,
    MIN(SalespersonPersonID) AS SalespersonID
FROM YearlyOrders
GROUP BY OrderYear
HAVING COUNT(DISTINCT CustomerID) > 100;

-- 9. 
WITH YearEndOrders AS (
    SELECT OrderID, CustomerID, OrderDate
    FROM Sales.Orders
    WHERE OrderDate = DATEFROMPARTS(YEAR(OrderDate), 12, 31)  -- Only include Dec 31 of each year
)
SELECT OrderID, CustomerID, OrderDate
FROM YearEndOrders;

-- 10. Find orders ranked between 5 and 19 based on order date and order ID
WITH NumberedOrders AS (
    SELECT 
        OrderID, 
        CustomerID, 
        OrderDate,
        ROW_NUMBER() OVER (ORDER BY OrderDate, OrderID) AS RowNum
    FROM Sales.Orders
)
SELECT OrderID, CustomerID, OrderDate
FROM NumberedOrders
WHERE RowNum BETWEEN 5 AND 19;




















