{
    "metadata": {
        "kernelspec": {
            "name": "SQL",
            "display_name": "SQL",
            "language": "sql"
        },
        "language_info": {
            "name": "sql",
            "version": ""
        }
    },
    "nbformat_minor": 2,
    "nbformat": 4,
    "cells": [
        {
            "cell_type": "markdown",
            "source": [
                "## **<u>CSCI 381: PHW#3 - Individual (Arnan Khan)</u>**"
            ],
            "metadata": {
                "azdata_cell_guid": "123348d0-17f0-4539-9160-4b021934b3a9"
            },
            "attachments": {}
        },
        {
            "cell_type": "markdown",
            "source": [
                "#### Chapter 4\n",
                "\n",
                "\\[ChatGPT \\*new\\* <span style=\"color: var(--vscode-foreground);\">&nbsp;Generates Propositions](</span><span style=\"color: var(--vscode-foreground);\"><a href=\"https://chatgpt.com/share/67021e78-2098-800f-b589-aa54688bae1d\" title=\"https://chatgpt.com/share/67021e78-2098-800f-b589-aa54688bae1d\" rel=\"nofollow\">https://chatgpt.com/share/67021e78-2098-800f-b589-aa54688bae1d</a></span><span style=\"color: var(--vscode-foreground);\">)</span>"
            ],
            "metadata": {
                "azdata_cell_guid": "e2384af9-dba7-47ab-85e9-c8f2533ea2d8"
            },
            "attachments": {}
        },
        {
            "cell_type": "markdown",
            "source": [
                "### 1\\. Find \\*top 5\\* Customers with the Highest Total Sales Value\n",
                "\n",
                "Write a query to list customers who have the highest total sales value. Use a subquery to calculate the total sales for each customer, then filter for those with the highest sales."
            ],
            "metadata": {
                "azdata_cell_guid": "1bdacacc-d24d-45c0-ba5a-9a592645f764"
            },
            "attachments": {}
        },
        {
            "cell_type": "code",
            "source": [
                "SELECT C.CustomerName as [Customer Name], TS.[Total Sales Value]\r\n",
                "FROM (SELECT TOP(5) CustomerID, SUM(OL.Quantity * OL.UnitPrice) as [Total Sales Value]\r\n",
                "        FROM Sales.Orders as O\r\n",
                "        INNER JOIN Sales.OrderLines as OL on O.OrderID = OL.OrderID\r\n",
                "        GROUP BY CustomerID\r\n",
                "        ORDER BY [Total Sales Value] desc) as TS\r\n",
                "INNER JOIN Sales.Customers as C ON TS.CustomerID = C.CustomerID\r\n",
                "\r\n",
                " "
            ],
            "metadata": {
                "azdata_cell_guid": "35b5aee4-1d75-4cae-8926-ac437f4fcce2",
                "language": "sql"
            },
            "outputs": [
                {
                    "output_type": "display_data",
                    "data": {
                        "text/html": "(5 rows affected)"
                    },
                    "metadata": {}
                },
                {
                    "output_type": "display_data",
                    "data": {
                        "text/html": "Total execution time: 00:00:00.062"
                    },
                    "metadata": {}
                },
                {
                    "output_type": "execute_result",
                    "execution_count": 24,
                    "data": {
                        "application/vnd.dataresource+json": {
                            "schema": {
                                "fields": [
                                    {
                                        "name": "Customer Name"
                                    },
                                    {
                                        "name": "Total Sales Value"
                                    }
                                ]
                            },
                            "data": [
                                {
                                    "Customer Name": "Tailspin Toys (Minidoka, ID)",
                                    "Total Sales Value": "379660.70"
                                },
                                {
                                    "Customer Name": "Tailspin Toys (Inguadona, MN)",
                                    "Total Sales Value": "384393.35"
                                },
                                {
                                    "Customer Name": "Wingtip Toys (Sarversville, PA)",
                                    "Total Sales Value": "372350.00"
                                },
                                {
                                    "Customer Name": "Ingrida Zeltina",
                                    "Total Sales Value": "368067.45"
                                },
                                {
                                    "Customer Name": "Mauno Laurila",
                                    "Total Sales Value": "377189.80"
                                }
                            ]
                        },
                        "text/html": "<table><tr><th>Customer Name</th><th>Total Sales Value</th></tr><tr><td>Tailspin Toys (Minidoka, ID)</td><td>379660.70</td></tr><tr><td>Tailspin Toys (Inguadona, MN)</td><td>384393.35</td></tr><tr><td>Wingtip Toys (Sarversville, PA)</td><td>372350.00</td></tr><tr><td>Ingrida Zeltina</td><td>368067.45</td></tr><tr><td>Mauno Laurila</td><td>377189.80</td></tr></table>"
                    },
                    "metadata": {}
                }
            ],
            "execution_count": 24
        },
        {
            "cell_type": "markdown",
            "source": [
                "### 2\\. \\*_Top 25\\*_ Products with Below Average Unit Prices\n",
                "\n",
                "Write a query to find all products that are priced below the average price of all products. Use a subquery to calculate the average unit price and compare individual product prices against this average."
            ],
            "metadata": {
                "azdata_cell_guid": "130edb6b-2b1a-4439-a90f-b43f3cdc9b32"
            },
            "attachments": {}
        },
        {
            "cell_type": "code",
            "source": [
                "SELECT TOP(25) StockItemID, StockItemName, UnitPrice\r\n",
                "FROM Warehouse.StockItems as SI\r\n",
                "WHERE UnitPrice <  (SELECT AVG(UnitPrice) as [Average Unite Price]\r\n",
                "                    FROM Warehouse.StockItems as SI)\r\n",
                "Order BY UnitPrice desc"
            ],
            "metadata": {
                "azdata_cell_guid": "730f92cb-e453-45e9-a0bd-0b7ced53da9f",
                "language": "sql"
            },
            "outputs": [
                {
                    "output_type": "display_data",
                    "data": {
                        "text/html": "(25 rows affected)"
                    },
                    "metadata": {}
                },
                {
                    "output_type": "display_data",
                    "data": {
                        "text/html": "Total execution time: 00:00:00.013"
                    },
                    "metadata": {}
                },
                {
                    "output_type": "execute_result",
                    "execution_count": 23,
                    "data": {
                        "application/vnd.dataresource+json": {
                            "schema": {
                                "fields": [
                                    {
                                        "name": "StockItemID"
                                    },
                                    {
                                        "name": "StockItemName"
                                    },
                                    {
                                        "name": "UnitPrice"
                                    }
                                ]
                            },
                            "data": [
                                {
                                    "StockItemID": "166",
                                    "StockItemName": "10 mm Anti static bubble wrap (Blue) 20m",
                                    "UnitPrice": "42.00"
                                },
                                {
                                    "StockItemID": "218",
                                    "StockItemName": "Void fill 300 L bag (White) 300L",
                                    "UnitPrice": "37.50"
                                },
                                {
                                    "StockItemID": "163",
                                    "StockItemName": "32 mm Double sided bubble wrap 20m",
                                    "UnitPrice": "37.00"
                                },
                                {
                                    "StockItemID": "102",
                                    "StockItemName": "Alien officer hoodie (Black) XL",
                                    "UnitPrice": "35.00"
                                },
                                {
                                    "StockItemID": "103",
                                    "StockItemName": "Alien officer hoodie (Black) XXL",
                                    "UnitPrice": "35.00"
                                },
                                {
                                    "StockItemID": "104",
                                    "StockItemName": "Alien officer hoodie (Black) 3XL",
                                    "UnitPrice": "35.00"
                                },
                                {
                                    "StockItemID": "105",
                                    "StockItemName": "Alien officer hoodie (Black) 4XL",
                                    "UnitPrice": "35.00"
                                },
                                {
                                    "StockItemID": "106",
                                    "StockItemName": "Alien officer hoodie (Black) 5XL",
                                    "UnitPrice": "35.00"
                                },
                                {
                                    "StockItemID": "115",
                                    "StockItemName": "Superhero action jacket (Blue) 3XL",
                                    "UnitPrice": "34.00"
                                },
                                {
                                    "StockItemID": "116",
                                    "StockItemName": "Superhero action jacket (Blue) 4XL",
                                    "UnitPrice": "34.00"
                                },
                                {
                                    "StockItemID": "117",
                                    "StockItemName": "Superhero action jacket (Blue) 5XL",
                                    "UnitPrice": "34.00"
                                },
                                {
                                    "StockItemID": "160",
                                    "StockItemName": "20 mm Double sided bubble wrap 20m",
                                    "UnitPrice": "33.00"
                                },
                                {
                                    "StockItemID": "171",
                                    "StockItemName": "32 mm Anti static bubble wrap (Blue) 10m",
                                    "UnitPrice": "32.00"
                                },
                                {
                                    "StockItemID": "118",
                                    "StockItemName": "Dinosaur battery-powered slippers (Green) S",
                                    "UnitPrice": "32.00"
                                },
                                {
                                    "StockItemID": "119",
                                    "StockItemName": "Dinosaur battery-powered slippers (Green) M",
                                    "UnitPrice": "32.00"
                                },
                                {
                                    "StockItemID": "120",
                                    "StockItemName": "Dinosaur battery-powered slippers (Green) L",
                                    "UnitPrice": "32.00"
                                },
                                {
                                    "StockItemID": "121",
                                    "StockItemName": "Dinosaur battery-powered slippers (Green) XL",
                                    "UnitPrice": "32.00"
                                },
                                {
                                    "StockItemID": "122",
                                    "StockItemName": "Ogre battery-powered slippers (Green) S",
                                    "UnitPrice": "32.00"
                                },
                                {
                                    "StockItemID": "123",
                                    "StockItemName": "Ogre battery-powered slippers (Green) M",
                                    "UnitPrice": "32.00"
                                },
                                {
                                    "StockItemID": "124",
                                    "StockItemName": "Ogre battery-powered slippers (Green) L",
                                    "UnitPrice": "32.00"
                                },
                                {
                                    "StockItemID": "125",
                                    "StockItemName": "Ogre battery-powered slippers (Green) XL",
                                    "UnitPrice": "32.00"
                                },
                                {
                                    "StockItemID": "126",
                                    "StockItemName": "Plush shark slippers (Gray) S",
                                    "UnitPrice": "32.00"
                                },
                                {
                                    "StockItemID": "127",
                                    "StockItemName": "Plush shark slippers (Gray) M",
                                    "UnitPrice": "32.00"
                                },
                                {
                                    "StockItemID": "128",
                                    "StockItemName": "Plush shark slippers (Gray) L",
                                    "UnitPrice": "32.00"
                                },
                                {
                                    "StockItemID": "129",
                                    "StockItemName": "Plush shark slippers (Gray) XL",
                                    "UnitPrice": "32.00"
                                }
                            ]
                        },
                        "text/html": "<table><tr><th>StockItemID</th><th>StockItemName</th><th>UnitPrice</th></tr><tr><td>166</td><td>10 mm Anti static bubble wrap (Blue) 20m</td><td>42.00</td></tr><tr><td>218</td><td>Void fill 300 L bag (White) 300L</td><td>37.50</td></tr><tr><td>163</td><td>32 mm Double sided bubble wrap 20m</td><td>37.00</td></tr><tr><td>102</td><td>Alien officer hoodie (Black) XL</td><td>35.00</td></tr><tr><td>103</td><td>Alien officer hoodie (Black) XXL</td><td>35.00</td></tr><tr><td>104</td><td>Alien officer hoodie (Black) 3XL</td><td>35.00</td></tr><tr><td>105</td><td>Alien officer hoodie (Black) 4XL</td><td>35.00</td></tr><tr><td>106</td><td>Alien officer hoodie (Black) 5XL</td><td>35.00</td></tr><tr><td>115</td><td>Superhero action jacket (Blue) 3XL</td><td>34.00</td></tr><tr><td>116</td><td>Superhero action jacket (Blue) 4XL</td><td>34.00</td></tr><tr><td>117</td><td>Superhero action jacket (Blue) 5XL</td><td>34.00</td></tr><tr><td>160</td><td>20 mm Double sided bubble wrap 20m</td><td>33.00</td></tr><tr><td>171</td><td>32 mm Anti static bubble wrap (Blue) 10m</td><td>32.00</td></tr><tr><td>118</td><td>Dinosaur battery-powered slippers (Green) S</td><td>32.00</td></tr><tr><td>119</td><td>Dinosaur battery-powered slippers (Green) M</td><td>32.00</td></tr><tr><td>120</td><td>Dinosaur battery-powered slippers (Green) L</td><td>32.00</td></tr><tr><td>121</td><td>Dinosaur battery-powered slippers (Green) XL</td><td>32.00</td></tr><tr><td>122</td><td>Ogre battery-powered slippers (Green) S</td><td>32.00</td></tr><tr><td>123</td><td>Ogre battery-powered slippers (Green) M</td><td>32.00</td></tr><tr><td>124</td><td>Ogre battery-powered slippers (Green) L</td><td>32.00</td></tr><tr><td>125</td><td>Ogre battery-powered slippers (Green) XL</td><td>32.00</td></tr><tr><td>126</td><td>Plush shark slippers (Gray) S</td><td>32.00</td></tr><tr><td>127</td><td>Plush shark slippers (Gray) M</td><td>32.00</td></tr><tr><td>128</td><td>Plush shark slippers (Gray) L</td><td>32.00</td></tr><tr><td>129</td><td>Plush shark slippers (Gray) XL</td><td>32.00</td></tr></table>"
                    },
                    "metadata": {}
                }
            ],
            "execution_count": 23
        },
        {
            "cell_type": "markdown",
            "source": [
                "### 3\\. \\*Top 25\\* Customers Who Placed Orders with High Average Order Value\n",
                "\n",
                "Write a query to find customers whose average order value is higher than the overall average order value. Use a subquery to calculate the average order value per customer, and another to calculate the overall average order value."
            ],
            "metadata": {
                "language": "sql",
                "azdata_cell_guid": "f27a3efd-10f3-4909-b937-a35c34070812"
            },
            "attachments": {}
        },
        {
            "cell_type": "code",
            "source": [
                "WITH AVG_OV_CTE AS \r\n",
                "(\r\n",
                "    SELECT O.CustomerID, AVG(OL.UnitPrice * OL.Quantity) as [Avg Order Value]\r\n",
                "    FROM Sales.Orders as O\r\n",
                "    INNER JOIN Sales.OrderLines as OL on O.OrderID = OL.OrderID\r\n",
                "    GROUP BY O.CustomerID\r\n",
                ")\r\n",
                " \r\n",
                "\r\n",
                "SELECT TOP(25) [AVG_OV_CTE].CustomerID, C.CustomerName, [AVG_OV_CTE].[Avg Order Value]\r\n",
                "FROM AVG_OV_CTE \r\n",
                "INNER JOIN Sales.Customers as C on C.[CustomerID] = [AVG_OV_CTE].CustomerID\r\n",
                "WHERE [Avg Order Value] > (SELECT AVG([Avg Order Value]) as [Overall Average Order Value] FROM AVG_OV_CTE)\r\n",
                "ORDER BY [Avg Order Value] DESC\r\n",
                ""
            ],
            "metadata": {
                "language": "sql",
                "azdata_cell_guid": "69bb2aec-27a3-4214-9fbd-26ca0ac99134"
            },
            "outputs": [
                {
                    "output_type": "display_data",
                    "data": {
                        "text/html": "(25 rows affected)"
                    },
                    "metadata": {}
                },
                {
                    "output_type": "display_data",
                    "data": {
                        "text/html": "Total execution time: 00:00:00.095"
                    },
                    "metadata": {}
                },
                {
                    "output_type": "execute_result",
                    "execution_count": 11,
                    "data": {
                        "application/vnd.dataresource+json": {
                            "schema": {
                                "fields": [
                                    {
                                        "name": "CustomerID"
                                    },
                                    {
                                        "name": "CustomerName"
                                    },
                                    {
                                        "name": "Avg Order Value"
                                    }
                                ]
                            },
                            "data": [
                                {
                                    "CustomerID": "1058",
                                    "CustomerName": "Jaroslav Fisar",
                                    "Avg Order Value": "1091.048000"
                                },
                                {
                                    "CustomerID": "945",
                                    "CustomerName": "Hoc Tran",
                                    "Avg Order Value": "1026.202960"
                                },
                                {
                                    "CustomerID": "1036",
                                    "CustomerName": "Erik Malk",
                                    "Avg Order Value": "1019.220858"
                                },
                                {
                                    "CustomerID": "996",
                                    "CustomerName": "Laszlo Gardenier",
                                    "Avg Order Value": "1012.747308"
                                },
                                {
                                    "CustomerID": "870",
                                    "CustomerName": "In-Su Bae",
                                    "Avg Order Value": "1009.979848"
                                },
                                {
                                    "CustomerID": "109",
                                    "CustomerName": "Tailspin Toys (South Laguna, CA)",
                                    "Avg Order Value": "1006.387066"
                                },
                                {
                                    "CustomerID": "1056",
                                    "CustomerName": "Kalyani Benjaree",
                                    "Avg Order Value": "995.743333"
                                },
                                {
                                    "CustomerID": "1006",
                                    "CustomerName": "Taj Syme",
                                    "Avg Order Value": "989.940752"
                                },
                                {
                                    "CustomerID": "415",
                                    "CustomerName": "Wingtip Toys (Leathersville, GA)",
                                    "Avg Order Value": "979.646234"
                                },
                                {
                                    "CustomerID": "4",
                                    "CustomerName": "Tailspin Toys (Medicine Lodge, KS)",
                                    "Avg Order Value": "968.547819"
                                },
                                {
                                    "CustomerID": "550",
                                    "CustomerName": "Wingtip Toys (Morrison Bluff, AR)",
                                    "Avg Order Value": "966.897587"
                                },
                                {
                                    "CustomerID": "192",
                                    "CustomerName": "Tailspin Toys (Optimo, NM)",
                                    "Avg Order Value": "960.269230"
                                },
                                {
                                    "CustomerID": "977",
                                    "CustomerName": "Mauno Laurila",
                                    "Avg Order Value": "959.770483"
                                },
                                {
                                    "CustomerID": "40",
                                    "CustomerName": "Tailspin Toys (Impact, TX)",
                                    "Avg Order Value": "958.313808"
                                },
                                {
                                    "CustomerID": "533",
                                    "CustomerName": "Wingtip Toys (Nichols Hills, OK)",
                                    "Avg Order Value": "950.853135"
                                },
                                {
                                    "CustomerID": "480",
                                    "CustomerName": "Wingtip Toys (Wapinitia, OR)",
                                    "Avg Order Value": "939.460686"
                                },
                                {
                                    "CustomerID": "834",
                                    "CustomerName": "Cong Hoa",
                                    "Avg Order Value": "935.968508"
                                },
                                {
                                    "CustomerID": "86",
                                    "CustomerName": "Tailspin Toys (New Lexington, OH)",
                                    "Avg Order Value": "935.042507"
                                },
                                {
                                    "CustomerID": "422",
                                    "CustomerName": "Wingtip Toys (Naches, WA)",
                                    "Avg Order Value": "929.676779"
                                },
                                {
                                    "CustomerID": "582",
                                    "CustomerName": "Wingtip Toys (Montoya, NM)",
                                    "Avg Order Value": "925.559331"
                                },
                                {
                                    "CustomerID": "14",
                                    "CustomerName": "Tailspin Toys (Long Meadow, MD)",
                                    "Avg Order Value": "925.084382"
                                },
                                {
                                    "CustomerID": "983",
                                    "CustomerName": "Sabine Alksne",
                                    "Avg Order Value": "924.938922"
                                },
                                {
                                    "CustomerID": "81",
                                    "CustomerName": "Tailspin Toys (Big Moose, NY)",
                                    "Avg Order Value": "922.184400"
                                },
                                {
                                    "CustomerID": "874",
                                    "CustomerName": "Daniel Martensson",
                                    "Avg Order Value": "921.825706"
                                },
                                {
                                    "CustomerID": "949",
                                    "CustomerName": "Seo-yun Paik",
                                    "Avg Order Value": "920.364435"
                                }
                            ]
                        },
                        "text/html": "<table><tr><th>CustomerID</th><th>CustomerName</th><th>Avg Order Value</th></tr><tr><td>1058</td><td>Jaroslav Fisar</td><td>1091.048000</td></tr><tr><td>945</td><td>Hoc Tran</td><td>1026.202960</td></tr><tr><td>1036</td><td>Erik Malk</td><td>1019.220858</td></tr><tr><td>996</td><td>Laszlo Gardenier</td><td>1012.747308</td></tr><tr><td>870</td><td>In-Su Bae</td><td>1009.979848</td></tr><tr><td>109</td><td>Tailspin Toys (South Laguna, CA)</td><td>1006.387066</td></tr><tr><td>1056</td><td>Kalyani Benjaree</td><td>995.743333</td></tr><tr><td>1006</td><td>Taj Syme</td><td>989.940752</td></tr><tr><td>415</td><td>Wingtip Toys (Leathersville, GA)</td><td>979.646234</td></tr><tr><td>4</td><td>Tailspin Toys (Medicine Lodge, KS)</td><td>968.547819</td></tr><tr><td>550</td><td>Wingtip Toys (Morrison Bluff, AR)</td><td>966.897587</td></tr><tr><td>192</td><td>Tailspin Toys (Optimo, NM)</td><td>960.269230</td></tr><tr><td>977</td><td>Mauno Laurila</td><td>959.770483</td></tr><tr><td>40</td><td>Tailspin Toys (Impact, TX)</td><td>958.313808</td></tr><tr><td>533</td><td>Wingtip Toys (Nichols Hills, OK)</td><td>950.853135</td></tr><tr><td>480</td><td>Wingtip Toys (Wapinitia, OR)</td><td>939.460686</td></tr><tr><td>834</td><td>Cong Hoa</td><td>935.968508</td></tr><tr><td>86</td><td>Tailspin Toys (New Lexington, OH)</td><td>935.042507</td></tr><tr><td>422</td><td>Wingtip Toys (Naches, WA)</td><td>929.676779</td></tr><tr><td>582</td><td>Wingtip Toys (Montoya, NM)</td><td>925.559331</td></tr><tr><td>14</td><td>Tailspin Toys (Long Meadow, MD)</td><td>925.084382</td></tr><tr><td>983</td><td>Sabine Alksne</td><td>924.938922</td></tr><tr><td>81</td><td>Tailspin Toys (Big Moose, NY)</td><td>922.184400</td></tr><tr><td>874</td><td>Daniel Martensson</td><td>921.825706</td></tr><tr><td>949</td><td>Seo-yun Paik</td><td>920.364435</td></tr></table>"
                    },
                    "metadata": {}
                }
            ],
            "execution_count": 11
        },
        {
            "cell_type": "markdown",
            "source": [
                "### 4\\. Suppliers Providing More than the Average Number of Products\n",
                "\n",
                "Write a query to find suppliers who supply more products than the average number of products supplied by all suppliers. Use a subquery to determine the average number of products supplied."
            ],
            "metadata": {
                "language": "sql",
                "azdata_cell_guid": "178852ab-7493-4ae0-aad0-3899817fd932"
            },
            "attachments": {}
        },
        {
            "cell_type": "code",
            "source": [
                "DECLARE @AvgProductsSupplied DECIMAL(10,2) = \r\n",
                "(SELECT AVG([Products Supplied]) \r\n",
                " FROM   (SELECT SI.SupplierID, COUNT(DISTINCT SI.StockItemID) as [Products Supplied]\r\n",
                "        FROM Warehouse.StockItems as SI\r\n",
                "        GROUP BY SI.SupplierID\r\n",
                "        ) as PS\r\n",
                ");\r\n",
                "\r\n",
                "\r\n",
                "SELECT SI.SupplierID, S.SupplierName, COUNT(DISTINCT SI.StockItemID) as [Products Supplied]\r\n",
                "FROM Warehouse.StockItems as SI\r\n",
                "INNER JOIN Purchasing.Suppliers as S on S.SupplierID = SI.SupplierID\r\n",
                "GROUP BY SI.SupplierID, S.SupplierName\r\n",
                "HAVING COUNT(DISTINCT SI.StockItemID) > @AvgProductsSupplied"
            ],
            "metadata": {
                "language": "sql",
                "azdata_cell_guid": "f617e19b-8427-494a-b805-b718c6c748d5"
            },
            "outputs": [
                {
                    "output_type": "display_data",
                    "data": {
                        "text/html": "(3 rows affected)"
                    },
                    "metadata": {}
                },
                {
                    "output_type": "display_data",
                    "data": {
                        "text/html": "Total execution time: 00:00:00.015"
                    },
                    "metadata": {}
                },
                {
                    "output_type": "execute_result",
                    "execution_count": 32,
                    "data": {
                        "application/vnd.dataresource+json": {
                            "schema": {
                                "fields": [
                                    {
                                        "name": "SupplierID"
                                    },
                                    {
                                        "name": "SupplierName"
                                    },
                                    {
                                        "name": "Products Supplied"
                                    }
                                ]
                            },
                            "data": [
                                {
                                    "SupplierID": "4",
                                    "SupplierName": "Fabrikam, Inc.",
                                    "Products Supplied": "74"
                                },
                                {
                                    "SupplierID": "5",
                                    "SupplierName": "Graphic Design Institute",
                                    "Products Supplied": "42"
                                },
                                {
                                    "SupplierID": "7",
                                    "SupplierName": "Litware, Inc.",
                                    "Products Supplied": "67"
                                }
                            ]
                        },
                        "text/html": "<table><tr><th>SupplierID</th><th>SupplierName</th><th>Products Supplied</th></tr><tr><td>4</td><td>Fabrikam, Inc.</td><td>74</td></tr><tr><td>5</td><td>Graphic Design Institute</td><td>42</td></tr><tr><td>7</td><td>Litware, Inc.</td><td>67</td></tr></table>"
                    },
                    "metadata": {}
                }
            ],
            "execution_count": 32
        },
        {
            "cell_type": "markdown",
            "source": [
                "### 5\\. \\*top 5\\* Orders That Contain Products from the Same Supplier\n",
                "\n",
                "Write a query to list all orders that contain products sourced from a single supplier. Use a subquery to find the supplier associated with each product in the order and compare the results."
            ],
            "metadata": {
                "language": "sql",
                "azdata_cell_guid": "9bd0d4f9-b7b4-4ec7-a3c2-fa612a105cf9"
            },
            "attachments": {}
        },
        {
            "cell_type": "code",
            "source": [
                "SELECT TOP(5)OrderID\r\n",
                "FROM Sales.OrderLines\r\n",
                "WHERE OrderID IN (\r\n",
                "    SELECT OrderID\r\n",
                "    FROM Sales.OrderLines AS ol\r\n",
                "    JOIN Warehouse.StockItems AS si ON ol.StockItemID = si.StockItemID\r\n",
                "    GROUP BY OrderID\r\n",
                "    HAVING COUNT(DISTINCT si.SupplierID) = 1\r\n",
                ");\r\n",
                ""
            ],
            "metadata": {
                "language": "sql",
                "azdata_cell_guid": "a5fd914c-51bf-4145-865a-8dff3bed926f"
            },
            "outputs": [
                {
                    "output_type": "display_data",
                    "data": {
                        "text/html": "(5 rows affected)"
                    },
                    "metadata": {}
                },
                {
                    "output_type": "display_data",
                    "data": {
                        "text/html": "Total execution time: 00:00:00.102"
                    },
                    "metadata": {}
                },
                {
                    "output_type": "execute_result",
                    "execution_count": 18,
                    "data": {
                        "application/vnd.dataresource+json": {
                            "schema": {
                                "fields": [
                                    {
                                        "name": "OrderID"
                                    }
                                ]
                            },
                            "data": [
                                {
                                    "OrderID": "697"
                                },
                                {
                                    "OrderID": "153"
                                },
                                {
                                    "OrderID": "765"
                                },
                                {
                                    "OrderID": "1301"
                                },
                                {
                                    "OrderID": "1301"
                                }
                            ]
                        },
                        "text/html": "<table><tr><th>OrderID</th></tr><tr><td>697</td></tr><tr><td>153</td></tr><tr><td>765</td></tr><tr><td>1301</td></tr><tr><td>1301</td></tr></table>"
                    },
                    "metadata": {}
                }
            ],
            "execution_count": 18
        },
        {
            "cell_type": "markdown",
            "source": [
                "### Chapter 5\n",
                "\n",
                "ChatGPT Proposition Link: https://chatgpt.com/share/6702d533-410c-800f-932e-6d1330c01b36"
            ],
            "metadata": {
                "language": "sql",
                "azdata_cell_guid": "b10c1081-6093-4d31-84fe-93829e66e5fd"
            },
            "attachments": {}
        },
        {
            "cell_type": "markdown",
            "source": [
                "## Proposition 1:\n",
                "\n",
                "Write a query using a **Common Table Expression (CTE)** that retrieves the total number of orders and total sales amount for each customer from the `Sales.Invoices` table, and then filters for customers who have made more than 450 orders."
            ],
            "metadata": {
                "language": "sql",
                "azdata_cell_guid": "6c0b104a-0d6a-4e4d-89e3-533ca92b3074"
            },
            "attachments": {}
        },
        {
            "cell_type": "code",
            "source": [
                "WITH C_Order_Sales_CTE AS\r\n",
                "    (SELECT C.CustomerID, C.CustomerName, COUNT(O.OrderID) as [Total Orders], SUM(OL.UnitPrice * OL.Quantity) as [Total Sales]\r\n",
                "    FROM Sales.Customers as C\r\n",
                "    INNER JOIN Sales.Orders as O on C.CustomerID = O.CustomerID\r\n",
                "    INNER JOIN Sales.OrderLines as OL on O.OrderID = OL.OrderID\r\n",
                "    GROUP BY C.CustomerID, C.CustomerName\r\n",
                "    )\r\n",
                "\r\n",
                "SELECT CustomerName, [Total Orders]\r\n",
                "FROM C_Order_Sales_CTE \r\n",
                "WHERE [Total Orders] > 450"
            ],
            "metadata": {
                "language": "sql",
                "azdata_cell_guid": "32d5d5f6-da2d-427e-9b1e-a3e27143b992",
                "tags": []
            },
            "outputs": [
                {
                    "output_type": "display_data",
                    "data": {
                        "text/html": "(4 rows affected)"
                    },
                    "metadata": {}
                },
                {
                    "output_type": "display_data",
                    "data": {
                        "text/html": "Total execution time: 00:00:00.053"
                    },
                    "metadata": {}
                },
                {
                    "output_type": "execute_result",
                    "metadata": {},
                    "execution_count": 4,
                    "data": {
                        "application/vnd.dataresource+json": {
                            "schema": {
                                "fields": [
                                    {
                                        "name": "CustomerName"
                                    },
                                    {
                                        "name": "Total Orders"
                                    }
                                ]
                            },
                            "data": [
                                {
                                    "CustomerName": "Bhaavan Rai",
                                    "Total Orders": "460"
                                },
                                {
                                    "CustomerName": "Tailspin Toys (Tolna, ND)",
                                    "Total Orders": "454"
                                },
                                {
                                    "CustomerName": "Aleksandrs Riekstins",
                                    "Total Orders": "457"
                                },
                                {
                                    "CustomerName": "Tailspin Toys (Vidrine, LA)",
                                    "Total Orders": "461"
                                }
                            ]
                        },
                        "text/html": [
                            "<table>",
                            "<tr><th>CustomerName</th><th>Total Orders</th></tr>",
                            "<tr><td>Bhaavan Rai</td><td>460</td></tr>",
                            "<tr><td>Tailspin Toys (Tolna, ND)</td><td>454</td></tr>",
                            "<tr><td>Aleksandrs Riekstins</td><td>457</td></tr>",
                            "<tr><td>Tailspin Toys (Vidrine, LA)</td><td>461</td></tr>",
                            "</table>"
                        ]
                    }
                }
            ],
            "execution_count": 4
        },
        {
            "cell_type": "markdown",
            "source": [
                "## Proposition 2:\n",
                "\n",
                "Write a query using a **Common Table Expression (CTE)** that calculates the average sales amount per order for each month over the last year from the `Sales.Invoices` table, and then identifies the month with the highest average sales.\n",
                ""
            ],
            "metadata": {
                "language": "sql",
                "azdata_cell_guid": "c8bb13b7-b2a0-42db-89e5-a693611f2a82"
            },
            "attachments": {}
        },
        {
            "cell_type": "code",
            "source": [
                "WITH [Average_Sales_Monthly_CTE] AS\r\n",
                "(SELECT MONTH(InvoiceDate) as [Month], Year(InvoiceDate) as [Year], AVG(IL.UnitPrice * IL.Quantity) as [Average Sales per Order]\r\n",
                "FROM Sales.Invoices as I\r\n",
                "INNER JOIN Sales.InvoiceLines as IL on I.InvoiceID = IL.InvoiceID\r\n",
                "GROUP BY MONTH(InvoiceDate), Year(InvoiceDate)\r\n",
                ")\r\n",
                "\r\n",
                "\r\n",
                "SELECT [ASM_CTE].[Month], AVG([ASM_CTE].[Average Sales per Order]) as [Monthly Average]\r\n",
                "FROM [Average_Sales_Monthly_CTE] as ASM_CTE\r\n",
                "GROUP BY ASM_CTE.[Month]\r\n",
                "ORDER BY [Monthly Average] DESC"
            ],
            "metadata": {
                "language": "sql",
                "azdata_cell_guid": "88a567d3-0ec2-4ed6-bcc6-c9e29ba1800d"
            },
            "outputs": [
                {
                    "output_type": "display_data",
                    "data": {
                        "text/html": "(12 rows affected)"
                    },
                    "metadata": {}
                },
                {
                    "output_type": "display_data",
                    "data": {
                        "text/html": "Total execution time: 00:00:00.107"
                    },
                    "metadata": {}
                },
                {
                    "output_type": "execute_result",
                    "metadata": {},
                    "execution_count": 38,
                    "data": {
                        "application/vnd.dataresource+json": {
                            "schema": {
                                "fields": [
                                    {
                                        "name": "Month"
                                    },
                                    {
                                        "name": "Monthly Average"
                                    }
                                ]
                            },
                            "data": [
                                {
                                    "Month": "5",
                                    "Monthly Average": "772.540514"
                                },
                                {
                                    "Month": "4",
                                    "Monthly Average": "767.554226"
                                },
                                {
                                    "Month": "8",
                                    "Monthly Average": "760.353056"
                                },
                                {
                                    "Month": "11",
                                    "Monthly Average": "758.134746"
                                },
                                {
                                    "Month": "2",
                                    "Monthly Average": "755.957641"
                                },
                                {
                                    "Month": "3",
                                    "Monthly Average": "755.788880"
                                },
                                {
                                    "Month": "7",
                                    "Monthly Average": "753.667018"
                                },
                                {
                                    "Month": "9",
                                    "Monthly Average": "753.543906"
                                },
                                {
                                    "Month": "6",
                                    "Monthly Average": "749.253697"
                                },
                                {
                                    "Month": "1",
                                    "Monthly Average": "743.690071"
                                },
                                {
                                    "Month": "12",
                                    "Monthly Average": "740.997090"
                                },
                                {
                                    "Month": "10",
                                    "Monthly Average": "736.099449"
                                }
                            ]
                        },
                        "text/html": [
                            "<table>",
                            "<tr><th>Month</th><th>Monthly Average</th></tr>",
                            "<tr><td>5</td><td>772.540514</td></tr>",
                            "<tr><td>4</td><td>767.554226</td></tr>",
                            "<tr><td>8</td><td>760.353056</td></tr>",
                            "<tr><td>11</td><td>758.134746</td></tr>",
                            "<tr><td>2</td><td>755.957641</td></tr>",
                            "<tr><td>3</td><td>755.788880</td></tr>",
                            "<tr><td>7</td><td>753.667018</td></tr>",
                            "<tr><td>9</td><td>753.543906</td></tr>",
                            "<tr><td>6</td><td>749.253697</td></tr>",
                            "<tr><td>1</td><td>743.690071</td></tr>",
                            "<tr><td>12</td><td>740.997090</td></tr>",
                            "<tr><td>10</td><td>736.099449</td></tr>",
                            "</table>"
                        ]
                    }
                }
            ],
            "execution_count": 38
        },
        {
            "cell_type": "markdown",
            "source": [
                "## Proposition 3:\n",
                "\n",
                "Using a **CTE**, calculate the stock levels for each item in the `Warehouse.StockItems` table, and then find the stock items that have more than 100,000 units available."
            ],
            "metadata": {
                "language": "sql",
                "azdata_cell_guid": "3b9840c7-b069-43a0-9452-0776267eb644"
            },
            "attachments": {}
        },
        {
            "cell_type": "code",
            "source": [
                "WITH StockLevels AS \r\n",
                "(SELECT SI.StockItemID, SI.StockItemName, SI.UnitPrice, SIH.QuantityOnHand\r\n",
                "FROM Warehouse.StockItems as SI\r\n",
                "INNER JOIN Warehouse.StockItemHoldings as SIH on SI.StockItemID = SIH.StockItemID\r\n",
                ")\r\n",
                "\r\n",
                "SELECT StockItemName, QuantityOnHand, UnitPrice\r\n",
                "FROM StockLevels\r\n",
                "WHERE QuantityOnHand > 100000"
            ],
            "metadata": {
                "language": "sql",
                "azdata_cell_guid": "c0fd95d5-024c-4c06-816c-3e19e6947541",
                "tags": []
            },
            "outputs": [
                {
                    "output_type": "display_data",
                    "data": {
                        "text/html": "(94 rows affected)"
                    },
                    "metadata": {}
                },
                {
                    "output_type": "display_data",
                    "data": {
                        "text/html": "Total execution time: 00:00:00.015"
                    },
                    "metadata": {}
                },
                {
                    "output_type": "execute_result",
                    "metadata": {},
                    "execution_count": 10,
                    "data": {
                        "application/vnd.dataresource+json": {
                            "schema": {
                                "fields": [
                                    {
                                        "name": "StockItemName"
                                    },
                                    {
                                        "name": "QuantityOnHand"
                                    },
                                    {
                                        "name": "UnitPrice"
                                    }
                                ]
                            },
                            "data": [
                                {
                                    "StockItemName": "USB missile launcher (Green)",
                                    "QuantityOnHand": "175609",
                                    "UnitPrice": "25.00"
                                },
                                {
                                    "StockItemName": "USB rocket launcher (Gray)",
                                    "QuantityOnHand": "165538",
                                    "UnitPrice": "25.00"
                                },
                                {
                                    "StockItemName": "Office cube periscope (Black)",
                                    "QuantityOnHand": "253190",
                                    "UnitPrice": "18.50"
                                },
                                {
                                    "StockItemName": "USB food flash drive - sushi roll",
                                    "QuantityOnHand": "208109",
                                    "UnitPrice": "32.00"
                                },
                                {
                                    "StockItemName": "USB food flash drive - hamburger",
                                    "QuantityOnHand": "199064",
                                    "UnitPrice": "32.00"
                                },
                                {
                                    "StockItemName": "USB food flash drive - hot dog",
                                    "QuantityOnHand": "196995",
                                    "UnitPrice": "32.00"
                                },
                                {
                                    "StockItemName": "USB food flash drive - pizza slice",
                                    "QuantityOnHand": "205295",
                                    "UnitPrice": "32.00"
                                },
                                {
                                    "StockItemName": "USB food flash drive - dim sum 10 drive variety pack",
                                    "QuantityOnHand": "412277",
                                    "UnitPrice": "240.00"
                                },
                                {
                                    "StockItemName": "USB food flash drive - banana",
                                    "QuantityOnHand": "192749",
                                    "UnitPrice": "32.00"
                                },
                                {
                                    "StockItemName": "USB food flash drive - chocolate bar",
                                    "QuantityOnHand": "222572",
                                    "UnitPrice": "32.00"
                                },
                                {
                                    "StockItemName": "USB food flash drive - cookie",
                                    "QuantityOnHand": "203148",
                                    "UnitPrice": "32.00"
                                },
                                {
                                    "StockItemName": "USB food flash drive - donut",
                                    "QuantityOnHand": "200406",
                                    "UnitPrice": "32.00"
                                },
                                {
                                    "StockItemName": "USB food flash drive - shrimp cocktail",
                                    "QuantityOnHand": "197453",
                                    "UnitPrice": "32.00"
                                },
                                {
                                    "StockItemName": "USB food flash drive - fortune cookie",
                                    "QuantityOnHand": "192358",
                                    "UnitPrice": "32.00"
                                },
                                {
                                    "StockItemName": "USB food flash drive - dessert 10 drive variety pack",
                                    "QuantityOnHand": "398290",
                                    "UnitPrice": "240.00"
                                },
                                {
                                    "StockItemName": "RC toy sedan car with remote control (Black) 1/50 scale",
                                    "QuantityOnHand": "174043",
                                    "UnitPrice": "25.00"
                                },
                                {
                                    "StockItemName": "RC toy sedan car with remote control (Red) 1/50 scale",
                                    "QuantityOnHand": "190946",
                                    "UnitPrice": "25.00"
                                },
                                {
                                    "StockItemName": "RC toy sedan car with remote control (Blue) 1/50 scale",
                                    "QuantityOnHand": "165484",
                                    "UnitPrice": "25.00"
                                },
                                {
                                    "StockItemName": "RC toy sedan car with remote control (Green) 1/50 scale",
                                    "QuantityOnHand": "163823",
                                    "UnitPrice": "25.00"
                                },
                                {
                                    "StockItemName": "RC toy sedan car with remote control (Yellow) 1/50 scale",
                                    "QuantityOnHand": "180856",
                                    "UnitPrice": "25.00"
                                },
                                {
                                    "StockItemName": "RC toy sedan car with remote control (Pink) 1/50 scale",
                                    "QuantityOnHand": "190886",
                                    "UnitPrice": "25.00"
                                },
                                {
                                    "StockItemName": "RC vintage American toy coupe with remote control (Red) 1/50 scale",
                                    "QuantityOnHand": "213248",
                                    "UnitPrice": "30.00"
                                },
                                {
                                    "StockItemName": "RC vintage American toy coupe with remote control (Black) 1/50 scale",
                                    "QuantityOnHand": "164183",
                                    "UnitPrice": "30.00"
                                },
                                {
                                    "StockItemName": "RC big wheel monster truck with remote control (Black) 1/50 scale",
                                    "QuantityOnHand": "172525",
                                    "UnitPrice": "45.00"
                                },
                                {
                                    "StockItemName": "Ride on toy sedan car (Yellow) 1/12 scale",
                                    "QuantityOnHand": "112020",
                                    "UnitPrice": "230.00"
                                },
                                {
                                    "StockItemName": "Ride on toy sedan car (Pink) 1/12 scale",
                                    "QuantityOnHand": "116147",
                                    "UnitPrice": "230.00"
                                },
                                {
                                    "StockItemName": "Ride on vintage American toy coupe (Red) 1/12 scale",
                                    "QuantityOnHand": "106477",
                                    "UnitPrice": "285.00"
                                },
                                {
                                    "StockItemName": "\"The Gu\" red shirt XML tag t-shirt (White) 3XS",
                                    "QuantityOnHand": "129929",
                                    "UnitPrice": "18.00"
                                },
                                {
                                    "StockItemName": "\"The Gu\" red shirt XML tag t-shirt (White) L",
                                    "QuantityOnHand": "106773",
                                    "UnitPrice": "18.00"
                                },
                                {
                                    "StockItemName": "\"The Gu\" red shirt XML tag t-shirt (White) XXL",
                                    "QuantityOnHand": "224185",
                                    "UnitPrice": "18.00"
                                },
                                {
                                    "StockItemName": "\"The Gu\" red shirt XML tag t-shirt (White) 7XL",
                                    "QuantityOnHand": "148350",
                                    "UnitPrice": "18.00"
                                },
                                {
                                    "StockItemName": "\"The Gu\" red shirt XML tag t-shirt (Black) M",
                                    "QuantityOnHand": "277914",
                                    "UnitPrice": "18.00"
                                },
                                {
                                    "StockItemName": "\"The Gu\" red shirt XML tag t-shirt (Black) L",
                                    "QuantityOnHand": "157255",
                                    "UnitPrice": "18.00"
                                },
                                {
                                    "StockItemName": "\"The Gu\" red shirt XML tag t-shirt (Black) XXL",
                                    "QuantityOnHand": "402445",
                                    "UnitPrice": "18.00"
                                },
                                {
                                    "StockItemName": "\"The Gu\" red shirt XML tag t-shirt (Black) 3XL",
                                    "QuantityOnHand": "525771",
                                    "UnitPrice": "18.00"
                                },
                                {
                                    "StockItemName": "\"The Gu\" red shirt XML tag t-shirt (Black) 5XL",
                                    "QuantityOnHand": "282132",
                                    "UnitPrice": "18.00"
                                },
                                {
                                    "StockItemName": "\"The Gu\" red shirt XML tag t-shirt (Black) 6XL",
                                    "QuantityOnHand": "277863",
                                    "UnitPrice": "18.00"
                                },
                                {
                                    "StockItemName": "Furry animal socks (Pink) S",
                                    "QuantityOnHand": "501745",
                                    "UnitPrice": "5.00"
                                },
                                {
                                    "StockItemName": "Furry animal socks (Pink) M",
                                    "QuantityOnHand": "126418",
                                    "UnitPrice": "5.00"
                                },
                                {
                                    "StockItemName": "Furry animal socks (Pink) L",
                                    "QuantityOnHand": "570360",
                                    "UnitPrice": "5.00"
                                },
                                {
                                    "StockItemName": "Furry animal socks (Pink) XL",
                                    "QuantityOnHand": "328315",
                                    "UnitPrice": "5.00"
                                },
                                {
                                    "StockItemName": "Halloween zombie mask (Light Brown) S",
                                    "QuantityOnHand": "323812",
                                    "UnitPrice": "18.00"
                                },
                                {
                                    "StockItemName": "Halloween zombie mask (Light Brown) M",
                                    "QuantityOnHand": "378187",
                                    "UnitPrice": "18.00"
                                },
                                {
                                    "StockItemName": "Halloween zombie mask (Light Brown) L",
                                    "QuantityOnHand": "379166",
                                    "UnitPrice": "18.00"
                                },
                                {
                                    "StockItemName": "Halloween zombie mask (Light Brown) XL",
                                    "QuantityOnHand": "248519",
                                    "UnitPrice": "18.00"
                                },
                                {
                                    "StockItemName": "Halloween skull mask (Gray) S",
                                    "QuantityOnHand": "327221",
                                    "UnitPrice": "18.00"
                                },
                                {
                                    "StockItemName": "Halloween skull mask (Gray) M",
                                    "QuantityOnHand": "354456",
                                    "UnitPrice": "18.00"
                                },
                                {
                                    "StockItemName": "Halloween skull mask (Gray) L",
                                    "QuantityOnHand": "274041",
                                    "UnitPrice": "18.00"
                                },
                                {
                                    "StockItemName": "Halloween skull mask (Gray) XL",
                                    "QuantityOnHand": "229551",
                                    "UnitPrice": "18.00"
                                },
                                {
                                    "StockItemName": "Small sized bubblewrap roll 10m",
                                    "QuantityOnHand": "168635",
                                    "UnitPrice": "4.50"
                                },
                                {
                                    "StockItemName": "Medium sized bubblewrap roll 20m",
                                    "QuantityOnHand": "105320",
                                    "UnitPrice": "20.00"
                                },
                                {
                                    "StockItemName": "Large sized bubblewrap roll 50m",
                                    "QuantityOnHand": "440171",
                                    "UnitPrice": "24.00"
                                },
                                {
                                    "StockItemName": "10 mm Double sided bubble wrap 10m",
                                    "QuantityOnHand": "172675",
                                    "UnitPrice": "15.00"
                                },
                                {
                                    "StockItemName": "20 mm Double sided bubble wrap 20m",
                                    "QuantityOnHand": "250461",
                                    "UnitPrice": "33.00"
                                },
                                {
                                    "StockItemName": "20 mm Double sided bubble wrap 50m",
                                    "QuantityOnHand": "188962",
                                    "UnitPrice": "108.00"
                                },
                                {
                                    "StockItemName": "32 mm Double sided bubble wrap 10m",
                                    "QuantityOnHand": "269785",
                                    "UnitPrice": "22.00"
                                },
                                {
                                    "StockItemName": "32 mm Double sided bubble wrap 20m",
                                    "QuantityOnHand": "108019",
                                    "UnitPrice": "37.00"
                                },
                                {
                                    "StockItemName": "10 mm Anti static bubble wrap (Blue) 10m",
                                    "QuantityOnHand": "187313",
                                    "UnitPrice": "26.00"
                                },
                                {
                                    "StockItemName": "10 mm Anti static bubble wrap (Blue) 20m",
                                    "QuantityOnHand": "149668",
                                    "UnitPrice": "42.00"
                                },
                                {
                                    "StockItemName": "10 mm Anti static bubble wrap (Blue) 50m",
                                    "QuantityOnHand": "308519",
                                    "UnitPrice": "99.00"
                                },
                                {
                                    "StockItemName": "20 mm Anti static bubble wrap (Blue) 10m",
                                    "QuantityOnHand": "112946",
                                    "UnitPrice": "29.00"
                                },
                                {
                                    "StockItemName": "20 mm Anti static bubble wrap (Blue) 50m",
                                    "QuantityOnHand": "274265",
                                    "UnitPrice": "102.00"
                                },
                                {
                                    "StockItemName": "32 mm Anti static bubble wrap (Blue) 10m",
                                    "QuantityOnHand": "128136",
                                    "UnitPrice": "32.00"
                                },
                                {
                                    "StockItemName": "32 mm Anti static bubble wrap (Blue) 20m",
                                    "QuantityOnHand": "291347",
                                    "UnitPrice": "48.00"
                                },
                                {
                                    "StockItemName": "32 mm Anti static bubble wrap (Blue) 50m",
                                    "QuantityOnHand": "103958",
                                    "UnitPrice": "105.00"
                                },
                                {
                                    "StockItemName": "Shipping carton (Brown) 500x310x310mm",
                                    "QuantityOnHand": "117043",
                                    "UnitPrice": "2.55"
                                },
                                {
                                    "StockItemName": "Shipping carton (Brown) 229x229x229mm",
                                    "QuantityOnHand": "214030",
                                    "UnitPrice": "1.05"
                                },
                                {
                                    "StockItemName": "Shipping carton (Brown) 279x254x217mm",
                                    "QuantityOnHand": "318572",
                                    "UnitPrice": "1.11"
                                },
                                {
                                    "StockItemName": "Shipping carton (Brown) 457x279x279mm",
                                    "QuantityOnHand": "326007",
                                    "UnitPrice": "1.28"
                                },
                                {
                                    "StockItemName": "Shipping carton (Brown) 356x356x279mm",
                                    "QuantityOnHand": "723037",
                                    "UnitPrice": "2.04"
                                },
                                {
                                    "StockItemName": "Shipping carton (Brown) 457x457x457mm",
                                    "QuantityOnHand": "422709",
                                    "UnitPrice": "2.10"
                                },
                                {
                                    "StockItemName": "Express post box 5kg (White) 350x280x130mm",
                                    "QuantityOnHand": "1034169",
                                    "UnitPrice": "0.95"
                                },
                                {
                                    "StockItemName": "3 kg Courier post bag (White) 300x190x95mm",
                                    "QuantityOnHand": "208903",
                                    "UnitPrice": "0.66"
                                },
                                {
                                    "StockItemName": "Clear packaging tape 48mmx75m",
                                    "QuantityOnHand": "324375",
                                    "UnitPrice": "2.90"
                                },
                                {
                                    "StockItemName": "Black and orange fragile despatch tape 48mmx75m",
                                    "QuantityOnHand": "686530",
                                    "UnitPrice": "3.70"
                                },
                                {
                                    "StockItemName": "Black and orange fragile despatch tape 48mmx100m",
                                    "QuantityOnHand": "618169",
                                    "UnitPrice": "4.10"
                                },
                                {
                                    "StockItemName": "Black and orange glass with care despatch tape  48mmx100m",
                                    "QuantityOnHand": "204993",
                                    "UnitPrice": "4.10"
                                },
                                {
                                    "StockItemName": "Black and orange handle with care despatch tape  48mmx100m",
                                    "QuantityOnHand": "654741",
                                    "UnitPrice": "4.10"
                                },
                                {
                                    "StockItemName": "Black and orange this way up despatch tape 48mmx75m",
                                    "QuantityOnHand": "263108",
                                    "UnitPrice": "3.70"
                                },
                                {
                                    "StockItemName": "Red and white urgent despatch tape 48mmx75m",
                                    "QuantityOnHand": "153241",
                                    "UnitPrice": "3.70"
                                },
                                {
                                    "StockItemName": "Tape dispenser (Blue)",
                                    "QuantityOnHand": "169152",
                                    "UnitPrice": "32.00"
                                },
                                {
                                    "StockItemName": "Permanent marker black 5mm nib (Black) 5mm",
                                    "QuantityOnHand": "306414",
                                    "UnitPrice": "2.70"
                                },
                                {
                                    "StockItemName": "Permanent marker blue 5mm nib (Blue) 5mm",
                                    "QuantityOnHand": "250156",
                                    "UnitPrice": "2.70"
                                },
                                {
                                    "StockItemName": "Permanent marker red 5mm nib (Red) 5mm",
                                    "QuantityOnHand": "251435",
                                    "UnitPrice": "2.70"
                                },
                                {
                                    "StockItemName": "Packing knife with metal insert blade (Yellow) 9mm",
                                    "QuantityOnHand": "104161",
                                    "UnitPrice": "1.89"
                                },
                                {
                                    "StockItemName": "Packing knife with metal insert blade (Yellow) 18mm",
                                    "QuantityOnHand": "128179",
                                    "UnitPrice": "2.40"
                                },
                                {
                                    "StockItemName": "Small 9mm replacement blades 9mm",
                                    "QuantityOnHand": "273217",
                                    "UnitPrice": "4.10"
                                },
                                {
                                    "StockItemName": "Large  replacement blades 18mm",
                                    "QuantityOnHand": "248979",
                                    "UnitPrice": "4.30"
                                },
                                {
                                    "StockItemName": "Void fill 200 L bag (White) 200L",
                                    "QuantityOnHand": "128916",
                                    "UnitPrice": "25.00"
                                },
                                {
                                    "StockItemName": "Void fill 300 L bag (White) 300L",
                                    "QuantityOnHand": "107072",
                                    "UnitPrice": "37.50"
                                },
                                {
                                    "StockItemName": "Void fill 400 L bag (White) 400L",
                                    "QuantityOnHand": "108124",
                                    "UnitPrice": "50.00"
                                },
                                {
                                    "StockItemName": "Chocolate sharks 250g",
                                    "QuantityOnHand": "119560",
                                    "UnitPrice": "8.55"
                                },
                                {
                                    "StockItemName": "White chocolate snow balls 250g",
                                    "QuantityOnHand": "155856",
                                    "UnitPrice": "8.55"
                                },
                                {
                                    "StockItemName": "White chocolate moon rocks 250g",
                                    "QuantityOnHand": "245352",
                                    "UnitPrice": "8.55"
                                }
                            ]
                        },
                        "text/html": [
                            "<table>",
                            "<tr><th>StockItemName</th><th>QuantityOnHand</th><th>UnitPrice</th></tr>",
                            "<tr><td>USB missile launcher (Green)</td><td>175609</td><td>25.00</td></tr>",
                            "<tr><td>USB rocket launcher (Gray)</td><td>165538</td><td>25.00</td></tr>",
                            "<tr><td>Office cube periscope (Black)</td><td>253190</td><td>18.50</td></tr>",
                            "<tr><td>USB food flash drive - sushi roll</td><td>208109</td><td>32.00</td></tr>",
                            "<tr><td>USB food flash drive - hamburger</td><td>199064</td><td>32.00</td></tr>",
                            "<tr><td>USB food flash drive - hot dog</td><td>196995</td><td>32.00</td></tr>",
                            "<tr><td>USB food flash drive - pizza slice</td><td>205295</td><td>32.00</td></tr>",
                            "<tr><td>USB food flash drive - dim sum 10 drive variety pack</td><td>412277</td><td>240.00</td></tr>",
                            "<tr><td>USB food flash drive - banana</td><td>192749</td><td>32.00</td></tr>",
                            "<tr><td>USB food flash drive - chocolate bar</td><td>222572</td><td>32.00</td></tr>",
                            "<tr><td>USB food flash drive - cookie</td><td>203148</td><td>32.00</td></tr>",
                            "<tr><td>USB food flash drive - donut</td><td>200406</td><td>32.00</td></tr>",
                            "<tr><td>USB food flash drive - shrimp cocktail</td><td>197453</td><td>32.00</td></tr>",
                            "<tr><td>USB food flash drive - fortune cookie</td><td>192358</td><td>32.00</td></tr>",
                            "<tr><td>USB food flash drive - dessert 10 drive variety pack</td><td>398290</td><td>240.00</td></tr>",
                            "<tr><td>RC toy sedan car with remote control (Black) 1/50 scale</td><td>174043</td><td>25.00</td></tr>",
                            "<tr><td>RC toy sedan car with remote control (Red) 1/50 scale</td><td>190946</td><td>25.00</td></tr>",
                            "<tr><td>RC toy sedan car with remote control (Blue) 1/50 scale</td><td>165484</td><td>25.00</td></tr>",
                            "<tr><td>RC toy sedan car with remote control (Green) 1/50 scale</td><td>163823</td><td>25.00</td></tr>",
                            "<tr><td>RC toy sedan car with remote control (Yellow) 1/50 scale</td><td>180856</td><td>25.00</td></tr>",
                            "<tr><td>RC toy sedan car with remote control (Pink) 1/50 scale</td><td>190886</td><td>25.00</td></tr>",
                            "<tr><td>RC vintage American toy coupe with remote control (Red) 1/50 scale</td><td>213248</td><td>30.00</td></tr>",
                            "<tr><td>RC vintage American toy coupe with remote control (Black) 1/50 scale</td><td>164183</td><td>30.00</td></tr>",
                            "<tr><td>RC big wheel monster truck with remote control (Black) 1/50 scale</td><td>172525</td><td>45.00</td></tr>",
                            "<tr><td>Ride on toy sedan car (Yellow) 1/12 scale</td><td>112020</td><td>230.00</td></tr>",
                            "<tr><td>Ride on toy sedan car (Pink) 1/12 scale</td><td>116147</td><td>230.00</td></tr>",
                            "<tr><td>Ride on vintage American toy coupe (Red) 1/12 scale</td><td>106477</td><td>285.00</td></tr>",
                            "<tr><td>&quot;The Gu&quot; red shirt XML tag t-shirt (White) 3XS</td><td>129929</td><td>18.00</td></tr>",
                            "<tr><td>&quot;The Gu&quot; red shirt XML tag t-shirt (White) L</td><td>106773</td><td>18.00</td></tr>",
                            "<tr><td>&quot;The Gu&quot; red shirt XML tag t-shirt (White) XXL</td><td>224185</td><td>18.00</td></tr>",
                            "<tr><td>&quot;The Gu&quot; red shirt XML tag t-shirt (White) 7XL</td><td>148350</td><td>18.00</td></tr>",
                            "<tr><td>&quot;The Gu&quot; red shirt XML tag t-shirt (Black) M</td><td>277914</td><td>18.00</td></tr>",
                            "<tr><td>&quot;The Gu&quot; red shirt XML tag t-shirt (Black) L</td><td>157255</td><td>18.00</td></tr>",
                            "<tr><td>&quot;The Gu&quot; red shirt XML tag t-shirt (Black) XXL</td><td>402445</td><td>18.00</td></tr>",
                            "<tr><td>&quot;The Gu&quot; red shirt XML tag t-shirt (Black) 3XL</td><td>525771</td><td>18.00</td></tr>",
                            "<tr><td>&quot;The Gu&quot; red shirt XML tag t-shirt (Black) 5XL</td><td>282132</td><td>18.00</td></tr>",
                            "<tr><td>&quot;The Gu&quot; red shirt XML tag t-shirt (Black) 6XL</td><td>277863</td><td>18.00</td></tr>",
                            "<tr><td>Furry animal socks (Pink) S</td><td>501745</td><td>5.00</td></tr>",
                            "<tr><td>Furry animal socks (Pink) M</td><td>126418</td><td>5.00</td></tr>",
                            "<tr><td>Furry animal socks (Pink) L</td><td>570360</td><td>5.00</td></tr>",
                            "<tr><td>Furry animal socks (Pink) XL</td><td>328315</td><td>5.00</td></tr>",
                            "<tr><td>Halloween zombie mask (Light Brown) S</td><td>323812</td><td>18.00</td></tr>",
                            "<tr><td>Halloween zombie mask (Light Brown) M</td><td>378187</td><td>18.00</td></tr>",
                            "<tr><td>Halloween zombie mask (Light Brown) L</td><td>379166</td><td>18.00</td></tr>",
                            "<tr><td>Halloween zombie mask (Light Brown) XL</td><td>248519</td><td>18.00</td></tr>",
                            "<tr><td>Halloween skull mask (Gray) S</td><td>327221</td><td>18.00</td></tr>",
                            "<tr><td>Halloween skull mask (Gray) M</td><td>354456</td><td>18.00</td></tr>",
                            "<tr><td>Halloween skull mask (Gray) L</td><td>274041</td><td>18.00</td></tr>",
                            "<tr><td>Halloween skull mask (Gray) XL</td><td>229551</td><td>18.00</td></tr>",
                            "<tr><td>Small sized bubblewrap roll 10m</td><td>168635</td><td>4.50</td></tr>",
                            "<tr><td>Medium sized bubblewrap roll 20m</td><td>105320</td><td>20.00</td></tr>",
                            "<tr><td>Large sized bubblewrap roll 50m</td><td>440171</td><td>24.00</td></tr>",
                            "<tr><td>10 mm Double sided bubble wrap 10m</td><td>172675</td><td>15.00</td></tr>",
                            "<tr><td>20 mm Double sided bubble wrap 20m</td><td>250461</td><td>33.00</td></tr>",
                            "<tr><td>20 mm Double sided bubble wrap 50m</td><td>188962</td><td>108.00</td></tr>",
                            "<tr><td>32 mm Double sided bubble wrap 10m</td><td>269785</td><td>22.00</td></tr>",
                            "<tr><td>32 mm Double sided bubble wrap 20m</td><td>108019</td><td>37.00</td></tr>",
                            "<tr><td>10 mm Anti static bubble wrap (Blue) 10m</td><td>187313</td><td>26.00</td></tr>",
                            "<tr><td>10 mm Anti static bubble wrap (Blue) 20m</td><td>149668</td><td>42.00</td></tr>",
                            "<tr><td>10 mm Anti static bubble wrap (Blue) 50m</td><td>308519</td><td>99.00</td></tr>",
                            "<tr><td>20 mm Anti static bubble wrap (Blue) 10m</td><td>112946</td><td>29.00</td></tr>",
                            "<tr><td>20 mm Anti static bubble wrap (Blue) 50m</td><td>274265</td><td>102.00</td></tr>",
                            "<tr><td>32 mm Anti static bubble wrap (Blue) 10m</td><td>128136</td><td>32.00</td></tr>",
                            "<tr><td>32 mm Anti static bubble wrap (Blue) 20m</td><td>291347</td><td>48.00</td></tr>",
                            "<tr><td>32 mm Anti static bubble wrap (Blue) 50m</td><td>103958</td><td>105.00</td></tr>",
                            "<tr><td>Shipping carton (Brown) 500x310x310mm</td><td>117043</td><td>2.55</td></tr>",
                            "<tr><td>Shipping carton (Brown) 229x229x229mm</td><td>214030</td><td>1.05</td></tr>",
                            "<tr><td>Shipping carton (Brown) 279x254x217mm</td><td>318572</td><td>1.11</td></tr>",
                            "<tr><td>Shipping carton (Brown) 457x279x279mm</td><td>326007</td><td>1.28</td></tr>",
                            "<tr><td>Shipping carton (Brown) 356x356x279mm</td><td>723037</td><td>2.04</td></tr>",
                            "<tr><td>Shipping carton (Brown) 457x457x457mm</td><td>422709</td><td>2.10</td></tr>",
                            "<tr><td>Express post box 5kg (White) 350x280x130mm</td><td>1034169</td><td>0.95</td></tr>",
                            "<tr><td>3 kg Courier post bag (White) 300x190x95mm</td><td>208903</td><td>0.66</td></tr>",
                            "<tr><td>Clear packaging tape 48mmx75m</td><td>324375</td><td>2.90</td></tr>",
                            "<tr><td>Black and orange fragile despatch tape 48mmx75m</td><td>686530</td><td>3.70</td></tr>",
                            "<tr><td>Black and orange fragile despatch tape 48mmx100m</td><td>618169</td><td>4.10</td></tr>",
                            "<tr><td>Black and orange glass with care despatch tape  48mmx100m</td><td>204993</td><td>4.10</td></tr>",
                            "<tr><td>Black and orange handle with care despatch tape  48mmx100m</td><td>654741</td><td>4.10</td></tr>",
                            "<tr><td>Black and orange this way up despatch tape 48mmx75m</td><td>263108</td><td>3.70</td></tr>",
                            "<tr><td>Red and white urgent despatch tape 48mmx75m</td><td>153241</td><td>3.70</td></tr>",
                            "<tr><td>Tape dispenser (Blue)</td><td>169152</td><td>32.00</td></tr>",
                            "<tr><td>Permanent marker black 5mm nib (Black) 5mm</td><td>306414</td><td>2.70</td></tr>",
                            "<tr><td>Permanent marker blue 5mm nib (Blue) 5mm</td><td>250156</td><td>2.70</td></tr>",
                            "<tr><td>Permanent marker red 5mm nib (Red) 5mm</td><td>251435</td><td>2.70</td></tr>",
                            "<tr><td>Packing knife with metal insert blade (Yellow) 9mm</td><td>104161</td><td>1.89</td></tr>",
                            "<tr><td>Packing knife with metal insert blade (Yellow) 18mm</td><td>128179</td><td>2.40</td></tr>",
                            "<tr><td>Small 9mm replacement blades 9mm</td><td>273217</td><td>4.10</td></tr>",
                            "<tr><td>Large  replacement blades 18mm</td><td>248979</td><td>4.30</td></tr>",
                            "<tr><td>Void fill 200 L bag (White) 200L</td><td>128916</td><td>25.00</td></tr>",
                            "<tr><td>Void fill 300 L bag (White) 300L</td><td>107072</td><td>37.50</td></tr>",
                            "<tr><td>Void fill 400 L bag (White) 400L</td><td>108124</td><td>50.00</td></tr>",
                            "<tr><td>Chocolate sharks 250g</td><td>119560</td><td>8.55</td></tr>",
                            "<tr><td>White chocolate snow balls 250g</td><td>155856</td><td>8.55</td></tr>",
                            "<tr><td>White chocolate moon rocks 250g</td><td>245352</td><td>8.55</td></tr>",
                            "</table>"
                        ]
                    }
                }
            ],
            "execution_count": 10
        },
        {
            "cell_type": "markdown",
            "source": [
                "## Proposition 4:\n",
                "\n",
                "Write a query with a **CTE** and function that joins the `Sales.Customers` and `Sales.Orders` tables to find customers who have placed orders in the last 6 months from their last order date, along with the total number of orders placed. Make the CustomerID a user input through a scalar variable. (Ex: CustID = 3)."
            ],
            "metadata": {
                "language": "sql",
                "azdata_cell_guid": "3607c3cf-9aab-4598-97ca-129b44dd23a7"
            },
            "attachments": {}
        },
        {
            "cell_type": "code",
            "source": [
                "DROP FUNCTION IF EXISTS dbo.GetCustOrders;\r\n",
                "GO \r\n",
                "CREATE FUNCTION dbo.GetCustOrders\r\n",
                "    (@id as INT) RETURNS TABLE\r\n",
                "AS\r\n",
                "RETURN\r\n",
                "    SELECT C.CustomerID, C.CustomerName\r\n",
                "    FROM Sales.Customers as C\r\n",
                "    WHERE C.CustomerID = @id\r\n",
                "GO\r\n",
                "\r\n",
                "DECLARE @CustID INT = 3;\r\n",
                "\r\n",
                "WITH LastOrderDate_CTE AS(\r\n",
                "    SELECT MAX(O.OrderDate) as [OrderDate]\r\n",
                "    FROM Sales.Orders as O\r\n",
                "    WHERE CustomerID = @CustID\r\n",
                ")\r\n",
                "\r\n",
                "--Requires Optimization...\r\n",
                "SELECT O.CustomerID, COUNT(O.OrderID) as [Order Count]\r\n",
                "FROM Sales.Orders as O\r\n",
                "INNER JOIN dbo.GetCustOrders(@CustID) as GCO on GCO.CustomerID = O.CustomerID\r\n",
                "WHERE DATEDIFF(MONTH, O.OrderDate , (SELECT [OrderDate] FROM LastOrderDate_CTE)) <= 6\r\n",
                "GROUP BY O.CustomerID"
            ],
            "metadata": {
                "language": "sql",
                "azdata_cell_guid": "aea0b7e3-a108-4f62-a4c0-814182048c37"
            },
            "outputs": [
                {
                    "output_type": "display_data",
                    "data": {
                        "text/html": "Commands completed successfully."
                    },
                    "metadata": {}
                },
                {
                    "output_type": "display_data",
                    "data": {
                        "text/html": "Commands completed successfully."
                    },
                    "metadata": {}
                },
                {
                    "output_type": "display_data",
                    "data": {
                        "text/html": "(1 row affected)"
                    },
                    "metadata": {}
                },
                {
                    "output_type": "display_data",
                    "data": {
                        "text/html": "Total execution time: 00:00:00.040"
                    },
                    "metadata": {}
                },
                {
                    "output_type": "execute_result",
                    "metadata": {},
                    "execution_count": 19,
                    "data": {
                        "application/vnd.dataresource+json": {
                            "schema": {
                                "fields": [
                                    {
                                        "name": "CustomerID"
                                    },
                                    {
                                        "name": "Order Count"
                                    }
                                ]
                            },
                            "data": [
                                {
                                    "CustomerID": "3",
                                    "Order Count": "20"
                                }
                            ]
                        },
                        "text/html": [
                            "<table>",
                            "<tr><th>CustomerID</th><th>Order Count</th></tr>",
                            "<tr><td>3</td><td>20</td></tr>",
                            "</table>"
                        ]
                    }
                }
            ],
            "execution_count": 19
        },
        {
            "cell_type": "markdown",
            "source": [
                "## Proposition 5:\r\n",
                "Use a **CTE** to create a ranked list of products from the `Warehouse.StockItems` table based on their total sales from the `Sales.InvoiceLines` table, and filter for the top 10 best-selling products.\r\n",
                ""
            ],
            "metadata": {
                "language": "sql",
                "azdata_cell_guid": "6ae6171f-e594-4c7a-974e-c2e85f1b2ac7"
            },
            "attachments": {}
        },
        {
            "cell_type": "code",
            "source": [
                "WITH TOP_STOCK_CTE AS\r\n",
                "(SELECT TOP(10) StockItemID ,COUNT(StockItemID) as [Stock Item Count]\r\n",
                "FROM Sales.InvoiceLines as IL\r\n",
                "GROUP BY StockItemID\r\n",
                "ORDER BY [Stock Item Count] DESC\r\n",
                ")\r\n",
                "\r\n",
                "SELECT StockItemName, [Stock Item Count]\r\n",
                "FROM WareHouse.StockItems as SI\r\n",
                "INNER JOIN TOP_STOCK_CTE as CTE on CTE.StockItemID = SI.StockItemID\r\n",
                "ORDER BY [Stock Item Count] DESC\r\n",
                ""
            ],
            "metadata": {
                "language": "sql",
                "azdata_cell_guid": "2ebed5a0-7bdc-41dd-b393-ab17d033eedc"
            },
            "outputs": [
                {
                    "output_type": "display_data",
                    "data": {
                        "text/html": "(10 rows affected)"
                    },
                    "metadata": {}
                },
                {
                    "output_type": "display_data",
                    "data": {
                        "text/html": "Total execution time: 00:00:00.018"
                    },
                    "metadata": {}
                },
                {
                    "output_type": "execute_result",
                    "metadata": {},
                    "execution_count": 28,
                    "data": {
                        "application/vnd.dataresource+json": {
                            "schema": {
                                "fields": [
                                    {
                                        "name": "StockItemName"
                                    },
                                    {
                                        "name": "Stock Item Count"
                                    }
                                ]
                            },
                            "data": [
                                {
                                    "StockItemName": "Alien officer hoodie (Black) 3XL",
                                    "Stock Item Count": "1123"
                                },
                                {
                                    "StockItemName": "Dinosaur battery-powered slippers (Green) L",
                                    "Stock Item Count": "1123"
                                },
                                {
                                    "StockItemName": "10 mm Anti static bubble wrap (Blue) 50m",
                                    "Stock Item Count": "1119"
                                },
                                {
                                    "StockItemName": "USB food flash drive - shrimp cocktail",
                                    "Stock Item Count": "1117"
                                },
                                {
                                    "StockItemName": "\"The Gu\" red shirt XML tag t-shirt (White) 7XL",
                                    "Stock Item Count": "1110"
                                },
                                {
                                    "StockItemName": "20 mm Double sided bubble wrap 20m",
                                    "Stock Item Count": "1110"
                                },
                                {
                                    "StockItemName": "Animal with big feet slippers (Brown) XL",
                                    "Stock Item Count": "1108"
                                },
                                {
                                    "StockItemName": "10 mm Anti static bubble wrap (Blue) 10m",
                                    "Stock Item Count": "1104"
                                },
                                {
                                    "StockItemName": "Ride on vintage American toy coupe (Black) 1/12 scale",
                                    "Stock Item Count": "1103"
                                },
                                {
                                    "StockItemName": "DBA joke mug - two types of DBAs (White)",
                                    "Stock Item Count": "1102"
                                }
                            ]
                        },
                        "text/html": [
                            "<table>",
                            "<tr><th>StockItemName</th><th>Stock Item Count</th></tr>",
                            "<tr><td>Alien officer hoodie (Black) 3XL</td><td>1123</td></tr>",
                            "<tr><td>Dinosaur battery-powered slippers (Green) L</td><td>1123</td></tr>",
                            "<tr><td>10 mm Anti static bubble wrap (Blue) 50m</td><td>1119</td></tr>",
                            "<tr><td>USB food flash drive - shrimp cocktail</td><td>1117</td></tr>",
                            "<tr><td>&quot;The Gu&quot; red shirt XML tag t-shirt (White) 7XL</td><td>1110</td></tr>",
                            "<tr><td>20 mm Double sided bubble wrap 20m</td><td>1110</td></tr>",
                            "<tr><td>Animal with big feet slippers (Brown) XL</td><td>1108</td></tr>",
                            "<tr><td>10 mm Anti static bubble wrap (Blue) 10m</td><td>1104</td></tr>",
                            "<tr><td>Ride on vintage American toy coupe (Black) 1/12 scale</td><td>1103</td></tr>",
                            "<tr><td>DBA joke mug - two types of DBAs (White)</td><td>1102</td></tr>",
                            "</table>"
                        ]
                    }
                }
            ],
            "execution_count": 28
        }
    ]
}