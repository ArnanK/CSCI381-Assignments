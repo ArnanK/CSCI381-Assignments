{
    "metadata": {
        "kernelspec": {
            "name": "SQL",
            "display_name": "SQL",
            "language": "sql"
        },
        "language_info": {
            "name": "sql",
            "version": ""
        }
    },
    "nbformat_minor": 2,
    "nbformat": 4,
    "cells": [
        {
            "cell_type": "markdown",
            "source": [
                "# **NAFISUL ISLAM**\n",
                "\n",
                "Individual\\_GroupNumber#1\\_HW#2  \n",
                "  \n",
                "\n",
                "- First 10 Proposition are Chapter 3 Exercise \n",
                "- Last 5 Proposition is Custom"
            ],
            "metadata": {
                "azdata_cell_guid": "97280156-6251-4c15-8606-40d617f161b9"
            },
            "attachments": {}
        },
        {
            "cell_type": "markdown",
            "source": [
                "- \\-- 1\n",
                "    \n",
                "- \\-- 1-1\n",
                "    \n",
                "- \\-- Write a query that generates 5 copies out of each employee row\n",
                "    \n",
                "- \\-- Tables involved: TSQLV6 database, Employees and Nums tables"
            ],
            "metadata": {
                "azdata_cell_guid": "7f8d19ec-d403-4823-a621-664f194674b3"
            },
            "attachments": {}
        },
        {
            "cell_type": "code",
            "source": [
                "USE TSQLV6;\n",
                "select e.empid , e.firstname, e.lastname, n\n",
                "FROM \n",
                "    hr.Employees AS e\n",
                "CROSS JOIN \n",
                "    dbo.Nums AS n\n",
                "WHERE \n",
                "    n BETWEEN 1 And 5\n",
                "ORDER BY\n",
                "    n, empid\n",
                ""
            ],
            "metadata": {
                "azdata_cell_guid": "87807635-b578-4d11-9624-d3e90f016857",
                "language": "sql"
            },
            "outputs": [
                {
                    "output_type": "display_data",
                    "data": {
                        "text/html": "(45 rows affected)"
                    },
                    "metadata": {}
                },
                {
                    "output_type": "display_data",
                    "data": {
                        "text/html": "Total execution time: 00:00:00.012"
                    },
                    "metadata": {}
                },
                {
                    "output_type": "execute_result",
                    "execution_count": 5,
                    "data": {
                        "application/vnd.dataresource+json": {
                            "schema": {
                                "fields": [
                                    {
                                        "name": "empid"
                                    },
                                    {
                                        "name": "firstname"
                                    },
                                    {
                                        "name": "lastname"
                                    },
                                    {
                                        "name": "n"
                                    }
                                ]
                            },
                            "data": [
                                {
                                    "empid": "1",
                                    "firstname": "Sara",
                                    "lastname": "Davis",
                                    "n": "1"
                                },
                                {
                                    "empid": "2",
                                    "firstname": "Don",
                                    "lastname": "Funk",
                                    "n": "1"
                                },
                                {
                                    "empid": "3",
                                    "firstname": "Judy",
                                    "lastname": "Lew",
                                    "n": "1"
                                },
                                {
                                    "empid": "4",
                                    "firstname": "Yael",
                                    "lastname": "Peled",
                                    "n": "1"
                                },
                                {
                                    "empid": "5",
                                    "firstname": "Sven",
                                    "lastname": "Mortensen",
                                    "n": "1"
                                },
                                {
                                    "empid": "6",
                                    "firstname": "Paul",
                                    "lastname": "Suurs",
                                    "n": "1"
                                },
                                {
                                    "empid": "7",
                                    "firstname": "Russell",
                                    "lastname": "King",
                                    "n": "1"
                                },
                                {
                                    "empid": "8",
                                    "firstname": "Maria",
                                    "lastname": "Cameron",
                                    "n": "1"
                                },
                                {
                                    "empid": "9",
                                    "firstname": "Patricia",
                                    "lastname": "Doyle",
                                    "n": "1"
                                },
                                {
                                    "empid": "1",
                                    "firstname": "Sara",
                                    "lastname": "Davis",
                                    "n": "2"
                                },
                                {
                                    "empid": "2",
                                    "firstname": "Don",
                                    "lastname": "Funk",
                                    "n": "2"
                                },
                                {
                                    "empid": "3",
                                    "firstname": "Judy",
                                    "lastname": "Lew",
                                    "n": "2"
                                },
                                {
                                    "empid": "4",
                                    "firstname": "Yael",
                                    "lastname": "Peled",
                                    "n": "2"
                                },
                                {
                                    "empid": "5",
                                    "firstname": "Sven",
                                    "lastname": "Mortensen",
                                    "n": "2"
                                },
                                {
                                    "empid": "6",
                                    "firstname": "Paul",
                                    "lastname": "Suurs",
                                    "n": "2"
                                },
                                {
                                    "empid": "7",
                                    "firstname": "Russell",
                                    "lastname": "King",
                                    "n": "2"
                                },
                                {
                                    "empid": "8",
                                    "firstname": "Maria",
                                    "lastname": "Cameron",
                                    "n": "2"
                                },
                                {
                                    "empid": "9",
                                    "firstname": "Patricia",
                                    "lastname": "Doyle",
                                    "n": "2"
                                },
                                {
                                    "empid": "1",
                                    "firstname": "Sara",
                                    "lastname": "Davis",
                                    "n": "3"
                                },
                                {
                                    "empid": "2",
                                    "firstname": "Don",
                                    "lastname": "Funk",
                                    "n": "3"
                                },
                                {
                                    "empid": "3",
                                    "firstname": "Judy",
                                    "lastname": "Lew",
                                    "n": "3"
                                },
                                {
                                    "empid": "4",
                                    "firstname": "Yael",
                                    "lastname": "Peled",
                                    "n": "3"
                                },
                                {
                                    "empid": "5",
                                    "firstname": "Sven",
                                    "lastname": "Mortensen",
                                    "n": "3"
                                },
                                {
                                    "empid": "6",
                                    "firstname": "Paul",
                                    "lastname": "Suurs",
                                    "n": "3"
                                },
                                {
                                    "empid": "7",
                                    "firstname": "Russell",
                                    "lastname": "King",
                                    "n": "3"
                                },
                                {
                                    "empid": "8",
                                    "firstname": "Maria",
                                    "lastname": "Cameron",
                                    "n": "3"
                                },
                                {
                                    "empid": "9",
                                    "firstname": "Patricia",
                                    "lastname": "Doyle",
                                    "n": "3"
                                },
                                {
                                    "empid": "1",
                                    "firstname": "Sara",
                                    "lastname": "Davis",
                                    "n": "4"
                                },
                                {
                                    "empid": "2",
                                    "firstname": "Don",
                                    "lastname": "Funk",
                                    "n": "4"
                                },
                                {
                                    "empid": "3",
                                    "firstname": "Judy",
                                    "lastname": "Lew",
                                    "n": "4"
                                },
                                {
                                    "empid": "4",
                                    "firstname": "Yael",
                                    "lastname": "Peled",
                                    "n": "4"
                                },
                                {
                                    "empid": "5",
                                    "firstname": "Sven",
                                    "lastname": "Mortensen",
                                    "n": "4"
                                },
                                {
                                    "empid": "6",
                                    "firstname": "Paul",
                                    "lastname": "Suurs",
                                    "n": "4"
                                },
                                {
                                    "empid": "7",
                                    "firstname": "Russell",
                                    "lastname": "King",
                                    "n": "4"
                                },
                                {
                                    "empid": "8",
                                    "firstname": "Maria",
                                    "lastname": "Cameron",
                                    "n": "4"
                                },
                                {
                                    "empid": "9",
                                    "firstname": "Patricia",
                                    "lastname": "Doyle",
                                    "n": "4"
                                },
                                {
                                    "empid": "1",
                                    "firstname": "Sara",
                                    "lastname": "Davis",
                                    "n": "5"
                                },
                                {
                                    "empid": "2",
                                    "firstname": "Don",
                                    "lastname": "Funk",
                                    "n": "5"
                                },
                                {
                                    "empid": "3",
                                    "firstname": "Judy",
                                    "lastname": "Lew",
                                    "n": "5"
                                },
                                {
                                    "empid": "4",
                                    "firstname": "Yael",
                                    "lastname": "Peled",
                                    "n": "5"
                                },
                                {
                                    "empid": "5",
                                    "firstname": "Sven",
                                    "lastname": "Mortensen",
                                    "n": "5"
                                },
                                {
                                    "empid": "6",
                                    "firstname": "Paul",
                                    "lastname": "Suurs",
                                    "n": "5"
                                },
                                {
                                    "empid": "7",
                                    "firstname": "Russell",
                                    "lastname": "King",
                                    "n": "5"
                                },
                                {
                                    "empid": "8",
                                    "firstname": "Maria",
                                    "lastname": "Cameron",
                                    "n": "5"
                                },
                                {
                                    "empid": "9",
                                    "firstname": "Patricia",
                                    "lastname": "Doyle",
                                    "n": "5"
                                }
                            ]
                        },
                        "text/html": "<table><tr><th>empid</th><th>firstname</th><th>lastname</th><th>n</th></tr><tr><td>1</td><td>Sara</td><td>Davis</td><td>1</td></tr><tr><td>2</td><td>Don</td><td>Funk</td><td>1</td></tr><tr><td>3</td><td>Judy</td><td>Lew</td><td>1</td></tr><tr><td>4</td><td>Yael</td><td>Peled</td><td>1</td></tr><tr><td>5</td><td>Sven</td><td>Mortensen</td><td>1</td></tr><tr><td>6</td><td>Paul</td><td>Suurs</td><td>1</td></tr><tr><td>7</td><td>Russell</td><td>King</td><td>1</td></tr><tr><td>8</td><td>Maria</td><td>Cameron</td><td>1</td></tr><tr><td>9</td><td>Patricia</td><td>Doyle</td><td>1</td></tr><tr><td>1</td><td>Sara</td><td>Davis</td><td>2</td></tr><tr><td>2</td><td>Don</td><td>Funk</td><td>2</td></tr><tr><td>3</td><td>Judy</td><td>Lew</td><td>2</td></tr><tr><td>4</td><td>Yael</td><td>Peled</td><td>2</td></tr><tr><td>5</td><td>Sven</td><td>Mortensen</td><td>2</td></tr><tr><td>6</td><td>Paul</td><td>Suurs</td><td>2</td></tr><tr><td>7</td><td>Russell</td><td>King</td><td>2</td></tr><tr><td>8</td><td>Maria</td><td>Cameron</td><td>2</td></tr><tr><td>9</td><td>Patricia</td><td>Doyle</td><td>2</td></tr><tr><td>1</td><td>Sara</td><td>Davis</td><td>3</td></tr><tr><td>2</td><td>Don</td><td>Funk</td><td>3</td></tr><tr><td>3</td><td>Judy</td><td>Lew</td><td>3</td></tr><tr><td>4</td><td>Yael</td><td>Peled</td><td>3</td></tr><tr><td>5</td><td>Sven</td><td>Mortensen</td><td>3</td></tr><tr><td>6</td><td>Paul</td><td>Suurs</td><td>3</td></tr><tr><td>7</td><td>Russell</td><td>King</td><td>3</td></tr><tr><td>8</td><td>Maria</td><td>Cameron</td><td>3</td></tr><tr><td>9</td><td>Patricia</td><td>Doyle</td><td>3</td></tr><tr><td>1</td><td>Sara</td><td>Davis</td><td>4</td></tr><tr><td>2</td><td>Don</td><td>Funk</td><td>4</td></tr><tr><td>3</td><td>Judy</td><td>Lew</td><td>4</td></tr><tr><td>4</td><td>Yael</td><td>Peled</td><td>4</td></tr><tr><td>5</td><td>Sven</td><td>Mortensen</td><td>4</td></tr><tr><td>6</td><td>Paul</td><td>Suurs</td><td>4</td></tr><tr><td>7</td><td>Russell</td><td>King</td><td>4</td></tr><tr><td>8</td><td>Maria</td><td>Cameron</td><td>4</td></tr><tr><td>9</td><td>Patricia</td><td>Doyle</td><td>4</td></tr><tr><td>1</td><td>Sara</td><td>Davis</td><td>5</td></tr><tr><td>2</td><td>Don</td><td>Funk</td><td>5</td></tr><tr><td>3</td><td>Judy</td><td>Lew</td><td>5</td></tr><tr><td>4</td><td>Yael</td><td>Peled</td><td>5</td></tr><tr><td>5</td><td>Sven</td><td>Mortensen</td><td>5</td></tr><tr><td>6</td><td>Paul</td><td>Suurs</td><td>5</td></tr><tr><td>7</td><td>Russell</td><td>King</td><td>5</td></tr><tr><td>8</td><td>Maria</td><td>Cameron</td><td>5</td></tr><tr><td>9</td><td>Patricia</td><td>Doyle</td><td>5</td></tr></table>"
                    },
                    "metadata": {}
                }
            ],
            "execution_count": 5
        },
        {
            "cell_type": "markdown",
            "source": [
                "<span style=\"color: rgb(0, 0, 0); font-family: -apple-system, BlinkMacSystemFont, sans-serif; caret-color: rgb(0, 0, 0);\">-- 1-2 (Optional, Advanced)</span>  \n",
                "<span style=\"color: rgb(0, 0, 0); caret-color: rgb(0, 0, 0); font-family: -apple-system, BlinkMacSystemFont, sans-serif;\">-- Write a query that returns a row for each employee and day</span>   \n",
                "<span style=\"color: rgb(0, 0, 0); caret-color: rgb(0, 0, 0); font-family: -apple-system, BlinkMacSystemFont, sans-serif;\">-- in the range June 12, 2016 � June 16 2016.</span>  \n",
                "<span style=\"color: rgb(0, 0, 0); caret-color: rgb(0, 0, 0); font-family: -apple-system, BlinkMacSystemFont, sans-serif;\">-- Tables involved: TSQLV4 database, Employees and Nums tables</span>"
            ],
            "metadata": {
                "azdata_cell_guid": "d13a5daa-48c7-4d2f-a039-856226bc8c11"
            },
            "attachments": {}
        },
        {
            "cell_type": "code",
            "source": [
                "USE TSQLV6 ;\n",
                "SELECT e.empid, \n",
                "    CASt(DATEADD(day, n - 1, '2016-06-12') AS DATE) AS [Date] -- We are specifying we are adding days and how many days.\n",
                "FROM \n",
                "   hr.Employees AS e\n",
                "CROSS JOIN \n",
                "    dbo.Nums AS n\n",
                "WHERE \n",
                "   ( DATEADD(day, n - 1, '2016-06-12')) BETWEEN '2016-06-12' AND '2016-06-16'\n",
                "ORDER BY \n",
                "    e.Empid, [Date];"
            ],
            "metadata": {
                "azdata_cell_guid": "84add1c9-2d96-499b-8a67-fbc61a825fad",
                "language": "sql"
            },
            "outputs": [
                {
                    "output_type": "error",
                    "ename": "",
                    "evalue": "Msg 208, Level 16, State 1, Line 1\nInvalid object name 'hr.Employees'.",
                    "traceback": []
                },
                {
                    "output_type": "display_data",
                    "data": {
                        "text/html": "Total execution time: 00:00:00.007"
                    },
                    "metadata": {}
                }
            ],
            "execution_count": 3
        },
        {
            "cell_type": "markdown",
            "source": [
                "- \\-- 2\n",
                "    \n",
                "- \\-- Explain what�s wrong in the following query and provide a correct alternative\n",
                "    \n",
                "- SELECT Customers.custid, Customers.companyname, Orders.orderid, Orders.orderdate\n",
                "    \n",
                "- FROM Sales.Customers AS C\n",
                "    \n",
                "- INNER JOIN Sales.Orders AS O\n",
                "    \n",
                "- ON Customers.custid = Orders.custid;"
            ],
            "metadata": {
                "azdata_cell_guid": "851c2f20-b64f-483e-a97f-7cafc5d3223a"
            },
            "attachments": {}
        },
        {
            "cell_type": "markdown",
            "source": [
                "So, in this query we can see we defined aliases in the from clause but we were using table name in every other places instead of using the aliases."
            ],
            "metadata": {
                "azdata_cell_guid": "b9eb3729-d80e-4637-9ec0-a684a85e4901"
            },
            "attachments": {}
        },
        {
            "cell_type": "code",
            "source": [
                "USE TSQLV6;\n",
                "SELECT C.custid, c.companyname, O.orderid, O.orderdate\n",
                "\n",
                "FROM Sales.Customers AS C\n",
                "\n",
                "INNER JOIN Sales.Orders AS O\n",
                "\n",
                "ON C.custid = O.custid;"
            ],
            "metadata": {
                "azdata_cell_guid": "77b8252f-0894-4560-be80-3edc9b43fd11",
                "language": "sql"
            },
            "outputs": [],
            "execution_count": null
        },
        {
            "cell_type": "markdown",
            "source": [
                "- \\-- 3\n",
                "    \n",
                "- \\-- Return US customers, and for each customer the total number of orders \n",
                "    \n",
                "- \\-- and total quantities.\n",
                "    \n",
                "- \\-- Tables involved: TSQLV4 database, Customers, Orders and OrderDetails tables"
            ],
            "metadata": {
                "azdata_cell_guid": "dff429ba-9e87-4542-a640-27a4747df8f8"
            },
            "attachments": {}
        },
        {
            "cell_type": "code",
            "source": [
                "USE TSQLV6;\n",
                "SELECT c.custid as [Customer ID], Count(Distinct o.orderid) as [Number of Order] , sum(d.qty) as [Total Quantities] \n",
                "\n",
                "FROM\n",
                "    sales.Customers as c\n",
                "INNER JOIN \n",
                "    sales.orders as o On c.custid = o.custid\n",
                "INNER JOIN \n",
                "    sales.orderdetails as d On o.orderid = d.orderid\n",
                "WHERE\n",
                "    c.country = 'USA'\n",
                "GROUP By c.custid\n",
                "\n",
                "    "
            ],
            "metadata": {
                "azdata_cell_guid": "3ac0ad49-8da4-47a8-bccb-92abd5004960",
                "language": "sql"
            },
            "outputs": [],
            "execution_count": null
        },
        {
            "cell_type": "markdown",
            "source": [
                "  \n",
                "\n",
                "- \\-- 4\n",
                "    \n",
                "- \\-- Return customers and their orders including customers who placed no orders\n",
                "    \n",
                "- \\-- Tables involved: TSQLV4 database, Customers and Orders tables"
            ],
            "metadata": {
                "azdata_cell_guid": "de523e2a-0329-432c-8b8f-ec9c4485e500"
            },
            "attachments": {}
        },
        {
            "cell_type": "code",
            "source": [
                "USE TSQLV6;\n",
                "SELECT\n",
                "     c.custid as [Customer ID], c.companyname as [Comapany Name], o.orderid as [Order ID], o.orderdate as [Order Date]\n",
                "FROM \n",
                "LEFT JOIN\n",
                "    sales.orders as o On c.custid = o.custid\n",
                ""
            ],
            "metadata": {
                "azdata_cell_guid": "1b219b0d-2eba-4e81-9ff7-baafa94f4c36",
                "language": "sql"
            },
            "outputs": [
                {
                    "output_type": "display_data",
                    "data": {
                        "text/html": "Query was canceled by user"
                    },
                    "metadata": {}
                },
                {
                    "output_type": "display_data",
                    "data": {
                        "text/html": "Total execution time: 00:00:29.628"
                    },
                    "metadata": {}
                }
            ],
            "execution_count": 29
        },
        {
            "cell_type": "markdown",
            "source": [
                "- \\-- 5\n",
                "    \n",
                "- \\-- Return customers who placed no orders\n",
                "    \n",
                "- \\-- Tables involved: TSQLV4 database, Customers and Orders tables"
            ],
            "metadata": {
                "azdata_cell_guid": "3224b7e9-2cfc-4b94-b467-1b0d43a9d35b"
            },
            "attachments": {}
        },
        {
            "cell_type": "code",
            "source": [
                "USE TSQLV6;\n",
                "SELECT \n",
                "    c.custid, \n",
                "    c.companyname\n",
                "FROM \n",
                "    sales.Customers AS c\n",
                "LEFT JOIN \n",
                "    sales.Orders AS o ON o.custid = c.custid\n",
                "WHERE \n",
                "    o.orderid IS NULL"
            ],
            "metadata": {
                "azdata_cell_guid": "a8f3f74b-163c-4d27-998e-858a7f45be16",
                "language": "sql"
            },
            "outputs": [],
            "execution_count": null
        },
        {
            "cell_type": "markdown",
            "source": [
                "- \\-- 6\n",
                "    \n",
                "- \\-- Return customers with orders placed on Feb 12, 2022 along with their orders\n",
                "    \n",
                "- \\-- Tables involved: TSQLV6 database, Customers and Orders tables"
            ],
            "metadata": {
                "azdata_cell_guid": "06454182-f0f9-48f0-bb3b-523af6019614"
            },
            "attachments": {}
        },
        {
            "cell_type": "code",
            "source": [
                "USE TSQLV6;\n",
                "SELECT \n",
                "    c.custid as [Customer ID], c.companyname as [Company-Name], o.orderid as [Order ID], o.orderdate as [Order-Date]\n",
                "\n",
                "FROM \n",
                "    sales.Customers as c\n",
                "LEFT JOIN \n",
                "    sales.orders as o ON c.custid = o.custid\n",
                "WHERE\n",
                "    o.orderdate = '20220212'"
            ],
            "metadata": {
                "azdata_cell_guid": "f69a8b08-3f1b-4d37-aa92-ab281ff106a7",
                "language": "sql"
            },
            "outputs": [
                {
                    "output_type": "display_data",
                    "data": {
                        "text/html": "(3 rows affected)"
                    },
                    "metadata": {}
                },
                {
                    "output_type": "display_data",
                    "data": {
                        "text/html": "Total execution time: 00:00:00.008"
                    },
                    "metadata": {}
                },
                {
                    "output_type": "execute_result",
                    "execution_count": 16,
                    "data": {
                        "application/vnd.dataresource+json": {
                            "schema": {
                                "fields": [
                                    {
                                        "name": "Customer ID"
                                    },
                                    {
                                        "name": "Company-Name"
                                    },
                                    {
                                        "name": "Order ID"
                                    },
                                    {
                                        "name": "Order-Date"
                                    }
                                ]
                            },
                            "data": [
                                {
                                    "Customer ID": "48",
                                    "Company-Name": "Customer DVFMB",
                                    "Order ID": "10883",
                                    "Order-Date": "2022-02-12"
                                },
                                {
                                    "Customer ID": "45",
                                    "Company-Name": "Customer QXPPT",
                                    "Order ID": "10884",
                                    "Order-Date": "2022-02-12"
                                },
                                {
                                    "Customer ID": "76",
                                    "Company-Name": "Customer SFOGW",
                                    "Order ID": "10885",
                                    "Order-Date": "2022-02-12"
                                }
                            ]
                        },
                        "text/html": "<table><tr><th>Customer ID</th><th>Company-Name</th><th>Order ID</th><th>Order-Date</th></tr><tr><td>48</td><td>Customer DVFMB</td><td>10883</td><td>2022-02-12</td></tr><tr><td>45</td><td>Customer QXPPT</td><td>10884</td><td>2022-02-12</td></tr><tr><td>76</td><td>Customer SFOGW</td><td>10885</td><td>2022-02-12</td></tr></table>"
                    },
                    "metadata": {}
                }
            ],
            "execution_count": 16
        },
        {
            "cell_type": "markdown",
            "source": [
                "- \\-- 7 (Optional, Advanced)\n",
                "    \n",
                "- \\-- Write a query that returns all customers in the output, but matches\n",
                "    \n",
                "- \\-- them with their respective orders only if they were placed on February 12, 2022\n",
                "    \n",
                "- <span style=\"font-family: -apple-system, BlinkMacSystemFont, sans-serif; color: var(--vscode-foreground);\">-- Tables involved: TSQLV6 database, Customers and Orders tables</span>"
            ],
            "metadata": {
                "azdata_cell_guid": "1eff9041-724f-41b8-8c54-051b68b5f048"
            },
            "attachments": {}
        },
        {
            "cell_type": "code",
            "source": [
                "USE TSQLV6\n",
                "SELECT \n",
                "    c.custid as [Customer ID], c.companyname as [Company-Name], o.orderid as [Order ID], o.orderdate as [Order-Date]\n",
                "FROM\n",
                "    sales.Customers as c \n",
                "LEFT JOIN\n",
                "    sales.orders as o ON o.custid = c.custid\n",
                "    AND  o.orderdate = '20220212'\n",
                "ORDER BY \n",
                "    c.custid\n",
                "\n",
                "\n",
                "\n",
                "-- I was bit confuse I wrote the whole query almost correct but using where clause eleminate NULL values so we were suppose to use \n",
                "-- o.orderdate = '20220212' condition in the ON clause and I used chat gpt to help me figure it out.\n",
                ""
            ],
            "metadata": {
                "azdata_cell_guid": "732eca32-6de1-4946-9d59-d8989f65d170",
                "language": "sql"
            },
            "outputs": [
                {
                    "output_type": "display_data",
                    "data": {
                        "text/html": "(91 rows affected)"
                    },
                    "metadata": {}
                },
                {
                    "output_type": "display_data",
                    "data": {
                        "text/html": "Total execution time: 00:00:00.009"
                    },
                    "metadata": {}
                },
                {
                    "output_type": "execute_result",
                    "execution_count": 15,
                    "data": {
                        "application/vnd.dataresource+json": {
                            "schema": {
                                "fields": [
                                    {
                                        "name": "Customer ID"
                                    },
                                    {
                                        "name": "Company-Name"
                                    },
                                    {
                                        "name": "Order ID"
                                    },
                                    {
                                        "name": "Order-Date"
                                    }
                                ]
                            },
                            "data": [
                                {
                                    "Customer ID": "1",
                                    "Company-Name": "Customer NRZBB",
                                    "Order ID": "NULL",
                                    "Order-Date": "NULL"
                                },
                                {
                                    "Customer ID": "2",
                                    "Company-Name": "Customer MLTDN",
                                    "Order ID": "NULL",
                                    "Order-Date": "NULL"
                                },
                                {
                                    "Customer ID": "3",
                                    "Company-Name": "Customer KBUDE",
                                    "Order ID": "NULL",
                                    "Order-Date": "NULL"
                                },
                                {
                                    "Customer ID": "4",
                                    "Company-Name": "Customer HFBZG",
                                    "Order ID": "NULL",
                                    "Order-Date": "NULL"
                                },
                                {
                                    "Customer ID": "5",
                                    "Company-Name": "Customer HGVLZ",
                                    "Order ID": "NULL",
                                    "Order-Date": "NULL"
                                },
                                {
                                    "Customer ID": "6",
                                    "Company-Name": "Customer XHXJV",
                                    "Order ID": "NULL",
                                    "Order-Date": "NULL"
                                },
                                {
                                    "Customer ID": "7",
                                    "Company-Name": "Customer QXVLA",
                                    "Order ID": "NULL",
                                    "Order-Date": "NULL"
                                },
                                {
                                    "Customer ID": "8",
                                    "Company-Name": "Customer QUHWH",
                                    "Order ID": "NULL",
                                    "Order-Date": "NULL"
                                },
                                {
                                    "Customer ID": "9",
                                    "Company-Name": "Customer RTXGC",
                                    "Order ID": "NULL",
                                    "Order-Date": "NULL"
                                },
                                {
                                    "Customer ID": "10",
                                    "Company-Name": "Customer EEALV",
                                    "Order ID": "NULL",
                                    "Order-Date": "NULL"
                                },
                                {
                                    "Customer ID": "11",
                                    "Company-Name": "Customer UBHAU",
                                    "Order ID": "NULL",
                                    "Order-Date": "NULL"
                                },
                                {
                                    "Customer ID": "12",
                                    "Company-Name": "Customer PSNMQ",
                                    "Order ID": "NULL",
                                    "Order-Date": "NULL"
                                },
                                {
                                    "Customer ID": "13",
                                    "Company-Name": "Customer VMLOG",
                                    "Order ID": "NULL",
                                    "Order-Date": "NULL"
                                },
                                {
                                    "Customer ID": "14",
                                    "Company-Name": "Customer WNMAF",
                                    "Order ID": "NULL",
                                    "Order-Date": "NULL"
                                },
                                {
                                    "Customer ID": "15",
                                    "Company-Name": "Customer JUWXK",
                                    "Order ID": "NULL",
                                    "Order-Date": "NULL"
                                },
                                {
                                    "Customer ID": "16",
                                    "Company-Name": "Customer GYBBY",
                                    "Order ID": "NULL",
                                    "Order-Date": "NULL"
                                },
                                {
                                    "Customer ID": "17",
                                    "Company-Name": "Customer FEVNN",
                                    "Order ID": "NULL",
                                    "Order-Date": "NULL"
                                },
                                {
                                    "Customer ID": "18",
                                    "Company-Name": "Customer BSVAR",
                                    "Order ID": "NULL",
                                    "Order-Date": "NULL"
                                },
                                {
                                    "Customer ID": "19",
                                    "Company-Name": "Customer RFNQC",
                                    "Order ID": "NULL",
                                    "Order-Date": "NULL"
                                },
                                {
                                    "Customer ID": "20",
                                    "Company-Name": "Customer THHDP",
                                    "Order ID": "NULL",
                                    "Order-Date": "NULL"
                                },
                                {
                                    "Customer ID": "21",
                                    "Company-Name": "Customer KIDPX",
                                    "Order ID": "NULL",
                                    "Order-Date": "NULL"
                                },
                                {
                                    "Customer ID": "22",
                                    "Company-Name": "Customer DTDMN",
                                    "Order ID": "NULL",
                                    "Order-Date": "NULL"
                                },
                                {
                                    "Customer ID": "23",
                                    "Company-Name": "Customer WVFAF",
                                    "Order ID": "NULL",
                                    "Order-Date": "NULL"
                                },
                                {
                                    "Customer ID": "24",
                                    "Company-Name": "Customer CYZTN",
                                    "Order ID": "NULL",
                                    "Order-Date": "NULL"
                                },
                                {
                                    "Customer ID": "25",
                                    "Company-Name": "Customer AZJED",
                                    "Order ID": "NULL",
                                    "Order-Date": "NULL"
                                },
                                {
                                    "Customer ID": "26",
                                    "Company-Name": "Customer USDBG",
                                    "Order ID": "NULL",
                                    "Order-Date": "NULL"
                                },
                                {
                                    "Customer ID": "27",
                                    "Company-Name": "Customer WMFEA",
                                    "Order ID": "NULL",
                                    "Order-Date": "NULL"
                                },
                                {
                                    "Customer ID": "28",
                                    "Company-Name": "Customer XYUFB",
                                    "Order ID": "NULL",
                                    "Order-Date": "NULL"
                                },
                                {
                                    "Customer ID": "29",
                                    "Company-Name": "Customer MDLWA",
                                    "Order ID": "NULL",
                                    "Order-Date": "NULL"
                                },
                                {
                                    "Customer ID": "30",
                                    "Company-Name": "Customer KSLQF",
                                    "Order ID": "NULL",
                                    "Order-Date": "NULL"
                                },
                                {
                                    "Customer ID": "31",
                                    "Company-Name": "Customer YJCBX",
                                    "Order ID": "NULL",
                                    "Order-Date": "NULL"
                                },
                                {
                                    "Customer ID": "32",
                                    "Company-Name": "Customer YSIQX",
                                    "Order ID": "NULL",
                                    "Order-Date": "NULL"
                                },
                                {
                                    "Customer ID": "33",
                                    "Company-Name": "Customer FVXPQ",
                                    "Order ID": "NULL",
                                    "Order-Date": "NULL"
                                },
                                {
                                    "Customer ID": "34",
                                    "Company-Name": "Customer IBVRG",
                                    "Order ID": "NULL",
                                    "Order-Date": "NULL"
                                },
                                {
                                    "Customer ID": "35",
                                    "Company-Name": "Customer UMTLM",
                                    "Order ID": "NULL",
                                    "Order-Date": "NULL"
                                },
                                {
                                    "Customer ID": "36",
                                    "Company-Name": "Customer LVJSO",
                                    "Order ID": "NULL",
                                    "Order-Date": "NULL"
                                },
                                {
                                    "Customer ID": "37",
                                    "Company-Name": "Customer FRXZL",
                                    "Order ID": "NULL",
                                    "Order-Date": "NULL"
                                },
                                {
                                    "Customer ID": "38",
                                    "Company-Name": "Customer LJUCA",
                                    "Order ID": "NULL",
                                    "Order-Date": "NULL"
                                },
                                {
                                    "Customer ID": "39",
                                    "Company-Name": "Customer GLLAG",
                                    "Order ID": "NULL",
                                    "Order-Date": "NULL"
                                },
                                {
                                    "Customer ID": "40",
                                    "Company-Name": "Customer EFFTC",
                                    "Order ID": "NULL",
                                    "Order-Date": "NULL"
                                },
                                {
                                    "Customer ID": "41",
                                    "Company-Name": "Customer XIIWM",
                                    "Order ID": "NULL",
                                    "Order-Date": "NULL"
                                },
                                {
                                    "Customer ID": "42",
                                    "Company-Name": "Customer IAIJK",
                                    "Order ID": "NULL",
                                    "Order-Date": "NULL"
                                },
                                {
                                    "Customer ID": "43",
                                    "Company-Name": "Customer UISOJ",
                                    "Order ID": "NULL",
                                    "Order-Date": "NULL"
                                },
                                {
                                    "Customer ID": "44",
                                    "Company-Name": "Customer OXFRU",
                                    "Order ID": "NULL",
                                    "Order-Date": "NULL"
                                },
                                {
                                    "Customer ID": "45",
                                    "Company-Name": "Customer QXPPT",
                                    "Order ID": "10884",
                                    "Order-Date": "2022-02-12"
                                },
                                {
                                    "Customer ID": "46",
                                    "Company-Name": "Customer XPNIK",
                                    "Order ID": "NULL",
                                    "Order-Date": "NULL"
                                },
                                {
                                    "Customer ID": "47",
                                    "Company-Name": "Customer PSQUZ",
                                    "Order ID": "NULL",
                                    "Order-Date": "NULL"
                                },
                                {
                                    "Customer ID": "48",
                                    "Company-Name": "Customer DVFMB",
                                    "Order ID": "10883",
                                    "Order-Date": "2022-02-12"
                                },
                                {
                                    "Customer ID": "49",
                                    "Company-Name": "Customer CQRAA",
                                    "Order ID": "NULL",
                                    "Order-Date": "NULL"
                                },
                                {
                                    "Customer ID": "50",
                                    "Company-Name": "Customer JYPSC",
                                    "Order ID": "NULL",
                                    "Order-Date": "NULL"
                                },
                                {
                                    "Customer ID": "51",
                                    "Company-Name": "Customer PVDZC",
                                    "Order ID": "NULL",
                                    "Order-Date": "NULL"
                                },
                                {
                                    "Customer ID": "52",
                                    "Company-Name": "Customer PZNLA",
                                    "Order ID": "NULL",
                                    "Order-Date": "NULL"
                                },
                                {
                                    "Customer ID": "53",
                                    "Company-Name": "Customer GCJSG",
                                    "Order ID": "NULL",
                                    "Order-Date": "NULL"
                                },
                                {
                                    "Customer ID": "54",
                                    "Company-Name": "Customer TDKEG",
                                    "Order ID": "NULL",
                                    "Order-Date": "NULL"
                                },
                                {
                                    "Customer ID": "55",
                                    "Company-Name": "Customer KZQZT",
                                    "Order ID": "NULL",
                                    "Order-Date": "NULL"
                                },
                                {
                                    "Customer ID": "56",
                                    "Company-Name": "Customer QNIVZ",
                                    "Order ID": "NULL",
                                    "Order-Date": "NULL"
                                },
                                {
                                    "Customer ID": "57",
                                    "Company-Name": "Customer WVAXS",
                                    "Order ID": "NULL",
                                    "Order-Date": "NULL"
                                },
                                {
                                    "Customer ID": "58",
                                    "Company-Name": "Customer AHXHT",
                                    "Order ID": "NULL",
                                    "Order-Date": "NULL"
                                },
                                {
                                    "Customer ID": "59",
                                    "Company-Name": "Customer LOLJO",
                                    "Order ID": "NULL",
                                    "Order-Date": "NULL"
                                },
                                {
                                    "Customer ID": "60",
                                    "Company-Name": "Customer QZURI",
                                    "Order ID": "NULL",
                                    "Order-Date": "NULL"
                                },
                                {
                                    "Customer ID": "61",
                                    "Company-Name": "Customer WULWD",
                                    "Order ID": "NULL",
                                    "Order-Date": "NULL"
                                },
                                {
                                    "Customer ID": "62",
                                    "Company-Name": "Customer WFIZJ",
                                    "Order ID": "NULL",
                                    "Order-Date": "NULL"
                                },
                                {
                                    "Customer ID": "63",
                                    "Company-Name": "Customer IRRVL",
                                    "Order ID": "NULL",
                                    "Order-Date": "NULL"
                                },
                                {
                                    "Customer ID": "64",
                                    "Company-Name": "Customer LWGMD",
                                    "Order ID": "NULL",
                                    "Order-Date": "NULL"
                                },
                                {
                                    "Customer ID": "65",
                                    "Company-Name": "Customer NYUHS",
                                    "Order ID": "NULL",
                                    "Order-Date": "NULL"
                                },
                                {
                                    "Customer ID": "66",
                                    "Company-Name": "Customer LHANT",
                                    "Order ID": "NULL",
                                    "Order-Date": "NULL"
                                },
                                {
                                    "Customer ID": "67",
                                    "Company-Name": "Customer QVEPD",
                                    "Order ID": "NULL",
                                    "Order-Date": "NULL"
                                },
                                {
                                    "Customer ID": "68",
                                    "Company-Name": "Customer CCKOT",
                                    "Order ID": "NULL",
                                    "Order-Date": "NULL"
                                },
                                {
                                    "Customer ID": "69",
                                    "Company-Name": "Customer SIUIH",
                                    "Order ID": "NULL",
                                    "Order-Date": "NULL"
                                },
                                {
                                    "Customer ID": "70",
                                    "Company-Name": "Customer TMXGN",
                                    "Order ID": "NULL",
                                    "Order-Date": "NULL"
                                },
                                {
                                    "Customer ID": "71",
                                    "Company-Name": "Customer LCOUJ",
                                    "Order ID": "NULL",
                                    "Order-Date": "NULL"
                                },
                                {
                                    "Customer ID": "72",
                                    "Company-Name": "Customer AHPOP",
                                    "Order ID": "NULL",
                                    "Order-Date": "NULL"
                                },
                                {
                                    "Customer ID": "73",
                                    "Company-Name": "Customer JMIKW",
                                    "Order ID": "NULL",
                                    "Order-Date": "NULL"
                                },
                                {
                                    "Customer ID": "74",
                                    "Company-Name": "Customer YSHXL",
                                    "Order ID": "NULL",
                                    "Order-Date": "NULL"
                                },
                                {
                                    "Customer ID": "75",
                                    "Company-Name": "Customer XOJYP",
                                    "Order ID": "NULL",
                                    "Order-Date": "NULL"
                                },
                                {
                                    "Customer ID": "76",
                                    "Company-Name": "Customer SFOGW",
                                    "Order ID": "10885",
                                    "Order-Date": "2022-02-12"
                                },
                                {
                                    "Customer ID": "77",
                                    "Company-Name": "Customer LCYBZ",
                                    "Order ID": "NULL",
                                    "Order-Date": "NULL"
                                },
                                {
                                    "Customer ID": "78",
                                    "Company-Name": "Customer NLTYP",
                                    "Order ID": "NULL",
                                    "Order-Date": "NULL"
                                },
                                {
                                    "Customer ID": "79",
                                    "Company-Name": "Customer FAPSM",
                                    "Order ID": "NULL",
                                    "Order-Date": "NULL"
                                },
                                {
                                    "Customer ID": "80",
                                    "Company-Name": "Customer VONTK",
                                    "Order ID": "NULL",
                                    "Order-Date": "NULL"
                                },
                                {
                                    "Customer ID": "81",
                                    "Company-Name": "Customer YQQWW",
                                    "Order ID": "NULL",
                                    "Order-Date": "NULL"
                                },
                                {
                                    "Customer ID": "82",
                                    "Company-Name": "Customer EYHKM",
                                    "Order ID": "NULL",
                                    "Order-Date": "NULL"
                                },
                                {
                                    "Customer ID": "83",
                                    "Company-Name": "Customer ZRNDE",
                                    "Order ID": "NULL",
                                    "Order-Date": "NULL"
                                },
                                {
                                    "Customer ID": "84",
                                    "Company-Name": "Customer NRCSK",
                                    "Order ID": "NULL",
                                    "Order-Date": "NULL"
                                },
                                {
                                    "Customer ID": "85",
                                    "Company-Name": "Customer ENQZT",
                                    "Order ID": "NULL",
                                    "Order-Date": "NULL"
                                },
                                {
                                    "Customer ID": "86",
                                    "Company-Name": "Customer SNXOJ",
                                    "Order ID": "NULL",
                                    "Order-Date": "NULL"
                                },
                                {
                                    "Customer ID": "87",
                                    "Company-Name": "Customer ZHYOS",
                                    "Order ID": "NULL",
                                    "Order-Date": "NULL"
                                },
                                {
                                    "Customer ID": "88",
                                    "Company-Name": "Customer SRQVM",
                                    "Order ID": "NULL",
                                    "Order-Date": "NULL"
                                },
                                {
                                    "Customer ID": "89",
                                    "Company-Name": "Customer YBQTI",
                                    "Order ID": "NULL",
                                    "Order-Date": "NULL"
                                },
                                {
                                    "Customer ID": "90",
                                    "Company-Name": "Customer XBBVR",
                                    "Order ID": "NULL",
                                    "Order-Date": "NULL"
                                },
                                {
                                    "Customer ID": "91",
                                    "Company-Name": "Customer CCFIZ",
                                    "Order ID": "NULL",
                                    "Order-Date": "NULL"
                                }
                            ]
                        },
                        "text/html": "<table><tr><th>Customer ID</th><th>Company-Name</th><th>Order ID</th><th>Order-Date</th></tr><tr><td>1</td><td>Customer NRZBB</td><td>NULL</td><td>NULL</td></tr><tr><td>2</td><td>Customer MLTDN</td><td>NULL</td><td>NULL</td></tr><tr><td>3</td><td>Customer KBUDE</td><td>NULL</td><td>NULL</td></tr><tr><td>4</td><td>Customer HFBZG</td><td>NULL</td><td>NULL</td></tr><tr><td>5</td><td>Customer HGVLZ</td><td>NULL</td><td>NULL</td></tr><tr><td>6</td><td>Customer XHXJV</td><td>NULL</td><td>NULL</td></tr><tr><td>7</td><td>Customer QXVLA</td><td>NULL</td><td>NULL</td></tr><tr><td>8</td><td>Customer QUHWH</td><td>NULL</td><td>NULL</td></tr><tr><td>9</td><td>Customer RTXGC</td><td>NULL</td><td>NULL</td></tr><tr><td>10</td><td>Customer EEALV</td><td>NULL</td><td>NULL</td></tr><tr><td>11</td><td>Customer UBHAU</td><td>NULL</td><td>NULL</td></tr><tr><td>12</td><td>Customer PSNMQ</td><td>NULL</td><td>NULL</td></tr><tr><td>13</td><td>Customer VMLOG</td><td>NULL</td><td>NULL</td></tr><tr><td>14</td><td>Customer WNMAF</td><td>NULL</td><td>NULL</td></tr><tr><td>15</td><td>Customer JUWXK</td><td>NULL</td><td>NULL</td></tr><tr><td>16</td><td>Customer GYBBY</td><td>NULL</td><td>NULL</td></tr><tr><td>17</td><td>Customer FEVNN</td><td>NULL</td><td>NULL</td></tr><tr><td>18</td><td>Customer BSVAR</td><td>NULL</td><td>NULL</td></tr><tr><td>19</td><td>Customer RFNQC</td><td>NULL</td><td>NULL</td></tr><tr><td>20</td><td>Customer THHDP</td><td>NULL</td><td>NULL</td></tr><tr><td>21</td><td>Customer KIDPX</td><td>NULL</td><td>NULL</td></tr><tr><td>22</td><td>Customer DTDMN</td><td>NULL</td><td>NULL</td></tr><tr><td>23</td><td>Customer WVFAF</td><td>NULL</td><td>NULL</td></tr><tr><td>24</td><td>Customer CYZTN</td><td>NULL</td><td>NULL</td></tr><tr><td>25</td><td>Customer AZJED</td><td>NULL</td><td>NULL</td></tr><tr><td>26</td><td>Customer USDBG</td><td>NULL</td><td>NULL</td></tr><tr><td>27</td><td>Customer WMFEA</td><td>NULL</td><td>NULL</td></tr><tr><td>28</td><td>Customer XYUFB</td><td>NULL</td><td>NULL</td></tr><tr><td>29</td><td>Customer MDLWA</td><td>NULL</td><td>NULL</td></tr><tr><td>30</td><td>Customer KSLQF</td><td>NULL</td><td>NULL</td></tr><tr><td>31</td><td>Customer YJCBX</td><td>NULL</td><td>NULL</td></tr><tr><td>32</td><td>Customer YSIQX</td><td>NULL</td><td>NULL</td></tr><tr><td>33</td><td>Customer FVXPQ</td><td>NULL</td><td>NULL</td></tr><tr><td>34</td><td>Customer IBVRG</td><td>NULL</td><td>NULL</td></tr><tr><td>35</td><td>Customer UMTLM</td><td>NULL</td><td>NULL</td></tr><tr><td>36</td><td>Customer LVJSO</td><td>NULL</td><td>NULL</td></tr><tr><td>37</td><td>Customer FRXZL</td><td>NULL</td><td>NULL</td></tr><tr><td>38</td><td>Customer LJUCA</td><td>NULL</td><td>NULL</td></tr><tr><td>39</td><td>Customer GLLAG</td><td>NULL</td><td>NULL</td></tr><tr><td>40</td><td>Customer EFFTC</td><td>NULL</td><td>NULL</td></tr><tr><td>41</td><td>Customer XIIWM</td><td>NULL</td><td>NULL</td></tr><tr><td>42</td><td>Customer IAIJK</td><td>NULL</td><td>NULL</td></tr><tr><td>43</td><td>Customer UISOJ</td><td>NULL</td><td>NULL</td></tr><tr><td>44</td><td>Customer OXFRU</td><td>NULL</td><td>NULL</td></tr><tr><td>45</td><td>Customer QXPPT</td><td>10884</td><td>2022-02-12</td></tr><tr><td>46</td><td>Customer XPNIK</td><td>NULL</td><td>NULL</td></tr><tr><td>47</td><td>Customer PSQUZ</td><td>NULL</td><td>NULL</td></tr><tr><td>48</td><td>Customer DVFMB</td><td>10883</td><td>2022-02-12</td></tr><tr><td>49</td><td>Customer CQRAA</td><td>NULL</td><td>NULL</td></tr><tr><td>50</td><td>Customer JYPSC</td><td>NULL</td><td>NULL</td></tr><tr><td>51</td><td>Customer PVDZC</td><td>NULL</td><td>NULL</td></tr><tr><td>52</td><td>Customer PZNLA</td><td>NULL</td><td>NULL</td></tr><tr><td>53</td><td>Customer GCJSG</td><td>NULL</td><td>NULL</td></tr><tr><td>54</td><td>Customer TDKEG</td><td>NULL</td><td>NULL</td></tr><tr><td>55</td><td>Customer KZQZT</td><td>NULL</td><td>NULL</td></tr><tr><td>56</td><td>Customer QNIVZ</td><td>NULL</td><td>NULL</td></tr><tr><td>57</td><td>Customer WVAXS</td><td>NULL</td><td>NULL</td></tr><tr><td>58</td><td>Customer AHXHT</td><td>NULL</td><td>NULL</td></tr><tr><td>59</td><td>Customer LOLJO</td><td>NULL</td><td>NULL</td></tr><tr><td>60</td><td>Customer QZURI</td><td>NULL</td><td>NULL</td></tr><tr><td>61</td><td>Customer WULWD</td><td>NULL</td><td>NULL</td></tr><tr><td>62</td><td>Customer WFIZJ</td><td>NULL</td><td>NULL</td></tr><tr><td>63</td><td>Customer IRRVL</td><td>NULL</td><td>NULL</td></tr><tr><td>64</td><td>Customer LWGMD</td><td>NULL</td><td>NULL</td></tr><tr><td>65</td><td>Customer NYUHS</td><td>NULL</td><td>NULL</td></tr><tr><td>66</td><td>Customer LHANT</td><td>NULL</td><td>NULL</td></tr><tr><td>67</td><td>Customer QVEPD</td><td>NULL</td><td>NULL</td></tr><tr><td>68</td><td>Customer CCKOT</td><td>NULL</td><td>NULL</td></tr><tr><td>69</td><td>Customer SIUIH</td><td>NULL</td><td>NULL</td></tr><tr><td>70</td><td>Customer TMXGN</td><td>NULL</td><td>NULL</td></tr><tr><td>71</td><td>Customer LCOUJ</td><td>NULL</td><td>NULL</td></tr><tr><td>72</td><td>Customer AHPOP</td><td>NULL</td><td>NULL</td></tr><tr><td>73</td><td>Customer JMIKW</td><td>NULL</td><td>NULL</td></tr><tr><td>74</td><td>Customer YSHXL</td><td>NULL</td><td>NULL</td></tr><tr><td>75</td><td>Customer XOJYP</td><td>NULL</td><td>NULL</td></tr><tr><td>76</td><td>Customer SFOGW</td><td>10885</td><td>2022-02-12</td></tr><tr><td>77</td><td>Customer LCYBZ</td><td>NULL</td><td>NULL</td></tr><tr><td>78</td><td>Customer NLTYP</td><td>NULL</td><td>NULL</td></tr><tr><td>79</td><td>Customer FAPSM</td><td>NULL</td><td>NULL</td></tr><tr><td>80</td><td>Customer VONTK</td><td>NULL</td><td>NULL</td></tr><tr><td>81</td><td>Customer YQQWW</td><td>NULL</td><td>NULL</td></tr><tr><td>82</td><td>Customer EYHKM</td><td>NULL</td><td>NULL</td></tr><tr><td>83</td><td>Customer ZRNDE</td><td>NULL</td><td>NULL</td></tr><tr><td>84</td><td>Customer NRCSK</td><td>NULL</td><td>NULL</td></tr><tr><td>85</td><td>Customer ENQZT</td><td>NULL</td><td>NULL</td></tr><tr><td>86</td><td>Customer SNXOJ</td><td>NULL</td><td>NULL</td></tr><tr><td>87</td><td>Customer ZHYOS</td><td>NULL</td><td>NULL</td></tr><tr><td>88</td><td>Customer SRQVM</td><td>NULL</td><td>NULL</td></tr><tr><td>89</td><td>Customer YBQTI</td><td>NULL</td><td>NULL</td></tr><tr><td>90</td><td>Customer XBBVR</td><td>NULL</td><td>NULL</td></tr><tr><td>91</td><td>Customer CCFIZ</td><td>NULL</td><td>NULL</td></tr></table>"
                    },
                    "metadata": {}
                }
            ],
            "execution_count": 15
        },
        {
            "cell_type": "markdown",
            "source": [
                "- \\-- 8 (Optional, Advanced)\n",
                "    \n",
                "- \\-- Explain why the following query isn�t a correct solution query for exercise 7.\n",
                "    \n",
                "- SELECT C.custid, C.companyname, O.orderid, O.orderdate\n",
                "    \n",
                "- FROM Sales.Customers AS C\n",
                "    \n",
                "- LEFT OUTER JOIN Sales.Orders AS O\n",
                "    \n",
                "- ON O.custid = C.custid\n",
                "    \n",
                "- WHERE O.orderdate = '20220212'\n",
                "    \n",
                "- OR O.orderid IS NULL;"
            ],
            "metadata": {
                "azdata_cell_guid": "ec701aaa-a5b2-4491-b2fa-b2fd92c1bab7"
            },
            "attachments": {}
        },
        {
            "cell_type": "code",
            "source": [
                "USE TSQLV6;\n",
                "SELECT C.custid, C.companyname, O.orderid, O.orderdate\n",
                "\n",
                "FROM Sales.Customers AS C\n",
                "\n",
                "LEFT OUTER JOIN Sales.Orders AS O\n",
                "\n",
                "ON O.custid = C.custid\n",
                "\n",
                "WHERE O.orderdate = '20220212'\n",
                "\n",
                "OR O.orderid IS NULL;"
            ],
            "metadata": {
                "azdata_cell_guid": "03b613e5-c39d-458c-b5d2-54fea870b9e1",
                "language": "sql"
            },
            "outputs": [
                {
                    "output_type": "display_data",
                    "data": {
                        "text/html": "(5 rows affected)"
                    },
                    "metadata": {}
                },
                {
                    "output_type": "display_data",
                    "data": {
                        "text/html": "Total execution time: 00:00:00.014"
                    },
                    "metadata": {}
                },
                {
                    "output_type": "execute_result",
                    "execution_count": 14,
                    "data": {
                        "application/vnd.dataresource+json": {
                            "schema": {
                                "fields": [
                                    {
                                        "name": "custid"
                                    },
                                    {
                                        "name": "companyname"
                                    },
                                    {
                                        "name": "orderid"
                                    },
                                    {
                                        "name": "orderdate"
                                    }
                                ]
                            },
                            "data": [
                                {
                                    "custid": "48",
                                    "companyname": "Customer DVFMB",
                                    "orderid": "10883",
                                    "orderdate": "2022-02-12"
                                },
                                {
                                    "custid": "45",
                                    "companyname": "Customer QXPPT",
                                    "orderid": "10884",
                                    "orderdate": "2022-02-12"
                                },
                                {
                                    "custid": "76",
                                    "companyname": "Customer SFOGW",
                                    "orderid": "10885",
                                    "orderdate": "2022-02-12"
                                },
                                {
                                    "custid": "22",
                                    "companyname": "Customer DTDMN",
                                    "orderid": "NULL",
                                    "orderdate": "NULL"
                                },
                                {
                                    "custid": "57",
                                    "companyname": "Customer WVAXS",
                                    "orderid": "NULL",
                                    "orderdate": "NULL"
                                }
                            ]
                        },
                        "text/html": "<table><tr><th>custid</th><th>companyname</th><th>orderid</th><th>orderdate</th></tr><tr><td>48</td><td>Customer DVFMB</td><td>10883</td><td>2022-02-12</td></tr><tr><td>45</td><td>Customer QXPPT</td><td>10884</td><td>2022-02-12</td></tr><tr><td>76</td><td>Customer SFOGW</td><td>10885</td><td>2022-02-12</td></tr><tr><td>22</td><td>Customer DTDMN</td><td>NULL</td><td>NULL</td></tr><tr><td>57</td><td>Customer WVAXS</td><td>NULL</td><td>NULL</td></tr></table>"
                    },
                    "metadata": {}
                }
            ],
            "execution_count": 14
        },
        {
            "cell_type": "markdown",
            "source": [
                "I tried solve problem 7 in the same way at first, But doing so will will eleminate all order which was not placed on february 12 2022 because of the where clause. and the\n",
                "\n",
                "o.orderid = Null only give us customer who have never ordered. For the solution we were suppose to move the date conditon in the ON clause."
            ],
            "metadata": {
                "azdata_cell_guid": "21c7d95b-5e59-47a1-9327-0e4aa17cbdab"
            },
            "attachments": {}
        },
        {
            "cell_type": "markdown",
            "source": [
                "  \n",
                "\n",
                "- \\-- 9 (Optional, Advanced)\n",
                "    \n",
                "- \\-- Return all customers, and for each return a Yes/No value\n",
                "    \n",
                "- \\-- depending on whether the customer placed an order on Feb 12, 2016\n",
                "    \n",
                "- \\-- Tables involved: TSQLV4 database, Customers and Orders tables"
            ],
            "metadata": {
                "azdata_cell_guid": "81d0b04e-e70b-4e90-bd49-b2f00dd2ac0d"
            },
            "attachments": {}
        },
        {
            "cell_type": "code",
            "source": [
                "USE TSQLV6;\n",
                "SELECT \n",
                "    c.custid as [ Customer ID], c.companyname as [Company-Name],\n",
                "     CASE\n",
                "        WHEN o.orderid  is NULL THEN 'NO'\n",
                "        ELSE 'YES'\n",
                "        END AS [Has order on 20220212]\n",
                "\n",
                "FROM \n",
                "    sales.Customers as c \n",
                "LEFT JOIN \n",
                "    sales.orders as o On o.custid = c.custid\n",
                "AND\n",
                "    o.orderdate = '20220212'\n",
                "ORDER BY\n",
                "    c.custid"
            ],
            "metadata": {
                "azdata_cell_guid": "d99dbb9c-8a88-43df-9d7f-493b8bfb333c",
                "language": "sql"
            },
            "outputs": [
                {
                    "output_type": "display_data",
                    "data": {
                        "text/html": "(91 rows affected)"
                    },
                    "metadata": {}
                },
                {
                    "output_type": "display_data",
                    "data": {
                        "text/html": "Total execution time: 00:00:00.013"
                    },
                    "metadata": {}
                },
                {
                    "output_type": "execute_result",
                    "execution_count": 13,
                    "data": {
                        "application/vnd.dataresource+json": {
                            "schema": {
                                "fields": [
                                    {
                                        "name": " Customer ID"
                                    },
                                    {
                                        "name": "Company-Name"
                                    },
                                    {
                                        "name": "Has order on 20220212"
                                    }
                                ]
                            },
                            "data": [
                                {
                                    " Customer ID": "1",
                                    "Company-Name": "Customer NRZBB",
                                    "Has order on 20220212": "NO"
                                },
                                {
                                    " Customer ID": "2",
                                    "Company-Name": "Customer MLTDN",
                                    "Has order on 20220212": "NO"
                                },
                                {
                                    " Customer ID": "3",
                                    "Company-Name": "Customer KBUDE",
                                    "Has order on 20220212": "NO"
                                },
                                {
                                    " Customer ID": "4",
                                    "Company-Name": "Customer HFBZG",
                                    "Has order on 20220212": "NO"
                                },
                                {
                                    " Customer ID": "5",
                                    "Company-Name": "Customer HGVLZ",
                                    "Has order on 20220212": "NO"
                                },
                                {
                                    " Customer ID": "6",
                                    "Company-Name": "Customer XHXJV",
                                    "Has order on 20220212": "NO"
                                },
                                {
                                    " Customer ID": "7",
                                    "Company-Name": "Customer QXVLA",
                                    "Has order on 20220212": "NO"
                                },
                                {
                                    " Customer ID": "8",
                                    "Company-Name": "Customer QUHWH",
                                    "Has order on 20220212": "NO"
                                },
                                {
                                    " Customer ID": "9",
                                    "Company-Name": "Customer RTXGC",
                                    "Has order on 20220212": "NO"
                                },
                                {
                                    " Customer ID": "10",
                                    "Company-Name": "Customer EEALV",
                                    "Has order on 20220212": "NO"
                                },
                                {
                                    " Customer ID": "11",
                                    "Company-Name": "Customer UBHAU",
                                    "Has order on 20220212": "NO"
                                },
                                {
                                    " Customer ID": "12",
                                    "Company-Name": "Customer PSNMQ",
                                    "Has order on 20220212": "NO"
                                },
                                {
                                    " Customer ID": "13",
                                    "Company-Name": "Customer VMLOG",
                                    "Has order on 20220212": "NO"
                                },
                                {
                                    " Customer ID": "14",
                                    "Company-Name": "Customer WNMAF",
                                    "Has order on 20220212": "NO"
                                },
                                {
                                    " Customer ID": "15",
                                    "Company-Name": "Customer JUWXK",
                                    "Has order on 20220212": "NO"
                                },
                                {
                                    " Customer ID": "16",
                                    "Company-Name": "Customer GYBBY",
                                    "Has order on 20220212": "NO"
                                },
                                {
                                    " Customer ID": "17",
                                    "Company-Name": "Customer FEVNN",
                                    "Has order on 20220212": "NO"
                                },
                                {
                                    " Customer ID": "18",
                                    "Company-Name": "Customer BSVAR",
                                    "Has order on 20220212": "NO"
                                },
                                {
                                    " Customer ID": "19",
                                    "Company-Name": "Customer RFNQC",
                                    "Has order on 20220212": "NO"
                                },
                                {
                                    " Customer ID": "20",
                                    "Company-Name": "Customer THHDP",
                                    "Has order on 20220212": "NO"
                                },
                                {
                                    " Customer ID": "21",
                                    "Company-Name": "Customer KIDPX",
                                    "Has order on 20220212": "NO"
                                },
                                {
                                    " Customer ID": "22",
                                    "Company-Name": "Customer DTDMN",
                                    "Has order on 20220212": "NO"
                                },
                                {
                                    " Customer ID": "23",
                                    "Company-Name": "Customer WVFAF",
                                    "Has order on 20220212": "NO"
                                },
                                {
                                    " Customer ID": "24",
                                    "Company-Name": "Customer CYZTN",
                                    "Has order on 20220212": "NO"
                                },
                                {
                                    " Customer ID": "25",
                                    "Company-Name": "Customer AZJED",
                                    "Has order on 20220212": "NO"
                                },
                                {
                                    " Customer ID": "26",
                                    "Company-Name": "Customer USDBG",
                                    "Has order on 20220212": "NO"
                                },
                                {
                                    " Customer ID": "27",
                                    "Company-Name": "Customer WMFEA",
                                    "Has order on 20220212": "NO"
                                },
                                {
                                    " Customer ID": "28",
                                    "Company-Name": "Customer XYUFB",
                                    "Has order on 20220212": "NO"
                                },
                                {
                                    " Customer ID": "29",
                                    "Company-Name": "Customer MDLWA",
                                    "Has order on 20220212": "NO"
                                },
                                {
                                    " Customer ID": "30",
                                    "Company-Name": "Customer KSLQF",
                                    "Has order on 20220212": "NO"
                                },
                                {
                                    " Customer ID": "31",
                                    "Company-Name": "Customer YJCBX",
                                    "Has order on 20220212": "NO"
                                },
                                {
                                    " Customer ID": "32",
                                    "Company-Name": "Customer YSIQX",
                                    "Has order on 20220212": "NO"
                                },
                                {
                                    " Customer ID": "33",
                                    "Company-Name": "Customer FVXPQ",
                                    "Has order on 20220212": "NO"
                                },
                                {
                                    " Customer ID": "34",
                                    "Company-Name": "Customer IBVRG",
                                    "Has order on 20220212": "NO"
                                },
                                {
                                    " Customer ID": "35",
                                    "Company-Name": "Customer UMTLM",
                                    "Has order on 20220212": "NO"
                                },
                                {
                                    " Customer ID": "36",
                                    "Company-Name": "Customer LVJSO",
                                    "Has order on 20220212": "NO"
                                },
                                {
                                    " Customer ID": "37",
                                    "Company-Name": "Customer FRXZL",
                                    "Has order on 20220212": "NO"
                                },
                                {
                                    " Customer ID": "38",
                                    "Company-Name": "Customer LJUCA",
                                    "Has order on 20220212": "NO"
                                },
                                {
                                    " Customer ID": "39",
                                    "Company-Name": "Customer GLLAG",
                                    "Has order on 20220212": "NO"
                                },
                                {
                                    " Customer ID": "40",
                                    "Company-Name": "Customer EFFTC",
                                    "Has order on 20220212": "NO"
                                },
                                {
                                    " Customer ID": "41",
                                    "Company-Name": "Customer XIIWM",
                                    "Has order on 20220212": "NO"
                                },
                                {
                                    " Customer ID": "42",
                                    "Company-Name": "Customer IAIJK",
                                    "Has order on 20220212": "NO"
                                },
                                {
                                    " Customer ID": "43",
                                    "Company-Name": "Customer UISOJ",
                                    "Has order on 20220212": "NO"
                                },
                                {
                                    " Customer ID": "44",
                                    "Company-Name": "Customer OXFRU",
                                    "Has order on 20220212": "NO"
                                },
                                {
                                    " Customer ID": "45",
                                    "Company-Name": "Customer QXPPT",
                                    "Has order on 20220212": "YES"
                                },
                                {
                                    " Customer ID": "46",
                                    "Company-Name": "Customer XPNIK",
                                    "Has order on 20220212": "NO"
                                },
                                {
                                    " Customer ID": "47",
                                    "Company-Name": "Customer PSQUZ",
                                    "Has order on 20220212": "NO"
                                },
                                {
                                    " Customer ID": "48",
                                    "Company-Name": "Customer DVFMB",
                                    "Has order on 20220212": "YES"
                                },
                                {
                                    " Customer ID": "49",
                                    "Company-Name": "Customer CQRAA",
                                    "Has order on 20220212": "NO"
                                },
                                {
                                    " Customer ID": "50",
                                    "Company-Name": "Customer JYPSC",
                                    "Has order on 20220212": "NO"
                                },
                                {
                                    " Customer ID": "51",
                                    "Company-Name": "Customer PVDZC",
                                    "Has order on 20220212": "NO"
                                },
                                {
                                    " Customer ID": "52",
                                    "Company-Name": "Customer PZNLA",
                                    "Has order on 20220212": "NO"
                                },
                                {
                                    " Customer ID": "53",
                                    "Company-Name": "Customer GCJSG",
                                    "Has order on 20220212": "NO"
                                },
                                {
                                    " Customer ID": "54",
                                    "Company-Name": "Customer TDKEG",
                                    "Has order on 20220212": "NO"
                                },
                                {
                                    " Customer ID": "55",
                                    "Company-Name": "Customer KZQZT",
                                    "Has order on 20220212": "NO"
                                },
                                {
                                    " Customer ID": "56",
                                    "Company-Name": "Customer QNIVZ",
                                    "Has order on 20220212": "NO"
                                },
                                {
                                    " Customer ID": "57",
                                    "Company-Name": "Customer WVAXS",
                                    "Has order on 20220212": "NO"
                                },
                                {
                                    " Customer ID": "58",
                                    "Company-Name": "Customer AHXHT",
                                    "Has order on 20220212": "NO"
                                },
                                {
                                    " Customer ID": "59",
                                    "Company-Name": "Customer LOLJO",
                                    "Has order on 20220212": "NO"
                                },
                                {
                                    " Customer ID": "60",
                                    "Company-Name": "Customer QZURI",
                                    "Has order on 20220212": "NO"
                                },
                                {
                                    " Customer ID": "61",
                                    "Company-Name": "Customer WULWD",
                                    "Has order on 20220212": "NO"
                                },
                                {
                                    " Customer ID": "62",
                                    "Company-Name": "Customer WFIZJ",
                                    "Has order on 20220212": "NO"
                                },
                                {
                                    " Customer ID": "63",
                                    "Company-Name": "Customer IRRVL",
                                    "Has order on 20220212": "NO"
                                },
                                {
                                    " Customer ID": "64",
                                    "Company-Name": "Customer LWGMD",
                                    "Has order on 20220212": "NO"
                                },
                                {
                                    " Customer ID": "65",
                                    "Company-Name": "Customer NYUHS",
                                    "Has order on 20220212": "NO"
                                },
                                {
                                    " Customer ID": "66",
                                    "Company-Name": "Customer LHANT",
                                    "Has order on 20220212": "NO"
                                },
                                {
                                    " Customer ID": "67",
                                    "Company-Name": "Customer QVEPD",
                                    "Has order on 20220212": "NO"
                                },
                                {
                                    " Customer ID": "68",
                                    "Company-Name": "Customer CCKOT",
                                    "Has order on 20220212": "NO"
                                },
                                {
                                    " Customer ID": "69",
                                    "Company-Name": "Customer SIUIH",
                                    "Has order on 20220212": "NO"
                                },
                                {
                                    " Customer ID": "70",
                                    "Company-Name": "Customer TMXGN",
                                    "Has order on 20220212": "NO"
                                },
                                {
                                    " Customer ID": "71",
                                    "Company-Name": "Customer LCOUJ",
                                    "Has order on 20220212": "NO"
                                },
                                {
                                    " Customer ID": "72",
                                    "Company-Name": "Customer AHPOP",
                                    "Has order on 20220212": "NO"
                                },
                                {
                                    " Customer ID": "73",
                                    "Company-Name": "Customer JMIKW",
                                    "Has order on 20220212": "NO"
                                },
                                {
                                    " Customer ID": "74",
                                    "Company-Name": "Customer YSHXL",
                                    "Has order on 20220212": "NO"
                                },
                                {
                                    " Customer ID": "75",
                                    "Company-Name": "Customer XOJYP",
                                    "Has order on 20220212": "NO"
                                },
                                {
                                    " Customer ID": "76",
                                    "Company-Name": "Customer SFOGW",
                                    "Has order on 20220212": "YES"
                                },
                                {
                                    " Customer ID": "77",
                                    "Company-Name": "Customer LCYBZ",
                                    "Has order on 20220212": "NO"
                                },
                                {
                                    " Customer ID": "78",
                                    "Company-Name": "Customer NLTYP",
                                    "Has order on 20220212": "NO"
                                },
                                {
                                    " Customer ID": "79",
                                    "Company-Name": "Customer FAPSM",
                                    "Has order on 20220212": "NO"
                                },
                                {
                                    " Customer ID": "80",
                                    "Company-Name": "Customer VONTK",
                                    "Has order on 20220212": "NO"
                                },
                                {
                                    " Customer ID": "81",
                                    "Company-Name": "Customer YQQWW",
                                    "Has order on 20220212": "NO"
                                },
                                {
                                    " Customer ID": "82",
                                    "Company-Name": "Customer EYHKM",
                                    "Has order on 20220212": "NO"
                                },
                                {
                                    " Customer ID": "83",
                                    "Company-Name": "Customer ZRNDE",
                                    "Has order on 20220212": "NO"
                                },
                                {
                                    " Customer ID": "84",
                                    "Company-Name": "Customer NRCSK",
                                    "Has order on 20220212": "NO"
                                },
                                {
                                    " Customer ID": "85",
                                    "Company-Name": "Customer ENQZT",
                                    "Has order on 20220212": "NO"
                                },
                                {
                                    " Customer ID": "86",
                                    "Company-Name": "Customer SNXOJ",
                                    "Has order on 20220212": "NO"
                                },
                                {
                                    " Customer ID": "87",
                                    "Company-Name": "Customer ZHYOS",
                                    "Has order on 20220212": "NO"
                                },
                                {
                                    " Customer ID": "88",
                                    "Company-Name": "Customer SRQVM",
                                    "Has order on 20220212": "NO"
                                },
                                {
                                    " Customer ID": "89",
                                    "Company-Name": "Customer YBQTI",
                                    "Has order on 20220212": "NO"
                                },
                                {
                                    " Customer ID": "90",
                                    "Company-Name": "Customer XBBVR",
                                    "Has order on 20220212": "NO"
                                },
                                {
                                    " Customer ID": "91",
                                    "Company-Name": "Customer CCFIZ",
                                    "Has order on 20220212": "NO"
                                }
                            ]
                        },
                        "text/html": "<table><tr><th> Customer ID</th><th>Company-Name</th><th>Has order on 20220212</th></tr><tr><td>1</td><td>Customer NRZBB</td><td>NO</td></tr><tr><td>2</td><td>Customer MLTDN</td><td>NO</td></tr><tr><td>3</td><td>Customer KBUDE</td><td>NO</td></tr><tr><td>4</td><td>Customer HFBZG</td><td>NO</td></tr><tr><td>5</td><td>Customer HGVLZ</td><td>NO</td></tr><tr><td>6</td><td>Customer XHXJV</td><td>NO</td></tr><tr><td>7</td><td>Customer QXVLA</td><td>NO</td></tr><tr><td>8</td><td>Customer QUHWH</td><td>NO</td></tr><tr><td>9</td><td>Customer RTXGC</td><td>NO</td></tr><tr><td>10</td><td>Customer EEALV</td><td>NO</td></tr><tr><td>11</td><td>Customer UBHAU</td><td>NO</td></tr><tr><td>12</td><td>Customer PSNMQ</td><td>NO</td></tr><tr><td>13</td><td>Customer VMLOG</td><td>NO</td></tr><tr><td>14</td><td>Customer WNMAF</td><td>NO</td></tr><tr><td>15</td><td>Customer JUWXK</td><td>NO</td></tr><tr><td>16</td><td>Customer GYBBY</td><td>NO</td></tr><tr><td>17</td><td>Customer FEVNN</td><td>NO</td></tr><tr><td>18</td><td>Customer BSVAR</td><td>NO</td></tr><tr><td>19</td><td>Customer RFNQC</td><td>NO</td></tr><tr><td>20</td><td>Customer THHDP</td><td>NO</td></tr><tr><td>21</td><td>Customer KIDPX</td><td>NO</td></tr><tr><td>22</td><td>Customer DTDMN</td><td>NO</td></tr><tr><td>23</td><td>Customer WVFAF</td><td>NO</td></tr><tr><td>24</td><td>Customer CYZTN</td><td>NO</td></tr><tr><td>25</td><td>Customer AZJED</td><td>NO</td></tr><tr><td>26</td><td>Customer USDBG</td><td>NO</td></tr><tr><td>27</td><td>Customer WMFEA</td><td>NO</td></tr><tr><td>28</td><td>Customer XYUFB</td><td>NO</td></tr><tr><td>29</td><td>Customer MDLWA</td><td>NO</td></tr><tr><td>30</td><td>Customer KSLQF</td><td>NO</td></tr><tr><td>31</td><td>Customer YJCBX</td><td>NO</td></tr><tr><td>32</td><td>Customer YSIQX</td><td>NO</td></tr><tr><td>33</td><td>Customer FVXPQ</td><td>NO</td></tr><tr><td>34</td><td>Customer IBVRG</td><td>NO</td></tr><tr><td>35</td><td>Customer UMTLM</td><td>NO</td></tr><tr><td>36</td><td>Customer LVJSO</td><td>NO</td></tr><tr><td>37</td><td>Customer FRXZL</td><td>NO</td></tr><tr><td>38</td><td>Customer LJUCA</td><td>NO</td></tr><tr><td>39</td><td>Customer GLLAG</td><td>NO</td></tr><tr><td>40</td><td>Customer EFFTC</td><td>NO</td></tr><tr><td>41</td><td>Customer XIIWM</td><td>NO</td></tr><tr><td>42</td><td>Customer IAIJK</td><td>NO</td></tr><tr><td>43</td><td>Customer UISOJ</td><td>NO</td></tr><tr><td>44</td><td>Customer OXFRU</td><td>NO</td></tr><tr><td>45</td><td>Customer QXPPT</td><td>YES</td></tr><tr><td>46</td><td>Customer XPNIK</td><td>NO</td></tr><tr><td>47</td><td>Customer PSQUZ</td><td>NO</td></tr><tr><td>48</td><td>Customer DVFMB</td><td>YES</td></tr><tr><td>49</td><td>Customer CQRAA</td><td>NO</td></tr><tr><td>50</td><td>Customer JYPSC</td><td>NO</td></tr><tr><td>51</td><td>Customer PVDZC</td><td>NO</td></tr><tr><td>52</td><td>Customer PZNLA</td><td>NO</td></tr><tr><td>53</td><td>Customer GCJSG</td><td>NO</td></tr><tr><td>54</td><td>Customer TDKEG</td><td>NO</td></tr><tr><td>55</td><td>Customer KZQZT</td><td>NO</td></tr><tr><td>56</td><td>Customer QNIVZ</td><td>NO</td></tr><tr><td>57</td><td>Customer WVAXS</td><td>NO</td></tr><tr><td>58</td><td>Customer AHXHT</td><td>NO</td></tr><tr><td>59</td><td>Customer LOLJO</td><td>NO</td></tr><tr><td>60</td><td>Customer QZURI</td><td>NO</td></tr><tr><td>61</td><td>Customer WULWD</td><td>NO</td></tr><tr><td>62</td><td>Customer WFIZJ</td><td>NO</td></tr><tr><td>63</td><td>Customer IRRVL</td><td>NO</td></tr><tr><td>64</td><td>Customer LWGMD</td><td>NO</td></tr><tr><td>65</td><td>Customer NYUHS</td><td>NO</td></tr><tr><td>66</td><td>Customer LHANT</td><td>NO</td></tr><tr><td>67</td><td>Customer QVEPD</td><td>NO</td></tr><tr><td>68</td><td>Customer CCKOT</td><td>NO</td></tr><tr><td>69</td><td>Customer SIUIH</td><td>NO</td></tr><tr><td>70</td><td>Customer TMXGN</td><td>NO</td></tr><tr><td>71</td><td>Customer LCOUJ</td><td>NO</td></tr><tr><td>72</td><td>Customer AHPOP</td><td>NO</td></tr><tr><td>73</td><td>Customer JMIKW</td><td>NO</td></tr><tr><td>74</td><td>Customer YSHXL</td><td>NO</td></tr><tr><td>75</td><td>Customer XOJYP</td><td>NO</td></tr><tr><td>76</td><td>Customer SFOGW</td><td>YES</td></tr><tr><td>77</td><td>Customer LCYBZ</td><td>NO</td></tr><tr><td>78</td><td>Customer NLTYP</td><td>NO</td></tr><tr><td>79</td><td>Customer FAPSM</td><td>NO</td></tr><tr><td>80</td><td>Customer VONTK</td><td>NO</td></tr><tr><td>81</td><td>Customer YQQWW</td><td>NO</td></tr><tr><td>82</td><td>Customer EYHKM</td><td>NO</td></tr><tr><td>83</td><td>Customer ZRNDE</td><td>NO</td></tr><tr><td>84</td><td>Customer NRCSK</td><td>NO</td></tr><tr><td>85</td><td>Customer ENQZT</td><td>NO</td></tr><tr><td>86</td><td>Customer SNXOJ</td><td>NO</td></tr><tr><td>87</td><td>Customer ZHYOS</td><td>NO</td></tr><tr><td>88</td><td>Customer SRQVM</td><td>NO</td></tr><tr><td>89</td><td>Customer YBQTI</td><td>NO</td></tr><tr><td>90</td><td>Customer XBBVR</td><td>NO</td></tr><tr><td>91</td><td>Customer CCFIZ</td><td>NO</td></tr></table>"
                    },
                    "metadata": {}
                }
            ],
            "execution_count": 13
        },
        {
            "cell_type": "markdown",
            "source": [
                "\\--1st Custom Query\n",
                "\n",
                "\\--Generate 5 copies of each row from the table by using a CROSS JOIN  \n",
                "\\--Using <span style=\"color: rgb(0, 0, 0); caret-color: rgb(0, 0, 0); font-family: -apple-system, BlinkMacSystemFont, sans-serif;\">NumberSeries CTE Creates a set of 5 rows with the values 1 through 5.</span>\n",
                "\n",
                "\\-- Tables Involved -**WideWorldImporters** Database, sales.orderlines and Numberseries table."
            ],
            "metadata": {
                "language": "sql",
                "azdata_cell_guid": "9431255f-b1d0-4f80-9119-3a6bca15d533"
            },
            "attachments": {}
        },
        {
            "cell_type": "code",
            "source": [
                "USE WideWorldImporters;\n",
                "WITH NumberSeries AS (\n",
                "    SELECT 1 AS Num UNION ALL\n",
                "    SELECT 2 UNION ALL\n",
                "    SELECT 3 UNION ALL\n",
                "    SELECT 4 UNION ALL\n",
                "    SELECT 5\n",
                ")\n",
                "SELECT \n",
                "    o.OrderID,\n",
                "    o.StockItemID,\n",
                "    o.Quantity,\n",
                "    o.UnitPrice\n",
                "FROM sales.orderlines o\n",
                "CROSS JOIN NumberSeries\n",
                "WHERE o.OrderID BETWEEN 1 AND 5\n",
                ""
            ],
            "metadata": {
                "azdata_cell_guid": "041206bc-49d1-4f23-86b5-e2e54ab02651",
                "language": "sql"
            },
            "outputs": [
                {
                    "output_type": "display_data",
                    "data": {
                        "text/html": "(50 rows affected)"
                    },
                    "metadata": {}
                },
                {
                    "output_type": "display_data",
                    "data": {
                        "text/html": "Total execution time: 00:00:00.011"
                    },
                    "metadata": {}
                },
                {
                    "output_type": "execute_result",
                    "execution_count": 12,
                    "data": {
                        "application/vnd.dataresource+json": {
                            "schema": {
                                "fields": [
                                    {
                                        "name": "OrderID"
                                    },
                                    {
                                        "name": "StockItemID"
                                    },
                                    {
                                        "name": "Quantity"
                                    },
                                    {
                                        "name": "UnitPrice"
                                    }
                                ]
                            },
                            "data": [
                                {
                                    "OrderID": "4",
                                    "StockItemID": "50",
                                    "Quantity": "2",
                                    "UnitPrice": "13.00"
                                },
                                {
                                    "OrderID": "4",
                                    "StockItemID": "50",
                                    "Quantity": "2",
                                    "UnitPrice": "13.00"
                                },
                                {
                                    "OrderID": "4",
                                    "StockItemID": "50",
                                    "Quantity": "2",
                                    "UnitPrice": "13.00"
                                },
                                {
                                    "OrderID": "4",
                                    "StockItemID": "50",
                                    "Quantity": "2",
                                    "UnitPrice": "13.00"
                                },
                                {
                                    "OrderID": "4",
                                    "StockItemID": "50",
                                    "Quantity": "2",
                                    "UnitPrice": "13.00"
                                },
                                {
                                    "OrderID": "2",
                                    "StockItemID": "50",
                                    "Quantity": "9",
                                    "UnitPrice": "13.00"
                                },
                                {
                                    "OrderID": "2",
                                    "StockItemID": "50",
                                    "Quantity": "9",
                                    "UnitPrice": "13.00"
                                },
                                {
                                    "OrderID": "2",
                                    "StockItemID": "50",
                                    "Quantity": "9",
                                    "UnitPrice": "13.00"
                                },
                                {
                                    "OrderID": "2",
                                    "StockItemID": "50",
                                    "Quantity": "9",
                                    "UnitPrice": "13.00"
                                },
                                {
                                    "OrderID": "2",
                                    "StockItemID": "50",
                                    "Quantity": "9",
                                    "UnitPrice": "13.00"
                                },
                                {
                                    "OrderID": "4",
                                    "StockItemID": "130",
                                    "Quantity": "5",
                                    "UnitPrice": "32.00"
                                },
                                {
                                    "OrderID": "4",
                                    "StockItemID": "130",
                                    "Quantity": "5",
                                    "UnitPrice": "32.00"
                                },
                                {
                                    "OrderID": "4",
                                    "StockItemID": "130",
                                    "Quantity": "5",
                                    "UnitPrice": "32.00"
                                },
                                {
                                    "OrderID": "4",
                                    "StockItemID": "130",
                                    "Quantity": "5",
                                    "UnitPrice": "32.00"
                                },
                                {
                                    "OrderID": "4",
                                    "StockItemID": "130",
                                    "Quantity": "5",
                                    "UnitPrice": "32.00"
                                },
                                {
                                    "OrderID": "5",
                                    "StockItemID": "128",
                                    "Quantity": "4",
                                    "UnitPrice": "32.00"
                                },
                                {
                                    "OrderID": "5",
                                    "StockItemID": "128",
                                    "Quantity": "4",
                                    "UnitPrice": "32.00"
                                },
                                {
                                    "OrderID": "5",
                                    "StockItemID": "128",
                                    "Quantity": "4",
                                    "UnitPrice": "32.00"
                                },
                                {
                                    "OrderID": "5",
                                    "StockItemID": "128",
                                    "Quantity": "4",
                                    "UnitPrice": "32.00"
                                },
                                {
                                    "OrderID": "5",
                                    "StockItemID": "128",
                                    "Quantity": "4",
                                    "UnitPrice": "32.00"
                                },
                                {
                                    "OrderID": "2",
                                    "StockItemID": "10",
                                    "Quantity": "9",
                                    "UnitPrice": "32.00"
                                },
                                {
                                    "OrderID": "2",
                                    "StockItemID": "10",
                                    "Quantity": "9",
                                    "UnitPrice": "32.00"
                                },
                                {
                                    "OrderID": "2",
                                    "StockItemID": "10",
                                    "Quantity": "9",
                                    "UnitPrice": "32.00"
                                },
                                {
                                    "OrderID": "2",
                                    "StockItemID": "10",
                                    "Quantity": "9",
                                    "UnitPrice": "32.00"
                                },
                                {
                                    "OrderID": "2",
                                    "StockItemID": "10",
                                    "Quantity": "9",
                                    "UnitPrice": "32.00"
                                },
                                {
                                    "OrderID": "5",
                                    "StockItemID": "121",
                                    "Quantity": "3",
                                    "UnitPrice": "32.00"
                                },
                                {
                                    "OrderID": "5",
                                    "StockItemID": "121",
                                    "Quantity": "3",
                                    "UnitPrice": "32.00"
                                },
                                {
                                    "OrderID": "5",
                                    "StockItemID": "121",
                                    "Quantity": "3",
                                    "UnitPrice": "32.00"
                                },
                                {
                                    "OrderID": "5",
                                    "StockItemID": "121",
                                    "Quantity": "3",
                                    "UnitPrice": "32.00"
                                },
                                {
                                    "OrderID": "5",
                                    "StockItemID": "121",
                                    "Quantity": "3",
                                    "UnitPrice": "32.00"
                                },
                                {
                                    "OrderID": "3",
                                    "StockItemID": "114",
                                    "Quantity": "3",
                                    "UnitPrice": "30.00"
                                },
                                {
                                    "OrderID": "3",
                                    "StockItemID": "114",
                                    "Quantity": "3",
                                    "UnitPrice": "30.00"
                                },
                                {
                                    "OrderID": "3",
                                    "StockItemID": "114",
                                    "Quantity": "3",
                                    "UnitPrice": "30.00"
                                },
                                {
                                    "OrderID": "3",
                                    "StockItemID": "114",
                                    "Quantity": "3",
                                    "UnitPrice": "30.00"
                                },
                                {
                                    "OrderID": "3",
                                    "StockItemID": "114",
                                    "Quantity": "3",
                                    "UnitPrice": "30.00"
                                },
                                {
                                    "OrderID": "1",
                                    "StockItemID": "67",
                                    "Quantity": "10",
                                    "UnitPrice": "230.00"
                                },
                                {
                                    "OrderID": "1",
                                    "StockItemID": "67",
                                    "Quantity": "10",
                                    "UnitPrice": "230.00"
                                },
                                {
                                    "OrderID": "1",
                                    "StockItemID": "67",
                                    "Quantity": "10",
                                    "UnitPrice": "230.00"
                                },
                                {
                                    "OrderID": "1",
                                    "StockItemID": "67",
                                    "Quantity": "10",
                                    "UnitPrice": "230.00"
                                },
                                {
                                    "OrderID": "1",
                                    "StockItemID": "67",
                                    "Quantity": "10",
                                    "UnitPrice": "230.00"
                                },
                                {
                                    "OrderID": "4",
                                    "StockItemID": "206",
                                    "Quantity": "96",
                                    "UnitPrice": "2.70"
                                },
                                {
                                    "OrderID": "4",
                                    "StockItemID": "206",
                                    "Quantity": "96",
                                    "UnitPrice": "2.70"
                                },
                                {
                                    "OrderID": "4",
                                    "StockItemID": "206",
                                    "Quantity": "96",
                                    "UnitPrice": "2.70"
                                },
                                {
                                    "OrderID": "4",
                                    "StockItemID": "206",
                                    "Quantity": "96",
                                    "UnitPrice": "2.70"
                                },
                                {
                                    "OrderID": "4",
                                    "StockItemID": "206",
                                    "Quantity": "96",
                                    "UnitPrice": "2.70"
                                },
                                {
                                    "OrderID": "5",
                                    "StockItemID": "155",
                                    "Quantity": "20",
                                    "UnitPrice": "24.00"
                                },
                                {
                                    "OrderID": "5",
                                    "StockItemID": "155",
                                    "Quantity": "20",
                                    "UnitPrice": "24.00"
                                },
                                {
                                    "OrderID": "5",
                                    "StockItemID": "155",
                                    "Quantity": "20",
                                    "UnitPrice": "24.00"
                                },
                                {
                                    "OrderID": "5",
                                    "StockItemID": "155",
                                    "Quantity": "20",
                                    "UnitPrice": "24.00"
                                },
                                {
                                    "OrderID": "5",
                                    "StockItemID": "155",
                                    "Quantity": "20",
                                    "UnitPrice": "24.00"
                                }
                            ]
                        },
                        "text/html": "<table><tr><th>OrderID</th><th>StockItemID</th><th>Quantity</th><th>UnitPrice</th></tr><tr><td>4</td><td>50</td><td>2</td><td>13.00</td></tr><tr><td>4</td><td>50</td><td>2</td><td>13.00</td></tr><tr><td>4</td><td>50</td><td>2</td><td>13.00</td></tr><tr><td>4</td><td>50</td><td>2</td><td>13.00</td></tr><tr><td>4</td><td>50</td><td>2</td><td>13.00</td></tr><tr><td>2</td><td>50</td><td>9</td><td>13.00</td></tr><tr><td>2</td><td>50</td><td>9</td><td>13.00</td></tr><tr><td>2</td><td>50</td><td>9</td><td>13.00</td></tr><tr><td>2</td><td>50</td><td>9</td><td>13.00</td></tr><tr><td>2</td><td>50</td><td>9</td><td>13.00</td></tr><tr><td>4</td><td>130</td><td>5</td><td>32.00</td></tr><tr><td>4</td><td>130</td><td>5</td><td>32.00</td></tr><tr><td>4</td><td>130</td><td>5</td><td>32.00</td></tr><tr><td>4</td><td>130</td><td>5</td><td>32.00</td></tr><tr><td>4</td><td>130</td><td>5</td><td>32.00</td></tr><tr><td>5</td><td>128</td><td>4</td><td>32.00</td></tr><tr><td>5</td><td>128</td><td>4</td><td>32.00</td></tr><tr><td>5</td><td>128</td><td>4</td><td>32.00</td></tr><tr><td>5</td><td>128</td><td>4</td><td>32.00</td></tr><tr><td>5</td><td>128</td><td>4</td><td>32.00</td></tr><tr><td>2</td><td>10</td><td>9</td><td>32.00</td></tr><tr><td>2</td><td>10</td><td>9</td><td>32.00</td></tr><tr><td>2</td><td>10</td><td>9</td><td>32.00</td></tr><tr><td>2</td><td>10</td><td>9</td><td>32.00</td></tr><tr><td>2</td><td>10</td><td>9</td><td>32.00</td></tr><tr><td>5</td><td>121</td><td>3</td><td>32.00</td></tr><tr><td>5</td><td>121</td><td>3</td><td>32.00</td></tr><tr><td>5</td><td>121</td><td>3</td><td>32.00</td></tr><tr><td>5</td><td>121</td><td>3</td><td>32.00</td></tr><tr><td>5</td><td>121</td><td>3</td><td>32.00</td></tr><tr><td>3</td><td>114</td><td>3</td><td>30.00</td></tr><tr><td>3</td><td>114</td><td>3</td><td>30.00</td></tr><tr><td>3</td><td>114</td><td>3</td><td>30.00</td></tr><tr><td>3</td><td>114</td><td>3</td><td>30.00</td></tr><tr><td>3</td><td>114</td><td>3</td><td>30.00</td></tr><tr><td>1</td><td>67</td><td>10</td><td>230.00</td></tr><tr><td>1</td><td>67</td><td>10</td><td>230.00</td></tr><tr><td>1</td><td>67</td><td>10</td><td>230.00</td></tr><tr><td>1</td><td>67</td><td>10</td><td>230.00</td></tr><tr><td>1</td><td>67</td><td>10</td><td>230.00</td></tr><tr><td>4</td><td>206</td><td>96</td><td>2.70</td></tr><tr><td>4</td><td>206</td><td>96</td><td>2.70</td></tr><tr><td>4</td><td>206</td><td>96</td><td>2.70</td></tr><tr><td>4</td><td>206</td><td>96</td><td>2.70</td></tr><tr><td>4</td><td>206</td><td>96</td><td>2.70</td></tr><tr><td>5</td><td>155</td><td>20</td><td>24.00</td></tr><tr><td>5</td><td>155</td><td>20</td><td>24.00</td></tr><tr><td>5</td><td>155</td><td>20</td><td>24.00</td></tr><tr><td>5</td><td>155</td><td>20</td><td>24.00</td></tr><tr><td>5</td><td>155</td><td>20</td><td>24.00</td></tr></table>"
                    },
                    "metadata": {}
                }
            ],
            "execution_count": 12
        },
        {
            "cell_type": "markdown",
            "source": [
                "\\--2nd Custom Query\n",
                "\n",
                "\\--Query that retrieves the customer names and the count of their orders for customers whose accounts were opened in 2016\n",
                "\n",
                "\\-- Tables Involved -**WideWorldImporters** Database, sales.orders and sales.customers  table\\*\\*.\\*\\*"
            ],
            "metadata": {
                "azdata_cell_guid": "be0c6c61-8cf2-4e8d-9d89-85c40c04fe3e"
            },
            "attachments": {}
        },
        {
            "cell_type": "code",
            "source": [
                "USE WideWorldImporters;\n",
                "SELECT   c.CustomerName, COUNT(OrderID) as [Order-Count]\n",
                "FROM sales.Orders as o \n",
                "JOIN sales.customers as c ON c.CustomerID = o.CustomerID\n",
                "\n",
                "WHERE YEAR(AccountOpenedDate) = '2016'\n",
                "\n",
                "GROUP BY c.CustomerName"
            ],
            "metadata": {
                "azdata_cell_guid": "82e5100c-6f80-480c-a64d-a5f350938255",
                "language": "sql"
            },
            "outputs": [
                {
                    "output_type": "display_data",
                    "data": {
                        "text/html": "(5 rows affected)"
                    },
                    "metadata": {}
                },
                {
                    "output_type": "display_data",
                    "data": {
                        "text/html": "Total execution time: 00:00:00.026"
                    },
                    "metadata": {}
                },
                {
                    "output_type": "execute_result",
                    "execution_count": 17,
                    "data": {
                        "application/vnd.dataresource+json": {
                            "schema": {
                                "fields": [
                                    {
                                        "name": "CustomerName"
                                    },
                                    {
                                        "name": "Order-Count"
                                    }
                                ]
                            },
                            "data": [
                                {
                                    "CustomerName": "Ganesh Majumdar",
                                    "Order-Count": "19"
                                },
                                {
                                    "CustomerName": "Jaroslav Fisar",
                                    "Order-Count": "14"
                                },
                                {
                                    "CustomerName": "Jibek Juniskyzy",
                                    "Order-Count": "8"
                                },
                                {
                                    "CustomerName": "Anand Mudaliyar",
                                    "Order-Count": "4"
                                },
                                {
                                    "CustomerName": "Agrita Abele",
                                    "Order-Count": "9"
                                }
                            ]
                        },
                        "text/html": "<table><tr><th>CustomerName</th><th>Order-Count</th></tr><tr><td>Ganesh Majumdar</td><td>19</td></tr><tr><td>Jaroslav Fisar</td><td>14</td></tr><tr><td>Jibek Juniskyzy</td><td>8</td></tr><tr><td>Anand Mudaliyar</td><td>4</td></tr><tr><td>Agrita Abele</td><td>9</td></tr></table>"
                    },
                    "metadata": {}
                }
            ],
            "execution_count": 17
        },
        {
            "cell_type": "markdown",
            "source": [
                "\\--3rd  custom Query\n",
                "\n",
                "\\--The query will show the customer name, the city they are located in, and the corresponding state or province.\n",
                "\n",
                "\\-- Table Involved -**WideWorldImporters** Database, customers, cities and state table."
            ],
            "metadata": {
                "azdata_cell_guid": "8cd29b26-f100-40ed-a994-9d1d5a7c3883"
            },
            "attachments": {}
        },
        {
            "cell_type": "code",
            "source": [
                "USE WideWorldImporters;\n",
                "SELECT \n",
                "    c.CustomerName, \n",
                "    city.CityName,\n",
                "    st.stateprovincename\n",
                "FROM sales.customers AS c\n",
                "JOIN Application.cities AS city\n",
                "    ON c.DeliveryCityID = city.CityID\n",
                "JOIN Application.stateprovinces AS st\n",
                "    ON city.stateprovinceid = st.stateprovinceid;\n",
                ""
            ],
            "metadata": {
                "azdata_cell_guid": "5b2bcde1-2d8e-4b42-a84f-3a76ad4e8b17",
                "language": "sql"
            },
            "outputs": [
                {
                    "output_type": "display_data",
                    "data": {
                        "text/html": "(18 rows affected)"
                    },
                    "metadata": {}
                },
                {
                    "output_type": "display_data",
                    "data": {
                        "text/html": "Total execution time: 00:00:00.053"
                    },
                    "metadata": {}
                },
                {
                    "output_type": "execute_result",
                    "execution_count": 19,
                    "data": {
                        "application/vnd.dataresource+json": {
                            "schema": {
                                "fields": [
                                    {
                                        "name": "CustomerName"
                                    },
                                    {
                                        "name": "Order-Count"
                                    }
                                ]
                            },
                            "data": [
                                {
                                    "CustomerName": "Kalyani Benjaree",
                                    "Order-Count": "13"
                                },
                                {
                                    "CustomerName": "Raj Verma",
                                    "Order-Count": "54"
                                },
                                {
                                    "CustomerName": "Luis Saucedo",
                                    "Order-Count": "26"
                                },
                                {
                                    "CustomerName": "Tomo Vidovic",
                                    "Order-Count": "52"
                                },
                                {
                                    "CustomerName": "Ivana Hadrabova",
                                    "Order-Count": "28"
                                },
                                {
                                    "CustomerName": "Amet Shergill",
                                    "Order-Count": "30"
                                },
                                {
                                    "CustomerName": "Amrita Ganguly",
                                    "Order-Count": "21"
                                },
                                {
                                    "CustomerName": "Hanita Nookala",
                                    "Order-Count": "43"
                                },
                                {
                                    "CustomerName": "Christian Couet",
                                    "Order-Count": "39"
                                },
                                {
                                    "CustomerName": "Nguyen Banh",
                                    "Order-Count": "52"
                                },
                                {
                                    "CustomerName": "Bhaamini Palagummi",
                                    "Order-Count": "52"
                                },
                                {
                                    "CustomerName": "Emma Salpa",
                                    "Order-Count": "28"
                                },
                                {
                                    "CustomerName": "Abhra Ganguly",
                                    "Order-Count": "21"
                                },
                                {
                                    "CustomerName": "Damodar Shenoy",
                                    "Order-Count": "59"
                                },
                                {
                                    "CustomerName": "Adriana Pena",
                                    "Order-Count": "29"
                                },
                                {
                                    "CustomerName": "Ian Olofsson",
                                    "Order-Count": "31"
                                },
                                {
                                    "CustomerName": "Matteo Cattaneo",
                                    "Order-Count": "57"
                                },
                                {
                                    "CustomerName": "Sylvie Laramee",
                                    "Order-Count": "21"
                                }
                            ]
                        },
                        "text/html": "<table><tr><th>CustomerName</th><th>Order-Count</th></tr><tr><td>Kalyani Benjaree</td><td>13</td></tr><tr><td>Raj Verma</td><td>54</td></tr><tr><td>Luis Saucedo</td><td>26</td></tr><tr><td>Tomo Vidovic</td><td>52</td></tr><tr><td>Ivana Hadrabova</td><td>28</td></tr><tr><td>Amet Shergill</td><td>30</td></tr><tr><td>Amrita Ganguly</td><td>21</td></tr><tr><td>Hanita Nookala</td><td>43</td></tr><tr><td>Christian Couet</td><td>39</td></tr><tr><td>Nguyen Banh</td><td>52</td></tr><tr><td>Bhaamini Palagummi</td><td>52</td></tr><tr><td>Emma Salpa</td><td>28</td></tr><tr><td>Abhra Ganguly</td><td>21</td></tr><tr><td>Damodar Shenoy</td><td>59</td></tr><tr><td>Adriana Pena</td><td>29</td></tr><tr><td>Ian Olofsson</td><td>31</td></tr><tr><td>Matteo Cattaneo</td><td>57</td></tr><tr><td>Sylvie Laramee</td><td>21</td></tr></table>"
                    },
                    "metadata": {}
                }
            ],
            "execution_count": 19
        },
        {
            "cell_type": "markdown",
            "source": [
                "\\--4th Custom Query\n",
                "\n",
                "\\--This Query will retrieve the top 5 total amount each customer has spent by joining sales.orders with the sales.orderlines table.\n",
                "\n",
                "\\-- Table Involved -**WideWorldImporters** Database, customers, orders and orderlines tables."
            ],
            "metadata": {
                "azdata_cell_guid": "262d2c30-c384-4d69-951a-bf565e8d7ba3"
            },
            "attachments": {}
        },
        {
            "cell_type": "code",
            "source": [
                " USE WideWorldImporters\n",
                " SELECT TOP 5\n",
                "    c.CustomerID,\n",
                "    c.CustomerName, \n",
                "    SUM(ol.Quantity * ol.UnitPrice) AS [Total]\n",
                "FROM \n",
                "    sales.customers AS c \n",
                "JOIN sales.orders AS o \n",
                "    ON c.CustomerID = o.CustomerID\n",
                "JOIN sales.orderlines AS ol \n",
                "    ON ol.OrderID = o.OrderID\n",
                "GROUP BY \n",
                "    c.CustomerName,c.CustomerID\n",
                "ORDER BY \n",
                "    [Total] DESC;"
            ],
            "metadata": {
                "azdata_cell_guid": "014c4476-805b-4151-94a7-0ee585e85968",
                "language": "sql"
            },
            "outputs": [
                {
                    "output_type": "display_data",
                    "data": {
                        "text/html": "(5 rows affected)"
                    },
                    "metadata": {}
                },
                {
                    "output_type": "display_data",
                    "data": {
                        "text/html": "Total execution time: 00:00:00.091"
                    },
                    "metadata": {}
                },
                {
                    "output_type": "execute_result",
                    "execution_count": 24,
                    "data": {
                        "application/vnd.dataresource+json": {
                            "schema": {
                                "fields": [
                                    {
                                        "name": "CustomerID"
                                    },
                                    {
                                        "name": "CustomerName"
                                    },
                                    {
                                        "name": "Total"
                                    }
                                ]
                            },
                            "data": [
                                {
                                    "CustomerID": "149",
                                    "CustomerName": "Tailspin Toys (Inguadona, MN)",
                                    "Total": "384393.35"
                                },
                                {
                                    "CustomerID": "132",
                                    "CustomerName": "Tailspin Toys (Minidoka, ID)",
                                    "Total": "379660.70"
                                },
                                {
                                    "CustomerID": "977",
                                    "CustomerName": "Mauno Laurila",
                                    "Total": "377189.80"
                                },
                                {
                                    "CustomerID": "580",
                                    "CustomerName": "Wingtip Toys (Sarversville, PA)",
                                    "Total": "372350.00"
                                },
                                {
                                    "CustomerID": "964",
                                    "CustomerName": "Ingrida Zeltina",
                                    "Total": "368067.45"
                                }
                            ]
                        },
                        "text/html": "<table><tr><th>CustomerID</th><th>CustomerName</th><th>Total</th></tr><tr><td>149</td><td>Tailspin Toys (Inguadona, MN)</td><td>384393.35</td></tr><tr><td>132</td><td>Tailspin Toys (Minidoka, ID)</td><td>379660.70</td></tr><tr><td>977</td><td>Mauno Laurila</td><td>377189.80</td></tr><tr><td>580</td><td>Wingtip Toys (Sarversville, PA)</td><td>372350.00</td></tr><tr><td>964</td><td>Ingrida Zeltina</td><td>368067.45</td></tr></table>"
                    },
                    "metadata": {}
                }
            ],
            "execution_count": 24
        },
        {
            "cell_type": "markdown",
            "source": [
                "\\-- 5th Custom Query\n",
                "\n",
                "\\--The goal of this query is to retrieve customer names, delivery cities, and the tax percentage based on their transactions. By joining three tables\n",
                "\n",
                "—sales.customerTransactions, sales.customers, and Application.cities—the query calculates the tax percentage for each customer, grouped by customer and city.\n",
                "\n",
                "\\-- Table Involved -**WideWorldImporters** Database, customerTransactions,customers and cities Tables\\*\\*.\\*\\*"
            ],
            "metadata": {
                "azdata_cell_guid": "64826653-6ad3-4748-9111-ac43aff5ff3b"
            },
            "attachments": {}
        },
        {
            "cell_type": "code",
            "source": [
                "USE WideWorldImporters;\n",
                "SELECT \n",
                "    c.CustomerName, \n",
                "    city.cityname,\n",
                "    CASE \n",
                "        WHEN SUM(ct.AmountExcludingTax) > 0 \n",
                "        THEN CAST((SUM(ct.TaxAmount) / SUM(ct.AmountExcludingTax)) * 100 AS DECIMAL(5,2))\n",
                "        ELSE 0 \n",
                "    END AS TaxPercentage\n",
                "FROM sales.customerTransactions AS ct\n",
                "JOIN sales.customers AS c \n",
                "    ON ct.CustomerID = c.CustomerID\n",
                "JOIN Application.cities AS city \n",
                "    ON c.DeliveryCityID = city.CityID\n",
                "GROUP BY \n",
                "    c.CustomerName, c.DeliveryCityID, city.cityname;\n",
                ""
            ],
            "metadata": {
                "azdata_cell_guid": "06fcf72a-005b-4718-a2f3-261198a46beb",
                "language": "sql"
            },
            "outputs": [
                {
                    "output_type": "display_data",
                    "data": {
                        "text/html": "(263 rows affected)"
                    },
                    "metadata": {}
                },
                {
                    "output_type": "display_data",
                    "data": {
                        "text/html": "Total execution time: 00:00:00.110"
                    },
                    "metadata": {}
                },
                {
                    "output_type": "execute_result",
                    "metadata": {},
                    "execution_count": 1,
                    "data": {
                        "application/vnd.dataresource+json": {
                            "schema": {
                                "fields": [
                                    {
                                        "name": "CustomerName"
                                    },
                                    {
                                        "name": "cityname"
                                    },
                                    {
                                        "name": "TaxPercentage"
                                    }
                                ]
                            },
                            "data": [
                                {
                                    "CustomerName": "Camille Authier",
                                    "cityname": "Abbottsburg",
                                    "TaxPercentage": "14.99"
                                },
                                {
                                    "CustomerName": "Caterina Pinto",
                                    "cityname": "Akhiok",
                                    "TaxPercentage": "14.89"
                                },
                                {
                                    "CustomerName": "Bahaar Asef zade",
                                    "cityname": "Alden Bridge",
                                    "TaxPercentage": "14.97"
                                },
                                {
                                    "CustomerName": "Sointu Savonheimo",
                                    "cityname": "Argusville",
                                    "TaxPercentage": "15.00"
                                },
                                {
                                    "CustomerName": "Anca Gogean",
                                    "cityname": "Arrowbear Lake",
                                    "TaxPercentage": "15.00"
                                },
                                {
                                    "CustomerName": "Rani Ganguly",
                                    "cityname": "Arrowhead Highlands",
                                    "TaxPercentage": "14.95"
                                },
                                {
                                    "CustomerName": "Chompoo Atitarn",
                                    "cityname": "Ashland",
                                    "TaxPercentage": "14.90"
                                },
                                {
                                    "CustomerName": "Daakshaayaani Kommineni",
                                    "cityname": "Bakers Mill",
                                    "TaxPercentage": "15.00"
                                },
                                {
                                    "CustomerName": "Erik Malk",
                                    "cityname": "Basin",
                                    "TaxPercentage": "14.96"
                                },
                                {
                                    "CustomerName": "Violetta KlanCisar",
                                    "cityname": "Bayou Cane",
                                    "TaxPercentage": "14.95"
                                },
                                {
                                    "CustomerName": "Risto Valbe",
                                    "cityname": "Bazemore",
                                    "TaxPercentage": "14.99"
                                },
                                {
                                    "CustomerName": "Mikhail Degtyarev",
                                    "cityname": "Beaver Bay",
                                    "TaxPercentage": "15.00"
                                },
                                {
                                    "CustomerName": "Clarissa Manfrin",
                                    "cityname": "Ben Arnold",
                                    "TaxPercentage": "15.00"
                                },
                                {
                                    "CustomerName": "Mahmut ozbek",
                                    "cityname": "Bernardston",
                                    "TaxPercentage": "15.00"
                                },
                                {
                                    "CustomerName": "Aishwarya Dantuluri",
                                    "cityname": "Biggs",
                                    "TaxPercentage": "15.00"
                                },
                                {
                                    "CustomerName": "Nadir Seddigh",
                                    "cityname": "Biorka",
                                    "TaxPercentage": "15.00"
                                },
                                {
                                    "CustomerName": "Rodrigo Figueiredo",
                                    "cityname": "Blackville",
                                    "TaxPercentage": "14.98"
                                },
                                {
                                    "CustomerName": "Liia Orav",
                                    "cityname": "Bladenboro",
                                    "TaxPercentage": "14.96"
                                },
                                {
                                    "CustomerName": "Sara Huiting",
                                    "cityname": "Bock",
                                    "TaxPercentage": "14.98"
                                },
                                {
                                    "CustomerName": "Edgar Jogi",
                                    "cityname": "Bombay Beach",
                                    "TaxPercentage": "14.97"
                                },
                                {
                                    "CustomerName": "Raghu Sandhu",
                                    "cityname": "Bowleys Quarters",
                                    "TaxPercentage": "15.00"
                                },
                                {
                                    "CustomerName": "Kalyani Benjaree",
                                    "cityname": "Bowmansville",
                                    "TaxPercentage": "14.30"
                                },
                                {
                                    "CustomerName": "Agrita Kanepa",
                                    "cityname": "Branchburg Park",
                                    "TaxPercentage": "14.97"
                                },
                                {
                                    "CustomerName": "Isidora Urias",
                                    "cityname": "Bratt",
                                    "TaxPercentage": "14.95"
                                },
                                {
                                    "CustomerName": "Farzana Habibi",
                                    "cityname": "Brookville",
                                    "TaxPercentage": "14.96"
                                },
                                {
                                    "CustomerName": "Ana Florea",
                                    "cityname": "Buchanan Lake Village",
                                    "TaxPercentage": "15.00"
                                },
                                {
                                    "CustomerName": "Arka Chatterjee",
                                    "cityname": "Byers",
                                    "TaxPercentage": "14.97"
                                },
                                {
                                    "CustomerName": "Matyas Sedlar",
                                    "cityname": "Calvert City",
                                    "TaxPercentage": "15.00"
                                },
                                {
                                    "CustomerName": "Cosmina Vlad",
                                    "cityname": "Cañon",
                                    "TaxPercentage": "14.93"
                                },
                                {
                                    "CustomerName": "Chin-Sun Chang",
                                    "cityname": "Capa",
                                    "TaxPercentage": "15.00"
                                },
                                {
                                    "CustomerName": "Ajitaab Pakalapati",
                                    "cityname": "Caruthers",
                                    "TaxPercentage": "14.96"
                                },
                                {
                                    "CustomerName": "Kwanjai Saowaluk",
                                    "cityname": "Cataño",
                                    "TaxPercentage": "15.00"
                                },
                                {
                                    "CustomerName": "Krishnam Allu",
                                    "cityname": "Catesby",
                                    "TaxPercentage": "14.94"
                                },
                                {
                                    "CustomerName": "Baran Jonsson",
                                    "cityname": "Cave Junction",
                                    "TaxPercentage": "15.00"
                                },
                                {
                                    "CustomerName": "Bhaavan Rai",
                                    "cityname": "Chalco",
                                    "TaxPercentage": "14.95"
                                },
                                {
                                    "CustomerName": "Lana Goransson",
                                    "cityname": "Chateaugay",
                                    "TaxPercentage": "15.00"
                                },
                                {
                                    "CustomerName": "Urve Kasesalu",
                                    "cityname": "Cherokee",
                                    "TaxPercentage": "15.00"
                                },
                                {
                                    "CustomerName": "Drazenka Jelic",
                                    "cityname": "Cherry Grove Beach",
                                    "TaxPercentage": "14.95"
                                },
                                {
                                    "CustomerName": "Sara Walkky",
                                    "cityname": "Chipita Park",
                                    "TaxPercentage": "14.92"
                                },
                                {
                                    "CustomerName": "Hai Banh",
                                    "cityname": "Claremont",
                                    "TaxPercentage": "14.92"
                                },
                                {
                                    "CustomerName": "Nada Ana Slosar",
                                    "cityname": "Cloud Lake",
                                    "TaxPercentage": "14.96"
                                },
                                {
                                    "CustomerName": "Dena Glissen",
                                    "cityname": "Coffeyville",
                                    "TaxPercentage": "14.96"
                                },
                                {
                                    "CustomerName": "Raj Verma",
                                    "cityname": "Colebrook",
                                    "TaxPercentage": "14.97"
                                },
                                {
                                    "CustomerName": "Jitka Necesana",
                                    "cityname": "Conesus Lake",
                                    "TaxPercentage": "14.91"
                                },
                                {
                                    "CustomerName": "Victoria Lacusta",
                                    "cityname": "Conewango",
                                    "TaxPercentage": "15.00"
                                },
                                {
                                    "CustomerName": "Melani Ravlen",
                                    "cityname": "Cookietown",
                                    "TaxPercentage": "15.00"
                                },
                                {
                                    "CustomerName": "Bhagavaan Atluri",
                                    "cityname": "Coosa",
                                    "TaxPercentage": "15.00"
                                },
                                {
                                    "CustomerName": "Stefan Selezeanu",
                                    "cityname": "Copake",
                                    "TaxPercentage": "15.00"
                                },
                                {
                                    "CustomerName": "David Novacek ",
                                    "cityname": "Corryton",
                                    "TaxPercentage": "14.97"
                                },
                                {
                                    "CustomerName": "Leonardo Folliero",
                                    "cityname": "Cotuit",
                                    "TaxPercentage": "15.00"
                                },
                                {
                                    "CustomerName": "Marie LeBatelier",
                                    "cityname": "Coupland",
                                    "TaxPercentage": "14.97"
                                },
                                {
                                    "CustomerName": "Laura Sykorova",
                                    "cityname": "Coyville",
                                    "TaxPercentage": "14.98"
                                },
                                {
                                    "CustomerName": "Shantanu Huq",
                                    "cityname": "Cramerton",
                                    "TaxPercentage": "14.92"
                                },
                                {
                                    "CustomerName": "Alvin Bollinger",
                                    "cityname": "Creelsboro",
                                    "TaxPercentage": "14.96"
                                },
                                {
                                    "CustomerName": "Valter Viiding",
                                    "cityname": "Cuyahoga Heights",
                                    "TaxPercentage": "14.99"
                                },
                                {
                                    "CustomerName": "Gabriela Hernandes",
                                    "cityname": "Cypress Quarters",
                                    "TaxPercentage": "14.95"
                                },
                                {
                                    "CustomerName": "Bing Han",
                                    "cityname": "Darling",
                                    "TaxPercentage": "15.00"
                                },
                                {
                                    "CustomerName": "Serdar ozCelik",
                                    "cityname": "Dawn",
                                    "TaxPercentage": "14.96"
                                },
                                {
                                    "CustomerName": "Biju Deb",
                                    "cityname": "Deer River",
                                    "TaxPercentage": "15.00"
                                },
                                {
                                    "CustomerName": "Harsha Huq",
                                    "cityname": "Dennis Acres",
                                    "TaxPercentage": "15.00"
                                },
                                {
                                    "CustomerName": "Narendra Tickoo",
                                    "cityname": "Dillon",
                                    "TaxPercentage": "15.00"
                                },
                                {
                                    "CustomerName": "Dinh Mai",
                                    "cityname": "Dorchester",
                                    "TaxPercentage": "14.99"
                                },
                                {
                                    "CustomerName": "Veronika Necesana",
                                    "cityname": "Dover",
                                    "TaxPercentage": "15.00"
                                },
                                {
                                    "CustomerName": "Celica Barajas",
                                    "cityname": "Drakesboro",
                                    "TaxPercentage": "14.92"
                                },
                                {
                                    "CustomerName": "Joel Carrillo",
                                    "cityname": "Drumright",
                                    "TaxPercentage": "14.92"
                                },
                                {
                                    "CustomerName": "Satish Mittal",
                                    "cityname": "Dry Run",
                                    "TaxPercentage": "14.96"
                                },
                                {
                                    "CustomerName": "Adrian Andreasson",
                                    "cityname": "Du Quoin",
                                    "TaxPercentage": "14.93"
                                },
                                {
                                    "CustomerName": "Jakub Lukes",
                                    "cityname": "Eagle Valley",
                                    "TaxPercentage": "14.97"
                                },
                                {
                                    "CustomerName": "Dhaatri Chavva",
                                    "cityname": "Edgecomb",
                                    "TaxPercentage": "14.92"
                                },
                                {
                                    "CustomerName": "Ratan Poddar",
                                    "cityname": "Ekwok",
                                    "TaxPercentage": "14.97"
                                },
                                {
                                    "CustomerName": "Andris Saulitis",
                                    "cityname": "El Refugio",
                                    "TaxPercentage": "14.98"
                                },
                                {
                                    "CustomerName": "Jack Walker",
                                    "cityname": "Elbing",
                                    "TaxPercentage": "14.97"
                                },
                                {
                                    "CustomerName": "Jasna Cerkez",
                                    "cityname": "Elk Garden",
                                    "TaxPercentage": "14.97"
                                },
                                {
                                    "CustomerName": "Libuse Valentova",
                                    "cityname": "Elkatawa",
                                    "TaxPercentage": "14.98"
                                },
                                {
                                    "CustomerName": "Jibek Juniskyzy",
                                    "cityname": "Ellisville",
                                    "TaxPercentage": "15.00"
                                },
                                {
                                    "CustomerName": "Arijit Bhuiyan",
                                    "cityname": "Esopus",
                                    "TaxPercentage": "14.95"
                                },
                                {
                                    "CustomerName": "Bhagavati Vinjamuri",
                                    "cityname": "Ewart",
                                    "TaxPercentage": "14.97"
                                },
                                {
                                    "CustomerName": "Marcela Lucescu",
                                    "cityname": "Ewen",
                                    "TaxPercentage": "14.96"
                                },
                                {
                                    "CustomerName": "Chuan Wattanasin",
                                    "cityname": "Flanagan",
                                    "TaxPercentage": "15.00"
                                },
                                {
                                    "CustomerName": "Nguyen Banh",
                                    "cityname": "Florahome",
                                    "TaxPercentage": "14.97"
                                },
                                {
                                    "CustomerName": "Olya Izmaylov",
                                    "cityname": "Flowella",
                                    "TaxPercentage": "14.93"
                                },
                                {
                                    "CustomerName": "Tai Bach",
                                    "cityname": "Fortville",
                                    "TaxPercentage": "14.95"
                                },
                                {
                                    "CustomerName": "Dhanishta Pullela",
                                    "cityname": "Gallipolis Ferry",
                                    "TaxPercentage": "14.96"
                                },
                                {
                                    "CustomerName": "Anil Sarkar",
                                    "cityname": "Gardners",
                                    "TaxPercentage": "15.00"
                                },
                                {
                                    "CustomerName": "Debbie Molina",
                                    "cityname": "Garlin",
                                    "TaxPercentage": "14.99"
                                },
                                {
                                    "CustomerName": "Shah Alizadeh",
                                    "cityname": "Gassaway",
                                    "TaxPercentage": "14.93"
                                },
                                {
                                    "CustomerName": "Aakriti Byrraju",
                                    "cityname": "Glenwillow",
                                    "TaxPercentage": "14.97"
                                },
                                {
                                    "CustomerName": "Elina Kaleja",
                                    "cityname": "Golden Meadow",
                                    "TaxPercentage": "14.97"
                                },
                                {
                                    "CustomerName": "Daevasree Samavedam",
                                    "cityname": "Golf View",
                                    "TaxPercentage": "14.98"
                                },
                                {
                                    "CustomerName": "Sabine Alksne",
                                    "cityname": "Grannis",
                                    "TaxPercentage": "14.93"
                                },
                                {
                                    "CustomerName": "Roko Ilic",
                                    "cityname": "Grantsburg",
                                    "TaxPercentage": "14.96"
                                },
                                {
                                    "CustomerName": "Christian Couet",
                                    "cityname": "Great Neck",
                                    "TaxPercentage": "14.88"
                                },
                                {
                                    "CustomerName": "Juan Morse",
                                    "cityname": "Greenback",
                                    "TaxPercentage": "14.98"
                                },
                                {
                                    "CustomerName": "Bhagavateeprasaad Malladi",
                                    "cityname": "Greenfield",
                                    "TaxPercentage": "14.90"
                                },
                                {
                                    "CustomerName": "Kertu Sokk",
                                    "cityname": "Greig",
                                    "TaxPercentage": "14.96"
                                },
                                {
                                    "CustomerName": "Lilli Sokk",
                                    "cityname": "Gresston",
                                    "TaxPercentage": "14.96"
                                },
                                {
                                    "CustomerName": "Nils Kaulins",
                                    "cityname": "Greycliff",
                                    "TaxPercentage": "14.97"
                                },
                                {
                                    "CustomerName": "Jai Lamble",
                                    "cityname": "Grider",
                                    "TaxPercentage": "14.92"
                                },
                                {
                                    "CustomerName": "Kamala Nishad",
                                    "cityname": "Haddon Heights",
                                    "TaxPercentage": "14.98"
                                },
                                {
                                    "CustomerName": "Sabine Zalite",
                                    "cityname": "Haltom City",
                                    "TaxPercentage": "14.97"
                                },
                                {
                                    "CustomerName": "Meera Patel",
                                    "cityname": "Hanaford",
                                    "TaxPercentage": "14.96"
                                },
                                {
                                    "CustomerName": "Annette  Hetu",
                                    "cityname": "Hanna",
                                    "TaxPercentage": "14.95"
                                },
                                {
                                    "CustomerName": "Sumati Bhat",
                                    "cityname": "Harbour Pointe",
                                    "TaxPercentage": "14.98"
                                },
                                {
                                    "CustomerName": "Ida Celma",
                                    "cityname": "Hawarden",
                                    "TaxPercentage": "15.00"
                                },
                                {
                                    "CustomerName": "Eva Schulteisz",
                                    "cityname": "Hightsville",
                                    "TaxPercentage": "14.98"
                                },
                                {
                                    "CustomerName": "Hue Ton",
                                    "cityname": "Holden Beach",
                                    "TaxPercentage": "15.00"
                                },
                                {
                                    "CustomerName": "Anna Mazzanti",
                                    "cityname": "Humansville",
                                    "TaxPercentage": "14.97"
                                },
                                {
                                    "CustomerName": "Emily Whittle",
                                    "cityname": "Huntington Woods",
                                    "TaxPercentage": "14.95"
                                },
                                {
                                    "CustomerName": "Dhanishta Mokkapati",
                                    "cityname": "Iliamna",
                                    "TaxPercentage": "15.00"
                                },
                                {
                                    "CustomerName": "Sylvie Laramee",
                                    "cityname": "Isabela",
                                    "TaxPercentage": "14.63"
                                },
                                {
                                    "CustomerName": "Richard Zahradnicek",
                                    "cityname": "Jane",
                                    "TaxPercentage": "14.98"
                                },
                                {
                                    "CustomerName": "Eliza Persson",
                                    "cityname": "Jesmond Dene",
                                    "TaxPercentage": "14.98"
                                },
                                {
                                    "CustomerName": "Francisca Laureano",
                                    "cityname": "Jolley",
                                    "TaxPercentage": "14.95"
                                },
                                {
                                    "CustomerName": "Seo-yun Paik",
                                    "cityname": "Jones Creek",
                                    "TaxPercentage": "14.96"
                                },
                                {
                                    "CustomerName": "Anna Gyarmathi",
                                    "cityname": "Kannapolis",
                                    "TaxPercentage": "15.00"
                                },
                                {
                                    "CustomerName": "Bijoya Thakur",
                                    "cityname": "Kinder",
                                    "TaxPercentage": "15.00"
                                },
                                {
                                    "CustomerName": "Cuneyt Arslan",
                                    "cityname": "Komalty",
                                    "TaxPercentage": "14.91"
                                },
                                {
                                    "CustomerName": "Emil Roman",
                                    "cityname": "Kopperl",
                                    "TaxPercentage": "14.92"
                                },
                                {
                                    "CustomerName": "Aleksandrs Riekstins",
                                    "cityname": "La Bolt",
                                    "TaxPercentage": "15.00"
                                },
                                {
                                    "CustomerName": "Abel Tatarescu",
                                    "cityname": "La Grange Park",
                                    "TaxPercentage": "15.00"
                                },
                                {
                                    "CustomerName": "Katerina Hadrabova",
                                    "cityname": "La Paz",
                                    "TaxPercentage": "14.97"
                                },
                                {
                                    "CustomerName": "Bishwa Chatterjee",
                                    "cityname": "Lake Clarke Shores",
                                    "TaxPercentage": "14.98"
                                },
                                {
                                    "CustomerName": "Allan Mannik",
                                    "cityname": "Lake Crystal",
                                    "TaxPercentage": "14.97"
                                },
                                {
                                    "CustomerName": "Bhaamini Palagummi",
                                    "cityname": "Lake Mohegan",
                                    "TaxPercentage": "14.91"
                                },
                                {
                                    "CustomerName": "Ivana Hadrabova",
                                    "cityname": "Lancaster",
                                    "TaxPercentage": "14.81"
                                },
                                {
                                    "CustomerName": "Durdanah Abbasi",
                                    "cityname": "Laurence Harbor",
                                    "TaxPercentage": "15.00"
                                },
                                {
                                    "CustomerName": "Ian Olofsson",
                                    "cityname": "Liberty Plain",
                                    "TaxPercentage": "14.86"
                                },
                                {
                                    "CustomerName": "Luis Saucedo",
                                    "cityname": "Linden",
                                    "TaxPercentage": "14.92"
                                },
                                {
                                    "CustomerName": "Tailspin Toys (Head Office)",
                                    "cityname": "Lisco",
                                    "TaxPercentage": "14.97"
                                },
                                {
                                    "CustomerName": "Lakshmi Benipal",
                                    "cityname": "Lompoc",
                                    "TaxPercentage": "14.97"
                                },
                                {
                                    "CustomerName": "Agrita Abele",
                                    "cityname": "Long Beach",
                                    "TaxPercentage": "14.19"
                                },
                                {
                                    "CustomerName": "Maksims Krastins",
                                    "cityname": "Lorentz",
                                    "TaxPercentage": "14.99"
                                },
                                {
                                    "CustomerName": "Om Yadav",
                                    "cityname": "Lunds",
                                    "TaxPercentage": "14.94"
                                },
                                {
                                    "CustomerName": "Knut Svensson",
                                    "cityname": "Madison Park",
                                    "TaxPercentage": "14.98"
                                },
                                {
                                    "CustomerName": "Miriam House",
                                    "cityname": "Makoti",
                                    "TaxPercentage": "14.95"
                                },
                                {
                                    "CustomerName": "Daniel Martensson",
                                    "cityname": "Mamou",
                                    "TaxPercentage": "14.98"
                                },
                                {
                                    "CustomerName": "Leyla Siavashi",
                                    "cityname": "Marcella",
                                    "TaxPercentage": "14.98"
                                },
                                {
                                    "CustomerName": "Marija Justina Pasek",
                                    "cityname": "Marguerite",
                                    "TaxPercentage": "15.00"
                                },
                                {
                                    "CustomerName": "Laszlo Gardenier",
                                    "cityname": "Marion Hill",
                                    "TaxPercentage": "14.98"
                                },
                                {
                                    "CustomerName": "Abel Spirlea",
                                    "cityname": "Markville",
                                    "TaxPercentage": "15.00"
                                },
                                {
                                    "CustomerName": "Nasrin Omidzadeh",
                                    "cityname": "Mary Esther",
                                    "TaxPercentage": "14.94"
                                },
                                {
                                    "CustomerName": "Linh Dao",
                                    "cityname": "Mashulaville",
                                    "TaxPercentage": "14.98"
                                },
                                {
                                    "CustomerName": "Phoung Cu",
                                    "cityname": "McCall",
                                    "TaxPercentage": "14.99"
                                },
                                {
                                    "CustomerName": "Edmee Glissen",
                                    "cityname": "McCammon",
                                    "TaxPercentage": "15.00"
                                },
                                {
                                    "CustomerName": "Radha Barua",
                                    "cityname": "McQueen",
                                    "TaxPercentage": "15.00"
                                },
                                {
                                    "CustomerName": "In-Su Bae",
                                    "cityname": "Meadowdale",
                                    "TaxPercentage": "14.94"
                                },
                                {
                                    "CustomerName": "Hanita Nookala",
                                    "cityname": "Meaux",
                                    "TaxPercentage": "14.94"
                                },
                                {
                                    "CustomerName": "Kumar Kamei",
                                    "cityname": "Middleway",
                                    "TaxPercentage": "15.00"
                                },
                                {
                                    "CustomerName": "Anand Mudaliyar",
                                    "cityname": "Midland",
                                    "TaxPercentage": "15.00"
                                },
                                {
                                    "CustomerName": "Hana Hlouskova",
                                    "cityname": "Moquino",
                                    "TaxPercentage": "14.95"
                                },
                                {
                                    "CustomerName": "Som Mukherjee",
                                    "cityname": "Moroni",
                                    "TaxPercentage": "15.00"
                                },
                                {
                                    "CustomerName": "Jay Bhuiyan",
                                    "cityname": "Mount Pocono",
                                    "TaxPercentage": "14.95"
                                },
                                {
                                    "CustomerName": "Ioana Florea",
                                    "cityname": "Nahant",
                                    "TaxPercentage": "15.00"
                                },
                                {
                                    "CustomerName": "Pinja Jantunen",
                                    "cityname": "Nehawka",
                                    "TaxPercentage": "15.00"
                                },
                                {
                                    "CustomerName": "Chandana Shasthri",
                                    "cityname": "Nesmith",
                                    "TaxPercentage": "14.84"
                                },
                                {
                                    "CustomerName": "Pavel Bogdanov",
                                    "cityname": "New Braintree",
                                    "TaxPercentage": "14.95"
                                },
                                {
                                    "CustomerName": "Chandrashekhar Dasgupta",
                                    "cityname": "New Plymouth",
                                    "TaxPercentage": "15.00"
                                },
                                {
                                    "CustomerName": "Emilie Hrdlickova",
                                    "cityname": "New Zion",
                                    "TaxPercentage": "14.90"
                                },
                                {
                                    "CustomerName": "Irma Berzina",
                                    "cityname": "Newberg",
                                    "TaxPercentage": "14.97"
                                },
                                {
                                    "CustomerName": "Hee-Young Suh",
                                    "cityname": "Nicasio",
                                    "TaxPercentage": "14.96"
                                },
                                {
                                    "CustomerName": "Matteo Cattaneo",
                                    "cityname": "Nicholson",
                                    "TaxPercentage": "14.83"
                                },
                                {
                                    "CustomerName": "Santiago Vera",
                                    "cityname": "Nitro",
                                    "TaxPercentage": "15.00"
                                },
                                {
                                    "CustomerName": "Amarasimha Vinjamuri",
                                    "cityname": "North Brookfield",
                                    "TaxPercentage": "15.00"
                                },
                                {
                                    "CustomerName": "Richard Friar",
                                    "cityname": "North Eastham",
                                    "TaxPercentage": "14.97"
                                },
                                {
                                    "CustomerName": "Mauno Laurila",
                                    "cityname": "North Eaton",
                                    "TaxPercentage": "14.97"
                                },
                                {
                                    "CustomerName": "Sumati Chatterjee",
                                    "cityname": "North Muskegon",
                                    "TaxPercentage": "15.00"
                                },
                                {
                                    "CustomerName": "Nada Jovanovic",
                                    "cityname": "North York",
                                    "TaxPercentage": "14.94"
                                },
                                {
                                    "CustomerName": "Ivan Sepulveda",
                                    "cityname": "Northrop",
                                    "TaxPercentage": "14.98"
                                },
                                {
                                    "CustomerName": "Liidia Lepp",
                                    "cityname": "Oakpark",
                                    "TaxPercentage": "15.00"
                                },
                                {
                                    "CustomerName": "Taj Syme",
                                    "cityname": "Oakshade",
                                    "TaxPercentage": "14.94"
                                },
                                {
                                    "CustomerName": "Kumar Naicker",
                                    "cityname": "Oconto Falls",
                                    "TaxPercentage": "14.93"
                                },
                                {
                                    "CustomerName": "Surendra Sahu",
                                    "cityname": "Old River-Winfree",
                                    "TaxPercentage": "14.98"
                                },
                                {
                                    "CustomerName": "Can ozcan",
                                    "cityname": "Oley",
                                    "TaxPercentage": "14.96"
                                },
                                {
                                    "CustomerName": "Wingtip Toys (Head Office)",
                                    "cityname": "Orchard Mesa",
                                    "TaxPercentage": "14.97"
                                },
                                {
                                    "CustomerName": "Ganesh Majumdar",
                                    "cityname": "Orland Hills",
                                    "TaxPercentage": "14.82"
                                },
                                {
                                    "CustomerName": "Gopalgobinda Sikdar",
                                    "cityname": "Orpha",
                                    "TaxPercentage": "14.95"
                                },
                                {
                                    "CustomerName": "Tuulikki Linna",
                                    "cityname": "Otterville",
                                    "TaxPercentage": "14.96"
                                },
                                {
                                    "CustomerName": "Geza Roman",
                                    "cityname": "Oval",
                                    "TaxPercentage": "14.92"
                                },
                                {
                                    "CustomerName": "Cong Hoa",
                                    "cityname": "Palatine Bridge",
                                    "TaxPercentage": "15.00"
                                },
                                {
                                    "CustomerName": "Amrita Ganguly",
                                    "cityname": "Palmas del Mar",
                                    "TaxPercentage": "15.00"
                                },
                                {
                                    "CustomerName": "Madhu Dwivedi",
                                    "cityname": "Panton",
                                    "TaxPercentage": "14.98"
                                },
                                {
                                    "CustomerName": "Mahavir Sonkar",
                                    "cityname": "Pastura",
                                    "TaxPercentage": "15.00"
                                },
                                {
                                    "CustomerName": "Johanna Hoornstra",
                                    "cityname": "Petronila",
                                    "TaxPercentage": "14.96"
                                },
                                {
                                    "CustomerName": "Valentin Tirlea",
                                    "cityname": "Pharr",
                                    "TaxPercentage": "14.97"
                                },
                                {
                                    "CustomerName": "Staffan Persson",
                                    "cityname": "Phelps City",
                                    "TaxPercentage": "15.00"
                                },
                                {
                                    "CustomerName": "Lorin Astrom",
                                    "cityname": "Port Alto",
                                    "TaxPercentage": "14.94"
                                },
                                {
                                    "CustomerName": "Vladimir Henzl",
                                    "cityname": "Port Chilkoot",
                                    "TaxPercentage": "15.00"
                                },
                                {
                                    "CustomerName": "Baalaamjali Devulapalli",
                                    "cityname": "Puerto de Luna",
                                    "TaxPercentage": "14.92"
                                },
                                {
                                    "CustomerName": "Jackson Kolios",
                                    "cityname": "Rail Road Flat",
                                    "TaxPercentage": "14.99"
                                },
                                {
                                    "CustomerName": "Jayanta Thakur",
                                    "cityname": "Raven",
                                    "TaxPercentage": "14.94"
                                },
                                {
                                    "CustomerName": "Daniella Cavalcante",
                                    "cityname": "Ravia",
                                    "TaxPercentage": "15.00"
                                },
                                {
                                    "CustomerName": "Vedrana Kovacevic",
                                    "cityname": "Reader",
                                    "TaxPercentage": "14.96"
                                },
                                {
                                    "CustomerName": "Nhung Thach",
                                    "cityname": "Red Mesa",
                                    "TaxPercentage": "14.98"
                                },
                                {
                                    "CustomerName": "Serdar ozden",
                                    "cityname": "Richland",
                                    "TaxPercentage": "15.00"
                                },
                                {
                                    "CustomerName": "David Jaramillo",
                                    "cityname": "Ridgeway",
                                    "TaxPercentage": "14.89"
                                },
                                {
                                    "CustomerName": "Chaayaadaevi Sonti",
                                    "cityname": "Roachtown",
                                    "TaxPercentage": "15.00"
                                },
                                {
                                    "CustomerName": "Adriana Pena",
                                    "cityname": "Roberta Mill",
                                    "TaxPercentage": "14.78"
                                },
                                {
                                    "CustomerName": "Maryann Huddleston",
                                    "cityname": "Robertsburg",
                                    "TaxPercentage": "15.00"
                                },
                                {
                                    "CustomerName": "Emma Salpa",
                                    "cityname": "Rogersville",
                                    "TaxPercentage": "14.68"
                                },
                                {
                                    "CustomerName": "Neil Farrelly",
                                    "cityname": "Sabinsville",
                                    "TaxPercentage": "14.97"
                                },
                                {
                                    "CustomerName": "Taneli Riutta",
                                    "cityname": "Sandy Level",
                                    "TaxPercentage": "14.97"
                                },
                                {
                                    "CustomerName": "Isa Hulsegge",
                                    "cityname": "Saxapahaw",
                                    "TaxPercentage": "14.96"
                                },
                                {
                                    "CustomerName": "Akhil Nadar",
                                    "cityname": "Schaal",
                                    "TaxPercentage": "14.98"
                                },
                                {
                                    "CustomerName": "Nicolo Cattaneo",
                                    "cityname": "Schoharie",
                                    "TaxPercentage": "14.97"
                                },
                                {
                                    "CustomerName": "Dipti Shah",
                                    "cityname": "Scioto Furnace",
                                    "TaxPercentage": "14.99"
                                },
                                {
                                    "CustomerName": "Damodar Shenoy",
                                    "cityname": "Scott",
                                    "TaxPercentage": "14.88"
                                },
                                {
                                    "CustomerName": "Alinne Matos",
                                    "cityname": "Sea Island",
                                    "TaxPercentage": "14.95"
                                },
                                {
                                    "CustomerName": "Alena Kellnerova",
                                    "cityname": "Segundo",
                                    "TaxPercentage": "15.00"
                                },
                                {
                                    "CustomerName": "Ebru Erdogan",
                                    "cityname": "Seiling",
                                    "TaxPercentage": "14.96"
                                },
                                {
                                    "CustomerName": "Eugen Agafitei",
                                    "cityname": "Shawboro",
                                    "TaxPercentage": "14.97"
                                },
                                {
                                    "CustomerName": "Eric Torres",
                                    "cityname": "Shell",
                                    "TaxPercentage": "15.00"
                                },
                                {
                                    "CustomerName": "Gasper Havzija",
                                    "cityname": "Shell Knob",
                                    "TaxPercentage": "14.97"
                                },
                                {
                                    "CustomerName": "Gayatri Gajula",
                                    "cityname": "Shenorock",
                                    "TaxPercentage": "15.00"
                                },
                                {
                                    "CustomerName": "Olafs Rozitis",
                                    "cityname": "Sherwin",
                                    "TaxPercentage": "14.94"
                                },
                                {
                                    "CustomerName": "Jaroslav Fisar",
                                    "cityname": "Sigel",
                                    "TaxPercentage": "14.68"
                                },
                                {
                                    "CustomerName": "Shi Tu",
                                    "cityname": "Sinclair",
                                    "TaxPercentage": "14.95"
                                },
                                {
                                    "CustomerName": "Pari Hosseini",
                                    "cityname": "Soham",
                                    "TaxPercentage": "15.00"
                                },
                                {
                                    "CustomerName": "Manca Hrastovsek",
                                    "cityname": "Southside",
                                    "TaxPercentage": "14.94"
                                },
                                {
                                    "CustomerName": "Leila Carvalho",
                                    "cityname": "Spillertown",
                                    "TaxPercentage": "14.99"
                                },
                                {
                                    "CustomerName": "Daakshaayaani Sankaramanchi",
                                    "cityname": "Spillville",
                                    "TaxPercentage": "14.93"
                                },
                                {
                                    "CustomerName": "Fabrice Cloutier",
                                    "cityname": "Staley",
                                    "TaxPercentage": "15.00"
                                },
                                {
                                    "CustomerName": "Anindya Ghatak",
                                    "cityname": "Switz City",
                                    "TaxPercentage": "14.93"
                                },
                                {
                                    "CustomerName": "Crina Grasu",
                                    "cityname": "Tamora",
                                    "TaxPercentage": "14.94"
                                },
                                {
                                    "CustomerName": "Damodara Trivedi",
                                    "cityname": "Tarzan",
                                    "TaxPercentage": "14.97"
                                },
                                {
                                    "CustomerName": "Ludmila Smidova",
                                    "cityname": "Tempe",
                                    "TaxPercentage": "15.00"
                                },
                                {
                                    "CustomerName": "Shyam Poddar",
                                    "cityname": "Tenstrike",
                                    "TaxPercentage": "14.96"
                                },
                                {
                                    "CustomerName": "Bala Dixit",
                                    "cityname": "Termo",
                                    "TaxPercentage": "14.99"
                                },
                                {
                                    "CustomerName": "Kamila Michnova",
                                    "cityname": "The Colony",
                                    "TaxPercentage": "14.99"
                                },
                                {
                                    "CustomerName": "Suparna Bhattacharya",
                                    "cityname": "Tiff City",
                                    "TaxPercentage": "14.96"
                                },
                                {
                                    "CustomerName": "Darshana Madhunapantula",
                                    "cityname": "Tolchester Beach",
                                    "TaxPercentage": "14.97"
                                },
                                {
                                    "CustomerName": "Sercan Celik",
                                    "cityname": "Tolono",
                                    "TaxPercentage": "15.00"
                                },
                                {
                                    "CustomerName": "David safranek",
                                    "cityname": "Toughkenamon",
                                    "TaxPercentage": "14.95"
                                },
                                {
                                    "CustomerName": "Tomo Vidovic",
                                    "cityname": "Tremont",
                                    "TaxPercentage": "14.89"
                                },
                                {
                                    "CustomerName": "Ingrida Zeltina",
                                    "cityname": "Trilby",
                                    "TaxPercentage": "14.99"
                                },
                                {
                                    "CustomerName": "Prabodh Nair",
                                    "cityname": "Tschetter Colony",
                                    "TaxPercentage": "14.96"
                                },
                                {
                                    "CustomerName": "Dominic Davignon",
                                    "cityname": "Twin Peaks",
                                    "TaxPercentage": "14.90"
                                },
                                {
                                    "CustomerName": "Isidora Morales",
                                    "cityname": "Twodot",
                                    "TaxPercentage": "15.00"
                                },
                                {
                                    "CustomerName": "Malorie Bousquet",
                                    "cityname": "Valley View Park",
                                    "TaxPercentage": "14.97"
                                },
                                {
                                    "CustomerName": "Libuse Kuchtova",
                                    "cityname": "Van Alstyne",
                                    "TaxPercentage": "14.97"
                                },
                                {
                                    "CustomerName": "Svetlana Todorovic",
                                    "cityname": "Venersborg",
                                    "TaxPercentage": "15.00"
                                },
                                {
                                    "CustomerName": "Aive Petrov",
                                    "cityname": "Virgil",
                                    "TaxPercentage": "14.96"
                                },
                                {
                                    "CustomerName": "Amarakumaar Gadiyaram",
                                    "cityname": "Vollmar",
                                    "TaxPercentage": "15.00"
                                },
                                {
                                    "CustomerName": "Philip Walker",
                                    "cityname": "Waite Hill",
                                    "TaxPercentage": "14.99"
                                },
                                {
                                    "CustomerName": "Yves Belisle",
                                    "cityname": "Walapai",
                                    "TaxPercentage": "14.92"
                                },
                                {
                                    "CustomerName": "Abhra Ganguly",
                                    "cityname": "Walker Valley",
                                    "TaxPercentage": "14.52"
                                },
                                {
                                    "CustomerName": "Gunnar Lohmus",
                                    "cityname": "Wanaque",
                                    "TaxPercentage": "15.00"
                                },
                                {
                                    "CustomerName": "Rajeev Sandhu",
                                    "cityname": "Wasco",
                                    "TaxPercentage": "15.00"
                                },
                                {
                                    "CustomerName": "Be Trang",
                                    "cityname": "Watonga",
                                    "TaxPercentage": "14.98"
                                },
                                {
                                    "CustomerName": "Jana Fialova",
                                    "cityname": "Weigelstown",
                                    "TaxPercentage": "14.97"
                                },
                                {
                                    "CustomerName": "Bhadram Kamasamudram",
                                    "cityname": "Wells",
                                    "TaxPercentage": "15.00"
                                },
                                {
                                    "CustomerName": "Drishti Bose",
                                    "cityname": "Wesson",
                                    "TaxPercentage": "15.00"
                                },
                                {
                                    "CustomerName": "Leyla Asef zade",
                                    "cityname": "West Elkton",
                                    "TaxPercentage": "14.97"
                                },
                                {
                                    "CustomerName": "Devraj Rao",
                                    "cityname": "Westwater",
                                    "TaxPercentage": "14.93"
                                },
                                {
                                    "CustomerName": "Hoc Tran",
                                    "cityname": "White Horse Beach",
                                    "TaxPercentage": "15.00"
                                },
                                {
                                    "CustomerName": "Kristiina Ivanov",
                                    "cityname": "Wounded Knee",
                                    "TaxPercentage": "15.00"
                                },
                                {
                                    "CustomerName": "Magdalena Michnova",
                                    "cityname": "Wrangell",
                                    "TaxPercentage": "15.00"
                                },
                                {
                                    "CustomerName": "Emma Van Zant",
                                    "cityname": "Wray",
                                    "TaxPercentage": "15.00"
                                },
                                {
                                    "CustomerName": "Manjunatha Karnik",
                                    "cityname": "Wright City",
                                    "TaxPercentage": "14.92"
                                },
                                {
                                    "CustomerName": "Volkan senturk",
                                    "cityname": "Wyndham",
                                    "TaxPercentage": "14.95"
                                },
                                {
                                    "CustomerName": "Amet Shergill",
                                    "cityname": "Yampa",
                                    "TaxPercentage": "15.00"
                                },
                                {
                                    "CustomerName": "Kristi Part",
                                    "cityname": "Yerington",
                                    "TaxPercentage": "14.90"
                                },
                                {
                                    "CustomerName": "Bimla PrabhupÄda",
                                    "cityname": "Yermo",
                                    "TaxPercentage": "14.97"
                                },
                                {
                                    "CustomerName": "Milinka Zujovic",
                                    "cityname": "Zurich",
                                    "TaxPercentage": "14.97"
                                }
                            ]
                        },
                        "text/html": [
                            "<table>",
                            "<tr><th>CustomerName</th><th>cityname</th><th>TaxPercentage</th></tr>",
                            "<tr><td>Camille Authier</td><td>Abbottsburg</td><td>14.99</td></tr>",
                            "<tr><td>Caterina Pinto</td><td>Akhiok</td><td>14.89</td></tr>",
                            "<tr><td>Bahaar Asef zade</td><td>Alden Bridge</td><td>14.97</td></tr>",
                            "<tr><td>Sointu Savonheimo</td><td>Argusville</td><td>15.00</td></tr>",
                            "<tr><td>Anca Gogean</td><td>Arrowbear Lake</td><td>15.00</td></tr>",
                            "<tr><td>Rani Ganguly</td><td>Arrowhead Highlands</td><td>14.95</td></tr>",
                            "<tr><td>Chompoo Atitarn</td><td>Ashland</td><td>14.90</td></tr>",
                            "<tr><td>Daakshaayaani Kommineni</td><td>Bakers Mill</td><td>15.00</td></tr>",
                            "<tr><td>Erik Malk</td><td>Basin</td><td>14.96</td></tr>",
                            "<tr><td>Violetta KlanCisar</td><td>Bayou Cane</td><td>14.95</td></tr>",
                            "<tr><td>Risto Valbe</td><td>Bazemore</td><td>14.99</td></tr>",
                            "<tr><td>Mikhail Degtyarev</td><td>Beaver Bay</td><td>15.00</td></tr>",
                            "<tr><td>Clarissa Manfrin</td><td>Ben Arnold</td><td>15.00</td></tr>",
                            "<tr><td>Mahmut ozbek</td><td>Bernardston</td><td>15.00</td></tr>",
                            "<tr><td>Aishwarya Dantuluri</td><td>Biggs</td><td>15.00</td></tr>",
                            "<tr><td>Nadir Seddigh</td><td>Biorka</td><td>15.00</td></tr>",
                            "<tr><td>Rodrigo Figueiredo</td><td>Blackville</td><td>14.98</td></tr>",
                            "<tr><td>Liia Orav</td><td>Bladenboro</td><td>14.96</td></tr>",
                            "<tr><td>Sara Huiting</td><td>Bock</td><td>14.98</td></tr>",
                            "<tr><td>Edgar Jogi</td><td>Bombay Beach</td><td>14.97</td></tr>",
                            "<tr><td>Raghu Sandhu</td><td>Bowleys Quarters</td><td>15.00</td></tr>",
                            "<tr><td>Kalyani Benjaree</td><td>Bowmansville</td><td>14.30</td></tr>",
                            "<tr><td>Agrita Kanepa</td><td>Branchburg Park</td><td>14.97</td></tr>",
                            "<tr><td>Isidora Urias</td><td>Bratt</td><td>14.95</td></tr>",
                            "<tr><td>Farzana Habibi</td><td>Brookville</td><td>14.96</td></tr>",
                            "<tr><td>Ana Florea</td><td>Buchanan Lake Village</td><td>15.00</td></tr>",
                            "<tr><td>Arka Chatterjee</td><td>Byers</td><td>14.97</td></tr>",
                            "<tr><td>Matyas Sedlar</td><td>Calvert City</td><td>15.00</td></tr>",
                            "<tr><td>Cosmina Vlad</td><td>Cañon</td><td>14.93</td></tr>",
                            "<tr><td>Chin-Sun Chang</td><td>Capa</td><td>15.00</td></tr>",
                            "<tr><td>Ajitaab Pakalapati</td><td>Caruthers</td><td>14.96</td></tr>",
                            "<tr><td>Kwanjai Saowaluk</td><td>Cataño</td><td>15.00</td></tr>",
                            "<tr><td>Krishnam Allu</td><td>Catesby</td><td>14.94</td></tr>",
                            "<tr><td>Baran Jonsson</td><td>Cave Junction</td><td>15.00</td></tr>",
                            "<tr><td>Bhaavan Rai</td><td>Chalco</td><td>14.95</td></tr>",
                            "<tr><td>Lana Goransson</td><td>Chateaugay</td><td>15.00</td></tr>",
                            "<tr><td>Urve Kasesalu</td><td>Cherokee</td><td>15.00</td></tr>",
                            "<tr><td>Drazenka Jelic</td><td>Cherry Grove Beach</td><td>14.95</td></tr>",
                            "<tr><td>Sara Walkky</td><td>Chipita Park</td><td>14.92</td></tr>",
                            "<tr><td>Hai Banh</td><td>Claremont</td><td>14.92</td></tr>",
                            "<tr><td>Nada Ana Slosar</td><td>Cloud Lake</td><td>14.96</td></tr>",
                            "<tr><td>Dena Glissen</td><td>Coffeyville</td><td>14.96</td></tr>",
                            "<tr><td>Raj Verma</td><td>Colebrook</td><td>14.97</td></tr>",
                            "<tr><td>Jitka Necesana</td><td>Conesus Lake</td><td>14.91</td></tr>",
                            "<tr><td>Victoria Lacusta</td><td>Conewango</td><td>15.00</td></tr>",
                            "<tr><td>Melani Ravlen</td><td>Cookietown</td><td>15.00</td></tr>",
                            "<tr><td>Bhagavaan Atluri</td><td>Coosa</td><td>15.00</td></tr>",
                            "<tr><td>Stefan Selezeanu</td><td>Copake</td><td>15.00</td></tr>",
                            "<tr><td>David Novacek </td><td>Corryton</td><td>14.97</td></tr>",
                            "<tr><td>Leonardo Folliero</td><td>Cotuit</td><td>15.00</td></tr>",
                            "<tr><td>Marie LeBatelier</td><td>Coupland</td><td>14.97</td></tr>",
                            "<tr><td>Laura Sykorova</td><td>Coyville</td><td>14.98</td></tr>",
                            "<tr><td>Shantanu Huq</td><td>Cramerton</td><td>14.92</td></tr>",
                            "<tr><td>Alvin Bollinger</td><td>Creelsboro</td><td>14.96</td></tr>",
                            "<tr><td>Valter Viiding</td><td>Cuyahoga Heights</td><td>14.99</td></tr>",
                            "<tr><td>Gabriela Hernandes</td><td>Cypress Quarters</td><td>14.95</td></tr>",
                            "<tr><td>Bing Han</td><td>Darling</td><td>15.00</td></tr>",
                            "<tr><td>Serdar ozCelik</td><td>Dawn</td><td>14.96</td></tr>",
                            "<tr><td>Biju Deb</td><td>Deer River</td><td>15.00</td></tr>",
                            "<tr><td>Harsha Huq</td><td>Dennis Acres</td><td>15.00</td></tr>",
                            "<tr><td>Narendra Tickoo</td><td>Dillon</td><td>15.00</td></tr>",
                            "<tr><td>Dinh Mai</td><td>Dorchester</td><td>14.99</td></tr>",
                            "<tr><td>Veronika Necesana</td><td>Dover</td><td>15.00</td></tr>",
                            "<tr><td>Celica Barajas</td><td>Drakesboro</td><td>14.92</td></tr>",
                            "<tr><td>Joel Carrillo</td><td>Drumright</td><td>14.92</td></tr>",
                            "<tr><td>Satish Mittal</td><td>Dry Run</td><td>14.96</td></tr>",
                            "<tr><td>Adrian Andreasson</td><td>Du Quoin</td><td>14.93</td></tr>",
                            "<tr><td>Jakub Lukes</td><td>Eagle Valley</td><td>14.97</td></tr>",
                            "<tr><td>Dhaatri Chavva</td><td>Edgecomb</td><td>14.92</td></tr>",
                            "<tr><td>Ratan Poddar</td><td>Ekwok</td><td>14.97</td></tr>",
                            "<tr><td>Andris Saulitis</td><td>El Refugio</td><td>14.98</td></tr>",
                            "<tr><td>Jack Walker</td><td>Elbing</td><td>14.97</td></tr>",
                            "<tr><td>Jasna Cerkez</td><td>Elk Garden</td><td>14.97</td></tr>",
                            "<tr><td>Libuse Valentova</td><td>Elkatawa</td><td>14.98</td></tr>",
                            "<tr><td>Jibek Juniskyzy</td><td>Ellisville</td><td>15.00</td></tr>",
                            "<tr><td>Arijit Bhuiyan</td><td>Esopus</td><td>14.95</td></tr>",
                            "<tr><td>Bhagavati Vinjamuri</td><td>Ewart</td><td>14.97</td></tr>",
                            "<tr><td>Marcela Lucescu</td><td>Ewen</td><td>14.96</td></tr>",
                            "<tr><td>Chuan Wattanasin</td><td>Flanagan</td><td>15.00</td></tr>",
                            "<tr><td>Nguyen Banh</td><td>Florahome</td><td>14.97</td></tr>",
                            "<tr><td>Olya Izmaylov</td><td>Flowella</td><td>14.93</td></tr>",
                            "<tr><td>Tai Bach</td><td>Fortville</td><td>14.95</td></tr>",
                            "<tr><td>Dhanishta Pullela</td><td>Gallipolis Ferry</td><td>14.96</td></tr>",
                            "<tr><td>Anil Sarkar</td><td>Gardners</td><td>15.00</td></tr>",
                            "<tr><td>Debbie Molina</td><td>Garlin</td><td>14.99</td></tr>",
                            "<tr><td>Shah Alizadeh</td><td>Gassaway</td><td>14.93</td></tr>",
                            "<tr><td>Aakriti Byrraju</td><td>Glenwillow</td><td>14.97</td></tr>",
                            "<tr><td>Elina Kaleja</td><td>Golden Meadow</td><td>14.97</td></tr>",
                            "<tr><td>Daevasree Samavedam</td><td>Golf View</td><td>14.98</td></tr>",
                            "<tr><td>Sabine Alksne</td><td>Grannis</td><td>14.93</td></tr>",
                            "<tr><td>Roko Ilic</td><td>Grantsburg</td><td>14.96</td></tr>",
                            "<tr><td>Christian Couet</td><td>Great Neck</td><td>14.88</td></tr>",
                            "<tr><td>Juan Morse</td><td>Greenback</td><td>14.98</td></tr>",
                            "<tr><td>Bhagavateeprasaad Malladi</td><td>Greenfield</td><td>14.90</td></tr>",
                            "<tr><td>Kertu Sokk</td><td>Greig</td><td>14.96</td></tr>",
                            "<tr><td>Lilli Sokk</td><td>Gresston</td><td>14.96</td></tr>",
                            "<tr><td>Nils Kaulins</td><td>Greycliff</td><td>14.97</td></tr>",
                            "<tr><td>Jai Lamble</td><td>Grider</td><td>14.92</td></tr>",
                            "<tr><td>Kamala Nishad</td><td>Haddon Heights</td><td>14.98</td></tr>",
                            "<tr><td>Sabine Zalite</td><td>Haltom City</td><td>14.97</td></tr>",
                            "<tr><td>Meera Patel</td><td>Hanaford</td><td>14.96</td></tr>",
                            "<tr><td>Annette  Hetu</td><td>Hanna</td><td>14.95</td></tr>",
                            "<tr><td>Sumati Bhat</td><td>Harbour Pointe</td><td>14.98</td></tr>",
                            "<tr><td>Ida Celma</td><td>Hawarden</td><td>15.00</td></tr>",
                            "<tr><td>Eva Schulteisz</td><td>Hightsville</td><td>14.98</td></tr>",
                            "<tr><td>Hue Ton</td><td>Holden Beach</td><td>15.00</td></tr>",
                            "<tr><td>Anna Mazzanti</td><td>Humansville</td><td>14.97</td></tr>",
                            "<tr><td>Emily Whittle</td><td>Huntington Woods</td><td>14.95</td></tr>",
                            "<tr><td>Dhanishta Mokkapati</td><td>Iliamna</td><td>15.00</td></tr>",
                            "<tr><td>Sylvie Laramee</td><td>Isabela</td><td>14.63</td></tr>",
                            "<tr><td>Richard Zahradnicek</td><td>Jane</td><td>14.98</td></tr>",
                            "<tr><td>Eliza Persson</td><td>Jesmond Dene</td><td>14.98</td></tr>",
                            "<tr><td>Francisca Laureano</td><td>Jolley</td><td>14.95</td></tr>",
                            "<tr><td>Seo-yun Paik</td><td>Jones Creek</td><td>14.96</td></tr>",
                            "<tr><td>Anna Gyarmathi</td><td>Kannapolis</td><td>15.00</td></tr>",
                            "<tr><td>Bijoya Thakur</td><td>Kinder</td><td>15.00</td></tr>",
                            "<tr><td>Cuneyt Arslan</td><td>Komalty</td><td>14.91</td></tr>",
                            "<tr><td>Emil Roman</td><td>Kopperl</td><td>14.92</td></tr>",
                            "<tr><td>Aleksandrs Riekstins</td><td>La Bolt</td><td>15.00</td></tr>",
                            "<tr><td>Abel Tatarescu</td><td>La Grange Park</td><td>15.00</td></tr>",
                            "<tr><td>Katerina Hadrabova</td><td>La Paz</td><td>14.97</td></tr>",
                            "<tr><td>Bishwa Chatterjee</td><td>Lake Clarke Shores</td><td>14.98</td></tr>",
                            "<tr><td>Allan Mannik</td><td>Lake Crystal</td><td>14.97</td></tr>",
                            "<tr><td>Bhaamini Palagummi</td><td>Lake Mohegan</td><td>14.91</td></tr>",
                            "<tr><td>Ivana Hadrabova</td><td>Lancaster</td><td>14.81</td></tr>",
                            "<tr><td>Durdanah Abbasi</td><td>Laurence Harbor</td><td>15.00</td></tr>",
                            "<tr><td>Ian Olofsson</td><td>Liberty Plain</td><td>14.86</td></tr>",
                            "<tr><td>Luis Saucedo</td><td>Linden</td><td>14.92</td></tr>",
                            "<tr><td>Tailspin Toys (Head Office)</td><td>Lisco</td><td>14.97</td></tr>",
                            "<tr><td>Lakshmi Benipal</td><td>Lompoc</td><td>14.97</td></tr>",
                            "<tr><td>Agrita Abele</td><td>Long Beach</td><td>14.19</td></tr>",
                            "<tr><td>Maksims Krastins</td><td>Lorentz</td><td>14.99</td></tr>",
                            "<tr><td>Om Yadav</td><td>Lunds</td><td>14.94</td></tr>",
                            "<tr><td>Knut Svensson</td><td>Madison Park</td><td>14.98</td></tr>",
                            "<tr><td>Miriam House</td><td>Makoti</td><td>14.95</td></tr>",
                            "<tr><td>Daniel Martensson</td><td>Mamou</td><td>14.98</td></tr>",
                            "<tr><td>Leyla Siavashi</td><td>Marcella</td><td>14.98</td></tr>",
                            "<tr><td>Marija Justina Pasek</td><td>Marguerite</td><td>15.00</td></tr>",
                            "<tr><td>Laszlo Gardenier</td><td>Marion Hill</td><td>14.98</td></tr>",
                            "<tr><td>Abel Spirlea</td><td>Markville</td><td>15.00</td></tr>",
                            "<tr><td>Nasrin Omidzadeh</td><td>Mary Esther</td><td>14.94</td></tr>",
                            "<tr><td>Linh Dao</td><td>Mashulaville</td><td>14.98</td></tr>",
                            "<tr><td>Phoung Cu</td><td>McCall</td><td>14.99</td></tr>",
                            "<tr><td>Edmee Glissen</td><td>McCammon</td><td>15.00</td></tr>",
                            "<tr><td>Radha Barua</td><td>McQueen</td><td>15.00</td></tr>",
                            "<tr><td>In-Su Bae</td><td>Meadowdale</td><td>14.94</td></tr>",
                            "<tr><td>Hanita Nookala</td><td>Meaux</td><td>14.94</td></tr>",
                            "<tr><td>Kumar Kamei</td><td>Middleway</td><td>15.00</td></tr>",
                            "<tr><td>Anand Mudaliyar</td><td>Midland</td><td>15.00</td></tr>",
                            "<tr><td>Hana Hlouskova</td><td>Moquino</td><td>14.95</td></tr>",
                            "<tr><td>Som Mukherjee</td><td>Moroni</td><td>15.00</td></tr>",
                            "<tr><td>Jay Bhuiyan</td><td>Mount Pocono</td><td>14.95</td></tr>",
                            "<tr><td>Ioana Florea</td><td>Nahant</td><td>15.00</td></tr>",
                            "<tr><td>Pinja Jantunen</td><td>Nehawka</td><td>15.00</td></tr>",
                            "<tr><td>Chandana Shasthri</td><td>Nesmith</td><td>14.84</td></tr>",
                            "<tr><td>Pavel Bogdanov</td><td>New Braintree</td><td>14.95</td></tr>",
                            "<tr><td>Chandrashekhar Dasgupta</td><td>New Plymouth</td><td>15.00</td></tr>",
                            "<tr><td>Emilie Hrdlickova</td><td>New Zion</td><td>14.90</td></tr>",
                            "<tr><td>Irma Berzina</td><td>Newberg</td><td>14.97</td></tr>",
                            "<tr><td>Hee-Young Suh</td><td>Nicasio</td><td>14.96</td></tr>",
                            "<tr><td>Matteo Cattaneo</td><td>Nicholson</td><td>14.83</td></tr>",
                            "<tr><td>Santiago Vera</td><td>Nitro</td><td>15.00</td></tr>",
                            "<tr><td>Amarasimha Vinjamuri</td><td>North Brookfield</td><td>15.00</td></tr>",
                            "<tr><td>Richard Friar</td><td>North Eastham</td><td>14.97</td></tr>",
                            "<tr><td>Mauno Laurila</td><td>North Eaton</td><td>14.97</td></tr>",
                            "<tr><td>Sumati Chatterjee</td><td>North Muskegon</td><td>15.00</td></tr>",
                            "<tr><td>Nada Jovanovic</td><td>North York</td><td>14.94</td></tr>",
                            "<tr><td>Ivan Sepulveda</td><td>Northrop</td><td>14.98</td></tr>",
                            "<tr><td>Liidia Lepp</td><td>Oakpark</td><td>15.00</td></tr>",
                            "<tr><td>Taj Syme</td><td>Oakshade</td><td>14.94</td></tr>",
                            "<tr><td>Kumar Naicker</td><td>Oconto Falls</td><td>14.93</td></tr>",
                            "<tr><td>Surendra Sahu</td><td>Old River-Winfree</td><td>14.98</td></tr>",
                            "<tr><td>Can ozcan</td><td>Oley</td><td>14.96</td></tr>",
                            "<tr><td>Wingtip Toys (Head Office)</td><td>Orchard Mesa</td><td>14.97</td></tr>",
                            "<tr><td>Ganesh Majumdar</td><td>Orland Hills</td><td>14.82</td></tr>",
                            "<tr><td>Gopalgobinda Sikdar</td><td>Orpha</td><td>14.95</td></tr>",
                            "<tr><td>Tuulikki Linna</td><td>Otterville</td><td>14.96</td></tr>",
                            "<tr><td>Geza Roman</td><td>Oval</td><td>14.92</td></tr>",
                            "<tr><td>Cong Hoa</td><td>Palatine Bridge</td><td>15.00</td></tr>",
                            "<tr><td>Amrita Ganguly</td><td>Palmas del Mar</td><td>15.00</td></tr>",
                            "<tr><td>Madhu Dwivedi</td><td>Panton</td><td>14.98</td></tr>",
                            "<tr><td>Mahavir Sonkar</td><td>Pastura</td><td>15.00</td></tr>",
                            "<tr><td>Johanna Hoornstra</td><td>Petronila</td><td>14.96</td></tr>",
                            "<tr><td>Valentin Tirlea</td><td>Pharr</td><td>14.97</td></tr>",
                            "<tr><td>Staffan Persson</td><td>Phelps City</td><td>15.00</td></tr>",
                            "<tr><td>Lorin Astrom</td><td>Port Alto</td><td>14.94</td></tr>",
                            "<tr><td>Vladimir Henzl</td><td>Port Chilkoot</td><td>15.00</td></tr>",
                            "<tr><td>Baalaamjali Devulapalli</td><td>Puerto de Luna</td><td>14.92</td></tr>",
                            "<tr><td>Jackson Kolios</td><td>Rail Road Flat</td><td>14.99</td></tr>",
                            "<tr><td>Jayanta Thakur</td><td>Raven</td><td>14.94</td></tr>",
                            "<tr><td>Daniella Cavalcante</td><td>Ravia</td><td>15.00</td></tr>",
                            "<tr><td>Vedrana Kovacevic</td><td>Reader</td><td>14.96</td></tr>",
                            "<tr><td>Nhung Thach</td><td>Red Mesa</td><td>14.98</td></tr>",
                            "<tr><td>Serdar ozden</td><td>Richland</td><td>15.00</td></tr>",
                            "<tr><td>David Jaramillo</td><td>Ridgeway</td><td>14.89</td></tr>",
                            "<tr><td>Chaayaadaevi Sonti</td><td>Roachtown</td><td>15.00</td></tr>",
                            "<tr><td>Adriana Pena</td><td>Roberta Mill</td><td>14.78</td></tr>",
                            "<tr><td>Maryann Huddleston</td><td>Robertsburg</td><td>15.00</td></tr>",
                            "<tr><td>Emma Salpa</td><td>Rogersville</td><td>14.68</td></tr>",
                            "<tr><td>Neil Farrelly</td><td>Sabinsville</td><td>14.97</td></tr>",
                            "<tr><td>Taneli Riutta</td><td>Sandy Level</td><td>14.97</td></tr>",
                            "<tr><td>Isa Hulsegge</td><td>Saxapahaw</td><td>14.96</td></tr>",
                            "<tr><td>Akhil Nadar</td><td>Schaal</td><td>14.98</td></tr>",
                            "<tr><td>Nicolo Cattaneo</td><td>Schoharie</td><td>14.97</td></tr>",
                            "<tr><td>Dipti Shah</td><td>Scioto Furnace</td><td>14.99</td></tr>",
                            "<tr><td>Damodar Shenoy</td><td>Scott</td><td>14.88</td></tr>",
                            "<tr><td>Alinne Matos</td><td>Sea Island</td><td>14.95</td></tr>",
                            "<tr><td>Alena Kellnerova</td><td>Segundo</td><td>15.00</td></tr>",
                            "<tr><td>Ebru Erdogan</td><td>Seiling</td><td>14.96</td></tr>",
                            "<tr><td>Eugen Agafitei</td><td>Shawboro</td><td>14.97</td></tr>",
                            "<tr><td>Eric Torres</td><td>Shell</td><td>15.00</td></tr>",
                            "<tr><td>Gasper Havzija</td><td>Shell Knob</td><td>14.97</td></tr>",
                            "<tr><td>Gayatri Gajula</td><td>Shenorock</td><td>15.00</td></tr>",
                            "<tr><td>Olafs Rozitis</td><td>Sherwin</td><td>14.94</td></tr>",
                            "<tr><td>Jaroslav Fisar</td><td>Sigel</td><td>14.68</td></tr>",
                            "<tr><td>Shi Tu</td><td>Sinclair</td><td>14.95</td></tr>",
                            "<tr><td>Pari Hosseini</td><td>Soham</td><td>15.00</td></tr>",
                            "<tr><td>Manca Hrastovsek</td><td>Southside</td><td>14.94</td></tr>",
                            "<tr><td>Leila Carvalho</td><td>Spillertown</td><td>14.99</td></tr>",
                            "<tr><td>Daakshaayaani Sankaramanchi</td><td>Spillville</td><td>14.93</td></tr>",
                            "<tr><td>Fabrice Cloutier</td><td>Staley</td><td>15.00</td></tr>",
                            "<tr><td>Anindya Ghatak</td><td>Switz City</td><td>14.93</td></tr>",
                            "<tr><td>Crina Grasu</td><td>Tamora</td><td>14.94</td></tr>",
                            "<tr><td>Damodara Trivedi</td><td>Tarzan</td><td>14.97</td></tr>",
                            "<tr><td>Ludmila Smidova</td><td>Tempe</td><td>15.00</td></tr>",
                            "<tr><td>Shyam Poddar</td><td>Tenstrike</td><td>14.96</td></tr>",
                            "<tr><td>Bala Dixit</td><td>Termo</td><td>14.99</td></tr>",
                            "<tr><td>Kamila Michnova</td><td>The Colony</td><td>14.99</td></tr>",
                            "<tr><td>Suparna Bhattacharya</td><td>Tiff City</td><td>14.96</td></tr>",
                            "<tr><td>Darshana Madhunapantula</td><td>Tolchester Beach</td><td>14.97</td></tr>",
                            "<tr><td>Sercan Celik</td><td>Tolono</td><td>15.00</td></tr>",
                            "<tr><td>David safranek</td><td>Toughkenamon</td><td>14.95</td></tr>",
                            "<tr><td>Tomo Vidovic</td><td>Tremont</td><td>14.89</td></tr>",
                            "<tr><td>Ingrida Zeltina</td><td>Trilby</td><td>14.99</td></tr>",
                            "<tr><td>Prabodh Nair</td><td>Tschetter Colony</td><td>14.96</td></tr>",
                            "<tr><td>Dominic Davignon</td><td>Twin Peaks</td><td>14.90</td></tr>",
                            "<tr><td>Isidora Morales</td><td>Twodot</td><td>15.00</td></tr>",
                            "<tr><td>Malorie Bousquet</td><td>Valley View Park</td><td>14.97</td></tr>",
                            "<tr><td>Libuse Kuchtova</td><td>Van Alstyne</td><td>14.97</td></tr>",
                            "<tr><td>Svetlana Todorovic</td><td>Venersborg</td><td>15.00</td></tr>",
                            "<tr><td>Aive Petrov</td><td>Virgil</td><td>14.96</td></tr>",
                            "<tr><td>Amarakumaar Gadiyaram</td><td>Vollmar</td><td>15.00</td></tr>",
                            "<tr><td>Philip Walker</td><td>Waite Hill</td><td>14.99</td></tr>",
                            "<tr><td>Yves Belisle</td><td>Walapai</td><td>14.92</td></tr>",
                            "<tr><td>Abhra Ganguly</td><td>Walker Valley</td><td>14.52</td></tr>",
                            "<tr><td>Gunnar Lohmus</td><td>Wanaque</td><td>15.00</td></tr>",
                            "<tr><td>Rajeev Sandhu</td><td>Wasco</td><td>15.00</td></tr>",
                            "<tr><td>Be Trang</td><td>Watonga</td><td>14.98</td></tr>",
                            "<tr><td>Jana Fialova</td><td>Weigelstown</td><td>14.97</td></tr>",
                            "<tr><td>Bhadram Kamasamudram</td><td>Wells</td><td>15.00</td></tr>",
                            "<tr><td>Drishti Bose</td><td>Wesson</td><td>15.00</td></tr>",
                            "<tr><td>Leyla Asef zade</td><td>West Elkton</td><td>14.97</td></tr>",
                            "<tr><td>Devraj Rao</td><td>Westwater</td><td>14.93</td></tr>",
                            "<tr><td>Hoc Tran</td><td>White Horse Beach</td><td>15.00</td></tr>",
                            "<tr><td>Kristiina Ivanov</td><td>Wounded Knee</td><td>15.00</td></tr>",
                            "<tr><td>Magdalena Michnova</td><td>Wrangell</td><td>15.00</td></tr>",
                            "<tr><td>Emma Van Zant</td><td>Wray</td><td>15.00</td></tr>",
                            "<tr><td>Manjunatha Karnik</td><td>Wright City</td><td>14.92</td></tr>",
                            "<tr><td>Volkan senturk</td><td>Wyndham</td><td>14.95</td></tr>",
                            "<tr><td>Amet Shergill</td><td>Yampa</td><td>15.00</td></tr>",
                            "<tr><td>Kristi Part</td><td>Yerington</td><td>14.90</td></tr>",
                            "<tr><td>Bimla PrabhupÄda</td><td>Yermo</td><td>14.97</td></tr>",
                            "<tr><td>Milinka Zujovic</td><td>Zurich</td><td>14.97</td></tr>",
                            "</table>"
                        ]
                    }
                }
            ],
            "execution_count": 1
        }
    ]
}