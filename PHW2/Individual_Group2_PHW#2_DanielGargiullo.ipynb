{
    "metadata": {
        "kernelspec": {
            "name": "SQL",
            "display_name": "SQL",
            "language": "sql"
        },
        "language_info": {
            "name": "sql",
            "version": ""
        }
    },
    "nbformat_minor": 2,
    "nbformat": 4,
    "cells": [
        {
            "cell_type": "markdown",
            "source": [
                "# `Employee_Names_and_IDs.sql`\n",
                "\n",
                "## Proposition\n",
                "Retrieve the first name, last name, and ID of employees from the AdventureWorks2019 database.\n",
                "\n",
                "## Tables\n",
                "\n",
                "- `Person.Person` (aliased as `p`)\n",
                "- `HumanResources.Employee` (aliased as `h`)\n",
                "- `Person.BusinessEntity` (aliased as `b`)\n",
                "\n",
                "## Columns\n",
                "\n",
                "- `p.FirstName`\n",
                "- `p.LastName`"
            ],
            "metadata": {
                "azdata_cell_guid": "e6fad4ae-f455-442b-9334-9ae90b7d78bd"
            },
            "attachments": {}
        },
        {
            "cell_type": "code",
            "source": [
                "USE AdventureWorks2019\n",
                "\n",
                "SELECT p.FirstName, p.LastName\n",
                "FROM Person.Person AS p\n",
                "         INNER JOIN HumanResources.Employee AS h\n",
                "                    ON p.BusinessEntityID = h.BusinessEntityID\n",
                "         INNER JOIN Person.BusinessEntity AS b\n",
                "                    ON b.BusinessEntityID = h.BusinessEntityID"
            ],
            "metadata": {
                "azdata_cell_guid": "e07faf65-233a-4174-bd76-afa531a160cf",
                "language": "sql",
                "tags": []
            },
            "outputs": [],
            "execution_count": null
        },
        {
            "cell_type": "markdown",
            "source": [
                "___\r\n",
                "___\r\n",
                "___"
            ],
            "metadata": {
                "language": "sql",
                "azdata_cell_guid": "1c684ca9-f08a-48e9-8bed-0f4f2f8b98fc"
            },
            "attachments": {}
        },
        {
            "cell_type": "markdown",
            "source": [
                "# `Sales_Order_Product_Customer.sql`\n",
                "\n",
                "## Proposition\n",
                "Retrieve details about each sales order, including the order date, the customer’s full name, the product name, the unit price, the quantity ordered, and the total sales amount. This will help analyze customer purchases and product sales performance.\n",
                "\n",
                "## Tables\n",
                "\n",
                "- `SalesOrderHeader`\n",
                "- `SalesOrderDetail`\n",
                "- `Product`\n",
                "- `Customer`\n",
                "- `Person`\n",
                "\n",
                "## Columns\n",
                "\n",
                "- `SalesOrderHeader.OrderDate`\n",
                "- `SalesOrderHeader.CustomerID`\n",
                "- `SalesOrderDetail.ProductID`\n",
                "- `SalesOrderDetail.OrderQty`\n",
                "- `SalesOrderDetail.UnitPrice`\n",
                "- `SalesOrderDetail.LineTotal`\n",
                "- `Product.Name`\n",
                "- `Customer.CustomerID`\n",
                "- `Person.FirstName`\n",
                "- `Person.LastName`"
            ],
            "metadata": {
                "language": "sql",
                "azdata_cell_guid": "a3cdebbb-f6d8-4c23-a0cd-8f19b54cb50f"
            },
            "attachments": {}
        },
        {
            "cell_type": "code",
            "source": [
                "USE AdventureWorks2019\r\n",
                "\r\n",
                "SELECT soh.OrderDate,\r\n",
                "       p.FirstName + ' ' + p.LastName AS CustomerFullName,\r\n",
                "       prd.Name                       AS ProductName,\r\n",
                "       sod.OrderQty,\r\n",
                "       sod.UnitPrice,\r\n",
                "       sod.OrderQty * sod.UnitPrice   AS TotalAmount\r\n",
                "FROM Sales.SalesOrderHeader AS soh\r\n",
                "         JOIN\r\n",
                "     Sales.SalesOrderDetail AS sod\r\n",
                "     ON soh.SalesOrderID = sod.SalesOrderID\r\n",
                "         JOIN\r\n",
                "     Production.Product AS prd\r\n",
                "     ON sod.ProductID = prd.ProductID\r\n",
                "         JOIN\r\n",
                "     Sales.Customer AS c\r\n",
                "     ON soh.CustomerID = c.CustomerID\r\n",
                "         JOIN\r\n",
                "     Person.Person AS p\r\n",
                "     ON c.PersonID = p.BusinessEntityID\r\n",
                "ORDER BY soh.OrderDate DESC;"
            ],
            "metadata": {
                "azdata_cell_guid": "5230be2e-b885-4155-a0ab-5853287f72da",
                "language": "sql"
            },
            "outputs": [],
            "execution_count": null
        },
        {
            "cell_type": "markdown",
            "source": [
                "___\r\n",
                "___\r\n",
                "___"
            ],
            "metadata": {
                "language": "sql",
                "azdata_cell_guid": "db7e35b1-817f-4098-9aff-d22bfb9fd684"
            },
            "attachments": {}
        },
        {
            "cell_type": "markdown",
            "source": [
                "# `Customer_Order_Salesperson_Details.sql`\n",
                "\n",
                "## Proposition\n",
                "\n",
                "Identify all customers who placed an order along with details of the product they ordered, the sales person who handled the order, and the total amount of the order.\n",
                "\n",
                "## Tables\n",
                "\n",
                "- `Sales.Customer`: to get customer information.\n",
                "- `Sales.SalesOrderHeader`: to get the order information.\n",
                "- `Sales.SalesOrderDetail`: to get details of the order, including the products.\n",
                "- `Sales.SalesPerson`: to get the salesperson handling the order.\n",
                "- `Production.Product`: to get details of the products being ordered.\n",
                "\n",
                "## Columns\n",
                "\n",
                "- `Sales.Customer`: `CustomerID`, `PersonID`\n",
                "- `Sales.SalesOrderHeader`: `SalesOrderID`, `CustomerID`, `SalesPersonID`, `TotalDue`\n",
                "- `Sales.SalesOrderDetail`: `SalesOrderID`, `ProductID`, `OrderQty`\n",
                "- `Sales.SalesPerson`: `SalesPersonID`, `FirstName`, `LastName`\n",
                "- `Production.Product`: `ProductID`, `Name` (Product name)"
            ],
            "metadata": {
                "language": "sql",
                "azdata_cell_guid": "1269715d-4582-41ae-9cfa-a670a2522778"
            },
            "attachments": {}
        },
        {
            "cell_type": "code",
            "source": [
                "USE AdventureWorks2019\r\n",
                "\r\n",
                "SELECT c.CustomerID,\r\n",
                "       p.FirstName + ' ' + p.LastName AS SalesPersonName,\r\n",
                "       soh.SalesOrderID,\r\n",
                "       pr.Name                        AS ProductName,\r\n",
                "       sod.OrderQty,\r\n",
                "       soh.TotalDue\r\n",
                "FROM Sales.Customer c\r\n",
                "         JOIN\r\n",
                "     Sales.SalesOrderHeader soh ON c.CustomerID = soh.CustomerID\r\n",
                "         JOIN\r\n",
                "     Sales.SalesOrderDetail sod ON soh.SalesOrderID = sod.SalesOrderID\r\n",
                "         JOIN\r\n",
                "     Production.Product pr ON sod.ProductID = pr.ProductID\r\n",
                "         JOIN\r\n",
                "     Sales.SalesPerson sp ON soh.SalesPersonID = sp.BusinessEntityID\r\n",
                "         JOIN\r\n",
                "     Person.Person p ON sp.BusinessEntityID = p.BusinessEntityID\r\n",
                "ORDER BY soh.SalesOrderID;"
            ],
            "metadata": {
                "language": "sql",
                "azdata_cell_guid": "5405cb08-631e-46c2-bb40-022543c496c6"
            },
            "outputs": [],
            "execution_count": null
        },
        {
            "cell_type": "markdown",
            "source": [
                "___\r\n",
                "___\r\n",
                "___"
            ],
            "metadata": {
                "language": "sql",
                "azdata_cell_guid": "6fa499b0-a6ad-498e-894c-fde96079178d"
            },
            "attachments": {}
        },
        {
            "cell_type": "markdown",
            "source": [
                "# `Total_Sales_Per_Category.sql`\r\n",
                "\r\n",
                "## Proposition\r\n",
                "Find the total sales amount for each product category, along with the number of orders placed for products in each category.\r\n",
                "\r\n",
                "## Tables\r\n",
                "- `Sales.SalesOrderDetail`: to get product and order details.\r\n",
                "- `Production.Product`: to get product information.\r\n",
                "- `Production.ProductSubcategory`: to categorize products into subcategories.\r\n",
                "- `Production.ProductCategory`: to group subcategories into categories.\r\n",
                "\r\n",
                "## Columns\r\n",
                "- `Sales.SalesOrderDetail`: `ProductID`, `LineTotal`\r\n",
                "- `Production.Product`: `ProductID`, `ProductSubcategoryID`\r\n",
                "- `Production.ProductSubcategory`: `ProductSubcategoryID`, `ProductCategoryID`\r\n",
                "- `Production.ProductCategory`: `ProductCategoryID`, `Name` (Category name)"
            ],
            "metadata": {
                "language": "sql",
                "azdata_cell_guid": "4591e74e-6980-455c-85ff-29f2fcaf8fd6"
            },
            "attachments": {}
        },
        {
            "cell_type": "code",
            "source": [
                "USE AdventureWorks2019\r\n",
                "\r\n",
                "SELECT pc.Name                 AS CategoryName,\r\n",
                "       COUNT(soh.SalesOrderID) AS NumberOfOrders,\r\n",
                "       SUM(sod.LineTotal)      AS TotalSalesAmount\r\n",
                "FROM Sales.SalesOrderDetail sod\r\n",
                "         JOIN\r\n",
                "     Production.Product p ON sod.ProductID = p.ProductID\r\n",
                "         JOIN\r\n",
                "     Production.ProductSubcategory ps ON p.ProductSubcategoryID = ps.ProductSubcategoryID\r\n",
                "         JOIN\r\n",
                "     Production.ProductCategory pc ON ps.ProductCategoryID = pc.ProductCategoryID\r\n",
                "         JOIN\r\n",
                "     Sales.SalesOrderHeader soh ON sod.SalesOrderID = soh.SalesOrderID\r\n",
                "GROUP BY pc.Name\r\n",
                "ORDER BY TotalSalesAmount DESC;"
            ],
            "metadata": {
                "language": "sql",
                "azdata_cell_guid": "70c53cc2-a3f7-42c5-8075-58bc34ebc676"
            },
            "outputs": [],
            "execution_count": null
        },
        {
            "cell_type": "markdown",
            "source": [
                "___\r\n",
                "___\r\n",
                "___"
            ],
            "metadata": {
                "language": "sql",
                "azdata_cell_guid": "bdbc636b-e175-4dab-8292-43d666a8d158"
            },
            "attachments": {}
        },
        {
            "cell_type": "markdown",
            "source": [
                "# `Employee_Department_Manager.sql`\r\n",
                "\r\n",
                "## Proposition\r\n",
                "Retrieve the list of employees along with their job title, department, and their respective manager’s name (if applicable).\r\n",
                "\r\n",
                "## Tables\r\n",
                "- `HumanResources.Employee`: to get employee information.\r\n",
                "- `HumanResources.EmployeeDepartmentHistory`: to get the department information.\r\n",
                "- `HumanResources.Department`: to get department details.\r\n",
                "- `HumanResources.Shift`: to get the shift information (optional for added details).\r\n",
                "- `Person.Person`: to get the employee's and manager's names.\r\n",
                "- `HumanResources.Employee` (for self-join to get manager information).\r\n",
                "\r\n",
                "## Columns\r\n",
                "- `HumanResources.Employee`: `BusinessEntityID`, `JobTitle`, `ManagerID`\r\n",
                "- `HumanResources.EmployeeDepartmentHistory`: `BusinessEntityID`, `DepartmentID`\r\n",
                "- `HumanResources.Department`: `DepartmentID`, `Name` (Department Name)\r\n",
                "- `Person.Person`: `BusinessEntityID`, `FirstName`, `LastName`"
            ],
            "metadata": {
                "language": "sql",
                "azdata_cell_guid": "f9f76af8-8cd5-432e-a2c7-190cbb9390d0"
            },
            "attachments": {}
        },
        {
            "cell_type": "code",
            "source": [
                "USE AdventureWorks2019\r\n",
                "\r\n",
                "SELECT e.BusinessEntityID               AS EmployeeID,\r\n",
                "       p.FirstName + ' ' + p.LastName   AS EmployeeName,\r\n",
                "       e.JobTitle,\r\n",
                "       d.Name                           AS DepartmentName,\r\n",
                "       p2.FirstName + ' ' + p2.LastName AS ManagerName\r\n",
                "FROM HumanResources.Employee e\r\n",
                "         JOIN\r\n",
                "     Person.Person p ON e.BusinessEntityID = p.BusinessEntityID\r\n",
                "         JOIN\r\n",
                "     HumanResources.EmployeeDepartmentHistory edh ON e.BusinessEntityID = edh.BusinessEntityID\r\n",
                "         JOIN\r\n",
                "     HumanResources.Department d ON edh.DepartmentID = d.DepartmentID\r\n",
                "         LEFT JOIN\r\n",
                "     HumanResources.Employee e2 ON e.BusinessEntityID = e2.BusinessEntityID\r\n",
                "         LEFT JOIN\r\n",
                "     Person.Person p2 ON e2.BusinessEntityID = p2.BusinessEntityID\r\n",
                "WHERE edh.EndDate IS NULL -- Fetch only current department assignments\r\n",
                "ORDER BY EmployeeName;"
            ],
            "metadata": {
                "language": "sql",
                "azdata_cell_guid": "9fbb1b68-14c6-430e-821f-4eb2a5bf3c43"
            },
            "outputs": [],
            "execution_count": null
        }
    ]
}