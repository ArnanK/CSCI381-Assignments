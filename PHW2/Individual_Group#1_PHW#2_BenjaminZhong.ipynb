{
    "metadata": {
        "kernelspec": {
            "name": "SQL",
            "display_name": "SQL",
            "language": "sql"
        },
        "language_info": {
            "name": "sql",
            "version": ""
        }
    },
    "nbformat_minor": 2,
    "nbformat": 4,
    "cells": [
        {
            "cell_type": "markdown",
            "source": [
                "# **#1**"
            ],
            "metadata": {
                "language": "sql",
                "azdata_cell_guid": "10b3f749-cd49-4882-ac4f-845318e7c2fd"
            },
            "attachments": {}
        },
        {
            "cell_type": "markdown",
            "source": [
                "- **Proposition**: This query generates 5 copies of each employee from the `Employees` table by joining it with a number-generating table.\n",
                "    \n",
                "- **Tables Involved**: `TSQLV4.Employees` (aliased as `E`) and `TSQLV4.Nums` (aliased as `N`), where `Nums` contains a sequence of numbers.\n",
                "    \n",
                "- **SQL Functions Used**: `CROSS JOIN`, `WHERE`.\n",
                "    \n",
                "- **Output**: The query returns 5 rows for each employee, with each row having a unique number from the `Nums` table (from 1 to 5) alongside the employee's details."
            ],
            "metadata": {
                "language": "sql",
                "azdata_cell_guid": "ffe71dd4-3bd9-4784-a671-61b914418507"
            },
            "attachments": {}
        },
        {
            "cell_type": "code",
            "source": [
                "USE TSQLV4\n",
                "SELECT FullName AS Employee,\n",
                "    n\n",
                "FROM HR.Employees\n",
                "CROSS JOIN dbo.Nums AS n\n",
                "Where n <= 5\n",
                "Order by n;"
            ],
            "metadata": {
                "azdata_cell_guid": "1254d0e8-3f3c-4926-9357-5225fafb8081",
                "language": "sql",
                "tags": []
            },
            "outputs": [
                {
                    "output_type": "display_data",
                    "data": {
                        "text/html": "(45 rows affected)"
                    },
                    "metadata": {}
                },
                {
                    "output_type": "display_data",
                    "data": {
                        "text/html": "Total execution time: 00:00:00.039"
                    },
                    "metadata": {}
                },
                {
                    "output_type": "execute_result",
                    "metadata": {},
                    "execution_count": 1,
                    "data": {
                        "application/vnd.dataresource+json": {
                            "schema": {
                                "fields": [
                                    {
                                        "name": "Employee"
                                    },
                                    {
                                        "name": "n"
                                    }
                                ]
                            },
                            "data": [
                                {
                                    "Employee": "Sara Davis",
                                    "n": "1"
                                },
                                {
                                    "Employee": "Don Funk",
                                    "n": "1"
                                },
                                {
                                    "Employee": "Judy Lew",
                                    "n": "1"
                                },
                                {
                                    "Employee": "Yael Peled",
                                    "n": "1"
                                },
                                {
                                    "Employee": "Sven Mortensen",
                                    "n": "1"
                                },
                                {
                                    "Employee": "Paul Suurs",
                                    "n": "1"
                                },
                                {
                                    "Employee": "Russell King",
                                    "n": "1"
                                },
                                {
                                    "Employee": "Maria Cameron",
                                    "n": "1"
                                },
                                {
                                    "Employee": "Patricia Doyle",
                                    "n": "1"
                                },
                                {
                                    "Employee": "Sara Davis",
                                    "n": "2"
                                },
                                {
                                    "Employee": "Don Funk",
                                    "n": "2"
                                },
                                {
                                    "Employee": "Judy Lew",
                                    "n": "2"
                                },
                                {
                                    "Employee": "Yael Peled",
                                    "n": "2"
                                },
                                {
                                    "Employee": "Sven Mortensen",
                                    "n": "2"
                                },
                                {
                                    "Employee": "Paul Suurs",
                                    "n": "2"
                                },
                                {
                                    "Employee": "Russell King",
                                    "n": "2"
                                },
                                {
                                    "Employee": "Maria Cameron",
                                    "n": "2"
                                },
                                {
                                    "Employee": "Patricia Doyle",
                                    "n": "2"
                                },
                                {
                                    "Employee": "Sara Davis",
                                    "n": "3"
                                },
                                {
                                    "Employee": "Don Funk",
                                    "n": "3"
                                },
                                {
                                    "Employee": "Judy Lew",
                                    "n": "3"
                                },
                                {
                                    "Employee": "Yael Peled",
                                    "n": "3"
                                },
                                {
                                    "Employee": "Sven Mortensen",
                                    "n": "3"
                                },
                                {
                                    "Employee": "Paul Suurs",
                                    "n": "3"
                                },
                                {
                                    "Employee": "Russell King",
                                    "n": "3"
                                },
                                {
                                    "Employee": "Maria Cameron",
                                    "n": "3"
                                },
                                {
                                    "Employee": "Patricia Doyle",
                                    "n": "3"
                                },
                                {
                                    "Employee": "Sara Davis",
                                    "n": "4"
                                },
                                {
                                    "Employee": "Don Funk",
                                    "n": "4"
                                },
                                {
                                    "Employee": "Judy Lew",
                                    "n": "4"
                                },
                                {
                                    "Employee": "Yael Peled",
                                    "n": "4"
                                },
                                {
                                    "Employee": "Sven Mortensen",
                                    "n": "4"
                                },
                                {
                                    "Employee": "Paul Suurs",
                                    "n": "4"
                                },
                                {
                                    "Employee": "Russell King",
                                    "n": "4"
                                },
                                {
                                    "Employee": "Maria Cameron",
                                    "n": "4"
                                },
                                {
                                    "Employee": "Patricia Doyle",
                                    "n": "4"
                                },
                                {
                                    "Employee": "Sara Davis",
                                    "n": "5"
                                },
                                {
                                    "Employee": "Don Funk",
                                    "n": "5"
                                },
                                {
                                    "Employee": "Judy Lew",
                                    "n": "5"
                                },
                                {
                                    "Employee": "Yael Peled",
                                    "n": "5"
                                },
                                {
                                    "Employee": "Sven Mortensen",
                                    "n": "5"
                                },
                                {
                                    "Employee": "Paul Suurs",
                                    "n": "5"
                                },
                                {
                                    "Employee": "Russell King",
                                    "n": "5"
                                },
                                {
                                    "Employee": "Maria Cameron",
                                    "n": "5"
                                },
                                {
                                    "Employee": "Patricia Doyle",
                                    "n": "5"
                                }
                            ]
                        },
                        "text/html": [
                            "<table>",
                            "<tr><th>Employee</th><th>n</th></tr>",
                            "<tr><td>Sara Davis</td><td>1</td></tr>",
                            "<tr><td>Don Funk</td><td>1</td></tr>",
                            "<tr><td>Judy Lew</td><td>1</td></tr>",
                            "<tr><td>Yael Peled</td><td>1</td></tr>",
                            "<tr><td>Sven Mortensen</td><td>1</td></tr>",
                            "<tr><td>Paul Suurs</td><td>1</td></tr>",
                            "<tr><td>Russell King</td><td>1</td></tr>",
                            "<tr><td>Maria Cameron</td><td>1</td></tr>",
                            "<tr><td>Patricia Doyle</td><td>1</td></tr>",
                            "<tr><td>Sara Davis</td><td>2</td></tr>",
                            "<tr><td>Don Funk</td><td>2</td></tr>",
                            "<tr><td>Judy Lew</td><td>2</td></tr>",
                            "<tr><td>Yael Peled</td><td>2</td></tr>",
                            "<tr><td>Sven Mortensen</td><td>2</td></tr>",
                            "<tr><td>Paul Suurs</td><td>2</td></tr>",
                            "<tr><td>Russell King</td><td>2</td></tr>",
                            "<tr><td>Maria Cameron</td><td>2</td></tr>",
                            "<tr><td>Patricia Doyle</td><td>2</td></tr>",
                            "<tr><td>Sara Davis</td><td>3</td></tr>",
                            "<tr><td>Don Funk</td><td>3</td></tr>",
                            "<tr><td>Judy Lew</td><td>3</td></tr>",
                            "<tr><td>Yael Peled</td><td>3</td></tr>",
                            "<tr><td>Sven Mortensen</td><td>3</td></tr>",
                            "<tr><td>Paul Suurs</td><td>3</td></tr>",
                            "<tr><td>Russell King</td><td>3</td></tr>",
                            "<tr><td>Maria Cameron</td><td>3</td></tr>",
                            "<tr><td>Patricia Doyle</td><td>3</td></tr>",
                            "<tr><td>Sara Davis</td><td>4</td></tr>",
                            "<tr><td>Don Funk</td><td>4</td></tr>",
                            "<tr><td>Judy Lew</td><td>4</td></tr>",
                            "<tr><td>Yael Peled</td><td>4</td></tr>",
                            "<tr><td>Sven Mortensen</td><td>4</td></tr>",
                            "<tr><td>Paul Suurs</td><td>4</td></tr>",
                            "<tr><td>Russell King</td><td>4</td></tr>",
                            "<tr><td>Maria Cameron</td><td>4</td></tr>",
                            "<tr><td>Patricia Doyle</td><td>4</td></tr>",
                            "<tr><td>Sara Davis</td><td>5</td></tr>",
                            "<tr><td>Don Funk</td><td>5</td></tr>",
                            "<tr><td>Judy Lew</td><td>5</td></tr>",
                            "<tr><td>Yael Peled</td><td>5</td></tr>",
                            "<tr><td>Sven Mortensen</td><td>5</td></tr>",
                            "<tr><td>Paul Suurs</td><td>5</td></tr>",
                            "<tr><td>Russell King</td><td>5</td></tr>",
                            "<tr><td>Maria Cameron</td><td>5</td></tr>",
                            "<tr><td>Patricia Doyle</td><td>5</td></tr>",
                            "</table>"
                        ]
                    }
                }
            ],
            "execution_count": 1
        },
        {
            "cell_type": "markdown",
            "source": [
                "# **#1-2**"
            ],
            "metadata": {
                "language": "sql",
                "azdata_cell_guid": "8851a0cc-e4af-4128-aa02-616017f7af54"
            },
            "attachments": {}
        },
        {
            "cell_type": "markdown",
            "source": [
                "- **Proposition**: The query generates a row for each employee and each day within the range of June 12, 2016 to June 16, 2016.\n",
                "    \n",
                "- **Tables Involved**: `TSQLV4.Employees` (aliased as `E`) and `TSQLV4.Nums` (aliased as `N`).\n",
                "    \n",
                "- **SQL Functions Used**: `CROSS JOIN`, `DATEADD()`, `BETWEEN`.\n",
                "    \n",
                "- **Output**: The query returns a row for each employee and for each day from June 12, 2016, to June 16, 2016, with the `workdate` reflecting each day in that range."
            ],
            "metadata": {
                "language": "sql",
                "azdata_cell_guid": "ae98ae4c-0054-4244-9289-7569e21bb450"
            },
            "attachments": {}
        },
        {
            "cell_type": "code",
            "source": [
                "USE TSQLV4\r\n",
                "DROP TABLE Dates\r\n",
                "CREATE TABLE Dates(Date VARCHAR(100))\r\n",
                "Insert into Dates\r\n",
                "VALUES('2016-06-12'),('2016-06-13'),('2016-06-14'),('2016-06-15'),('2016-06-16')\r\n",
                "\r\n",
                "SELECT empid as empid\r\n",
                "From HR.Employees\r\n",
                "CROSS JOIN Dates\r\n",
                "ORDER BY empid"
            ],
            "metadata": {
                "azdata_cell_guid": "0f5fe947-e0ae-4cee-8810-a0a7f8a1b0ef",
                "language": "sql",
                "tags": [
                    "hide_input"
                ]
            },
            "outputs": [],
            "execution_count": null
        },
        {
            "cell_type": "markdown",
            "source": [
                "# **#2**"
            ],
            "metadata": {
                "azdata_cell_guid": "f131e6a5-0064-4038-81e1-878137697908"
            },
            "attachments": {}
        },
        {
            "cell_type": "markdown",
            "source": [
                "### Problem:\n",
                "\n",
                "In the query, there’s a **mismatch in table alias usage**. The tables `Sales.Customers` and `Sales.Orders` are given aliases (`C` for `Customers` and `O` for `Orders`), but the query fails to use these aliases consistently. Specifically:\n",
                "\n",
                "- In the `ON` clause, `Customers.custid` should reference the alias `C` instead of `Customers`.\n",
                "- Similarly, in the `SELECT` clause, the aliases `C` and `O` should be used instead of `Customers` and `Orders`.\n",
                "\n",
                "### Explanation of Fix:\n",
                "\n",
                "1. **Table Aliases**: Use the aliases `C` for `Customers` and `O` for `Orders` consistently throughout the query, including in the `SELECT` and `ON` clauses.\n",
                "2. **ON Clause**: In the corrected query, the condition `ON C.custid = O.custid` correctly references the aliased table names.\n",
                "3. **SELECT Clause**: The corrected query uses `C.custid`, `C.companyname`, `O.orderid`, and `O.orderdate` to properly reference columns from the aliased tables.\n",
                "\n",
                "This corrected version avoids ambiguity and ensures consistency in referencing the tables."
            ],
            "metadata": {
                "azdata_cell_guid": "3a02dee8-d85e-4ad7-8e08-3a8742912c66"
            },
            "attachments": {}
        },
        {
            "cell_type": "code",
            "source": [
                "USE TSQLV4\r\n",
                "SELECT C.custid,\r\n",
                "    C.companyname,\r\n",
                "    O.orderid,\r\n",
                "    O.orderdate\r\n",
                "FROM Sales.Customers AS C\r\n",
                "  INNER JOIN Sales.Orders AS O\r\n",
                "    ON C.custid = O.custid;"
            ],
            "metadata": {
                "azdata_cell_guid": "0acbe40f-0490-40d4-b40a-52f795c2156f",
                "language": "sql",
                "tags": []
            },
            "outputs": [],
            "execution_count": null
        },
        {
            "cell_type": "markdown",
            "source": [
                "# **#3**"
            ],
            "metadata": {
                "language": "sql",
                "azdata_cell_guid": "ccdf5bfb-38bc-459f-a6de-268c6902a7d6"
            },
            "attachments": {}
        },
        {
            "cell_type": "markdown",
            "source": [
                "- **Proposition**: The query retrieves US customers, along with the total number of orders they placed and the total quantities of products ordered.\n",
                "    \n",
                "- **Tables Involved**: `TSQLV4.Customers` (aliased as `C`), `TSQLV4.Orders` (aliased as `O`), and `TSQLV4.OrderDetails` (aliased as `OD`).\n",
                "    \n",
                "- **SQL Functions Used**: `INNER JOIN`, `COUNT()`, `SUM()`, `GROUP BY`, `WHERE`.\n",
                "    \n",
                "- **Output**: The query returns each US customer's ID and company name, the total number of orders they've placed, and the sum of all product quantities in those orders."
            ],
            "metadata": {
                "language": "sql",
                "azdata_cell_guid": "1952fdae-b3c6-40bd-9b06-b07f028af200"
            },
            "attachments": {}
        },
        {
            "cell_type": "code",
            "source": [
                "USE TSQLV4\r\n",
                "SELECT C.custid as custid,\r\n",
                "    COUNT(O.orderid) as numorders,\r\n",
                "    SUM(OD.qty) as totalqty\r\n",
                "FROM Sales.Customers as C\r\n",
                "INNER JOIN Sales.Orders AS O ON C.custid = O.custid\r\n",
                "INNER JOIN Sales.OrderDetails AS OD ON O.orderid = OD.orderid\r\n",
                "GROUP BY C.custid\r\n",
                "ORDER BY custid"
            ],
            "metadata": {
                "language": "sql",
                "azdata_cell_guid": "1a4fbf3d-dfaf-437d-9af8-7156a6577743",
                "tags": []
            },
            "outputs": [],
            "execution_count": null
        },
        {
            "cell_type": "markdown",
            "source": [
                "# **#4**"
            ],
            "metadata": {
                "language": "sql",
                "azdata_cell_guid": "bf055adc-fbe0-4b16-82ea-c09335092653"
            },
            "attachments": {}
        },
        {
            "cell_type": "markdown",
            "source": [
                "- **Proposition**: The query retrieves all customers and their associated orders, including customers who have not placed any orders.\n",
                "    \n",
                "- **Tables Involved**: `TSQLV4.Customers` (aliased as `C`) and `TSQLV4.Orders` (aliased as `O`).\n",
                "    \n",
                "- **SQL Functions Used**: `LEFT JOIN`.\n",
                "    \n",
                "- **Output**: The query returns each customer with their order details, showing `NULL` for `orderid` and `orderdate` for customers who have not placed any orders."
            ],
            "metadata": {
                "language": "sql",
                "azdata_cell_guid": "323a9e31-22ac-4c86-8973-d1158ea24e4c"
            },
            "attachments": {}
        },
        {
            "cell_type": "code",
            "source": [
                "USE TSQLV4\r\n",
                "SELECT C.custid as custid,\r\n",
                "    C.companyname,\r\n",
                "    O.orderid,\r\n",
                "    O.orderdate\r\n",
                "FROM Sales.Customers AS C\r\n",
                "LEFT JOIN Sales.Orders AS O on C.custid = O.custid\r\n",
                "\r\n",
                ""
            ],
            "metadata": {
                "language": "sql",
                "azdata_cell_guid": "8faf80bf-958c-4212-b950-8e39d928268f",
                "tags": [
                    "hide_input"
                ]
            },
            "outputs": [],
            "execution_count": null
        },
        {
            "cell_type": "markdown",
            "source": [
                "# **#5**"
            ],
            "metadata": {
                "language": "sql",
                "azdata_cell_guid": "b72d511d-3f53-4af4-9ff6-3748d3f6a74e"
            },
            "attachments": {}
        },
        {
            "cell_type": "markdown",
            "source": [
                "- **Proposition**: The query retrieves customers who have not placed any orders.\n",
                "    \n",
                "- **Tables Involved**: `TSQLV4.Customers` (aliased as `C`) and `TSQLV4.Orders` (aliased as `O`).\n",
                "    \n",
                "- **SQL Functions Used**: `LEFT JOIN`, `WHERE`, `IS NULL`.\n",
                "    \n",
                "- **Output**: The query returns a list of customers where no orders exist, displaying customers whose `orderid` is `NULL` because they have not placed any orders."
            ],
            "metadata": {
                "language": "sql",
                "azdata_cell_guid": "6cadbbab-0a83-4b26-8be0-1e8c5566c9e2"
            },
            "attachments": {}
        },
        {
            "cell_type": "code",
            "source": [
                "USE TSQLV4\r\n",
                "Select C.custid as custid,\r\n",
                "    C.companyname\r\n",
                "From Sales.Customers AS C\r\n",
                "LEFT JOIN Sales.Orders AS O ON C.custid = O.custid\r\n",
                "Where O.orderid IS NULL; "
            ],
            "metadata": {
                "language": "sql",
                "azdata_cell_guid": "5b0d782a-86de-4ac5-8831-3594e81c9d79",
                "tags": [
                    "hide_input"
                ]
            },
            "outputs": [],
            "execution_count": null
        },
        {
            "cell_type": "markdown",
            "source": [
                "# **#6**"
            ],
            "metadata": {
                "language": "sql",
                "azdata_cell_guid": "c9be789e-9c65-4ec1-9ba8-cf50fb736b3f"
            },
            "attachments": {}
        },
        {
            "cell_type": "markdown",
            "source": [
                "- **Proposition**: The query retrieves customers who placed orders on February 12, 2016, along with their corresponding order details.\n",
                "    \n",
                "- **Tables Involved**: `TSQLV4.Customers` (aliased as `C`) and `TSQLV4.Orders` (aliased as `O`).\n",
                "    \n",
                "- **SQL Functions Used**: `INNER JOIN`, `WHERE`.\n",
                "    \n",
                "- **Output**: The query returns customers who placed orders on February 12, 2016, along with their order IDs and order dates."
            ],
            "metadata": {
                "language": "sql",
                "azdata_cell_guid": "c2a6d9b1-fff7-4261-8670-27a5825b263f"
            },
            "attachments": {}
        },
        {
            "cell_type": "code",
            "source": [
                "USE TSQLV4\r\n",
                "SELECT C.custid as custid,\r\n",
                "    C.companyname as companyname,\r\n",
                "    O.orderid as orderid,\r\n",
                "    O.orderdate as orderdate\r\n",
                "From Sales.Customers AS C\r\n",
                "LEFT JOIN Sales.Orders AS O ON C.custid = O.custid\r\n",
                "Where O.orderdate = '20160212'\r\n",
                ""
            ],
            "metadata": {
                "language": "sql",
                "azdata_cell_guid": "2d6c86ad-f5a0-4c6d-85a4-360ebb5487ca",
                "tags": [
                    "hide_input"
                ]
            },
            "outputs": [],
            "execution_count": null
        },
        {
            "cell_type": "markdown",
            "source": [
                "# **#7**"
            ],
            "metadata": {
                "language": "sql",
                "azdata_cell_guid": "955f59f1-195e-4d52-a88d-e24614e12e99"
            },
            "attachments": {}
        },
        {
            "cell_type": "markdown",
            "source": [
                "- **Proposition**: The query retrieves all customers, and if a customer placed an order on February 12, 2016, it matches that customer with their order details; otherwise, the order information will be `NULL`.\n",
                "    \n",
                "- **Tables Involved**: `TSQLV4.Customers` (aliased as `C`) and `TSQLV4.Orders` (aliased as `O`).\n",
                "    \n",
                "- **SQL Functions Used**: `LEFT JOIN`, `AND`.\n",
                "    \n",
                "- **Output**: The query returns all customers. For customers who placed orders on February 12, 2016, their corresponding `orderid` and `orderdate` will be shown; for customers with no such orders, the order columns will be `NULL`."
            ],
            "metadata": {
                "language": "sql",
                "azdata_cell_guid": "94442e69-5a12-4be0-9836-50a7d39b96be"
            },
            "attachments": {}
        },
        {
            "cell_type": "code",
            "source": [
                "USE TSQLV4;\r\n",
                "\r\n",
                "WITH Feb12th AS (\r\n",
                "    SELECT *,\r\n",
                "           ROW_NUMBER() OVER (PARTITION BY custid ORDER BY orderdate) AS OrderNum\r\n",
                "    FROM Sales.Orders\r\n",
                "    WHERE orderdate = '2016-02-12'\r\n",
                ")\r\n",
                "\r\n",
                "\r\n",
                "SELECT C.custid as custid,\r\n",
                "    C.companyname as companyname,\r\n",
                "    CASE WHEN O.OrderNum % 2 = 1 Then O.orderid ELSE NULL END AS orderid,\r\n",
                "    CASE WHEN O.OrderNum % 2 = 1 Then O.orderdate ELSE NULL END AS orderdate\r\n",
                "FROM Sales.Customers AS C\r\n",
                "LEFT JOIN Feb12th AS O ON C.custid = O.custid;\r\n",
                ""
            ],
            "metadata": {
                "language": "sql",
                "azdata_cell_guid": "cd249a44-b831-4ab7-b892-fb7f298b9a8a",
                "tags": [
                    "hide_input"
                ]
            },
            "outputs": [
                {
                    "output_type": "display_data",
                    "data": {
                        "text/html": "(91 rows affected)"
                    },
                    "metadata": {}
                },
                {
                    "output_type": "display_data",
                    "data": {
                        "text/html": "Total execution time: 00:00:00.009"
                    },
                    "metadata": {}
                },
                {
                    "output_type": "execute_result",
                    "execution_count": 17,
                    "data": {
                        "application/vnd.dataresource+json": {
                            "schema": {
                                "fields": [
                                    {
                                        "name": "custid"
                                    },
                                    {
                                        "name": "companyname"
                                    },
                                    {
                                        "name": "orderid"
                                    },
                                    {
                                        "name": "orderdate"
                                    }
                                ]
                            },
                            "data": [
                                {
                                    "custid": "1",
                                    "companyname": "Customer NRZBB",
                                    "orderid": "NULL",
                                    "orderdate": "NULL"
                                },
                                {
                                    "custid": "2",
                                    "companyname": "Customer MLTDN",
                                    "orderid": "NULL",
                                    "orderdate": "NULL"
                                },
                                {
                                    "custid": "3",
                                    "companyname": "Customer KBUDE",
                                    "orderid": "NULL",
                                    "orderdate": "NULL"
                                },
                                {
                                    "custid": "4",
                                    "companyname": "Customer HFBZG",
                                    "orderid": "NULL",
                                    "orderdate": "NULL"
                                },
                                {
                                    "custid": "5",
                                    "companyname": "Customer HGVLZ",
                                    "orderid": "NULL",
                                    "orderdate": "NULL"
                                },
                                {
                                    "custid": "6",
                                    "companyname": "Customer XHXJV",
                                    "orderid": "NULL",
                                    "orderdate": "NULL"
                                },
                                {
                                    "custid": "7",
                                    "companyname": "Customer QXVLA",
                                    "orderid": "NULL",
                                    "orderdate": "NULL"
                                },
                                {
                                    "custid": "8",
                                    "companyname": "Customer QUHWH",
                                    "orderid": "NULL",
                                    "orderdate": "NULL"
                                },
                                {
                                    "custid": "9",
                                    "companyname": "Customer RTXGC",
                                    "orderid": "NULL",
                                    "orderdate": "NULL"
                                },
                                {
                                    "custid": "10",
                                    "companyname": "Customer EEALV",
                                    "orderid": "NULL",
                                    "orderdate": "NULL"
                                },
                                {
                                    "custid": "11",
                                    "companyname": "Customer UBHAU",
                                    "orderid": "NULL",
                                    "orderdate": "NULL"
                                },
                                {
                                    "custid": "12",
                                    "companyname": "Customer PSNMQ",
                                    "orderid": "NULL",
                                    "orderdate": "NULL"
                                },
                                {
                                    "custid": "13",
                                    "companyname": "Customer VMLOG",
                                    "orderid": "NULL",
                                    "orderdate": "NULL"
                                },
                                {
                                    "custid": "14",
                                    "companyname": "Customer WNMAF",
                                    "orderid": "NULL",
                                    "orderdate": "NULL"
                                },
                                {
                                    "custid": "15",
                                    "companyname": "Customer JUWXK",
                                    "orderid": "NULL",
                                    "orderdate": "NULL"
                                },
                                {
                                    "custid": "16",
                                    "companyname": "Customer GYBBY",
                                    "orderid": "NULL",
                                    "orderdate": "NULL"
                                },
                                {
                                    "custid": "17",
                                    "companyname": "Customer FEVNN",
                                    "orderid": "NULL",
                                    "orderdate": "NULL"
                                },
                                {
                                    "custid": "18",
                                    "companyname": "Customer BSVAR",
                                    "orderid": "NULL",
                                    "orderdate": "NULL"
                                },
                                {
                                    "custid": "19",
                                    "companyname": "Customer RFNQC",
                                    "orderid": "NULL",
                                    "orderdate": "NULL"
                                },
                                {
                                    "custid": "20",
                                    "companyname": "Customer THHDP",
                                    "orderid": "NULL",
                                    "orderdate": "NULL"
                                },
                                {
                                    "custid": "21",
                                    "companyname": "Customer KIDPX",
                                    "orderid": "NULL",
                                    "orderdate": "NULL"
                                },
                                {
                                    "custid": "22",
                                    "companyname": "Customer DTDMN",
                                    "orderid": "NULL",
                                    "orderdate": "NULL"
                                },
                                {
                                    "custid": "23",
                                    "companyname": "Customer WVFAF",
                                    "orderid": "NULL",
                                    "orderdate": "NULL"
                                },
                                {
                                    "custid": "24",
                                    "companyname": "Customer CYZTN",
                                    "orderid": "NULL",
                                    "orderdate": "NULL"
                                },
                                {
                                    "custid": "25",
                                    "companyname": "Customer AZJED",
                                    "orderid": "NULL",
                                    "orderdate": "NULL"
                                },
                                {
                                    "custid": "26",
                                    "companyname": "Customer USDBG",
                                    "orderid": "NULL",
                                    "orderdate": "NULL"
                                },
                                {
                                    "custid": "27",
                                    "companyname": "Customer WMFEA",
                                    "orderid": "NULL",
                                    "orderdate": "NULL"
                                },
                                {
                                    "custid": "28",
                                    "companyname": "Customer XYUFB",
                                    "orderid": "NULL",
                                    "orderdate": "NULL"
                                },
                                {
                                    "custid": "29",
                                    "companyname": "Customer MDLWA",
                                    "orderid": "NULL",
                                    "orderdate": "NULL"
                                },
                                {
                                    "custid": "30",
                                    "companyname": "Customer KSLQF",
                                    "orderid": "NULL",
                                    "orderdate": "NULL"
                                },
                                {
                                    "custid": "31",
                                    "companyname": "Customer YJCBX",
                                    "orderid": "NULL",
                                    "orderdate": "NULL"
                                },
                                {
                                    "custid": "32",
                                    "companyname": "Customer YSIQX",
                                    "orderid": "NULL",
                                    "orderdate": "NULL"
                                },
                                {
                                    "custid": "33",
                                    "companyname": "Customer FVXPQ",
                                    "orderid": "NULL",
                                    "orderdate": "NULL"
                                },
                                {
                                    "custid": "34",
                                    "companyname": "Customer IBVRG",
                                    "orderid": "NULL",
                                    "orderdate": "NULL"
                                },
                                {
                                    "custid": "35",
                                    "companyname": "Customer UMTLM",
                                    "orderid": "NULL",
                                    "orderdate": "NULL"
                                },
                                {
                                    "custid": "36",
                                    "companyname": "Customer LVJSO",
                                    "orderid": "NULL",
                                    "orderdate": "NULL"
                                },
                                {
                                    "custid": "37",
                                    "companyname": "Customer FRXZL",
                                    "orderid": "NULL",
                                    "orderdate": "NULL"
                                },
                                {
                                    "custid": "38",
                                    "companyname": "Customer LJUCA",
                                    "orderid": "NULL",
                                    "orderdate": "NULL"
                                },
                                {
                                    "custid": "39",
                                    "companyname": "Customer GLLAG",
                                    "orderid": "NULL",
                                    "orderdate": "NULL"
                                },
                                {
                                    "custid": "40",
                                    "companyname": "Customer EFFTC",
                                    "orderid": "NULL",
                                    "orderdate": "NULL"
                                },
                                {
                                    "custid": "41",
                                    "companyname": "Customer XIIWM",
                                    "orderid": "NULL",
                                    "orderdate": "NULL"
                                },
                                {
                                    "custid": "42",
                                    "companyname": "Customer IAIJK",
                                    "orderid": "NULL",
                                    "orderdate": "NULL"
                                },
                                {
                                    "custid": "43",
                                    "companyname": "Customer UISOJ",
                                    "orderid": "NULL",
                                    "orderdate": "NULL"
                                },
                                {
                                    "custid": "44",
                                    "companyname": "Customer OXFRU",
                                    "orderid": "NULL",
                                    "orderdate": "NULL"
                                },
                                {
                                    "custid": "45",
                                    "companyname": "Customer QXPPT",
                                    "orderid": "10884",
                                    "orderdate": "2016-02-12"
                                },
                                {
                                    "custid": "46",
                                    "companyname": "Customer XPNIK",
                                    "orderid": "NULL",
                                    "orderdate": "NULL"
                                },
                                {
                                    "custid": "47",
                                    "companyname": "Customer PSQUZ",
                                    "orderid": "NULL",
                                    "orderdate": "NULL"
                                },
                                {
                                    "custid": "48",
                                    "companyname": "Customer DVFMB",
                                    "orderid": "10883",
                                    "orderdate": "2016-02-12"
                                },
                                {
                                    "custid": "49",
                                    "companyname": "Customer CQRAA",
                                    "orderid": "NULL",
                                    "orderdate": "NULL"
                                },
                                {
                                    "custid": "50",
                                    "companyname": "Customer JYPSC",
                                    "orderid": "NULL",
                                    "orderdate": "NULL"
                                },
                                {
                                    "custid": "51",
                                    "companyname": "Customer PVDZC",
                                    "orderid": "NULL",
                                    "orderdate": "NULL"
                                },
                                {
                                    "custid": "52",
                                    "companyname": "Customer PZNLA",
                                    "orderid": "NULL",
                                    "orderdate": "NULL"
                                },
                                {
                                    "custid": "53",
                                    "companyname": "Customer GCJSG",
                                    "orderid": "NULL",
                                    "orderdate": "NULL"
                                },
                                {
                                    "custid": "54",
                                    "companyname": "Customer TDKEG",
                                    "orderid": "NULL",
                                    "orderdate": "NULL"
                                },
                                {
                                    "custid": "55",
                                    "companyname": "Customer KZQZT",
                                    "orderid": "NULL",
                                    "orderdate": "NULL"
                                },
                                {
                                    "custid": "56",
                                    "companyname": "Customer QNIVZ",
                                    "orderid": "NULL",
                                    "orderdate": "NULL"
                                },
                                {
                                    "custid": "57",
                                    "companyname": "Customer WVAXS",
                                    "orderid": "NULL",
                                    "orderdate": "NULL"
                                },
                                {
                                    "custid": "58",
                                    "companyname": "Customer AHXHT",
                                    "orderid": "NULL",
                                    "orderdate": "NULL"
                                },
                                {
                                    "custid": "59",
                                    "companyname": "Customer LOLJO",
                                    "orderid": "NULL",
                                    "orderdate": "NULL"
                                },
                                {
                                    "custid": "60",
                                    "companyname": "Customer QZURI",
                                    "orderid": "NULL",
                                    "orderdate": "NULL"
                                },
                                {
                                    "custid": "61",
                                    "companyname": "Customer WULWD",
                                    "orderid": "NULL",
                                    "orderdate": "NULL"
                                },
                                {
                                    "custid": "62",
                                    "companyname": "Customer WFIZJ",
                                    "orderid": "NULL",
                                    "orderdate": "NULL"
                                },
                                {
                                    "custid": "63",
                                    "companyname": "Customer IRRVL",
                                    "orderid": "NULL",
                                    "orderdate": "NULL"
                                },
                                {
                                    "custid": "64",
                                    "companyname": "Customer LWGMD",
                                    "orderid": "NULL",
                                    "orderdate": "NULL"
                                },
                                {
                                    "custid": "65",
                                    "companyname": "Customer NYUHS",
                                    "orderid": "NULL",
                                    "orderdate": "NULL"
                                },
                                {
                                    "custid": "66",
                                    "companyname": "Customer LHANT",
                                    "orderid": "NULL",
                                    "orderdate": "NULL"
                                },
                                {
                                    "custid": "67",
                                    "companyname": "Customer QVEPD",
                                    "orderid": "NULL",
                                    "orderdate": "NULL"
                                },
                                {
                                    "custid": "68",
                                    "companyname": "Customer CCKOT",
                                    "orderid": "NULL",
                                    "orderdate": "NULL"
                                },
                                {
                                    "custid": "69",
                                    "companyname": "Customer SIUIH",
                                    "orderid": "NULL",
                                    "orderdate": "NULL"
                                },
                                {
                                    "custid": "70",
                                    "companyname": "Customer TMXGN",
                                    "orderid": "NULL",
                                    "orderdate": "NULL"
                                },
                                {
                                    "custid": "71",
                                    "companyname": "Customer LCOUJ",
                                    "orderid": "NULL",
                                    "orderdate": "NULL"
                                },
                                {
                                    "custid": "72",
                                    "companyname": "Customer AHPOP",
                                    "orderid": "NULL",
                                    "orderdate": "NULL"
                                },
                                {
                                    "custid": "73",
                                    "companyname": "Customer JMIKW",
                                    "orderid": "NULL",
                                    "orderdate": "NULL"
                                },
                                {
                                    "custid": "74",
                                    "companyname": "Customer YSHXL",
                                    "orderid": "NULL",
                                    "orderdate": "NULL"
                                },
                                {
                                    "custid": "75",
                                    "companyname": "Customer XOJYP",
                                    "orderid": "NULL",
                                    "orderdate": "NULL"
                                },
                                {
                                    "custid": "76",
                                    "companyname": "Customer SFOGW",
                                    "orderid": "10885",
                                    "orderdate": "2016-02-12"
                                },
                                {
                                    "custid": "77",
                                    "companyname": "Customer LCYBZ",
                                    "orderid": "NULL",
                                    "orderdate": "NULL"
                                },
                                {
                                    "custid": "78",
                                    "companyname": "Customer NLTYP",
                                    "orderid": "NULL",
                                    "orderdate": "NULL"
                                },
                                {
                                    "custid": "79",
                                    "companyname": "Customer FAPSM",
                                    "orderid": "NULL",
                                    "orderdate": "NULL"
                                },
                                {
                                    "custid": "80",
                                    "companyname": "Customer VONTK",
                                    "orderid": "NULL",
                                    "orderdate": "NULL"
                                },
                                {
                                    "custid": "81",
                                    "companyname": "Customer YQQWW",
                                    "orderid": "NULL",
                                    "orderdate": "NULL"
                                },
                                {
                                    "custid": "82",
                                    "companyname": "Customer EYHKM",
                                    "orderid": "NULL",
                                    "orderdate": "NULL"
                                },
                                {
                                    "custid": "83",
                                    "companyname": "Customer ZRNDE",
                                    "orderid": "NULL",
                                    "orderdate": "NULL"
                                },
                                {
                                    "custid": "84",
                                    "companyname": "Customer NRCSK",
                                    "orderid": "NULL",
                                    "orderdate": "NULL"
                                },
                                {
                                    "custid": "85",
                                    "companyname": "Customer ENQZT",
                                    "orderid": "NULL",
                                    "orderdate": "NULL"
                                },
                                {
                                    "custid": "86",
                                    "companyname": "Customer SNXOJ",
                                    "orderid": "NULL",
                                    "orderdate": "NULL"
                                },
                                {
                                    "custid": "87",
                                    "companyname": "Customer ZHYOS",
                                    "orderid": "NULL",
                                    "orderdate": "NULL"
                                },
                                {
                                    "custid": "88",
                                    "companyname": "Customer SRQVM",
                                    "orderid": "NULL",
                                    "orderdate": "NULL"
                                },
                                {
                                    "custid": "89",
                                    "companyname": "Customer YBQTI",
                                    "orderid": "NULL",
                                    "orderdate": "NULL"
                                },
                                {
                                    "custid": "90",
                                    "companyname": "Customer XBBVR",
                                    "orderid": "NULL",
                                    "orderdate": "NULL"
                                },
                                {
                                    "custid": "91",
                                    "companyname": "Customer CCFIZ",
                                    "orderid": "NULL",
                                    "orderdate": "NULL"
                                }
                            ]
                        },
                        "text/html": "<table><tr><th>custid</th><th>companyname</th><th>orderid</th><th>orderdate</th></tr><tr><td>1</td><td>Customer NRZBB</td><td>NULL</td><td>NULL</td></tr><tr><td>2</td><td>Customer MLTDN</td><td>NULL</td><td>NULL</td></tr><tr><td>3</td><td>Customer KBUDE</td><td>NULL</td><td>NULL</td></tr><tr><td>4</td><td>Customer HFBZG</td><td>NULL</td><td>NULL</td></tr><tr><td>5</td><td>Customer HGVLZ</td><td>NULL</td><td>NULL</td></tr><tr><td>6</td><td>Customer XHXJV</td><td>NULL</td><td>NULL</td></tr><tr><td>7</td><td>Customer QXVLA</td><td>NULL</td><td>NULL</td></tr><tr><td>8</td><td>Customer QUHWH</td><td>NULL</td><td>NULL</td></tr><tr><td>9</td><td>Customer RTXGC</td><td>NULL</td><td>NULL</td></tr><tr><td>10</td><td>Customer EEALV</td><td>NULL</td><td>NULL</td></tr><tr><td>11</td><td>Customer UBHAU</td><td>NULL</td><td>NULL</td></tr><tr><td>12</td><td>Customer PSNMQ</td><td>NULL</td><td>NULL</td></tr><tr><td>13</td><td>Customer VMLOG</td><td>NULL</td><td>NULL</td></tr><tr><td>14</td><td>Customer WNMAF</td><td>NULL</td><td>NULL</td></tr><tr><td>15</td><td>Customer JUWXK</td><td>NULL</td><td>NULL</td></tr><tr><td>16</td><td>Customer GYBBY</td><td>NULL</td><td>NULL</td></tr><tr><td>17</td><td>Customer FEVNN</td><td>NULL</td><td>NULL</td></tr><tr><td>18</td><td>Customer BSVAR</td><td>NULL</td><td>NULL</td></tr><tr><td>19</td><td>Customer RFNQC</td><td>NULL</td><td>NULL</td></tr><tr><td>20</td><td>Customer THHDP</td><td>NULL</td><td>NULL</td></tr><tr><td>21</td><td>Customer KIDPX</td><td>NULL</td><td>NULL</td></tr><tr><td>22</td><td>Customer DTDMN</td><td>NULL</td><td>NULL</td></tr><tr><td>23</td><td>Customer WVFAF</td><td>NULL</td><td>NULL</td></tr><tr><td>24</td><td>Customer CYZTN</td><td>NULL</td><td>NULL</td></tr><tr><td>25</td><td>Customer AZJED</td><td>NULL</td><td>NULL</td></tr><tr><td>26</td><td>Customer USDBG</td><td>NULL</td><td>NULL</td></tr><tr><td>27</td><td>Customer WMFEA</td><td>NULL</td><td>NULL</td></tr><tr><td>28</td><td>Customer XYUFB</td><td>NULL</td><td>NULL</td></tr><tr><td>29</td><td>Customer MDLWA</td><td>NULL</td><td>NULL</td></tr><tr><td>30</td><td>Customer KSLQF</td><td>NULL</td><td>NULL</td></tr><tr><td>31</td><td>Customer YJCBX</td><td>NULL</td><td>NULL</td></tr><tr><td>32</td><td>Customer YSIQX</td><td>NULL</td><td>NULL</td></tr><tr><td>33</td><td>Customer FVXPQ</td><td>NULL</td><td>NULL</td></tr><tr><td>34</td><td>Customer IBVRG</td><td>NULL</td><td>NULL</td></tr><tr><td>35</td><td>Customer UMTLM</td><td>NULL</td><td>NULL</td></tr><tr><td>36</td><td>Customer LVJSO</td><td>NULL</td><td>NULL</td></tr><tr><td>37</td><td>Customer FRXZL</td><td>NULL</td><td>NULL</td></tr><tr><td>38</td><td>Customer LJUCA</td><td>NULL</td><td>NULL</td></tr><tr><td>39</td><td>Customer GLLAG</td><td>NULL</td><td>NULL</td></tr><tr><td>40</td><td>Customer EFFTC</td><td>NULL</td><td>NULL</td></tr><tr><td>41</td><td>Customer XIIWM</td><td>NULL</td><td>NULL</td></tr><tr><td>42</td><td>Customer IAIJK</td><td>NULL</td><td>NULL</td></tr><tr><td>43</td><td>Customer UISOJ</td><td>NULL</td><td>NULL</td></tr><tr><td>44</td><td>Customer OXFRU</td><td>NULL</td><td>NULL</td></tr><tr><td>45</td><td>Customer QXPPT</td><td>10884</td><td>2016-02-12</td></tr><tr><td>46</td><td>Customer XPNIK</td><td>NULL</td><td>NULL</td></tr><tr><td>47</td><td>Customer PSQUZ</td><td>NULL</td><td>NULL</td></tr><tr><td>48</td><td>Customer DVFMB</td><td>10883</td><td>2016-02-12</td></tr><tr><td>49</td><td>Customer CQRAA</td><td>NULL</td><td>NULL</td></tr><tr><td>50</td><td>Customer JYPSC</td><td>NULL</td><td>NULL</td></tr><tr><td>51</td><td>Customer PVDZC</td><td>NULL</td><td>NULL</td></tr><tr><td>52</td><td>Customer PZNLA</td><td>NULL</td><td>NULL</td></tr><tr><td>53</td><td>Customer GCJSG</td><td>NULL</td><td>NULL</td></tr><tr><td>54</td><td>Customer TDKEG</td><td>NULL</td><td>NULL</td></tr><tr><td>55</td><td>Customer KZQZT</td><td>NULL</td><td>NULL</td></tr><tr><td>56</td><td>Customer QNIVZ</td><td>NULL</td><td>NULL</td></tr><tr><td>57</td><td>Customer WVAXS</td><td>NULL</td><td>NULL</td></tr><tr><td>58</td><td>Customer AHXHT</td><td>NULL</td><td>NULL</td></tr><tr><td>59</td><td>Customer LOLJO</td><td>NULL</td><td>NULL</td></tr><tr><td>60</td><td>Customer QZURI</td><td>NULL</td><td>NULL</td></tr><tr><td>61</td><td>Customer WULWD</td><td>NULL</td><td>NULL</td></tr><tr><td>62</td><td>Customer WFIZJ</td><td>NULL</td><td>NULL</td></tr><tr><td>63</td><td>Customer IRRVL</td><td>NULL</td><td>NULL</td></tr><tr><td>64</td><td>Customer LWGMD</td><td>NULL</td><td>NULL</td></tr><tr><td>65</td><td>Customer NYUHS</td><td>NULL</td><td>NULL</td></tr><tr><td>66</td><td>Customer LHANT</td><td>NULL</td><td>NULL</td></tr><tr><td>67</td><td>Customer QVEPD</td><td>NULL</td><td>NULL</td></tr><tr><td>68</td><td>Customer CCKOT</td><td>NULL</td><td>NULL</td></tr><tr><td>69</td><td>Customer SIUIH</td><td>NULL</td><td>NULL</td></tr><tr><td>70</td><td>Customer TMXGN</td><td>NULL</td><td>NULL</td></tr><tr><td>71</td><td>Customer LCOUJ</td><td>NULL</td><td>NULL</td></tr><tr><td>72</td><td>Customer AHPOP</td><td>NULL</td><td>NULL</td></tr><tr><td>73</td><td>Customer JMIKW</td><td>NULL</td><td>NULL</td></tr><tr><td>74</td><td>Customer YSHXL</td><td>NULL</td><td>NULL</td></tr><tr><td>75</td><td>Customer XOJYP</td><td>NULL</td><td>NULL</td></tr><tr><td>76</td><td>Customer SFOGW</td><td>10885</td><td>2016-02-12</td></tr><tr><td>77</td><td>Customer LCYBZ</td><td>NULL</td><td>NULL</td></tr><tr><td>78</td><td>Customer NLTYP</td><td>NULL</td><td>NULL</td></tr><tr><td>79</td><td>Customer FAPSM</td><td>NULL</td><td>NULL</td></tr><tr><td>80</td><td>Customer VONTK</td><td>NULL</td><td>NULL</td></tr><tr><td>81</td><td>Customer YQQWW</td><td>NULL</td><td>NULL</td></tr><tr><td>82</td><td>Customer EYHKM</td><td>NULL</td><td>NULL</td></tr><tr><td>83</td><td>Customer ZRNDE</td><td>NULL</td><td>NULL</td></tr><tr><td>84</td><td>Customer NRCSK</td><td>NULL</td><td>NULL</td></tr><tr><td>85</td><td>Customer ENQZT</td><td>NULL</td><td>NULL</td></tr><tr><td>86</td><td>Customer SNXOJ</td><td>NULL</td><td>NULL</td></tr><tr><td>87</td><td>Customer ZHYOS</td><td>NULL</td><td>NULL</td></tr><tr><td>88</td><td>Customer SRQVM</td><td>NULL</td><td>NULL</td></tr><tr><td>89</td><td>Customer YBQTI</td><td>NULL</td><td>NULL</td></tr><tr><td>90</td><td>Customer XBBVR</td><td>NULL</td><td>NULL</td></tr><tr><td>91</td><td>Customer CCFIZ</td><td>NULL</td><td>NULL</td></tr></table>"
                    },
                    "metadata": {}
                }
            ],
            "execution_count": 17
        },
        {
            "cell_type": "markdown",
            "source": [
                "# **#8**"
            ],
            "metadata": {
                "language": "sql",
                "azdata_cell_guid": "4068b409-57fd-4e9d-8d6e-e32d8b325d1f"
            },
            "attachments": {}
        },
        {
            "cell_type": "markdown",
            "source": [
                "### Issues in the Query:\n",
                "\n",
                "1. **Incorrect `WHERE` Clause**:  \n",
                "    The `WHERE` clause is filtering on `O.orderdate = '20160212' OR O.orderid IS NULL`. This means the query first performs the `LEFT JOIN`, but then it **filters out** all rows where the `orderdate` is not `'20160212'`, except for the rows where `O.orderid` is `NULL`. As a result:\n",
                "    \n",
                "    - Customers who have placed orders on any date other than February 12, 2016, will be excluded, which violates the requirement to return **all** customers.\n",
                "    - The `LEFT JOIN` behavior is partially canceled out by the `WHERE O.orderdate = '20160212'`, effectively making it behave more like an `INNER JOIN` for customers with orders.\n",
                "2. **Date Format**:  \n",
                "    The date `'20160212'` does not follow the standard `YYYY-MM-DD` format, which SQL Server expects for date literals. It should be `'2016-02-12'`.\n",
                "    \n",
                "\n",
                "  \n",
                "\n",
                "The **correct** query should not filter customers in the `WHERE` clause. Instead, the condition for February 12, 2016, should be placed in the `ON` clause so that the `LEFT JOIN` retains **all customers** and only matches the orders placed on that specific date.  \n",
                "\n",
                "  \n",
                "\n",
                "### Explanation of the Fix:\n",
                "\n",
                "- **Date Filter in the `ON` Clause**: By moving the date filter (`O.orderdate = '2016-02-12'`) into the `ON` clause, we ensure that the `LEFT JOIN` still includes all customers. For those customers who placed orders on February 12, 2016, the order details will be shown, while for other customers (or customers with no orders on that date), the `orderid` and `orderdate` columns will return `NULL`.\n",
                "\n",
                "This way, the query meets the requirement of **returning all customers** and matching them with orders from **February 12, 2016**, if applicable."
            ],
            "metadata": {
                "language": "sql",
                "azdata_cell_guid": "0f0351fc-b847-44a8-b2ce-1c405fe570fb"
            },
            "attachments": {}
        },
        {
            "cell_type": "code",
            "source": [
                "SELECT C.custid, C.companyname, O.orderid, O.orderdate\r\n",
                "FROM Sales.Customers AS C\r\n",
                "  LEFT OUTER JOIN Sales.Orders AS O\r\n",
                "    ON O.custid = C.custid\r\n",
                "WHERE O.orderdate = '20160212'\r\n",
                "   OR O.orderid IS NULL;"
            ],
            "metadata": {
                "language": "sql",
                "azdata_cell_guid": "647d52fc-0d8c-439a-b198-454244aeb637",
                "tags": [
                    "hide_input"
                ]
            },
            "outputs": [],
            "execution_count": null
        },
        {
            "cell_type": "markdown",
            "source": [
                "# **#9**"
            ],
            "metadata": {
                "language": "sql",
                "azdata_cell_guid": "722c4db3-049c-47a2-9e16-95e3829914f7"
            },
            "attachments": {}
        },
        {
            "cell_type": "markdown",
            "source": [
                "- **Proposition**: The query retrieves all customers and indicates with a \"Yes\" or \"No\" value whether each customer placed an order on February 12, 2016.\n",
                "    \n",
                "- **Tables Involved**: `TSQLV4.Customers` (aliased as `C`) and `TSQLV4.Orders` (aliased as `O`).\n",
                "    \n",
                "- **SQL Functions Used**: `LEFT JOIN`, `CASE`, `WHEN`, `ELSE`.\n",
                "    \n",
                "- **Output**: The query returns a list of all customers along with a column `placed_order`, which will contain \"Yes\" for customers who placed an order on February 12, 2016, and \"No\" for those who did not place any orders on that date."
            ],
            "metadata": {
                "language": "sql",
                "azdata_cell_guid": "efdc70f1-a9fc-41eb-81eb-8acbbe28e3ad"
            },
            "attachments": {}
        },
        {
            "cell_type": "code",
            "source": [
                "USE TSQLV4;\r\n",
                "WITH Feb12th AS (\r\n",
                "    SELECT *,\r\n",
                "           ROW_NUMBER() OVER (PARTITION BY custid ORDER BY orderdate) AS OrderNum\r\n",
                "    FROM Sales.Orders\r\n",
                "    WHERE orderdate = '2016-02-12'\r\n",
                ")\r\n",
                "SELECT C.custid as custid,\r\n",
                "    C.companyname as companyname,\r\n",
                "    CASE WHEN O.OrderNum % 2 = 1 Then 'YES' ELSE 'NO' END AS orderid\r\n",
                "FROM Sales.Customers as C\r\n",
                "LEFT JOIN Feb12th as O ON O.custid = C.custid"
            ],
            "metadata": {
                "language": "sql",
                "azdata_cell_guid": "65550b54-dfc0-4cec-9dc7-c1cf75711a4f",
                "tags": []
            },
            "outputs": [],
            "execution_count": null
        },
        {
            "cell_type": "markdown",
            "source": [
                "# **Custom Proposition #1**"
            ],
            "metadata": {
                "language": "sql",
                "azdata_cell_guid": "520bce22-ad06-40d7-9fdb-5f2878788a55"
            },
            "attachments": {}
        },
        {
            "cell_type": "markdown",
            "source": [
                "**Statement**: Return a list of products and their corresponding categories, including those categories that have no products assigned to them.\n",
                "\n",
                "- **Proposition**: The query retrieves all categories and lists their corresponding products, including categories that have no products.\n",
                "- **Tables Involved**: `TSQLV4.Categories` (aliased as `C`) and `TSQLV4.Products` (aliased as `P`).\n",
                "- **SQL Functions Used**: `LEFT JOIN`.\n",
                "- **Output**: The query returns each category along with its products; categories with no products will show `NULL` for product details."
            ],
            "metadata": {
                "language": "sql",
                "azdata_cell_guid": "c53ead54-9281-4eb0-b52c-af31540177be"
            },
            "attachments": {}
        },
        {
            "cell_type": "code",
            "source": [
                "USE TSQLV4\r\n",
                "SELECT C.categoryid, C.categoryname, P.productid, P.productname\r\n",
                "FROM Production.Categories AS C\r\n",
                "  LEFT JOIN Production.Products AS P ON C.categoryid = P.categoryid;"
            ],
            "metadata": {
                "language": "sql",
                "azdata_cell_guid": "096688a7-85ff-450b-aff6-0089eeb13a80"
            },
            "outputs": [],
            "execution_count": null
        },
        {
            "cell_type": "markdown",
            "source": [
                "# **Custom Proposition #2**"
            ],
            "metadata": {
                "language": "sql",
                "azdata_cell_guid": "736580f8-69a3-4b28-ad88-61d4fd7152f1"
            },
            "attachments": {}
        },
        {
            "cell_type": "markdown",
            "source": [
                "**Statement**: Find the top 5 customers based on the total amount spent on orders, including their total expenditure and the number of orders they placed.\n",
                "\n",
                "  \n",
                "\n",
                "- **Proposition**: The query retrieves the top 5 customers by total expenditure on orders and counts the number of orders they placed.\n",
                "- **Tables Involved**: `TSQLV4.Customers` (aliased as `C`), `TSQLV4.Orders` (aliased as `O`), and `TSQLV4.OrderDetails` (aliased as `OD`).\n",
                "- **SQL Functions Used**: `INNER JOIN`, `SUM()`, `COUNT()`, `GROUP BY`, `ORDER BY`, `TOP`.\n",
                "- **Output**: The query returns the top 5 customers with their IDs, names, total amount spent, and the total number of orders."
            ],
            "metadata": {
                "language": "sql",
                "azdata_cell_guid": "065134c4-163e-4cfa-a17b-3fce07d21cc3"
            },
            "attachments": {}
        },
        {
            "cell_type": "code",
            "source": [
                "USE TSQLV4\r\n",
                "SELECT TOP 5 C.custid, C.companyname,\r\n",
                "       SUM(OD.qty * OD.unitprice) AS total_spent,\r\n",
                "       COUNT(O.orderid) AS total_orders\r\n",
                "FROM dbo.Customers AS C\r\n",
                "  INNER JOIN Sales.Orders AS O ON C.custid = O.custid\r\n",
                "  INNER JOIN Sales.OrderDetails AS OD ON O.orderid = OD.orderid\r\n",
                "GROUP BY C.custid, C.companyname\r\n",
                "ORDER BY total_spent DESC;"
            ],
            "metadata": {
                "language": "sql",
                "azdata_cell_guid": "78a68c05-ebb3-4089-aec8-7c904e4320b6"
            },
            "outputs": [],
            "execution_count": null
        },
        {
            "cell_type": "markdown",
            "source": [
                "# **Custom Proposition #3**"
            ],
            "metadata": {
                "language": "sql",
                "azdata_cell_guid": "b056479b-05c7-41f3-91ff-516e81c031b5"
            },
            "attachments": {}
        },
        {
            "cell_type": "markdown",
            "source": [
                "**Statement**: Retrieve all employees and their managers' names, displaying employees who do not have a manager with a null value for the manager’s name.\n",
                "\n",
                "  \n",
                "\n",
                "- **Proposition**: The query retrieves employees and their managers, displaying `NULL` for managers who do not exist.\n",
                "- **Tables Involved**: `TSQLV4.Employees` (aliased as `E` for employees and `M` for managers).\n",
                "- **SQL Functions Used**: `LEFT JOIN`.\n",
                "- **Output**: The query returns employee details along with their managers’ names, where employees without managers will show `NULL` for the manager’s name."
            ],
            "metadata": {
                "language": "sql",
                "azdata_cell_guid": "f260f33e-2283-4d10-841e-9266514d8cc4"
            },
            "attachments": {}
        },
        {
            "cell_type": "code",
            "source": [
                "SELECT E.employeeid, E.firstname, E.lastname,\r\n",
                "       M.firstname AS manager_firstname, M.lastname AS manager_lastname\r\n",
                "FROM TSQLV4.Employees AS E\r\n",
                "  LEFT JOIN TSQLV4.Employees AS M ON E.managerid = M.employeeid;"
            ],
            "metadata": {
                "language": "sql",
                "azdata_cell_guid": "af64274b-3b98-4b80-abc2-b7c668f6335a",
                "tags": []
            },
            "outputs": [
                {
                    "output_type": "error",
                    "evalue": "Msg 208, Level 16, State 1, Line 1\r\nInvalid object name 'TSQLV4.Employees'.",
                    "ename": "",
                    "traceback": []
                },
                {
                    "output_type": "display_data",
                    "data": {
                        "text/html": "Total execution time: 00:00:00.002"
                    },
                    "metadata": {}
                }
            ],
            "execution_count": 2
        },
        {
            "cell_type": "markdown",
            "source": [
                "# **Custom Proposition #4**"
            ],
            "metadata": {
                "language": "sql",
                "azdata_cell_guid": "5f085124-0789-42c3-beba-b25e9e608964"
            },
            "attachments": {}
        },
        {
            "cell_type": "markdown",
            "source": [
                "**Statement**: Get the monthly sales totals for each product category for the year 2023, including categories with zero sales for that year\n",
                "\n",
                "  \n",
                "\n",
                "- **Proposition**: The query retrieves monthly sales totals for each product category for 2023, including categories with no sales.\n",
                "- **Tables Involved**: `TSQLV4.Categories` (aliased as `C`), `TSQLV4.Products` (aliased as `P`), `TSQLV4.OrderDetails` (aliased as `OD`), and `TSQLV4.Orders` (aliased as `O`).\n",
                "- **SQL Functions Used**: `LEFT JOIN`, `SUM()`, `MONTH()`, `YEAR()`, `GROUP BY`, `ORDER BY`.\n",
                "- **Output**: The query returns each category's ID and name, along with the month and total sales; categories with no sales will show `NULL` for `total_sales`."
            ],
            "metadata": {
                "language": "sql",
                "azdata_cell_guid": "1920c079-949d-497f-9251-838cf7047dde"
            },
            "attachments": {}
        },
        {
            "cell_type": "code",
            "source": [
                "USE TSQLV4\r\n",
                "SELECT C.categoryid, C.categoryname, \r\n",
                "       MONTH(O.orderdate) AS month,\r\n",
                "       SUM(OD.qty * OD.unitprice) AS total_sales\r\n",
                "FROM Production.Categories AS C\r\n",
                "  LEFT JOIN Production.Products AS P ON C.categoryid = P.categoryid\r\n",
                "  LEFT JOIN Sales.OrderDetails AS OD ON P.productid = OD.productid\r\n",
                "  LEFT JOIN Sales.Orders AS O ON OD.orderid = O.orderid AND YEAR(O.orderdate) = 2023\r\n",
                "GROUP BY C.categoryid, C.categoryname, MONTH(O.orderdate)\r\n",
                "ORDER BY C.categoryid, month;"
            ],
            "metadata": {
                "language": "sql",
                "azdata_cell_guid": "54cdf3a0-4cb7-4737-885c-8b96dfc9630c"
            },
            "outputs": [],
            "execution_count": null
        },
        {
            "cell_type": "markdown",
            "source": [
                "# **Custom Proposition #5**"
            ],
            "metadata": {
                "language": "sql",
                "azdata_cell_guid": "aac19576-0f29-439f-81bd-c6bfbc1abcea"
            },
            "attachments": {}
        },
        {
            "cell_type": "markdown",
            "source": [
                "**Statement**: Return the average order value for each customer who has placed at least one order, along with the number of orders they placed.\n",
                "\n",
                "  \n",
                "\n",
                "- **Proposition**: The query retrieves the average order value for each customer who has placed at least one order, along with the total number of orders.\n",
                "- **Tables Involved**: `TSQLV4.Customers` (aliased as `C`), `TSQLV4.Orders` (aliased as `O`), and `TSQLV4.OrderDetails` (aliased as `OD`).\n",
                "- **SQL Functions Used**: `INNER JOIN`, `AVG()`, `COUNT()`, `GROUP BY`.\n",
                "- **Output**: The query returns each customer’s ID and name, along with their average order value and total number of orders."
            ],
            "metadata": {
                "language": "sql",
                "azdata_cell_guid": "07d4d01d-c3f4-436c-b7cf-59e7b9bcd9aa"
            },
            "attachments": {}
        },
        {
            "cell_type": "code",
            "source": [
                "USE TSQLV4\r\n",
                "\r\n",
                "SELECT C.custid, C.companyname,\r\n",
                "       AVG(OD.qty * OD.unitprice) AS average_order_value,\r\n",
                "       COUNT(O.orderid) AS total_orders\r\n",
                "FROM Sales.Customers AS C\r\n",
                "  INNER JOIN Sales.Orders AS O ON C.custid = O.custid\r\n",
                "  INNER JOIN Sales.OrderDetails AS OD ON O.orderid = OD.orderid\r\n",
                "GROUP BY C.custid, C.companyname;"
            ],
            "metadata": {
                "language": "sql",
                "azdata_cell_guid": "cc6b044d-0a88-4e13-b3ab-d0e493c02c40"
            },
            "outputs": [],
            "execution_count": null
        }
    ]
}