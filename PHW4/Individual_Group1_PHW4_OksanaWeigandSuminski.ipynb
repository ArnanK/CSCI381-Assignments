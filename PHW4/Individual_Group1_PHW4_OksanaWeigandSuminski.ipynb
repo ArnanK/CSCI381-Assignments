CREATE TABLE Sales.NewCustomers (
    CustomerID INT PRIMARY KEY,
    CustomerName NVARCHAR(100),
    CreditLimit DECIMAL(18, 2)
);
-- 1
-- Add a new customer entry into the database, assigning a unique ID, name, and credit limit for tracking.
INSERT INTO Sales.NewCustomers (CustomerID, CustomerName, CreditLimit)
VALUES 
    (1, 'Customer A', 1500.00),
    (2, 'Customer B', 2000.00),
    (3, 'Customer C', 2500.00),
    (4, 'Customer D', 3000.00),
    (5, 'Customer E', 3500.00),
    (6, 'Customer F', 4000.00),
    (7, 'Customer G', 4500.00),
    (8, 'Customer H', 5000.00),
    (9, 'Customer I', 5500.00),
    (10, 'Customer J', 6000.00),
    (11, 'Customer K', 6500.00),
    (12, 'Customer L', 7000.00),
    (13, 'Customer M', 7500.00),
    (14, 'Customer N', 8000.00),
    (15, 'Customer O', 8500.00),
    (16, 'Customer P', 9000.00),
    (17, 'Customer Q', 9500.00),
    (18, 'Customer R', 10000.00),
    (19, 'Customer S', 10500.00),
    (20, 'Customer T', 11000.00);

-- 2.
-- Create a new table and populate this table from Sales.NewCustomers that holds only the customers with a credit limit greater than $6,000 for special marketing purposes.
SELECT CustomerID, CustomerName, CreditLimit
INTO Sales.HighCreditCustomers
FROM Sales.NewCustomers
WHERE CreditLimit > 6000;

-- To Confirm
SELECT * FROM Sales.NewCustomers;
SELECT * FROM Sales.HighCreditCustomers;

-- 3. Create a new table containing only customers with a credit limit below $5,000 for a marketing campaign.
SELECT CustomerID, CustomerName, CreditLimit
INTO Sales.LowCreditCustomers
FROM Sales.NewCustomers
WHERE CreditLimit < 5000;

-- To Confirm
SELECT * FROM Sales.LowCreditCustomers;

-- 4. Delete all customer entries from the Sales.LowCreditCustomers table.
DELETE FROM Sales.LowCreditCustomers;
SELECT * FROM Sales.LowCreditCustomers;

INSERT INTO Sales.LowCreditCustomers (CustomerID, CustomerName, CreditLimit)
SELECT CustomerID, CustomerName, CreditLimit
FROM Sales.NewCustomers
WHERE CreditLimit < 6000;

-- 5. Remove the top 20 entries from Sales.NewCustomers to manage storage or adjust sample size.
DELETE TOP (10) FROM Sales.NewCustomers;
SELECT * FROM Sales.NewCustomers;

-- 6. DELETE TOP 5 with the CTE (Common Table Expression)
WITH C AS (
    SELECT TOP (5) *
    FROM Sales.NewCustomers
    ORDER BY CustomerID
)
DELETE FROM C;
-- To Confirm
SELECT * FROM Sales.NewCustomers;

-- 7. Create a DELETE Statement with a Subquery
DELETE FROM Sales.NewCustomers
WHERE CustomerID IN (
    SELECT CustomerID
    FROM (
        SELECT TOP 2 CustomerID
        FROM Sales.NewCustomers
        ORDER BY CustomerID
    ) AS TopCustomers
);

-- To Confirm
SELECT * FROM Sales.NewCustomers;

-- 8. Increase the credit limit of customers with a CreditLimit less than 6000 by 1000 to offer an incentive.
UPDATE Sales.NewCustomers
SET CreditLimit += 1000
WHERE CreditLimit < 6000;

-- To Confirm
SELECT * FROM Sales.NewCustomers;

-- 9. Set a customer’s credit limit to a new value stored in a variable, supporting business rule flexibility.
-- Declare a variable to hold the new credit limit
DECLARE @NewCreditLimit DECIMAL(18, 2);
SET @NewCreditLimit = 7000; -- Set the new credit limit value

-- Update the credit limit for a specific customer
UPDATE Sales.NewCustomers
SET CreditLimit = @NewCreditLimit
WHERE CustomerID = 1;

-- To Confirm
SELECT * FROM Sales.NewCustomers;

-- 10. Clear all entries in Sales.NewCustomers for re-use or to free up space, maintaining the table structure.
TRUNCATE TABLE Sales.NewCustomers;

-- To Confirm
SELECT * FROM Sales.NewCustomers;