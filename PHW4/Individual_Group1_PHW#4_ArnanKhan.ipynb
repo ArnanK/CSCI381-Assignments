{
    "metadata": {
        "kernelspec": {
            "name": "SQL",
            "display_name": "SQL",
            "language": "sql"
        },
        "language_info": {
            "name": "sql",
            "version": ""
        }
    },
    "nbformat_minor": 2,
    "nbformat": 4,
    "cells": [
        {
            "cell_type": "markdown",
            "source": [
                "## **<u>CSCI 381: PHW#4 - Individual (Arnan Khan)</u>**"
            ],
            "metadata": {
                "azdata_cell_guid": "b53111a9-7ec1-42a8-a46b-a10a9f9ac855"
            },
            "attachments": {}
        },
        {
            "cell_type": "markdown",
            "source": [
                "#### Chapter 8\n",
                "\n",
                "Named Database: WideWorldImporters\n",
                "\n",
                "\\[ChatGPT \\*new\\*  Generates Propositions\\]( <span style=\"color: var(--vscode-foreground);\"><a href=\"https://chatgpt.com/share/672033c5-e61c-800f-9d92-13bf92fe08b4\" data-href=\"https://chatgpt.com/share/672033c5-e61c-800f-9d92-13bf92fe08b4\" title=\"https://chatgpt.com/share/672033c5-e61c-800f-9d92-13bf92fe08b4\" is-markdown=\"true\" is-absolute=\"false\">https://chatgpt.com/share/672033c5-e61c-800f-9d92-13bf92fe08b4</a>&nbsp;</span>  <span style=\"color: var(--vscode-foreground);\">)</span>"
            ],
            "metadata": {
                "azdata_cell_guid": "d45a68c6-5acf-420c-81e2-fd7f12d35adb"
            },
            "attachments": {}
        },
        {
            "cell_type": "code",
            "source": [
                "USE [WideWorldImporters]\r\n",
                "DROP SCHEMA IF EXISTS PHW4\r\n",
                "GO\r\n",
                "CREATE SCHEMA PHW4"
            ],
            "metadata": {
                "azdata_cell_guid": "3d1c880a-fee0-4ced-b344-3bd7735ca12c",
                "language": "sql"
            },
            "outputs": [
                {
                    "output_type": "display_data",
                    "data": {
                        "text/html": "Commands completed successfully."
                    },
                    "metadata": {}
                },
                {
                    "output_type": "display_data",
                    "data": {
                        "text/html": "Commands completed successfully."
                    },
                    "metadata": {}
                },
                {
                    "output_type": "display_data",
                    "data": {
                        "text/html": "Total execution time: 00:00:00.027"
                    },
                    "metadata": {}
                }
            ],
            "execution_count": 2
        },
        {
            "cell_type": "markdown",
            "source": [
                "## Proposition 1\r\n",
                "Create a new table called `TopCustomers` to store details of customers with the highest spending. Include columns for `CustomerID`, `CustomerName`, `TotalSpent`, and `LastOrderDate`.\r\n",
                ""
            ],
            "metadata": {
                "azdata_cell_guid": "6e519805-61db-46d9-b6eb-6dfcb765972e"
            },
            "attachments": {}
        },
        {
            "cell_type": "code",
            "source": [
                "DROP TABLE IF EXISTS PHW4.[TopCustomers]\r\n",
                "CREATE TABLE PHW4.[TopCustomers]\r\n",
                "(\r\n",
                "    CustomerID  INT NOT NULL,\r\n",
                "    CustomerName    VARCHAR(75) NOT NULL,\r\n",
                "    TotalSpent  INT ,\r\n",
                "    LastOrderDate   DATE,\r\n",
                "    CONSTRAINT PK_TopCustomers PRIMARY KEY(CustomerID)\r\n",
                ");\r\n",
                "\r\n",
                "INSERT INTO PHW4.[TopCustomers] \r\n",
                "SELECT O.CustomerID, C.CustomerName, SUM(OL.UnitPrice * OL.Quantity), MAX(O.OrderDate)\r\n",
                "FROM Sales.Orders as O \r\n",
                "INNER JOIN Sales.Customers as C ON O.CustomerID = C.CustomerID \r\n",
                "INNER JOIN Sales.OrderLines as OL ON O.OrderID = OL.OrderID\r\n",
                "GROUP BY O.CustomerID, C.CustomerName"
            ],
            "metadata": {
                "azdata_cell_guid": "9bb4ace5-6746-4512-813a-e1e5be10447a",
                "language": "sql"
            },
            "outputs": [
                {
                    "output_type": "display_data",
                    "data": {
                        "text/html": "(663 rows affected)"
                    },
                    "metadata": {}
                },
                {
                    "output_type": "display_data",
                    "data": {
                        "text/html": "Total execution time: 00:00:00.137"
                    },
                    "metadata": {}
                }
            ],
            "execution_count": 12
        },
        {
            "cell_type": "code",
            "source": [
                "SELECT Top(5)* FROM PHW4.[TopCustomers]"
            ],
            "metadata": {
                "language": "sql",
                "azdata_cell_guid": "6a7fc0eb-2829-405d-a38e-1d7f555fb75b"
            },
            "outputs": [
                {
                    "output_type": "display_data",
                    "data": {
                        "text/html": "(5 rows affected)"
                    },
                    "metadata": {}
                },
                {
                    "output_type": "display_data",
                    "data": {
                        "text/html": "Total execution time: 00:00:00.011"
                    },
                    "metadata": {}
                },
                {
                    "output_type": "execute_result",
                    "metadata": {},
                    "execution_count": 15,
                    "data": {
                        "application/vnd.dataresource+json": {
                            "schema": {
                                "fields": [
                                    {
                                        "name": "CustomerID"
                                    },
                                    {
                                        "name": "CustomerName"
                                    },
                                    {
                                        "name": "TotalSpent"
                                    },
                                    {
                                        "name": "LastOrderDate"
                                    }
                                ]
                            },
                            "data": [
                                {
                                    "CustomerID": "1",
                                    "CustomerName": "Tailspin Toys (Head Office)",
                                    "TotalSpent": "315404",
                                    "LastOrderDate": "2016-05-27"
                                },
                                {
                                    "CustomerID": "2",
                                    "CustomerName": "Tailspin Toys (Sylvanite, MT)",
                                    "TotalSpent": "240817",
                                    "LastOrderDate": "2016-05-14"
                                },
                                {
                                    "CustomerID": "3",
                                    "CustomerName": "Tailspin Toys (Peeples Valley, AZ)",
                                    "TotalSpent": "317243",
                                    "LastOrderDate": "2016-05-30"
                                },
                                {
                                    "CustomerID": "4",
                                    "CustomerName": "Tailspin Toys (Medicine Lodge, KS)",
                                    "TotalSpent": "310903",
                                    "LastOrderDate": "2016-04-28"
                                },
                                {
                                    "CustomerID": "5",
                                    "CustomerName": "Tailspin Toys (Gasport, NY)",
                                    "TotalSpent": "264001",
                                    "LastOrderDate": "2016-05-28"
                                }
                            ]
                        },
                        "text/html": [
                            "<table>",
                            "<tr><th>CustomerID</th><th>CustomerName</th><th>TotalSpent</th><th>LastOrderDate</th></tr>",
                            "<tr><td>1</td><td>Tailspin Toys (Head Office)</td><td>315404</td><td>2016-05-27</td></tr>",
                            "<tr><td>2</td><td>Tailspin Toys (Sylvanite, MT)</td><td>240817</td><td>2016-05-14</td></tr>",
                            "<tr><td>3</td><td>Tailspin Toys (Peeples Valley, AZ)</td><td>317243</td><td>2016-05-30</td></tr>",
                            "<tr><td>4</td><td>Tailspin Toys (Medicine Lodge, KS)</td><td>310903</td><td>2016-04-28</td></tr>",
                            "<tr><td>5</td><td>Tailspin Toys (Gasport, NY)</td><td>264001</td><td>2016-05-28</td></tr>",
                            "</table>"
                        ]
                    }
                }
            ],
            "execution_count": 15
        },
        {
            "cell_type": "markdown",
            "source": [
                "## Proposition 2\r\n",
                "Update the `Customers` table by increasing the credit limit by 10% for customers who have placed more than 10 orders."
            ],
            "metadata": {
                "language": "sql",
                "azdata_cell_guid": "9c3d5847-76b6-4aa2-8197-58bde9b1d729"
            },
            "attachments": {}
        },
        {
            "cell_type": "code",
            "source": [
                "SET ANSI_NULLS ON\r\n",
                "GO\r\n",
                "SET QUOTED_IDENTIFIER ON\r\n",
                "GO\r\n",
                "DROP TABLE IF EXISTS [PHW4].[Customers]\r\n",
                "GO\r\n",
                "CREATE TABLE [PHW4].[Customers](\r\n",
                "\t[CustomerID] [int] NOT NULL,\r\n",
                "\t[CustomerName] [nvarchar](100) NOT NULL,\r\n",
                "\t[BillToCustomerID] [int] NOT NULL,\r\n",
                "\t[CustomerCategoryID] [int] NOT NULL,\r\n",
                "\t[BuyingGroupID] [int] NULL,\r\n",
                "\t[PrimaryContactPersonID] [int] NOT NULL,\r\n",
                "\t[AlternateContactPersonID] [int] NULL,\r\n",
                "\t[DeliveryMethodID] [int] NOT NULL,\r\n",
                "\t[DeliveryCityID] [int] NOT NULL,\r\n",
                "\t[PostalCityID] [int] NOT NULL,\r\n",
                "\t[CreditLimit] [decimal](18, 2) NULL,\r\n",
                "\t[AccountOpenedDate] [date] NOT NULL,\r\n",
                "\t[StandardDiscountPercentage] [decimal](18, 3) NOT NULL,\r\n",
                "\t[IsStatementSent] [bit] NOT NULL,\r\n",
                "\t[IsOnCreditHold] [bit] NOT NULL,\r\n",
                "\t[PaymentDays] [int] NOT NULL,\r\n",
                "\t[PhoneNumber] [nvarchar](20) NOT NULL,\r\n",
                "\t[FaxNumber] [nvarchar](20) NOT NULL,\r\n",
                "\t[DeliveryRun] [nvarchar](5) NULL,\r\n",
                "\t[RunPosition] [nvarchar](5) NULL,\r\n",
                "\t[WebsiteURL] [nvarchar](256) NOT NULL,\r\n",
                "\t[DeliveryAddressLine1] [nvarchar](60) NOT NULL,\r\n",
                "\t[DeliveryAddressLine2] [nvarchar](60) NULL,\r\n",
                "\t[DeliveryPostalCode] [nvarchar](10) NOT NULL,\r\n",
                "\t[DeliveryLocation] [geography] NULL,\r\n",
                "\t[PostalAddressLine1] [nvarchar](60) NOT NULL,\r\n",
                "\t[PostalAddressLine2] [nvarchar](60) NULL,\r\n",
                "\t[PostalPostalCode] [nvarchar](10) NOT NULL,\r\n",
                "\t[LastEditedBy] [int] NOT NULL,\r\n",
                "\t[ValidFrom] [datetime2](7) GENERATED ALWAYS AS ROW START NOT NULL,\r\n",
                "\t[ValidTo] [datetime2](7) GENERATED ALWAYS AS ROW END NOT NULL,\r\n",
                "\tPERIOD FOR SYSTEM_TIME ([ValidFrom], [ValidTo]),\r\n",
                "    CONSTRAINT PK_Customers PRIMARY KEY(CustomerID)\r\n",
                ") \r\n",
                "\r\n",
                "\r\n",
                "INSERT INTO PHW4.Customers\r\n",
                "(\r\n",
                "    CustomerID,\r\n",
                "    CustomerName,\r\n",
                "    BillToCustomerID,\r\n",
                "    CustomerCategoryID,\r\n",
                "    BuyingGroupID,\r\n",
                "    PrimaryContactPersonID,\r\n",
                "    AlternateContactPersonID,\r\n",
                "    DeliveryMethodID,\r\n",
                "    DeliveryCityID,\r\n",
                "    PostalCityID,\r\n",
                "    CreditLimit,\r\n",
                "    AccountOpenedDate,\r\n",
                "    StandardDiscountPercentage,\r\n",
                "    IsStatementSent,\r\n",
                "    IsOnCreditHold,\r\n",
                "    PaymentDays,\r\n",
                "    PhoneNumber,\r\n",
                "    FaxNumber,\r\n",
                "    DeliveryRun,\r\n",
                "    RunPosition,\r\n",
                "    WebsiteURL,\r\n",
                "    DeliveryAddressLine1,\r\n",
                "    DeliveryAddressLine2,\r\n",
                "    DeliveryPostalCode,\r\n",
                "    DeliveryLocation,\r\n",
                "    PostalAddressLine1,\r\n",
                "    PostalAddressLine2,\r\n",
                "    PostalPostalCode,\r\n",
                "    LastEditedBy\r\n",
                ")\r\n",
                "SELECT\r\n",
                "    CustomerID,\r\n",
                "    CustomerName,\r\n",
                "    BillToCustomerID,\r\n",
                "    CustomerCategoryID,\r\n",
                "    BuyingGroupID,\r\n",
                "    PrimaryContactPersonID,\r\n",
                "    AlternateContactPersonID,\r\n",
                "    DeliveryMethodID,\r\n",
                "    DeliveryCityID,\r\n",
                "    PostalCityID,\r\n",
                "    CreditLimit,\r\n",
                "    AccountOpenedDate,\r\n",
                "    StandardDiscountPercentage,\r\n",
                "    IsStatementSent,\r\n",
                "    IsOnCreditHold,\r\n",
                "    PaymentDays,\r\n",
                "    PhoneNumber,\r\n",
                "    FaxNumber,\r\n",
                "    DeliveryRun,\r\n",
                "    RunPosition,\r\n",
                "    WebsiteURL,\r\n",
                "    DeliveryAddressLine1,\r\n",
                "    DeliveryAddressLine2,\r\n",
                "    DeliveryPostalCode,\r\n",
                "    DeliveryLocation,\r\n",
                "    PostalAddressLine1,\r\n",
                "    PostalAddressLine2,\r\n",
                "    PostalPostalCode,\r\n",
                "    LastEditedBy\r\n",
                "FROM Sales.Customers;\r\n",
                ""
            ],
            "metadata": {
                "language": "sql",
                "azdata_cell_guid": "ad50d6b9-4a4f-4577-8eae-a35776348d51"
            },
            "outputs": [
                {
                    "output_type": "display_data",
                    "data": {
                        "text/html": "Commands completed successfully."
                    },
                    "metadata": {}
                },
                {
                    "output_type": "display_data",
                    "data": {
                        "text/html": "Commands completed successfully."
                    },
                    "metadata": {}
                },
                {
                    "output_type": "display_data",
                    "data": {
                        "text/html": "Commands completed successfully."
                    },
                    "metadata": {}
                },
                {
                    "output_type": "display_data",
                    "data": {
                        "text/html": "(663 rows affected)"
                    },
                    "metadata": {}
                },
                {
                    "output_type": "display_data",
                    "data": {
                        "text/html": "Total execution time: 00:00:00.049"
                    },
                    "metadata": {}
                }
            ],
            "execution_count": 42
        },
        {
            "cell_type": "code",
            "source": [
                "SELECT TOP(5) C.CustomerID, MAX(C.CreditLimit) as [CreditLimit]\r\n",
                "FROM PHW4.Customers as C \r\n",
                "INNER JOIN Sales.Orders as O ON C.CustomerID = O.CustomerID\r\n",
                "GROUP BY C.CustomerID\r\n",
                "HAVING COUNT(O.OrderID) > 10 AND MAX(C.CreditLimit) IS NOT NULL\r\n",
                "ORDER BY [CreditLimit]"
            ],
            "metadata": {
                "language": "sql",
                "azdata_cell_guid": "482015b7-f416-4f82-b8ae-f8cfbe4d865a"
            },
            "outputs": [
                {
                    "output_type": "display_data",
                    "data": {
                        "text/html": "Warning: Null value is eliminated by an aggregate or other SET operation."
                    },
                    "metadata": {}
                },
                {
                    "output_type": "display_data",
                    "data": {
                        "text/html": "(5 rows affected)"
                    },
                    "metadata": {}
                },
                {
                    "output_type": "display_data",
                    "data": {
                        "text/html": "Total execution time: 00:00:00.034"
                    },
                    "metadata": {}
                },
                {
                    "output_type": "execute_result",
                    "metadata": {},
                    "execution_count": 43,
                    "data": {
                        "application/vnd.dataresource+json": {
                            "schema": {
                                "fields": [
                                    {
                                        "name": "CustomerID"
                                    },
                                    {
                                        "name": "CreditLimit"
                                    }
                                ]
                            },
                            "data": [
                                {
                                    "CustomerID": "843",
                                    "CreditLimit": "1100.00"
                                },
                                {
                                    "CustomerID": "995",
                                    "CreditLimit": "1100.00"
                                },
                                {
                                    "CustomerID": "1021",
                                    "CreditLimit": "1100.00"
                                },
                                {
                                    "CustomerID": "937",
                                    "CreditLimit": "1155.00"
                                },
                                {
                                    "CustomerID": "818",
                                    "CreditLimit": "1155.00"
                                }
                            ]
                        },
                        "text/html": [
                            "<table>",
                            "<tr><th>CustomerID</th><th>CreditLimit</th></tr>",
                            "<tr><td>843</td><td>1100.00</td></tr>",
                            "<tr><td>995</td><td>1100.00</td></tr>",
                            "<tr><td>1021</td><td>1100.00</td></tr>",
                            "<tr><td>937</td><td>1155.00</td></tr>",
                            "<tr><td>818</td><td>1155.00</td></tr>",
                            "</table>"
                        ]
                    }
                }
            ],
            "execution_count": 43
        },
        {
            "cell_type": "code",
            "source": [
                "UPDATE C\r\n",
                "SET C.CreditLimit = C.CreditLimit * 1.1\r\n",
                "FROM PHW4.Customers AS C\r\n",
                "INNER JOIN(\r\n",
                "    SELECT CustomerID\r\n",
                "    FROM Sales.Orders\r\n",
                "    GROUP BY CustomerID\r\n",
                "    HAVING COUNT(OrderID) > 10\r\n",
                ") as O ON C.CustomerID = C.CustomerID\r\n",
                "\r\n",
                "\r\n",
                ""
            ],
            "metadata": {
                "language": "sql",
                "azdata_cell_guid": "9cdce3b7-c0a6-487a-bdfb-42bdfeba32a8"
            },
            "outputs": [
                {
                    "output_type": "display_data",
                    "data": {
                        "text/html": "(663 rows affected)"
                    },
                    "metadata": {}
                },
                {
                    "output_type": "display_data",
                    "data": {
                        "text/html": "Total execution time: 00:00:00.018"
                    },
                    "metadata": {}
                }
            ],
            "execution_count": 44
        },
        {
            "cell_type": "code",
            "source": [
                "SELECT TOP(5) C.CustomerID, MAX(C.CreditLimit) as [CreditLimit]\r\n",
                "FROM PHW4.Customers as C \r\n",
                "INNER JOIN Sales.Orders as O ON C.CustomerID = O.CustomerID\r\n",
                "GROUP BY C.CustomerID\r\n",
                "HAVING COUNT(O.OrderID) > 10 AND MAX(C.CreditLimit) IS NOT NULL\r\n",
                "ORDER BY [CreditLimit]"
            ],
            "metadata": {
                "language": "sql",
                "azdata_cell_guid": "f8a0adfe-da58-4ac3-8a61-bff6ab54eb34"
            },
            "outputs": [
                {
                    "output_type": "display_data",
                    "data": {
                        "text/html": "Warning: Null value is eliminated by an aggregate or other SET operation."
                    },
                    "metadata": {}
                },
                {
                    "output_type": "display_data",
                    "data": {
                        "text/html": "(5 rows affected)"
                    },
                    "metadata": {}
                },
                {
                    "output_type": "display_data",
                    "data": {
                        "text/html": "Total execution time: 00:00:00.022"
                    },
                    "metadata": {}
                },
                {
                    "output_type": "execute_result",
                    "metadata": {},
                    "execution_count": 45,
                    "data": {
                        "application/vnd.dataresource+json": {
                            "schema": {
                                "fields": [
                                    {
                                        "name": "CustomerID"
                                    },
                                    {
                                        "name": "CreditLimit"
                                    }
                                ]
                            },
                            "data": [
                                {
                                    "CustomerID": "843",
                                    "CreditLimit": "1210.00"
                                },
                                {
                                    "CustomerID": "995",
                                    "CreditLimit": "1210.00"
                                },
                                {
                                    "CustomerID": "1021",
                                    "CreditLimit": "1210.00"
                                },
                                {
                                    "CustomerID": "937",
                                    "CreditLimit": "1270.50"
                                },
                                {
                                    "CustomerID": "818",
                                    "CreditLimit": "1270.50"
                                }
                            ]
                        },
                        "text/html": [
                            "<table>",
                            "<tr><th>CustomerID</th><th>CreditLimit</th></tr>",
                            "<tr><td>843</td><td>1210.00</td></tr>",
                            "<tr><td>995</td><td>1210.00</td></tr>",
                            "<tr><td>1021</td><td>1210.00</td></tr>",
                            "<tr><td>937</td><td>1270.50</td></tr>",
                            "<tr><td>818</td><td>1270.50</td></tr>",
                            "</table>"
                        ]
                    }
                }
            ],
            "execution_count": 45
        },
        {
            "cell_type": "markdown",
            "source": [
                "## Proposition 3\n",
                "\n",
                "Discount the prices of the stock items by 40% for the products that have less than 100 holdings in inventory."
            ],
            "metadata": {
                "language": "sql",
                "azdata_cell_guid": "e27d6f3b-6f11-4476-b18e-3debf044145f"
            },
            "attachments": {}
        },
        {
            "cell_type": "code",
            "source": [
                "SELECT SI.StockItemID, SI.UnitPrice\r\n",
                "FROM Warehouse.StockItems as SI\r\n",
                "JOIN Warehouse.StockItemHoldings as SIH ON SI.StockItemID = SIH.StockItemID\r\n",
                "WHERE SIH.QuantityOnHand < 100"
            ],
            "metadata": {
                "language": "sql",
                "azdata_cell_guid": "4f03c2bb-5fff-4c95-81b8-f070b61a3099"
            },
            "outputs": [
                {
                    "output_type": "display_data",
                    "data": {
                        "text/html": "(9 rows affected)"
                    },
                    "metadata": {}
                },
                {
                    "output_type": "display_data",
                    "data": {
                        "text/html": "Total execution time: 00:00:00.012"
                    },
                    "metadata": {}
                },
                {
                    "output_type": "execute_result",
                    "metadata": {},
                    "execution_count": 52,
                    "data": {
                        "application/vnd.dataresource+json": {
                            "schema": {
                                "fields": [
                                    {
                                        "name": "StockItemID"
                                    },
                                    {
                                        "name": "UnitPrice"
                                    }
                                ]
                            },
                            "data": [
                                {
                                    "StockItemID": "77",
                                    "UnitPrice": "18.00"
                                },
                                {
                                    "StockItemID": "78",
                                    "UnitPrice": "18.00"
                                },
                                {
                                    "StockItemID": "80",
                                    "UnitPrice": "18.00"
                                },
                                {
                                    "StockItemID": "86",
                                    "UnitPrice": "18.00"
                                },
                                {
                                    "StockItemID": "95",
                                    "UnitPrice": "18.00"
                                },
                                {
                                    "StockItemID": "98",
                                    "UnitPrice": "18.00"
                                },
                                {
                                    "StockItemID": "184",
                                    "UnitPrice": "3.50"
                                },
                                {
                                    "StockItemID": "193",
                                    "UnitPrice": "3.70"
                                },
                                {
                                    "StockItemID": "204",
                                    "UnitPrice": "32.00"
                                }
                            ]
                        },
                        "text/html": [
                            "<table>",
                            "<tr><th>StockItemID</th><th>UnitPrice</th></tr>",
                            "<tr><td>77</td><td>18.00</td></tr>",
                            "<tr><td>78</td><td>18.00</td></tr>",
                            "<tr><td>80</td><td>18.00</td></tr>",
                            "<tr><td>86</td><td>18.00</td></tr>",
                            "<tr><td>95</td><td>18.00</td></tr>",
                            "<tr><td>98</td><td>18.00</td></tr>",
                            "<tr><td>184</td><td>3.50</td></tr>",
                            "<tr><td>193</td><td>3.70</td></tr>",
                            "<tr><td>204</td><td>32.00</td></tr>",
                            "</table>"
                        ]
                    }
                }
            ],
            "execution_count": 52
        },
        {
            "cell_type": "code",
            "source": [
                "UPDATE SI\r\n",
                "SET SI.UnitPrice = SI.UnitPrice *.60\r\n",
                "FROM Warehouse.StockItems as SI\r\n",
                "JOIN Warehouse.StockItemHoldings as SIH ON SI.StockItemID = SIH.StockItemID\r\n",
                "WHERE SIH.QuantityOnHand < 100\r\n",
                ""
            ],
            "metadata": {
                "language": "sql",
                "azdata_cell_guid": "b2102073-25f7-4a6f-b4e3-066f89bbf37c"
            },
            "outputs": [
                {
                    "output_type": "display_data",
                    "data": {
                        "text/html": "(9 rows affected)"
                    },
                    "metadata": {}
                },
                {
                    "output_type": "display_data",
                    "data": {
                        "text/html": "Total execution time: 00:00:00.011"
                    },
                    "metadata": {}
                }
            ],
            "execution_count": 53
        },
        {
            "cell_type": "code",
            "source": [
                "SELECT SI.StockItemID, SI.UnitPrice\r\n",
                "FROM Warehouse.StockItems as SI\r\n",
                "JOIN Warehouse.StockItemHoldings as SIH ON SI.StockItemID = SIH.StockItemID\r\n",
                "WHERE SIH.QuantityOnHand < 100"
            ],
            "metadata": {
                "language": "sql",
                "azdata_cell_guid": "69b7d45a-17f5-4c13-8cb9-0a1c101776f0"
            },
            "outputs": [
                {
                    "output_type": "display_data",
                    "data": {
                        "text/html": "(9 rows affected)"
                    },
                    "metadata": {}
                },
                {
                    "output_type": "display_data",
                    "data": {
                        "text/html": "Total execution time: 00:00:00.009"
                    },
                    "metadata": {}
                },
                {
                    "output_type": "execute_result",
                    "metadata": {},
                    "execution_count": 54,
                    "data": {
                        "application/vnd.dataresource+json": {
                            "schema": {
                                "fields": [
                                    {
                                        "name": "StockItemID"
                                    },
                                    {
                                        "name": "UnitPrice"
                                    }
                                ]
                            },
                            "data": [
                                {
                                    "StockItemID": "77",
                                    "UnitPrice": "10.80"
                                },
                                {
                                    "StockItemID": "78",
                                    "UnitPrice": "10.80"
                                },
                                {
                                    "StockItemID": "80",
                                    "UnitPrice": "10.80"
                                },
                                {
                                    "StockItemID": "86",
                                    "UnitPrice": "10.80"
                                },
                                {
                                    "StockItemID": "95",
                                    "UnitPrice": "10.80"
                                },
                                {
                                    "StockItemID": "98",
                                    "UnitPrice": "10.80"
                                },
                                {
                                    "StockItemID": "184",
                                    "UnitPrice": "2.10"
                                },
                                {
                                    "StockItemID": "193",
                                    "UnitPrice": "2.22"
                                },
                                {
                                    "StockItemID": "204",
                                    "UnitPrice": "19.20"
                                }
                            ]
                        },
                        "text/html": [
                            "<table>",
                            "<tr><th>StockItemID</th><th>UnitPrice</th></tr>",
                            "<tr><td>77</td><td>10.80</td></tr>",
                            "<tr><td>78</td><td>10.80</td></tr>",
                            "<tr><td>80</td><td>10.80</td></tr>",
                            "<tr><td>86</td><td>10.80</td></tr>",
                            "<tr><td>95</td><td>10.80</td></tr>",
                            "<tr><td>98</td><td>10.80</td></tr>",
                            "<tr><td>184</td><td>2.10</td></tr>",
                            "<tr><td>193</td><td>2.22</td></tr>",
                            "<tr><td>204</td><td>19.20</td></tr>",
                            "</table>"
                        ]
                    }
                }
            ],
            "execution_count": 54
        },
        {
            "cell_type": "markdown",
            "source": [
                "## Proposition 4\n",
                "\n",
                "Alter the `Customers` table to add a new column called `LoyaltyPoints`, which tracks points for each customer. Initialize all current records with a value of `0`."
            ],
            "metadata": {
                "language": "sql",
                "azdata_cell_guid": "8fbdbaff-1030-4769-8199-53344d6dd992"
            },
            "attachments": {}
        },
        {
            "cell_type": "code",
            "source": [
                "ALTER TABLE PHW4.Customers\r\n",
                "ADD LoyaltyPoints INT DEFAULT 0;"
            ],
            "metadata": {
                "language": "sql",
                "azdata_cell_guid": "d2aa6eb3-f039-468b-89fe-39b2ec36761f"
            },
            "outputs": [
                {
                    "output_type": "display_data",
                    "data": {
                        "text/html": "Commands completed successfully."
                    },
                    "metadata": {}
                },
                {
                    "output_type": "display_data",
                    "data": {
                        "text/html": "Total execution time: 00:00:00.007"
                    },
                    "metadata": {}
                }
            ],
            "execution_count": 55
        },
        {
            "cell_type": "markdown",
            "source": [
                "## Proposition 5\n",
                "\n",
                "Alter the `TopCustomers` Table to include a new colum called <span style=\"font-size: 12px;\">HighSpending&nbsp;</span> that is a boolean. Set a 'true' if the value is \\>300,000"
            ],
            "metadata": {
                "language": "sql",
                "azdata_cell_guid": "26b489f8-dcf2-477c-8f24-8ef7778eee09"
            },
            "attachments": {}
        },
        {
            "cell_type": "code",
            "source": [
                "ALTER TABLE PHW4.TopCustomers \r\n",
                "ADD HighSpending AS (CASE WHEN TotalSpent > 300000 THEN 1 ELSE 0 END);"
            ],
            "metadata": {
                "language": "sql",
                "azdata_cell_guid": "c5bdcf05-7153-449c-b9cf-b155d4830eb4"
            },
            "outputs": [
                {
                    "output_type": "display_data",
                    "data": {
                        "text/html": "Commands completed successfully."
                    },
                    "metadata": {}
                },
                {
                    "output_type": "display_data",
                    "data": {
                        "text/html": "Total execution time: 00:00:00.006"
                    },
                    "metadata": {}
                }
            ],
            "execution_count": 61
        },
        {
            "cell_type": "code",
            "source": [
                "SELECT TOP 5 * \r\n",
                "FROM PHW4.TopCustomers"
            ],
            "metadata": {
                "language": "sql",
                "azdata_cell_guid": "9374e58b-f27c-458a-aeff-6dd8d5917c37"
            },
            "outputs": [
                {
                    "output_type": "display_data",
                    "data": {
                        "text/html": "(5 rows affected)"
                    },
                    "metadata": {}
                },
                {
                    "output_type": "display_data",
                    "data": {
                        "text/html": "Total execution time: 00:00:00.010"
                    },
                    "metadata": {}
                },
                {
                    "output_type": "execute_result",
                    "metadata": {},
                    "execution_count": 62,
                    "data": {
                        "application/vnd.dataresource+json": {
                            "schema": {
                                "fields": [
                                    {
                                        "name": "CustomerID"
                                    },
                                    {
                                        "name": "CustomerName"
                                    },
                                    {
                                        "name": "TotalSpent"
                                    },
                                    {
                                        "name": "LastOrderDate"
                                    },
                                    {
                                        "name": "HighSpending"
                                    }
                                ]
                            },
                            "data": [
                                {
                                    "CustomerID": "1",
                                    "CustomerName": "Tailspin Toys (Head Office)",
                                    "TotalSpent": "315404",
                                    "LastOrderDate": "2016-05-27",
                                    "HighSpending": "1"
                                },
                                {
                                    "CustomerID": "2",
                                    "CustomerName": "Tailspin Toys (Sylvanite, MT)",
                                    "TotalSpent": "240817",
                                    "LastOrderDate": "2016-05-14",
                                    "HighSpending": "0"
                                },
                                {
                                    "CustomerID": "3",
                                    "CustomerName": "Tailspin Toys (Peeples Valley, AZ)",
                                    "TotalSpent": "317243",
                                    "LastOrderDate": "2016-05-30",
                                    "HighSpending": "1"
                                },
                                {
                                    "CustomerID": "4",
                                    "CustomerName": "Tailspin Toys (Medicine Lodge, KS)",
                                    "TotalSpent": "310903",
                                    "LastOrderDate": "2016-04-28",
                                    "HighSpending": "1"
                                },
                                {
                                    "CustomerID": "5",
                                    "CustomerName": "Tailspin Toys (Gasport, NY)",
                                    "TotalSpent": "264001",
                                    "LastOrderDate": "2016-05-28",
                                    "HighSpending": "0"
                                }
                            ]
                        },
                        "text/html": [
                            "<table>",
                            "<tr><th>CustomerID</th><th>CustomerName</th><th>TotalSpent</th><th>LastOrderDate</th><th>HighSpending</th></tr>",
                            "<tr><td>1</td><td>Tailspin Toys (Head Office)</td><td>315404</td><td>2016-05-27</td><td>1</td></tr>",
                            "<tr><td>2</td><td>Tailspin Toys (Sylvanite, MT)</td><td>240817</td><td>2016-05-14</td><td>0</td></tr>",
                            "<tr><td>3</td><td>Tailspin Toys (Peeples Valley, AZ)</td><td>317243</td><td>2016-05-30</td><td>1</td></tr>",
                            "<tr><td>4</td><td>Tailspin Toys (Medicine Lodge, KS)</td><td>310903</td><td>2016-04-28</td><td>1</td></tr>",
                            "<tr><td>5</td><td>Tailspin Toys (Gasport, NY)</td><td>264001</td><td>2016-05-28</td><td>0</td></tr>",
                            "</table>"
                        ]
                    }
                }
            ],
            "execution_count": 62
        }
    ]
}