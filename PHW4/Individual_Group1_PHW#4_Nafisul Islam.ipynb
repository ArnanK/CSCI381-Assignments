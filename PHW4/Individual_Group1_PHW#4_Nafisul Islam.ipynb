{
    "metadata": {
        "kernelspec": {
            "name": "SQL",
            "display_name": "SQL",
            "language": "sql"
        },
        "language_info": {
            "name": "sql",
            "version": ""
        }
    },
    "nbformat_minor": 2,
    "nbformat": 4,
    "cells": [
        {
            "cell_type": "markdown",
            "source": [
                "# **NAFISUL ISLAM**\n",
                "\n",
                "## **Individual\\_GroupNumber#1\\_PHW#4-Data Modification**\n",
                "\n",
                "# 10 Custom Proposition\n",
                "\n",
                "# Chat-GPT was used to Create the Proposition"
            ],
            "metadata": {
                "azdata_cell_guid": "5da90402-73f4-40c7-83de-804d41cfa09b"
            },
            "attachments": {}
        },
        {
            "cell_type": "markdown",
            "source": [
                "### **1st Proposition**\n",
                "\n",
                "This query creates a streamlined `dbo.Customers` table in the `WideWorldImporters` database, capturing only active customers who have placed orders. It proceeds through the following steps:\n",
                "\n",
                "1. **Table Preparation**: Drops the existing `dbo.Customers` table if it exists, ensuring a fresh structure each time.\n",
                "2. **Table Creation**: Defines a new `dbo.Customers` table with `CustomerID`, `CustomerName`, and `City` columns. This table is designed to store essential customer information and location.\n",
                "3. **Data Insertion with Filtering**: Populates the table with unique customer records from `Sales.Customers`, but only includes customers who have active orders, as verified through a subquery in `Sales.Orders`.\n",
                "4. **Data Verification**: Retrieves and displays all records in the `dbo.Customers` table, allowing verification of the inserted data.\n",
                "\n",
                "### Business Perspective\n",
                "\n",
                "This query offers several benefits:\n",
                "\n",
                "- **Focuses on Active Customers**: By including only customers with orders, it provides a focused dataset for active customer analysis, enhancing data relevancy for marketing, customer support, and sales strategies.\n",
                "- **Optimizes Data for Targeted Operations**: Storing only essential customer data (name and city) simplifies and speeds up queries, making it easier to perform regional marketing analysis or tailor communications by location.\n",
                "- **Enhances Data Organization**: Creating a dedicated table for active customers allows the business to separate engaged customers from those without transactions, leading to better segmentation, reduced data redundancy, and improved decision-making.\n",
                "\n",
                "This approach results in a clean, actionable dataset specifically designed to meet business needs for customer engagement, geographic analysis, and efficient resource allocation.\n",
                ""
            ],
            "metadata": {
                "azdata_cell_guid": "15fc69eb-dbab-483b-a337-385287c67f0e"
            },
            "attachments": {}
        },
        {
            "cell_type": "code",
            "source": [
                "USE [WideWorldImporters];\n",
                "GO\n",
                "\n",
                "DROP TABLE IF EXISTS dbo.Customers;\n",
                "\n",
                "CREATE TABLE dbo.Customers\n",
                "(\n",
                "  CustomerID      INT          NOT NULL PRIMARY KEY,\n",
                "  CustomerName    NVARCHAR(100) NOT NULL,\n",
                "  City            NVARCHAR(50) NOT NULL\n",
                ");\n",
                "\n",
                "INSERT INTO dbo.Customers (CustomerID, CustomerName, City)\n",
                "SELECT DISTINCT C.CustomerID, C.CustomerName, CAST(C.DeliveryCityID AS NVARCHAR(50)) AS City\n",
                "FROM Sales.Customers AS C\n",
                "WHERE EXISTS (SELECT 1 FROM Sales.Orders AS O WHERE O.CustomerID = C.CustomerID);\n",
                "\n",
                "SELECT * FROM dbo.Customers"
            ],
            "metadata": {
                "azdata_cell_guid": "83a41970-35ad-4d5a-9adb-e90c970212f9",
                "language": "sql"
            },
            "outputs": [
                {
                    "output_type": "display_data",
                    "data": {
                        "text/html": "Commands completed successfully."
                    },
                    "metadata": {}
                },
                {
                    "output_type": "display_data",
                    "data": {
                        "text/html": "(663 rows affected)"
                    },
                    "metadata": {}
                },
                {
                    "output_type": "display_data",
                    "data": {
                        "text/html": "(663 rows affected)"
                    },
                    "metadata": {}
                },
                {
                    "output_type": "display_data",
                    "data": {
                        "text/html": "Total execution time: 00:00:00.075"
                    },
                    "metadata": {}
                },
                {
                    "output_type": "execute_result",
                    "metadata": {},
                    "execution_count": 2,
                    "data": {
                        "application/vnd.dataresource+json": {
                            "schema": {
                                "fields": [
                                    {
                                        "name": "CustomerID"
                                    },
                                    {
                                        "name": "CustomerName"
                                    },
                                    {
                                        "name": "City"
                                    }
                                ]
                            },
                            "data": [
                                {
                                    "CustomerID": "1",
                                    "CustomerName": "Tailspin Toys (Head Office)",
                                    "City": "19586"
                                },
                                {
                                    "CustomerID": "2",
                                    "CustomerName": "Tailspin Toys (Sylvanite, MT)",
                                    "City": "33475"
                                },
                                {
                                    "CustomerID": "3",
                                    "CustomerName": "Tailspin Toys (Peeples Valley, AZ)",
                                    "City": "26483"
                                },
                                {
                                    "CustomerID": "4",
                                    "CustomerName": "Tailspin Toys (Medicine Lodge, KS)",
                                    "City": "21692"
                                },
                                {
                                    "CustomerID": "5",
                                    "CustomerName": "Tailspin Toys (Gasport, NY)",
                                    "City": "12748"
                                },
                                {
                                    "CustomerID": "6",
                                    "CustomerName": "Tailspin Toys (Jessie, ND)",
                                    "City": "17054"
                                },
                                {
                                    "CustomerID": "7",
                                    "CustomerName": "Tailspin Toys (Frankewing, TN)",
                                    "City": "12152"
                                },
                                {
                                    "CustomerID": "8",
                                    "CustomerName": "Tailspin Toys (Bow Mar, CO)",
                                    "City": "3673"
                                },
                                {
                                    "CustomerID": "9",
                                    "CustomerName": "Tailspin Toys (Netcong, NJ)",
                                    "City": "23805"
                                },
                                {
                                    "CustomerID": "10",
                                    "CustomerName": "Tailspin Toys (Wimbledon, ND)",
                                    "City": "37403"
                                },
                                {
                                    "CustomerID": "11",
                                    "CustomerName": "Tailspin Toys (Devault, PA)",
                                    "City": "8987"
                                },
                                {
                                    "CustomerID": "12",
                                    "CustomerName": "Tailspin Toys (Biscay, MN)",
                                    "City": "3081"
                                },
                                {
                                    "CustomerID": "13",
                                    "CustomerName": "Tailspin Toys (Stonefort, IL)",
                                    "City": "32887"
                                },
                                {
                                    "CustomerID": "14",
                                    "CustomerName": "Tailspin Toys (Long Meadow, MD)",
                                    "City": "19908"
                                },
                                {
                                    "CustomerID": "15",
                                    "CustomerName": "Tailspin Toys (Batson, TX)",
                                    "City": "2111"
                                },
                                {
                                    "CustomerID": "16",
                                    "CustomerName": "Tailspin Toys (Coney Island, MO)",
                                    "City": "7409"
                                },
                                {
                                    "CustomerID": "17",
                                    "CustomerName": "Tailspin Toys (East Fultonham, OH)",
                                    "City": "9791"
                                },
                                {
                                    "CustomerID": "18",
                                    "CustomerName": "Tailspin Toys (Goffstown, NH)",
                                    "City": "13304"
                                },
                                {
                                    "CustomerID": "19",
                                    "CustomerName": "Tailspin Toys (Lemeta, AK)",
                                    "City": "19124"
                                },
                                {
                                    "CustomerID": "20",
                                    "CustomerName": "Tailspin Toys (College Place, WA)",
                                    "City": "7160"
                                },
                                {
                                    "CustomerID": "21",
                                    "CustomerName": "Tailspin Toys (Tresckow, PA)",
                                    "City": "34403"
                                },
                                {
                                    "CustomerID": "22",
                                    "CustomerName": "Tailspin Toys (Ward Ridge, FL)",
                                    "City": "35844"
                                },
                                {
                                    "CustomerID": "23",
                                    "CustomerName": "Tailspin Toys (Ikatan, AK)",
                                    "City": "16411"
                                },
                                {
                                    "CustomerID": "24",
                                    "CustomerName": "Tailspin Toys (Dundarrach, NC)",
                                    "City": "9524"
                                },
                                {
                                    "CustomerID": "25",
                                    "CustomerName": "Tailspin Toys (Avenal, CA)",
                                    "City": "1604"
                                },
                                {
                                    "CustomerID": "26",
                                    "CustomerName": "Tailspin Toys (Hedrick, IA)",
                                    "City": "15102"
                                },
                                {
                                    "CustomerID": "27",
                                    "CustomerName": "Tailspin Toys (Bowlus, MN)",
                                    "City": "3707"
                                },
                                {
                                    "CustomerID": "28",
                                    "CustomerName": "Tailspin Toys (North Ridge, NY)",
                                    "City": "24700"
                                },
                                {
                                    "CustomerID": "29",
                                    "CustomerName": "Tailspin Toys (Eulaton, AL)",
                                    "City": "10910"
                                },
                                {
                                    "CustomerID": "30",
                                    "CustomerName": "Tailspin Toys (Koontzville, WA)",
                                    "City": "17999"
                                },
                                {
                                    "CustomerID": "31",
                                    "CustomerName": "Tailspin Toys (Lake Stevens, WA)",
                                    "City": "18460"
                                },
                                {
                                    "CustomerID": "32",
                                    "CustomerName": "Tailspin Toys (Maypearl, TX)",
                                    "City": "21367"
                                },
                                {
                                    "CustomerID": "33",
                                    "CustomerName": "Tailspin Toys (Boyden Arbor, SC)",
                                    "City": "3736"
                                },
                                {
                                    "CustomerID": "34",
                                    "CustomerName": "Tailspin Toys (Dallardsville, TX)",
                                    "City": "8375"
                                },
                                {
                                    "CustomerID": "35",
                                    "CustomerName": "Tailspin Toys (Slanesville, WV)",
                                    "City": "31758"
                                },
                                {
                                    "CustomerID": "36",
                                    "CustomerName": "Tailspin Toys (Ekron, KY)",
                                    "City": "10193"
                                },
                                {
                                    "CustomerID": "37",
                                    "CustomerName": "Tailspin Toys (Kerby, OR)",
                                    "City": "17591"
                                },
                                {
                                    "CustomerID": "38",
                                    "CustomerName": "Tailspin Toys (Airport Drive, MO)",
                                    "City": "232"
                                },
                                {
                                    "CustomerID": "39",
                                    "CustomerName": "Tailspin Toys (Diablock, KY)",
                                    "City": "9040"
                                },
                                {
                                    "CustomerID": "40",
                                    "CustomerName": "Tailspin Toys (Impact, TX)",
                                    "City": "16433"
                                },
                                {
                                    "CustomerID": "41",
                                    "CustomerName": "Tailspin Toys (Olivette, MO)",
                                    "City": "25376"
                                },
                                {
                                    "CustomerID": "42",
                                    "CustomerName": "Tailspin Toys (Arietta, NY)",
                                    "City": "1132"
                                },
                                {
                                    "CustomerID": "43",
                                    "CustomerName": "Tailspin Toys (Upper Preston, WA)",
                                    "City": "34910"
                                },
                                {
                                    "CustomerID": "44",
                                    "CustomerName": "Tailspin Toys (Amanda Park, WA)",
                                    "City": "696"
                                },
                                {
                                    "CustomerID": "45",
                                    "CustomerName": "Tailspin Toys (Severna Park, MD)",
                                    "City": "31104"
                                },
                                {
                                    "CustomerID": "46",
                                    "CustomerName": "Tailspin Toys (Jemison, AL)",
                                    "City": "16992"
                                },
                                {
                                    "CustomerID": "47",
                                    "CustomerName": "Tailspin Toys (Lake Hughes, CA)",
                                    "City": "18375"
                                },
                                {
                                    "CustomerID": "48",
                                    "CustomerName": "Tailspin Toys (Trentwood, WA)",
                                    "City": "34400"
                                },
                                {
                                    "CustomerID": "49",
                                    "CustomerName": "Tailspin Toys (Muir, MI)",
                                    "City": "23396"
                                },
                                {
                                    "CustomerID": "50",
                                    "CustomerName": "Tailspin Toys (Hambleton, WV)",
                                    "City": "14380"
                                },
                                {
                                    "CustomerID": "51",
                                    "CustomerName": "Tailspin Toys (Imlaystown, NJ)",
                                    "City": "16430"
                                },
                                {
                                    "CustomerID": "52",
                                    "CustomerName": "Tailspin Toys (Idria, CA)",
                                    "City": "16401"
                                },
                                {
                                    "CustomerID": "53",
                                    "CustomerName": "Tailspin Toys (Nanafalia, AL)",
                                    "City": "23560"
                                },
                                {
                                    "CustomerID": "54",
                                    "CustomerName": "Tailspin Toys (Railroad, PA)",
                                    "City": "28222"
                                },
                                {
                                    "CustomerID": "55",
                                    "CustomerName": "Tailspin Toys (Gum Branch, GA)",
                                    "City": "14194"
                                },
                                {
                                    "CustomerID": "56",
                                    "CustomerName": "Tailspin Toys (Royal City, WA)",
                                    "City": "29729"
                                },
                                {
                                    "CustomerID": "57",
                                    "CustomerName": "Tailspin Toys (Lakemore, OH)",
                                    "City": "18514"
                                },
                                {
                                    "CustomerID": "58",
                                    "CustomerName": "Tailspin Toys (Mappsburg, VA)",
                                    "City": "20868"
                                },
                                {
                                    "CustomerID": "59",
                                    "CustomerName": "Tailspin Toys (Edgartown, MA)",
                                    "City": "10055"
                                },
                                {
                                    "CustomerID": "60",
                                    "CustomerName": "Tailspin Toys (East Dailey, WV)",
                                    "City": "9772"
                                },
                                {
                                    "CustomerID": "61",
                                    "CustomerName": "Tailspin Toys (Fairfield Glade, TN)",
                                    "City": "11131"
                                },
                                {
                                    "CustomerID": "62",
                                    "CustomerName": "Tailspin Toys (Great Neck Estates, NY)",
                                    "City": "13800"
                                },
                                {
                                    "CustomerID": "63",
                                    "CustomerName": "Tailspin Toys (Stallion Springs, CA)",
                                    "City": "32561"
                                },
                                {
                                    "CustomerID": "64",
                                    "CustomerName": "Tailspin Toys (Hodgdon, ME)",
                                    "City": "15646"
                                },
                                {
                                    "CustomerID": "65",
                                    "CustomerName": "Tailspin Toys (North Cowden, TX)",
                                    "City": "24579"
                                },
                                {
                                    "CustomerID": "66",
                                    "CustomerName": "Tailspin Toys (Madaket, MA)",
                                    "City": "20475"
                                },
                                {
                                    "CustomerID": "67",
                                    "CustomerName": "Tailspin Toys (Sentinel Butte, ND)",
                                    "City": "31075"
                                },
                                {
                                    "CustomerID": "68",
                                    "CustomerName": "Tailspin Toys (Gardere, LA)",
                                    "City": "12653"
                                },
                                {
                                    "CustomerID": "69",
                                    "CustomerName": "Tailspin Toys (Lytle Creek, CA)",
                                    "City": "20413"
                                },
                                {
                                    "CustomerID": "70",
                                    "CustomerName": "Tailspin Toys (New Baden, IL)",
                                    "City": "23843"
                                },
                                {
                                    "CustomerID": "71",
                                    "CustomerName": "Tailspin Toys (Good Hart, MI)",
                                    "City": "13375"
                                },
                                {
                                    "CustomerID": "72",
                                    "CustomerName": "Tailspin Toys (Cortaro, AZ)",
                                    "City": "7672"
                                },
                                {
                                    "CustomerID": "73",
                                    "CustomerName": "Tailspin Toys (Cokato, MN)",
                                    "City": "7071"
                                },
                                {
                                    "CustomerID": "74",
                                    "CustomerName": "Tailspin Toys (Indios, PR)",
                                    "City": "16520"
                                },
                                {
                                    "CustomerID": "75",
                                    "CustomerName": "Tailspin Toys (Windsor Locks, CT)",
                                    "City": "37473"
                                },
                                {
                                    "CustomerID": "76",
                                    "CustomerName": "Tailspin Toys (Yewed, OK)",
                                    "City": "38042"
                                },
                                {
                                    "CustomerID": "77",
                                    "CustomerName": "Tailspin Toys (Hahira, GA)",
                                    "City": "14287"
                                },
                                {
                                    "CustomerID": "78",
                                    "CustomerName": "Tailspin Toys (Sekiu, WA)",
                                    "City": "31010"
                                },
                                {
                                    "CustomerID": "79",
                                    "CustomerName": "Tailspin Toys (Page City, KS)",
                                    "City": "25933"
                                },
                                {
                                    "CustomerID": "80",
                                    "CustomerName": "Tailspin Toys (Valdese, NC)",
                                    "City": "34990"
                                },
                                {
                                    "CustomerID": "81",
                                    "CustomerName": "Tailspin Toys (Big Moose, NY)",
                                    "City": "2971"
                                },
                                {
                                    "CustomerID": "82",
                                    "CustomerName": "Tailspin Toys (La Cueva, NM)",
                                    "City": "18087"
                                },
                                {
                                    "CustomerID": "83",
                                    "CustomerName": "Tailspin Toys (Absecon, NJ)",
                                    "City": "49"
                                },
                                {
                                    "CustomerID": "84",
                                    "CustomerName": "Tailspin Toys (Aceitunas, PR)",
                                    "City": "58"
                                },
                                {
                                    "CustomerID": "85",
                                    "CustomerName": "Tailspin Toys (Andrix, CO)",
                                    "City": "843"
                                },
                                {
                                    "CustomerID": "86",
                                    "CustomerName": "Tailspin Toys (New Lexington, OH)",
                                    "City": "24014"
                                },
                                {
                                    "CustomerID": "87",
                                    "CustomerName": "Tailspin Toys (Sauquoit, NY)",
                                    "City": "30698"
                                },
                                {
                                    "CustomerID": "88",
                                    "CustomerName": "Tailspin Toys (Dracut, MA)",
                                    "City": "9379"
                                },
                                {
                                    "CustomerID": "89",
                                    "CustomerName": "Tailspin Toys (Victory Gardens, NJ)",
                                    "City": "35344"
                                },
                                {
                                    "CustomerID": "90",
                                    "CustomerName": "Tailspin Toys (Tolna, ND)",
                                    "City": "34192"
                                },
                                {
                                    "CustomerID": "91",
                                    "CustomerName": "Tailspin Toys (Alstead, NH)",
                                    "City": "600"
                                },
                                {
                                    "CustomerID": "92",
                                    "CustomerName": "Tailspin Toys (Sans Souci, SC)",
                                    "City": "30548"
                                },
                                {
                                    "CustomerID": "93",
                                    "CustomerName": "Tailspin Toys (Clewiston, FL)",
                                    "City": "6809"
                                },
                                {
                                    "CustomerID": "94",
                                    "CustomerName": "Tailspin Toys (Cheyenne Wells, CO)",
                                    "City": "6327"
                                },
                                {
                                    "CustomerID": "95",
                                    "CustomerName": "Tailspin Toys (Lavon, TX)",
                                    "City": "18882"
                                },
                                {
                                    "CustomerID": "96",
                                    "CustomerName": "Tailspin Toys (South La Paloma, TX)",
                                    "City": "32124"
                                },
                                {
                                    "CustomerID": "97",
                                    "CustomerName": "Tailspin Toys (Manchester Center, VT)",
                                    "City": "20710"
                                },
                                {
                                    "CustomerID": "98",
                                    "CustomerName": "Tailspin Toys (El Centro, CA)",
                                    "City": "10199"
                                },
                                {
                                    "CustomerID": "99",
                                    "CustomerName": "Tailspin Toys (Guin, AL)",
                                    "City": "14173"
                                },
                                {
                                    "CustomerID": "100",
                                    "CustomerName": "Tailspin Toys (Tunnelhill, PA)",
                                    "City": "34584"
                                },
                                {
                                    "CustomerID": "101",
                                    "CustomerName": "Tailspin Toys (Cundiyo, NM)",
                                    "City": "8227"
                                },
                                {
                                    "CustomerID": "102",
                                    "CustomerName": "Tailspin Toys (Fieldbrook, CA)",
                                    "City": "11520"
                                },
                                {
                                    "CustomerID": "103",
                                    "CustomerName": "Tailspin Toys (Kalvesta, KS)",
                                    "City": "17306"
                                },
                                {
                                    "CustomerID": "104",
                                    "CustomerName": "Tailspin Toys (Wallagrass, ME)",
                                    "City": "35712"
                                },
                                {
                                    "CustomerID": "105",
                                    "CustomerName": "Tailspin Toys (Tomnolen, MS)",
                                    "City": "34208"
                                },
                                {
                                    "CustomerID": "106",
                                    "CustomerName": "Tailspin Toys (Tumacacori, AZ)",
                                    "City": "34568"
                                },
                                {
                                    "CustomerID": "107",
                                    "CustomerName": "Tailspin Toys (Glen Avon, CA)",
                                    "City": "13109"
                                },
                                {
                                    "CustomerID": "108",
                                    "CustomerName": "Tailspin Toys (Bernie, MO)",
                                    "City": "2789"
                                },
                                {
                                    "CustomerID": "109",
                                    "CustomerName": "Tailspin Toys (South Laguna, CA)",
                                    "City": "32126"
                                },
                                {
                                    "CustomerID": "110",
                                    "CustomerName": "Tailspin Toys (North Crows Nest, IN)",
                                    "City": "24583"
                                },
                                {
                                    "CustomerID": "111",
                                    "CustomerName": "Tailspin Toys (Oriole Beach, FL)",
                                    "City": "25595"
                                },
                                {
                                    "CustomerID": "112",
                                    "CustomerName": "Tailspin Toys (Sallyards, KS)",
                                    "City": "30288"
                                },
                                {
                                    "CustomerID": "113",
                                    "CustomerName": "Tailspin Toys (Dahlia, NM)",
                                    "City": "8337"
                                },
                                {
                                    "CustomerID": "114",
                                    "CustomerName": "Tailspin Toys (Cherry Grove Beach, SC)",
                                    "City": "6221"
                                },
                                {
                                    "CustomerID": "115",
                                    "CustomerName": "Tailspin Toys (Bethania, NC)",
                                    "City": "2838"
                                },
                                {
                                    "CustomerID": "116",
                                    "CustomerName": "Tailspin Toys (Rafael Capó, PR)",
                                    "City": "28210"
                                },
                                {
                                    "CustomerID": "117",
                                    "CustomerName": "Tailspin Toys (Scofield, UT)",
                                    "City": "30839"
                                },
                                {
                                    "CustomerID": "118",
                                    "CustomerName": "Tailspin Toys (Vassalboro, ME)",
                                    "City": "35160"
                                },
                                {
                                    "CustomerID": "119",
                                    "CustomerName": "Tailspin Toys (Statenville, GA)",
                                    "City": "32688"
                                },
                                {
                                    "CustomerID": "120",
                                    "CustomerName": "Tailspin Toys (Bratenahl, OH)",
                                    "City": "3893"
                                },
                                {
                                    "CustomerID": "121",
                                    "CustomerName": "Tailspin Toys (Elrosa, MN)",
                                    "City": "10561"
                                },
                                {
                                    "CustomerID": "122",
                                    "CustomerName": "Tailspin Toys (McClave, CO)",
                                    "City": "21439"
                                },
                                {
                                    "CustomerID": "123",
                                    "CustomerName": "Tailspin Toys (Roe Park, NY)",
                                    "City": "29371"
                                },
                                {
                                    "CustomerID": "124",
                                    "CustomerName": "Tailspin Toys (Hanoverton, OH)",
                                    "City": "14556"
                                },
                                {
                                    "CustomerID": "125",
                                    "CustomerName": "Tailspin Toys (Annamoriah, WV)",
                                    "City": "890"
                                },
                                {
                                    "CustomerID": "126",
                                    "CustomerName": "Tailspin Toys (Francis Mills, NJ)",
                                    "City": "12142"
                                },
                                {
                                    "CustomerID": "127",
                                    "CustomerName": "Tailspin Toys (Point Roberts, WA)",
                                    "City": "27424"
                                },
                                {
                                    "CustomerID": "128",
                                    "CustomerName": "Tailspin Toys (East Portal, CO)",
                                    "City": "9884"
                                },
                                {
                                    "CustomerID": "129",
                                    "CustomerName": "Tailspin Toys (Mineral Hills, MI)",
                                    "City": "22430"
                                },
                                {
                                    "CustomerID": "130",
                                    "CustomerName": "Tailspin Toys (Maple Shade, NJ)",
                                    "City": "20846"
                                },
                                {
                                    "CustomerID": "131",
                                    "CustomerName": "Tailspin Toys (Kwethluk, AK)",
                                    "City": "18058"
                                },
                                {
                                    "CustomerID": "132",
                                    "CustomerName": "Tailspin Toys (Minidoka, ID)",
                                    "City": "22453"
                                },
                                {
                                    "CustomerID": "133",
                                    "CustomerName": "Tailspin Toys (Lake Erie Beach, NY)",
                                    "City": "18346"
                                },
                                {
                                    "CustomerID": "134",
                                    "CustomerName": "Tailspin Toys (Tavares, FL)",
                                    "City": "33660"
                                },
                                {
                                    "CustomerID": "135",
                                    "CustomerName": "Tailspin Toys (Terre du Lac, MO)",
                                    "City": "33806"
                                },
                                {
                                    "CustomerID": "136",
                                    "CustomerName": "Tailspin Toys (Mount Montgomery, NV)",
                                    "City": "23229"
                                },
                                {
                                    "CustomerID": "137",
                                    "CustomerName": "Tailspin Toys (Carbonville, UT)",
                                    "City": "5304"
                                },
                                {
                                    "CustomerID": "138",
                                    "CustomerName": "Tailspin Toys (Navassa, NC)",
                                    "City": "23687"
                                },
                                {
                                    "CustomerID": "139",
                                    "CustomerName": "Tailspin Toys (Hardeeville, SC)",
                                    "City": "14596"
                                },
                                {
                                    "CustomerID": "140",
                                    "CustomerName": "Tailspin Toys (Furley, KS)",
                                    "City": "12483"
                                },
                                {
                                    "CustomerID": "141",
                                    "CustomerName": "Tailspin Toys (Arrow Rock, MO)",
                                    "City": "1244"
                                },
                                {
                                    "CustomerID": "142",
                                    "CustomerName": "Tailspin Toys (King Cove, AK)",
                                    "City": "17742"
                                },
                                {
                                    "CustomerID": "143",
                                    "CustomerName": "Tailspin Toys (Ashtabula, OH)",
                                    "City": "1343"
                                },
                                {
                                    "CustomerID": "144",
                                    "CustomerName": "Tailspin Toys (Larose, LA)",
                                    "City": "18772"
                                },
                                {
                                    "CustomerID": "145",
                                    "CustomerName": "Tailspin Toys (Manahawkin, NJ)",
                                    "City": "20672"
                                },
                                {
                                    "CustomerID": "146",
                                    "CustomerName": "Tailspin Toys (Belgreen, AL)",
                                    "City": "2425"
                                },
                                {
                                    "CustomerID": "147",
                                    "CustomerName": "Tailspin Toys (Fishtail, MT)",
                                    "City": "11597"
                                },
                                {
                                    "CustomerID": "148",
                                    "CustomerName": "Tailspin Toys (Baraboo, WI)",
                                    "City": "1904"
                                },
                                {
                                    "CustomerID": "149",
                                    "CustomerName": "Tailspin Toys (Inguadona, MN)",
                                    "City": "16557"
                                },
                                {
                                    "CustomerID": "150",
                                    "CustomerName": "Tailspin Toys (Corfu, NY)",
                                    "City": "7594"
                                },
                                {
                                    "CustomerID": "151",
                                    "CustomerName": "Tailspin Toys (Antares, AZ)",
                                    "City": "928"
                                },
                                {
                                    "CustomerID": "152",
                                    "CustomerName": "Tailspin Toys (Sun River, MT)",
                                    "City": "33227"
                                },
                                {
                                    "CustomerID": "153",
                                    "CustomerName": "Tailspin Toys (Marcell, MN)",
                                    "City": "20901"
                                },
                                {
                                    "CustomerID": "154",
                                    "CustomerName": "Tailspin Toys (Eden Valley, MN)",
                                    "City": "10043"
                                },
                                {
                                    "CustomerID": "155",
                                    "CustomerName": "Tailspin Toys (Arbor Vitae, WI)",
                                    "City": "1040"
                                },
                                {
                                    "CustomerID": "156",
                                    "CustomerName": "Tailspin Toys (Hollywood Park, TX)",
                                    "City": "15783"
                                },
                                {
                                    "CustomerID": "157",
                                    "CustomerName": "Tailspin Toys (Saks, AL)",
                                    "City": "30216"
                                },
                                {
                                    "CustomerID": "158",
                                    "CustomerName": "Tailspin Toys (Donner, LA)",
                                    "City": "9237"
                                },
                                {
                                    "CustomerID": "159",
                                    "CustomerName": "Tailspin Toys (Saint Louis Park, MN)",
                                    "City": "30132"
                                },
                                {
                                    "CustomerID": "160",
                                    "CustomerName": "Tailspin Toys (Crary, ND)",
                                    "City": "7914"
                                },
                                {
                                    "CustomerID": "161",
                                    "CustomerName": "Tailspin Toys (Aspen Park, CO)",
                                    "City": "1366"
                                },
                                {
                                    "CustomerID": "162",
                                    "CustomerName": "Tailspin Toys (Glen Park, NY)",
                                    "City": "13136"
                                },
                                {
                                    "CustomerID": "163",
                                    "CustomerName": "Tailspin Toys (Panaca, NV)",
                                    "City": "26076"
                                },
                                {
                                    "CustomerID": "164",
                                    "CustomerName": "Tailspin Toys (Rothsville, PA)",
                                    "City": "29651"
                                },
                                {
                                    "CustomerID": "165",
                                    "CustomerName": "Tailspin Toys (Topstone, CT)",
                                    "City": "34256"
                                },
                                {
                                    "CustomerID": "166",
                                    "CustomerName": "Tailspin Toys (McCamey, TX)",
                                    "City": "21431"
                                },
                                {
                                    "CustomerID": "167",
                                    "CustomerName": "Tailspin Toys (Rockwall, TX)",
                                    "City": "29320"
                                },
                                {
                                    "CustomerID": "168",
                                    "CustomerName": "Tailspin Toys (Seagraves, TX)",
                                    "City": "30926"
                                },
                                {
                                    "CustomerID": "169",
                                    "CustomerName": "Tailspin Toys (Sinclair, WY)",
                                    "City": "31685"
                                },
                                {
                                    "CustomerID": "170",
                                    "CustomerName": "Tailspin Toys (Eastchester, NY)",
                                    "City": "9932"
                                },
                                {
                                    "CustomerID": "171",
                                    "CustomerName": "Tailspin Toys (Ortley Beach, NJ)",
                                    "City": "25653"
                                },
                                {
                                    "CustomerID": "172",
                                    "CustomerName": "Tailspin Toys (Madrone, NM)",
                                    "City": "20535"
                                },
                                {
                                    "CustomerID": "173",
                                    "CustomerName": "Tailspin Toys (Wappingers Falls, NY)",
                                    "City": "35833"
                                },
                                {
                                    "CustomerID": "174",
                                    "CustomerName": "Tailspin Toys (Astor Park, FL)",
                                    "City": "1380"
                                },
                                {
                                    "CustomerID": "175",
                                    "CustomerName": "Tailspin Toys (San Acacia, NM)",
                                    "City": "30342"
                                },
                                {
                                    "CustomerID": "176",
                                    "CustomerName": "Tailspin Toys (Malott, WA)",
                                    "City": "20642"
                                },
                                {
                                    "CustomerID": "177",
                                    "CustomerName": "Tailspin Toys (Orrtanna, PA)",
                                    "City": "25646"
                                },
                                {
                                    "CustomerID": "178",
                                    "CustomerName": "Tailspin Toys (Armstrong Creek, WI)",
                                    "City": "1207"
                                },
                                {
                                    "CustomerID": "179",
                                    "CustomerName": "Tailspin Toys (Hiteman, IA)",
                                    "City": "15610"
                                },
                                {
                                    "CustomerID": "180",
                                    "CustomerName": "Tailspin Toys (Caselton, NV)",
                                    "City": "5540"
                                },
                                {
                                    "CustomerID": "181",
                                    "CustomerName": "Tailspin Toys (Heilwood, PA)",
                                    "City": "15118"
                                },
                                {
                                    "CustomerID": "182",
                                    "CustomerName": "Tailspin Toys (Hayes Center, NE)",
                                    "City": "14977"
                                },
                                {
                                    "CustomerID": "183",
                                    "CustomerName": "Tailspin Toys (Tierra Verde, FL)",
                                    "City": "34028"
                                },
                                {
                                    "CustomerID": "184",
                                    "CustomerName": "Tailspin Toys (South Euclid, OH)",
                                    "City": "32083"
                                },
                                {
                                    "CustomerID": "185",
                                    "CustomerName": "Tailspin Toys (Vidrine, LA)",
                                    "City": "35355"
                                },
                                {
                                    "CustomerID": "186",
                                    "CustomerName": "Tailspin Toys (Placer, OR)",
                                    "City": "27166"
                                },
                                {
                                    "CustomerID": "187",
                                    "CustomerName": "Tailspin Toys (Brown City, MI)",
                                    "City": "4291"
                                },
                                {
                                    "CustomerID": "188",
                                    "CustomerName": "Tailspin Toys (Premont, TX)",
                                    "City": "27840"
                                },
                                {
                                    "CustomerID": "189",
                                    "CustomerName": "Tailspin Toys (Wilkes-Barre, PA)",
                                    "City": "37194"
                                },
                                {
                                    "CustomerID": "190",
                                    "CustomerName": "Tailspin Toys (Teutopolis, IL)",
                                    "City": "33832"
                                },
                                {
                                    "CustomerID": "191",
                                    "CustomerName": "Tailspin Toys (Orchard Hill, GA)",
                                    "City": "25552"
                                },
                                {
                                    "CustomerID": "192",
                                    "CustomerName": "Tailspin Toys (Optimo, NM)",
                                    "City": "25505"
                                },
                                {
                                    "CustomerID": "193",
                                    "CustomerName": "Tailspin Toys (Knifley, KY)",
                                    "City": "17931"
                                },
                                {
                                    "CustomerID": "194",
                                    "CustomerName": "Tailspin Toys (Naples Park, FL)",
                                    "City": "23592"
                                },
                                {
                                    "CustomerID": "195",
                                    "CustomerName": "Tailspin Toys (Lesslie, SC)",
                                    "City": "19232"
                                },
                                {
                                    "CustomerID": "196",
                                    "CustomerName": "Tailspin Toys (Howells, NE)",
                                    "City": "16090"
                                },
                                {
                                    "CustomerID": "197",
                                    "CustomerName": "Tailspin Toys (Magalia, CA)",
                                    "City": "20538"
                                },
                                {
                                    "CustomerID": "198",
                                    "CustomerName": "Tailspin Toys (Buell, MO)",
                                    "City": "4491"
                                },
                                {
                                    "CustomerID": "199",
                                    "CustomerName": "Tailspin Toys (Antonito, CO)",
                                    "City": "962"
                                },
                                {
                                    "CustomerID": "200",
                                    "CustomerName": "Tailspin Toys (Tooele, UT)",
                                    "City": "34230"
                                },
                                {
                                    "CustomerID": "201",
                                    "CustomerName": "Tailspin Toys (Skyway, WA)",
                                    "City": "31752"
                                },
                                {
                                    "CustomerID": "401",
                                    "CustomerName": "Wingtip Toys (Head Office)",
                                    "City": "25555"
                                },
                                {
                                    "CustomerID": "402",
                                    "CustomerName": "Wingtip Toys (Black Lick, PA)",
                                    "City": "3127"
                                },
                                {
                                    "CustomerID": "403",
                                    "CustomerName": "Wingtip Toys (Queen Valley, AZ)",
                                    "City": "28129"
                                },
                                {
                                    "CustomerID": "404",
                                    "CustomerName": "Wingtip Toys (Penns Creek, PA)",
                                    "City": "26579"
                                },
                                {
                                    "CustomerID": "405",
                                    "CustomerName": "Wingtip Toys (Bourbonnais, IL)",
                                    "City": "3659"
                                },
                                {
                                    "CustomerID": "406",
                                    "CustomerName": "Wingtip Toys (Tuscaloosa, AL)",
                                    "City": "34633"
                                },
                                {
                                    "CustomerID": "407",
                                    "CustomerName": "Wingtip Toys (Mooringsport, LA)",
                                    "City": "22903"
                                },
                                {
                                    "CustomerID": "408",
                                    "CustomerName": "Wingtip Toys (Rockwall, TX)",
                                    "City": "29320"
                                },
                                {
                                    "CustomerID": "409",
                                    "CustomerName": "Wingtip Toys (Orick, CA)",
                                    "City": "25581"
                                },
                                {
                                    "CustomerID": "410",
                                    "CustomerName": "Wingtip Toys (Bernstein, TX)",
                                    "City": "2791"
                                },
                                {
                                    "CustomerID": "411",
                                    "CustomerName": "Wingtip Toys (Edmund, WI)",
                                    "City": "10134"
                                },
                                {
                                    "CustomerID": "412",
                                    "CustomerName": "Wingtip Toys (Bozeman Hot Springs, MT)",
                                    "City": "3762"
                                },
                                {
                                    "CustomerID": "413",
                                    "CustomerName": "Wingtip Toys (Truscott, TX)",
                                    "City": "34519"
                                },
                                {
                                    "CustomerID": "414",
                                    "CustomerName": "Wingtip Toys (Rose Tree, PA)",
                                    "City": "29530"
                                },
                                {
                                    "CustomerID": "415",
                                    "CustomerName": "Wingtip Toys (Leathersville, GA)",
                                    "City": "18983"
                                },
                                {
                                    "CustomerID": "416",
                                    "CustomerName": "Wingtip Toys (Necedah, WI)",
                                    "City": "23707"
                                },
                                {
                                    "CustomerID": "417",
                                    "CustomerName": "Wingtip Toys (Chetek, WI)",
                                    "City": "6313"
                                },
                                {
                                    "CustomerID": "418",
                                    "CustomerName": "Wingtip Toys (Yaak, MT)",
                                    "City": "37969"
                                },
                                {
                                    "CustomerID": "419",
                                    "CustomerName": "Wingtip Toys (Compass Lake, FL)",
                                    "City": "7343"
                                },
                                {
                                    "CustomerID": "420",
                                    "CustomerName": "Wingtip Toys (Herlong, CA)",
                                    "City": "15248"
                                },
                                {
                                    "CustomerID": "421",
                                    "CustomerName": "Wingtip Toys (Highland Home, AL)",
                                    "City": "15434"
                                },
                                {
                                    "CustomerID": "422",
                                    "CustomerName": "Wingtip Toys (Naches, WA)",
                                    "City": "23542"
                                },
                                {
                                    "CustomerID": "423",
                                    "CustomerName": "Wingtip Toys (Baldwin City, KS)",
                                    "City": "1811"
                                },
                                {
                                    "CustomerID": "424",
                                    "CustomerName": "Wingtip Toys (Heartwell, NE)",
                                    "City": "15057"
                                },
                                {
                                    "CustomerID": "425",
                                    "CustomerName": "Wingtip Toys (Bethel Acres, OK)",
                                    "City": "2862"
                                },
                                {
                                    "CustomerID": "426",
                                    "CustomerName": "Wingtip Toys (Willow Valley, AZ)",
                                    "City": "37316"
                                },
                                {
                                    "CustomerID": "427",
                                    "CustomerName": "Wingtip Toys (Athol Springs, NY)",
                                    "City": "1417"
                                },
                                {
                                    "CustomerID": "428",
                                    "CustomerName": "Wingtip Toys (Paw Paw Lake, MI)",
                                    "City": "26376"
                                },
                                {
                                    "CustomerID": "429",
                                    "CustomerName": "Wingtip Toys (Lilbourn, MO)",
                                    "City": "19405"
                                },
                                {
                                    "CustomerID": "430",
                                    "CustomerName": "Wingtip Toys (Lost River, ID)",
                                    "City": "20043"
                                },
                                {
                                    "CustomerID": "431",
                                    "CustomerName": "Wingtip Toys (Rosa Sánchez, PR)",
                                    "City": "29490"
                                },
                                {
                                    "CustomerID": "432",
                                    "CustomerName": "Wingtip Toys (Vamo, FL)",
                                    "City": "35078"
                                },
                                {
                                    "CustomerID": "433",
                                    "CustomerName": "Wingtip Toys (Balko, OK)",
                                    "City": "1820"
                                },
                                {
                                    "CustomerID": "434",
                                    "CustomerName": "Wingtip Toys (Lime Lake, NY)",
                                    "City": "19434"
                                },
                                {
                                    "CustomerID": "435",
                                    "CustomerName": "Wingtip Toys (Teutopolis, IL)",
                                    "City": "33832"
                                },
                                {
                                    "CustomerID": "436",
                                    "CustomerName": "Wingtip Toys (Gargatha, VA)",
                                    "City": "12680"
                                },
                                {
                                    "CustomerID": "437",
                                    "CustomerName": "Wingtip Toys (Cadogan, PA)",
                                    "City": "4860"
                                },
                                {
                                    "CustomerID": "438",
                                    "CustomerName": "Wingtip Toys (Lucasville, OH)",
                                    "City": "20189"
                                },
                                {
                                    "CustomerID": "439",
                                    "CustomerName": "Wingtip Toys (Cylon, WI)",
                                    "City": "8306"
                                },
                                {
                                    "CustomerID": "440",
                                    "CustomerName": "Wingtip Toys (Asher, OK)",
                                    "City": "1299"
                                },
                                {
                                    "CustomerID": "441",
                                    "CustomerName": "Wingtip Toys (Keosauqua, IA)",
                                    "City": "17587"
                                },
                                {
                                    "CustomerID": "442",
                                    "CustomerName": "Wingtip Toys (Homer City, PA)",
                                    "City": "15835"
                                },
                                {
                                    "CustomerID": "443",
                                    "CustomerName": "Wingtip Toys (Berville, MI)",
                                    "City": "2815"
                                },
                                {
                                    "CustomerID": "444",
                                    "CustomerName": "Wingtip Toys (Tea, SD)",
                                    "City": "33701"
                                },
                                {
                                    "CustomerID": "445",
                                    "CustomerName": "Wingtip Toys (Dacono, CO)",
                                    "City": "8322"
                                },
                                {
                                    "CustomerID": "446",
                                    "CustomerName": "Wingtip Toys (Saint Landry, LA)",
                                    "City": "30119"
                                },
                                {
                                    "CustomerID": "447",
                                    "CustomerName": "Wingtip Toys (Coin, IA)",
                                    "City": "7069"
                                },
                                {
                                    "CustomerID": "448",
                                    "CustomerName": "Wingtip Toys (Salt Wells, NV)",
                                    "City": "30304"
                                },
                                {
                                    "CustomerID": "449",
                                    "CustomerName": "Wingtip Toys (Delray, WV)",
                                    "City": "8839"
                                },
                                {
                                    "CustomerID": "450",
                                    "CustomerName": "Wingtip Toys (Mount Summit, IN)",
                                    "City": "23284"
                                },
                                {
                                    "CustomerID": "451",
                                    "CustomerName": "Wingtip Toys (Smoot, WY)",
                                    "City": "31870"
                                },
                                {
                                    "CustomerID": "452",
                                    "CustomerName": "Wingtip Toys (Lake Davis, CA)",
                                    "City": "18340"
                                },
                                {
                                    "CustomerID": "453",
                                    "CustomerName": "Wingtip Toys (Stanardsville, VA)",
                                    "City": "32575"
                                },
                                {
                                    "CustomerID": "454",
                                    "CustomerName": "Wingtip Toys (Corcovado, PR)",
                                    "City": "7576"
                                },
                                {
                                    "CustomerID": "455",
                                    "CustomerName": "Wingtip Toys (Taft Heights, CA)",
                                    "City": "33520"
                                },
                                {
                                    "CustomerID": "456",
                                    "CustomerName": "Wingtip Toys (West Hempstead, NY)",
                                    "City": "36531"
                                },
                                {
                                    "CustomerID": "457",
                                    "CustomerName": "Wingtip Toys (Portales, NM)",
                                    "City": "27648"
                                },
                                {
                                    "CustomerID": "458",
                                    "CustomerName": "Wingtip Toys (Coker, AL)",
                                    "City": "7074"
                                },
                                {
                                    "CustomerID": "459",
                                    "CustomerName": "Wingtip Toys (Haydenville, OH)",
                                    "City": "14974"
                                },
                                {
                                    "CustomerID": "460",
                                    "CustomerName": "Wingtip Toys (Mayhill, NM)",
                                    "City": "21351"
                                },
                                {
                                    "CustomerID": "461",
                                    "CustomerName": "Wingtip Toys (Vair, TX)",
                                    "City": "34984"
                                },
                                {
                                    "CustomerID": "462",
                                    "CustomerName": "Wingtip Toys (Crossroads, NM)",
                                    "City": "8082"
                                },
                                {
                                    "CustomerID": "463",
                                    "CustomerName": "Wingtip Toys (Cowlington, OK)",
                                    "City": "7847"
                                },
                                {
                                    "CustomerID": "464",
                                    "CustomerName": "Wingtip Toys (Glen Ullin, ND)",
                                    "City": "13146"
                                },
                                {
                                    "CustomerID": "465",
                                    "CustomerName": "Wingtip Toys (Oologah, OK)",
                                    "City": "25479"
                                },
                                {
                                    "CustomerID": "466",
                                    "CustomerName": "Wingtip Toys (Lytle, TX)",
                                    "City": "20412"
                                },
                                {
                                    "CustomerID": "467",
                                    "CustomerName": "Wingtip Toys (Mahaffey, PA)",
                                    "City": "20575"
                                },
                                {
                                    "CustomerID": "468",
                                    "CustomerName": "Wingtip Toys (Sunburg, MN)",
                                    "City": "33237"
                                },
                                {
                                    "CustomerID": "469",
                                    "CustomerName": "Wingtip Toys (Johnetta, KY)",
                                    "City": "17093"
                                },
                                {
                                    "CustomerID": "470",
                                    "CustomerName": "Wingtip Toys (Universal City, TX)",
                                    "City": "34875"
                                },
                                {
                                    "CustomerID": "471",
                                    "CustomerName": "Wingtip Toys (Ridgemark, CA)",
                                    "City": "28907"
                                },
                                {
                                    "CustomerID": "472",
                                    "CustomerName": "Wingtip Toys (San Jacinto, CA)",
                                    "City": "30387"
                                },
                                {
                                    "CustomerID": "473",
                                    "CustomerName": "Wingtip Toys (Floriston, CA)",
                                    "City": "11747"
                                },
                                {
                                    "CustomerID": "474",
                                    "CustomerName": "Wingtip Toys (Bokeelia, FL)",
                                    "City": "3463"
                                },
                                {
                                    "CustomerID": "475",
                                    "CustomerName": "Wingtip Toys (Cale, AR)",
                                    "City": "4900"
                                },
                                {
                                    "CustomerID": "476",
                                    "CustomerName": "Wingtip Toys (Karthaus, PA)",
                                    "City": "17353"
                                },
                                {
                                    "CustomerID": "477",
                                    "CustomerName": "Wingtip Toys (Glancy, MS)",
                                    "City": "13068"
                                },
                                {
                                    "CustomerID": "478",
                                    "CustomerName": "Wingtip Toys (Stoneboro, PA)",
                                    "City": "32885"
                                },
                                {
                                    "CustomerID": "479",
                                    "CustomerName": "Wingtip Toys (Mier, IN)",
                                    "City": "22146"
                                },
                                {
                                    "CustomerID": "480",
                                    "CustomerName": "Wingtip Toys (Wapinitia, OR)",
                                    "City": "35830"
                                },
                                {
                                    "CustomerID": "481",
                                    "CustomerName": "Wingtip Toys (White Church, MO)",
                                    "City": "36946"
                                },
                                {
                                    "CustomerID": "482",
                                    "CustomerName": "Wingtip Toys (Caton, NY)",
                                    "City": "5664"
                                },
                                {
                                    "CustomerID": "483",
                                    "CustomerName": "Wingtip Toys (Plum Branch, SC)",
                                    "City": "27344"
                                },
                                {
                                    "CustomerID": "484",
                                    "CustomerName": "Wingtip Toys (Mauldin, SC)",
                                    "City": "21282"
                                },
                                {
                                    "CustomerID": "485",
                                    "CustomerName": "Wingtip Toys (Bonner Springs, KS)",
                                    "City": "3545"
                                },
                                {
                                    "CustomerID": "486",
                                    "CustomerName": "Wingtip Toys (Lowellville, OH)",
                                    "City": "20131"
                                },
                                {
                                    "CustomerID": "487",
                                    "CustomerName": "Wingtip Toys (Elverson, PA)",
                                    "City": "10581"
                                },
                                {
                                    "CustomerID": "488",
                                    "CustomerName": "Wingtip Toys (Isabela, PR)",
                                    "City": "16702"
                                },
                                {
                                    "CustomerID": "489",
                                    "CustomerName": "Wingtip Toys (Sayner, WI)",
                                    "City": "30751"
                                },
                                {
                                    "CustomerID": "490",
                                    "CustomerName": "Wingtip Toys (Beals, ME)",
                                    "City": "2230"
                                },
                                {
                                    "CustomerID": "491",
                                    "CustomerName": "Wingtip Toys (Morton Grove, IL)",
                                    "City": "23067"
                                },
                                {
                                    "CustomerID": "492",
                                    "CustomerName": "Wingtip Toys (Birds, IL)",
                                    "City": "3059"
                                },
                                {
                                    "CustomerID": "493",
                                    "CustomerName": "Wingtip Toys (Federalsburg, MD)",
                                    "City": "11427"
                                },
                                {
                                    "CustomerID": "494",
                                    "CustomerName": "Wingtip Toys (Pikeview, CO)",
                                    "City": "26906"
                                },
                                {
                                    "CustomerID": "495",
                                    "CustomerName": "Wingtip Toys (Boalsburg, PA)",
                                    "City": "3409"
                                },
                                {
                                    "CustomerID": "496",
                                    "CustomerName": "Wingtip Toys (Port Hueneme, CA)",
                                    "City": "27577"
                                },
                                {
                                    "CustomerID": "497",
                                    "CustomerName": "Wingtip Toys (Verdery, SC)",
                                    "City": "35223"
                                },
                                {
                                    "CustomerID": "498",
                                    "CustomerName": "Wingtip Toys (Obetz, OH)",
                                    "City": "25121"
                                },
                                {
                                    "CustomerID": "499",
                                    "CustomerName": "Wingtip Toys (East Fultonham, OH)",
                                    "City": "9791"
                                },
                                {
                                    "CustomerID": "500",
                                    "CustomerName": "Wingtip Toys (Obion, TN)",
                                    "City": "25122"
                                },
                                {
                                    "CustomerID": "501",
                                    "CustomerName": "Wingtip Toys (Cavendish, VT)",
                                    "City": "5687"
                                },
                                {
                                    "CustomerID": "502",
                                    "CustomerName": "Wingtip Toys (Miesville, MN)",
                                    "City": "22147"
                                },
                                {
                                    "CustomerID": "503",
                                    "CustomerName": "Wingtip Toys (Valhalla, NC)",
                                    "City": "35008"
                                },
                                {
                                    "CustomerID": "504",
                                    "CustomerName": "Wingtip Toys (Cape Neddick, ME)",
                                    "City": "5259"
                                },
                                {
                                    "CustomerID": "505",
                                    "CustomerName": "Wingtip Toys (Silver Plume, CO)",
                                    "City": "31629"
                                },
                                {
                                    "CustomerID": "506",
                                    "CustomerName": "Wingtip Toys (North Beach Haven, NJ)",
                                    "City": "24530"
                                },
                                {
                                    "CustomerID": "507",
                                    "CustomerName": "Wingtip Toys (Downingtown, PA)",
                                    "City": "9360"
                                },
                                {
                                    "CustomerID": "508",
                                    "CustomerName": "Wingtip Toys (Branson West, MO)",
                                    "City": "3876"
                                },
                                {
                                    "CustomerID": "509",
                                    "CustomerName": "Wingtip Toys (Bergen Park, CO)",
                                    "City": "2739"
                                },
                                {
                                    "CustomerID": "510",
                                    "CustomerName": "Wingtip Toys (Grabill, IN)",
                                    "City": "13507"
                                },
                                {
                                    "CustomerID": "511",
                                    "CustomerName": "Wingtip Toys (North Manitou, MI)",
                                    "City": "24658"
                                },
                                {
                                    "CustomerID": "512",
                                    "CustomerName": "Wingtip Toys (Philip, SD)",
                                    "City": "26788"
                                },
                                {
                                    "CustomerID": "513",
                                    "CustomerName": "Wingtip Toys (Straughn, IN)",
                                    "City": "32993"
                                },
                                {
                                    "CustomerID": "514",
                                    "CustomerName": "Wingtip Toys (Gilford, NH)",
                                    "City": "12992"
                                },
                                {
                                    "CustomerID": "515",
                                    "CustomerName": "Wingtip Toys (Del Valle, TX)",
                                    "City": "8772"
                                },
                                {
                                    "CustomerID": "516",
                                    "CustomerName": "Wingtip Toys (Harkers Island, NC)",
                                    "City": "14628"
                                },
                                {
                                    "CustomerID": "517",
                                    "CustomerName": "Wingtip Toys (Licking, MO)",
                                    "City": "19386"
                                },
                                {
                                    "CustomerID": "518",
                                    "CustomerName": "Wingtip Toys (Raton, NM)",
                                    "City": "28361"
                                },
                                {
                                    "CustomerID": "519",
                                    "CustomerName": "Wingtip Toys (Boynton, OK)",
                                    "City": "3755"
                                },
                                {
                                    "CustomerID": "520",
                                    "CustomerName": "Wingtip Toys (Frenchburg, KY)",
                                    "City": "12341"
                                },
                                {
                                    "CustomerID": "521",
                                    "CustomerName": "Wingtip Toys (Robertsdale, AL)",
                                    "City": "29166"
                                },
                                {
                                    "CustomerID": "522",
                                    "CustomerName": "Wingtip Toys (Dickerson, MD)",
                                    "City": "9064"
                                },
                                {
                                    "CustomerID": "523",
                                    "CustomerName": "Wingtip Toys (Bruceton Mills, WV)",
                                    "City": "4352"
                                },
                                {
                                    "CustomerID": "524",
                                    "CustomerName": "Wingtip Toys (Cloquet, MN)",
                                    "City": "6904"
                                },
                                {
                                    "CustomerID": "525",
                                    "CustomerName": "Wingtip Toys (Claycomo, MO)",
                                    "City": "6687"
                                },
                                {
                                    "CustomerID": "526",
                                    "CustomerName": "Wingtip Toys (Beekmantown, NY)",
                                    "City": "2379"
                                },
                                {
                                    "CustomerID": "527",
                                    "CustomerName": "Wingtip Toys (Islip Terrace, NY)",
                                    "City": "16741"
                                },
                                {
                                    "CustomerID": "528",
                                    "CustomerName": "Wingtip Toys (Rich Creek, VA)",
                                    "City": "28780"
                                },
                                {
                                    "CustomerID": "529",
                                    "CustomerName": "Wingtip Toys (Griswoldville, GA)",
                                    "City": "14072"
                                },
                                {
                                    "CustomerID": "530",
                                    "CustomerName": "Wingtip Toys (East Mountain, TX)",
                                    "City": "9857"
                                },
                                {
                                    "CustomerID": "531",
                                    "CustomerName": "Wingtip Toys (Omer, MI)",
                                    "City": "25424"
                                },
                                {
                                    "CustomerID": "532",
                                    "CustomerName": "Wingtip Toys (Waycross, GA)",
                                    "City": "36179"
                                },
                                {
                                    "CustomerID": "533",
                                    "CustomerName": "Wingtip Toys (Nichols Hills, OK)",
                                    "City": "24349"
                                },
                                {
                                    "CustomerID": "534",
                                    "CustomerName": "Wingtip Toys (Plaquemine, LA)",
                                    "City": "27232"
                                },
                                {
                                    "CustomerID": "535",
                                    "CustomerName": "Wingtip Toys (Triadelphia, WV)",
                                    "City": "34411"
                                },
                                {
                                    "CustomerID": "536",
                                    "CustomerName": "Wingtip Toys (Ferney, SD)",
                                    "City": "11491"
                                },
                                {
                                    "CustomerID": "537",
                                    "CustomerName": "Wingtip Toys (Akhiok, AK)",
                                    "City": "242"
                                },
                                {
                                    "CustomerID": "538",
                                    "CustomerName": "Wingtip Toys (Deeson, MS)",
                                    "City": "8751"
                                },
                                {
                                    "CustomerID": "539",
                                    "CustomerName": "Wingtip Toys (Nuangola, PA)",
                                    "City": "24898"
                                },
                                {
                                    "CustomerID": "540",
                                    "CustomerName": "Wingtip Toys (Weld, ME)",
                                    "City": "36322"
                                },
                                {
                                    "CustomerID": "541",
                                    "CustomerName": "Wingtip Toys (Mickleton, NJ)",
                                    "City": "22020"
                                },
                                {
                                    "CustomerID": "542",
                                    "CustomerName": "Wingtip Toys (Schererville, IN)",
                                    "City": "30790"
                                },
                                {
                                    "CustomerID": "543",
                                    "CustomerName": "Wingtip Toys (Lexington Heights, MI)",
                                    "City": "19338"
                                },
                                {
                                    "CustomerID": "544",
                                    "CustomerName": "Wingtip Toys (Broomtown, AL)",
                                    "City": "4278"
                                },
                                {
                                    "CustomerID": "545",
                                    "CustomerName": "Wingtip Toys (Jamison, IA)",
                                    "City": "16891"
                                },
                                {
                                    "CustomerID": "546",
                                    "CustomerName": "Wingtip Toys (Key Biscayne, FL)",
                                    "City": "17632"
                                },
                                {
                                    "CustomerID": "547",
                                    "CustomerName": "Wingtip Toys (Chaseley, ND)",
                                    "City": "6115"
                                },
                                {
                                    "CustomerID": "548",
                                    "CustomerName": "Wingtip Toys (Indian Creek, IL)",
                                    "City": "16469"
                                },
                                {
                                    "CustomerID": "549",
                                    "CustomerName": "Wingtip Toys (Lake Ronkonkoma, NY)",
                                    "City": "18446"
                                },
                                {
                                    "CustomerID": "550",
                                    "CustomerName": "Wingtip Toys (Morrison Bluff, AR)",
                                    "City": "23026"
                                },
                                {
                                    "CustomerID": "551",
                                    "CustomerName": "Wingtip Toys (Huntingburg, IN)",
                                    "City": "16239"
                                },
                                {
                                    "CustomerID": "552",
                                    "CustomerName": "Wingtip Toys (Shay, PA)",
                                    "City": "31266"
                                },
                                {
                                    "CustomerID": "553",
                                    "CustomerName": "Wingtip Toys (Helotes, TX)",
                                    "City": "15143"
                                },
                                {
                                    "CustomerID": "554",
                                    "CustomerName": "Wingtip Toys (Hollandsburg, IN)",
                                    "City": "15726"
                                },
                                {
                                    "CustomerID": "555",
                                    "CustomerName": "Wingtip Toys (Liberty Grove, MD)",
                                    "City": "19368"
                                },
                                {
                                    "CustomerID": "556",
                                    "CustomerName": "Wingtip Toys (Morita, TX)",
                                    "City": "22984"
                                },
                                {
                                    "CustomerID": "557",
                                    "CustomerName": "Wingtip Toys (New Laguna, NM)",
                                    "City": "24007"
                                },
                                {
                                    "CustomerID": "558",
                                    "CustomerName": "Wingtip Toys (Bourneville, OH)",
                                    "City": "3663"
                                },
                                {
                                    "CustomerID": "559",
                                    "CustomerName": "Wingtip Toys (Mendoza, TX)",
                                    "City": "21821"
                                },
                                {
                                    "CustomerID": "560",
                                    "CustomerName": "Wingtip Toys (Palmas del Mar, PR)",
                                    "City": "26010"
                                },
                                {
                                    "CustomerID": "561",
                                    "CustomerName": "Wingtip Toys (Marion Junction, AL)",
                                    "City": "21002"
                                },
                                {
                                    "CustomerID": "562",
                                    "CustomerName": "Wingtip Toys (Ware Shoals, SC)",
                                    "City": "35861"
                                },
                                {
                                    "CustomerID": "563",
                                    "CustomerName": "Wingtip Toys (Lostine, OR)",
                                    "City": "20047"
                                },
                                {
                                    "CustomerID": "564",
                                    "CustomerName": "Wingtip Toys (Tilleda, WI)",
                                    "City": "34060"
                                },
                                {
                                    "CustomerID": "565",
                                    "CustomerName": "Wingtip Toys (Wapiti, WY)",
                                    "City": "35831"
                                },
                                {
                                    "CustomerID": "566",
                                    "CustomerName": "Wingtip Toys (Amado, AZ)",
                                    "City": "689"
                                },
                                {
                                    "CustomerID": "567",
                                    "CustomerName": "Wingtip Toys (Jeromesville, OH)",
                                    "City": "17039"
                                },
                                {
                                    "CustomerID": "568",
                                    "CustomerName": "Wingtip Toys (Ovilla, TX)",
                                    "City": "25818"
                                },
                                {
                                    "CustomerID": "569",
                                    "CustomerName": "Wingtip Toys (West Frostproof, FL)",
                                    "City": "36513"
                                },
                                {
                                    "CustomerID": "570",
                                    "CustomerName": "Wingtip Toys (Flomaton, AL)",
                                    "City": "11686"
                                },
                                {
                                    "CustomerID": "571",
                                    "CustomerName": "Wingtip Toys (Pawlet, VT)",
                                    "City": "26379"
                                },
                                {
                                    "CustomerID": "572",
                                    "CustomerName": "Wingtip Toys (Trout Run, PA)",
                                    "City": "34466"
                                },
                                {
                                    "CustomerID": "573",
                                    "CustomerName": "Wingtip Toys (Marin City, CA)",
                                    "City": "20961"
                                },
                                {
                                    "CustomerID": "574",
                                    "CustomerName": "Wingtip Toys (Molalla, OR)",
                                    "City": "22604"
                                },
                                {
                                    "CustomerID": "575",
                                    "CustomerName": "Wingtip Toys (Trumansburg, NY)",
                                    "City": "34512"
                                },
                                {
                                    "CustomerID": "576",
                                    "CustomerName": "Wingtip Toys (Goodings Grove, IL)",
                                    "City": "13388"
                                },
                                {
                                    "CustomerID": "577",
                                    "CustomerName": "Wingtip Toys (Cherryplain, NY)",
                                    "City": "6238"
                                },
                                {
                                    "CustomerID": "578",
                                    "CustomerName": "Wingtip Toys (Bell Acres, PA)",
                                    "City": "2436"
                                },
                                {
                                    "CustomerID": "579",
                                    "CustomerName": "Wingtip Toys (Connoquenessing, PA)",
                                    "City": "7432"
                                },
                                {
                                    "CustomerID": "580",
                                    "CustomerName": "Wingtip Toys (Sarversville, PA)",
                                    "City": "30663"
                                },
                                {
                                    "CustomerID": "581",
                                    "CustomerName": "Wingtip Toys (Munich, ND)",
                                    "City": "23441"
                                },
                                {
                                    "CustomerID": "582",
                                    "CustomerName": "Wingtip Toys (Montoya, NM)",
                                    "City": "22814"
                                },
                                {
                                    "CustomerID": "583",
                                    "CustomerName": "Wingtip Toys (Knights Landing, CA)",
                                    "City": "17935"
                                },
                                {
                                    "CustomerID": "584",
                                    "CustomerName": "Wingtip Toys (Cache, OK)",
                                    "City": "4840"
                                },
                                {
                                    "CustomerID": "585",
                                    "CustomerName": "Wingtip Toys (Towaco, NJ)",
                                    "City": "34285"
                                },
                                {
                                    "CustomerID": "586",
                                    "CustomerName": "Wingtip Toys (Lynne, FL)",
                                    "City": "20376"
                                },
                                {
                                    "CustomerID": "587",
                                    "CustomerName": "Wingtip Toys (Plata, TX)",
                                    "City": "27236"
                                },
                                {
                                    "CustomerID": "588",
                                    "CustomerName": "Wingtip Toys (Oak Point, TX)",
                                    "City": "24988"
                                },
                                {
                                    "CustomerID": "589",
                                    "CustomerName": "Wingtip Toys (Alcester, SD)",
                                    "City": "357"
                                },
                                {
                                    "CustomerID": "590",
                                    "CustomerName": "Wingtip Toys (McAdenville, NC)",
                                    "City": "21405"
                                },
                                {
                                    "CustomerID": "591",
                                    "CustomerName": "Wingtip Toys (Idaho City, ID)",
                                    "City": "16382"
                                },
                                {
                                    "CustomerID": "592",
                                    "CustomerName": "Wingtip Toys (Dunkerton, IA)",
                                    "City": "9549"
                                },
                                {
                                    "CustomerID": "593",
                                    "CustomerName": "Wingtip Toys (Cuyamungue, NM)",
                                    "City": "8296"
                                },
                                {
                                    "CustomerID": "594",
                                    "CustomerName": "Wingtip Toys (Marfa, TX)",
                                    "City": "20924"
                                },
                                {
                                    "CustomerID": "595",
                                    "CustomerName": "Wingtip Toys (Accomac, VA)",
                                    "City": "54"
                                },
                                {
                                    "CustomerID": "596",
                                    "CustomerName": "Wingtip Toys (Cos Cob, CT)",
                                    "City": "7695"
                                },
                                {
                                    "CustomerID": "597",
                                    "CustomerName": "Wingtip Toys (Haycock, AK)",
                                    "City": "14965"
                                },
                                {
                                    "CustomerID": "598",
                                    "CustomerName": "Wingtip Toys (Kapa'a, HI)",
                                    "City": "17340"
                                },
                                {
                                    "CustomerID": "599",
                                    "CustomerName": "Wingtip Toys (Dickworsham, TX)",
                                    "City": "9077"
                                },
                                {
                                    "CustomerID": "600",
                                    "CustomerName": "Wingtip Toys (Caro, MI)",
                                    "City": "5407"
                                },
                                {
                                    "CustomerID": "601",
                                    "CustomerName": "Wingtip Toys (Ruthsburg, MD)",
                                    "City": "29887"
                                },
                                {
                                    "CustomerID": "801",
                                    "CustomerName": "Eric Torres",
                                    "City": "31321"
                                },
                                {
                                    "CustomerID": "802",
                                    "CustomerName": "Cosmina Vlad",
                                    "City": "5192"
                                },
                                {
                                    "CustomerID": "803",
                                    "CustomerName": "Bala Dixit",
                                    "City": "33799"
                                },
                                {
                                    "CustomerID": "804",
                                    "CustomerName": "Aleksandrs Riekstins",
                                    "City": "18069"
                                },
                                {
                                    "CustomerID": "805",
                                    "CustomerName": "Ratan Poddar",
                                    "City": "10194"
                                },
                                {
                                    "CustomerID": "806",
                                    "CustomerName": "Shi Tu",
                                    "City": "31685"
                                },
                                {
                                    "CustomerID": "807",
                                    "CustomerName": "Gunnar Lohmus",
                                    "City": "35810"
                                },
                                {
                                    "CustomerID": "808",
                                    "CustomerName": "Jackson Kolios",
                                    "City": "28221"
                                },
                                {
                                    "CustomerID": "809",
                                    "CustomerName": "Madhu Dwivedi",
                                    "City": "26105"
                                },
                                {
                                    "CustomerID": "810",
                                    "CustomerName": "Alena Kellnerova",
                                    "City": "31006"
                                },
                                {
                                    "CustomerID": "811",
                                    "CustomerName": "Surendra Sahu",
                                    "City": "25332"
                                },
                                {
                                    "CustomerID": "812",
                                    "CustomerName": "Celica Barajas",
                                    "City": "9386"
                                },
                                {
                                    "CustomerID": "813",
                                    "CustomerName": "Shyam Poddar",
                                    "City": "33793"
                                },
                                {
                                    "CustomerID": "814",
                                    "CustomerName": "Johanna Hoornstra",
                                    "City": "26752"
                                },
                                {
                                    "CustomerID": "815",
                                    "CustomerName": "Libuse Valentova",
                                    "City": "10388"
                                },
                                {
                                    "CustomerID": "816",
                                    "CustomerName": "Harsha Huq",
                                    "City": "8892"
                                },
                                {
                                    "CustomerID": "817",
                                    "CustomerName": "Agrita Kanepa",
                                    "City": "3840"
                                },
                                {
                                    "CustomerID": "818",
                                    "CustomerName": "Liia Orav",
                                    "City": "3176"
                                },
                                {
                                    "CustomerID": "819",
                                    "CustomerName": "Santiago Vera",
                                    "City": "24401"
                                },
                                {
                                    "CustomerID": "820",
                                    "CustomerName": "Knut Svensson",
                                    "City": "20518"
                                },
                                {
                                    "CustomerID": "821",
                                    "CustomerName": "Kwanjai Saowaluk",
                                    "City": "5633"
                                },
                                {
                                    "CustomerID": "822",
                                    "CustomerName": "Suparna Bhattacharya",
                                    "City": "34031"
                                },
                                {
                                    "CustomerID": "823",
                                    "CustomerName": "Francisca Laureano",
                                    "City": "17142"
                                },
                                {
                                    "CustomerID": "824",
                                    "CustomerName": "Risto Valbe",
                                    "City": "2203"
                                },
                                {
                                    "CustomerID": "825",
                                    "CustomerName": "Jayanta Thakur",
                                    "City": "28367"
                                },
                                {
                                    "CustomerID": "826",
                                    "CustomerName": "Leila Carvalho",
                                    "City": "32358"
                                },
                                {
                                    "CustomerID": "827",
                                    "CustomerName": "Crina Grasu",
                                    "City": "33591"
                                },
                                {
                                    "CustomerID": "828",
                                    "CustomerName": "Sercan Celik",
                                    "City": "34193"
                                },
                                {
                                    "CustomerID": "829",
                                    "CustomerName": "Jack Walker",
                                    "City": "10263"
                                },
                                {
                                    "CustomerID": "830",
                                    "CustomerName": "Jana Fialova",
                                    "City": "36297"
                                },
                                {
                                    "CustomerID": "831",
                                    "CustomerName": "Bhaavan Rai",
                                    "City": "5966"
                                },
                                {
                                    "CustomerID": "832",
                                    "CustomerName": "Aakriti Byrraju",
                                    "City": "13242"
                                },
                                {
                                    "CustomerID": "833",
                                    "CustomerName": "Devraj Rao",
                                    "City": "36841"
                                },
                                {
                                    "CustomerID": "834",
                                    "CustomerName": "Cong Hoa",
                                    "City": "25971"
                                },
                                {
                                    "CustomerID": "835",
                                    "CustomerName": "Dominic Davignon",
                                    "City": "34685"
                                },
                                {
                                    "CustomerID": "836",
                                    "CustomerName": "Abel Spirlea",
                                    "City": "21022"
                                },
                                {
                                    "CustomerID": "837",
                                    "CustomerName": "Anil Sarkar",
                                    "City": "12666"
                                },
                                {
                                    "CustomerID": "838",
                                    "CustomerName": "Pavel Bogdanov",
                                    "City": "23870"
                                },
                                {
                                    "CustomerID": "839",
                                    "CustomerName": "Juan Morse",
                                    "City": "13868"
                                },
                                {
                                    "CustomerID": "840",
                                    "CustomerName": "Rodrigo Figueiredo",
                                    "City": "3165"
                                },
                                {
                                    "CustomerID": "841",
                                    "CustomerName": "Camille Authier",
                                    "City": "15"
                                },
                                {
                                    "CustomerID": "842",
                                    "CustomerName": "Biju Deb",
                                    "City": "8730"
                                },
                                {
                                    "CustomerID": "843",
                                    "CustomerName": "Marija Justina Pasek",
                                    "City": "20931"
                                },
                                {
                                    "CustomerID": "844",
                                    "CustomerName": "Durdanah Abbasi",
                                    "City": "18865"
                                },
                                {
                                    "CustomerID": "845",
                                    "CustomerName": "Emilie Hrdlickova",
                                    "City": "24164"
                                },
                                {
                                    "CustomerID": "846",
                                    "CustomerName": "Malorie Bousquet",
                                    "City": "35061"
                                },
                                {
                                    "CustomerID": "847",
                                    "CustomerName": "Kristiina Ivanov",
                                    "City": "37884"
                                },
                                {
                                    "CustomerID": "848",
                                    "CustomerName": "Alvin Bollinger",
                                    "City": "7938"
                                },
                                {
                                    "CustomerID": "849",
                                    "CustomerName": "Sabine Zalite",
                                    "City": "14377"
                                },
                                {
                                    "CustomerID": "850",
                                    "CustomerName": "Daakshaayaani Sankaramanchi",
                                    "City": "32359"
                                },
                                {
                                    "CustomerID": "851",
                                    "CustomerName": "Ebru Erdogan",
                                    "City": "31009"
                                },
                                {
                                    "CustomerID": "852",
                                    "CustomerName": "Bhagavaan Atluri",
                                    "City": "7525"
                                },
                                {
                                    "CustomerID": "853",
                                    "CustomerName": "Caterina Pinto",
                                    "City": "242"
                                },
                                {
                                    "CustomerID": "854",
                                    "CustomerName": "Daakshaayaani Kommineni",
                                    "City": "1775"
                                },
                                {
                                    "CustomerID": "855",
                                    "CustomerName": "Anna Mazzanti",
                                    "City": "16185"
                                },
                                {
                                    "CustomerID": "856",
                                    "CustomerName": "Satish Mittal",
                                    "City": "9433"
                                },
                                {
                                    "CustomerID": "857",
                                    "CustomerName": "Clarissa Manfrin",
                                    "City": "2614"
                                },
                                {
                                    "CustomerID": "858",
                                    "CustomerName": "Bimla PrabhupÄda",
                                    "City": "38038"
                                },
                                {
                                    "CustomerID": "859",
                                    "CustomerName": "Shah Alizadeh",
                                    "City": "12751"
                                },
                                {
                                    "CustomerID": "860",
                                    "CustomerName": "Marcela Lucescu",
                                    "City": "11010"
                                },
                                {
                                    "CustomerID": "861",
                                    "CustomerName": "Amarasimha Vinjamuri",
                                    "City": "24553"
                                },
                                {
                                    "CustomerID": "862",
                                    "CustomerName": "Lana Goransson",
                                    "City": "6124"
                                },
                                {
                                    "CustomerID": "863",
                                    "CustomerName": "Jakub Lukes",
                                    "City": "9701"
                                },
                                {
                                    "CustomerID": "864",
                                    "CustomerName": "Mikhail Degtyarev",
                                    "City": "2291"
                                },
                                {
                                    "CustomerID": "865",
                                    "CustomerName": "Bijoya Thakur",
                                    "City": "17730"
                                },
                                {
                                    "CustomerID": "866",
                                    "CustomerName": "Jay Bhuiyan",
                                    "City": "23264"
                                },
                                {
                                    "CustomerID": "867",
                                    "CustomerName": "Jasna Cerkez",
                                    "City": "10367"
                                },
                                {
                                    "CustomerID": "868",
                                    "CustomerName": "Laura Sykorova",
                                    "City": "7861"
                                },
                                {
                                    "CustomerID": "869",
                                    "CustomerName": "Abel Tatarescu",
                                    "City": "18110"
                                },
                                {
                                    "CustomerID": "870",
                                    "CustomerName": "In-Su Bae",
                                    "City": "21638"
                                },
                                {
                                    "CustomerID": "871",
                                    "CustomerName": "Darshana Madhunapantula",
                                    "City": "34181"
                                },
                                {
                                    "CustomerID": "872",
                                    "CustomerName": "Katerina Hadrabova",
                                    "City": "18141"
                                },
                                {
                                    "CustomerID": "873",
                                    "CustomerName": "Hana Hlouskova",
                                    "City": "22915"
                                },
                                {
                                    "CustomerID": "874",
                                    "CustomerName": "Daniel Martensson",
                                    "City": "20668"
                                },
                                {
                                    "CustomerID": "875",
                                    "CustomerName": "Philip Walker",
                                    "City": "35605"
                                },
                                {
                                    "CustomerID": "876",
                                    "CustomerName": "Marie LeBatelier",
                                    "City": "7781"
                                },
                                {
                                    "CustomerID": "877",
                                    "CustomerName": "Leyla Siavashi",
                                    "City": "20902"
                                },
                                {
                                    "CustomerID": "878",
                                    "CustomerName": "Miriam House",
                                    "City": "20610"
                                },
                                {
                                    "CustomerID": "879",
                                    "CustomerName": "Jitka Necesana",
                                    "City": "7403"
                                },
                                {
                                    "CustomerID": "880",
                                    "CustomerName": "Edmee Glissen",
                                    "City": "21432"
                                },
                                {
                                    "CustomerID": "881",
                                    "CustomerName": "Magdalena Michnova",
                                    "City": "37885"
                                },
                                {
                                    "CustomerID": "882",
                                    "CustomerName": "Maryann Huddleston",
                                    "City": "29165"
                                },
                                {
                                    "CustomerID": "883",
                                    "CustomerName": "Radha Barua",
                                    "City": "21604"
                                },
                                {
                                    "CustomerID": "884",
                                    "CustomerName": "Anindya Ghatak",
                                    "City": "33446"
                                },
                                {
                                    "CustomerID": "885",
                                    "CustomerName": "Chandrashekhar Dasgupta",
                                    "City": "24076"
                                },
                                {
                                    "CustomerID": "886",
                                    "CustomerName": "Debbie Molina",
                                    "City": "12693"
                                },
                                {
                                    "CustomerID": "887",
                                    "CustomerName": "Baran Jonsson",
                                    "City": "5682"
                                },
                                {
                                    "CustomerID": "888",
                                    "CustomerName": "Jai Lamble",
                                    "City": "14043"
                                },
                                {
                                    "CustomerID": "889",
                                    "CustomerName": "Sointu Savonheimo",
                                    "City": "1121"
                                },
                                {
                                    "CustomerID": "890",
                                    "CustomerName": "Olya Izmaylov",
                                    "City": "11753"
                                },
                                {
                                    "CustomerID": "891",
                                    "CustomerName": "Taneli Riutta",
                                    "City": "30517"
                                },
                                {
                                    "CustomerID": "892",
                                    "CustomerName": "Bahaar Asef zade",
                                    "City": "372"
                                },
                                {
                                    "CustomerID": "893",
                                    "CustomerName": "Leyla Asef zade",
                                    "City": "36499"
                                },
                                {
                                    "CustomerID": "894",
                                    "CustomerName": "Gabriela Hernandes",
                                    "City": "8317"
                                },
                                {
                                    "CustomerID": "895",
                                    "CustomerName": "Geza Roman",
                                    "City": "25795"
                                },
                                {
                                    "CustomerID": "896",
                                    "CustomerName": "Leonardo Folliero",
                                    "City": "7749"
                                },
                                {
                                    "CustomerID": "897",
                                    "CustomerName": "Allan Mannik",
                                    "City": "18337"
                                },
                                {
                                    "CustomerID": "898",
                                    "CustomerName": "Gopalgobinda Sikdar",
                                    "City": "25639"
                                },
                                {
                                    "CustomerID": "899",
                                    "CustomerName": "Chin-Sun Chang",
                                    "City": "5247"
                                },
                                {
                                    "CustomerID": "900",
                                    "CustomerName": "Lilli Sokk",
                                    "City": "14033"
                                },
                                {
                                    "CustomerID": "901",
                                    "CustomerName": "Adrian Andreasson",
                                    "City": "9445"
                                },
                                {
                                    "CustomerID": "902",
                                    "CustomerName": "Kamila Michnova",
                                    "City": "33867"
                                },
                                {
                                    "CustomerID": "903",
                                    "CustomerName": "Bing Han",
                                    "City": "8493"
                                },
                                {
                                    "CustomerID": "904",
                                    "CustomerName": "Olafs Rozitis",
                                    "City": "31401"
                                },
                                {
                                    "CustomerID": "905",
                                    "CustomerName": "Sara Huiting",
                                    "City": "3425"
                                },
                                {
                                    "CustomerID": "906",
                                    "CustomerName": "Ajitaab Pakalapati",
                                    "City": "5506"
                                },
                                {
                                    "CustomerID": "907",
                                    "CustomerName": "Eugen Agafitei",
                                    "City": "31249"
                                },
                                {
                                    "CustomerID": "908",
                                    "CustomerName": "Sumati Bhat",
                                    "City": "14591"
                                },
                                {
                                    "CustomerID": "909",
                                    "CustomerName": "Dena Glissen",
                                    "City": "7050"
                                },
                                {
                                    "CustomerID": "910",
                                    "CustomerName": "Elina Kaleja",
                                    "City": "13333"
                                },
                                {
                                    "CustomerID": "911",
                                    "CustomerName": "Liidia Lepp",
                                    "City": "25078"
                                },
                                {
                                    "CustomerID": "912",
                                    "CustomerName": "Volkan senturk",
                                    "City": "37938"
                                },
                                {
                                    "CustomerID": "913",
                                    "CustomerName": "Violetta KlanCisar",
                                    "City": "2175"
                                },
                                {
                                    "CustomerID": "914",
                                    "CustomerName": "Chandana Shasthri",
                                    "City": "23796"
                                },
                                {
                                    "CustomerID": "915",
                                    "CustomerName": "Ana Florea",
                                    "City": "4430"
                                },
                                {
                                    "CustomerID": "916",
                                    "CustomerName": "Pinja Jantunen",
                                    "City": "23734"
                                },
                                {
                                    "CustomerID": "917",
                                    "CustomerName": "Pari Hosseini",
                                    "City": "31936"
                                },
                                {
                                    "CustomerID": "918",
                                    "CustomerName": "Isidora Morales",
                                    "City": "34699"
                                },
                                {
                                    "CustomerID": "919",
                                    "CustomerName": "Kertu Sokk",
                                    "City": "14019"
                                },
                                {
                                    "CustomerID": "920",
                                    "CustomerName": "Gayatri Gajula",
                                    "City": "31348"
                                },
                                {
                                    "CustomerID": "921",
                                    "CustomerName": "Victoria Lacusta",
                                    "City": "7408"
                                },
                                {
                                    "CustomerID": "922",
                                    "CustomerName": "Sumati Chatterjee",
                                    "City": "24668"
                                },
                                {
                                    "CustomerID": "923",
                                    "CustomerName": "Tai Bach",
                                    "City": "12040"
                                },
                                {
                                    "CustomerID": "924",
                                    "CustomerName": "Eva Schulteisz",
                                    "City": "15461"
                                },
                                {
                                    "CustomerID": "925",
                                    "CustomerName": "Can ozcan",
                                    "City": "25354"
                                },
                                {
                                    "CustomerID": "926",
                                    "CustomerName": "Richard Friar",
                                    "City": "24589"
                                },
                                {
                                    "CustomerID": "927",
                                    "CustomerName": "Matyas Sedlar",
                                    "City": "4977"
                                },
                                {
                                    "CustomerID": "928",
                                    "CustomerName": "Arijit Bhuiyan",
                                    "City": "10831"
                                },
                                {
                                    "CustomerID": "929",
                                    "CustomerName": "Vladimir Henzl",
                                    "City": "27559"
                                },
                                {
                                    "CustomerID": "930",
                                    "CustomerName": "Shantanu Huq",
                                    "City": "7890"
                                },
                                {
                                    "CustomerID": "931",
                                    "CustomerName": "Nada Jovanovic",
                                    "City": "24764"
                                },
                                {
                                    "CustomerID": "932",
                                    "CustomerName": "Nicolo Cattaneo",
                                    "City": "30803"
                                },
                                {
                                    "CustomerID": "933",
                                    "CustomerName": "Joel Carrillo",
                                    "City": "9427"
                                },
                                {
                                    "CustomerID": "934",
                                    "CustomerName": "Ivan Sepulveda",
                                    "City": "24805"
                                },
                                {
                                    "CustomerID": "935",
                                    "CustomerName": "Daevasree Samavedam",
                                    "City": "13360"
                                },
                                {
                                    "CustomerID": "936",
                                    "CustomerName": "Ludmila Smidova",
                                    "City": "33747"
                                },
                                {
                                    "CustomerID": "937",
                                    "CustomerName": "Manca Hrastovsek",
                                    "City": "32267"
                                },
                                {
                                    "CustomerID": "938",
                                    "CustomerName": "Anna Gyarmathi",
                                    "City": "17329"
                                },
                                {
                                    "CustomerID": "939",
                                    "CustomerName": "Ioana Florea",
                                    "City": "23550"
                                },
                                {
                                    "CustomerID": "940",
                                    "CustomerName": "Lorin Astrom",
                                    "City": "27543"
                                },
                                {
                                    "CustomerID": "941",
                                    "CustomerName": "Bishwa Chatterjee",
                                    "City": "18332"
                                },
                                {
                                    "CustomerID": "942",
                                    "CustomerName": "Chaayaadaevi Sonti",
                                    "City": "29123"
                                },
                                {
                                    "CustomerID": "943",
                                    "CustomerName": "Drazenka Jelic",
                                    "City": "6221"
                                },
                                {
                                    "CustomerID": "944",
                                    "CustomerName": "Ida Celma",
                                    "City": "14931"
                                },
                                {
                                    "CustomerID": "945",
                                    "CustomerName": "Hoc Tran",
                                    "City": "36973"
                                },
                                {
                                    "CustomerID": "946",
                                    "CustomerName": "David safranek",
                                    "City": "34280"
                                },
                                {
                                    "CustomerID": "947",
                                    "CustomerName": "Svetlana Todorovic",
                                    "City": "35193"
                                },
                                {
                                    "CustomerID": "948",
                                    "CustomerName": "Richard Zahradnicek",
                                    "City": "16893"
                                },
                                {
                                    "CustomerID": "949",
                                    "CustomerName": "Seo-yun Paik",
                                    "City": "17151"
                                },
                                {
                                    "CustomerID": "950",
                                    "CustomerName": "Emily Whittle",
                                    "City": "16257"
                                },
                                {
                                    "CustomerID": "951",
                                    "CustomerName": "Eliza Persson",
                                    "City": "17053"
                                },
                                {
                                    "CustomerID": "952",
                                    "CustomerName": "Chuan Wattanasin",
                                    "City": "11626"
                                },
                                {
                                    "CustomerID": "953",
                                    "CustomerName": "Linh Dao",
                                    "City": "21191"
                                },
                                {
                                    "CustomerID": "954",
                                    "CustomerName": "Nasrin Omidzadeh",
                                    "City": "21161"
                                },
                                {
                                    "CustomerID": "955",
                                    "CustomerName": "Raghu Sandhu",
                                    "City": "3700"
                                },
                                {
                                    "CustomerID": "956",
                                    "CustomerName": "Nhung Thach",
                                    "City": "28502"
                                },
                                {
                                    "CustomerID": "957",
                                    "CustomerName": "Hee-Young Suh",
                                    "City": "24340"
                                },
                                {
                                    "CustomerID": "958",
                                    "CustomerName": "Valentin Tirlea",
                                    "City": "26769"
                                },
                                {
                                    "CustomerID": "959",
                                    "CustomerName": "Dhaatri Chavva",
                                    "City": "10059"
                                },
                                {
                                    "CustomerID": "960",
                                    "CustomerName": "Edgar Jogi",
                                    "City": "3501"
                                },
                                {
                                    "CustomerID": "961",
                                    "CustomerName": "Rani Ganguly",
                                    "City": "1246"
                                },
                                {
                                    "CustomerID": "962",
                                    "CustomerName": "Bhagavati Vinjamuri",
                                    "City": "11008"
                                },
                                {
                                    "CustomerID": "963",
                                    "CustomerName": "Be Trang",
                                    "City": "36091"
                                },
                                {
                                    "CustomerID": "964",
                                    "CustomerName": "Ingrida Zeltina",
                                    "City": "34422"
                                },
                                {
                                    "CustomerID": "965",
                                    "CustomerName": "Phoung Cu",
                                    "City": "21427"
                                },
                                {
                                    "CustomerID": "966",
                                    "CustomerName": "Sara Walkky",
                                    "City": "6402"
                                },
                                {
                                    "CustomerID": "967",
                                    "CustomerName": "Meera Patel",
                                    "City": "14492"
                                },
                                {
                                    "CustomerID": "968",
                                    "CustomerName": "Anca Gogean",
                                    "City": "1245"
                                },
                                {
                                    "CustomerID": "969",
                                    "CustomerName": "Staffan Persson",
                                    "City": "26778"
                                },
                                {
                                    "CustomerID": "970",
                                    "CustomerName": "Isidora Urias",
                                    "City": "3894"
                                },
                                {
                                    "CustomerID": "971",
                                    "CustomerName": "Dhanishta Mokkapati",
                                    "City": "16416"
                                },
                                {
                                    "CustomerID": "972",
                                    "CustomerName": "Lakshmi Benipal",
                                    "City": "19839"
                                },
                                {
                                    "CustomerID": "973",
                                    "CustomerName": "Kumar Kamei",
                                    "City": "22085"
                                },
                                {
                                    "CustomerID": "974",
                                    "CustomerName": "Emil Roman",
                                    "City": "18004"
                                },
                                {
                                    "CustomerID": "975",
                                    "CustomerName": "Prabodh Nair",
                                    "City": "34530"
                                },
                                {
                                    "CustomerID": "976",
                                    "CustomerName": "Alinne Matos",
                                    "City": "30906"
                                },
                                {
                                    "CustomerID": "977",
                                    "CustomerName": "Mauno Laurila",
                                    "City": "24590"
                                },
                                {
                                    "CustomerID": "978",
                                    "CustomerName": "Baalaamjali Devulapalli",
                                    "City": "28032"
                                },
                                {
                                    "CustomerID": "979",
                                    "CustomerName": "Melani Ravlen",
                                    "City": "7485"
                                },
                                {
                                    "CustomerID": "980",
                                    "CustomerName": "Om Yadav",
                                    "City": "20270"
                                },
                                {
                                    "CustomerID": "981",
                                    "CustomerName": "Mahmut ozbek",
                                    "City": "2782"
                                },
                                {
                                    "CustomerID": "982",
                                    "CustomerName": "Yves Belisle",
                                    "City": "35635"
                                },
                                {
                                    "CustomerID": "983",
                                    "CustomerName": "Sabine Alksne",
                                    "City": "13669"
                                },
                                {
                                    "CustomerID": "984",
                                    "CustomerName": "Kamala Nishad",
                                    "City": "14268"
                                },
                                {
                                    "CustomerID": "985",
                                    "CustomerName": "Roko Ilic",
                                    "City": "13692"
                                },
                                {
                                    "CustomerID": "986",
                                    "CustomerName": "Neil Farrelly",
                                    "City": "29938"
                                },
                                {
                                    "CustomerID": "987",
                                    "CustomerName": "Akhil Nadar",
                                    "City": "30779"
                                },
                                {
                                    "CustomerID": "988",
                                    "CustomerName": "Maksims Krastins",
                                    "City": "19979"
                                },
                                {
                                    "CustomerID": "989",
                                    "CustomerName": "Milinka Zujovic",
                                    "City": "38184"
                                },
                                {
                                    "CustomerID": "990",
                                    "CustomerName": "Andris Saulitis",
                                    "City": "10233"
                                },
                                {
                                    "CustomerID": "991",
                                    "CustomerName": "Valter Viiding",
                                    "City": "8294"
                                },
                                {
                                    "CustomerID": "992",
                                    "CustomerName": "Amarakumaar Gadiyaram",
                                    "City": "35503"
                                },
                                {
                                    "CustomerID": "993",
                                    "CustomerName": "Gasper Havzija",
                                    "City": "31323"
                                },
                                {
                                    "CustomerID": "994",
                                    "CustomerName": "Libuse Kuchtova",
                                    "City": "35082"
                                },
                                {
                                    "CustomerID": "995",
                                    "CustomerName": "Kumar Naicker",
                                    "City": "25170"
                                },
                                {
                                    "CustomerID": "996",
                                    "CustomerName": "Laszlo Gardenier",
                                    "City": "21001"
                                },
                                {
                                    "CustomerID": "997",
                                    "CustomerName": "Nada Ana Slosar",
                                    "City": "6907"
                                },
                                {
                                    "CustomerID": "998",
                                    "CustomerName": "Mahavir Sonkar",
                                    "City": "26300"
                                },
                                {
                                    "CustomerID": "999",
                                    "CustomerName": "Kristi Part",
                                    "City": "38036"
                                },
                                {
                                    "CustomerID": "1000",
                                    "CustomerName": "Krishnam Allu",
                                    "City": "5645"
                                },
                                {
                                    "CustomerID": "1001",
                                    "CustomerName": "Dinh Mai",
                                    "City": "9258"
                                },
                                {
                                    "CustomerID": "1002",
                                    "CustomerName": "Stefan Selezeanu",
                                    "City": "7529"
                                },
                                {
                                    "CustomerID": "1003",
                                    "CustomerName": "Hue Ton",
                                    "City": "15689"
                                },
                                {
                                    "CustomerID": "1004",
                                    "CustomerName": "Drishti Bose",
                                    "City": "36434"
                                },
                                {
                                    "CustomerID": "1005",
                                    "CustomerName": "Bhadram Kamasamudram",
                                    "City": "36365"
                                },
                                {
                                    "CustomerID": "1006",
                                    "CustomerName": "Taj Syme",
                                    "City": "25083"
                                },
                                {
                                    "CustomerID": "1007",
                                    "CustomerName": "Irma Berzina",
                                    "City": "24180"
                                },
                                {
                                    "CustomerID": "1008",
                                    "CustomerName": "Vedrana Kovacevic",
                                    "City": "28434"
                                },
                                {
                                    "CustomerID": "1009",
                                    "CustomerName": "Bhagavateeprasaad Malladi",
                                    "City": "13896"
                                },
                                {
                                    "CustomerID": "1010",
                                    "CustomerName": "Serdar ozCelik",
                                    "City": "8562"
                                },
                                {
                                    "CustomerID": "1011",
                                    "CustomerName": "Rajeev Sandhu",
                                    "City": "35951"
                                },
                                {
                                    "CustomerID": "1012",
                                    "CustomerName": "Urve Kasesalu",
                                    "City": "6206"
                                },
                                {
                                    "CustomerID": "1013",
                                    "CustomerName": "Annette  Hetu",
                                    "City": "14522"
                                },
                                {
                                    "CustomerID": "1014",
                                    "CustomerName": "Narendra Tickoo",
                                    "City": "9099"
                                },
                                {
                                    "CustomerID": "1015",
                                    "CustomerName": "Isa Hulsegge",
                                    "City": "30734"
                                },
                                {
                                    "CustomerID": "1016",
                                    "CustomerName": "Aive Petrov",
                                    "City": "35470"
                                },
                                {
                                    "CustomerID": "1017",
                                    "CustomerName": "David Novacek ",
                                    "City": "7668"
                                },
                                {
                                    "CustomerID": "1018",
                                    "CustomerName": "Nils Kaulins",
                                    "City": "14041"
                                },
                                {
                                    "CustomerID": "1019",
                                    "CustomerName": "Dhanishta Pullela",
                                    "City": "12563"
                                },
                                {
                                    "CustomerID": "1020",
                                    "CustomerName": "Hai Banh",
                                    "City": "6574"
                                },
                                {
                                    "CustomerID": "1021",
                                    "CustomerName": "Fabrice Cloutier",
                                    "City": "32558"
                                },
                                {
                                    "CustomerID": "1022",
                                    "CustomerName": "Nadir Seddigh",
                                    "City": "3048"
                                },
                                {
                                    "CustomerID": "1023",
                                    "CustomerName": "Farzana Habibi",
                                    "City": "4270"
                                },
                                {
                                    "CustomerID": "1024",
                                    "CustomerName": "Arka Chatterjee",
                                    "City": "4795"
                                },
                                {
                                    "CustomerID": "1025",
                                    "CustomerName": "Tuulikki Linna",
                                    "City": "25771"
                                },
                                {
                                    "CustomerID": "1026",
                                    "CustomerName": "Daniella Cavalcante",
                                    "City": "28385"
                                },
                                {
                                    "CustomerID": "1027",
                                    "CustomerName": "Serdar ozden",
                                    "City": "28817"
                                },
                                {
                                    "CustomerID": "1028",
                                    "CustomerName": "Emma Van Zant",
                                    "City": "37886"
                                },
                                {
                                    "CustomerID": "1029",
                                    "CustomerName": "Veronika Necesana",
                                    "City": "9331"
                                },
                                {
                                    "CustomerID": "1030",
                                    "CustomerName": "Chompoo Atitarn",
                                    "City": "1326"
                                },
                                {
                                    "CustomerID": "1031",
                                    "CustomerName": "Dipti Shah",
                                    "City": "30830"
                                },
                                {
                                    "CustomerID": "1032",
                                    "CustomerName": "Som Mukherjee",
                                    "City": "22998"
                                },
                                {
                                    "CustomerID": "1033",
                                    "CustomerName": "Cuneyt Arslan",
                                    "City": "17992"
                                },
                                {
                                    "CustomerID": "1034",
                                    "CustomerName": "Aishwarya Dantuluri",
                                    "City": "3018"
                                },
                                {
                                    "CustomerID": "1035",
                                    "CustomerName": "Manjunatha Karnik",
                                    "City": "37898"
                                },
                                {
                                    "CustomerID": "1036",
                                    "CustomerName": "Erik Malk",
                                    "City": "2053"
                                },
                                {
                                    "CustomerID": "1037",
                                    "CustomerName": "David Jaramillo",
                                    "City": "28918"
                                },
                                {
                                    "CustomerID": "1038",
                                    "CustomerName": "Damodara Trivedi",
                                    "City": "33644"
                                },
                                {
                                    "CustomerID": "1039",
                                    "CustomerName": "Bhaamini Palagummi",
                                    "City": "18410"
                                },
                                {
                                    "CustomerID": "1040",
                                    "CustomerName": "Damodar Shenoy",
                                    "City": "30865"
                                },
                                {
                                    "CustomerID": "1041",
                                    "CustomerName": "Tomo Vidovic",
                                    "City": "34371"
                                },
                                {
                                    "CustomerID": "1042",
                                    "CustomerName": "Nguyen Banh",
                                    "City": "11696"
                                },
                                {
                                    "CustomerID": "1043",
                                    "CustomerName": "Raj Verma",
                                    "City": "7113"
                                },
                                {
                                    "CustomerID": "1044",
                                    "CustomerName": "Hanita Nookala",
                                    "City": "21650"
                                },
                                {
                                    "CustomerID": "1045",
                                    "CustomerName": "Matteo Cattaneo",
                                    "City": "24352"
                                },
                                {
                                    "CustomerID": "1046",
                                    "CustomerName": "Christian Couet",
                                    "City": "13799"
                                },
                                {
                                    "CustomerID": "1047",
                                    "CustomerName": "Ivana Hadrabova",
                                    "City": "18648"
                                },
                                {
                                    "CustomerID": "1048",
                                    "CustomerName": "Abhra Ganguly",
                                    "City": "35684"
                                },
                                {
                                    "CustomerID": "1049",
                                    "CustomerName": "Amet Shergill",
                                    "City": "37988"
                                },
                                {
                                    "CustomerID": "1050",
                                    "CustomerName": "Amrita Ganguly",
                                    "City": "26010"
                                },
                                {
                                    "CustomerID": "1051",
                                    "CustomerName": "Sylvie Laramee",
                                    "City": "16702"
                                },
                                {
                                    "CustomerID": "1052",
                                    "CustomerName": "Ian Olofsson",
                                    "City": "19374"
                                },
                                {
                                    "CustomerID": "1053",
                                    "CustomerName": "Luis Saucedo",
                                    "City": "19507"
                                },
                                {
                                    "CustomerID": "1054",
                                    "CustomerName": "Emma Salpa",
                                    "City": "29391"
                                },
                                {
                                    "CustomerID": "1055",
                                    "CustomerName": "Adriana Pena",
                                    "City": "29158"
                                },
                                {
                                    "CustomerID": "1056",
                                    "CustomerName": "Kalyani Benjaree",
                                    "City": "3714"
                                },
                                {
                                    "CustomerID": "1057",
                                    "CustomerName": "Ganesh Majumdar",
                                    "City": "25608"
                                },
                                {
                                    "CustomerID": "1058",
                                    "CustomerName": "Jaroslav Fisar",
                                    "City": "31564"
                                },
                                {
                                    "CustomerID": "1059",
                                    "CustomerName": "Jibek Juniskyzy",
                                    "City": "10483"
                                },
                                {
                                    "CustomerID": "1060",
                                    "CustomerName": "Anand Mudaliyar",
                                    "City": "22090"
                                },
                                {
                                    "CustomerID": "1061",
                                    "CustomerName": "Agrita Abele",
                                    "City": "19881"
                                }
                            ]
                        },
                        "text/html": [
                            "<table>",
                            "<tr><th>CustomerID</th><th>CustomerName</th><th>City</th></tr>",
                            "<tr><td>1</td><td>Tailspin Toys (Head Office)</td><td>19586</td></tr>",
                            "<tr><td>2</td><td>Tailspin Toys (Sylvanite, MT)</td><td>33475</td></tr>",
                            "<tr><td>3</td><td>Tailspin Toys (Peeples Valley, AZ)</td><td>26483</td></tr>",
                            "<tr><td>4</td><td>Tailspin Toys (Medicine Lodge, KS)</td><td>21692</td></tr>",
                            "<tr><td>5</td><td>Tailspin Toys (Gasport, NY)</td><td>12748</td></tr>",
                            "<tr><td>6</td><td>Tailspin Toys (Jessie, ND)</td><td>17054</td></tr>",
                            "<tr><td>7</td><td>Tailspin Toys (Frankewing, TN)</td><td>12152</td></tr>",
                            "<tr><td>8</td><td>Tailspin Toys (Bow Mar, CO)</td><td>3673</td></tr>",
                            "<tr><td>9</td><td>Tailspin Toys (Netcong, NJ)</td><td>23805</td></tr>",
                            "<tr><td>10</td><td>Tailspin Toys (Wimbledon, ND)</td><td>37403</td></tr>",
                            "<tr><td>11</td><td>Tailspin Toys (Devault, PA)</td><td>8987</td></tr>",
                            "<tr><td>12</td><td>Tailspin Toys (Biscay, MN)</td><td>3081</td></tr>",
                            "<tr><td>13</td><td>Tailspin Toys (Stonefort, IL)</td><td>32887</td></tr>",
                            "<tr><td>14</td><td>Tailspin Toys (Long Meadow, MD)</td><td>19908</td></tr>",
                            "<tr><td>15</td><td>Tailspin Toys (Batson, TX)</td><td>2111</td></tr>",
                            "<tr><td>16</td><td>Tailspin Toys (Coney Island, MO)</td><td>7409</td></tr>",
                            "<tr><td>17</td><td>Tailspin Toys (East Fultonham, OH)</td><td>9791</td></tr>",
                            "<tr><td>18</td><td>Tailspin Toys (Goffstown, NH)</td><td>13304</td></tr>",
                            "<tr><td>19</td><td>Tailspin Toys (Lemeta, AK)</td><td>19124</td></tr>",
                            "<tr><td>20</td><td>Tailspin Toys (College Place, WA)</td><td>7160</td></tr>",
                            "<tr><td>21</td><td>Tailspin Toys (Tresckow, PA)</td><td>34403</td></tr>",
                            "<tr><td>22</td><td>Tailspin Toys (Ward Ridge, FL)</td><td>35844</td></tr>",
                            "<tr><td>23</td><td>Tailspin Toys (Ikatan, AK)</td><td>16411</td></tr>",
                            "<tr><td>24</td><td>Tailspin Toys (Dundarrach, NC)</td><td>9524</td></tr>",
                            "<tr><td>25</td><td>Tailspin Toys (Avenal, CA)</td><td>1604</td></tr>",
                            "<tr><td>26</td><td>Tailspin Toys (Hedrick, IA)</td><td>15102</td></tr>",
                            "<tr><td>27</td><td>Tailspin Toys (Bowlus, MN)</td><td>3707</td></tr>",
                            "<tr><td>28</td><td>Tailspin Toys (North Ridge, NY)</td><td>24700</td></tr>",
                            "<tr><td>29</td><td>Tailspin Toys (Eulaton, AL)</td><td>10910</td></tr>",
                            "<tr><td>30</td><td>Tailspin Toys (Koontzville, WA)</td><td>17999</td></tr>",
                            "<tr><td>31</td><td>Tailspin Toys (Lake Stevens, WA)</td><td>18460</td></tr>",
                            "<tr><td>32</td><td>Tailspin Toys (Maypearl, TX)</td><td>21367</td></tr>",
                            "<tr><td>33</td><td>Tailspin Toys (Boyden Arbor, SC)</td><td>3736</td></tr>",
                            "<tr><td>34</td><td>Tailspin Toys (Dallardsville, TX)</td><td>8375</td></tr>",
                            "<tr><td>35</td><td>Tailspin Toys (Slanesville, WV)</td><td>31758</td></tr>",
                            "<tr><td>36</td><td>Tailspin Toys (Ekron, KY)</td><td>10193</td></tr>",
                            "<tr><td>37</td><td>Tailspin Toys (Kerby, OR)</td><td>17591</td></tr>",
                            "<tr><td>38</td><td>Tailspin Toys (Airport Drive, MO)</td><td>232</td></tr>",
                            "<tr><td>39</td><td>Tailspin Toys (Diablock, KY)</td><td>9040</td></tr>",
                            "<tr><td>40</td><td>Tailspin Toys (Impact, TX)</td><td>16433</td></tr>",
                            "<tr><td>41</td><td>Tailspin Toys (Olivette, MO)</td><td>25376</td></tr>",
                            "<tr><td>42</td><td>Tailspin Toys (Arietta, NY)</td><td>1132</td></tr>",
                            "<tr><td>43</td><td>Tailspin Toys (Upper Preston, WA)</td><td>34910</td></tr>",
                            "<tr><td>44</td><td>Tailspin Toys (Amanda Park, WA)</td><td>696</td></tr>",
                            "<tr><td>45</td><td>Tailspin Toys (Severna Park, MD)</td><td>31104</td></tr>",
                            "<tr><td>46</td><td>Tailspin Toys (Jemison, AL)</td><td>16992</td></tr>",
                            "<tr><td>47</td><td>Tailspin Toys (Lake Hughes, CA)</td><td>18375</td></tr>",
                            "<tr><td>48</td><td>Tailspin Toys (Trentwood, WA)</td><td>34400</td></tr>",
                            "<tr><td>49</td><td>Tailspin Toys (Muir, MI)</td><td>23396</td></tr>",
                            "<tr><td>50</td><td>Tailspin Toys (Hambleton, WV)</td><td>14380</td></tr>",
                            "<tr><td>51</td><td>Tailspin Toys (Imlaystown, NJ)</td><td>16430</td></tr>",
                            "<tr><td>52</td><td>Tailspin Toys (Idria, CA)</td><td>16401</td></tr>",
                            "<tr><td>53</td><td>Tailspin Toys (Nanafalia, AL)</td><td>23560</td></tr>",
                            "<tr><td>54</td><td>Tailspin Toys (Railroad, PA)</td><td>28222</td></tr>",
                            "<tr><td>55</td><td>Tailspin Toys (Gum Branch, GA)</td><td>14194</td></tr>",
                            "<tr><td>56</td><td>Tailspin Toys (Royal City, WA)</td><td>29729</td></tr>",
                            "<tr><td>57</td><td>Tailspin Toys (Lakemore, OH)</td><td>18514</td></tr>",
                            "<tr><td>58</td><td>Tailspin Toys (Mappsburg, VA)</td><td>20868</td></tr>",
                            "<tr><td>59</td><td>Tailspin Toys (Edgartown, MA)</td><td>10055</td></tr>",
                            "<tr><td>60</td><td>Tailspin Toys (East Dailey, WV)</td><td>9772</td></tr>",
                            "<tr><td>61</td><td>Tailspin Toys (Fairfield Glade, TN)</td><td>11131</td></tr>",
                            "<tr><td>62</td><td>Tailspin Toys (Great Neck Estates, NY)</td><td>13800</td></tr>",
                            "<tr><td>63</td><td>Tailspin Toys (Stallion Springs, CA)</td><td>32561</td></tr>",
                            "<tr><td>64</td><td>Tailspin Toys (Hodgdon, ME)</td><td>15646</td></tr>",
                            "<tr><td>65</td><td>Tailspin Toys (North Cowden, TX)</td><td>24579</td></tr>",
                            "<tr><td>66</td><td>Tailspin Toys (Madaket, MA)</td><td>20475</td></tr>",
                            "<tr><td>67</td><td>Tailspin Toys (Sentinel Butte, ND)</td><td>31075</td></tr>",
                            "<tr><td>68</td><td>Tailspin Toys (Gardere, LA)</td><td>12653</td></tr>",
                            "<tr><td>69</td><td>Tailspin Toys (Lytle Creek, CA)</td><td>20413</td></tr>",
                            "<tr><td>70</td><td>Tailspin Toys (New Baden, IL)</td><td>23843</td></tr>",
                            "<tr><td>71</td><td>Tailspin Toys (Good Hart, MI)</td><td>13375</td></tr>",
                            "<tr><td>72</td><td>Tailspin Toys (Cortaro, AZ)</td><td>7672</td></tr>",
                            "<tr><td>73</td><td>Tailspin Toys (Cokato, MN)</td><td>7071</td></tr>",
                            "<tr><td>74</td><td>Tailspin Toys (Indios, PR)</td><td>16520</td></tr>",
                            "<tr><td>75</td><td>Tailspin Toys (Windsor Locks, CT)</td><td>37473</td></tr>",
                            "<tr><td>76</td><td>Tailspin Toys (Yewed, OK)</td><td>38042</td></tr>",
                            "<tr><td>77</td><td>Tailspin Toys (Hahira, GA)</td><td>14287</td></tr>",
                            "<tr><td>78</td><td>Tailspin Toys (Sekiu, WA)</td><td>31010</td></tr>",
                            "<tr><td>79</td><td>Tailspin Toys (Page City, KS)</td><td>25933</td></tr>",
                            "<tr><td>80</td><td>Tailspin Toys (Valdese, NC)</td><td>34990</td></tr>",
                            "<tr><td>81</td><td>Tailspin Toys (Big Moose, NY)</td><td>2971</td></tr>",
                            "<tr><td>82</td><td>Tailspin Toys (La Cueva, NM)</td><td>18087</td></tr>",
                            "<tr><td>83</td><td>Tailspin Toys (Absecon, NJ)</td><td>49</td></tr>",
                            "<tr><td>84</td><td>Tailspin Toys (Aceitunas, PR)</td><td>58</td></tr>",
                            "<tr><td>85</td><td>Tailspin Toys (Andrix, CO)</td><td>843</td></tr>",
                            "<tr><td>86</td><td>Tailspin Toys (New Lexington, OH)</td><td>24014</td></tr>",
                            "<tr><td>87</td><td>Tailspin Toys (Sauquoit, NY)</td><td>30698</td></tr>",
                            "<tr><td>88</td><td>Tailspin Toys (Dracut, MA)</td><td>9379</td></tr>",
                            "<tr><td>89</td><td>Tailspin Toys (Victory Gardens, NJ)</td><td>35344</td></tr>",
                            "<tr><td>90</td><td>Tailspin Toys (Tolna, ND)</td><td>34192</td></tr>",
                            "<tr><td>91</td><td>Tailspin Toys (Alstead, NH)</td><td>600</td></tr>",
                            "<tr><td>92</td><td>Tailspin Toys (Sans Souci, SC)</td><td>30548</td></tr>",
                            "<tr><td>93</td><td>Tailspin Toys (Clewiston, FL)</td><td>6809</td></tr>",
                            "<tr><td>94</td><td>Tailspin Toys (Cheyenne Wells, CO)</td><td>6327</td></tr>",
                            "<tr><td>95</td><td>Tailspin Toys (Lavon, TX)</td><td>18882</td></tr>",
                            "<tr><td>96</td><td>Tailspin Toys (South La Paloma, TX)</td><td>32124</td></tr>",
                            "<tr><td>97</td><td>Tailspin Toys (Manchester Center, VT)</td><td>20710</td></tr>",
                            "<tr><td>98</td><td>Tailspin Toys (El Centro, CA)</td><td>10199</td></tr>",
                            "<tr><td>99</td><td>Tailspin Toys (Guin, AL)</td><td>14173</td></tr>",
                            "<tr><td>100</td><td>Tailspin Toys (Tunnelhill, PA)</td><td>34584</td></tr>",
                            "<tr><td>101</td><td>Tailspin Toys (Cundiyo, NM)</td><td>8227</td></tr>",
                            "<tr><td>102</td><td>Tailspin Toys (Fieldbrook, CA)</td><td>11520</td></tr>",
                            "<tr><td>103</td><td>Tailspin Toys (Kalvesta, KS)</td><td>17306</td></tr>",
                            "<tr><td>104</td><td>Tailspin Toys (Wallagrass, ME)</td><td>35712</td></tr>",
                            "<tr><td>105</td><td>Tailspin Toys (Tomnolen, MS)</td><td>34208</td></tr>",
                            "<tr><td>106</td><td>Tailspin Toys (Tumacacori, AZ)</td><td>34568</td></tr>",
                            "<tr><td>107</td><td>Tailspin Toys (Glen Avon, CA)</td><td>13109</td></tr>",
                            "<tr><td>108</td><td>Tailspin Toys (Bernie, MO)</td><td>2789</td></tr>",
                            "<tr><td>109</td><td>Tailspin Toys (South Laguna, CA)</td><td>32126</td></tr>",
                            "<tr><td>110</td><td>Tailspin Toys (North Crows Nest, IN)</td><td>24583</td></tr>",
                            "<tr><td>111</td><td>Tailspin Toys (Oriole Beach, FL)</td><td>25595</td></tr>",
                            "<tr><td>112</td><td>Tailspin Toys (Sallyards, KS)</td><td>30288</td></tr>",
                            "<tr><td>113</td><td>Tailspin Toys (Dahlia, NM)</td><td>8337</td></tr>",
                            "<tr><td>114</td><td>Tailspin Toys (Cherry Grove Beach, SC)</td><td>6221</td></tr>",
                            "<tr><td>115</td><td>Tailspin Toys (Bethania, NC)</td><td>2838</td></tr>",
                            "<tr><td>116</td><td>Tailspin Toys (Rafael Capó, PR)</td><td>28210</td></tr>",
                            "<tr><td>117</td><td>Tailspin Toys (Scofield, UT)</td><td>30839</td></tr>",
                            "<tr><td>118</td><td>Tailspin Toys (Vassalboro, ME)</td><td>35160</td></tr>",
                            "<tr><td>119</td><td>Tailspin Toys (Statenville, GA)</td><td>32688</td></tr>",
                            "<tr><td>120</td><td>Tailspin Toys (Bratenahl, OH)</td><td>3893</td></tr>",
                            "<tr><td>121</td><td>Tailspin Toys (Elrosa, MN)</td><td>10561</td></tr>",
                            "<tr><td>122</td><td>Tailspin Toys (McClave, CO)</td><td>21439</td></tr>",
                            "<tr><td>123</td><td>Tailspin Toys (Roe Park, NY)</td><td>29371</td></tr>",
                            "<tr><td>124</td><td>Tailspin Toys (Hanoverton, OH)</td><td>14556</td></tr>",
                            "<tr><td>125</td><td>Tailspin Toys (Annamoriah, WV)</td><td>890</td></tr>",
                            "<tr><td>126</td><td>Tailspin Toys (Francis Mills, NJ)</td><td>12142</td></tr>",
                            "<tr><td>127</td><td>Tailspin Toys (Point Roberts, WA)</td><td>27424</td></tr>",
                            "<tr><td>128</td><td>Tailspin Toys (East Portal, CO)</td><td>9884</td></tr>",
                            "<tr><td>129</td><td>Tailspin Toys (Mineral Hills, MI)</td><td>22430</td></tr>",
                            "<tr><td>130</td><td>Tailspin Toys (Maple Shade, NJ)</td><td>20846</td></tr>",
                            "<tr><td>131</td><td>Tailspin Toys (Kwethluk, AK)</td><td>18058</td></tr>",
                            "<tr><td>132</td><td>Tailspin Toys (Minidoka, ID)</td><td>22453</td></tr>",
                            "<tr><td>133</td><td>Tailspin Toys (Lake Erie Beach, NY)</td><td>18346</td></tr>",
                            "<tr><td>134</td><td>Tailspin Toys (Tavares, FL)</td><td>33660</td></tr>",
                            "<tr><td>135</td><td>Tailspin Toys (Terre du Lac, MO)</td><td>33806</td></tr>",
                            "<tr><td>136</td><td>Tailspin Toys (Mount Montgomery, NV)</td><td>23229</td></tr>",
                            "<tr><td>137</td><td>Tailspin Toys (Carbonville, UT)</td><td>5304</td></tr>",
                            "<tr><td>138</td><td>Tailspin Toys (Navassa, NC)</td><td>23687</td></tr>",
                            "<tr><td>139</td><td>Tailspin Toys (Hardeeville, SC)</td><td>14596</td></tr>",
                            "<tr><td>140</td><td>Tailspin Toys (Furley, KS)</td><td>12483</td></tr>",
                            "<tr><td>141</td><td>Tailspin Toys (Arrow Rock, MO)</td><td>1244</td></tr>",
                            "<tr><td>142</td><td>Tailspin Toys (King Cove, AK)</td><td>17742</td></tr>",
                            "<tr><td>143</td><td>Tailspin Toys (Ashtabula, OH)</td><td>1343</td></tr>",
                            "<tr><td>144</td><td>Tailspin Toys (Larose, LA)</td><td>18772</td></tr>",
                            "<tr><td>145</td><td>Tailspin Toys (Manahawkin, NJ)</td><td>20672</td></tr>",
                            "<tr><td>146</td><td>Tailspin Toys (Belgreen, AL)</td><td>2425</td></tr>",
                            "<tr><td>147</td><td>Tailspin Toys (Fishtail, MT)</td><td>11597</td></tr>",
                            "<tr><td>148</td><td>Tailspin Toys (Baraboo, WI)</td><td>1904</td></tr>",
                            "<tr><td>149</td><td>Tailspin Toys (Inguadona, MN)</td><td>16557</td></tr>",
                            "<tr><td>150</td><td>Tailspin Toys (Corfu, NY)</td><td>7594</td></tr>",
                            "<tr><td>151</td><td>Tailspin Toys (Antares, AZ)</td><td>928</td></tr>",
                            "<tr><td>152</td><td>Tailspin Toys (Sun River, MT)</td><td>33227</td></tr>",
                            "<tr><td>153</td><td>Tailspin Toys (Marcell, MN)</td><td>20901</td></tr>",
                            "<tr><td>154</td><td>Tailspin Toys (Eden Valley, MN)</td><td>10043</td></tr>",
                            "<tr><td>155</td><td>Tailspin Toys (Arbor Vitae, WI)</td><td>1040</td></tr>",
                            "<tr><td>156</td><td>Tailspin Toys (Hollywood Park, TX)</td><td>15783</td></tr>",
                            "<tr><td>157</td><td>Tailspin Toys (Saks, AL)</td><td>30216</td></tr>",
                            "<tr><td>158</td><td>Tailspin Toys (Donner, LA)</td><td>9237</td></tr>",
                            "<tr><td>159</td><td>Tailspin Toys (Saint Louis Park, MN)</td><td>30132</td></tr>",
                            "<tr><td>160</td><td>Tailspin Toys (Crary, ND)</td><td>7914</td></tr>",
                            "<tr><td>161</td><td>Tailspin Toys (Aspen Park, CO)</td><td>1366</td></tr>",
                            "<tr><td>162</td><td>Tailspin Toys (Glen Park, NY)</td><td>13136</td></tr>",
                            "<tr><td>163</td><td>Tailspin Toys (Panaca, NV)</td><td>26076</td></tr>",
                            "<tr><td>164</td><td>Tailspin Toys (Rothsville, PA)</td><td>29651</td></tr>",
                            "<tr><td>165</td><td>Tailspin Toys (Topstone, CT)</td><td>34256</td></tr>",
                            "<tr><td>166</td><td>Tailspin Toys (McCamey, TX)</td><td>21431</td></tr>",
                            "<tr><td>167</td><td>Tailspin Toys (Rockwall, TX)</td><td>29320</td></tr>",
                            "<tr><td>168</td><td>Tailspin Toys (Seagraves, TX)</td><td>30926</td></tr>",
                            "<tr><td>169</td><td>Tailspin Toys (Sinclair, WY)</td><td>31685</td></tr>",
                            "<tr><td>170</td><td>Tailspin Toys (Eastchester, NY)</td><td>9932</td></tr>",
                            "<tr><td>171</td><td>Tailspin Toys (Ortley Beach, NJ)</td><td>25653</td></tr>",
                            "<tr><td>172</td><td>Tailspin Toys (Madrone, NM)</td><td>20535</td></tr>",
                            "<tr><td>173</td><td>Tailspin Toys (Wappingers Falls, NY)</td><td>35833</td></tr>",
                            "<tr><td>174</td><td>Tailspin Toys (Astor Park, FL)</td><td>1380</td></tr>",
                            "<tr><td>175</td><td>Tailspin Toys (San Acacia, NM)</td><td>30342</td></tr>",
                            "<tr><td>176</td><td>Tailspin Toys (Malott, WA)</td><td>20642</td></tr>",
                            "<tr><td>177</td><td>Tailspin Toys (Orrtanna, PA)</td><td>25646</td></tr>",
                            "<tr><td>178</td><td>Tailspin Toys (Armstrong Creek, WI)</td><td>1207</td></tr>",
                            "<tr><td>179</td><td>Tailspin Toys (Hiteman, IA)</td><td>15610</td></tr>",
                            "<tr><td>180</td><td>Tailspin Toys (Caselton, NV)</td><td>5540</td></tr>",
                            "<tr><td>181</td><td>Tailspin Toys (Heilwood, PA)</td><td>15118</td></tr>",
                            "<tr><td>182</td><td>Tailspin Toys (Hayes Center, NE)</td><td>14977</td></tr>",
                            "<tr><td>183</td><td>Tailspin Toys (Tierra Verde, FL)</td><td>34028</td></tr>",
                            "<tr><td>184</td><td>Tailspin Toys (South Euclid, OH)</td><td>32083</td></tr>",
                            "<tr><td>185</td><td>Tailspin Toys (Vidrine, LA)</td><td>35355</td></tr>",
                            "<tr><td>186</td><td>Tailspin Toys (Placer, OR)</td><td>27166</td></tr>",
                            "<tr><td>187</td><td>Tailspin Toys (Brown City, MI)</td><td>4291</td></tr>",
                            "<tr><td>188</td><td>Tailspin Toys (Premont, TX)</td><td>27840</td></tr>",
                            "<tr><td>189</td><td>Tailspin Toys (Wilkes-Barre, PA)</td><td>37194</td></tr>",
                            "<tr><td>190</td><td>Tailspin Toys (Teutopolis, IL)</td><td>33832</td></tr>",
                            "<tr><td>191</td><td>Tailspin Toys (Orchard Hill, GA)</td><td>25552</td></tr>",
                            "<tr><td>192</td><td>Tailspin Toys (Optimo, NM)</td><td>25505</td></tr>",
                            "<tr><td>193</td><td>Tailspin Toys (Knifley, KY)</td><td>17931</td></tr>",
                            "<tr><td>194</td><td>Tailspin Toys (Naples Park, FL)</td><td>23592</td></tr>",
                            "<tr><td>195</td><td>Tailspin Toys (Lesslie, SC)</td><td>19232</td></tr>",
                            "<tr><td>196</td><td>Tailspin Toys (Howells, NE)</td><td>16090</td></tr>",
                            "<tr><td>197</td><td>Tailspin Toys (Magalia, CA)</td><td>20538</td></tr>",
                            "<tr><td>198</td><td>Tailspin Toys (Buell, MO)</td><td>4491</td></tr>",
                            "<tr><td>199</td><td>Tailspin Toys (Antonito, CO)</td><td>962</td></tr>",
                            "<tr><td>200</td><td>Tailspin Toys (Tooele, UT)</td><td>34230</td></tr>",
                            "<tr><td>201</td><td>Tailspin Toys (Skyway, WA)</td><td>31752</td></tr>",
                            "<tr><td>401</td><td>Wingtip Toys (Head Office)</td><td>25555</td></tr>",
                            "<tr><td>402</td><td>Wingtip Toys (Black Lick, PA)</td><td>3127</td></tr>",
                            "<tr><td>403</td><td>Wingtip Toys (Queen Valley, AZ)</td><td>28129</td></tr>",
                            "<tr><td>404</td><td>Wingtip Toys (Penns Creek, PA)</td><td>26579</td></tr>",
                            "<tr><td>405</td><td>Wingtip Toys (Bourbonnais, IL)</td><td>3659</td></tr>",
                            "<tr><td>406</td><td>Wingtip Toys (Tuscaloosa, AL)</td><td>34633</td></tr>",
                            "<tr><td>407</td><td>Wingtip Toys (Mooringsport, LA)</td><td>22903</td></tr>",
                            "<tr><td>408</td><td>Wingtip Toys (Rockwall, TX)</td><td>29320</td></tr>",
                            "<tr><td>409</td><td>Wingtip Toys (Orick, CA)</td><td>25581</td></tr>",
                            "<tr><td>410</td><td>Wingtip Toys (Bernstein, TX)</td><td>2791</td></tr>",
                            "<tr><td>411</td><td>Wingtip Toys (Edmund, WI)</td><td>10134</td></tr>",
                            "<tr><td>412</td><td>Wingtip Toys (Bozeman Hot Springs, MT)</td><td>3762</td></tr>",
                            "<tr><td>413</td><td>Wingtip Toys (Truscott, TX)</td><td>34519</td></tr>",
                            "<tr><td>414</td><td>Wingtip Toys (Rose Tree, PA)</td><td>29530</td></tr>",
                            "<tr><td>415</td><td>Wingtip Toys (Leathersville, GA)</td><td>18983</td></tr>",
                            "<tr><td>416</td><td>Wingtip Toys (Necedah, WI)</td><td>23707</td></tr>",
                            "<tr><td>417</td><td>Wingtip Toys (Chetek, WI)</td><td>6313</td></tr>",
                            "<tr><td>418</td><td>Wingtip Toys (Yaak, MT)</td><td>37969</td></tr>",
                            "<tr><td>419</td><td>Wingtip Toys (Compass Lake, FL)</td><td>7343</td></tr>",
                            "<tr><td>420</td><td>Wingtip Toys (Herlong, CA)</td><td>15248</td></tr>",
                            "<tr><td>421</td><td>Wingtip Toys (Highland Home, AL)</td><td>15434</td></tr>",
                            "<tr><td>422</td><td>Wingtip Toys (Naches, WA)</td><td>23542</td></tr>",
                            "<tr><td>423</td><td>Wingtip Toys (Baldwin City, KS)</td><td>1811</td></tr>",
                            "<tr><td>424</td><td>Wingtip Toys (Heartwell, NE)</td><td>15057</td></tr>",
                            "<tr><td>425</td><td>Wingtip Toys (Bethel Acres, OK)</td><td>2862</td></tr>",
                            "<tr><td>426</td><td>Wingtip Toys (Willow Valley, AZ)</td><td>37316</td></tr>",
                            "<tr><td>427</td><td>Wingtip Toys (Athol Springs, NY)</td><td>1417</td></tr>",
                            "<tr><td>428</td><td>Wingtip Toys (Paw Paw Lake, MI)</td><td>26376</td></tr>",
                            "<tr><td>429</td><td>Wingtip Toys (Lilbourn, MO)</td><td>19405</td></tr>",
                            "<tr><td>430</td><td>Wingtip Toys (Lost River, ID)</td><td>20043</td></tr>",
                            "<tr><td>431</td><td>Wingtip Toys (Rosa Sánchez, PR)</td><td>29490</td></tr>",
                            "<tr><td>432</td><td>Wingtip Toys (Vamo, FL)</td><td>35078</td></tr>",
                            "<tr><td>433</td><td>Wingtip Toys (Balko, OK)</td><td>1820</td></tr>",
                            "<tr><td>434</td><td>Wingtip Toys (Lime Lake, NY)</td><td>19434</td></tr>",
                            "<tr><td>435</td><td>Wingtip Toys (Teutopolis, IL)</td><td>33832</td></tr>",
                            "<tr><td>436</td><td>Wingtip Toys (Gargatha, VA)</td><td>12680</td></tr>",
                            "<tr><td>437</td><td>Wingtip Toys (Cadogan, PA)</td><td>4860</td></tr>",
                            "<tr><td>438</td><td>Wingtip Toys (Lucasville, OH)</td><td>20189</td></tr>",
                            "<tr><td>439</td><td>Wingtip Toys (Cylon, WI)</td><td>8306</td></tr>",
                            "<tr><td>440</td><td>Wingtip Toys (Asher, OK)</td><td>1299</td></tr>",
                            "<tr><td>441</td><td>Wingtip Toys (Keosauqua, IA)</td><td>17587</td></tr>",
                            "<tr><td>442</td><td>Wingtip Toys (Homer City, PA)</td><td>15835</td></tr>",
                            "<tr><td>443</td><td>Wingtip Toys (Berville, MI)</td><td>2815</td></tr>",
                            "<tr><td>444</td><td>Wingtip Toys (Tea, SD)</td><td>33701</td></tr>",
                            "<tr><td>445</td><td>Wingtip Toys (Dacono, CO)</td><td>8322</td></tr>",
                            "<tr><td>446</td><td>Wingtip Toys (Saint Landry, LA)</td><td>30119</td></tr>",
                            "<tr><td>447</td><td>Wingtip Toys (Coin, IA)</td><td>7069</td></tr>",
                            "<tr><td>448</td><td>Wingtip Toys (Salt Wells, NV)</td><td>30304</td></tr>",
                            "<tr><td>449</td><td>Wingtip Toys (Delray, WV)</td><td>8839</td></tr>",
                            "<tr><td>450</td><td>Wingtip Toys (Mount Summit, IN)</td><td>23284</td></tr>",
                            "<tr><td>451</td><td>Wingtip Toys (Smoot, WY)</td><td>31870</td></tr>",
                            "<tr><td>452</td><td>Wingtip Toys (Lake Davis, CA)</td><td>18340</td></tr>",
                            "<tr><td>453</td><td>Wingtip Toys (Stanardsville, VA)</td><td>32575</td></tr>",
                            "<tr><td>454</td><td>Wingtip Toys (Corcovado, PR)</td><td>7576</td></tr>",
                            "<tr><td>455</td><td>Wingtip Toys (Taft Heights, CA)</td><td>33520</td></tr>",
                            "<tr><td>456</td><td>Wingtip Toys (West Hempstead, NY)</td><td>36531</td></tr>",
                            "<tr><td>457</td><td>Wingtip Toys (Portales, NM)</td><td>27648</td></tr>",
                            "<tr><td>458</td><td>Wingtip Toys (Coker, AL)</td><td>7074</td></tr>",
                            "<tr><td>459</td><td>Wingtip Toys (Haydenville, OH)</td><td>14974</td></tr>",
                            "<tr><td>460</td><td>Wingtip Toys (Mayhill, NM)</td><td>21351</td></tr>",
                            "<tr><td>461</td><td>Wingtip Toys (Vair, TX)</td><td>34984</td></tr>",
                            "<tr><td>462</td><td>Wingtip Toys (Crossroads, NM)</td><td>8082</td></tr>",
                            "<tr><td>463</td><td>Wingtip Toys (Cowlington, OK)</td><td>7847</td></tr>",
                            "<tr><td>464</td><td>Wingtip Toys (Glen Ullin, ND)</td><td>13146</td></tr>",
                            "<tr><td>465</td><td>Wingtip Toys (Oologah, OK)</td><td>25479</td></tr>",
                            "<tr><td>466</td><td>Wingtip Toys (Lytle, TX)</td><td>20412</td></tr>",
                            "<tr><td>467</td><td>Wingtip Toys (Mahaffey, PA)</td><td>20575</td></tr>",
                            "<tr><td>468</td><td>Wingtip Toys (Sunburg, MN)</td><td>33237</td></tr>",
                            "<tr><td>469</td><td>Wingtip Toys (Johnetta, KY)</td><td>17093</td></tr>",
                            "<tr><td>470</td><td>Wingtip Toys (Universal City, TX)</td><td>34875</td></tr>",
                            "<tr><td>471</td><td>Wingtip Toys (Ridgemark, CA)</td><td>28907</td></tr>",
                            "<tr><td>472</td><td>Wingtip Toys (San Jacinto, CA)</td><td>30387</td></tr>",
                            "<tr><td>473</td><td>Wingtip Toys (Floriston, CA)</td><td>11747</td></tr>",
                            "<tr><td>474</td><td>Wingtip Toys (Bokeelia, FL)</td><td>3463</td></tr>",
                            "<tr><td>475</td><td>Wingtip Toys (Cale, AR)</td><td>4900</td></tr>",
                            "<tr><td>476</td><td>Wingtip Toys (Karthaus, PA)</td><td>17353</td></tr>",
                            "<tr><td>477</td><td>Wingtip Toys (Glancy, MS)</td><td>13068</td></tr>",
                            "<tr><td>478</td><td>Wingtip Toys (Stoneboro, PA)</td><td>32885</td></tr>",
                            "<tr><td>479</td><td>Wingtip Toys (Mier, IN)</td><td>22146</td></tr>",
                            "<tr><td>480</td><td>Wingtip Toys (Wapinitia, OR)</td><td>35830</td></tr>",
                            "<tr><td>481</td><td>Wingtip Toys (White Church, MO)</td><td>36946</td></tr>",
                            "<tr><td>482</td><td>Wingtip Toys (Caton, NY)</td><td>5664</td></tr>",
                            "<tr><td>483</td><td>Wingtip Toys (Plum Branch, SC)</td><td>27344</td></tr>",
                            "<tr><td>484</td><td>Wingtip Toys (Mauldin, SC)</td><td>21282</td></tr>",
                            "<tr><td>485</td><td>Wingtip Toys (Bonner Springs, KS)</td><td>3545</td></tr>",
                            "<tr><td>486</td><td>Wingtip Toys (Lowellville, OH)</td><td>20131</td></tr>",
                            "<tr><td>487</td><td>Wingtip Toys (Elverson, PA)</td><td>10581</td></tr>",
                            "<tr><td>488</td><td>Wingtip Toys (Isabela, PR)</td><td>16702</td></tr>",
                            "<tr><td>489</td><td>Wingtip Toys (Sayner, WI)</td><td>30751</td></tr>",
                            "<tr><td>490</td><td>Wingtip Toys (Beals, ME)</td><td>2230</td></tr>",
                            "<tr><td>491</td><td>Wingtip Toys (Morton Grove, IL)</td><td>23067</td></tr>",
                            "<tr><td>492</td><td>Wingtip Toys (Birds, IL)</td><td>3059</td></tr>",
                            "<tr><td>493</td><td>Wingtip Toys (Federalsburg, MD)</td><td>11427</td></tr>",
                            "<tr><td>494</td><td>Wingtip Toys (Pikeview, CO)</td><td>26906</td></tr>",
                            "<tr><td>495</td><td>Wingtip Toys (Boalsburg, PA)</td><td>3409</td></tr>",
                            "<tr><td>496</td><td>Wingtip Toys (Port Hueneme, CA)</td><td>27577</td></tr>",
                            "<tr><td>497</td><td>Wingtip Toys (Verdery, SC)</td><td>35223</td></tr>",
                            "<tr><td>498</td><td>Wingtip Toys (Obetz, OH)</td><td>25121</td></tr>",
                            "<tr><td>499</td><td>Wingtip Toys (East Fultonham, OH)</td><td>9791</td></tr>",
                            "<tr><td>500</td><td>Wingtip Toys (Obion, TN)</td><td>25122</td></tr>",
                            "<tr><td>501</td><td>Wingtip Toys (Cavendish, VT)</td><td>5687</td></tr>",
                            "<tr><td>502</td><td>Wingtip Toys (Miesville, MN)</td><td>22147</td></tr>",
                            "<tr><td>503</td><td>Wingtip Toys (Valhalla, NC)</td><td>35008</td></tr>",
                            "<tr><td>504</td><td>Wingtip Toys (Cape Neddick, ME)</td><td>5259</td></tr>",
                            "<tr><td>505</td><td>Wingtip Toys (Silver Plume, CO)</td><td>31629</td></tr>",
                            "<tr><td>506</td><td>Wingtip Toys (North Beach Haven, NJ)</td><td>24530</td></tr>",
                            "<tr><td>507</td><td>Wingtip Toys (Downingtown, PA)</td><td>9360</td></tr>",
                            "<tr><td>508</td><td>Wingtip Toys (Branson West, MO)</td><td>3876</td></tr>",
                            "<tr><td>509</td><td>Wingtip Toys (Bergen Park, CO)</td><td>2739</td></tr>",
                            "<tr><td>510</td><td>Wingtip Toys (Grabill, IN)</td><td>13507</td></tr>",
                            "<tr><td>511</td><td>Wingtip Toys (North Manitou, MI)</td><td>24658</td></tr>",
                            "<tr><td>512</td><td>Wingtip Toys (Philip, SD)</td><td>26788</td></tr>",
                            "<tr><td>513</td><td>Wingtip Toys (Straughn, IN)</td><td>32993</td></tr>",
                            "<tr><td>514</td><td>Wingtip Toys (Gilford, NH)</td><td>12992</td></tr>",
                            "<tr><td>515</td><td>Wingtip Toys (Del Valle, TX)</td><td>8772</td></tr>",
                            "<tr><td>516</td><td>Wingtip Toys (Harkers Island, NC)</td><td>14628</td></tr>",
                            "<tr><td>517</td><td>Wingtip Toys (Licking, MO)</td><td>19386</td></tr>",
                            "<tr><td>518</td><td>Wingtip Toys (Raton, NM)</td><td>28361</td></tr>",
                            "<tr><td>519</td><td>Wingtip Toys (Boynton, OK)</td><td>3755</td></tr>",
                            "<tr><td>520</td><td>Wingtip Toys (Frenchburg, KY)</td><td>12341</td></tr>",
                            "<tr><td>521</td><td>Wingtip Toys (Robertsdale, AL)</td><td>29166</td></tr>",
                            "<tr><td>522</td><td>Wingtip Toys (Dickerson, MD)</td><td>9064</td></tr>",
                            "<tr><td>523</td><td>Wingtip Toys (Bruceton Mills, WV)</td><td>4352</td></tr>",
                            "<tr><td>524</td><td>Wingtip Toys (Cloquet, MN)</td><td>6904</td></tr>",
                            "<tr><td>525</td><td>Wingtip Toys (Claycomo, MO)</td><td>6687</td></tr>",
                            "<tr><td>526</td><td>Wingtip Toys (Beekmantown, NY)</td><td>2379</td></tr>",
                            "<tr><td>527</td><td>Wingtip Toys (Islip Terrace, NY)</td><td>16741</td></tr>",
                            "<tr><td>528</td><td>Wingtip Toys (Rich Creek, VA)</td><td>28780</td></tr>",
                            "<tr><td>529</td><td>Wingtip Toys (Griswoldville, GA)</td><td>14072</td></tr>",
                            "<tr><td>530</td><td>Wingtip Toys (East Mountain, TX)</td><td>9857</td></tr>",
                            "<tr><td>531</td><td>Wingtip Toys (Omer, MI)</td><td>25424</td></tr>",
                            "<tr><td>532</td><td>Wingtip Toys (Waycross, GA)</td><td>36179</td></tr>",
                            "<tr><td>533</td><td>Wingtip Toys (Nichols Hills, OK)</td><td>24349</td></tr>",
                            "<tr><td>534</td><td>Wingtip Toys (Plaquemine, LA)</td><td>27232</td></tr>",
                            "<tr><td>535</td><td>Wingtip Toys (Triadelphia, WV)</td><td>34411</td></tr>",
                            "<tr><td>536</td><td>Wingtip Toys (Ferney, SD)</td><td>11491</td></tr>",
                            "<tr><td>537</td><td>Wingtip Toys (Akhiok, AK)</td><td>242</td></tr>",
                            "<tr><td>538</td><td>Wingtip Toys (Deeson, MS)</td><td>8751</td></tr>",
                            "<tr><td>539</td><td>Wingtip Toys (Nuangola, PA)</td><td>24898</td></tr>",
                            "<tr><td>540</td><td>Wingtip Toys (Weld, ME)</td><td>36322</td></tr>",
                            "<tr><td>541</td><td>Wingtip Toys (Mickleton, NJ)</td><td>22020</td></tr>",
                            "<tr><td>542</td><td>Wingtip Toys (Schererville, IN)</td><td>30790</td></tr>",
                            "<tr><td>543</td><td>Wingtip Toys (Lexington Heights, MI)</td><td>19338</td></tr>",
                            "<tr><td>544</td><td>Wingtip Toys (Broomtown, AL)</td><td>4278</td></tr>",
                            "<tr><td>545</td><td>Wingtip Toys (Jamison, IA)</td><td>16891</td></tr>",
                            "<tr><td>546</td><td>Wingtip Toys (Key Biscayne, FL)</td><td>17632</td></tr>",
                            "<tr><td>547</td><td>Wingtip Toys (Chaseley, ND)</td><td>6115</td></tr>",
                            "<tr><td>548</td><td>Wingtip Toys (Indian Creek, IL)</td><td>16469</td></tr>",
                            "<tr><td>549</td><td>Wingtip Toys (Lake Ronkonkoma, NY)</td><td>18446</td></tr>",
                            "<tr><td>550</td><td>Wingtip Toys (Morrison Bluff, AR)</td><td>23026</td></tr>",
                            "<tr><td>551</td><td>Wingtip Toys (Huntingburg, IN)</td><td>16239</td></tr>",
                            "<tr><td>552</td><td>Wingtip Toys (Shay, PA)</td><td>31266</td></tr>",
                            "<tr><td>553</td><td>Wingtip Toys (Helotes, TX)</td><td>15143</td></tr>",
                            "<tr><td>554</td><td>Wingtip Toys (Hollandsburg, IN)</td><td>15726</td></tr>",
                            "<tr><td>555</td><td>Wingtip Toys (Liberty Grove, MD)</td><td>19368</td></tr>",
                            "<tr><td>556</td><td>Wingtip Toys (Morita, TX)</td><td>22984</td></tr>",
                            "<tr><td>557</td><td>Wingtip Toys (New Laguna, NM)</td><td>24007</td></tr>",
                            "<tr><td>558</td><td>Wingtip Toys (Bourneville, OH)</td><td>3663</td></tr>",
                            "<tr><td>559</td><td>Wingtip Toys (Mendoza, TX)</td><td>21821</td></tr>",
                            "<tr><td>560</td><td>Wingtip Toys (Palmas del Mar, PR)</td><td>26010</td></tr>",
                            "<tr><td>561</td><td>Wingtip Toys (Marion Junction, AL)</td><td>21002</td></tr>",
                            "<tr><td>562</td><td>Wingtip Toys (Ware Shoals, SC)</td><td>35861</td></tr>",
                            "<tr><td>563</td><td>Wingtip Toys (Lostine, OR)</td><td>20047</td></tr>",
                            "<tr><td>564</td><td>Wingtip Toys (Tilleda, WI)</td><td>34060</td></tr>",
                            "<tr><td>565</td><td>Wingtip Toys (Wapiti, WY)</td><td>35831</td></tr>",
                            "<tr><td>566</td><td>Wingtip Toys (Amado, AZ)</td><td>689</td></tr>",
                            "<tr><td>567</td><td>Wingtip Toys (Jeromesville, OH)</td><td>17039</td></tr>",
                            "<tr><td>568</td><td>Wingtip Toys (Ovilla, TX)</td><td>25818</td></tr>",
                            "<tr><td>569</td><td>Wingtip Toys (West Frostproof, FL)</td><td>36513</td></tr>",
                            "<tr><td>570</td><td>Wingtip Toys (Flomaton, AL)</td><td>11686</td></tr>",
                            "<tr><td>571</td><td>Wingtip Toys (Pawlet, VT)</td><td>26379</td></tr>",
                            "<tr><td>572</td><td>Wingtip Toys (Trout Run, PA)</td><td>34466</td></tr>",
                            "<tr><td>573</td><td>Wingtip Toys (Marin City, CA)</td><td>20961</td></tr>",
                            "<tr><td>574</td><td>Wingtip Toys (Molalla, OR)</td><td>22604</td></tr>",
                            "<tr><td>575</td><td>Wingtip Toys (Trumansburg, NY)</td><td>34512</td></tr>",
                            "<tr><td>576</td><td>Wingtip Toys (Goodings Grove, IL)</td><td>13388</td></tr>",
                            "<tr><td>577</td><td>Wingtip Toys (Cherryplain, NY)</td><td>6238</td></tr>",
                            "<tr><td>578</td><td>Wingtip Toys (Bell Acres, PA)</td><td>2436</td></tr>",
                            "<tr><td>579</td><td>Wingtip Toys (Connoquenessing, PA)</td><td>7432</td></tr>",
                            "<tr><td>580</td><td>Wingtip Toys (Sarversville, PA)</td><td>30663</td></tr>",
                            "<tr><td>581</td><td>Wingtip Toys (Munich, ND)</td><td>23441</td></tr>",
                            "<tr><td>582</td><td>Wingtip Toys (Montoya, NM)</td><td>22814</td></tr>",
                            "<tr><td>583</td><td>Wingtip Toys (Knights Landing, CA)</td><td>17935</td></tr>",
                            "<tr><td>584</td><td>Wingtip Toys (Cache, OK)</td><td>4840</td></tr>",
                            "<tr><td>585</td><td>Wingtip Toys (Towaco, NJ)</td><td>34285</td></tr>",
                            "<tr><td>586</td><td>Wingtip Toys (Lynne, FL)</td><td>20376</td></tr>",
                            "<tr><td>587</td><td>Wingtip Toys (Plata, TX)</td><td>27236</td></tr>",
                            "<tr><td>588</td><td>Wingtip Toys (Oak Point, TX)</td><td>24988</td></tr>",
                            "<tr><td>589</td><td>Wingtip Toys (Alcester, SD)</td><td>357</td></tr>",
                            "<tr><td>590</td><td>Wingtip Toys (McAdenville, NC)</td><td>21405</td></tr>",
                            "<tr><td>591</td><td>Wingtip Toys (Idaho City, ID)</td><td>16382</td></tr>",
                            "<tr><td>592</td><td>Wingtip Toys (Dunkerton, IA)</td><td>9549</td></tr>",
                            "<tr><td>593</td><td>Wingtip Toys (Cuyamungue, NM)</td><td>8296</td></tr>",
                            "<tr><td>594</td><td>Wingtip Toys (Marfa, TX)</td><td>20924</td></tr>",
                            "<tr><td>595</td><td>Wingtip Toys (Accomac, VA)</td><td>54</td></tr>",
                            "<tr><td>596</td><td>Wingtip Toys (Cos Cob, CT)</td><td>7695</td></tr>",
                            "<tr><td>597</td><td>Wingtip Toys (Haycock, AK)</td><td>14965</td></tr>",
                            "<tr><td>598</td><td>Wingtip Toys (Kapa&#39;a, HI)</td><td>17340</td></tr>",
                            "<tr><td>599</td><td>Wingtip Toys (Dickworsham, TX)</td><td>9077</td></tr>",
                            "<tr><td>600</td><td>Wingtip Toys (Caro, MI)</td><td>5407</td></tr>",
                            "<tr><td>601</td><td>Wingtip Toys (Ruthsburg, MD)</td><td>29887</td></tr>",
                            "<tr><td>801</td><td>Eric Torres</td><td>31321</td></tr>",
                            "<tr><td>802</td><td>Cosmina Vlad</td><td>5192</td></tr>",
                            "<tr><td>803</td><td>Bala Dixit</td><td>33799</td></tr>",
                            "<tr><td>804</td><td>Aleksandrs Riekstins</td><td>18069</td></tr>",
                            "<tr><td>805</td><td>Ratan Poddar</td><td>10194</td></tr>",
                            "<tr><td>806</td><td>Shi Tu</td><td>31685</td></tr>",
                            "<tr><td>807</td><td>Gunnar Lohmus</td><td>35810</td></tr>",
                            "<tr><td>808</td><td>Jackson Kolios</td><td>28221</td></tr>",
                            "<tr><td>809</td><td>Madhu Dwivedi</td><td>26105</td></tr>",
                            "<tr><td>810</td><td>Alena Kellnerova</td><td>31006</td></tr>",
                            "<tr><td>811</td><td>Surendra Sahu</td><td>25332</td></tr>",
                            "<tr><td>812</td><td>Celica Barajas</td><td>9386</td></tr>",
                            "<tr><td>813</td><td>Shyam Poddar</td><td>33793</td></tr>",
                            "<tr><td>814</td><td>Johanna Hoornstra</td><td>26752</td></tr>",
                            "<tr><td>815</td><td>Libuse Valentova</td><td>10388</td></tr>",
                            "<tr><td>816</td><td>Harsha Huq</td><td>8892</td></tr>",
                            "<tr><td>817</td><td>Agrita Kanepa</td><td>3840</td></tr>",
                            "<tr><td>818</td><td>Liia Orav</td><td>3176</td></tr>",
                            "<tr><td>819</td><td>Santiago Vera</td><td>24401</td></tr>",
                            "<tr><td>820</td><td>Knut Svensson</td><td>20518</td></tr>",
                            "<tr><td>821</td><td>Kwanjai Saowaluk</td><td>5633</td></tr>",
                            "<tr><td>822</td><td>Suparna Bhattacharya</td><td>34031</td></tr>",
                            "<tr><td>823</td><td>Francisca Laureano</td><td>17142</td></tr>",
                            "<tr><td>824</td><td>Risto Valbe</td><td>2203</td></tr>",
                            "<tr><td>825</td><td>Jayanta Thakur</td><td>28367</td></tr>",
                            "<tr><td>826</td><td>Leila Carvalho</td><td>32358</td></tr>",
                            "<tr><td>827</td><td>Crina Grasu</td><td>33591</td></tr>",
                            "<tr><td>828</td><td>Sercan Celik</td><td>34193</td></tr>",
                            "<tr><td>829</td><td>Jack Walker</td><td>10263</td></tr>",
                            "<tr><td>830</td><td>Jana Fialova</td><td>36297</td></tr>",
                            "<tr><td>831</td><td>Bhaavan Rai</td><td>5966</td></tr>",
                            "<tr><td>832</td><td>Aakriti Byrraju</td><td>13242</td></tr>",
                            "<tr><td>833</td><td>Devraj Rao</td><td>36841</td></tr>",
                            "<tr><td>834</td><td>Cong Hoa</td><td>25971</td></tr>",
                            "<tr><td>835</td><td>Dominic Davignon</td><td>34685</td></tr>",
                            "<tr><td>836</td><td>Abel Spirlea</td><td>21022</td></tr>",
                            "<tr><td>837</td><td>Anil Sarkar</td><td>12666</td></tr>",
                            "<tr><td>838</td><td>Pavel Bogdanov</td><td>23870</td></tr>",
                            "<tr><td>839</td><td>Juan Morse</td><td>13868</td></tr>",
                            "<tr><td>840</td><td>Rodrigo Figueiredo</td><td>3165</td></tr>",
                            "<tr><td>841</td><td>Camille Authier</td><td>15</td></tr>",
                            "<tr><td>842</td><td>Biju Deb</td><td>8730</td></tr>",
                            "<tr><td>843</td><td>Marija Justina Pasek</td><td>20931</td></tr>",
                            "<tr><td>844</td><td>Durdanah Abbasi</td><td>18865</td></tr>",
                            "<tr><td>845</td><td>Emilie Hrdlickova</td><td>24164</td></tr>",
                            "<tr><td>846</td><td>Malorie Bousquet</td><td>35061</td></tr>",
                            "<tr><td>847</td><td>Kristiina Ivanov</td><td>37884</td></tr>",
                            "<tr><td>848</td><td>Alvin Bollinger</td><td>7938</td></tr>",
                            "<tr><td>849</td><td>Sabine Zalite</td><td>14377</td></tr>",
                            "<tr><td>850</td><td>Daakshaayaani Sankaramanchi</td><td>32359</td></tr>",
                            "<tr><td>851</td><td>Ebru Erdogan</td><td>31009</td></tr>",
                            "<tr><td>852</td><td>Bhagavaan Atluri</td><td>7525</td></tr>",
                            "<tr><td>853</td><td>Caterina Pinto</td><td>242</td></tr>",
                            "<tr><td>854</td><td>Daakshaayaani Kommineni</td><td>1775</td></tr>",
                            "<tr><td>855</td><td>Anna Mazzanti</td><td>16185</td></tr>",
                            "<tr><td>856</td><td>Satish Mittal</td><td>9433</td></tr>",
                            "<tr><td>857</td><td>Clarissa Manfrin</td><td>2614</td></tr>",
                            "<tr><td>858</td><td>Bimla PrabhupÄda</td><td>38038</td></tr>",
                            "<tr><td>859</td><td>Shah Alizadeh</td><td>12751</td></tr>",
                            "<tr><td>860</td><td>Marcela Lucescu</td><td>11010</td></tr>",
                            "<tr><td>861</td><td>Amarasimha Vinjamuri</td><td>24553</td></tr>",
                            "<tr><td>862</td><td>Lana Goransson</td><td>6124</td></tr>",
                            "<tr><td>863</td><td>Jakub Lukes</td><td>9701</td></tr>",
                            "<tr><td>864</td><td>Mikhail Degtyarev</td><td>2291</td></tr>",
                            "<tr><td>865</td><td>Bijoya Thakur</td><td>17730</td></tr>",
                            "<tr><td>866</td><td>Jay Bhuiyan</td><td>23264</td></tr>",
                            "<tr><td>867</td><td>Jasna Cerkez</td><td>10367</td></tr>",
                            "<tr><td>868</td><td>Laura Sykorova</td><td>7861</td></tr>",
                            "<tr><td>869</td><td>Abel Tatarescu</td><td>18110</td></tr>",
                            "<tr><td>870</td><td>In-Su Bae</td><td>21638</td></tr>",
                            "<tr><td>871</td><td>Darshana Madhunapantula</td><td>34181</td></tr>",
                            "<tr><td>872</td><td>Katerina Hadrabova</td><td>18141</td></tr>",
                            "<tr><td>873</td><td>Hana Hlouskova</td><td>22915</td></tr>",
                            "<tr><td>874</td><td>Daniel Martensson</td><td>20668</td></tr>",
                            "<tr><td>875</td><td>Philip Walker</td><td>35605</td></tr>",
                            "<tr><td>876</td><td>Marie LeBatelier</td><td>7781</td></tr>",
                            "<tr><td>877</td><td>Leyla Siavashi</td><td>20902</td></tr>",
                            "<tr><td>878</td><td>Miriam House</td><td>20610</td></tr>",
                            "<tr><td>879</td><td>Jitka Necesana</td><td>7403</td></tr>",
                            "<tr><td>880</td><td>Edmee Glissen</td><td>21432</td></tr>",
                            "<tr><td>881</td><td>Magdalena Michnova</td><td>37885</td></tr>",
                            "<tr><td>882</td><td>Maryann Huddleston</td><td>29165</td></tr>",
                            "<tr><td>883</td><td>Radha Barua</td><td>21604</td></tr>",
                            "<tr><td>884</td><td>Anindya Ghatak</td><td>33446</td></tr>",
                            "<tr><td>885</td><td>Chandrashekhar Dasgupta</td><td>24076</td></tr>",
                            "<tr><td>886</td><td>Debbie Molina</td><td>12693</td></tr>",
                            "<tr><td>887</td><td>Baran Jonsson</td><td>5682</td></tr>",
                            "<tr><td>888</td><td>Jai Lamble</td><td>14043</td></tr>",
                            "<tr><td>889</td><td>Sointu Savonheimo</td><td>1121</td></tr>",
                            "<tr><td>890</td><td>Olya Izmaylov</td><td>11753</td></tr>",
                            "<tr><td>891</td><td>Taneli Riutta</td><td>30517</td></tr>",
                            "<tr><td>892</td><td>Bahaar Asef zade</td><td>372</td></tr>",
                            "<tr><td>893</td><td>Leyla Asef zade</td><td>36499</td></tr>",
                            "<tr><td>894</td><td>Gabriela Hernandes</td><td>8317</td></tr>",
                            "<tr><td>895</td><td>Geza Roman</td><td>25795</td></tr>",
                            "<tr><td>896</td><td>Leonardo Folliero</td><td>7749</td></tr>",
                            "<tr><td>897</td><td>Allan Mannik</td><td>18337</td></tr>",
                            "<tr><td>898</td><td>Gopalgobinda Sikdar</td><td>25639</td></tr>",
                            "<tr><td>899</td><td>Chin-Sun Chang</td><td>5247</td></tr>",
                            "<tr><td>900</td><td>Lilli Sokk</td><td>14033</td></tr>",
                            "<tr><td>901</td><td>Adrian Andreasson</td><td>9445</td></tr>",
                            "<tr><td>902</td><td>Kamila Michnova</td><td>33867</td></tr>",
                            "<tr><td>903</td><td>Bing Han</td><td>8493</td></tr>",
                            "<tr><td>904</td><td>Olafs Rozitis</td><td>31401</td></tr>",
                            "<tr><td>905</td><td>Sara Huiting</td><td>3425</td></tr>",
                            "<tr><td>906</td><td>Ajitaab Pakalapati</td><td>5506</td></tr>",
                            "<tr><td>907</td><td>Eugen Agafitei</td><td>31249</td></tr>",
                            "<tr><td>908</td><td>Sumati Bhat</td><td>14591</td></tr>",
                            "<tr><td>909</td><td>Dena Glissen</td><td>7050</td></tr>",
                            "<tr><td>910</td><td>Elina Kaleja</td><td>13333</td></tr>",
                            "<tr><td>911</td><td>Liidia Lepp</td><td>25078</td></tr>",
                            "<tr><td>912</td><td>Volkan senturk</td><td>37938</td></tr>",
                            "<tr><td>913</td><td>Violetta KlanCisar</td><td>2175</td></tr>",
                            "<tr><td>914</td><td>Chandana Shasthri</td><td>23796</td></tr>",
                            "<tr><td>915</td><td>Ana Florea</td><td>4430</td></tr>",
                            "<tr><td>916</td><td>Pinja Jantunen</td><td>23734</td></tr>",
                            "<tr><td>917</td><td>Pari Hosseini</td><td>31936</td></tr>",
                            "<tr><td>918</td><td>Isidora Morales</td><td>34699</td></tr>",
                            "<tr><td>919</td><td>Kertu Sokk</td><td>14019</td></tr>",
                            "<tr><td>920</td><td>Gayatri Gajula</td><td>31348</td></tr>",
                            "<tr><td>921</td><td>Victoria Lacusta</td><td>7408</td></tr>",
                            "<tr><td>922</td><td>Sumati Chatterjee</td><td>24668</td></tr>",
                            "<tr><td>923</td><td>Tai Bach</td><td>12040</td></tr>",
                            "<tr><td>924</td><td>Eva Schulteisz</td><td>15461</td></tr>",
                            "<tr><td>925</td><td>Can ozcan</td><td>25354</td></tr>",
                            "<tr><td>926</td><td>Richard Friar</td><td>24589</td></tr>",
                            "<tr><td>927</td><td>Matyas Sedlar</td><td>4977</td></tr>",
                            "<tr><td>928</td><td>Arijit Bhuiyan</td><td>10831</td></tr>",
                            "<tr><td>929</td><td>Vladimir Henzl</td><td>27559</td></tr>",
                            "<tr><td>930</td><td>Shantanu Huq</td><td>7890</td></tr>",
                            "<tr><td>931</td><td>Nada Jovanovic</td><td>24764</td></tr>",
                            "<tr><td>932</td><td>Nicolo Cattaneo</td><td>30803</td></tr>",
                            "<tr><td>933</td><td>Joel Carrillo</td><td>9427</td></tr>",
                            "<tr><td>934</td><td>Ivan Sepulveda</td><td>24805</td></tr>",
                            "<tr><td>935</td><td>Daevasree Samavedam</td><td>13360</td></tr>",
                            "<tr><td>936</td><td>Ludmila Smidova</td><td>33747</td></tr>",
                            "<tr><td>937</td><td>Manca Hrastovsek</td><td>32267</td></tr>",
                            "<tr><td>938</td><td>Anna Gyarmathi</td><td>17329</td></tr>",
                            "<tr><td>939</td><td>Ioana Florea</td><td>23550</td></tr>",
                            "<tr><td>940</td><td>Lorin Astrom</td><td>27543</td></tr>",
                            "<tr><td>941</td><td>Bishwa Chatterjee</td><td>18332</td></tr>",
                            "<tr><td>942</td><td>Chaayaadaevi Sonti</td><td>29123</td></tr>",
                            "<tr><td>943</td><td>Drazenka Jelic</td><td>6221</td></tr>",
                            "<tr><td>944</td><td>Ida Celma</td><td>14931</td></tr>",
                            "<tr><td>945</td><td>Hoc Tran</td><td>36973</td></tr>",
                            "<tr><td>946</td><td>David safranek</td><td>34280</td></tr>",
                            "<tr><td>947</td><td>Svetlana Todorovic</td><td>35193</td></tr>",
                            "<tr><td>948</td><td>Richard Zahradnicek</td><td>16893</td></tr>",
                            "<tr><td>949</td><td>Seo-yun Paik</td><td>17151</td></tr>",
                            "<tr><td>950</td><td>Emily Whittle</td><td>16257</td></tr>",
                            "<tr><td>951</td><td>Eliza Persson</td><td>17053</td></tr>",
                            "<tr><td>952</td><td>Chuan Wattanasin</td><td>11626</td></tr>",
                            "<tr><td>953</td><td>Linh Dao</td><td>21191</td></tr>",
                            "<tr><td>954</td><td>Nasrin Omidzadeh</td><td>21161</td></tr>",
                            "<tr><td>955</td><td>Raghu Sandhu</td><td>3700</td></tr>",
                            "<tr><td>956</td><td>Nhung Thach</td><td>28502</td></tr>",
                            "<tr><td>957</td><td>Hee-Young Suh</td><td>24340</td></tr>",
                            "<tr><td>958</td><td>Valentin Tirlea</td><td>26769</td></tr>",
                            "<tr><td>959</td><td>Dhaatri Chavva</td><td>10059</td></tr>",
                            "<tr><td>960</td><td>Edgar Jogi</td><td>3501</td></tr>",
                            "<tr><td>961</td><td>Rani Ganguly</td><td>1246</td></tr>",
                            "<tr><td>962</td><td>Bhagavati Vinjamuri</td><td>11008</td></tr>",
                            "<tr><td>963</td><td>Be Trang</td><td>36091</td></tr>",
                            "<tr><td>964</td><td>Ingrida Zeltina</td><td>34422</td></tr>",
                            "<tr><td>965</td><td>Phoung Cu</td><td>21427</td></tr>",
                            "<tr><td>966</td><td>Sara Walkky</td><td>6402</td></tr>",
                            "<tr><td>967</td><td>Meera Patel</td><td>14492</td></tr>",
                            "<tr><td>968</td><td>Anca Gogean</td><td>1245</td></tr>",
                            "<tr><td>969</td><td>Staffan Persson</td><td>26778</td></tr>",
                            "<tr><td>970</td><td>Isidora Urias</td><td>3894</td></tr>",
                            "<tr><td>971</td><td>Dhanishta Mokkapati</td><td>16416</td></tr>",
                            "<tr><td>972</td><td>Lakshmi Benipal</td><td>19839</td></tr>",
                            "<tr><td>973</td><td>Kumar Kamei</td><td>22085</td></tr>",
                            "<tr><td>974</td><td>Emil Roman</td><td>18004</td></tr>",
                            "<tr><td>975</td><td>Prabodh Nair</td><td>34530</td></tr>",
                            "<tr><td>976</td><td>Alinne Matos</td><td>30906</td></tr>",
                            "<tr><td>977</td><td>Mauno Laurila</td><td>24590</td></tr>",
                            "<tr><td>978</td><td>Baalaamjali Devulapalli</td><td>28032</td></tr>",
                            "<tr><td>979</td><td>Melani Ravlen</td><td>7485</td></tr>",
                            "<tr><td>980</td><td>Om Yadav</td><td>20270</td></tr>",
                            "<tr><td>981</td><td>Mahmut ozbek</td><td>2782</td></tr>",
                            "<tr><td>982</td><td>Yves Belisle</td><td>35635</td></tr>",
                            "<tr><td>983</td><td>Sabine Alksne</td><td>13669</td></tr>",
                            "<tr><td>984</td><td>Kamala Nishad</td><td>14268</td></tr>",
                            "<tr><td>985</td><td>Roko Ilic</td><td>13692</td></tr>",
                            "<tr><td>986</td><td>Neil Farrelly</td><td>29938</td></tr>",
                            "<tr><td>987</td><td>Akhil Nadar</td><td>30779</td></tr>",
                            "<tr><td>988</td><td>Maksims Krastins</td><td>19979</td></tr>",
                            "<tr><td>989</td><td>Milinka Zujovic</td><td>38184</td></tr>",
                            "<tr><td>990</td><td>Andris Saulitis</td><td>10233</td></tr>",
                            "<tr><td>991</td><td>Valter Viiding</td><td>8294</td></tr>",
                            "<tr><td>992</td><td>Amarakumaar Gadiyaram</td><td>35503</td></tr>",
                            "<tr><td>993</td><td>Gasper Havzija</td><td>31323</td></tr>",
                            "<tr><td>994</td><td>Libuse Kuchtova</td><td>35082</td></tr>",
                            "<tr><td>995</td><td>Kumar Naicker</td><td>25170</td></tr>",
                            "<tr><td>996</td><td>Laszlo Gardenier</td><td>21001</td></tr>",
                            "<tr><td>997</td><td>Nada Ana Slosar</td><td>6907</td></tr>",
                            "<tr><td>998</td><td>Mahavir Sonkar</td><td>26300</td></tr>",
                            "<tr><td>999</td><td>Kristi Part</td><td>38036</td></tr>",
                            "<tr><td>1000</td><td>Krishnam Allu</td><td>5645</td></tr>",
                            "<tr><td>1001</td><td>Dinh Mai</td><td>9258</td></tr>",
                            "<tr><td>1002</td><td>Stefan Selezeanu</td><td>7529</td></tr>",
                            "<tr><td>1003</td><td>Hue Ton</td><td>15689</td></tr>",
                            "<tr><td>1004</td><td>Drishti Bose</td><td>36434</td></tr>",
                            "<tr><td>1005</td><td>Bhadram Kamasamudram</td><td>36365</td></tr>",
                            "<tr><td>1006</td><td>Taj Syme</td><td>25083</td></tr>",
                            "<tr><td>1007</td><td>Irma Berzina</td><td>24180</td></tr>",
                            "<tr><td>1008</td><td>Vedrana Kovacevic</td><td>28434</td></tr>",
                            "<tr><td>1009</td><td>Bhagavateeprasaad Malladi</td><td>13896</td></tr>",
                            "<tr><td>1010</td><td>Serdar ozCelik</td><td>8562</td></tr>",
                            "<tr><td>1011</td><td>Rajeev Sandhu</td><td>35951</td></tr>",
                            "<tr><td>1012</td><td>Urve Kasesalu</td><td>6206</td></tr>",
                            "<tr><td>1013</td><td>Annette  Hetu</td><td>14522</td></tr>",
                            "<tr><td>1014</td><td>Narendra Tickoo</td><td>9099</td></tr>",
                            "<tr><td>1015</td><td>Isa Hulsegge</td><td>30734</td></tr>",
                            "<tr><td>1016</td><td>Aive Petrov</td><td>35470</td></tr>",
                            "<tr><td>1017</td><td>David Novacek </td><td>7668</td></tr>",
                            "<tr><td>1018</td><td>Nils Kaulins</td><td>14041</td></tr>",
                            "<tr><td>1019</td><td>Dhanishta Pullela</td><td>12563</td></tr>",
                            "<tr><td>1020</td><td>Hai Banh</td><td>6574</td></tr>",
                            "<tr><td>1021</td><td>Fabrice Cloutier</td><td>32558</td></tr>",
                            "<tr><td>1022</td><td>Nadir Seddigh</td><td>3048</td></tr>",
                            "<tr><td>1023</td><td>Farzana Habibi</td><td>4270</td></tr>",
                            "<tr><td>1024</td><td>Arka Chatterjee</td><td>4795</td></tr>",
                            "<tr><td>1025</td><td>Tuulikki Linna</td><td>25771</td></tr>",
                            "<tr><td>1026</td><td>Daniella Cavalcante</td><td>28385</td></tr>",
                            "<tr><td>1027</td><td>Serdar ozden</td><td>28817</td></tr>",
                            "<tr><td>1028</td><td>Emma Van Zant</td><td>37886</td></tr>",
                            "<tr><td>1029</td><td>Veronika Necesana</td><td>9331</td></tr>",
                            "<tr><td>1030</td><td>Chompoo Atitarn</td><td>1326</td></tr>",
                            "<tr><td>1031</td><td>Dipti Shah</td><td>30830</td></tr>",
                            "<tr><td>1032</td><td>Som Mukherjee</td><td>22998</td></tr>",
                            "<tr><td>1033</td><td>Cuneyt Arslan</td><td>17992</td></tr>",
                            "<tr><td>1034</td><td>Aishwarya Dantuluri</td><td>3018</td></tr>",
                            "<tr><td>1035</td><td>Manjunatha Karnik</td><td>37898</td></tr>",
                            "<tr><td>1036</td><td>Erik Malk</td><td>2053</td></tr>",
                            "<tr><td>1037</td><td>David Jaramillo</td><td>28918</td></tr>",
                            "<tr><td>1038</td><td>Damodara Trivedi</td><td>33644</td></tr>",
                            "<tr><td>1039</td><td>Bhaamini Palagummi</td><td>18410</td></tr>",
                            "<tr><td>1040</td><td>Damodar Shenoy</td><td>30865</td></tr>",
                            "<tr><td>1041</td><td>Tomo Vidovic</td><td>34371</td></tr>",
                            "<tr><td>1042</td><td>Nguyen Banh</td><td>11696</td></tr>",
                            "<tr><td>1043</td><td>Raj Verma</td><td>7113</td></tr>",
                            "<tr><td>1044</td><td>Hanita Nookala</td><td>21650</td></tr>",
                            "<tr><td>1045</td><td>Matteo Cattaneo</td><td>24352</td></tr>",
                            "<tr><td>1046</td><td>Christian Couet</td><td>13799</td></tr>",
                            "<tr><td>1047</td><td>Ivana Hadrabova</td><td>18648</td></tr>",
                            "<tr><td>1048</td><td>Abhra Ganguly</td><td>35684</td></tr>",
                            "<tr><td>1049</td><td>Amet Shergill</td><td>37988</td></tr>",
                            "<tr><td>1050</td><td>Amrita Ganguly</td><td>26010</td></tr>",
                            "<tr><td>1051</td><td>Sylvie Laramee</td><td>16702</td></tr>",
                            "<tr><td>1052</td><td>Ian Olofsson</td><td>19374</td></tr>",
                            "<tr><td>1053</td><td>Luis Saucedo</td><td>19507</td></tr>",
                            "<tr><td>1054</td><td>Emma Salpa</td><td>29391</td></tr>",
                            "<tr><td>1055</td><td>Adriana Pena</td><td>29158</td></tr>",
                            "<tr><td>1056</td><td>Kalyani Benjaree</td><td>3714</td></tr>",
                            "<tr><td>1057</td><td>Ganesh Majumdar</td><td>25608</td></tr>",
                            "<tr><td>1058</td><td>Jaroslav Fisar</td><td>31564</td></tr>",
                            "<tr><td>1059</td><td>Jibek Juniskyzy</td><td>10483</td></tr>",
                            "<tr><td>1060</td><td>Anand Mudaliyar</td><td>22090</td></tr>",
                            "<tr><td>1061</td><td>Agrita Abele</td><td>19881</td></tr>",
                            "</table>"
                        ]
                    }
                }
            ],
            "execution_count": 2
        },
        {
            "cell_type": "markdown",
            "source": [
                "### **2nd Proposition**\n",
                "\n",
                "This query is designed to manage overdue transactions by applying a 2% late fee for customers who have outstanding balances past their payment terms. Here’s how the query operates:\n",
                "\n",
                "1. **Table Preparation**: \n",
                "   - Drops the `dbo.CustomerTransactions` table if it exists and recreates it to ensure a clean structure for managing customer transactions with the applied late fees.\n",
                "\n",
                "2. **Table Creation**: \n",
                "   - Defines `dbo.CustomerTransactions` with key columns such as `CustomerID`, `TransactionTypeID`, `TransactionDate`, `AmountExcludingTax`, `TaxAmount`, and `TransactionAmount`. This setup is tailored to track transactions while incorporating any overdue fees and tax amounts.\n",
                "\n",
                "3. **Apply Late Fee**:\n",
                "   - Inserts records for overdue transactions where a 2% late fee is applied.\n",
                "   - Calculates `AmountExcludingTax` as 2% of the `TransactionAmount`, `TaxAmount` as 15% of this late fee, and `TransactionAmount` as the total after applying the late fee.\n",
                "   - Filters only customers with an outstanding balance beyond their permitted payment period, calculated by comparing the transaction date with `PaymentDays` allowed for each customer.\n",
                "\n",
                "4. **Verification of Results**: \n",
                "   - Selects all records from `dbo.CustomerTransactions` to confirm the entries with the applied late fees.\n",
                "\n",
                "### Business Perspective\n",
                "\n",
                "This query is valuable from a business perspective because:\n",
                "\n",
                "- **Encourages Timely Payments**: The applied late fee incentivizes customers to settle their outstanding balances on time, reducing the likelihood of prolonged debt.\n",
                "- **Revenue Generation through Fees**: By applying a late fee, the company can compensate for the risk and inconvenience associated with overdue payments, adding a secondary revenue stream.\n",
                "- **Enhanced Financial Management**: Tracking overdue transactions and late fees in a separate table helps the finance team monitor receivables and identify repeat offenders, leading to better customer credit management.\n",
                "- **Efficient Tax Reporting**: Calculating and storing `TaxAmount` directly within each transaction record simplifies tax reporting, as tax on late fees is clearly defined and available for audits.\n",
                "\n",
                "This setup provides a systematic way to handle overdue payments, reinforcing financial discipline among customers and enhancing the business's cash flow.\n",
                ""
            ],
            "metadata": {
                "azdata_cell_guid": "bca42ccc-e7e3-42b8-894b-6d1d81fecf09"
            },
            "attachments": {}
        },
        {
            "cell_type": "code",
            "source": [
                "USE [WideWorldImporters];\n",
                "GO\n",
                "\n",
                "-- Drop the table if it exists\n",
                "DROP TABLE IF EXISTS dbo.CustomerTransactions;\n",
                "\n",
                "CREATE TABLE dbo.CustomerTransactions\n",
                "(\n",
                "  CustomerID          INT NOT NULL,\n",
                "  TransactionTypeID   INT NOT NULL,\n",
                "  TransactionDate     DATE NOT NULL,\n",
                "  AmountExcludingTax  MONEY NOT NULL,\n",
                "  TaxAmount           MONEY NOT NULL,\n",
                "  TransactionAmount   MONEY NOT NULL\n",
                ");\n",
                "\n",
                "-- Apply a late fee of 2% on overdue transactions\n",
                "INSERT INTO dbo.CustomerTransactions (CustomerID, TransactionTypeID, TransactionDate, AmountExcludingTax, TaxAmount, TransactionAmount)\n",
                "SELECT T.CustomerID, 2 AS TransactionTypeID, GETDATE() AS TransactionDate,\n",
                "       T.TransactionAmount * 0.02 AS AmountExcludingTax,\n",
                "       T.TransactionAmount * 0.02 * 0.15 AS TaxAmount,  -- Assuming a 15% tax rate\n",
                "       T.TransactionAmount * 1.02 AS TransactionAmount\n",
                "FROM Sales.CustomerTransactions AS T\n",
                "JOIN Sales.Customers AS C ON T.CustomerID = C.CustomerID\n",
                "WHERE T.OutstandingBalance > 0\n",
                "AND DATEDIFF(DAY, T.TransactionDate, GETDATE()) > C.PaymentDays;\n",
                "\n",
                "select * from dbo.CustomerTransactions"
            ],
            "metadata": {
                "language": "sql",
                "azdata_cell_guid": "e3f3603d-6736-439a-9ecd-4c3d3c56dafb"
            },
            "outputs": [
                {
                    "output_type": "display_data",
                    "data": {
                        "text/html": "Commands completed successfully."
                    },
                    "metadata": {}
                },
                {
                    "output_type": "display_data",
                    "data": {
                        "text/html": "(84 rows affected)"
                    },
                    "metadata": {}
                },
                {
                    "output_type": "display_data",
                    "data": {
                        "text/html": "(84 rows affected)"
                    },
                    "metadata": {}
                },
                {
                    "output_type": "display_data",
                    "data": {
                        "text/html": "Total execution time: 00:00:00.060"
                    },
                    "metadata": {}
                },
                {
                    "output_type": "execute_result",
                    "metadata": {},
                    "execution_count": 4,
                    "data": {
                        "application/vnd.dataresource+json": {
                            "schema": {
                                "fields": [
                                    {
                                        "name": "CustomerID"
                                    },
                                    {
                                        "name": "TransactionTypeID"
                                    },
                                    {
                                        "name": "TransactionDate"
                                    },
                                    {
                                        "name": "AmountExcludingTax"
                                    },
                                    {
                                        "name": "TaxAmount"
                                    },
                                    {
                                        "name": "TransactionAmount"
                                    }
                                ]
                            },
                            "data": [
                                {
                                    "CustomerID": "1",
                                    "TransactionTypeID": "2",
                                    "TransactionDate": "2024-10-29",
                                    "AmountExcludingTax": "9.936",
                                    "TaxAmount": "1.4904",
                                    "TransactionAmount": "506.736"
                                },
                                {
                                    "CustomerID": "1",
                                    "TransactionTypeID": "2",
                                    "TransactionDate": "2024-10-29",
                                    "AmountExcludingTax": "28.681",
                                    "TaxAmount": "4.3022",
                                    "TransactionAmount": "1462.731"
                                },
                                {
                                    "CustomerID": "1",
                                    "TransactionTypeID": "2",
                                    "TransactionDate": "2024-10-29",
                                    "AmountExcludingTax": "25.7416",
                                    "TaxAmount": "3.8612",
                                    "TransactionAmount": "1312.8216"
                                },
                                {
                                    "CustomerID": "1",
                                    "TransactionTypeID": "2",
                                    "TransactionDate": "2024-10-29",
                                    "AmountExcludingTax": "63.9824",
                                    "TaxAmount": "9.5974",
                                    "TransactionAmount": "3263.1024"
                                },
                                {
                                    "CustomerID": "1",
                                    "TransactionTypeID": "2",
                                    "TransactionDate": "2024-10-29",
                                    "AmountExcludingTax": "32.3564",
                                    "TaxAmount": "4.8535",
                                    "TransactionAmount": "1650.1764"
                                },
                                {
                                    "CustomerID": "1",
                                    "TransactionTypeID": "2",
                                    "TransactionDate": "2024-10-29",
                                    "AmountExcludingTax": "96.7932",
                                    "TaxAmount": "14.519",
                                    "TransactionAmount": "4936.4532"
                                },
                                {
                                    "CustomerID": "1",
                                    "TransactionTypeID": "2",
                                    "TransactionDate": "2024-10-29",
                                    "AmountExcludingTax": "7.176",
                                    "TaxAmount": "1.0764",
                                    "TransactionAmount": "365.976"
                                },
                                {
                                    "CustomerID": "1",
                                    "TransactionTypeID": "2",
                                    "TransactionDate": "2024-10-29",
                                    "AmountExcludingTax": "11.9692",
                                    "TaxAmount": "1.7954",
                                    "TransactionAmount": "610.4292"
                                },
                                {
                                    "CustomerID": "1",
                                    "TransactionTypeID": "2",
                                    "TransactionDate": "2024-10-29",
                                    "AmountExcludingTax": "51.152",
                                    "TaxAmount": "7.6728",
                                    "TransactionAmount": "2608.752"
                                },
                                {
                                    "CustomerID": "1",
                                    "TransactionTypeID": "2",
                                    "TransactionDate": "2024-10-29",
                                    "AmountExcludingTax": "90.551",
                                    "TaxAmount": "13.5827",
                                    "TransactionAmount": "4618.101"
                                },
                                {
                                    "CustomerID": "1",
                                    "TransactionTypeID": "2",
                                    "TransactionDate": "2024-10-29",
                                    "AmountExcludingTax": "238.234",
                                    "TaxAmount": "35.7351",
                                    "TransactionAmount": "12149.934"
                                },
                                {
                                    "CustomerID": "1",
                                    "TransactionTypeID": "2",
                                    "TransactionDate": "2024-10-29",
                                    "AmountExcludingTax": "0.897",
                                    "TaxAmount": "0.1346",
                                    "TransactionAmount": "45.747"
                                },
                                {
                                    "CustomerID": "1",
                                    "TransactionTypeID": "2",
                                    "TransactionDate": "2024-10-29",
                                    "AmountExcludingTax": "35.4016",
                                    "TaxAmount": "5.3102",
                                    "TransactionAmount": "1805.4816"
                                },
                                {
                                    "CustomerID": "1",
                                    "TransactionTypeID": "2",
                                    "TransactionDate": "2024-10-29",
                                    "AmountExcludingTax": "5.2808",
                                    "TaxAmount": "0.7921",
                                    "TransactionAmount": "269.3208"
                                },
                                {
                                    "CustomerID": "1",
                                    "TransactionTypeID": "2",
                                    "TransactionDate": "2024-10-29",
                                    "AmountExcludingTax": "80.914",
                                    "TaxAmount": "12.1371",
                                    "TransactionAmount": "4126.614"
                                },
                                {
                                    "CustomerID": "1",
                                    "TransactionTypeID": "2",
                                    "TransactionDate": "2024-10-29",
                                    "AmountExcludingTax": "100.188",
                                    "TaxAmount": "15.0282",
                                    "TransactionAmount": "5109.588"
                                },
                                {
                                    "CustomerID": "1",
                                    "TransactionTypeID": "2",
                                    "TransactionDate": "2024-10-29",
                                    "AmountExcludingTax": "93.311",
                                    "TaxAmount": "13.9967",
                                    "TransactionAmount": "4758.861"
                                },
                                {
                                    "CustomerID": "1",
                                    "TransactionTypeID": "2",
                                    "TransactionDate": "2024-10-29",
                                    "AmountExcludingTax": "13.9242",
                                    "TaxAmount": "2.0886",
                                    "TransactionAmount": "710.1342"
                                },
                                {
                                    "CustomerID": "1",
                                    "TransactionTypeID": "2",
                                    "TransactionDate": "2024-10-29",
                                    "AmountExcludingTax": "15.3088",
                                    "TaxAmount": "2.2963",
                                    "TransactionAmount": "780.7488"
                                },
                                {
                                    "CustomerID": "1",
                                    "TransactionTypeID": "2",
                                    "TransactionDate": "2024-10-29",
                                    "AmountExcludingTax": "68.8206",
                                    "TaxAmount": "10.3231",
                                    "TransactionAmount": "3509.8506"
                                },
                                {
                                    "CustomerID": "1",
                                    "TransactionTypeID": "2",
                                    "TransactionDate": "2024-10-29",
                                    "AmountExcludingTax": "58.098",
                                    "TaxAmount": "8.7147",
                                    "TransactionAmount": "2962.998"
                                },
                                {
                                    "CustomerID": "401",
                                    "TransactionTypeID": "2",
                                    "TransactionDate": "2024-10-29",
                                    "AmountExcludingTax": "110.998",
                                    "TaxAmount": "16.6497",
                                    "TransactionAmount": "5660.898"
                                },
                                {
                                    "CustomerID": "401",
                                    "TransactionTypeID": "2",
                                    "TransactionDate": "2024-10-29",
                                    "AmountExcludingTax": "28.382",
                                    "TaxAmount": "4.2573",
                                    "TransactionAmount": "1447.482"
                                },
                                {
                                    "CustomerID": "401",
                                    "TransactionTypeID": "2",
                                    "TransactionDate": "2024-10-29",
                                    "AmountExcludingTax": "91.31",
                                    "TaxAmount": "13.6965",
                                    "TransactionAmount": "4656.81"
                                },
                                {
                                    "CustomerID": "401",
                                    "TransactionTypeID": "2",
                                    "TransactionDate": "2024-10-29",
                                    "AmountExcludingTax": "24.564",
                                    "TaxAmount": "3.6846",
                                    "TransactionAmount": "1252.764"
                                },
                                {
                                    "CustomerID": "401",
                                    "TransactionTypeID": "2",
                                    "TransactionDate": "2024-10-29",
                                    "AmountExcludingTax": "1.196",
                                    "TaxAmount": "0.1794",
                                    "TransactionAmount": "60.996"
                                },
                                {
                                    "CustomerID": "401",
                                    "TransactionTypeID": "2",
                                    "TransactionDate": "2024-10-29",
                                    "AmountExcludingTax": "8.487",
                                    "TaxAmount": "1.2731",
                                    "TransactionAmount": "432.837"
                                },
                                {
                                    "CustomerID": "401",
                                    "TransactionTypeID": "2",
                                    "TransactionDate": "2024-10-29",
                                    "AmountExcludingTax": "23.115",
                                    "TaxAmount": "3.4673",
                                    "TransactionAmount": "1178.865"
                                },
                                {
                                    "CustomerID": "401",
                                    "TransactionTypeID": "2",
                                    "TransactionDate": "2024-10-29",
                                    "AmountExcludingTax": "72.335",
                                    "TaxAmount": "10.8503",
                                    "TransactionAmount": "3689.085"
                                },
                                {
                                    "CustomerID": "401",
                                    "TransactionTypeID": "2",
                                    "TransactionDate": "2024-10-29",
                                    "AmountExcludingTax": "20.4662",
                                    "TaxAmount": "3.0699",
                                    "TransactionAmount": "1043.7762"
                                },
                                {
                                    "CustomerID": "401",
                                    "TransactionTypeID": "2",
                                    "TransactionDate": "2024-10-29",
                                    "AmountExcludingTax": "22.632",
                                    "TaxAmount": "3.3948",
                                    "TransactionAmount": "1154.232"
                                },
                                {
                                    "CustomerID": "401",
                                    "TransactionTypeID": "2",
                                    "TransactionDate": "2024-10-29",
                                    "AmountExcludingTax": "70.886",
                                    "TaxAmount": "10.6329",
                                    "TransactionAmount": "3615.186"
                                },
                                {
                                    "CustomerID": "401",
                                    "TransactionTypeID": "2",
                                    "TransactionDate": "2024-10-29",
                                    "AmountExcludingTax": "64.032",
                                    "TaxAmount": "9.6048",
                                    "TransactionAmount": "3265.632"
                                },
                                {
                                    "CustomerID": "401",
                                    "TransactionTypeID": "2",
                                    "TransactionDate": "2024-10-29",
                                    "AmountExcludingTax": "249.412",
                                    "TaxAmount": "37.4118",
                                    "TransactionAmount": "12720.012"
                                },
                                {
                                    "CustomerID": "401",
                                    "TransactionTypeID": "2",
                                    "TransactionDate": "2024-10-29",
                                    "AmountExcludingTax": "164.243",
                                    "TaxAmount": "24.6365",
                                    "TransactionAmount": "8376.393"
                                },
                                {
                                    "CustomerID": "401",
                                    "TransactionTypeID": "2",
                                    "TransactionDate": "2024-10-29",
                                    "AmountExcludingTax": "98.426",
                                    "TaxAmount": "14.7639",
                                    "TransactionAmount": "5019.726"
                                },
                                {
                                    "CustomerID": "401",
                                    "TransactionTypeID": "2",
                                    "TransactionDate": "2024-10-29",
                                    "AmountExcludingTax": "13.0548",
                                    "TaxAmount": "1.9582",
                                    "TransactionAmount": "665.7948"
                                },
                                {
                                    "CustomerID": "401",
                                    "TransactionTypeID": "2",
                                    "TransactionDate": "2024-10-29",
                                    "AmountExcludingTax": "48.07",
                                    "TaxAmount": "7.2105",
                                    "TransactionAmount": "2451.57"
                                },
                                {
                                    "CustomerID": "401",
                                    "TransactionTypeID": "2",
                                    "TransactionDate": "2024-10-29",
                                    "AmountExcludingTax": "565.616",
                                    "TaxAmount": "84.8424",
                                    "TransactionAmount": "28846.416"
                                },
                                {
                                    "CustomerID": "401",
                                    "TransactionTypeID": "2",
                                    "TransactionDate": "2024-10-29",
                                    "AmountExcludingTax": "52.118",
                                    "TaxAmount": "7.8177",
                                    "TransactionAmount": "2658.018"
                                },
                                {
                                    "CustomerID": "401",
                                    "TransactionTypeID": "2",
                                    "TransactionDate": "2024-10-29",
                                    "AmountExcludingTax": "25.095",
                                    "TaxAmount": "3.7643",
                                    "TransactionAmount": "1279.845"
                                },
                                {
                                    "CustomerID": "401",
                                    "TransactionTypeID": "2",
                                    "TransactionDate": "2024-10-29",
                                    "AmountExcludingTax": "136.0956",
                                    "TaxAmount": "20.4143",
                                    "TransactionAmount": "6940.8756"
                                },
                                {
                                    "CustomerID": "401",
                                    "TransactionTypeID": "2",
                                    "TransactionDate": "2024-10-29",
                                    "AmountExcludingTax": "50.538",
                                    "TaxAmount": "7.5807",
                                    "TransactionAmount": "2577.438"
                                },
                                {
                                    "CustomerID": "802",
                                    "TransactionTypeID": "2",
                                    "TransactionDate": "2024-10-29",
                                    "AmountExcludingTax": "68.5516",
                                    "TaxAmount": "10.2827",
                                    "TransactionAmount": "3496.1316"
                                },
                                {
                                    "CustomerID": "810",
                                    "TransactionTypeID": "2",
                                    "TransactionDate": "2024-10-29",
                                    "AmountExcludingTax": "29.128",
                                    "TaxAmount": "4.3692",
                                    "TransactionAmount": "1485.528"
                                },
                                {
                                    "CustomerID": "813",
                                    "TransactionTypeID": "2",
                                    "TransactionDate": "2024-10-29",
                                    "AmountExcludingTax": "115.3566",
                                    "TaxAmount": "17.3035",
                                    "TransactionAmount": "5883.1866"
                                },
                                {
                                    "CustomerID": "822",
                                    "TransactionTypeID": "2",
                                    "TransactionDate": "2024-10-29",
                                    "AmountExcludingTax": "82.5586",
                                    "TaxAmount": "12.3838",
                                    "TransactionAmount": "4210.4886"
                                },
                                {
                                    "CustomerID": "827",
                                    "TransactionTypeID": "2",
                                    "TransactionDate": "2024-10-29",
                                    "AmountExcludingTax": "8.993",
                                    "TaxAmount": "1.349",
                                    "TransactionAmount": "458.643"
                                },
                                {
                                    "CustomerID": "835",
                                    "TransactionTypeID": "2",
                                    "TransactionDate": "2024-10-29",
                                    "AmountExcludingTax": "114.6596",
                                    "TaxAmount": "17.1989",
                                    "TransactionAmount": "5847.6396"
                                },
                                {
                                    "CustomerID": "838",
                                    "TransactionTypeID": "2",
                                    "TransactionDate": "2024-10-29",
                                    "AmountExcludingTax": "12.2636",
                                    "TaxAmount": "1.8395",
                                    "TransactionAmount": "625.4436"
                                },
                                {
                                    "CustomerID": "840",
                                    "TransactionTypeID": "2",
                                    "TransactionDate": "2024-10-29",
                                    "AmountExcludingTax": "119.508",
                                    "TaxAmount": "17.9262",
                                    "TransactionAmount": "6094.908"
                                },
                                {
                                    "CustomerID": "849",
                                    "TransactionTypeID": "2",
                                    "TransactionDate": "2024-10-29",
                                    "AmountExcludingTax": "4.025",
                                    "TaxAmount": "0.6038",
                                    "TransactionAmount": "205.275"
                                },
                                {
                                    "CustomerID": "856",
                                    "TransactionTypeID": "2",
                                    "TransactionDate": "2024-10-29",
                                    "AmountExcludingTax": "103.155",
                                    "TaxAmount": "15.4733",
                                    "TransactionAmount": "5260.905"
                                },
                                {
                                    "CustomerID": "860",
                                    "TransactionTypeID": "2",
                                    "TransactionDate": "2024-10-29",
                                    "AmountExcludingTax": "65.527",
                                    "TaxAmount": "9.8291",
                                    "TransactionAmount": "3341.877"
                                },
                                {
                                    "CustomerID": "890",
                                    "TransactionTypeID": "2",
                                    "TransactionDate": "2024-10-29",
                                    "AmountExcludingTax": "14.904",
                                    "TaxAmount": "2.2356",
                                    "TransactionAmount": "760.104"
                                },
                                {
                                    "CustomerID": "891",
                                    "TransactionTypeID": "2",
                                    "TransactionDate": "2024-10-29",
                                    "AmountExcludingTax": "30.3416",
                                    "TaxAmount": "4.5512",
                                    "TransactionAmount": "1547.4216"
                                },
                                {
                                    "CustomerID": "895",
                                    "TransactionTypeID": "2",
                                    "TransactionDate": "2024-10-29",
                                    "AmountExcludingTax": "53.705",
                                    "TaxAmount": "8.0558",
                                    "TransactionAmount": "2738.955"
                                },
                                {
                                    "CustomerID": "900",
                                    "TransactionTypeID": "2",
                                    "TransactionDate": "2024-10-29",
                                    "AmountExcludingTax": "73.5592",
                                    "TaxAmount": "11.0339",
                                    "TransactionAmount": "3751.5192"
                                },
                                {
                                    "CustomerID": "900",
                                    "TransactionTypeID": "2",
                                    "TransactionDate": "2024-10-29",
                                    "AmountExcludingTax": "40.227",
                                    "TaxAmount": "6.0341",
                                    "TransactionAmount": "2051.577"
                                },
                                {
                                    "CustomerID": "910",
                                    "TransactionTypeID": "2",
                                    "TransactionDate": "2024-10-29",
                                    "AmountExcludingTax": "8.5216",
                                    "TaxAmount": "1.2782",
                                    "TransactionAmount": "434.6016"
                                },
                                {
                                    "CustomerID": "911",
                                    "TransactionTypeID": "2",
                                    "TransactionDate": "2024-10-29",
                                    "AmountExcludingTax": "108.445",
                                    "TaxAmount": "16.2668",
                                    "TransactionAmount": "5530.695"
                                },
                                {
                                    "CustomerID": "915",
                                    "TransactionTypeID": "2",
                                    "TransactionDate": "2024-10-29",
                                    "AmountExcludingTax": "68.7402",
                                    "TaxAmount": "10.311",
                                    "TransactionAmount": "3505.7502"
                                },
                                {
                                    "CustomerID": "915",
                                    "TransactionTypeID": "2",
                                    "TransactionDate": "2024-10-29",
                                    "AmountExcludingTax": "41.4828",
                                    "TaxAmount": "6.2224",
                                    "TransactionAmount": "2115.6228"
                                },
                                {
                                    "CustomerID": "919",
                                    "TransactionTypeID": "2",
                                    "TransactionDate": "2024-10-29",
                                    "AmountExcludingTax": "70.9044",
                                    "TaxAmount": "10.6357",
                                    "TransactionAmount": "3616.1244"
                                },
                                {
                                    "CustomerID": "925",
                                    "TransactionTypeID": "2",
                                    "TransactionDate": "2024-10-29",
                                    "AmountExcludingTax": "38.2146",
                                    "TaxAmount": "5.7322",
                                    "TransactionAmount": "1948.9446"
                                },
                                {
                                    "CustomerID": "933",
                                    "TransactionTypeID": "2",
                                    "TransactionDate": "2024-10-29",
                                    "AmountExcludingTax": "24.472",
                                    "TaxAmount": "3.6708",
                                    "TransactionAmount": "1248.072"
                                },
                                {
                                    "CustomerID": "937",
                                    "TransactionTypeID": "2",
                                    "TransactionDate": "2024-10-29",
                                    "AmountExcludingTax": "44.3466",
                                    "TaxAmount": "6.652",
                                    "TransactionAmount": "2261.6766"
                                },
                                {
                                    "CustomerID": "953",
                                    "TransactionTypeID": "2",
                                    "TransactionDate": "2024-10-29",
                                    "AmountExcludingTax": "134.573",
                                    "TaxAmount": "20.186",
                                    "TransactionAmount": "6863.223"
                                },
                                {
                                    "CustomerID": "967",
                                    "TransactionTypeID": "2",
                                    "TransactionDate": "2024-10-29",
                                    "AmountExcludingTax": "3.496",
                                    "TaxAmount": "0.5244",
                                    "TransactionAmount": "178.296"
                                },
                                {
                                    "CustomerID": "967",
                                    "TransactionTypeID": "2",
                                    "TransactionDate": "2024-10-29",
                                    "AmountExcludingTax": "39.652",
                                    "TaxAmount": "5.9478",
                                    "TransactionAmount": "2022.252"
                                },
                                {
                                    "CustomerID": "972",
                                    "TransactionTypeID": "2",
                                    "TransactionDate": "2024-10-29",
                                    "AmountExcludingTax": "27.232",
                                    "TaxAmount": "4.0848",
                                    "TransactionAmount": "1388.832"
                                },
                                {
                                    "CustomerID": "975",
                                    "TransactionTypeID": "2",
                                    "TransactionDate": "2024-10-29",
                                    "AmountExcludingTax": "7.314",
                                    "TaxAmount": "1.0971",
                                    "TransactionAmount": "373.014"
                                },
                                {
                                    "CustomerID": "978",
                                    "TransactionTypeID": "2",
                                    "TransactionDate": "2024-10-29",
                                    "AmountExcludingTax": "27.232",
                                    "TaxAmount": "4.0848",
                                    "TransactionAmount": "1388.832"
                                },
                                {
                                    "CustomerID": "983",
                                    "TransactionTypeID": "2",
                                    "TransactionDate": "2024-10-29",
                                    "AmountExcludingTax": "77.533",
                                    "TaxAmount": "11.63",
                                    "TransactionAmount": "3954.183"
                                },
                                {
                                    "CustomerID": "986",
                                    "TransactionTypeID": "2",
                                    "TransactionDate": "2024-10-29",
                                    "AmountExcludingTax": "36.685",
                                    "TaxAmount": "5.5028",
                                    "TransactionAmount": "1870.935"
                                },
                                {
                                    "CustomerID": "989",
                                    "TransactionTypeID": "2",
                                    "TransactionDate": "2024-10-29",
                                    "AmountExcludingTax": "4.715",
                                    "TaxAmount": "0.7073",
                                    "TransactionAmount": "240.465"
                                },
                                {
                                    "CustomerID": "995",
                                    "TransactionTypeID": "2",
                                    "TransactionDate": "2024-10-29",
                                    "AmountExcludingTax": "264.2424",
                                    "TaxAmount": "39.6364",
                                    "TransactionAmount": "13476.3624"
                                },
                                {
                                    "CustomerID": "1014",
                                    "TransactionTypeID": "2",
                                    "TransactionDate": "2024-10-29",
                                    "AmountExcludingTax": "80.776",
                                    "TaxAmount": "12.1164",
                                    "TransactionAmount": "4119.576"
                                },
                                {
                                    "CustomerID": "1015",
                                    "TransactionTypeID": "2",
                                    "TransactionDate": "2024-10-29",
                                    "AmountExcludingTax": "94.277",
                                    "TaxAmount": "14.1416",
                                    "TransactionAmount": "4808.127"
                                },
                                {
                                    "CustomerID": "1018",
                                    "TransactionTypeID": "2",
                                    "TransactionDate": "2024-10-29",
                                    "AmountExcludingTax": "53.567",
                                    "TaxAmount": "8.0351",
                                    "TransactionAmount": "2731.917"
                                },
                                {
                                    "CustomerID": "1018",
                                    "TransactionTypeID": "2",
                                    "TransactionDate": "2024-10-29",
                                    "AmountExcludingTax": "7.13",
                                    "TaxAmount": "1.0695",
                                    "TransactionAmount": "363.63"
                                },
                                {
                                    "CustomerID": "1025",
                                    "TransactionTypeID": "2",
                                    "TransactionDate": "2024-10-29",
                                    "AmountExcludingTax": "2.093",
                                    "TaxAmount": "0.314",
                                    "TransactionAmount": "106.743"
                                },
                                {
                                    "CustomerID": "1028",
                                    "TransactionTypeID": "2",
                                    "TransactionDate": "2024-10-29",
                                    "AmountExcludingTax": "61.824",
                                    "TaxAmount": "9.2736",
                                    "TransactionAmount": "3153.024"
                                },
                                {
                                    "CustomerID": "1053",
                                    "TransactionTypeID": "2",
                                    "TransactionDate": "2024-10-29",
                                    "AmountExcludingTax": "6.509",
                                    "TaxAmount": "0.9764",
                                    "TransactionAmount": "331.959"
                                }
                            ]
                        },
                        "text/html": [
                            "<table>",
                            "<tr><th>CustomerID</th><th>TransactionTypeID</th><th>TransactionDate</th><th>AmountExcludingTax</th><th>TaxAmount</th><th>TransactionAmount</th></tr>",
                            "<tr><td>1</td><td>2</td><td>2024-10-29</td><td>9.936</td><td>1.4904</td><td>506.736</td></tr>",
                            "<tr><td>1</td><td>2</td><td>2024-10-29</td><td>28.681</td><td>4.3022</td><td>1462.731</td></tr>",
                            "<tr><td>1</td><td>2</td><td>2024-10-29</td><td>25.7416</td><td>3.8612</td><td>1312.8216</td></tr>",
                            "<tr><td>1</td><td>2</td><td>2024-10-29</td><td>63.9824</td><td>9.5974</td><td>3263.1024</td></tr>",
                            "<tr><td>1</td><td>2</td><td>2024-10-29</td><td>32.3564</td><td>4.8535</td><td>1650.1764</td></tr>",
                            "<tr><td>1</td><td>2</td><td>2024-10-29</td><td>96.7932</td><td>14.519</td><td>4936.4532</td></tr>",
                            "<tr><td>1</td><td>2</td><td>2024-10-29</td><td>7.176</td><td>1.0764</td><td>365.976</td></tr>",
                            "<tr><td>1</td><td>2</td><td>2024-10-29</td><td>11.9692</td><td>1.7954</td><td>610.4292</td></tr>",
                            "<tr><td>1</td><td>2</td><td>2024-10-29</td><td>51.152</td><td>7.6728</td><td>2608.752</td></tr>",
                            "<tr><td>1</td><td>2</td><td>2024-10-29</td><td>90.551</td><td>13.5827</td><td>4618.101</td></tr>",
                            "<tr><td>1</td><td>2</td><td>2024-10-29</td><td>238.234</td><td>35.7351</td><td>12149.934</td></tr>",
                            "<tr><td>1</td><td>2</td><td>2024-10-29</td><td>0.897</td><td>0.1346</td><td>45.747</td></tr>",
                            "<tr><td>1</td><td>2</td><td>2024-10-29</td><td>35.4016</td><td>5.3102</td><td>1805.4816</td></tr>",
                            "<tr><td>1</td><td>2</td><td>2024-10-29</td><td>5.2808</td><td>0.7921</td><td>269.3208</td></tr>",
                            "<tr><td>1</td><td>2</td><td>2024-10-29</td><td>80.914</td><td>12.1371</td><td>4126.614</td></tr>",
                            "<tr><td>1</td><td>2</td><td>2024-10-29</td><td>100.188</td><td>15.0282</td><td>5109.588</td></tr>",
                            "<tr><td>1</td><td>2</td><td>2024-10-29</td><td>93.311</td><td>13.9967</td><td>4758.861</td></tr>",
                            "<tr><td>1</td><td>2</td><td>2024-10-29</td><td>13.9242</td><td>2.0886</td><td>710.1342</td></tr>",
                            "<tr><td>1</td><td>2</td><td>2024-10-29</td><td>15.3088</td><td>2.2963</td><td>780.7488</td></tr>",
                            "<tr><td>1</td><td>2</td><td>2024-10-29</td><td>68.8206</td><td>10.3231</td><td>3509.8506</td></tr>",
                            "<tr><td>1</td><td>2</td><td>2024-10-29</td><td>58.098</td><td>8.7147</td><td>2962.998</td></tr>",
                            "<tr><td>401</td><td>2</td><td>2024-10-29</td><td>110.998</td><td>16.6497</td><td>5660.898</td></tr>",
                            "<tr><td>401</td><td>2</td><td>2024-10-29</td><td>28.382</td><td>4.2573</td><td>1447.482</td></tr>",
                            "<tr><td>401</td><td>2</td><td>2024-10-29</td><td>91.31</td><td>13.6965</td><td>4656.81</td></tr>",
                            "<tr><td>401</td><td>2</td><td>2024-10-29</td><td>24.564</td><td>3.6846</td><td>1252.764</td></tr>",
                            "<tr><td>401</td><td>2</td><td>2024-10-29</td><td>1.196</td><td>0.1794</td><td>60.996</td></tr>",
                            "<tr><td>401</td><td>2</td><td>2024-10-29</td><td>8.487</td><td>1.2731</td><td>432.837</td></tr>",
                            "<tr><td>401</td><td>2</td><td>2024-10-29</td><td>23.115</td><td>3.4673</td><td>1178.865</td></tr>",
                            "<tr><td>401</td><td>2</td><td>2024-10-29</td><td>72.335</td><td>10.8503</td><td>3689.085</td></tr>",
                            "<tr><td>401</td><td>2</td><td>2024-10-29</td><td>20.4662</td><td>3.0699</td><td>1043.7762</td></tr>",
                            "<tr><td>401</td><td>2</td><td>2024-10-29</td><td>22.632</td><td>3.3948</td><td>1154.232</td></tr>",
                            "<tr><td>401</td><td>2</td><td>2024-10-29</td><td>70.886</td><td>10.6329</td><td>3615.186</td></tr>",
                            "<tr><td>401</td><td>2</td><td>2024-10-29</td><td>64.032</td><td>9.6048</td><td>3265.632</td></tr>",
                            "<tr><td>401</td><td>2</td><td>2024-10-29</td><td>249.412</td><td>37.4118</td><td>12720.012</td></tr>",
                            "<tr><td>401</td><td>2</td><td>2024-10-29</td><td>164.243</td><td>24.6365</td><td>8376.393</td></tr>",
                            "<tr><td>401</td><td>2</td><td>2024-10-29</td><td>98.426</td><td>14.7639</td><td>5019.726</td></tr>",
                            "<tr><td>401</td><td>2</td><td>2024-10-29</td><td>13.0548</td><td>1.9582</td><td>665.7948</td></tr>",
                            "<tr><td>401</td><td>2</td><td>2024-10-29</td><td>48.07</td><td>7.2105</td><td>2451.57</td></tr>",
                            "<tr><td>401</td><td>2</td><td>2024-10-29</td><td>565.616</td><td>84.8424</td><td>28846.416</td></tr>",
                            "<tr><td>401</td><td>2</td><td>2024-10-29</td><td>52.118</td><td>7.8177</td><td>2658.018</td></tr>",
                            "<tr><td>401</td><td>2</td><td>2024-10-29</td><td>25.095</td><td>3.7643</td><td>1279.845</td></tr>",
                            "<tr><td>401</td><td>2</td><td>2024-10-29</td><td>136.0956</td><td>20.4143</td><td>6940.8756</td></tr>",
                            "<tr><td>401</td><td>2</td><td>2024-10-29</td><td>50.538</td><td>7.5807</td><td>2577.438</td></tr>",
                            "<tr><td>802</td><td>2</td><td>2024-10-29</td><td>68.5516</td><td>10.2827</td><td>3496.1316</td></tr>",
                            "<tr><td>810</td><td>2</td><td>2024-10-29</td><td>29.128</td><td>4.3692</td><td>1485.528</td></tr>",
                            "<tr><td>813</td><td>2</td><td>2024-10-29</td><td>115.3566</td><td>17.3035</td><td>5883.1866</td></tr>",
                            "<tr><td>822</td><td>2</td><td>2024-10-29</td><td>82.5586</td><td>12.3838</td><td>4210.4886</td></tr>",
                            "<tr><td>827</td><td>2</td><td>2024-10-29</td><td>8.993</td><td>1.349</td><td>458.643</td></tr>",
                            "<tr><td>835</td><td>2</td><td>2024-10-29</td><td>114.6596</td><td>17.1989</td><td>5847.6396</td></tr>",
                            "<tr><td>838</td><td>2</td><td>2024-10-29</td><td>12.2636</td><td>1.8395</td><td>625.4436</td></tr>",
                            "<tr><td>840</td><td>2</td><td>2024-10-29</td><td>119.508</td><td>17.9262</td><td>6094.908</td></tr>",
                            "<tr><td>849</td><td>2</td><td>2024-10-29</td><td>4.025</td><td>0.6038</td><td>205.275</td></tr>",
                            "<tr><td>856</td><td>2</td><td>2024-10-29</td><td>103.155</td><td>15.4733</td><td>5260.905</td></tr>",
                            "<tr><td>860</td><td>2</td><td>2024-10-29</td><td>65.527</td><td>9.8291</td><td>3341.877</td></tr>",
                            "<tr><td>890</td><td>2</td><td>2024-10-29</td><td>14.904</td><td>2.2356</td><td>760.104</td></tr>",
                            "<tr><td>891</td><td>2</td><td>2024-10-29</td><td>30.3416</td><td>4.5512</td><td>1547.4216</td></tr>",
                            "<tr><td>895</td><td>2</td><td>2024-10-29</td><td>53.705</td><td>8.0558</td><td>2738.955</td></tr>",
                            "<tr><td>900</td><td>2</td><td>2024-10-29</td><td>73.5592</td><td>11.0339</td><td>3751.5192</td></tr>",
                            "<tr><td>900</td><td>2</td><td>2024-10-29</td><td>40.227</td><td>6.0341</td><td>2051.577</td></tr>",
                            "<tr><td>910</td><td>2</td><td>2024-10-29</td><td>8.5216</td><td>1.2782</td><td>434.6016</td></tr>",
                            "<tr><td>911</td><td>2</td><td>2024-10-29</td><td>108.445</td><td>16.2668</td><td>5530.695</td></tr>",
                            "<tr><td>915</td><td>2</td><td>2024-10-29</td><td>68.7402</td><td>10.311</td><td>3505.7502</td></tr>",
                            "<tr><td>915</td><td>2</td><td>2024-10-29</td><td>41.4828</td><td>6.2224</td><td>2115.6228</td></tr>",
                            "<tr><td>919</td><td>2</td><td>2024-10-29</td><td>70.9044</td><td>10.6357</td><td>3616.1244</td></tr>",
                            "<tr><td>925</td><td>2</td><td>2024-10-29</td><td>38.2146</td><td>5.7322</td><td>1948.9446</td></tr>",
                            "<tr><td>933</td><td>2</td><td>2024-10-29</td><td>24.472</td><td>3.6708</td><td>1248.072</td></tr>",
                            "<tr><td>937</td><td>2</td><td>2024-10-29</td><td>44.3466</td><td>6.652</td><td>2261.6766</td></tr>",
                            "<tr><td>953</td><td>2</td><td>2024-10-29</td><td>134.573</td><td>20.186</td><td>6863.223</td></tr>",
                            "<tr><td>967</td><td>2</td><td>2024-10-29</td><td>3.496</td><td>0.5244</td><td>178.296</td></tr>",
                            "<tr><td>967</td><td>2</td><td>2024-10-29</td><td>39.652</td><td>5.9478</td><td>2022.252</td></tr>",
                            "<tr><td>972</td><td>2</td><td>2024-10-29</td><td>27.232</td><td>4.0848</td><td>1388.832</td></tr>",
                            "<tr><td>975</td><td>2</td><td>2024-10-29</td><td>7.314</td><td>1.0971</td><td>373.014</td></tr>",
                            "<tr><td>978</td><td>2</td><td>2024-10-29</td><td>27.232</td><td>4.0848</td><td>1388.832</td></tr>",
                            "<tr><td>983</td><td>2</td><td>2024-10-29</td><td>77.533</td><td>11.63</td><td>3954.183</td></tr>",
                            "<tr><td>986</td><td>2</td><td>2024-10-29</td><td>36.685</td><td>5.5028</td><td>1870.935</td></tr>",
                            "<tr><td>989</td><td>2</td><td>2024-10-29</td><td>4.715</td><td>0.7073</td><td>240.465</td></tr>",
                            "<tr><td>995</td><td>2</td><td>2024-10-29</td><td>264.2424</td><td>39.6364</td><td>13476.3624</td></tr>",
                            "<tr><td>1014</td><td>2</td><td>2024-10-29</td><td>80.776</td><td>12.1164</td><td>4119.576</td></tr>",
                            "<tr><td>1015</td><td>2</td><td>2024-10-29</td><td>94.277</td><td>14.1416</td><td>4808.127</td></tr>",
                            "<tr><td>1018</td><td>2</td><td>2024-10-29</td><td>53.567</td><td>8.0351</td><td>2731.917</td></tr>",
                            "<tr><td>1018</td><td>2</td><td>2024-10-29</td><td>7.13</td><td>1.0695</td><td>363.63</td></tr>",
                            "<tr><td>1025</td><td>2</td><td>2024-10-29</td><td>2.093</td><td>0.314</td><td>106.743</td></tr>",
                            "<tr><td>1028</td><td>2</td><td>2024-10-29</td><td>61.824</td><td>9.2736</td><td>3153.024</td></tr>",
                            "<tr><td>1053</td><td>2</td><td>2024-10-29</td><td>6.509</td><td>0.9764</td><td>331.959</td></tr>",
                            "</table>"
                        ]
                    }
                }
            ],
            "execution_count": 4
        },
        {
            "cell_type": "markdown",
            "source": [
                "### 3rd Proposition\n",
                "\n",
                "This query removes all records in the `dbo.Customers` table for customers whose names contain \"Tailspin Toys.\" It operates as follows:\n",
                "\n",
                "1. **Conditional Deletion**:\n",
                "   - Deletes rows from `dbo.Customers` where the `CustomerName` field contains the substring \"Tailspin Toys.\"\n",
                "\n",
                "### Business Perspective\n",
                "\n",
                "From a business perspective, this deletion could be valuable for several reasons:\n",
                "\n",
                "- **Data Clean-Up**: Removing records for \"Tailspin Toys\" could indicate that these are either test data, inactive accounts, or clients no longer serviced, helping to keep the database accurate and relevant.\n",
                "- **Improved Data Integrity**: By removing irrelevant or obsolete customer records, the database becomes more streamlined, leading to more accurate analytics and reducing clutter.\n",
                "- **Resource Optimization**: Cleaning up the database minimizes storage usage and improves query performance, as irrelevant records no longer occupy space or processing time.\n",
                "\n",
                "This query supports efficient data management practices by selectively removing entries, ensuring that the database remains optimized and focused on active, meaningful customer records.\n",
                ""
            ],
            "metadata": {
                "azdata_cell_guid": "ed2132fd-89f6-48e4-9229-eeb6a72d71cd"
            },
            "attachments": {}
        },
        {
            "cell_type": "code",
            "source": [
                "USE [WideWorldImporters];\n",
                "GO\n",
                "\n",
                "DELETE FROM dbo.Customers\n",
                "WHERE CustomerName LIKE '%Tailspin Toys%';\n",
                ""
            ],
            "metadata": {
                "azdata_cell_guid": "dc8a2dd4-0578-4da2-8dfd-64c98a319504",
                "language": "sql"
            },
            "outputs": [
                {
                    "output_type": "display_data",
                    "data": {
                        "text/html": "Commands completed successfully."
                    },
                    "metadata": {}
                },
                {
                    "output_type": "display_data",
                    "data": {
                        "text/html": "(201 rows affected)"
                    },
                    "metadata": {}
                },
                {
                    "output_type": "display_data",
                    "data": {
                        "text/html": "Total execution time: 00:00:00.018"
                    },
                    "metadata": {}
                }
            ],
            "execution_count": 5
        },
        {
            "cell_type": "markdown",
            "source": [
                "### **4th Proposition**\n",
                "\n",
                "This query creates a custom `dbo.Orders` table within the `WideWorldImporters` database, specifically capturing orders associated with customers in New York (NY) and New Jersey (NJ). Here’s a breakdown of its function:\n",
                "\n",
                "1. **Table Creation**:\n",
                "   - Drops `dbo.Orders` if it already exists to ensure a clean structure.\n",
                "   - Creates a new `dbo.Orders` table with the following columns:\n",
                "     - `OrderID`: Primary key for each order.\n",
                "     - `CustomerID`: Foreign key referencing customers in `Sales.Customers`.\n",
                "     - `EmployeeID`, `OrderDate`, `ExpectedDelivery`: Key order details.\n",
                "     - `US_State`: A column for the U.S. state associated with the customer’s name.\n",
                "\n",
                "2. **Inserting Filtered Orders for Specific States**:\n",
                "   - Selects distinct orders from `Sales.Orders` where the customer is in New York or New Jersey, as indicated by the substring “NY” or “NJ” in `CustomerName`.\n",
                "   - Populates the `US_State` column based on the customer’s state:\n",
                "     - \"NY\" if `CustomerName` includes \"NY\"\n",
                "     - \"NJ\" if `CustomerName` includes \"NJ\"\n",
                "   - Inserts only orders with matching `CustomerName` conditions, allowing efficient data segmentation.\n",
                "\n",
                "### Business Perspective\n",
                "\n",
                "This query provides value in several business contexts:\n",
                "\n",
                "- **Targeted Marketing and Analysis**: By isolating orders from NY and NJ, this structure allows for focused regional analysis, such as evaluating customer behavior, order trends, and delivery performance within specific states.\n",
                "- **Efficient Data Access**: Storing orders by state streamlines access to regional data, which can be critical for location-based promotions, customer support, and distribution planning.\n",
                "- **Enhanced Reporting**: Grouping orders by state in a dedicated table simplifies generating reports on specific geographical regions, aiding decision-making in sales strategies and resource allocation.\n",
                "\n",
                "By focusing on regional data within a dedicated table, the business gains actionable insights tailored to specific markets, enhancing both operational efficiency and strategic planning.\n",
                ""
            ],
            "metadata": {
                "azdata_cell_guid": "7ca7d6a0-79ef-4e4f-abdf-74942b272e49"
            },
            "attachments": {}
        },
        {
            "cell_type": "code",
            "source": [
                "USE [WideWorldImporters];\n",
                "GO\n",
                "\n",
                "DROP TABLE IF EXISTS dbo.Orders;\n",
                "\n",
                "CREATE TABLE dbo.Orders (\n",
                "    OrderID INT NOT NULL PRIMARY KEY,\n",
                "    CustomerID INT NOT NULL, \n",
                "    EmployeeID INT NOT NULL,\n",
                "    OrderDate DATE NOT NULL,\n",
                "    ExpectedDelivery DATE NOT NULL,\n",
                "    US_State NVARCHAR(5) NOT NULL,  \n",
                "    FOREIGN KEY (CustomerID) REFERENCES Sales.Customers(CustomerID)\n",
                ");\n",
                "GO\n",
                "\n",
                "INSERT INTO dbo.Orders (OrderID, CustomerID, EmployeeID, OrderDate, ExpectedDelivery, US_State)\n",
                "SELECT DISTINCT  \n",
                "    o.OrderID, \n",
                "    o.CustomerID, \n",
                "    o.SalespersonPersonID AS EmployeeID, \n",
                "    o.OrderDate, \n",
                "    o.ExpectedDeliveryDate,\n",
                "    CASE \n",
                "        WHEN c.CustomerName LIKE '%NY%' THEN 'NY'\n",
                "        WHEN c.CustomerName LIKE '%NJ%' THEN 'NJ'\n",
                "        ELSE NULL \n",
                "    END AS US_State\n",
                "FROM Sales.Orders AS o\n",
                "JOIN Sales.Customers AS c ON o.CustomerID = c.CustomerID\n",
                "WHERE c.CustomerName LIKE '%NY%'\n",
                "   OR c.CustomerName LIKE '%NJ%';\n",
                ""
            ],
            "metadata": {
                "azdata_cell_guid": "e926144f-39e5-4478-bfa9-a3dc39654c97",
                "language": "sql"
            },
            "outputs": [
                {
                    "output_type": "display_data",
                    "data": {
                        "text/html": "Commands completed successfully."
                    },
                    "metadata": {}
                },
                {
                    "output_type": "display_data",
                    "data": {
                        "text/html": "Commands completed successfully."
                    },
                    "metadata": {}
                },
                {
                    "output_type": "error",
                    "evalue": "Msg 207, Level 16, State 1, Line 17\nInvalid column name 'US_State'.",
                    "ename": "",
                    "traceback": []
                },
                {
                    "output_type": "display_data",
                    "data": {
                        "text/html": "Total execution time: 00:00:00.015"
                    },
                    "metadata": {}
                }
            ],
            "execution_count": 28
        },
        {
            "cell_type": "markdown",
            "source": [
                "### **5th Proposition**\n",
                "\n",
                "This query creates and populates a custom `dbo.Orders` table in the `WideWorldImporters` database to store only orders associated with customers located in New York (NY) and New Jersey (NJ). Here’s a step-by-step outline:\n",
                "\n",
                "1. **Table Creation**:\n",
                "   - Drops the existing `dbo.Orders` table, if it exists, to ensure there are no conflicts.\n",
                "   - Creates a new `dbo.Orders` table with columns for:\n",
                "     - `OrderID`: Primary key for each order.\n",
                "     - `CustomerID`: Foreign key to identify the customer from `Sales.Customers`.\n",
                "     - `EmployeeID`, `OrderDate`, `ExpectedDelivery`: Basic order details.\n",
                "     - `US_State`: A column to capture the U.S. state (either NY or NJ) derived from the customer name.\n",
                "\n",
                "2. **Inserting Orders for Specific States**:\n",
                "   - Uses two `UNION ALL` queries to insert records based on `CustomerName` containing \"NY\" or \"NJ\":\n",
                "     - The first part selects orders for customers with \"NY\" in their name and assigns \"NY\" to `US_State`.\n",
                "     - The second part selects orders for customers with \"NJ\" in their name and assigns \"NJ\" to `US_State`.\n",
                "   - Ensures each order is appropriately labeled with its respective state for simplified grouping and querying.\n",
                "\n",
                "### Business Perspective\n",
                "\n",
                "This query is valuable from a business perspective in several ways:\n",
                "\n",
                "- **Regional Segmentation**: By focusing on orders from NY and NJ, the business can easily perform state-specific analyses, which is crucial for regional sales strategies, targeted promotions, and customer segmentation.\n",
                "- **Streamlined Data Access for Regional Operations**: Having separate state indicators in a dedicated table makes it easier to pull relevant data for NY and NJ, improving the efficiency of customer service, logistics, and order fulfillment in those regions.\n",
                "- **Enhanced Reporting and Analytics**: With NY and NJ orders grouped, generating state-specific performance reports is simplified, providing quick insights into regional demand, delivery performance, and customer satisfaction in each area.\n",
                "\n",
                "Overall, this setup optimizes data management for regional analysis, supporting informed decision-making and tailored customer engagement.\n",
                ""
            ],
            "metadata": {
                "azdata_cell_guid": "a9a81ac3-2f91-4418-947e-74c2db365ad9"
            },
            "attachments": {}
        },
        {
            "cell_type": "code",
            "source": [
                "USE [WideWorldImporters];\n",
                "GO\n",
                "\n",
                "DROP TABLE IF EXISTS dbo.Orders;\n",
                "\n",
                "CREATE TABLE dbo.Orders (\n",
                "    OrderID INT NOT NULL PRIMARY KEY,\n",
                "    CustomerID INT NOT NULL, \n",
                "    EmployeeID INT NOT NULL,\n",
                "    OrderDate DATE NOT NULL,\n",
                "    ExpectedDelivery DATE NOT NULL,\n",
                "    US_State NVARCHAR(5) NOT NULL,\n",
                "    FOREIGN KEY (CustomerID) REFERENCES Sales.Customers(CustomerID)\n",
                ");\n",
                "GO\n",
                "\n",
                "\n",
                "INSERT INTO dbo.Orders (OrderID, CustomerID, EmployeeID, OrderDate, ExpectedDelivery, US_State)\n",
                "SELECT \n",
                "    o.OrderID, \n",
                "    o.CustomerID, \n",
                "    o.SalespersonPersonID AS EmployeeID, \n",
                "    o.OrderDate, \n",
                "    o.ExpectedDeliveryDate,\n",
                "    'NY' AS US_State\n",
                "FROM Sales.Orders AS o\n",
                "JOIN Sales.Customers AS c ON o.CustomerID = c.CustomerID\n",
                "WHERE c.CustomerName LIKE '%NY%'\n",
                "\n",
                "UNION ALL\n",
                "\n",
                "SELECT \n",
                "    o.OrderID, \n",
                "    o.CustomerID, \n",
                "    o.SalespersonPersonID AS EmployeeID, \n",
                "    o.OrderDate, \n",
                "    o.ExpectedDeliveryDate,\n",
                "    'NJ' AS US_State\n",
                "FROM Sales.Orders AS o\n",
                "JOIN Sales.Customers AS c ON o.CustomerID = c.CustomerID\n",
                "WHERE c.CustomerName LIKE '%NJ%';\n",
                ""
            ],
            "metadata": {
                "language": "sql",
                "azdata_cell_guid": "b1dfe23f-9d33-4587-93f2-80ce2915285e"
            },
            "outputs": [
                {
                    "output_type": "display_data",
                    "data": {
                        "text/html": "Commands completed successfully."
                    },
                    "metadata": {}
                },
                {
                    "output_type": "display_data",
                    "data": {
                        "text/html": "Commands completed successfully."
                    },
                    "metadata": {}
                },
                {
                    "output_type": "display_data",
                    "data": {
                        "text/html": "(4219 rows affected)"
                    },
                    "metadata": {}
                },
                {
                    "output_type": "display_data",
                    "data": {
                        "text/html": "Total execution time: 00:00:00.095"
                    },
                    "metadata": {}
                }
            ],
            "execution_count": 9
        },
        {
            "cell_type": "code",
            "source": [
                "\n",
                "USE [WideWorldImporters];\n",
                "GO\n",
                "\n",
                "\n",
                "ALTER TABLE dbo.Orders\n",
                "ADD OrderStatus NVARCHAR(20) DEFAULT 'Pending';\n",
                ""
            ],
            "metadata": {
                "azdata_cell_guid": "8cf9cbef-d847-4eb0-ad46-2246510bd0f8",
                "language": "sql"
            },
            "outputs": [
                {
                    "output_type": "display_data",
                    "data": {
                        "text/html": "Commands completed successfully."
                    },
                    "metadata": {}
                },
                {
                    "output_type": "display_data",
                    "data": {
                        "text/html": "Commands completed successfully."
                    },
                    "metadata": {}
                },
                {
                    "output_type": "display_data",
                    "data": {
                        "text/html": "Total execution time: 00:00:00.009"
                    },
                    "metadata": {}
                }
            ],
            "execution_count": 10
        },
        {
            "cell_type": "markdown",
            "source": [
                "### **6th Proposition**\n",
                "\n",
                "This query selectively deletes records from the `dbo.Orders` table in the `WideWorldImporters` database, specifically removing orders from New York (NY) and New Jersey (NJ) placed before January 1, 2015. The query proceeds as follows:\n",
                "\n",
                "1. **Conditional Deletion**:\n",
                "   - Deletes rows from `dbo.Orders` where:\n",
                "     - `US_State` is either 'NY' or 'NJ'.\n",
                "     - `OrderDate` is before January 1, 2015.\n",
                "   - This targets outdated or possibly irrelevant records from the specified states, allowing for a more current dataset.\n",
                "\n",
                "2. **Verification of Remaining Records**:\n",
                "   - The `SELECT * FROM dbo.Orders` statement retrieves all records remaining in the table after the deletion, making it possible to confirm the updated state of `dbo.Orders`.\n",
                "\n",
                "### Business Perspective\n",
                "\n",
                "This query serves several business functions:\n",
                "\n",
                "- **Data Relevance and Accuracy**: By removing outdated records from NY and NJ, the business ensures that only relevant, recent order data remains, reducing the likelihood of analyzing stale information.\n",
                "- **Optimized Performance**: Deleting older records can improve query performance and reduce storage requirements, especially in high-traffic databases where NY and NJ might represent significant portions of historical orders.\n",
                "- **Facilitates Efficient Reporting**: Focusing the `dbo.Orders` table on more recent data improves the accuracy of regional reports and analytics, enhancing strategic decision-making based on current trends rather than legacy data.\n",
                "\n",
                "This query effectively manages and optimizes the `dbo.Orders` table, aligning the data with up-to-date operational and analytical needs.\n",
                ""
            ],
            "metadata": {
                "azdata_cell_guid": "94d21db4-3b66-4d8d-aec4-c83cf8241b6d"
            },
            "attachments": {}
        },
        {
            "cell_type": "code",
            "source": [
                "USE [WideWorldImporters];\n",
                "GO\n",
                "\n",
                "-- Delete records from dbo.Orders where the US_State is 'NY' or 'NJ' and the OrderDate is before 2015-01-01\n",
                "DELETE FROM dbo.Orders \n",
                "WHERE US_State IN ('NY', 'NJ') \n",
                "  AND OrderDate < '2015-01-01';\n",
                "\n",
                "-- Select all remaining records from dbo.Orders\n",
                "SELECT * FROM dbo.Orders;\n",
                ""
            ],
            "metadata": {
                "azdata_cell_guid": "e8e2125a-e88e-44d0-a5eb-9bfa6c93749d",
                "language": "sql"
            },
            "outputs": [],
            "execution_count": null
        },
        {
            "cell_type": "markdown",
            "source": [
                "### **7th Proposition**\n",
                "\n",
                "This query creates and populates a custom `dbo.Orders` table within the `WideWorldImporters` database, specifically capturing orders placed on or after a designated start date. Here’s a breakdown of its steps:\n",
                "\n",
                "1. **Table Creation**:\n",
                "   - Drops the `dbo.Orders` table if it already exists to ensure a fresh structure.\n",
                "   - Creates a new `dbo.Orders` table with key columns:\n",
                "     - `OrderID`: Primary key identifying each order.\n",
                "     - `CustomerID`: Foreign key linking to `Sales.Customers` to maintain referential integrity.\n",
                "     - `EmployeeID`, `OrderDate`, and `ExpectedDelivery`: Basic details of each order.\n",
                "\n",
                "2. **Date-Filtered Insertion**:\n",
                "   - Defines a `@StartDate` variable, set to May 1, 2016, as a cutoff for filtering recent orders.\n",
                "   - Inserts records from `Sales.Orders` into `dbo.Orders` for only those orders where `OrderDate` is on or after `@StartDate`.\n",
                "   - This allows the `dbo.Orders` table to focus on more recent activity, enhancing the relevance of the data.\n",
                "\n",
                "### Business Perspective\n",
                "\n",
                "This query is beneficial from a business perspective for several reasons:\n",
                "\n",
                "- **Focuses on Current Activity**: By including only recent orders, the business can concentrate on current customer activity and trends, which are often more actionable for sales and customer service.\n",
                "- **Streamlines Data for Efficiency**: Storing only orders from a specific date onward reduces data volume in `dbo.Orders`, improving query performance and making data management easier.\n",
                "- **Supports Time-Based Analysis**: Filtering by date enables more relevant and timely reporting, allowing the business to analyze recent performance metrics without the noise of older, potentially irrelevant data.\n",
                "\n",
                "This setup provides a focused dataset of recent orders, allowing the business to enhance operational efficiency and make informed, up-to-date decisions.\n",
                ""
            ],
            "metadata": {
                "azdata_cell_guid": "2195bb48-10ca-47b9-a5d8-314a7399ea83"
            },
            "attachments": {}
        },
        {
            "cell_type": "code",
            "source": [
                "USE [WideWorldImporters];\n",
                "GO\n",
                "\n",
                "DROP TABLE IF EXISTS dbo.Orders;\n",
                "\n",
                "CREATE TABLE dbo.Orders (\n",
                "    OrderID INT NOT NULL PRIMARY KEY,\n",
                "    CustomerID INT NOT NULL,\n",
                "    EmployeeID INT NOT NULL,\n",
                "    OrderDate DATE NOT NULL,\n",
                "    ExpectedDelivery DATE NOT NULL,\n",
                "    FOREIGN KEY (CustomerID) REFERENCES Sales.Customers(CustomerID)\n",
                ");\n",
                "\n",
                "DECLARE @StartDate DATE = '2016-05-01';  \n",
                "\n",
                "INSERT INTO dbo.Orders (OrderID, CustomerID, EmployeeID, OrderDate, ExpectedDelivery)\n",
                "SELECT \n",
                "    OrderID, \n",
                "    CustomerID, \n",
                "    SalespersonPersonID AS EmployeeID, \n",
                "    OrderDate, \n",
                "    ExpectedDeliveryDate\n",
                "FROM Sales.Orders\n",
                "WHERE OrderDate >= @StartDate;\n",
                ""
            ],
            "metadata": {
                "azdata_cell_guid": "6f24cb15-9fb4-4912-98e9-958a307dff8c",
                "language": "sql"
            },
            "outputs": [
                {
                    "output_type": "display_data",
                    "data": {
                        "text/html": "Commands completed successfully."
                    },
                    "metadata": {}
                },
                {
                    "output_type": "display_data",
                    "data": {
                        "text/html": "(2047 rows affected)"
                    },
                    "metadata": {}
                },
                {
                    "output_type": "display_data",
                    "data": {
                        "text/html": "Total execution time: 00:00:00.041"
                    },
                    "metadata": {}
                }
            ],
            "execution_count": 13
        },
        {
            "cell_type": "markdown",
            "source": [
                "### **8th Proposition**\n",
                "\n",
                "This query defines a stored procedure, `GetCustomerOrders`, which retrieves order details for a specified customer within a given date range. It enables dynamic filtering by customer and date, allowing for flexible reporting on customer orders.\n",
                "\n",
                "1. **Procedure Creation**:\n",
                "   - Drops the `GetCustomerOrders` procedure if it exists, ensuring no conflicts with previous versions.\n",
                "   - Creates a new stored procedure, `GetCustomerOrders`, with three parameters:\n",
                "     - `@CustomerID`: The ID of the customer whose orders are being queried.\n",
                "     - `@StartDate` and `@EndDate`: Defines the date range within which orders are filtered.\n",
                "\n",
                "2. **Order Retrieval Logic**:\n",
                "   - Joins `Sales.Orders` with `Sales.Customers` to retrieve customer names and relevant order information.\n",
                "   - Filters orders based on `@CustomerID`, and restricts results to those where `OrderDate` falls between `@StartDate` and `@EndDate`.\n",
                "   - Orders the output by `OrderDate` in descending order, displaying the most recent orders first.\n",
                "\n",
                "3. **Execution Example**:\n",
                "   - Executes the stored procedure with `@CustomerID = 1`, `@StartDate = '2015-05-01'`, and `@EndDate = '2015-05-31'`, retrieving all orders for customer 1 in May 2015.\n",
                "\n",
                "### Business Perspective\n",
                "\n",
                "This stored procedure provides several key advantages for the business:\n",
                "\n",
                "- **Customized Order History**: Allows retrieval of order history for specific customers within precise date ranges, supporting detailed customer engagement and sales tracking.\n",
                "- **Efficiency in Reporting**: By encapsulating the query within a stored procedure, it provides a reusable, efficient way to generate customer-specific order reports, improving consistency and reliability in reporting.\n",
                "- **Enhanced Customer Service**: Facilitates quick access to recent orders, enabling customer service teams to respond efficiently to inquiries about specific transactions or delivery expectations.\n",
                "\n",
                "This approach improves data accessibility for targeted analysis and customer support, optimizing both operational efficiency and customer satisfaction.\n",
                ""
            ],
            "metadata": {
                "azdata_cell_guid": "c5cc301e-746c-4271-ae0c-290750d123a8"
            },
            "attachments": {}
        },
        {
            "cell_type": "code",
            "source": [
                "USE [WideWorldImporters];\n",
                "GO\n",
                "\n",
                "\n",
                "DROP PROCEDURE IF EXISTS GetCustomerOrders;\n",
                "GO\n",
                "\n",
                "CREATE PROCEDURE GetCustomerOrders\n",
                "    @CustomerID INT,\n",
                "    @StartDate DATE,\n",
                "    @EndDate DATE\n",
                "AS\n",
                "BEGIN\n",
                "    SELECT \n",
                "        o.OrderID,\n",
                "        o.OrderDate,\n",
                "        o.ExpectedDeliveryDate,\n",
                "        o.CustomerID,\n",
                "        c.CustomerName,\n",
                "        o.SalespersonPersonID AS EmployeeID,\n",
                "        o.Comments\n",
                "    FROM Sales.Orders AS o\n",
                "    JOIN Sales.Customers AS c ON o.CustomerID = c.CustomerID\n",
                "    WHERE o.CustomerID = @CustomerID\n",
                "      AND o.OrderDate BETWEEN @StartDate AND @EndDate\n",
                "    ORDER BY o.OrderDate DESC;\n",
                "END;\n",
                "GO\n",
                "\n",
                "EXEC GetCustomerOrders @CustomerID = 1, @StartDate = '2015-05-01', @EndDate = '2015-05-31';\n",
                ""
            ],
            "metadata": {
                "azdata_cell_guid": "a9bf629d-3970-46f8-be73-99702bb4e179",
                "language": "sql"
            },
            "outputs": [
                {
                    "output_type": "display_data",
                    "data": {
                        "text/html": "Commands completed successfully."
                    },
                    "metadata": {}
                },
                {
                    "output_type": "display_data",
                    "data": {
                        "text/html": "Commands completed successfully."
                    },
                    "metadata": {}
                },
                {
                    "output_type": "display_data",
                    "data": {
                        "text/html": "Commands completed successfully."
                    },
                    "metadata": {}
                },
                {
                    "output_type": "display_data",
                    "data": {
                        "text/html": "Commands completed successfully."
                    },
                    "metadata": {}
                },
                {
                    "output_type": "display_data",
                    "data": {
                        "text/html": "Total execution time: 00:00:00.045"
                    },
                    "metadata": {}
                },
                {
                    "output_type": "execute_result",
                    "metadata": {},
                    "execution_count": 15,
                    "data": {
                        "application/vnd.dataresource+json": {
                            "schema": {
                                "fields": [
                                    {
                                        "name": "OrderID"
                                    },
                                    {
                                        "name": "OrderDate"
                                    },
                                    {
                                        "name": "ExpectedDeliveryDate"
                                    },
                                    {
                                        "name": "CustomerID"
                                    },
                                    {
                                        "name": "CustomerName"
                                    },
                                    {
                                        "name": "EmployeeID"
                                    },
                                    {
                                        "name": "Comments"
                                    }
                                ]
                            },
                            "data": [
                                {
                                    "OrderID": "49843",
                                    "OrderDate": "2015-05-27",
                                    "ExpectedDeliveryDate": "2015-05-28",
                                    "CustomerID": "1",
                                    "CustomerName": "Tailspin Toys (Head Office)",
                                    "EmployeeID": "14",
                                    "Comments": "NULL"
                                },
                                {
                                    "OrderID": "49319",
                                    "OrderDate": "2015-05-19",
                                    "ExpectedDeliveryDate": "2015-05-20",
                                    "CustomerID": "1",
                                    "CustomerName": "Tailspin Toys (Head Office)",
                                    "EmployeeID": "15",
                                    "Comments": "NULL"
                                },
                                {
                                    "OrderID": "48896",
                                    "OrderDate": "2015-05-12",
                                    "ExpectedDeliveryDate": "2015-05-13",
                                    "CustomerID": "1",
                                    "CustomerName": "Tailspin Toys (Head Office)",
                                    "EmployeeID": "13",
                                    "Comments": "NULL"
                                }
                            ]
                        },
                        "text/html": [
                            "<table>",
                            "<tr><th>OrderID</th><th>OrderDate</th><th>ExpectedDeliveryDate</th><th>CustomerID</th><th>CustomerName</th><th>EmployeeID</th><th>Comments</th></tr>",
                            "<tr><td>49843</td><td>2015-05-27</td><td>2015-05-28</td><td>1</td><td>Tailspin Toys (Head Office)</td><td>14</td><td>NULL</td></tr>",
                            "<tr><td>49319</td><td>2015-05-19</td><td>2015-05-20</td><td>1</td><td>Tailspin Toys (Head Office)</td><td>15</td><td>NULL</td></tr>",
                            "<tr><td>48896</td><td>2015-05-12</td><td>2015-05-13</td><td>1</td><td>Tailspin Toys (Head Office)</td><td>13</td><td>NULL</td></tr>",
                            "</table>"
                        ]
                    }
                }
            ],
            "execution_count": 15
        },
        {
            "cell_type": "markdown",
            "source": [
                "### **9th Proposition**\n",
                "\n",
                "This query establishes a system for managing and assigning deals to top customers within the `WideWorldImporters` database. It uses two tables, `dbo.Deals` and `dbo.DealCustomers`, to store deal details and assign specific deals to customers.\n",
                "\n",
                "1. **Table Setup**:\n",
                "   - Drops existing `dbo.Deals` and `dbo.DealCustomers` tables if they exist to ensure a clean setup.\n",
                "   - **`dbo.Deals` Table**: \n",
                "     - Stores details of each deal, including `DealName`, `DiscountPercentage`, `DealDescription`, and optional `ProductID` and `ProductName` fields (set to `NULL` if the deal applies to all products).\n",
                "     - Uses `DealID` as a primary key with auto-increment (`IDENTITY`) for each new deal.\n",
                "   - **`dbo.DealCustomers` Table**:\n",
                "     - A mapping table that associates customers with specific deals, containing `DealID`, `CustomerID`, and `AssignedDate`.\n",
                "     - Enforces referential integrity with a primary key on `(DealID, CustomerID)` and a foreign key reference to `dbo.Deals`.\n",
                "\n",
                "2. **Insert New Deal**:\n",
                "   - Inserts a new deal into `dbo.Deals` with a 30% discount and a 3-month validity period, named \"Top Customer Discount\" for the top 5 customers.\n",
                "\n",
                "3. **Assign Deal to Top Customers**:\n",
                "   - Uses a subquery to select the top 5 customers based on order volume from `Sales.Orders`.\n",
                "   - Inserts the `DealID` and each `CustomerID` into `dbo.DealCustomers` to assign this specific deal to the top 5 customers.\n",
                "\n",
                "4. **Result Verification**:\n",
                "   - Joins `dbo.Deals` with `dbo.DealCustomers` to display all assigned deals, including deal details and the assigned customers.\n",
                "\n",
                "### Business Perspective\n",
                "\n",
                "This query supports strategic discounting and customer retention efforts through a structured deal management system:\n",
                "\n",
                "- **Targeted Discounts for High-Value Customers**: By applying a significant discount to the top 5 customers, the business can reward loyalty, encourage repeat purchases, and increase customer satisfaction among high-value clients.\n",
                "- **Organized Deal Assignment**: The two-table setup enables a flexible, scalable structure where deals can be easily created, modified, and assigned to multiple customers, supporting personalized promotions.\n",
                "- **Enhanced Data Clarity and Reporting**: By storing deals and customer assignments separately, the business can efficiently report on deal performance, track which customers benefit from specific deals, and adjust strategies based on customer response.\n",
                "\n",
                "This approach allows the business to systematically reward top customers, improving customer loyalty while maintaining a clear and organized discounting structure.\n",
                ""
            ],
            "metadata": {
                "azdata_cell_guid": "75d359b1-5c47-41f0-abfb-4ebd7d86cf21"
            },
            "attachments": {}
        },
        {
            "cell_type": "code",
            "source": [
                "USE [WideWorldImporters];\n",
                "GO\n",
                "-- Drop existing tables if they exist\n",
                "DROP TABLE IF EXISTS dbo.DealCustomers;\n",
                "DROP TABLE IF EXISTS dbo.Deals;\n",
                "GO\n",
                "-- Create the main Deals table\n",
                "CREATE TABLE dbo.Deals\n",
                "(\n",
                "    DealID INT IDENTITY(1,1) NOT NULL PRIMARY KEY,\n",
                "    DealName NVARCHAR(100) NOT NULL,\n",
                "    DiscountPercentage DECIMAL(5, 2) NOT NULL,\n",
                "    DealDescription NVARCHAR(100),\n",
                "    StartDate DATE NOT NULL,\n",
                "    EndDate DATE NOT NULL,\n",
                "    ProductID INT NULL,\n",
                "    -- NULL for any product\n",
                "    ProductName NVARCHAR(100) NULL\n",
                "    -- NULL for any product\n",
                ");\n",
                "GO\n",
                "-- Create the DealCustomers mapping table\n",
                "CREATE TABLE dbo.DealCustomers\n",
                "(\n",
                "    DealID INT NOT NULL,\n",
                "    CustomerID INT NOT NULL,\n",
                "    AssignedDate DATE NOT NULL DEFAULT GETDATE(),\n",
                "    PRIMARY KEY (DealID, CustomerID),\n",
                "    FOREIGN KEY (DealID) REFERENCES dbo.Deals(DealID)\n",
                ");\n",
                "GO\n",
                "-- Insert the deal once\n",
                "INSERT INTO dbo.Deals\n",
                "    (\n",
                "    DealName,\n",
                "    DiscountPercentage,\n",
                "    DealDescription,\n",
                "    StartDate,\n",
                "    EndDate,\n",
                "    ProductID,\n",
                "    ProductName\n",
                "    )\n",
                "VALUES\n",
                "    (\n",
                "        'Top Customer Discount',\n",
                "        30.00,\n",
                "        'Special 30% Discount for Top 5 Customers',\n",
                "        CAST(GETDATE() AS DATE),\n",
                "        DATEADD(MONTH, 3, CAST(GETDATE() AS DATE)),\n",
                "        NULL,\n",
                "        NULL\n",
                ");\n",
                "-- Assign the deal to top 5 customers\n",
                "INSERT INTO dbo.DealCustomers\n",
                "    (DealID, CustomerID)\n",
                "SELECT\n",
                "    1 AS DealID,\n",
                "    CustomerID\n",
                "FROM (\n",
                "SELECT TOP 5\n",
                "        o.CustomerID\n",
                "    FROM Sales.Orders AS o\n",
                "    GROUP BY o.CustomerID\n",
                "    ORDER BY COUNT(o.OrderID) DESC\n",
                ") AS TopCustomers;\n",
                "\n",
                "SELECT\n",
                "    d.DealID,\n",
                "    d.DealName,\n",
                "    d.DiscountPercentage,\n",
                "    d.DealDescription,\n",
                "    d.StartDate,\n",
                "    d.EndDate,\n",
                "    dc.CustomerID,\n",
                "    dc.AssignedDate\n",
                "FROM dbo.Deals d\n",
                "    JOIN dbo.DealCustomers dc ON d.DealID = dc.DealID;"
            ],
            "metadata": {
                "azdata_cell_guid": "1c8668e7-8ce0-4e78-bab0-31d5356bf199",
                "language": "sql"
            },
            "outputs": [
                {
                    "output_type": "display_data",
                    "data": {
                        "text/html": "Commands completed successfully."
                    },
                    "metadata": {}
                },
                {
                    "output_type": "display_data",
                    "data": {
                        "text/html": "Commands completed successfully."
                    },
                    "metadata": {}
                },
                {
                    "output_type": "display_data",
                    "data": {
                        "text/html": "Commands completed successfully."
                    },
                    "metadata": {}
                },
                {
                    "output_type": "display_data",
                    "data": {
                        "text/html": "Commands completed successfully."
                    },
                    "metadata": {}
                },
                {
                    "output_type": "display_data",
                    "data": {
                        "text/html": "(1 row affected)"
                    },
                    "metadata": {}
                },
                {
                    "output_type": "display_data",
                    "data": {
                        "text/html": "(5 rows affected)"
                    },
                    "metadata": {}
                },
                {
                    "output_type": "display_data",
                    "data": {
                        "text/html": "(5 rows affected)"
                    },
                    "metadata": {}
                },
                {
                    "output_type": "display_data",
                    "data": {
                        "text/html": "Total execution time: 00:00:00.054"
                    },
                    "metadata": {}
                },
                {
                    "output_type": "execute_result",
                    "metadata": {},
                    "execution_count": 26,
                    "data": {
                        "application/vnd.dataresource+json": {
                            "schema": {
                                "fields": [
                                    {
                                        "name": "DealID"
                                    },
                                    {
                                        "name": "DealName"
                                    },
                                    {
                                        "name": "DiscountPercentage"
                                    },
                                    {
                                        "name": "DealDescription"
                                    },
                                    {
                                        "name": "StartDate"
                                    },
                                    {
                                        "name": "EndDate"
                                    },
                                    {
                                        "name": "CustomerID"
                                    },
                                    {
                                        "name": "AssignedDate"
                                    }
                                ]
                            },
                            "data": [
                                {
                                    "DealID": "1",
                                    "DealName": "Top Customer Discount",
                                    "DiscountPercentage": "30.00",
                                    "DealDescription": "Special 30% Discount for Top 5 Customers",
                                    "StartDate": "2024-10-29",
                                    "EndDate": "2025-01-29",
                                    "CustomerID": "90",
                                    "AssignedDate": "2024-10-29"
                                },
                                {
                                    "DealID": "1",
                                    "DealName": "Top Customer Discount",
                                    "DiscountPercentage": "30.00",
                                    "DealDescription": "Special 30% Discount for Top 5 Customers",
                                    "StartDate": "2024-10-29",
                                    "EndDate": "2025-01-29",
                                    "CustomerID": "405",
                                    "AssignedDate": "2024-10-29"
                                },
                                {
                                    "DealID": "1",
                                    "DealName": "Top Customer Discount",
                                    "DiscountPercentage": "30.00",
                                    "DealDescription": "Special 30% Discount for Top 5 Customers",
                                    "StartDate": "2024-10-29",
                                    "EndDate": "2025-01-29",
                                    "CustomerID": "804",
                                    "AssignedDate": "2024-10-29"
                                },
                                {
                                    "DealID": "1",
                                    "DealName": "Top Customer Discount",
                                    "DiscountPercentage": "30.00",
                                    "DealDescription": "Special 30% Discount for Top 5 Customers",
                                    "StartDate": "2024-10-29",
                                    "EndDate": "2025-01-29",
                                    "CustomerID": "831",
                                    "AssignedDate": "2024-10-29"
                                },
                                {
                                    "DealID": "1",
                                    "DealName": "Top Customer Discount",
                                    "DiscountPercentage": "30.00",
                                    "DealDescription": "Special 30% Discount for Top 5 Customers",
                                    "StartDate": "2024-10-29",
                                    "EndDate": "2025-01-29",
                                    "CustomerID": "968",
                                    "AssignedDate": "2024-10-29"
                                }
                            ]
                        },
                        "text/html": [
                            "<table>",
                            "<tr><th>DealID</th><th>DealName</th><th>DiscountPercentage</th><th>DealDescription</th><th>StartDate</th><th>EndDate</th><th>CustomerID</th><th>AssignedDate</th></tr>",
                            "<tr><td>1</td><td>Top Customer Discount</td><td>30.00</td><td>Special 30% Discount for Top 5 Customers</td><td>2024-10-29</td><td>2025-01-29</td><td>90</td><td>2024-10-29</td></tr>",
                            "<tr><td>1</td><td>Top Customer Discount</td><td>30.00</td><td>Special 30% Discount for Top 5 Customers</td><td>2024-10-29</td><td>2025-01-29</td><td>405</td><td>2024-10-29</td></tr>",
                            "<tr><td>1</td><td>Top Customer Discount</td><td>30.00</td><td>Special 30% Discount for Top 5 Customers</td><td>2024-10-29</td><td>2025-01-29</td><td>804</td><td>2024-10-29</td></tr>",
                            "<tr><td>1</td><td>Top Customer Discount</td><td>30.00</td><td>Special 30% Discount for Top 5 Customers</td><td>2024-10-29</td><td>2025-01-29</td><td>831</td><td>2024-10-29</td></tr>",
                            "<tr><td>1</td><td>Top Customer Discount</td><td>30.00</td><td>Special 30% Discount for Top 5 Customers</td><td>2024-10-29</td><td>2025-01-29</td><td>968</td><td>2024-10-29</td></tr>",
                            "</table>"
                        ]
                    }
                }
            ],
            "execution_count": 26
        },
        {
            "cell_type": "markdown",
            "source": [
                "### ***10th Proposition***\n",
                "\n",
                "This query introduces a \"Lucky Seven Deal\" into the `WideWorldImporters` database, specifically targeting customers whose `CustomerID` is divisible by 7. It uses the `dbo.Deals` and `dbo.DealCustomers` tables to manage the deal details and customer assignments.\n",
                "\n",
                "1. **Insert \"Lucky Seven Deal\"**:\n",
                "   - Adds a new entry to the `dbo.Deals` table with the following parameters:\n",
                "     - **DealName**: \"Lucky Seven Deal\"\n",
                "     - **DiscountPercentage**: 10%\n",
                "     - **DealDescription**: Specifies a special 10% discount for customers with IDs divisible by 7.\n",
                "     - **StartDate**: Current date.\n",
                "     - **EndDate**: Two months from the start date.\n",
                "   - This setup records the details of the Lucky Seven Deal in `dbo.Deals`, allowing it to be referenced for specific customers.\n",
                "\n",
                "2. **Assign Deal to Qualified Customers**:\n",
                "   - Inserts eligible customer records into `dbo.DealCustomers`, associating each with the `DealID` for the Lucky Seven Deal.\n",
                "   - Uses a query to dynamically retrieve the `DealID` of the most recently added deal (Lucky Seven) and assigns it to customers where `CustomerID` is divisible by 7.\n",
                "\n",
                "3. **View Assigned Deals**:\n",
                "   - Joins `dbo.Deals` and `dbo.DealCustomers` with `Sales.Customers` to display a comprehensive list of customers eligible for the Lucky Seven Deal, including each customer’s name.\n",
                "\n",
                "### Business Perspective\n",
                "\n",
                "This query aligns with business goals in several ways:\n",
                "\n",
                "- **Targeted Promotions**: By offering a discount specifically to customers with IDs divisible by 7, the business can experiment with selective promotions, potentially increasing engagement among randomly selected customer segments.\n",
                "- **Improved Customer Engagement**: The Lucky Seven Deal adds a sense of exclusivity for eligible customers, encouraging them to take advantage of the limited-time discount, which can boost short-term sales.\n",
                "- **Data-Driven Marketing**: This approach can help assess the impact of selective discounting strategies, as the business can track responses from this customer subset and refine future deals based on observed outcomes.\n",
                "\n",
                "By structuring the promotion within `dbo.Deals` and `dbo.DealCustomers`, the business gains flexibility and clarity in managing and reporting on targeted discount initiatives.\n",
                ""
            ],
            "metadata": {
                "azdata_cell_guid": "8089a24a-21a9-45e2-be29-1ce67a65c438"
            },
            "attachments": {}
        },
        {
            "cell_type": "code",
            "source": [
                "USE [WideWorldImporters];\n",
                "GO\n",
                "\n",
                "-- Insert the Lucky Seven deal\n",
                "INSERT INTO dbo.Deals (\n",
                "    DealName,\n",
                "    DiscountPercentage,\n",
                "    DealDescription,\n",
                "    StartDate,\n",
                "    EndDate,\n",
                "    ProductID,\n",
                "    ProductName\n",
                ")\n",
                "VALUES (\n",
                "    'Lucky Seven Deal',\n",
                "    10.00,\n",
                "    'Special 10% Discount for Customers with ID divisible by 7',\n",
                "    CAST(GETDATE() AS DATE),\n",
                "    DATEADD(MONTH, 2, CAST(GETDATE() AS DATE)),\n",
                "    NULL,\n",
                "    NULL\n",
                ");\n",
                "\n",
                "-- Assign the deal to customers with IDs divisible by 7\n",
                "INSERT INTO dbo.DealCustomers (DealID, CustomerID)\n",
                "SELECT \n",
                "    (SELECT MAX(DealID) FROM dbo.Deals) AS DealID,\n",
                "    CustomerID\n",
                "FROM Sales.Customers\n",
                "WHERE CustomerID % 7 = 0;  -- This selects only CustomerIDs divisible by 7\n",
                "\n",
                "-- View the results of the Lucky Seven deal\n",
                "SELECT \n",
                "    d.DealID,\n",
                "    d.DealName,\n",
                "    d.DiscountPercentage,\n",
                "    d.DealDescription,\n",
                "    d.StartDate,\n",
                "    d.EndDate,\n",
                "    dc.CustomerID,\n",
                "    c.CustomerName\n",
                "FROM dbo.Deals d\n",
                "JOIN dbo.DealCustomers dc ON d.DealID = dc.DealID\n",
                "JOIN Sales.Customers c ON dc.CustomerID = c.CustomerID\n",
                "ORDER BY DealID;"
            ],
            "metadata": {
                "azdata_cell_guid": "72f124a5-b181-49c2-8278-3b0a768b653d",
                "language": "sql"
            },
            "outputs": [
                {
                    "output_type": "display_data",
                    "data": {
                        "text/html": "Commands completed successfully."
                    },
                    "metadata": {}
                },
                {
                    "output_type": "display_data",
                    "data": {
                        "text/html": "(1 row affected)"
                    },
                    "metadata": {}
                },
                {
                    "output_type": "display_data",
                    "data": {
                        "text/html": "(93 rows affected)"
                    },
                    "metadata": {}
                },
                {
                    "output_type": "display_data",
                    "data": {
                        "text/html": "(98 rows affected)"
                    },
                    "metadata": {}
                },
                {
                    "output_type": "display_data",
                    "data": {
                        "text/html": "Total execution time: 00:00:00.065"
                    },
                    "metadata": {}
                },
                {
                    "output_type": "execute_result",
                    "metadata": {},
                    "execution_count": 27,
                    "data": {
                        "application/vnd.dataresource+json": {
                            "schema": {
                                "fields": [
                                    {
                                        "name": "DealID"
                                    },
                                    {
                                        "name": "DealName"
                                    },
                                    {
                                        "name": "DiscountPercentage"
                                    },
                                    {
                                        "name": "DealDescription"
                                    },
                                    {
                                        "name": "StartDate"
                                    },
                                    {
                                        "name": "EndDate"
                                    },
                                    {
                                        "name": "CustomerID"
                                    },
                                    {
                                        "name": "CustomerName"
                                    }
                                ]
                            },
                            "data": [
                                {
                                    "DealID": "1",
                                    "DealName": "Top Customer Discount",
                                    "DiscountPercentage": "30.00",
                                    "DealDescription": "Special 30% Discount for Top 5 Customers",
                                    "StartDate": "2024-10-29",
                                    "EndDate": "2025-01-29",
                                    "CustomerID": "90",
                                    "CustomerName": "Tailspin Toys (Tolna, ND)"
                                },
                                {
                                    "DealID": "1",
                                    "DealName": "Top Customer Discount",
                                    "DiscountPercentage": "30.00",
                                    "DealDescription": "Special 30% Discount for Top 5 Customers",
                                    "StartDate": "2024-10-29",
                                    "EndDate": "2025-01-29",
                                    "CustomerID": "405",
                                    "CustomerName": "Wingtip Toys (Bourbonnais, IL)"
                                },
                                {
                                    "DealID": "1",
                                    "DealName": "Top Customer Discount",
                                    "DiscountPercentage": "30.00",
                                    "DealDescription": "Special 30% Discount for Top 5 Customers",
                                    "StartDate": "2024-10-29",
                                    "EndDate": "2025-01-29",
                                    "CustomerID": "804",
                                    "CustomerName": "Aleksandrs Riekstins"
                                },
                                {
                                    "DealID": "1",
                                    "DealName": "Top Customer Discount",
                                    "DiscountPercentage": "30.00",
                                    "DealDescription": "Special 30% Discount for Top 5 Customers",
                                    "StartDate": "2024-10-29",
                                    "EndDate": "2025-01-29",
                                    "CustomerID": "831",
                                    "CustomerName": "Bhaavan Rai"
                                },
                                {
                                    "DealID": "1",
                                    "DealName": "Top Customer Discount",
                                    "DiscountPercentage": "30.00",
                                    "DealDescription": "Special 30% Discount for Top 5 Customers",
                                    "StartDate": "2024-10-29",
                                    "EndDate": "2025-01-29",
                                    "CustomerID": "968",
                                    "CustomerName": "Anca Gogean"
                                },
                                {
                                    "DealID": "2",
                                    "DealName": "Lucky Seven Deal",
                                    "DiscountPercentage": "10.00",
                                    "DealDescription": "Special 10% Discount for Customers with ID divisible by 7",
                                    "StartDate": "2024-10-29",
                                    "EndDate": "2024-12-29",
                                    "CustomerID": "7",
                                    "CustomerName": "Tailspin Toys (Frankewing, TN)"
                                },
                                {
                                    "DealID": "2",
                                    "DealName": "Lucky Seven Deal",
                                    "DiscountPercentage": "10.00",
                                    "DealDescription": "Special 10% Discount for Customers with ID divisible by 7",
                                    "StartDate": "2024-10-29",
                                    "EndDate": "2024-12-29",
                                    "CustomerID": "14",
                                    "CustomerName": "Tailspin Toys (Long Meadow, MD)"
                                },
                                {
                                    "DealID": "2",
                                    "DealName": "Lucky Seven Deal",
                                    "DiscountPercentage": "10.00",
                                    "DealDescription": "Special 10% Discount for Customers with ID divisible by 7",
                                    "StartDate": "2024-10-29",
                                    "EndDate": "2024-12-29",
                                    "CustomerID": "21",
                                    "CustomerName": "Tailspin Toys (Tresckow, PA)"
                                },
                                {
                                    "DealID": "2",
                                    "DealName": "Lucky Seven Deal",
                                    "DiscountPercentage": "10.00",
                                    "DealDescription": "Special 10% Discount for Customers with ID divisible by 7",
                                    "StartDate": "2024-10-29",
                                    "EndDate": "2024-12-29",
                                    "CustomerID": "28",
                                    "CustomerName": "Tailspin Toys (North Ridge, NY)"
                                },
                                {
                                    "DealID": "2",
                                    "DealName": "Lucky Seven Deal",
                                    "DiscountPercentage": "10.00",
                                    "DealDescription": "Special 10% Discount for Customers with ID divisible by 7",
                                    "StartDate": "2024-10-29",
                                    "EndDate": "2024-12-29",
                                    "CustomerID": "35",
                                    "CustomerName": "Tailspin Toys (Slanesville, WV)"
                                },
                                {
                                    "DealID": "2",
                                    "DealName": "Lucky Seven Deal",
                                    "DiscountPercentage": "10.00",
                                    "DealDescription": "Special 10% Discount for Customers with ID divisible by 7",
                                    "StartDate": "2024-10-29",
                                    "EndDate": "2024-12-29",
                                    "CustomerID": "42",
                                    "CustomerName": "Tailspin Toys (Arietta, NY)"
                                },
                                {
                                    "DealID": "2",
                                    "DealName": "Lucky Seven Deal",
                                    "DiscountPercentage": "10.00",
                                    "DealDescription": "Special 10% Discount for Customers with ID divisible by 7",
                                    "StartDate": "2024-10-29",
                                    "EndDate": "2024-12-29",
                                    "CustomerID": "49",
                                    "CustomerName": "Tailspin Toys (Muir, MI)"
                                },
                                {
                                    "DealID": "2",
                                    "DealName": "Lucky Seven Deal",
                                    "DiscountPercentage": "10.00",
                                    "DealDescription": "Special 10% Discount for Customers with ID divisible by 7",
                                    "StartDate": "2024-10-29",
                                    "EndDate": "2024-12-29",
                                    "CustomerID": "56",
                                    "CustomerName": "Tailspin Toys (Royal City, WA)"
                                },
                                {
                                    "DealID": "2",
                                    "DealName": "Lucky Seven Deal",
                                    "DiscountPercentage": "10.00",
                                    "DealDescription": "Special 10% Discount for Customers with ID divisible by 7",
                                    "StartDate": "2024-10-29",
                                    "EndDate": "2024-12-29",
                                    "CustomerID": "63",
                                    "CustomerName": "Tailspin Toys (Stallion Springs, CA)"
                                },
                                {
                                    "DealID": "2",
                                    "DealName": "Lucky Seven Deal",
                                    "DiscountPercentage": "10.00",
                                    "DealDescription": "Special 10% Discount for Customers with ID divisible by 7",
                                    "StartDate": "2024-10-29",
                                    "EndDate": "2024-12-29",
                                    "CustomerID": "70",
                                    "CustomerName": "Tailspin Toys (New Baden, IL)"
                                },
                                {
                                    "DealID": "2",
                                    "DealName": "Lucky Seven Deal",
                                    "DiscountPercentage": "10.00",
                                    "DealDescription": "Special 10% Discount for Customers with ID divisible by 7",
                                    "StartDate": "2024-10-29",
                                    "EndDate": "2024-12-29",
                                    "CustomerID": "77",
                                    "CustomerName": "Tailspin Toys (Hahira, GA)"
                                },
                                {
                                    "DealID": "2",
                                    "DealName": "Lucky Seven Deal",
                                    "DiscountPercentage": "10.00",
                                    "DealDescription": "Special 10% Discount for Customers with ID divisible by 7",
                                    "StartDate": "2024-10-29",
                                    "EndDate": "2024-12-29",
                                    "CustomerID": "84",
                                    "CustomerName": "Tailspin Toys (Aceitunas, PR)"
                                },
                                {
                                    "DealID": "2",
                                    "DealName": "Lucky Seven Deal",
                                    "DiscountPercentage": "10.00",
                                    "DealDescription": "Special 10% Discount for Customers with ID divisible by 7",
                                    "StartDate": "2024-10-29",
                                    "EndDate": "2024-12-29",
                                    "CustomerID": "91",
                                    "CustomerName": "Tailspin Toys (Alstead, NH)"
                                },
                                {
                                    "DealID": "2",
                                    "DealName": "Lucky Seven Deal",
                                    "DiscountPercentage": "10.00",
                                    "DealDescription": "Special 10% Discount for Customers with ID divisible by 7",
                                    "StartDate": "2024-10-29",
                                    "EndDate": "2024-12-29",
                                    "CustomerID": "98",
                                    "CustomerName": "Tailspin Toys (El Centro, CA)"
                                },
                                {
                                    "DealID": "2",
                                    "DealName": "Lucky Seven Deal",
                                    "DiscountPercentage": "10.00",
                                    "DealDescription": "Special 10% Discount for Customers with ID divisible by 7",
                                    "StartDate": "2024-10-29",
                                    "EndDate": "2024-12-29",
                                    "CustomerID": "105",
                                    "CustomerName": "Tailspin Toys (Tomnolen, MS)"
                                },
                                {
                                    "DealID": "2",
                                    "DealName": "Lucky Seven Deal",
                                    "DiscountPercentage": "10.00",
                                    "DealDescription": "Special 10% Discount for Customers with ID divisible by 7",
                                    "StartDate": "2024-10-29",
                                    "EndDate": "2024-12-29",
                                    "CustomerID": "112",
                                    "CustomerName": "Tailspin Toys (Sallyards, KS)"
                                },
                                {
                                    "DealID": "2",
                                    "DealName": "Lucky Seven Deal",
                                    "DiscountPercentage": "10.00",
                                    "DealDescription": "Special 10% Discount for Customers with ID divisible by 7",
                                    "StartDate": "2024-10-29",
                                    "EndDate": "2024-12-29",
                                    "CustomerID": "119",
                                    "CustomerName": "Tailspin Toys (Statenville, GA)"
                                },
                                {
                                    "DealID": "2",
                                    "DealName": "Lucky Seven Deal",
                                    "DiscountPercentage": "10.00",
                                    "DealDescription": "Special 10% Discount for Customers with ID divisible by 7",
                                    "StartDate": "2024-10-29",
                                    "EndDate": "2024-12-29",
                                    "CustomerID": "126",
                                    "CustomerName": "Tailspin Toys (Francis Mills, NJ)"
                                },
                                {
                                    "DealID": "2",
                                    "DealName": "Lucky Seven Deal",
                                    "DiscountPercentage": "10.00",
                                    "DealDescription": "Special 10% Discount for Customers with ID divisible by 7",
                                    "StartDate": "2024-10-29",
                                    "EndDate": "2024-12-29",
                                    "CustomerID": "133",
                                    "CustomerName": "Tailspin Toys (Lake Erie Beach, NY)"
                                },
                                {
                                    "DealID": "2",
                                    "DealName": "Lucky Seven Deal",
                                    "DiscountPercentage": "10.00",
                                    "DealDescription": "Special 10% Discount for Customers with ID divisible by 7",
                                    "StartDate": "2024-10-29",
                                    "EndDate": "2024-12-29",
                                    "CustomerID": "140",
                                    "CustomerName": "Tailspin Toys (Furley, KS)"
                                },
                                {
                                    "DealID": "2",
                                    "DealName": "Lucky Seven Deal",
                                    "DiscountPercentage": "10.00",
                                    "DealDescription": "Special 10% Discount for Customers with ID divisible by 7",
                                    "StartDate": "2024-10-29",
                                    "EndDate": "2024-12-29",
                                    "CustomerID": "147",
                                    "CustomerName": "Tailspin Toys (Fishtail, MT)"
                                },
                                {
                                    "DealID": "2",
                                    "DealName": "Lucky Seven Deal",
                                    "DiscountPercentage": "10.00",
                                    "DealDescription": "Special 10% Discount for Customers with ID divisible by 7",
                                    "StartDate": "2024-10-29",
                                    "EndDate": "2024-12-29",
                                    "CustomerID": "154",
                                    "CustomerName": "Tailspin Toys (Eden Valley, MN)"
                                },
                                {
                                    "DealID": "2",
                                    "DealName": "Lucky Seven Deal",
                                    "DiscountPercentage": "10.00",
                                    "DealDescription": "Special 10% Discount for Customers with ID divisible by 7",
                                    "StartDate": "2024-10-29",
                                    "EndDate": "2024-12-29",
                                    "CustomerID": "161",
                                    "CustomerName": "Tailspin Toys (Aspen Park, CO)"
                                },
                                {
                                    "DealID": "2",
                                    "DealName": "Lucky Seven Deal",
                                    "DiscountPercentage": "10.00",
                                    "DealDescription": "Special 10% Discount for Customers with ID divisible by 7",
                                    "StartDate": "2024-10-29",
                                    "EndDate": "2024-12-29",
                                    "CustomerID": "168",
                                    "CustomerName": "Tailspin Toys (Seagraves, TX)"
                                },
                                {
                                    "DealID": "2",
                                    "DealName": "Lucky Seven Deal",
                                    "DiscountPercentage": "10.00",
                                    "DealDescription": "Special 10% Discount for Customers with ID divisible by 7",
                                    "StartDate": "2024-10-29",
                                    "EndDate": "2024-12-29",
                                    "CustomerID": "175",
                                    "CustomerName": "Tailspin Toys (San Acacia, NM)"
                                },
                                {
                                    "DealID": "2",
                                    "DealName": "Lucky Seven Deal",
                                    "DiscountPercentage": "10.00",
                                    "DealDescription": "Special 10% Discount for Customers with ID divisible by 7",
                                    "StartDate": "2024-10-29",
                                    "EndDate": "2024-12-29",
                                    "CustomerID": "182",
                                    "CustomerName": "Tailspin Toys (Hayes Center, NE)"
                                },
                                {
                                    "DealID": "2",
                                    "DealName": "Lucky Seven Deal",
                                    "DiscountPercentage": "10.00",
                                    "DealDescription": "Special 10% Discount for Customers with ID divisible by 7",
                                    "StartDate": "2024-10-29",
                                    "EndDate": "2024-12-29",
                                    "CustomerID": "189",
                                    "CustomerName": "Tailspin Toys (Wilkes-Barre, PA)"
                                },
                                {
                                    "DealID": "2",
                                    "DealName": "Lucky Seven Deal",
                                    "DiscountPercentage": "10.00",
                                    "DealDescription": "Special 10% Discount for Customers with ID divisible by 7",
                                    "StartDate": "2024-10-29",
                                    "EndDate": "2024-12-29",
                                    "CustomerID": "196",
                                    "CustomerName": "Tailspin Toys (Howells, NE)"
                                },
                                {
                                    "DealID": "2",
                                    "DealName": "Lucky Seven Deal",
                                    "DiscountPercentage": "10.00",
                                    "DealDescription": "Special 10% Discount for Customers with ID divisible by 7",
                                    "StartDate": "2024-10-29",
                                    "EndDate": "2024-12-29",
                                    "CustomerID": "406",
                                    "CustomerName": "Wingtip Toys (Tuscaloosa, AL)"
                                },
                                {
                                    "DealID": "2",
                                    "DealName": "Lucky Seven Deal",
                                    "DiscountPercentage": "10.00",
                                    "DealDescription": "Special 10% Discount for Customers with ID divisible by 7",
                                    "StartDate": "2024-10-29",
                                    "EndDate": "2024-12-29",
                                    "CustomerID": "413",
                                    "CustomerName": "Wingtip Toys (Truscott, TX)"
                                },
                                {
                                    "DealID": "2",
                                    "DealName": "Lucky Seven Deal",
                                    "DiscountPercentage": "10.00",
                                    "DealDescription": "Special 10% Discount for Customers with ID divisible by 7",
                                    "StartDate": "2024-10-29",
                                    "EndDate": "2024-12-29",
                                    "CustomerID": "420",
                                    "CustomerName": "Wingtip Toys (Herlong, CA)"
                                },
                                {
                                    "DealID": "2",
                                    "DealName": "Lucky Seven Deal",
                                    "DiscountPercentage": "10.00",
                                    "DealDescription": "Special 10% Discount for Customers with ID divisible by 7",
                                    "StartDate": "2024-10-29",
                                    "EndDate": "2024-12-29",
                                    "CustomerID": "427",
                                    "CustomerName": "Wingtip Toys (Athol Springs, NY)"
                                },
                                {
                                    "DealID": "2",
                                    "DealName": "Lucky Seven Deal",
                                    "DiscountPercentage": "10.00",
                                    "DealDescription": "Special 10% Discount for Customers with ID divisible by 7",
                                    "StartDate": "2024-10-29",
                                    "EndDate": "2024-12-29",
                                    "CustomerID": "434",
                                    "CustomerName": "Wingtip Toys (Lime Lake, NY)"
                                },
                                {
                                    "DealID": "2",
                                    "DealName": "Lucky Seven Deal",
                                    "DiscountPercentage": "10.00",
                                    "DealDescription": "Special 10% Discount for Customers with ID divisible by 7",
                                    "StartDate": "2024-10-29",
                                    "EndDate": "2024-12-29",
                                    "CustomerID": "441",
                                    "CustomerName": "Wingtip Toys (Keosauqua, IA)"
                                },
                                {
                                    "DealID": "2",
                                    "DealName": "Lucky Seven Deal",
                                    "DiscountPercentage": "10.00",
                                    "DealDescription": "Special 10% Discount for Customers with ID divisible by 7",
                                    "StartDate": "2024-10-29",
                                    "EndDate": "2024-12-29",
                                    "CustomerID": "448",
                                    "CustomerName": "Wingtip Toys (Salt Wells, NV)"
                                },
                                {
                                    "DealID": "2",
                                    "DealName": "Lucky Seven Deal",
                                    "DiscountPercentage": "10.00",
                                    "DealDescription": "Special 10% Discount for Customers with ID divisible by 7",
                                    "StartDate": "2024-10-29",
                                    "EndDate": "2024-12-29",
                                    "CustomerID": "455",
                                    "CustomerName": "Wingtip Toys (Taft Heights, CA)"
                                },
                                {
                                    "DealID": "2",
                                    "DealName": "Lucky Seven Deal",
                                    "DiscountPercentage": "10.00",
                                    "DealDescription": "Special 10% Discount for Customers with ID divisible by 7",
                                    "StartDate": "2024-10-29",
                                    "EndDate": "2024-12-29",
                                    "CustomerID": "462",
                                    "CustomerName": "Wingtip Toys (Crossroads, NM)"
                                },
                                {
                                    "DealID": "2",
                                    "DealName": "Lucky Seven Deal",
                                    "DiscountPercentage": "10.00",
                                    "DealDescription": "Special 10% Discount for Customers with ID divisible by 7",
                                    "StartDate": "2024-10-29",
                                    "EndDate": "2024-12-29",
                                    "CustomerID": "469",
                                    "CustomerName": "Wingtip Toys (Johnetta, KY)"
                                },
                                {
                                    "DealID": "2",
                                    "DealName": "Lucky Seven Deal",
                                    "DiscountPercentage": "10.00",
                                    "DealDescription": "Special 10% Discount for Customers with ID divisible by 7",
                                    "StartDate": "2024-10-29",
                                    "EndDate": "2024-12-29",
                                    "CustomerID": "476",
                                    "CustomerName": "Wingtip Toys (Karthaus, PA)"
                                },
                                {
                                    "DealID": "2",
                                    "DealName": "Lucky Seven Deal",
                                    "DiscountPercentage": "10.00",
                                    "DealDescription": "Special 10% Discount for Customers with ID divisible by 7",
                                    "StartDate": "2024-10-29",
                                    "EndDate": "2024-12-29",
                                    "CustomerID": "483",
                                    "CustomerName": "Wingtip Toys (Plum Branch, SC)"
                                },
                                {
                                    "DealID": "2",
                                    "DealName": "Lucky Seven Deal",
                                    "DiscountPercentage": "10.00",
                                    "DealDescription": "Special 10% Discount for Customers with ID divisible by 7",
                                    "StartDate": "2024-10-29",
                                    "EndDate": "2024-12-29",
                                    "CustomerID": "490",
                                    "CustomerName": "Wingtip Toys (Beals, ME)"
                                },
                                {
                                    "DealID": "2",
                                    "DealName": "Lucky Seven Deal",
                                    "DiscountPercentage": "10.00",
                                    "DealDescription": "Special 10% Discount for Customers with ID divisible by 7",
                                    "StartDate": "2024-10-29",
                                    "EndDate": "2024-12-29",
                                    "CustomerID": "497",
                                    "CustomerName": "Wingtip Toys (Verdery, SC)"
                                },
                                {
                                    "DealID": "2",
                                    "DealName": "Lucky Seven Deal",
                                    "DiscountPercentage": "10.00",
                                    "DealDescription": "Special 10% Discount for Customers with ID divisible by 7",
                                    "StartDate": "2024-10-29",
                                    "EndDate": "2024-12-29",
                                    "CustomerID": "504",
                                    "CustomerName": "Wingtip Toys (Cape Neddick, ME)"
                                },
                                {
                                    "DealID": "2",
                                    "DealName": "Lucky Seven Deal",
                                    "DiscountPercentage": "10.00",
                                    "DealDescription": "Special 10% Discount for Customers with ID divisible by 7",
                                    "StartDate": "2024-10-29",
                                    "EndDate": "2024-12-29",
                                    "CustomerID": "511",
                                    "CustomerName": "Wingtip Toys (North Manitou, MI)"
                                },
                                {
                                    "DealID": "2",
                                    "DealName": "Lucky Seven Deal",
                                    "DiscountPercentage": "10.00",
                                    "DealDescription": "Special 10% Discount for Customers with ID divisible by 7",
                                    "StartDate": "2024-10-29",
                                    "EndDate": "2024-12-29",
                                    "CustomerID": "518",
                                    "CustomerName": "Wingtip Toys (Raton, NM)"
                                },
                                {
                                    "DealID": "2",
                                    "DealName": "Lucky Seven Deal",
                                    "DiscountPercentage": "10.00",
                                    "DealDescription": "Special 10% Discount for Customers with ID divisible by 7",
                                    "StartDate": "2024-10-29",
                                    "EndDate": "2024-12-29",
                                    "CustomerID": "525",
                                    "CustomerName": "Wingtip Toys (Claycomo, MO)"
                                },
                                {
                                    "DealID": "2",
                                    "DealName": "Lucky Seven Deal",
                                    "DiscountPercentage": "10.00",
                                    "DealDescription": "Special 10% Discount for Customers with ID divisible by 7",
                                    "StartDate": "2024-10-29",
                                    "EndDate": "2024-12-29",
                                    "CustomerID": "532",
                                    "CustomerName": "Wingtip Toys (Waycross, GA)"
                                },
                                {
                                    "DealID": "2",
                                    "DealName": "Lucky Seven Deal",
                                    "DiscountPercentage": "10.00",
                                    "DealDescription": "Special 10% Discount for Customers with ID divisible by 7",
                                    "StartDate": "2024-10-29",
                                    "EndDate": "2024-12-29",
                                    "CustomerID": "539",
                                    "CustomerName": "Wingtip Toys (Nuangola, PA)"
                                },
                                {
                                    "DealID": "2",
                                    "DealName": "Lucky Seven Deal",
                                    "DiscountPercentage": "10.00",
                                    "DealDescription": "Special 10% Discount for Customers with ID divisible by 7",
                                    "StartDate": "2024-10-29",
                                    "EndDate": "2024-12-29",
                                    "CustomerID": "546",
                                    "CustomerName": "Wingtip Toys (Key Biscayne, FL)"
                                },
                                {
                                    "DealID": "2",
                                    "DealName": "Lucky Seven Deal",
                                    "DiscountPercentage": "10.00",
                                    "DealDescription": "Special 10% Discount for Customers with ID divisible by 7",
                                    "StartDate": "2024-10-29",
                                    "EndDate": "2024-12-29",
                                    "CustomerID": "553",
                                    "CustomerName": "Wingtip Toys (Helotes, TX)"
                                },
                                {
                                    "DealID": "2",
                                    "DealName": "Lucky Seven Deal",
                                    "DiscountPercentage": "10.00",
                                    "DealDescription": "Special 10% Discount for Customers with ID divisible by 7",
                                    "StartDate": "2024-10-29",
                                    "EndDate": "2024-12-29",
                                    "CustomerID": "560",
                                    "CustomerName": "Wingtip Toys (Palmas del Mar, PR)"
                                },
                                {
                                    "DealID": "2",
                                    "DealName": "Lucky Seven Deal",
                                    "DiscountPercentage": "10.00",
                                    "DealDescription": "Special 10% Discount for Customers with ID divisible by 7",
                                    "StartDate": "2024-10-29",
                                    "EndDate": "2024-12-29",
                                    "CustomerID": "567",
                                    "CustomerName": "Wingtip Toys (Jeromesville, OH)"
                                },
                                {
                                    "DealID": "2",
                                    "DealName": "Lucky Seven Deal",
                                    "DiscountPercentage": "10.00",
                                    "DealDescription": "Special 10% Discount for Customers with ID divisible by 7",
                                    "StartDate": "2024-10-29",
                                    "EndDate": "2024-12-29",
                                    "CustomerID": "574",
                                    "CustomerName": "Wingtip Toys (Molalla, OR)"
                                },
                                {
                                    "DealID": "2",
                                    "DealName": "Lucky Seven Deal",
                                    "DiscountPercentage": "10.00",
                                    "DealDescription": "Special 10% Discount for Customers with ID divisible by 7",
                                    "StartDate": "2024-10-29",
                                    "EndDate": "2024-12-29",
                                    "CustomerID": "581",
                                    "CustomerName": "Wingtip Toys (Munich, ND)"
                                },
                                {
                                    "DealID": "2",
                                    "DealName": "Lucky Seven Deal",
                                    "DiscountPercentage": "10.00",
                                    "DealDescription": "Special 10% Discount for Customers with ID divisible by 7",
                                    "StartDate": "2024-10-29",
                                    "EndDate": "2024-12-29",
                                    "CustomerID": "588",
                                    "CustomerName": "Wingtip Toys (Oak Point, TX)"
                                },
                                {
                                    "DealID": "2",
                                    "DealName": "Lucky Seven Deal",
                                    "DiscountPercentage": "10.00",
                                    "DealDescription": "Special 10% Discount for Customers with ID divisible by 7",
                                    "StartDate": "2024-10-29",
                                    "EndDate": "2024-12-29",
                                    "CustomerID": "595",
                                    "CustomerName": "Wingtip Toys (Accomac, VA)"
                                },
                                {
                                    "DealID": "2",
                                    "DealName": "Lucky Seven Deal",
                                    "DiscountPercentage": "10.00",
                                    "DealDescription": "Special 10% Discount for Customers with ID divisible by 7",
                                    "StartDate": "2024-10-29",
                                    "EndDate": "2024-12-29",
                                    "CustomerID": "805",
                                    "CustomerName": "Ratan Poddar"
                                },
                                {
                                    "DealID": "2",
                                    "DealName": "Lucky Seven Deal",
                                    "DiscountPercentage": "10.00",
                                    "DealDescription": "Special 10% Discount for Customers with ID divisible by 7",
                                    "StartDate": "2024-10-29",
                                    "EndDate": "2024-12-29",
                                    "CustomerID": "812",
                                    "CustomerName": "Celica Barajas"
                                },
                                {
                                    "DealID": "2",
                                    "DealName": "Lucky Seven Deal",
                                    "DiscountPercentage": "10.00",
                                    "DealDescription": "Special 10% Discount for Customers with ID divisible by 7",
                                    "StartDate": "2024-10-29",
                                    "EndDate": "2024-12-29",
                                    "CustomerID": "819",
                                    "CustomerName": "Santiago Vera"
                                },
                                {
                                    "DealID": "2",
                                    "DealName": "Lucky Seven Deal",
                                    "DiscountPercentage": "10.00",
                                    "DealDescription": "Special 10% Discount for Customers with ID divisible by 7",
                                    "StartDate": "2024-10-29",
                                    "EndDate": "2024-12-29",
                                    "CustomerID": "826",
                                    "CustomerName": "Leila Carvalho"
                                },
                                {
                                    "DealID": "2",
                                    "DealName": "Lucky Seven Deal",
                                    "DiscountPercentage": "10.00",
                                    "DealDescription": "Special 10% Discount for Customers with ID divisible by 7",
                                    "StartDate": "2024-10-29",
                                    "EndDate": "2024-12-29",
                                    "CustomerID": "833",
                                    "CustomerName": "Devraj Rao"
                                },
                                {
                                    "DealID": "2",
                                    "DealName": "Lucky Seven Deal",
                                    "DiscountPercentage": "10.00",
                                    "DealDescription": "Special 10% Discount for Customers with ID divisible by 7",
                                    "StartDate": "2024-10-29",
                                    "EndDate": "2024-12-29",
                                    "CustomerID": "840",
                                    "CustomerName": "Rodrigo Figueiredo"
                                },
                                {
                                    "DealID": "2",
                                    "DealName": "Lucky Seven Deal",
                                    "DiscountPercentage": "10.00",
                                    "DealDescription": "Special 10% Discount for Customers with ID divisible by 7",
                                    "StartDate": "2024-10-29",
                                    "EndDate": "2024-12-29",
                                    "CustomerID": "847",
                                    "CustomerName": "Kristiina Ivanov"
                                },
                                {
                                    "DealID": "2",
                                    "DealName": "Lucky Seven Deal",
                                    "DiscountPercentage": "10.00",
                                    "DealDescription": "Special 10% Discount for Customers with ID divisible by 7",
                                    "StartDate": "2024-10-29",
                                    "EndDate": "2024-12-29",
                                    "CustomerID": "854",
                                    "CustomerName": "Daakshaayaani Kommineni"
                                },
                                {
                                    "DealID": "2",
                                    "DealName": "Lucky Seven Deal",
                                    "DiscountPercentage": "10.00",
                                    "DealDescription": "Special 10% Discount for Customers with ID divisible by 7",
                                    "StartDate": "2024-10-29",
                                    "EndDate": "2024-12-29",
                                    "CustomerID": "861",
                                    "CustomerName": "Amarasimha Vinjamuri"
                                },
                                {
                                    "DealID": "2",
                                    "DealName": "Lucky Seven Deal",
                                    "DiscountPercentage": "10.00",
                                    "DealDescription": "Special 10% Discount for Customers with ID divisible by 7",
                                    "StartDate": "2024-10-29",
                                    "EndDate": "2024-12-29",
                                    "CustomerID": "868",
                                    "CustomerName": "Laura Sykorova"
                                },
                                {
                                    "DealID": "2",
                                    "DealName": "Lucky Seven Deal",
                                    "DiscountPercentage": "10.00",
                                    "DealDescription": "Special 10% Discount for Customers with ID divisible by 7",
                                    "StartDate": "2024-10-29",
                                    "EndDate": "2024-12-29",
                                    "CustomerID": "875",
                                    "CustomerName": "Philip Walker"
                                },
                                {
                                    "DealID": "2",
                                    "DealName": "Lucky Seven Deal",
                                    "DiscountPercentage": "10.00",
                                    "DealDescription": "Special 10% Discount for Customers with ID divisible by 7",
                                    "StartDate": "2024-10-29",
                                    "EndDate": "2024-12-29",
                                    "CustomerID": "882",
                                    "CustomerName": "Maryann Huddleston"
                                },
                                {
                                    "DealID": "2",
                                    "DealName": "Lucky Seven Deal",
                                    "DiscountPercentage": "10.00",
                                    "DealDescription": "Special 10% Discount for Customers with ID divisible by 7",
                                    "StartDate": "2024-10-29",
                                    "EndDate": "2024-12-29",
                                    "CustomerID": "889",
                                    "CustomerName": "Sointu Savonheimo"
                                },
                                {
                                    "DealID": "2",
                                    "DealName": "Lucky Seven Deal",
                                    "DiscountPercentage": "10.00",
                                    "DealDescription": "Special 10% Discount for Customers with ID divisible by 7",
                                    "StartDate": "2024-10-29",
                                    "EndDate": "2024-12-29",
                                    "CustomerID": "896",
                                    "CustomerName": "Leonardo Folliero"
                                },
                                {
                                    "DealID": "2",
                                    "DealName": "Lucky Seven Deal",
                                    "DiscountPercentage": "10.00",
                                    "DealDescription": "Special 10% Discount for Customers with ID divisible by 7",
                                    "StartDate": "2024-10-29",
                                    "EndDate": "2024-12-29",
                                    "CustomerID": "903",
                                    "CustomerName": "Bing Han"
                                },
                                {
                                    "DealID": "2",
                                    "DealName": "Lucky Seven Deal",
                                    "DiscountPercentage": "10.00",
                                    "DealDescription": "Special 10% Discount for Customers with ID divisible by 7",
                                    "StartDate": "2024-10-29",
                                    "EndDate": "2024-12-29",
                                    "CustomerID": "910",
                                    "CustomerName": "Elina Kaleja"
                                },
                                {
                                    "DealID": "2",
                                    "DealName": "Lucky Seven Deal",
                                    "DiscountPercentage": "10.00",
                                    "DealDescription": "Special 10% Discount for Customers with ID divisible by 7",
                                    "StartDate": "2024-10-29",
                                    "EndDate": "2024-12-29",
                                    "CustomerID": "917",
                                    "CustomerName": "Pari Hosseini"
                                },
                                {
                                    "DealID": "2",
                                    "DealName": "Lucky Seven Deal",
                                    "DiscountPercentage": "10.00",
                                    "DealDescription": "Special 10% Discount for Customers with ID divisible by 7",
                                    "StartDate": "2024-10-29",
                                    "EndDate": "2024-12-29",
                                    "CustomerID": "924",
                                    "CustomerName": "Eva Schulteisz"
                                },
                                {
                                    "DealID": "2",
                                    "DealName": "Lucky Seven Deal",
                                    "DiscountPercentage": "10.00",
                                    "DealDescription": "Special 10% Discount for Customers with ID divisible by 7",
                                    "StartDate": "2024-10-29",
                                    "EndDate": "2024-12-29",
                                    "CustomerID": "931",
                                    "CustomerName": "Nada Jovanovic"
                                },
                                {
                                    "DealID": "2",
                                    "DealName": "Lucky Seven Deal",
                                    "DiscountPercentage": "10.00",
                                    "DealDescription": "Special 10% Discount for Customers with ID divisible by 7",
                                    "StartDate": "2024-10-29",
                                    "EndDate": "2024-12-29",
                                    "CustomerID": "938",
                                    "CustomerName": "Anna Gyarmathi"
                                },
                                {
                                    "DealID": "2",
                                    "DealName": "Lucky Seven Deal",
                                    "DiscountPercentage": "10.00",
                                    "DealDescription": "Special 10% Discount for Customers with ID divisible by 7",
                                    "StartDate": "2024-10-29",
                                    "EndDate": "2024-12-29",
                                    "CustomerID": "945",
                                    "CustomerName": "Hoc Tran"
                                },
                                {
                                    "DealID": "2",
                                    "DealName": "Lucky Seven Deal",
                                    "DiscountPercentage": "10.00",
                                    "DealDescription": "Special 10% Discount for Customers with ID divisible by 7",
                                    "StartDate": "2024-10-29",
                                    "EndDate": "2024-12-29",
                                    "CustomerID": "952",
                                    "CustomerName": "Chuan Wattanasin"
                                },
                                {
                                    "DealID": "2",
                                    "DealName": "Lucky Seven Deal",
                                    "DiscountPercentage": "10.00",
                                    "DealDescription": "Special 10% Discount for Customers with ID divisible by 7",
                                    "StartDate": "2024-10-29",
                                    "EndDate": "2024-12-29",
                                    "CustomerID": "959",
                                    "CustomerName": "Dhaatri Chavva"
                                },
                                {
                                    "DealID": "2",
                                    "DealName": "Lucky Seven Deal",
                                    "DiscountPercentage": "10.00",
                                    "DealDescription": "Special 10% Discount for Customers with ID divisible by 7",
                                    "StartDate": "2024-10-29",
                                    "EndDate": "2024-12-29",
                                    "CustomerID": "966",
                                    "CustomerName": "Sara Walkky"
                                },
                                {
                                    "DealID": "2",
                                    "DealName": "Lucky Seven Deal",
                                    "DiscountPercentage": "10.00",
                                    "DealDescription": "Special 10% Discount for Customers with ID divisible by 7",
                                    "StartDate": "2024-10-29",
                                    "EndDate": "2024-12-29",
                                    "CustomerID": "973",
                                    "CustomerName": "Kumar Kamei"
                                },
                                {
                                    "DealID": "2",
                                    "DealName": "Lucky Seven Deal",
                                    "DiscountPercentage": "10.00",
                                    "DealDescription": "Special 10% Discount for Customers with ID divisible by 7",
                                    "StartDate": "2024-10-29",
                                    "EndDate": "2024-12-29",
                                    "CustomerID": "980",
                                    "CustomerName": "Om Yadav"
                                },
                                {
                                    "DealID": "2",
                                    "DealName": "Lucky Seven Deal",
                                    "DiscountPercentage": "10.00",
                                    "DealDescription": "Special 10% Discount for Customers with ID divisible by 7",
                                    "StartDate": "2024-10-29",
                                    "EndDate": "2024-12-29",
                                    "CustomerID": "987",
                                    "CustomerName": "Akhil Nadar"
                                },
                                {
                                    "DealID": "2",
                                    "DealName": "Lucky Seven Deal",
                                    "DiscountPercentage": "10.00",
                                    "DealDescription": "Special 10% Discount for Customers with ID divisible by 7",
                                    "StartDate": "2024-10-29",
                                    "EndDate": "2024-12-29",
                                    "CustomerID": "994",
                                    "CustomerName": "Libuse Kuchtova"
                                },
                                {
                                    "DealID": "2",
                                    "DealName": "Lucky Seven Deal",
                                    "DiscountPercentage": "10.00",
                                    "DealDescription": "Special 10% Discount for Customers with ID divisible by 7",
                                    "StartDate": "2024-10-29",
                                    "EndDate": "2024-12-29",
                                    "CustomerID": "1001",
                                    "CustomerName": "Dinh Mai"
                                },
                                {
                                    "DealID": "2",
                                    "DealName": "Lucky Seven Deal",
                                    "DiscountPercentage": "10.00",
                                    "DealDescription": "Special 10% Discount for Customers with ID divisible by 7",
                                    "StartDate": "2024-10-29",
                                    "EndDate": "2024-12-29",
                                    "CustomerID": "1008",
                                    "CustomerName": "Vedrana Kovacevic"
                                },
                                {
                                    "DealID": "2",
                                    "DealName": "Lucky Seven Deal",
                                    "DiscountPercentage": "10.00",
                                    "DealDescription": "Special 10% Discount for Customers with ID divisible by 7",
                                    "StartDate": "2024-10-29",
                                    "EndDate": "2024-12-29",
                                    "CustomerID": "1015",
                                    "CustomerName": "Isa Hulsegge"
                                },
                                {
                                    "DealID": "2",
                                    "DealName": "Lucky Seven Deal",
                                    "DiscountPercentage": "10.00",
                                    "DealDescription": "Special 10% Discount for Customers with ID divisible by 7",
                                    "StartDate": "2024-10-29",
                                    "EndDate": "2024-12-29",
                                    "CustomerID": "1022",
                                    "CustomerName": "Nadir Seddigh"
                                },
                                {
                                    "DealID": "2",
                                    "DealName": "Lucky Seven Deal",
                                    "DiscountPercentage": "10.00",
                                    "DealDescription": "Special 10% Discount for Customers with ID divisible by 7",
                                    "StartDate": "2024-10-29",
                                    "EndDate": "2024-12-29",
                                    "CustomerID": "1029",
                                    "CustomerName": "Veronika Necesana"
                                },
                                {
                                    "DealID": "2",
                                    "DealName": "Lucky Seven Deal",
                                    "DiscountPercentage": "10.00",
                                    "DealDescription": "Special 10% Discount for Customers with ID divisible by 7",
                                    "StartDate": "2024-10-29",
                                    "EndDate": "2024-12-29",
                                    "CustomerID": "1036",
                                    "CustomerName": "Erik Malk"
                                },
                                {
                                    "DealID": "2",
                                    "DealName": "Lucky Seven Deal",
                                    "DiscountPercentage": "10.00",
                                    "DealDescription": "Special 10% Discount for Customers with ID divisible by 7",
                                    "StartDate": "2024-10-29",
                                    "EndDate": "2024-12-29",
                                    "CustomerID": "1043",
                                    "CustomerName": "Raj Verma"
                                },
                                {
                                    "DealID": "2",
                                    "DealName": "Lucky Seven Deal",
                                    "DiscountPercentage": "10.00",
                                    "DealDescription": "Special 10% Discount for Customers with ID divisible by 7",
                                    "StartDate": "2024-10-29",
                                    "EndDate": "2024-12-29",
                                    "CustomerID": "1050",
                                    "CustomerName": "Amrita Ganguly"
                                },
                                {
                                    "DealID": "2",
                                    "DealName": "Lucky Seven Deal",
                                    "DiscountPercentage": "10.00",
                                    "DealDescription": "Special 10% Discount for Customers with ID divisible by 7",
                                    "StartDate": "2024-10-29",
                                    "EndDate": "2024-12-29",
                                    "CustomerID": "1057",
                                    "CustomerName": "Ganesh Majumdar"
                                }
                            ]
                        },
                        "text/html": [
                            "<table>",
                            "<tr><th>DealID</th><th>DealName</th><th>DiscountPercentage</th><th>DealDescription</th><th>StartDate</th><th>EndDate</th><th>CustomerID</th><th>CustomerName</th></tr>",
                            "<tr><td>1</td><td>Top Customer Discount</td><td>30.00</td><td>Special 30% Discount for Top 5 Customers</td><td>2024-10-29</td><td>2025-01-29</td><td>90</td><td>Tailspin Toys (Tolna, ND)</td></tr>",
                            "<tr><td>1</td><td>Top Customer Discount</td><td>30.00</td><td>Special 30% Discount for Top 5 Customers</td><td>2024-10-29</td><td>2025-01-29</td><td>405</td><td>Wingtip Toys (Bourbonnais, IL)</td></tr>",
                            "<tr><td>1</td><td>Top Customer Discount</td><td>30.00</td><td>Special 30% Discount for Top 5 Customers</td><td>2024-10-29</td><td>2025-01-29</td><td>804</td><td>Aleksandrs Riekstins</td></tr>",
                            "<tr><td>1</td><td>Top Customer Discount</td><td>30.00</td><td>Special 30% Discount for Top 5 Customers</td><td>2024-10-29</td><td>2025-01-29</td><td>831</td><td>Bhaavan Rai</td></tr>",
                            "<tr><td>1</td><td>Top Customer Discount</td><td>30.00</td><td>Special 30% Discount for Top 5 Customers</td><td>2024-10-29</td><td>2025-01-29</td><td>968</td><td>Anca Gogean</td></tr>",
                            "<tr><td>2</td><td>Lucky Seven Deal</td><td>10.00</td><td>Special 10% Discount for Customers with ID divisible by 7</td><td>2024-10-29</td><td>2024-12-29</td><td>7</td><td>Tailspin Toys (Frankewing, TN)</td></tr>",
                            "<tr><td>2</td><td>Lucky Seven Deal</td><td>10.00</td><td>Special 10% Discount for Customers with ID divisible by 7</td><td>2024-10-29</td><td>2024-12-29</td><td>14</td><td>Tailspin Toys (Long Meadow, MD)</td></tr>",
                            "<tr><td>2</td><td>Lucky Seven Deal</td><td>10.00</td><td>Special 10% Discount for Customers with ID divisible by 7</td><td>2024-10-29</td><td>2024-12-29</td><td>21</td><td>Tailspin Toys (Tresckow, PA)</td></tr>",
                            "<tr><td>2</td><td>Lucky Seven Deal</td><td>10.00</td><td>Special 10% Discount for Customers with ID divisible by 7</td><td>2024-10-29</td><td>2024-12-29</td><td>28</td><td>Tailspin Toys (North Ridge, NY)</td></tr>",
                            "<tr><td>2</td><td>Lucky Seven Deal</td><td>10.00</td><td>Special 10% Discount for Customers with ID divisible by 7</td><td>2024-10-29</td><td>2024-12-29</td><td>35</td><td>Tailspin Toys (Slanesville, WV)</td></tr>",
                            "<tr><td>2</td><td>Lucky Seven Deal</td><td>10.00</td><td>Special 10% Discount for Customers with ID divisible by 7</td><td>2024-10-29</td><td>2024-12-29</td><td>42</td><td>Tailspin Toys (Arietta, NY)</td></tr>",
                            "<tr><td>2</td><td>Lucky Seven Deal</td><td>10.00</td><td>Special 10% Discount for Customers with ID divisible by 7</td><td>2024-10-29</td><td>2024-12-29</td><td>49</td><td>Tailspin Toys (Muir, MI)</td></tr>",
                            "<tr><td>2</td><td>Lucky Seven Deal</td><td>10.00</td><td>Special 10% Discount for Customers with ID divisible by 7</td><td>2024-10-29</td><td>2024-12-29</td><td>56</td><td>Tailspin Toys (Royal City, WA)</td></tr>",
                            "<tr><td>2</td><td>Lucky Seven Deal</td><td>10.00</td><td>Special 10% Discount for Customers with ID divisible by 7</td><td>2024-10-29</td><td>2024-12-29</td><td>63</td><td>Tailspin Toys (Stallion Springs, CA)</td></tr>",
                            "<tr><td>2</td><td>Lucky Seven Deal</td><td>10.00</td><td>Special 10% Discount for Customers with ID divisible by 7</td><td>2024-10-29</td><td>2024-12-29</td><td>70</td><td>Tailspin Toys (New Baden, IL)</td></tr>",
                            "<tr><td>2</td><td>Lucky Seven Deal</td><td>10.00</td><td>Special 10% Discount for Customers with ID divisible by 7</td><td>2024-10-29</td><td>2024-12-29</td><td>77</td><td>Tailspin Toys (Hahira, GA)</td></tr>",
                            "<tr><td>2</td><td>Lucky Seven Deal</td><td>10.00</td><td>Special 10% Discount for Customers with ID divisible by 7</td><td>2024-10-29</td><td>2024-12-29</td><td>84</td><td>Tailspin Toys (Aceitunas, PR)</td></tr>",
                            "<tr><td>2</td><td>Lucky Seven Deal</td><td>10.00</td><td>Special 10% Discount for Customers with ID divisible by 7</td><td>2024-10-29</td><td>2024-12-29</td><td>91</td><td>Tailspin Toys (Alstead, NH)</td></tr>",
                            "<tr><td>2</td><td>Lucky Seven Deal</td><td>10.00</td><td>Special 10% Discount for Customers with ID divisible by 7</td><td>2024-10-29</td><td>2024-12-29</td><td>98</td><td>Tailspin Toys (El Centro, CA)</td></tr>",
                            "<tr><td>2</td><td>Lucky Seven Deal</td><td>10.00</td><td>Special 10% Discount for Customers with ID divisible by 7</td><td>2024-10-29</td><td>2024-12-29</td><td>105</td><td>Tailspin Toys (Tomnolen, MS)</td></tr>",
                            "<tr><td>2</td><td>Lucky Seven Deal</td><td>10.00</td><td>Special 10% Discount for Customers with ID divisible by 7</td><td>2024-10-29</td><td>2024-12-29</td><td>112</td><td>Tailspin Toys (Sallyards, KS)</td></tr>",
                            "<tr><td>2</td><td>Lucky Seven Deal</td><td>10.00</td><td>Special 10% Discount for Customers with ID divisible by 7</td><td>2024-10-29</td><td>2024-12-29</td><td>119</td><td>Tailspin Toys (Statenville, GA)</td></tr>",
                            "<tr><td>2</td><td>Lucky Seven Deal</td><td>10.00</td><td>Special 10% Discount for Customers with ID divisible by 7</td><td>2024-10-29</td><td>2024-12-29</td><td>126</td><td>Tailspin Toys (Francis Mills, NJ)</td></tr>",
                            "<tr><td>2</td><td>Lucky Seven Deal</td><td>10.00</td><td>Special 10% Discount for Customers with ID divisible by 7</td><td>2024-10-29</td><td>2024-12-29</td><td>133</td><td>Tailspin Toys (Lake Erie Beach, NY)</td></tr>",
                            "<tr><td>2</td><td>Lucky Seven Deal</td><td>10.00</td><td>Special 10% Discount for Customers with ID divisible by 7</td><td>2024-10-29</td><td>2024-12-29</td><td>140</td><td>Tailspin Toys (Furley, KS)</td></tr>",
                            "<tr><td>2</td><td>Lucky Seven Deal</td><td>10.00</td><td>Special 10% Discount for Customers with ID divisible by 7</td><td>2024-10-29</td><td>2024-12-29</td><td>147</td><td>Tailspin Toys (Fishtail, MT)</td></tr>",
                            "<tr><td>2</td><td>Lucky Seven Deal</td><td>10.00</td><td>Special 10% Discount for Customers with ID divisible by 7</td><td>2024-10-29</td><td>2024-12-29</td><td>154</td><td>Tailspin Toys (Eden Valley, MN)</td></tr>",
                            "<tr><td>2</td><td>Lucky Seven Deal</td><td>10.00</td><td>Special 10% Discount for Customers with ID divisible by 7</td><td>2024-10-29</td><td>2024-12-29</td><td>161</td><td>Tailspin Toys (Aspen Park, CO)</td></tr>",
                            "<tr><td>2</td><td>Lucky Seven Deal</td><td>10.00</td><td>Special 10% Discount for Customers with ID divisible by 7</td><td>2024-10-29</td><td>2024-12-29</td><td>168</td><td>Tailspin Toys (Seagraves, TX)</td></tr>",
                            "<tr><td>2</td><td>Lucky Seven Deal</td><td>10.00</td><td>Special 10% Discount for Customers with ID divisible by 7</td><td>2024-10-29</td><td>2024-12-29</td><td>175</td><td>Tailspin Toys (San Acacia, NM)</td></tr>",
                            "<tr><td>2</td><td>Lucky Seven Deal</td><td>10.00</td><td>Special 10% Discount for Customers with ID divisible by 7</td><td>2024-10-29</td><td>2024-12-29</td><td>182</td><td>Tailspin Toys (Hayes Center, NE)</td></tr>",
                            "<tr><td>2</td><td>Lucky Seven Deal</td><td>10.00</td><td>Special 10% Discount for Customers with ID divisible by 7</td><td>2024-10-29</td><td>2024-12-29</td><td>189</td><td>Tailspin Toys (Wilkes-Barre, PA)</td></tr>",
                            "<tr><td>2</td><td>Lucky Seven Deal</td><td>10.00</td><td>Special 10% Discount for Customers with ID divisible by 7</td><td>2024-10-29</td><td>2024-12-29</td><td>196</td><td>Tailspin Toys (Howells, NE)</td></tr>",
                            "<tr><td>2</td><td>Lucky Seven Deal</td><td>10.00</td><td>Special 10% Discount for Customers with ID divisible by 7</td><td>2024-10-29</td><td>2024-12-29</td><td>406</td><td>Wingtip Toys (Tuscaloosa, AL)</td></tr>",
                            "<tr><td>2</td><td>Lucky Seven Deal</td><td>10.00</td><td>Special 10% Discount for Customers with ID divisible by 7</td><td>2024-10-29</td><td>2024-12-29</td><td>413</td><td>Wingtip Toys (Truscott, TX)</td></tr>",
                            "<tr><td>2</td><td>Lucky Seven Deal</td><td>10.00</td><td>Special 10% Discount for Customers with ID divisible by 7</td><td>2024-10-29</td><td>2024-12-29</td><td>420</td><td>Wingtip Toys (Herlong, CA)</td></tr>",
                            "<tr><td>2</td><td>Lucky Seven Deal</td><td>10.00</td><td>Special 10% Discount for Customers with ID divisible by 7</td><td>2024-10-29</td><td>2024-12-29</td><td>427</td><td>Wingtip Toys (Athol Springs, NY)</td></tr>",
                            "<tr><td>2</td><td>Lucky Seven Deal</td><td>10.00</td><td>Special 10% Discount for Customers with ID divisible by 7</td><td>2024-10-29</td><td>2024-12-29</td><td>434</td><td>Wingtip Toys (Lime Lake, NY)</td></tr>",
                            "<tr><td>2</td><td>Lucky Seven Deal</td><td>10.00</td><td>Special 10% Discount for Customers with ID divisible by 7</td><td>2024-10-29</td><td>2024-12-29</td><td>441</td><td>Wingtip Toys (Keosauqua, IA)</td></tr>",
                            "<tr><td>2</td><td>Lucky Seven Deal</td><td>10.00</td><td>Special 10% Discount for Customers with ID divisible by 7</td><td>2024-10-29</td><td>2024-12-29</td><td>448</td><td>Wingtip Toys (Salt Wells, NV)</td></tr>",
                            "<tr><td>2</td><td>Lucky Seven Deal</td><td>10.00</td><td>Special 10% Discount for Customers with ID divisible by 7</td><td>2024-10-29</td><td>2024-12-29</td><td>455</td><td>Wingtip Toys (Taft Heights, CA)</td></tr>",
                            "<tr><td>2</td><td>Lucky Seven Deal</td><td>10.00</td><td>Special 10% Discount for Customers with ID divisible by 7</td><td>2024-10-29</td><td>2024-12-29</td><td>462</td><td>Wingtip Toys (Crossroads, NM)</td></tr>",
                            "<tr><td>2</td><td>Lucky Seven Deal</td><td>10.00</td><td>Special 10% Discount for Customers with ID divisible by 7</td><td>2024-10-29</td><td>2024-12-29</td><td>469</td><td>Wingtip Toys (Johnetta, KY)</td></tr>",
                            "<tr><td>2</td><td>Lucky Seven Deal</td><td>10.00</td><td>Special 10% Discount for Customers with ID divisible by 7</td><td>2024-10-29</td><td>2024-12-29</td><td>476</td><td>Wingtip Toys (Karthaus, PA)</td></tr>",
                            "<tr><td>2</td><td>Lucky Seven Deal</td><td>10.00</td><td>Special 10% Discount for Customers with ID divisible by 7</td><td>2024-10-29</td><td>2024-12-29</td><td>483</td><td>Wingtip Toys (Plum Branch, SC)</td></tr>",
                            "<tr><td>2</td><td>Lucky Seven Deal</td><td>10.00</td><td>Special 10% Discount for Customers with ID divisible by 7</td><td>2024-10-29</td><td>2024-12-29</td><td>490</td><td>Wingtip Toys (Beals, ME)</td></tr>",
                            "<tr><td>2</td><td>Lucky Seven Deal</td><td>10.00</td><td>Special 10% Discount for Customers with ID divisible by 7</td><td>2024-10-29</td><td>2024-12-29</td><td>497</td><td>Wingtip Toys (Verdery, SC)</td></tr>",
                            "<tr><td>2</td><td>Lucky Seven Deal</td><td>10.00</td><td>Special 10% Discount for Customers with ID divisible by 7</td><td>2024-10-29</td><td>2024-12-29</td><td>504</td><td>Wingtip Toys (Cape Neddick, ME)</td></tr>",
                            "<tr><td>2</td><td>Lucky Seven Deal</td><td>10.00</td><td>Special 10% Discount for Customers with ID divisible by 7</td><td>2024-10-29</td><td>2024-12-29</td><td>511</td><td>Wingtip Toys (North Manitou, MI)</td></tr>",
                            "<tr><td>2</td><td>Lucky Seven Deal</td><td>10.00</td><td>Special 10% Discount for Customers with ID divisible by 7</td><td>2024-10-29</td><td>2024-12-29</td><td>518</td><td>Wingtip Toys (Raton, NM)</td></tr>",
                            "<tr><td>2</td><td>Lucky Seven Deal</td><td>10.00</td><td>Special 10% Discount for Customers with ID divisible by 7</td><td>2024-10-29</td><td>2024-12-29</td><td>525</td><td>Wingtip Toys (Claycomo, MO)</td></tr>",
                            "<tr><td>2</td><td>Lucky Seven Deal</td><td>10.00</td><td>Special 10% Discount for Customers with ID divisible by 7</td><td>2024-10-29</td><td>2024-12-29</td><td>532</td><td>Wingtip Toys (Waycross, GA)</td></tr>",
                            "<tr><td>2</td><td>Lucky Seven Deal</td><td>10.00</td><td>Special 10% Discount for Customers with ID divisible by 7</td><td>2024-10-29</td><td>2024-12-29</td><td>539</td><td>Wingtip Toys (Nuangola, PA)</td></tr>",
                            "<tr><td>2</td><td>Lucky Seven Deal</td><td>10.00</td><td>Special 10% Discount for Customers with ID divisible by 7</td><td>2024-10-29</td><td>2024-12-29</td><td>546</td><td>Wingtip Toys (Key Biscayne, FL)</td></tr>",
                            "<tr><td>2</td><td>Lucky Seven Deal</td><td>10.00</td><td>Special 10% Discount for Customers with ID divisible by 7</td><td>2024-10-29</td><td>2024-12-29</td><td>553</td><td>Wingtip Toys (Helotes, TX)</td></tr>",
                            "<tr><td>2</td><td>Lucky Seven Deal</td><td>10.00</td><td>Special 10% Discount for Customers with ID divisible by 7</td><td>2024-10-29</td><td>2024-12-29</td><td>560</td><td>Wingtip Toys (Palmas del Mar, PR)</td></tr>",
                            "<tr><td>2</td><td>Lucky Seven Deal</td><td>10.00</td><td>Special 10% Discount for Customers with ID divisible by 7</td><td>2024-10-29</td><td>2024-12-29</td><td>567</td><td>Wingtip Toys (Jeromesville, OH)</td></tr>",
                            "<tr><td>2</td><td>Lucky Seven Deal</td><td>10.00</td><td>Special 10% Discount for Customers with ID divisible by 7</td><td>2024-10-29</td><td>2024-12-29</td><td>574</td><td>Wingtip Toys (Molalla, OR)</td></tr>",
                            "<tr><td>2</td><td>Lucky Seven Deal</td><td>10.00</td><td>Special 10% Discount for Customers with ID divisible by 7</td><td>2024-10-29</td><td>2024-12-29</td><td>581</td><td>Wingtip Toys (Munich, ND)</td></tr>",
                            "<tr><td>2</td><td>Lucky Seven Deal</td><td>10.00</td><td>Special 10% Discount for Customers with ID divisible by 7</td><td>2024-10-29</td><td>2024-12-29</td><td>588</td><td>Wingtip Toys (Oak Point, TX)</td></tr>",
                            "<tr><td>2</td><td>Lucky Seven Deal</td><td>10.00</td><td>Special 10% Discount for Customers with ID divisible by 7</td><td>2024-10-29</td><td>2024-12-29</td><td>595</td><td>Wingtip Toys (Accomac, VA)</td></tr>",
                            "<tr><td>2</td><td>Lucky Seven Deal</td><td>10.00</td><td>Special 10% Discount for Customers with ID divisible by 7</td><td>2024-10-29</td><td>2024-12-29</td><td>805</td><td>Ratan Poddar</td></tr>",
                            "<tr><td>2</td><td>Lucky Seven Deal</td><td>10.00</td><td>Special 10% Discount for Customers with ID divisible by 7</td><td>2024-10-29</td><td>2024-12-29</td><td>812</td><td>Celica Barajas</td></tr>",
                            "<tr><td>2</td><td>Lucky Seven Deal</td><td>10.00</td><td>Special 10% Discount for Customers with ID divisible by 7</td><td>2024-10-29</td><td>2024-12-29</td><td>819</td><td>Santiago Vera</td></tr>",
                            "<tr><td>2</td><td>Lucky Seven Deal</td><td>10.00</td><td>Special 10% Discount for Customers with ID divisible by 7</td><td>2024-10-29</td><td>2024-12-29</td><td>826</td><td>Leila Carvalho</td></tr>",
                            "<tr><td>2</td><td>Lucky Seven Deal</td><td>10.00</td><td>Special 10% Discount for Customers with ID divisible by 7</td><td>2024-10-29</td><td>2024-12-29</td><td>833</td><td>Devraj Rao</td></tr>",
                            "<tr><td>2</td><td>Lucky Seven Deal</td><td>10.00</td><td>Special 10% Discount for Customers with ID divisible by 7</td><td>2024-10-29</td><td>2024-12-29</td><td>840</td><td>Rodrigo Figueiredo</td></tr>",
                            "<tr><td>2</td><td>Lucky Seven Deal</td><td>10.00</td><td>Special 10% Discount for Customers with ID divisible by 7</td><td>2024-10-29</td><td>2024-12-29</td><td>847</td><td>Kristiina Ivanov</td></tr>",
                            "<tr><td>2</td><td>Lucky Seven Deal</td><td>10.00</td><td>Special 10% Discount for Customers with ID divisible by 7</td><td>2024-10-29</td><td>2024-12-29</td><td>854</td><td>Daakshaayaani Kommineni</td></tr>",
                            "<tr><td>2</td><td>Lucky Seven Deal</td><td>10.00</td><td>Special 10% Discount for Customers with ID divisible by 7</td><td>2024-10-29</td><td>2024-12-29</td><td>861</td><td>Amarasimha Vinjamuri</td></tr>",
                            "<tr><td>2</td><td>Lucky Seven Deal</td><td>10.00</td><td>Special 10% Discount for Customers with ID divisible by 7</td><td>2024-10-29</td><td>2024-12-29</td><td>868</td><td>Laura Sykorova</td></tr>",
                            "<tr><td>2</td><td>Lucky Seven Deal</td><td>10.00</td><td>Special 10% Discount for Customers with ID divisible by 7</td><td>2024-10-29</td><td>2024-12-29</td><td>875</td><td>Philip Walker</td></tr>",
                            "<tr><td>2</td><td>Lucky Seven Deal</td><td>10.00</td><td>Special 10% Discount for Customers with ID divisible by 7</td><td>2024-10-29</td><td>2024-12-29</td><td>882</td><td>Maryann Huddleston</td></tr>",
                            "<tr><td>2</td><td>Lucky Seven Deal</td><td>10.00</td><td>Special 10% Discount for Customers with ID divisible by 7</td><td>2024-10-29</td><td>2024-12-29</td><td>889</td><td>Sointu Savonheimo</td></tr>",
                            "<tr><td>2</td><td>Lucky Seven Deal</td><td>10.00</td><td>Special 10% Discount for Customers with ID divisible by 7</td><td>2024-10-29</td><td>2024-12-29</td><td>896</td><td>Leonardo Folliero</td></tr>",
                            "<tr><td>2</td><td>Lucky Seven Deal</td><td>10.00</td><td>Special 10% Discount for Customers with ID divisible by 7</td><td>2024-10-29</td><td>2024-12-29</td><td>903</td><td>Bing Han</td></tr>",
                            "<tr><td>2</td><td>Lucky Seven Deal</td><td>10.00</td><td>Special 10% Discount for Customers with ID divisible by 7</td><td>2024-10-29</td><td>2024-12-29</td><td>910</td><td>Elina Kaleja</td></tr>",
                            "<tr><td>2</td><td>Lucky Seven Deal</td><td>10.00</td><td>Special 10% Discount for Customers with ID divisible by 7</td><td>2024-10-29</td><td>2024-12-29</td><td>917</td><td>Pari Hosseini</td></tr>",
                            "<tr><td>2</td><td>Lucky Seven Deal</td><td>10.00</td><td>Special 10% Discount for Customers with ID divisible by 7</td><td>2024-10-29</td><td>2024-12-29</td><td>924</td><td>Eva Schulteisz</td></tr>",
                            "<tr><td>2</td><td>Lucky Seven Deal</td><td>10.00</td><td>Special 10% Discount for Customers with ID divisible by 7</td><td>2024-10-29</td><td>2024-12-29</td><td>931</td><td>Nada Jovanovic</td></tr>",
                            "<tr><td>2</td><td>Lucky Seven Deal</td><td>10.00</td><td>Special 10% Discount for Customers with ID divisible by 7</td><td>2024-10-29</td><td>2024-12-29</td><td>938</td><td>Anna Gyarmathi</td></tr>",
                            "<tr><td>2</td><td>Lucky Seven Deal</td><td>10.00</td><td>Special 10% Discount for Customers with ID divisible by 7</td><td>2024-10-29</td><td>2024-12-29</td><td>945</td><td>Hoc Tran</td></tr>",
                            "<tr><td>2</td><td>Lucky Seven Deal</td><td>10.00</td><td>Special 10% Discount for Customers with ID divisible by 7</td><td>2024-10-29</td><td>2024-12-29</td><td>952</td><td>Chuan Wattanasin</td></tr>",
                            "<tr><td>2</td><td>Lucky Seven Deal</td><td>10.00</td><td>Special 10% Discount for Customers with ID divisible by 7</td><td>2024-10-29</td><td>2024-12-29</td><td>959</td><td>Dhaatri Chavva</td></tr>",
                            "<tr><td>2</td><td>Lucky Seven Deal</td><td>10.00</td><td>Special 10% Discount for Customers with ID divisible by 7</td><td>2024-10-29</td><td>2024-12-29</td><td>966</td><td>Sara Walkky</td></tr>",
                            "<tr><td>2</td><td>Lucky Seven Deal</td><td>10.00</td><td>Special 10% Discount for Customers with ID divisible by 7</td><td>2024-10-29</td><td>2024-12-29</td><td>973</td><td>Kumar Kamei</td></tr>",
                            "<tr><td>2</td><td>Lucky Seven Deal</td><td>10.00</td><td>Special 10% Discount for Customers with ID divisible by 7</td><td>2024-10-29</td><td>2024-12-29</td><td>980</td><td>Om Yadav</td></tr>",
                            "<tr><td>2</td><td>Lucky Seven Deal</td><td>10.00</td><td>Special 10% Discount for Customers with ID divisible by 7</td><td>2024-10-29</td><td>2024-12-29</td><td>987</td><td>Akhil Nadar</td></tr>",
                            "<tr><td>2</td><td>Lucky Seven Deal</td><td>10.00</td><td>Special 10% Discount for Customers with ID divisible by 7</td><td>2024-10-29</td><td>2024-12-29</td><td>994</td><td>Libuse Kuchtova</td></tr>",
                            "<tr><td>2</td><td>Lucky Seven Deal</td><td>10.00</td><td>Special 10% Discount for Customers with ID divisible by 7</td><td>2024-10-29</td><td>2024-12-29</td><td>1001</td><td>Dinh Mai</td></tr>",
                            "<tr><td>2</td><td>Lucky Seven Deal</td><td>10.00</td><td>Special 10% Discount for Customers with ID divisible by 7</td><td>2024-10-29</td><td>2024-12-29</td><td>1008</td><td>Vedrana Kovacevic</td></tr>",
                            "<tr><td>2</td><td>Lucky Seven Deal</td><td>10.00</td><td>Special 10% Discount for Customers with ID divisible by 7</td><td>2024-10-29</td><td>2024-12-29</td><td>1015</td><td>Isa Hulsegge</td></tr>",
                            "<tr><td>2</td><td>Lucky Seven Deal</td><td>10.00</td><td>Special 10% Discount for Customers with ID divisible by 7</td><td>2024-10-29</td><td>2024-12-29</td><td>1022</td><td>Nadir Seddigh</td></tr>",
                            "<tr><td>2</td><td>Lucky Seven Deal</td><td>10.00</td><td>Special 10% Discount for Customers with ID divisible by 7</td><td>2024-10-29</td><td>2024-12-29</td><td>1029</td><td>Veronika Necesana</td></tr>",
                            "<tr><td>2</td><td>Lucky Seven Deal</td><td>10.00</td><td>Special 10% Discount for Customers with ID divisible by 7</td><td>2024-10-29</td><td>2024-12-29</td><td>1036</td><td>Erik Malk</td></tr>",
                            "<tr><td>2</td><td>Lucky Seven Deal</td><td>10.00</td><td>Special 10% Discount for Customers with ID divisible by 7</td><td>2024-10-29</td><td>2024-12-29</td><td>1043</td><td>Raj Verma</td></tr>",
                            "<tr><td>2</td><td>Lucky Seven Deal</td><td>10.00</td><td>Special 10% Discount for Customers with ID divisible by 7</td><td>2024-10-29</td><td>2024-12-29</td><td>1050</td><td>Amrita Ganguly</td></tr>",
                            "<tr><td>2</td><td>Lucky Seven Deal</td><td>10.00</td><td>Special 10% Discount for Customers with ID divisible by 7</td><td>2024-10-29</td><td>2024-12-29</td><td>1057</td><td>Ganesh Majumdar</td></tr>",
                            "</table>"
                        ]
                    }
                }
            ],
            "execution_count": 27
        }
    ]
}