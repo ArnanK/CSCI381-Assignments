{
    "metadata": {
        "kernelspec": {
            "name": "SQL",
            "display_name": "SQL",
            "language": "sql"
        },
        "language_info": {
            "name": "sql",
            "version": ""
        }
    },
    "nbformat_minor": 2,
    "nbformat": 4,
    "cells": [
        {
            "cell_type": "markdown",
            "source": [
                "## **<u>CSCI 381: PHW#4 - Individual (Marcus Gale)</u>**"
            ],
            "metadata": {
                "azdata_cell_guid": "123348d0-17f0-4539-9160-4b021934b3a9"
            },
            "attachments": {}
        },
        {
            "cell_type": "markdown",
            "source": [
                "#### Chapter 8\n",
                "\n",
                "\\[ChatGPT \\*new\\*  Generates Propositions\\]([https://chatgpt.com/share/671e9f3a-a014-800e-a89c-c0512b3b07c3](https://chatgpt.com/share/671e86d9-1608-800e-9776-683e34ba4ea0))"
            ],
            "metadata": {
                "azdata_cell_guid": "e2384af9-dba7-47ab-85e9-c8f2533ea2d8"
            },
            "attachments": {}
        },
        {
            "cell_type": "markdown",
            "source": [
                "### 1. **Insert a New Product into Inventory**\n",
                "\n",
                "Write a query to add a new product to the `StockItems` table with specific details such as `StockItemName`, `SupplierID`, `UnitPrice`, `TaxRate`, and `StockHolding`. This query should simulate the addition of a new item to the inventory."
            ],
            "metadata": {
                "azdata_cell_guid": "1bdacacc-d24d-45c0-ba5a-9a592645f764"
            },
            "attachments": {}
        },
        {
            "cell_type": "code",
            "source": [
                "INSERT INTO Warehouse.StockItems (StockItemName, SupplierID, UnitPrice, TaxRate, StockHolding)\n",
                "VALUES ('New Product Name', 5, 15.99, 0.2, 100);"
            ],
            "metadata": {
                "azdata_cell_guid": "ffc57a6a-d728-45f3-9650-ba624998a33c",
                "language": "sql"
            },
            "outputs": [],
            "execution_count": null
        },
        {
            "cell_type": "markdown",
            "source": [
                "### 2. **Insert Qualified Customer Leads into Customers Table**\n",
                "\n",
                "Write a query to insert customer data from a temporary or staging table into the `Customers` table. Filter for only the qualified leads (e.g., `IsQualified = 1`) by selecting from a temporary table that stores new customer leads."
            ],
            "metadata": {
                "azdata_cell_guid": "130edb6b-2b1a-4439-a90f-b43f3cdc9b32"
            },
            "attachments": {}
        },
        {
            "cell_type": "code",
            "source": [
                "INSERT INTO Sales.Customers (CustomerName, BillToCustomerID, CustomerCategoryID, PrimaryContactPersonID, DeliveryMethodID, PhoneNumber, FaxNumber, DeliveryAddressLine1, DeliveryCityID, AccountOpenedDate)\n",
                "SELECT LeadName, LeadID, 2, 1, 3, LeadPhone, LeadFax, LeadAddress, LeadCityID, GETDATE()\n",
                "FROM Sales.CustomerLeads\n",
                "WHERE IsQualified = 1;"
            ],
            "metadata": {
                "azdata_cell_guid": "4003c59e-6a1b-4c0b-b070-cfb7f445a9cb",
                "language": "sql"
            },
            "outputs": [],
            "execution_count": null
        },
        {
            "cell_type": "markdown",
            "source": [
                "### 3. <span style=\"font-family: -apple-system, BlinkMacSystemFont, sans-serif; color: var(--vscode-foreground);\"><b style=\"font-size: 14px;\">Insert a Customer Using Stored Procedure</b><span style=\"font-size: 14px;\"><b><br></b></span></span><span style=\"font-size: 14px;\"><b><br></b></span>Write a query using an `EXEC` <span style=\"font-size: 14px; font-family: -apple-system, BlinkMacSystemFont, sans-serif; color: var(--vscode-foreground);\"> statement to run a stored procedure (e.g., </span> `uspAddNewCustomer`<span style=\"font-size: 14px; font-family: -apple-system, BlinkMacSystemFont, sans-serif; color: var(--vscode-foreground);\">) to add a new customer to the </span> `Customers` <span style=\"font-size: 14px; font-family: -apple-system, BlinkMacSystemFont, sans-serif; color: var(--vscode-foreground);\"> table. The procedure should take dynamic values such as </span> `CustomerName` <span style=\"font-size: 14px; font-family: -apple-system, BlinkMacSystemFont, sans-serif; color: var(--vscode-foreground);\"> and </span> `PrimaryContact`<span style=\"font-size: 14px; font-family: -apple-system, BlinkMacSystemFont, sans-serif; color: var(--vscode-foreground);\">.</span>"
            ],
            "metadata": {
                "language": "sql",
                "azdata_cell_guid": "f27a3efd-10f3-4909-b937-a35c34070812"
            },
            "attachments": {}
        },
        {
            "cell_type": "code",
            "source": [
                "DECLARE @CustomerName NVARCHAR(100) = 'New Customer', \n",
                "        @PrimaryContact NVARCHAR(50) = 'John Doe', \n",
                "        @Phone NVARCHAR(20) = '123-456-7890';\n",
                "\n",
                "EXEC Sales.uspAddNewCustomer @CustomerName, @PrimaryContact, @Phone;"
            ],
            "metadata": {
                "language": "sql",
                "azdata_cell_guid": "47d46f29-b955-4a5d-9a84-a5661b62f04a"
            },
            "outputs": [],
            "execution_count": null
        },
        {
            "cell_type": "markdown",
            "source": [
                "### 4. **Delete Inactive Customer Orders**\n",
                "\n",
                "<span style=\"font-family: -apple-system, BlinkMacSystemFont, sans-serif; color: var(--vscode-foreground);\">Write a query to delete orders from the </span> `Orders` <span style=\"font-family: -apple-system, BlinkMacSystemFont, sans-serif; color: var(--vscode-foreground);\"> table that are associated with inactive customers. Use a join between the </span> `Orders` <span style=\"font-family: -apple-system, BlinkMacSystemFont, sans-serif; color: var(--vscode-foreground);\"> table and </span> `Customers` <span style=\"font-family: -apple-system, BlinkMacSystemFont, sans-serif; color: var(--vscode-foreground);\"> table, applying a condition like </span> `IsActive = 0`<span style=\"font-family: -apple-system, BlinkMacSystemFont, sans-serif; color: var(--vscode-foreground);\">.</span>"
            ],
            "metadata": {
                "language": "sql",
                "azdata_cell_guid": "178852ab-7493-4ae0-aad0-3899817fd932"
            },
            "attachments": {}
        },
        {
            "cell_type": "code",
            "source": [
                "DELETE o\n",
                "FROM Sales.Orders AS o\n",
                "INNER JOIN Sales.Customers AS c ON o.CustomerID = c.CustomerID\n",
                "WHERE c.IsActive = 0;"
            ],
            "metadata": {
                "language": "sql",
                "azdata_cell_guid": "3cda6bee-940b-4645-b4f7-887635df0529"
            },
            "outputs": [],
            "execution_count": null
        },
        {
            "cell_type": "markdown",
            "source": [
                "### 5. **Delete Discontinued Products Without Transactions**\n",
                "\n",
                "Write a query to delete products from the `StockItems` table that are discontinued and have no associated transactions. This query should involve a join between the `StockItems` table and the `OrderLines` table to identify products without orders."
            ],
            "metadata": {
                "language": "sql",
                "azdata_cell_guid": "9bd0d4f9-b7b4-4ec7-a3c2-fa612a105cf9"
            },
            "attachments": {}
        },
        {
            "cell_type": "code",
            "source": [
                "DELETE si\n",
                "FROM Warehouse.StockItems AS si\n",
                "LEFT JOIN Sales.OrderLines AS ol ON si.StockItemID = ol.StockItemID\n",
                "WHERE si.IsDiscontinued = 1 AND ol.StockItemID IS NULL;"
            ],
            "metadata": {
                "language": "sql",
                "azdata_cell_guid": "a963108c-bb0d-4b95-ac87-9d21b27aebc9"
            },
            "outputs": [],
            "execution_count": null
        },
        {
            "cell_type": "markdown",
            "source": [
                "## 6. **Truncate the Special Deals Table**\n",
                "- - Write a query to truncate the `SpecialDeals` table, removing all existing records after a yearly promotion reset. This truncation will clear the table without logging individual deletions."
            ],
            "metadata": {
                "language": "sql",
                "azdata_cell_guid": "6c0b104a-0d6a-4e4d-89e3-533ca92b3074"
            },
            "attachments": {}
        },
        {
            "cell_type": "code",
            "source": [
                "TRUNCATE TABLE Sales.SpecialDeals;"
            ],
            "metadata": {
                "language": "sql",
                "azdata_cell_guid": "365321b3-6208-4700-9e0d-a60f35dad897"
            },
            "outputs": [],
            "execution_count": null
        },
        {
            "cell_type": "markdown",
            "source": [
                "## 7. **Update Tax Rate for Products in a Specific Category**\n",
                "Write a query to update the `StockItems` table to set a new tax rate for all products in a particular category. Join the `StockItems` table with the `StockItemStockGroups` table to filter by category."
            ],
            "metadata": {
                "language": "sql",
                "azdata_cell_guid": "c8bb13b7-b2a0-42db-89e5-a693611f2a82"
            },
            "attachments": {}
        },
        {
            "cell_type": "code",
            "source": [
                "UPDATE si\n",
                "SET TaxRate = 0.15\n",
                "FROM Warehouse.StockItems AS si\n",
                "INNER JOIN Warehouse.StockItemStockGroups AS sisg ON si.StockItemID = sisg.StockItemID\n",
                "WHERE sisg.StockGroupID = 3;  -- Assume category is represented by StockGroupID 3"
            ],
            "metadata": {
                "language": "sql",
                "azdata_cell_guid": "c31be998-7bc8-49ab-9766-d37b64af100f"
            },
            "outputs": [],
            "execution_count": null
        },
        {
            "cell_type": "markdown",
            "source": [
                "## <span style=\"font-family: -apple-system, BlinkMacSystemFont, sans-serif; color: var(--vscode-foreground);\">8.&nbsp;</span> **Merge Customer Data for Upsert Operation  \n",
                "**\n",
                "<span style=\"font-size: 14px;\">W</span>rite a merge query to update or insert customer data from a staging table (e.g., `StagingCustomers`<span style=\"font-size: 14px; font-family: -apple-system, BlinkMacSystemFont, sans-serif; color: var(--vscode-foreground);\">) into the </span> `Customers` <span style=\"font-size: 14px; font-family: -apple-system, BlinkMacSystemFont, sans-serif; color: var(--vscode-foreground);\"> table. Use </span> `CustomerID` <span style=\"font-size: 14px; font-family: -apple-system, BlinkMacSystemFont, sans-serif; color: var(--vscode-foreground);\"> as the key to either update existing customer details (like </span> `PhoneNumber` <span style=\"font-size: 14px; font-family: -apple-system, BlinkMacSystemFont, sans-serif; color: var(--vscode-foreground);\"> and </span> `EmailAddress`<span style=\"font-size: 14px; font-family: -apple-system, BlinkMacSystemFont, sans-serif; color: var(--vscode-foreground);\">) or insert new customers if they do not already exist.</span>"
            ],
            "metadata": {
                "language": "sql",
                "azdata_cell_guid": "3b9840c7-b069-43a0-9452-0776267eb644"
            },
            "attachments": {}
        },
        {
            "cell_type": "code",
            "source": [
                "MERGE Sales.Customers AS target\n",
                "USING Staging.StagingCustomers AS source\n",
                "ON target.CustomerID = source.CustomerID\n",
                "WHEN MATCHED THEN \n",
                "    UPDATE SET PhoneNumber = source.PhoneNumber, \n",
                "               EmailAddress = source.EmailAddress\n",
                "WHEN NOT MATCHED THEN \n",
                "    INSERT (CustomerID, CustomerName, PhoneNumber, EmailAddress)\n",
                "    VALUES (source.CustomerID, source.CustomerName, source.PhoneNumber, source.EmailAddress);"
            ],
            "metadata": {
                "language": "sql",
                "azdata_cell_guid": "e6ed8e3b-876d-4580-b636-afab88893c6c"
            },
            "outputs": [],
            "execution_count": null
        },
        {
            "cell_type": "markdown",
            "source": [
                "## 9.  Synchronize Inventory Counts in StockItems Table  \n",
                "<span style=\"font-size: 14px;\">Wr</span>ite a merge query to synchronize inventory data in the `StockItems` <span style=\"font-size: 14px; font-family: -apple-system, BlinkMacSystemFont, sans-serif; color: var(--vscode-foreground);\"> table with data from an </span> `InventoryCounts` <span style=\"font-size: 14px; font-family: -apple-system, BlinkMacSystemFont, sans-serif; color: var(--vscode-foreground);\"> table. Update stock quantities for existing items, insert any new items not present in </span> `StockItems`<span style=\"font-size: 14px; font-family: -apple-system, BlinkMacSystemFont, sans-serif; color: var(--vscode-foreground);\">, and delete items no longer in </span> `InventoryCounts`"
            ],
            "metadata": {
                "language": "sql",
                "azdata_cell_guid": "3607c3cf-9aab-4598-97ca-129b44dd23a7"
            },
            "attachments": {}
        },
        {
            "cell_type": "code",
            "source": [
                "MERGE Warehouse.StockItems AS target\n",
                "USING Inventory.InventoryCounts AS source\n",
                "ON target.StockItemID = source.StockItemID\n",
                "WHEN MATCHED THEN \n",
                "    UPDATE SET StockQuantity = source.StockQuantity\n",
                "WHEN NOT MATCHED BY TARGET THEN \n",
                "    INSERT (StockItemID, StockItemName, StockQuantity)\n",
                "    VALUES (source.StockItemID, source.StockItemName, source.StockQuantity)\n",
                "WHEN NOT MATCHED BY SOURCE THEN \n",
                "    DELETE;"
            ],
            "metadata": {
                "language": "sql",
                "azdata_cell_guid": "6f8e4de5-00af-4a26-a1f2-8820956edfc9"
            },
            "outputs": [],
            "execution_count": null
        },
        {
            "cell_type": "markdown",
            "source": [
                "## 10. **Merge External Orders Based on Status Changes**\n",
                "\n",
                "- <span style=\"font-family: -apple-system, BlinkMacSystemFont, sans-serif; color: var(--vscode-foreground);\">Write a merge query to integrate order data from an external table (e.g., </span> `ExternalOrders`<span style=\"font-family: -apple-system, BlinkMacSystemFont, sans-serif; color: var(--vscode-foreground);\">) into the </span> `Orders` <span style=\"font-family: -apple-system, BlinkMacSystemFont, sans-serif; color: var(--vscode-foreground);\"> table. Update existing orders only if the </span> `OrderStatus` <span style=\"font-family: -apple-system, BlinkMacSystemFont, sans-serif; color: var(--vscode-foreground);\"> has changed, insert new orders, and mark any canceled orders for further review.</span>"
            ],
            "metadata": {
                "language": "sql",
                "azdata_cell_guid": "6ae6171f-e594-4c7a-974e-c2e85f1b2ac7"
            },
            "attachments": {}
        },
        {
            "cell_type": "code",
            "source": [
                "MERGE Sales.Orders AS target\n",
                "USING External.ExternalOrders AS source\n",
                "ON target.OrderID = source.OrderID\n",
                "WHEN MATCHED AND target.OrderStatus <> source.OrderStatus THEN \n",
                "    UPDATE SET OrderStatus = source.OrderStatus\n",
                "WHEN NOT MATCHED BY TARGET THEN \n",
                "    INSERT (OrderID, CustomerID, OrderDate, OrderStatus)\n",
                "    VALUES (source.OrderID, source.CustomerID, source.OrderDate, source.OrderStatus)\n",
                "WHEN NOT MATCHED BY SOURCE THEN \n",
                "    UPDATE SET OrderStatus = 'Marked for Review';"
            ],
            "metadata": {
                "language": "sql",
                "azdata_cell_guid": "04038110-3e93-4312-95a7-dd7d92674f18"
            },
            "outputs": [],
            "execution_count": null
        }
    ]
}