
-- Proposition 1: List all distinct job titles in the HumanResources.Employee table and Person.Person table.
SELECT JobTitle FROM HumanResources.Employee
UNION
SELECT Title FROM Person.Person;

-- Proposition 2: Combine all contact IDs from the Person.PersonPhone table and Person.EmailAddress table, including duplicates.
SELECT BusinessEntityID FROM Person.PersonPhone
UNION ALL
SELECT BusinessEntityID FROM Person.EmailAddress;

-- Proposition 3: Retrieve unique job titles and department names that might share similar keywords (e.g., "Manager", "Director") based on common roles and departmental functions.
-- Step 1: Create a temporary table to store job titles and department names with common keywords
WITH CombinedTitles AS (
    SELECT DISTINCT JobTitle AS Title
    FROM HumanResources.Employee
    WHERE JobTitle IS NOT NULL AND (JobTitle LIKE '%Manager%' OR JobTitle LIKE '%Director%')
    UNION ALL
    SELECT DISTINCT Name AS Title
    FROM HumanResources.Department
    WHERE Name IS NOT NULL AND (Name LIKE '%Manager%' OR Name LIKE '%Director%')
)
-- Step 2: Use INTERSECT to find common keywords
SELECT Title
FROM CombinedTitles
WHERE Title IS NOT NULL
INTERSECT
SELECT Title
FROM CombinedTitles
WHERE Title IS NOT NULL;

-- Proposition 4: Retrieve all product names from Production.Product that are not found in Production.ProductSubcategory.
SELECT Name FROM Production.Product
EXCEPT
SELECT Name FROM Production.ProductSubcategory;

-- Proposition 5: Identify top 10 products with the highest sales revenue, excluding products that are out of stock.
SELECT TOP 10 p.Name AS ProductName, SUM(sod.LineTotal) AS TotalRevenue
FROM Sales.SalesOrderDetail AS sod
INNER JOIN Production.Product AS p ON sod.ProductID = p.ProductID
WHERE p.ProductID IN (SELECT ProductID FROM Production.ProductInventory WHERE Quantity > 0)
GROUP BY p.Name
ORDER BY TotalRevenue DESC;

-- Proposition 6: Retrieve a list of all distinct billing addresses used for sales orders that match with the official address records in the database.
SELECT DISTINCT a.AddressLine1, a.City, a.StateProvinceID
FROM Person.Address AS a
WHERE a.AddressID IN (SELECT BillToAddressID FROM Sales.SalesOrderHeader)
UNION
SELECT DISTINCT a.AddressLine1, a.City, a.StateProvinceID
FROM Person.Address AS a
WHERE a.AddressID IN (SELECT ShipToAddressID FROM Sales.SalesOrderHeader);

-- Proposition 7: Find common product IDs that have both sales orders and work orders.
SELECT DISTINCT p.ProductID, p.Name AS ProductName
FROM Production.Product AS p
WHERE p.ProductID IN (
    SELECT ProductID FROM Sales.SalesOrderDetail
    INTERSECT
    SELECT ProductID FROM Production.WorkOrder
);

-- Proposition 8: List all distinct department names and job titles to assess organizational structure.
SELECT DISTINCT Name AS OrganizationalUnit
FROM HumanResources.Department
UNION
SELECT DISTINCT JobTitle AS OrganizationalUnit
FROM HumanResources.Employee;

-- Proposition 9: Retrieve all business entity IDs from Person.Person that do not have a registered phone number, along with their names.
SELECT p.BusinessEntityID, p.FirstName, p.LastName
FROM Person.Person AS p
LEFT JOIN Person.PersonPhone AS pp ON p.BusinessEntityID = pp.BusinessEntityID
WHERE pp.BusinessEntityID IS NULL;

SELECT COUNT(*) AS PersonCount FROM Person.Person;
SELECT COUNT(DISTINCT BusinessEntityID) AS PhoneCount FROM Person.PersonPhone;

-- Proposition 10: Retrieve details of products in Production.Product that have never been sold, including ProductID, Name, StandardCost, and ListPrice.
SELECT 
    p.ProductID, 
    p.Name, 
    p.StandardCost, 
    p.ListPrice
FROM Production.Product AS p
EXCEPT
SELECT 
    p.ProductID, 
    p.Name, 
    p.StandardCost, 
    p.ListPrice
FROM Production.Product AS p
JOIN Sales.SalesOrderDetail AS sod ON p.ProductID = sod.ProductID;