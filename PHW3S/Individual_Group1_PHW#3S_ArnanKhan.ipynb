{
    "metadata": {
        "kernelspec": {
            "name": "SQL",
            "display_name": "SQL",
            "language": "sql"
        },
        "language_info": {
            "name": "sql",
            "version": ""
        }
    },
    "nbformat_minor": 2,
    "nbformat": 4,
    "cells": [
        {
            "cell_type": "markdown",
            "source": [
                "## **<u>CSCI 381: PHW#3S - Individual (Arnan Khan)</u>**"
            ],
            "metadata": {
                "azdata_cell_guid": "123348d0-17f0-4539-9160-4b021934b3a9"
            },
            "attachments": {}
        },
        {
            "cell_type": "markdown",
            "source": [
                "#### Chapter 6\n",
                "\n",
                "Named Database: AdventureWorks\n",
                "\n",
                "\\[ChatGPT \\*new\\*  Generates Propositions\\]( https://chatgpt.com/share/670fcc9e-bd20-800f-8a01-0e1dd896f7de )"
            ],
            "metadata": {
                "azdata_cell_guid": "e2384af9-dba7-47ab-85e9-c8f2533ea2d8"
            },
            "attachments": {}
        },
        {
            "cell_type": "markdown",
            "source": [
                "# AdventureWorks Set Operators Questions\n",
                "\n",
                "## 1\\. Compare Person and Employees:\n",
                "\n",
                "Find out which Persons are not listed as Employee by comparing the `Person` table and <span style=\"font-size: 12px;\">Employee&nbsp;</span>  table."
            ],
            "metadata": {
                "azdata_cell_guid": "7ef67ae8-84de-42e5-a224-905081dd861c"
            },
            "attachments": {}
        },
        {
            "cell_type": "code",
            "source": [
                "WITH Non_Employees AS (\r\n",
                "(\r\n",
                "    SELECT BusinessEntityID\r\n",
                "    FROM Person.Person\r\n",
                ") \r\n",
                "EXCEPT\r\n",
                "(\r\n",
                "    SELECT BusinessEntityID\r\n",
                "    FROM HumanResources.Employee\r\n",
                ") \r\n",
                ")\r\n",
                "\r\n",
                "SELECT TOP(5) FirstName, LastName\r\n",
                "FROM Non_Employees as NE\r\n",
                "INNER JOIN Person.Person as P on P.BusinessEntityID = NE.BusinessEntityID"
            ],
            "metadata": {
                "azdata_cell_guid": "2e757392-e342-473c-bf45-84103d5c1b98",
                "language": "sql"
            },
            "outputs": [
                {
                    "output_type": "display_data",
                    "data": {
                        "text/html": "(5 rows affected)"
                    },
                    "metadata": {}
                },
                {
                    "output_type": "display_data",
                    "data": {
                        "text/html": "Total execution time: 00:00:00.030"
                    },
                    "metadata": {}
                },
                {
                    "output_type": "execute_result",
                    "metadata": {},
                    "execution_count": 10,
                    "data": {
                        "application/vnd.dataresource+json": {
                            "schema": {
                                "fields": [
                                    {
                                        "name": "FirstName"
                                    },
                                    {
                                        "name": "LastName"
                                    }
                                ]
                            },
                            "data": [
                                {
                                    "FirstName": "Gustavo",
                                    "LastName": "Achong"
                                },
                                {
                                    "FirstName": "Catherine",
                                    "LastName": "Abel"
                                },
                                {
                                    "FirstName": "Kim",
                                    "LastName": "Abercrombie"
                                },
                                {
                                    "FirstName": "Humberto",
                                    "LastName": "Acevedo"
                                },
                                {
                                    "FirstName": "Pilar",
                                    "LastName": "Ackerman"
                                }
                            ]
                        },
                        "text/html": [
                            "<table>",
                            "<tr><th>FirstName</th><th>LastName</th></tr>",
                            "<tr><td>Gustavo</td><td>Achong</td></tr>",
                            "<tr><td>Catherine</td><td>Abel</td></tr>",
                            "<tr><td>Kim</td><td>Abercrombie</td></tr>",
                            "<tr><td>Humberto</td><td>Acevedo</td></tr>",
                            "<tr><td>Pilar</td><td>Ackerman</td></tr>",
                            "</table>"
                        ]
                    }
                }
            ],
            "execution_count": 10
        },
        {
            "cell_type": "markdown",
            "source": [
                "## 2. Compare Sales Territories:\r\n",
                "Determine the regions where AdventureWorks has customers but has not yet made any sales by comparing `SalesTerritory` and `SalesOrderHeader` data.\r\n",
                ""
            ],
            "metadata": {
                "language": "sql",
                "azdata_cell_guid": "30251e81-f12b-4a28-b586-32bd6980a29c"
            },
            "attachments": {}
        },
        {
            "cell_type": "code",
            "source": [
                "SELECT DISTINCT ST.TerritoryID\r\n",
                "FROM Sales.Customer as C\r\n",
                "INNER JOIN Sales.SalesTerritory as ST on C.TerritoryID = ST.TerritoryID\r\n",
                "\r\n",
                "EXCEPT\r\n",
                "\r\n",
                "SELECT DISTINCT TerritoryID\r\n",
                "FROM Sales.SalesOrderHeader\r\n",
                ""
            ],
            "metadata": {
                "language": "sql",
                "azdata_cell_guid": "a7b5808c-d226-4132-849a-a807dcf30861"
            },
            "outputs": [
                {
                    "output_type": "display_data",
                    "data": {
                        "text/html": "(0 rows affected)"
                    },
                    "metadata": {}
                },
                {
                    "output_type": "display_data",
                    "data": {
                        "text/html": "Total execution time: 00:00:00.004"
                    },
                    "metadata": {}
                },
                {
                    "output_type": "execute_result",
                    "metadata": {},
                    "execution_count": 19,
                    "data": {
                        "application/vnd.dataresource+json": {
                            "schema": {
                                "fields": [
                                    {
                                        "name": "TerritoryID"
                                    }
                                ]
                            },
                            "data": []
                        },
                        "text/html": [
                            "<table>",
                            "<tr><th>TerritoryID</th></tr>",
                            "</table>"
                        ]
                    }
                }
            ],
            "execution_count": 19
        },
        {
            "cell_type": "markdown",
            "source": [
                "## 3. Products Sold vs Products Manufactured:\r\n",
                "Find which products have been manufactured but have never been sold by comparing the `Product` and `SalesOrderDetail` tables.\r\n",
                ""
            ],
            "metadata": {
                "language": "sql",
                "azdata_cell_guid": "d93dffb4-77f8-4603-8d03-77dcfd5bd464"
            },
            "attachments": {}
        },
        {
            "cell_type": "code",
            "source": [
                "WITH Product_NS AS\r\n",
                "(\r\n",
                "    (\r\n",
                "        SELECT ProductID\r\n",
                "        FROM Production.Product\r\n",
                "    )\r\n",
                "    EXCEPT\r\n",
                "    (\r\n",
                "        SELECT DISTINCT ProductID\r\n",
                "        FROM Sales.SalesOrderDetail\r\n",
                "    )\r\n",
                ")\r\n",
                "\r\n",
                "SELECT TOP(5) P.Name, P.ProductNumber, P.ListPrice\r\n",
                "FROM Product_NS as NS\r\n",
                "INNER JOIN Production.Product as P on NS.ProductID = P.ProductID\r\n",
                "ORDER BY P.ListPrice DESC"
            ],
            "metadata": {
                "language": "sql",
                "azdata_cell_guid": "1d3c7fab-a006-4c13-ba3f-7666526e8251"
            },
            "outputs": [
                {
                    "output_type": "display_data",
                    "data": {
                        "text/html": "(5 rows affected)"
                    },
                    "metadata": {}
                },
                {
                    "output_type": "display_data",
                    "data": {
                        "text/html": "Total execution time: 00:00:00.028"
                    },
                    "metadata": {}
                },
                {
                    "output_type": "execute_result",
                    "metadata": {},
                    "execution_count": 27,
                    "data": {
                        "application/vnd.dataresource+json": {
                            "schema": {
                                "fields": [
                                    {
                                        "name": "Name"
                                    },
                                    {
                                        "name": "ProductNumber"
                                    },
                                    {
                                        "name": "ListPrice"
                                    }
                                ]
                            },
                            "data": [
                                {
                                    "Name": "HL Road Frame - Black, 58",
                                    "ProductNumber": "FR-R92B-58",
                                    "ListPrice": "1431.50"
                                },
                                {
                                    "Name": "HL Road Frame - Red, 58",
                                    "ProductNumber": "FR-R92R-58",
                                    "ListPrice": "1431.50"
                                },
                                {
                                    "Name": "HL Road Frame - Red, 52",
                                    "ProductNumber": "FR-R92R-52",
                                    "ListPrice": "1431.50"
                                },
                                {
                                    "Name": "HL Road Frame - Red, 56",
                                    "ProductNumber": "FR-R92R-56",
                                    "ListPrice": "1431.50"
                                },
                                {
                                    "Name": "HL Road Frame - Black, 62",
                                    "ProductNumber": "FR-R92B-62",
                                    "ListPrice": "1431.50"
                                }
                            ]
                        },
                        "text/html": [
                            "<table>",
                            "<tr><th>Name</th><th>ProductNumber</th><th>ListPrice</th></tr>",
                            "<tr><td>HL Road Frame - Black, 58</td><td>FR-R92B-58</td><td>1431.50</td></tr>",
                            "<tr><td>HL Road Frame - Red, 58</td><td>FR-R92R-58</td><td>1431.50</td></tr>",
                            "<tr><td>HL Road Frame - Red, 52</td><td>FR-R92R-52</td><td>1431.50</td></tr>",
                            "<tr><td>HL Road Frame - Red, 56</td><td>FR-R92R-56</td><td>1431.50</td></tr>",
                            "<tr><td>HL Road Frame - Black, 62</td><td>FR-R92B-62</td><td>1431.50</td></tr>",
                            "</table>"
                        ]
                    }
                }
            ],
            "execution_count": 27
        },
        {
            "cell_type": "markdown",
            "source": [
                "## 4. Sales Representatives who are Customers:\r\n",
                "Identify the sales representatives who are also listed as customers by intersecting the `SalesPerson` and `Customer` tables.\r\n",
                ""
            ],
            "metadata": {
                "language": "sql",
                "azdata_cell_guid": "ed6ef603-8b81-45e5-8e6b-52dac9397e23"
            },
            "attachments": {}
        },
        {
            "cell_type": "code",
            "source": [
                "Select * \r\n",
                "FROM Sales.SalesPerson"
            ],
            "metadata": {
                "language": "sql",
                "azdata_cell_guid": "402087fe-f5fd-4152-806e-55e3acd26664"
            },
            "outputs": [
                {
                    "output_type": "display_data",
                    "data": {
                        "text/html": "(17 rows affected)"
                    },
                    "metadata": {}
                },
                {
                    "output_type": "display_data",
                    "data": {
                        "text/html": "Total execution time: 00:00:00.033"
                    },
                    "metadata": {}
                },
                {
                    "output_type": "execute_result",
                    "metadata": {},
                    "execution_count": 28,
                    "data": {
                        "application/vnd.dataresource+json": {
                            "schema": {
                                "fields": [
                                    {
                                        "name": "BusinessEntityID"
                                    },
                                    {
                                        "name": "TerritoryID"
                                    },
                                    {
                                        "name": "SalesQuota"
                                    },
                                    {
                                        "name": "Bonus"
                                    },
                                    {
                                        "name": "CommissionPct"
                                    },
                                    {
                                        "name": "SalesYTD"
                                    },
                                    {
                                        "name": "SalesLastYear"
                                    },
                                    {
                                        "name": "rowguid"
                                    },
                                    {
                                        "name": "ModifiedDate"
                                    }
                                ]
                            },
                            "data": [
                                {
                                    "BusinessEntityID": "274",
                                    "TerritoryID": "NULL",
                                    "SalesQuota": "NULL",
                                    "Bonus": "0.00",
                                    "CommissionPct": "0.00",
                                    "SalesYTD": "559697.5639",
                                    "SalesLastYear": "0.00",
                                    "rowguid": "48754992-9ee0-4c0e-8c94-9451604e3e02",
                                    "ModifiedDate": "2010-12-28 00:00:00.000"
                                },
                                {
                                    "BusinessEntityID": "275",
                                    "TerritoryID": "2",
                                    "SalesQuota": "300000.00",
                                    "Bonus": "4100.00",
                                    "CommissionPct": "0.012",
                                    "SalesYTD": "3763178.1787",
                                    "SalesLastYear": "1750406.4785",
                                    "rowguid": "1e0a7274-3064-4f58-88ee-4c6586c87169",
                                    "ModifiedDate": "2011-05-24 00:00:00.000"
                                },
                                {
                                    "BusinessEntityID": "276",
                                    "TerritoryID": "4",
                                    "SalesQuota": "250000.00",
                                    "Bonus": "2000.00",
                                    "CommissionPct": "0.015",
                                    "SalesYTD": "4251368.5497",
                                    "SalesLastYear": "1439156.0291",
                                    "rowguid": "4dd9eee4-8e81-4f8c-af97-683394c1f7c0",
                                    "ModifiedDate": "2011-05-24 00:00:00.000"
                                },
                                {
                                    "BusinessEntityID": "277",
                                    "TerritoryID": "3",
                                    "SalesQuota": "250000.00",
                                    "Bonus": "2500.00",
                                    "CommissionPct": "0.015",
                                    "SalesYTD": "3189418.3662",
                                    "SalesLastYear": "1997186.2037",
                                    "rowguid": "39012928-bfec-4242-874d-423162c3f567",
                                    "ModifiedDate": "2011-05-24 00:00:00.000"
                                },
                                {
                                    "BusinessEntityID": "278",
                                    "TerritoryID": "6",
                                    "SalesQuota": "250000.00",
                                    "Bonus": "500.00",
                                    "CommissionPct": "0.01",
                                    "SalesYTD": "1453719.4653",
                                    "SalesLastYear": "1620276.8966",
                                    "rowguid": "7a0ae1ab-b283-40f9-91d1-167abf06d720",
                                    "ModifiedDate": "2011-05-24 00:00:00.000"
                                },
                                {
                                    "BusinessEntityID": "279",
                                    "TerritoryID": "5",
                                    "SalesQuota": "300000.00",
                                    "Bonus": "6700.00",
                                    "CommissionPct": "0.01",
                                    "SalesYTD": "2315185.611",
                                    "SalesLastYear": "1849640.9418",
                                    "rowguid": "52a5179d-3239-4157-ae29-17e868296dc0",
                                    "ModifiedDate": "2011-05-24 00:00:00.000"
                                },
                                {
                                    "BusinessEntityID": "280",
                                    "TerritoryID": "1",
                                    "SalesQuota": "250000.00",
                                    "Bonus": "5000.00",
                                    "CommissionPct": "0.01",
                                    "SalesYTD": "1352577.1325",
                                    "SalesLastYear": "1927059.178",
                                    "rowguid": "be941a4a-fb50-4947-bda4-bb8972365b08",
                                    "ModifiedDate": "2011-05-24 00:00:00.000"
                                },
                                {
                                    "BusinessEntityID": "281",
                                    "TerritoryID": "4",
                                    "SalesQuota": "250000.00",
                                    "Bonus": "3550.00",
                                    "CommissionPct": "0.01",
                                    "SalesYTD": "2458535.6169",
                                    "SalesLastYear": "2073505.9999",
                                    "rowguid": "35326ddb-7278-4fef-b3ba-ea137b69094e",
                                    "ModifiedDate": "2011-05-24 00:00:00.000"
                                },
                                {
                                    "BusinessEntityID": "282",
                                    "TerritoryID": "6",
                                    "SalesQuota": "250000.00",
                                    "Bonus": "5000.00",
                                    "CommissionPct": "0.015",
                                    "SalesYTD": "2604540.7172",
                                    "SalesLastYear": "2038234.6549",
                                    "rowguid": "31fd7fc1-dc84-4f05-b9a0-762519eacacc",
                                    "ModifiedDate": "2011-05-24 00:00:00.000"
                                },
                                {
                                    "BusinessEntityID": "283",
                                    "TerritoryID": "1",
                                    "SalesQuota": "250000.00",
                                    "Bonus": "3500.00",
                                    "CommissionPct": "0.012",
                                    "SalesYTD": "1573012.9383",
                                    "SalesLastYear": "1371635.3158",
                                    "rowguid": "6bac15b2-8ffb-45a9-b6d5-040e16c2073f",
                                    "ModifiedDate": "2011-05-24 00:00:00.000"
                                },
                                {
                                    "BusinessEntityID": "284",
                                    "TerritoryID": "1",
                                    "SalesQuota": "300000.00",
                                    "Bonus": "3900.00",
                                    "CommissionPct": "0.019",
                                    "SalesYTD": "1576562.1966",
                                    "SalesLastYear": "0.00",
                                    "rowguid": "ac94ec04-a2dc-43e3-8654-dd0c546abc17",
                                    "ModifiedDate": "2012-09-23 00:00:00.000"
                                },
                                {
                                    "BusinessEntityID": "285",
                                    "TerritoryID": "NULL",
                                    "SalesQuota": "NULL",
                                    "Bonus": "0.00",
                                    "CommissionPct": "0.00",
                                    "SalesYTD": "172524.4512",
                                    "SalesLastYear": "0.00",
                                    "rowguid": "cfdbef27-b1f7-4a56-a878-0221c73bae67",
                                    "ModifiedDate": "2013-03-07 00:00:00.000"
                                },
                                {
                                    "BusinessEntityID": "286",
                                    "TerritoryID": "9",
                                    "SalesQuota": "250000.00",
                                    "Bonus": "5650.00",
                                    "CommissionPct": "0.018",
                                    "SalesYTD": "1421810.9242",
                                    "SalesLastYear": "2278548.9776",
                                    "rowguid": "9b968777-75dc-45bd-a8df-9cdaa72839e1",
                                    "ModifiedDate": "2013-05-23 00:00:00.000"
                                },
                                {
                                    "BusinessEntityID": "287",
                                    "TerritoryID": "NULL",
                                    "SalesQuota": "NULL",
                                    "Bonus": "0.00",
                                    "CommissionPct": "0.00",
                                    "SalesYTD": "519905.932",
                                    "SalesLastYear": "0.00",
                                    "rowguid": "1dd1f689-df74-4149-8600-59555eef154b",
                                    "ModifiedDate": "2012-04-09 00:00:00.000"
                                },
                                {
                                    "BusinessEntityID": "288",
                                    "TerritoryID": "8",
                                    "SalesQuota": "250000.00",
                                    "Bonus": "75.00",
                                    "CommissionPct": "0.018",
                                    "SalesYTD": "1827066.7118",
                                    "SalesLastYear": "1307949.7917",
                                    "rowguid": "224bb25a-62e3-493e-acaf-4f8f5c72396a",
                                    "ModifiedDate": "2013-05-23 00:00:00.000"
                                },
                                {
                                    "BusinessEntityID": "289",
                                    "TerritoryID": "10",
                                    "SalesQuota": "250000.00",
                                    "Bonus": "5150.00",
                                    "CommissionPct": "0.02",
                                    "SalesYTD": "4116871.2277",
                                    "SalesLastYear": "1635823.3967",
                                    "rowguid": "25f6838d-9db4-4833-9ddc-7a24283af1ba",
                                    "ModifiedDate": "2012-05-23 00:00:00.000"
                                },
                                {
                                    "BusinessEntityID": "290",
                                    "TerritoryID": "7",
                                    "SalesQuota": "250000.00",
                                    "Bonus": "985.00",
                                    "CommissionPct": "0.016",
                                    "SalesYTD": "3121616.3202",
                                    "SalesLastYear": "2396539.7601",
                                    "rowguid": "f509e3d4-76c8-42aa-b353-90b7b8db08de",
                                    "ModifiedDate": "2012-05-23 00:00:00.000"
                                }
                            ]
                        },
                        "text/html": [
                            "<table>",
                            "<tr><th>BusinessEntityID</th><th>TerritoryID</th><th>SalesQuota</th><th>Bonus</th><th>CommissionPct</th><th>SalesYTD</th><th>SalesLastYear</th><th>rowguid</th><th>ModifiedDate</th></tr>",
                            "<tr><td>274</td><td>NULL</td><td>NULL</td><td>0.00</td><td>0.00</td><td>559697.5639</td><td>0.00</td><td>48754992-9ee0-4c0e-8c94-9451604e3e02</td><td>2010-12-28 00:00:00.000</td></tr>",
                            "<tr><td>275</td><td>2</td><td>300000.00</td><td>4100.00</td><td>0.012</td><td>3763178.1787</td><td>1750406.4785</td><td>1e0a7274-3064-4f58-88ee-4c6586c87169</td><td>2011-05-24 00:00:00.000</td></tr>",
                            "<tr><td>276</td><td>4</td><td>250000.00</td><td>2000.00</td><td>0.015</td><td>4251368.5497</td><td>1439156.0291</td><td>4dd9eee4-8e81-4f8c-af97-683394c1f7c0</td><td>2011-05-24 00:00:00.000</td></tr>",
                            "<tr><td>277</td><td>3</td><td>250000.00</td><td>2500.00</td><td>0.015</td><td>3189418.3662</td><td>1997186.2037</td><td>39012928-bfec-4242-874d-423162c3f567</td><td>2011-05-24 00:00:00.000</td></tr>",
                            "<tr><td>278</td><td>6</td><td>250000.00</td><td>500.00</td><td>0.01</td><td>1453719.4653</td><td>1620276.8966</td><td>7a0ae1ab-b283-40f9-91d1-167abf06d720</td><td>2011-05-24 00:00:00.000</td></tr>",
                            "<tr><td>279</td><td>5</td><td>300000.00</td><td>6700.00</td><td>0.01</td><td>2315185.611</td><td>1849640.9418</td><td>52a5179d-3239-4157-ae29-17e868296dc0</td><td>2011-05-24 00:00:00.000</td></tr>",
                            "<tr><td>280</td><td>1</td><td>250000.00</td><td>5000.00</td><td>0.01</td><td>1352577.1325</td><td>1927059.178</td><td>be941a4a-fb50-4947-bda4-bb8972365b08</td><td>2011-05-24 00:00:00.000</td></tr>",
                            "<tr><td>281</td><td>4</td><td>250000.00</td><td>3550.00</td><td>0.01</td><td>2458535.6169</td><td>2073505.9999</td><td>35326ddb-7278-4fef-b3ba-ea137b69094e</td><td>2011-05-24 00:00:00.000</td></tr>",
                            "<tr><td>282</td><td>6</td><td>250000.00</td><td>5000.00</td><td>0.015</td><td>2604540.7172</td><td>2038234.6549</td><td>31fd7fc1-dc84-4f05-b9a0-762519eacacc</td><td>2011-05-24 00:00:00.000</td></tr>",
                            "<tr><td>283</td><td>1</td><td>250000.00</td><td>3500.00</td><td>0.012</td><td>1573012.9383</td><td>1371635.3158</td><td>6bac15b2-8ffb-45a9-b6d5-040e16c2073f</td><td>2011-05-24 00:00:00.000</td></tr>",
                            "<tr><td>284</td><td>1</td><td>300000.00</td><td>3900.00</td><td>0.019</td><td>1576562.1966</td><td>0.00</td><td>ac94ec04-a2dc-43e3-8654-dd0c546abc17</td><td>2012-09-23 00:00:00.000</td></tr>",
                            "<tr><td>285</td><td>NULL</td><td>NULL</td><td>0.00</td><td>0.00</td><td>172524.4512</td><td>0.00</td><td>cfdbef27-b1f7-4a56-a878-0221c73bae67</td><td>2013-03-07 00:00:00.000</td></tr>",
                            "<tr><td>286</td><td>9</td><td>250000.00</td><td>5650.00</td><td>0.018</td><td>1421810.9242</td><td>2278548.9776</td><td>9b968777-75dc-45bd-a8df-9cdaa72839e1</td><td>2013-05-23 00:00:00.000</td></tr>",
                            "<tr><td>287</td><td>NULL</td><td>NULL</td><td>0.00</td><td>0.00</td><td>519905.932</td><td>0.00</td><td>1dd1f689-df74-4149-8600-59555eef154b</td><td>2012-04-09 00:00:00.000</td></tr>",
                            "<tr><td>288</td><td>8</td><td>250000.00</td><td>75.00</td><td>0.018</td><td>1827066.7118</td><td>1307949.7917</td><td>224bb25a-62e3-493e-acaf-4f8f5c72396a</td><td>2013-05-23 00:00:00.000</td></tr>",
                            "<tr><td>289</td><td>10</td><td>250000.00</td><td>5150.00</td><td>0.02</td><td>4116871.2277</td><td>1635823.3967</td><td>25f6838d-9db4-4833-9ddc-7a24283af1ba</td><td>2012-05-23 00:00:00.000</td></tr>",
                            "<tr><td>290</td><td>7</td><td>250000.00</td><td>985.00</td><td>0.016</td><td>3121616.3202</td><td>2396539.7601</td><td>f509e3d4-76c8-42aa-b353-90b7b8db08de</td><td>2012-05-23 00:00:00.000</td></tr>",
                            "</table>"
                        ]
                    }
                }
            ],
            "execution_count": 28
        },
        {
            "cell_type": "markdown",
            "source": [
                "## 5. Union of Products in Different Categories:\r\n",
                "Generate a combined list of all products in the `Bikes` and `Clothing` categories by using a union of their respective product categories.\r\n",
                ""
            ],
            "metadata": {
                "language": "sql",
                "azdata_cell_guid": "f3d12fb9-10c5-40a2-9b91-8b18056cb41c"
            },
            "attachments": {}
        },
        {
            "cell_type": "code",
            "source": [
                "DROP FUNCTION IF EXISTS Production.SelectProductByCategory;\r\n",
                "GO\r\n",
                "CREATE OR ALTER FUNCTION Production.SelectProductByCategory(@Category VARCHAR(10))\r\n",
                "RETURNS TABLE\r\n",
                "RETURN(\r\n",
                "    SELECT  P.Name as [Product Name], P.ProductID, P.ListPrice, PC.Name as [Category Name]\r\n",
                "    FROM Production.Product as P\r\n",
                "    INNER JOIN Production.ProductSubcategory as PSC ON P.ProductSubcategoryID = PSC.ProductSubcategoryID\r\n",
                "    INNER JOIN Production.ProductCategory as PC ON PSC.ProductCategoryID = PC.ProductCategoryID\r\n",
                "    WHERE PC.Name = @Category\r\n",
                ");\r\n",
                "GO\r\n",
                "\r\n",
                "DECLARE @BikesName VARCHAR(10) = 'Bikes';\r\n",
                "DECLARE @ClothingName VARCHAR(10) = 'Clothing';\r\n",
                "\r\n",
                "(\r\n",
                "    SELECT TOP (5) [Product Name], ProductID, ListPrice, [Category Name]\r\n",
                "    FROM Production.SelectProductByCategory(@BikesName)\r\n",
                ")\r\n",
                "\r\n",
                "UNION\r\n",
                "\r\n",
                "(\r\n",
                "    SELECT TOP(5) [Product Name], ProductID, ListPrice, [Category Name]\r\n",
                "    FROM Production.SelectProductByCategory(@ClothingName)\r\n",
                ")"
            ],
            "metadata": {
                "language": "sql",
                "azdata_cell_guid": "36008ef2-54d5-46f4-ae97-7aecaefc5ada"
            },
            "outputs": [
                {
                    "output_type": "display_data",
                    "data": {
                        "text/html": "Commands completed successfully."
                    },
                    "metadata": {}
                },
                {
                    "output_type": "display_data",
                    "data": {
                        "text/html": "Commands completed successfully."
                    },
                    "metadata": {}
                },
                {
                    "output_type": "display_data",
                    "data": {
                        "text/html": "(10 rows affected)"
                    },
                    "metadata": {}
                },
                {
                    "output_type": "display_data",
                    "data": {
                        "text/html": "Total execution time: 00:00:00.066"
                    },
                    "metadata": {}
                },
                {
                    "output_type": "execute_result",
                    "metadata": {},
                    "execution_count": 42,
                    "data": {
                        "application/vnd.dataresource+json": {
                            "schema": {
                                "fields": [
                                    {
                                        "name": "Product Name"
                                    },
                                    {
                                        "name": "ProductID"
                                    },
                                    {
                                        "name": "ListPrice"
                                    },
                                    {
                                        "name": "Category Name"
                                    }
                                ]
                            },
                            "data": [
                                {
                                    "Product Name": "AWC Logo Cap",
                                    "ProductID": "712",
                                    "ListPrice": "8.99",
                                    "Category Name": "Clothing"
                                },
                                {
                                    "Product Name": "Half-Finger Gloves, S",
                                    "ProductID": "858",
                                    "ListPrice": "24.49",
                                    "Category Name": "Clothing"
                                },
                                {
                                    "Product Name": "Men's Bib-Shorts, L",
                                    "ProductID": "857",
                                    "ListPrice": "89.99",
                                    "Category Name": "Clothing"
                                },
                                {
                                    "Product Name": "Men's Bib-Shorts, M",
                                    "ProductID": "856",
                                    "ListPrice": "89.99",
                                    "Category Name": "Clothing"
                                },
                                {
                                    "Product Name": "Men's Bib-Shorts, S",
                                    "ProductID": "855",
                                    "ListPrice": "89.99",
                                    "Category Name": "Clothing"
                                },
                                {
                                    "Product Name": "Mountain-100 Black, 38",
                                    "ProductID": "775",
                                    "ListPrice": "3374.99",
                                    "Category Name": "Bikes"
                                },
                                {
                                    "Product Name": "Mountain-100 Silver, 38",
                                    "ProductID": "771",
                                    "ListPrice": "3399.99",
                                    "Category Name": "Bikes"
                                },
                                {
                                    "Product Name": "Mountain-100 Silver, 42",
                                    "ProductID": "772",
                                    "ListPrice": "3399.99",
                                    "Category Name": "Bikes"
                                },
                                {
                                    "Product Name": "Mountain-100 Silver, 44",
                                    "ProductID": "773",
                                    "ListPrice": "3399.99",
                                    "Category Name": "Bikes"
                                },
                                {
                                    "Product Name": "Mountain-100 Silver, 48",
                                    "ProductID": "774",
                                    "ListPrice": "3399.99",
                                    "Category Name": "Bikes"
                                }
                            ]
                        },
                        "text/html": [
                            "<table>",
                            "<tr><th>Product Name</th><th>ProductID</th><th>ListPrice</th><th>Category Name</th></tr>",
                            "<tr><td>AWC Logo Cap</td><td>712</td><td>8.99</td><td>Clothing</td></tr>",
                            "<tr><td>Half-Finger Gloves, S</td><td>858</td><td>24.49</td><td>Clothing</td></tr>",
                            "<tr><td>Men's Bib-Shorts, L</td><td>857</td><td>89.99</td><td>Clothing</td></tr>",
                            "<tr><td>Men's Bib-Shorts, M</td><td>856</td><td>89.99</td><td>Clothing</td></tr>",
                            "<tr><td>Men's Bib-Shorts, S</td><td>855</td><td>89.99</td><td>Clothing</td></tr>",
                            "<tr><td>Mountain-100 Black, 38</td><td>775</td><td>3374.99</td><td>Bikes</td></tr>",
                            "<tr><td>Mountain-100 Silver, 38</td><td>771</td><td>3399.99</td><td>Bikes</td></tr>",
                            "<tr><td>Mountain-100 Silver, 42</td><td>772</td><td>3399.99</td><td>Bikes</td></tr>",
                            "<tr><td>Mountain-100 Silver, 44</td><td>773</td><td>3399.99</td><td>Bikes</td></tr>",
                            "<tr><td>Mountain-100 Silver, 48</td><td>774</td><td>3399.99</td><td>Bikes</td></tr>",
                            "</table>"
                        ]
                    }
                }
            ],
            "execution_count": 42
        },
        {
            "cell_type": "markdown",
            "source": [
                "## 6. Sales Orders without Shipments:\r\n",
                "Determine which sales orders have not been shipped by comparing the `SalesOrderHeader` and `ShipMethod` tables.\r\n",
                ""
            ],
            "metadata": {
                "language": "sql",
                "azdata_cell_guid": "400769c3-bffe-4e5c-af77-c8284d2e10ff"
            },
            "attachments": {}
        },
        {
            "cell_type": "code",
            "source": [
                ""
            ],
            "metadata": {
                "language": "sql",
                "azdata_cell_guid": "77bca8bc-d373-4d67-9eae-4bf6dfd07f2c"
            },
            "outputs": [
                {
                    "output_type": "display_data",
                    "data": {
                        "text/html": "(0 rows affected)"
                    },
                    "metadata": {}
                },
                {
                    "output_type": "display_data",
                    "data": {
                        "text/html": "Total execution time: 00:00:00.025"
                    },
                    "metadata": {}
                },
                {
                    "output_type": "execute_result",
                    "metadata": {},
                    "execution_count": 45,
                    "data": {
                        "application/vnd.dataresource+json": {
                            "schema": {
                                "fields": [
                                    {
                                        "name": "ShipDate"
                                    }
                                ]
                            },
                            "data": []
                        },
                        "text/html": [
                            "<table>",
                            "<tr><th>ShipDate</th></tr>",
                            "</table>"
                        ]
                    }
                }
            ],
            "execution_count": 45
        },
        {
            "cell_type": "markdown",
            "source": [
                "## 7. All Employees and All Salespeople:\r\n",
                "Create a combined list of all employees and salespeople, ensuring that each individual appears only once by using `UNION`.\r\n",
                ""
            ],
            "metadata": {
                "language": "sql",
                "azdata_cell_guid": "52ea24f1-d086-497d-a8ba-560bbe21cdc4"
            },
            "attachments": {}
        },
        {
            "cell_type": "code",
            "source": [
                ""
            ],
            "metadata": {
                "language": "sql",
                "azdata_cell_guid": "c78894c9-6802-4a2b-b616-9d4c081bf703"
            },
            "outputs": [],
            "execution_count": null
        },
        {
            "cell_type": "markdown",
            "source": [
                "## 8. Union of Orders by Country:\r\n",
                "Combine all sales orders from customers located in the United States and Canada by querying the `SalesOrderHeader` and `Customer` tables, and then using `UNION`.\r\n",
                ""
            ],
            "metadata": {
                "language": "sql",
                "azdata_cell_guid": "a48e2339-fa0f-4865-9a1f-4848e7ea5c23"
            },
            "attachments": {}
        },
        {
            "cell_type": "code",
            "source": [
                ""
            ],
            "metadata": {
                "language": "sql",
                "azdata_cell_guid": "ea2a886a-acb5-4cb3-820c-5c4396e2ff00"
            },
            "outputs": [],
            "execution_count": null
        },
        {
            "cell_type": "markdown",
            "source": [
                "## 9. Difference in Online vs Physical Store Customers:\r\n",
                "Find customers who have placed orders online but not in a physical store by comparing `SalesOrderHeader` and `SalesOrderDetail` with a set difference operation.\r\n",
                ""
            ],
            "metadata": {
                "language": "sql",
                "azdata_cell_guid": "ac82c3b7-eb6f-4c51-ad3d-2ca1577596df"
            },
            "attachments": {}
        },
        {
            "cell_type": "code",
            "source": [
                ""
            ],
            "metadata": {
                "language": "sql",
                "azdata_cell_guid": "1a33cee3-f9ad-417f-ba38-4de641c8108b"
            },
            "outputs": [],
            "execution_count": null
        },
        {
            "cell_type": "markdown",
            "source": [
                "## 10. Common Customers for Two Products:\r\n",
                "Determine which customers have purchased both `Product A` and `Product B` by using an intersection of their respective sales orders.\r\n",
                ""
            ],
            "metadata": {
                "language": "sql",
                "azdata_cell_guid": "63a8381c-b3f6-4180-bb39-eafb19ab35a1"
            },
            "attachments": {}
        },
        {
            "cell_type": "code",
            "source": [
                ""
            ],
            "metadata": {
                "language": "sql",
                "azdata_cell_guid": "2d266016-6ce7-470c-a807-c16e67027aa3"
            },
            "outputs": [],
            "execution_count": null
        }
    ]
}