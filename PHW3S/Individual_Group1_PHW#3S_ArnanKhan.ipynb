{
    "metadata": {
        "kernelspec": {
            "name": "SQL",
            "display_name": "SQL",
            "language": "sql"
        },
        "language_info": {
            "name": "sql",
            "version": ""
        }
    },
    "nbformat_minor": 2,
    "nbformat": 4,
    "cells": [
        {
            "cell_type": "markdown",
            "source": [
                "## **<u>CSCI 381: PHW#3S - Individual (Arnan Khan)</u>**"
            ],
            "metadata": {
                "azdata_cell_guid": "123348d0-17f0-4539-9160-4b021934b3a9"
            },
            "attachments": {}
        },
        {
            "cell_type": "markdown",
            "source": [
                "#### Chapter 6\n",
                "\n",
                "Named Database: AdventureWorks\n",
                "\n",
                "\\[ChatGPT \\*new\\*  Generates Propositions\\]( https://chatgpt.com/share/670fcc9e-bd20-800f-8a01-0e1dd896f7de )"
            ],
            "metadata": {
                "azdata_cell_guid": "e2384af9-dba7-47ab-85e9-c8f2533ea2d8"
            },
            "attachments": {}
        },
        {
            "cell_type": "markdown",
            "source": [
                "# AdventureWorks Set Operators Questions\n",
                "\n",
                "## 1\\. Compare Person and Employees:\n",
                "\n",
                "Find out which Persons are not listed as Employee by comparing the `Person` table and <span style=\"font-size: 12px;\">Employee&nbsp;</span>  table."
            ],
            "metadata": {
                "azdata_cell_guid": "7ef67ae8-84de-42e5-a224-905081dd861c"
            },
            "attachments": {}
        },
        {
            "cell_type": "code",
            "source": [
                "WITH Non_Employees AS (\r\n",
                "(\r\n",
                "    SELECT BusinessEntityID\r\n",
                "    FROM Person.Person\r\n",
                ") \r\n",
                "EXCEPT\r\n",
                "(\r\n",
                "    SELECT BusinessEntityID\r\n",
                "    FROM HumanResources.Employee\r\n",
                ") \r\n",
                ")\r\n",
                "\r\n",
                "SELECT TOP(5) FirstName, LastName\r\n",
                "FROM Non_Employees as NE\r\n",
                "INNER JOIN Person.Person as P on P.BusinessEntityID = NE.BusinessEntityID"
            ],
            "metadata": {
                "azdata_cell_guid": "2e757392-e342-473c-bf45-84103d5c1b98",
                "language": "sql"
            },
            "outputs": [
                {
                    "output_type": "display_data",
                    "data": {
                        "text/html": "(5 rows affected)"
                    },
                    "metadata": {}
                },
                {
                    "output_type": "display_data",
                    "data": {
                        "text/html": "Total execution time: 00:00:00.030"
                    },
                    "metadata": {}
                },
                {
                    "output_type": "execute_result",
                    "execution_count": 10,
                    "data": {
                        "application/vnd.dataresource+json": {
                            "schema": {
                                "fields": [
                                    {
                                        "name": "FirstName"
                                    },
                                    {
                                        "name": "LastName"
                                    }
                                ]
                            },
                            "data": [
                                {
                                    "FirstName": "Gustavo",
                                    "LastName": "Achong"
                                },
                                {
                                    "FirstName": "Catherine",
                                    "LastName": "Abel"
                                },
                                {
                                    "FirstName": "Kim",
                                    "LastName": "Abercrombie"
                                },
                                {
                                    "FirstName": "Humberto",
                                    "LastName": "Acevedo"
                                },
                                {
                                    "FirstName": "Pilar",
                                    "LastName": "Ackerman"
                                }
                            ]
                        },
                        "text/html": "<table><tr><th>FirstName</th><th>LastName</th></tr><tr><td>Gustavo</td><td>Achong</td></tr><tr><td>Catherine</td><td>Abel</td></tr><tr><td>Kim</td><td>Abercrombie</td></tr><tr><td>Humberto</td><td>Acevedo</td></tr><tr><td>Pilar</td><td>Ackerman</td></tr></table>"
                    },
                    "metadata": {}
                }
            ],
            "execution_count": 10
        },
        {
            "cell_type": "markdown",
            "source": [
                "## 2. Compare Sales Territories:\r\n",
                "Determine the regions where AdventureWorks has customers but has not yet made any sales by comparing `SalesTerritory` and `SalesOrderHeader` data.\r\n",
                ""
            ],
            "metadata": {
                "language": "sql",
                "azdata_cell_guid": "30251e81-f12b-4a28-b586-32bd6980a29c"
            },
            "attachments": {}
        },
        {
            "cell_type": "code",
            "source": [
                "SELECT DISTINCT ST.TerritoryID\r\n",
                "FROM Sales.Customer as C\r\n",
                "INNER JOIN Sales.SalesTerritory as ST on C.TerritoryID = ST.TerritoryID\r\n",
                "\r\n",
                "EXCEPT\r\n",
                "\r\n",
                "SELECT DISTINCT TerritoryID\r\n",
                "FROM Sales.SalesOrderHeader\r\n",
                ""
            ],
            "metadata": {
                "language": "sql",
                "azdata_cell_guid": "a7b5808c-d226-4132-849a-a807dcf30861"
            },
            "outputs": [
                {
                    "output_type": "display_data",
                    "data": {
                        "text/html": "(0 rows affected)"
                    },
                    "metadata": {}
                },
                {
                    "output_type": "display_data",
                    "data": {
                        "text/html": "Total execution time: 00:00:00.004"
                    },
                    "metadata": {}
                },
                {
                    "output_type": "execute_result",
                    "execution_count": 19,
                    "data": {
                        "application/vnd.dataresource+json": {
                            "schema": {
                                "fields": [
                                    {
                                        "name": "TerritoryID"
                                    }
                                ]
                            },
                            "data": []
                        },
                        "text/html": "<table><tr><th>TerritoryID</th></tr></table>"
                    },
                    "metadata": {}
                }
            ],
            "execution_count": 19
        },
        {
            "cell_type": "markdown",
            "source": [
                "## 3. Products Sold vs Products Manufactured:\r\n",
                "Find which products have been manufactured but have never been sold by comparing the `Product` and `SalesOrderDetail` tables.\r\n",
                ""
            ],
            "metadata": {
                "language": "sql",
                "azdata_cell_guid": "d93dffb4-77f8-4603-8d03-77dcfd5bd464"
            },
            "attachments": {}
        },
        {
            "cell_type": "code",
            "source": [
                "WITH Product_NS AS\r\n",
                "(\r\n",
                "    (\r\n",
                "        SELECT ProductID\r\n",
                "        FROM Production.Product\r\n",
                "    )\r\n",
                "    EXCEPT\r\n",
                "    (\r\n",
                "        SELECT DISTINCT ProductID\r\n",
                "        FROM Sales.SalesOrderDetail\r\n",
                "    )\r\n",
                ")\r\n",
                "\r\n",
                "SELECT TOP(5) P.Name, P.ProductNumber, P.ListPrice\r\n",
                "FROM Product_NS as NS\r\n",
                "INNER JOIN Production.Product as P on NS.ProductID = P.ProductID\r\n",
                "ORDER BY P.ListPrice DESC"
            ],
            "metadata": {
                "language": "sql",
                "azdata_cell_guid": "1d3c7fab-a006-4c13-ba3f-7666526e8251"
            },
            "outputs": [
                {
                    "output_type": "display_data",
                    "data": {
                        "text/html": "(5 rows affected)"
                    },
                    "metadata": {}
                },
                {
                    "output_type": "display_data",
                    "data": {
                        "text/html": "Total execution time: 00:00:00.028"
                    },
                    "metadata": {}
                },
                {
                    "output_type": "execute_result",
                    "execution_count": 27,
                    "data": {
                        "application/vnd.dataresource+json": {
                            "schema": {
                                "fields": [
                                    {
                                        "name": "Name"
                                    },
                                    {
                                        "name": "ProductNumber"
                                    },
                                    {
                                        "name": "ListPrice"
                                    }
                                ]
                            },
                            "data": [
                                {
                                    "Name": "HL Road Frame - Black, 58",
                                    "ProductNumber": "FR-R92B-58",
                                    "ListPrice": "1431.50"
                                },
                                {
                                    "Name": "HL Road Frame - Red, 58",
                                    "ProductNumber": "FR-R92R-58",
                                    "ListPrice": "1431.50"
                                },
                                {
                                    "Name": "HL Road Frame - Red, 52",
                                    "ProductNumber": "FR-R92R-52",
                                    "ListPrice": "1431.50"
                                },
                                {
                                    "Name": "HL Road Frame - Red, 56",
                                    "ProductNumber": "FR-R92R-56",
                                    "ListPrice": "1431.50"
                                },
                                {
                                    "Name": "HL Road Frame - Black, 62",
                                    "ProductNumber": "FR-R92B-62",
                                    "ListPrice": "1431.50"
                                }
                            ]
                        },
                        "text/html": "<table><tr><th>Name</th><th>ProductNumber</th><th>ListPrice</th></tr><tr><td>HL Road Frame - Black, 58</td><td>FR-R92B-58</td><td>1431.50</td></tr><tr><td>HL Road Frame - Red, 58</td><td>FR-R92R-58</td><td>1431.50</td></tr><tr><td>HL Road Frame - Red, 52</td><td>FR-R92R-52</td><td>1431.50</td></tr><tr><td>HL Road Frame - Red, 56</td><td>FR-R92R-56</td><td>1431.50</td></tr><tr><td>HL Road Frame - Black, 62</td><td>FR-R92B-62</td><td>1431.50</td></tr></table>"
                    },
                    "metadata": {}
                }
            ],
            "execution_count": 27
        },
        {
            "cell_type": "markdown",
            "source": [
                "## 4. Sales Representatives who are Customers:\r\n",
                "Identify the sales representatives who are also listed as customers by intersecting the `SalesPerson` and `Customer` tables.\r\n",
                ""
            ],
            "metadata": {
                "language": "sql",
                "azdata_cell_guid": "ed6ef603-8b81-45e5-8e6b-52dac9397e23"
            },
            "attachments": {}
        },
        {
            "cell_type": "code",
            "source": [
                "SELECT BusinessEntityID\r\n",
                "FROM Sales.SalesPerson\r\n",
                "\r\n",
                "INTERSECT\r\n",
                "\r\n",
                "SELECT CustomerID\r\n",
                "FROM Sales.Customer;\r\n",
                ""
            ],
            "metadata": {
                "language": "sql",
                "azdata_cell_guid": "402087fe-f5fd-4152-806e-55e3acd26664"
            },
            "outputs": [
                {
                    "output_type": "display_data",
                    "data": {
                        "text/html": "(17 rows affected)"
                    },
                    "metadata": {}
                },
                {
                    "output_type": "display_data",
                    "data": {
                        "text/html": "Total execution time: 00:00:00.099"
                    },
                    "metadata": {}
                },
                {
                    "output_type": "execute_result",
                    "execution_count": 1,
                    "data": {
                        "application/vnd.dataresource+json": {
                            "schema": {
                                "fields": [
                                    {
                                        "name": "BusinessEntityID"
                                    }
                                ]
                            },
                            "data": [
                                {
                                    "BusinessEntityID": "285"
                                },
                                {
                                    "BusinessEntityID": "283"
                                },
                                {
                                    "BusinessEntityID": "278"
                                },
                                {
                                    "BusinessEntityID": "279"
                                },
                                {
                                    "BusinessEntityID": "277"
                                },
                                {
                                    "BusinessEntityID": "275"
                                },
                                {
                                    "BusinessEntityID": "288"
                                },
                                {
                                    "BusinessEntityID": "287"
                                },
                                {
                                    "BusinessEntityID": "276"
                                },
                                {
                                    "BusinessEntityID": "282"
                                },
                                {
                                    "BusinessEntityID": "289"
                                },
                                {
                                    "BusinessEntityID": "290"
                                },
                                {
                                    "BusinessEntityID": "274"
                                },
                                {
                                    "BusinessEntityID": "286"
                                },
                                {
                                    "BusinessEntityID": "280"
                                },
                                {
                                    "BusinessEntityID": "284"
                                },
                                {
                                    "BusinessEntityID": "281"
                                }
                            ]
                        },
                        "text/html": "<table><tr><th>BusinessEntityID</th></tr><tr><td>285</td></tr><tr><td>283</td></tr><tr><td>278</td></tr><tr><td>279</td></tr><tr><td>277</td></tr><tr><td>275</td></tr><tr><td>288</td></tr><tr><td>287</td></tr><tr><td>276</td></tr><tr><td>282</td></tr><tr><td>289</td></tr><tr><td>290</td></tr><tr><td>274</td></tr><tr><td>286</td></tr><tr><td>280</td></tr><tr><td>284</td></tr><tr><td>281</td></tr></table>"
                    },
                    "metadata": {}
                }
            ],
            "execution_count": 1
        },
        {
            "cell_type": "markdown",
            "source": [
                "## 5. Union of Products in Different Categories:\r\n",
                "Generate a combined list of all products in the `Bikes` and `Clothing` categories by using a union of their respective product categories.\r\n",
                ""
            ],
            "metadata": {
                "language": "sql",
                "azdata_cell_guid": "f3d12fb9-10c5-40a2-9b91-8b18056cb41c"
            },
            "attachments": {}
        },
        {
            "cell_type": "code",
            "source": [
                "DROP FUNCTION IF EXISTS Production.SelectProductByCategory;\r\n",
                "GO\r\n",
                "CREATE OR ALTER FUNCTION Production.SelectProductByCategory(@Category VARCHAR(10))\r\n",
                "RETURNS TABLE\r\n",
                "RETURN(\r\n",
                "    SELECT  P.Name as [Product Name], P.ProductID, P.ListPrice, PC.Name as [Category Name]\r\n",
                "    FROM Production.Product as P\r\n",
                "    INNER JOIN Production.ProductSubcategory as PSC ON P.ProductSubcategoryID = PSC.ProductSubcategoryID\r\n",
                "    INNER JOIN Production.ProductCategory as PC ON PSC.ProductCategoryID = PC.ProductCategoryID\r\n",
                "    WHERE PC.Name = @Category\r\n",
                ");\r\n",
                "GO\r\n",
                "\r\n",
                "DECLARE @BikesName VARCHAR(10) = 'Bikes';\r\n",
                "DECLARE @ClothingName VARCHAR(10) = 'Clothing';\r\n",
                "\r\n",
                "(\r\n",
                "    SELECT TOP (5) [Product Name], ProductID, ListPrice, [Category Name]\r\n",
                "    FROM Production.SelectProductByCategory(@BikesName)\r\n",
                ")\r\n",
                "\r\n",
                "UNION\r\n",
                "\r\n",
                "(\r\n",
                "    SELECT TOP(5) [Product Name], ProductID, ListPrice, [Category Name]\r\n",
                "    FROM Production.SelectProductByCategory(@ClothingName)\r\n",
                ")"
            ],
            "metadata": {
                "language": "sql",
                "azdata_cell_guid": "36008ef2-54d5-46f4-ae97-7aecaefc5ada"
            },
            "outputs": [
                {
                    "output_type": "display_data",
                    "data": {
                        "text/html": "Commands completed successfully."
                    },
                    "metadata": {}
                },
                {
                    "output_type": "display_data",
                    "data": {
                        "text/html": "Commands completed successfully."
                    },
                    "metadata": {}
                },
                {
                    "output_type": "display_data",
                    "data": {
                        "text/html": "(10 rows affected)"
                    },
                    "metadata": {}
                },
                {
                    "output_type": "display_data",
                    "data": {
                        "text/html": "Total execution time: 00:00:00.066"
                    },
                    "metadata": {}
                },
                {
                    "output_type": "execute_result",
                    "execution_count": 42,
                    "data": {
                        "application/vnd.dataresource+json": {
                            "schema": {
                                "fields": [
                                    {
                                        "name": "Product Name"
                                    },
                                    {
                                        "name": "ProductID"
                                    },
                                    {
                                        "name": "ListPrice"
                                    },
                                    {
                                        "name": "Category Name"
                                    }
                                ]
                            },
                            "data": [
                                {
                                    "Product Name": "AWC Logo Cap",
                                    "ProductID": "712",
                                    "ListPrice": "8.99",
                                    "Category Name": "Clothing"
                                },
                                {
                                    "Product Name": "Half-Finger Gloves, S",
                                    "ProductID": "858",
                                    "ListPrice": "24.49",
                                    "Category Name": "Clothing"
                                },
                                {
                                    "Product Name": "Men's Bib-Shorts, L",
                                    "ProductID": "857",
                                    "ListPrice": "89.99",
                                    "Category Name": "Clothing"
                                },
                                {
                                    "Product Name": "Men's Bib-Shorts, M",
                                    "ProductID": "856",
                                    "ListPrice": "89.99",
                                    "Category Name": "Clothing"
                                },
                                {
                                    "Product Name": "Men's Bib-Shorts, S",
                                    "ProductID": "855",
                                    "ListPrice": "89.99",
                                    "Category Name": "Clothing"
                                },
                                {
                                    "Product Name": "Mountain-100 Black, 38",
                                    "ProductID": "775",
                                    "ListPrice": "3374.99",
                                    "Category Name": "Bikes"
                                },
                                {
                                    "Product Name": "Mountain-100 Silver, 38",
                                    "ProductID": "771",
                                    "ListPrice": "3399.99",
                                    "Category Name": "Bikes"
                                },
                                {
                                    "Product Name": "Mountain-100 Silver, 42",
                                    "ProductID": "772",
                                    "ListPrice": "3399.99",
                                    "Category Name": "Bikes"
                                },
                                {
                                    "Product Name": "Mountain-100 Silver, 44",
                                    "ProductID": "773",
                                    "ListPrice": "3399.99",
                                    "Category Name": "Bikes"
                                },
                                {
                                    "Product Name": "Mountain-100 Silver, 48",
                                    "ProductID": "774",
                                    "ListPrice": "3399.99",
                                    "Category Name": "Bikes"
                                }
                            ]
                        },
                        "text/html": "<table><tr><th>Product Name</th><th>ProductID</th><th>ListPrice</th><th>Category Name</th></tr><tr><td>AWC Logo Cap</td><td>712</td><td>8.99</td><td>Clothing</td></tr><tr><td>Half-Finger Gloves, S</td><td>858</td><td>24.49</td><td>Clothing</td></tr><tr><td>Men's Bib-Shorts, L</td><td>857</td><td>89.99</td><td>Clothing</td></tr><tr><td>Men's Bib-Shorts, M</td><td>856</td><td>89.99</td><td>Clothing</td></tr><tr><td>Men's Bib-Shorts, S</td><td>855</td><td>89.99</td><td>Clothing</td></tr><tr><td>Mountain-100 Black, 38</td><td>775</td><td>3374.99</td><td>Bikes</td></tr><tr><td>Mountain-100 Silver, 38</td><td>771</td><td>3399.99</td><td>Bikes</td></tr><tr><td>Mountain-100 Silver, 42</td><td>772</td><td>3399.99</td><td>Bikes</td></tr><tr><td>Mountain-100 Silver, 44</td><td>773</td><td>3399.99</td><td>Bikes</td></tr><tr><td>Mountain-100 Silver, 48</td><td>774</td><td>3399.99</td><td>Bikes</td></tr></table>"
                    },
                    "metadata": {}
                }
            ],
            "execution_count": 42
        },
        {
            "cell_type": "markdown",
            "source": [
                "## 6. Sales Orders without Shipments:\r\n",
                "Determine which sales orders have not been shipped by comparing the `SalesOrderHeader` and `ShipMethod` tables.\r\n",
                ""
            ],
            "metadata": {
                "language": "sql",
                "azdata_cell_guid": "400769c3-bffe-4e5c-af77-c8284d2e10ff"
            },
            "attachments": {}
        },
        {
            "cell_type": "code",
            "source": [
                "SELECT SalesOrderID\r\n",
                "FROM Sales.SalesOrderHeader\r\n",
                "WHERE ShipMethodID IS NULL;"
            ],
            "metadata": {
                "language": "sql",
                "azdata_cell_guid": "77bca8bc-d373-4d67-9eae-4bf6dfd07f2c"
            },
            "outputs": [
                {
                    "output_type": "display_data",
                    "data": {
                        "text/html": "(0 rows affected)"
                    },
                    "metadata": {}
                },
                {
                    "output_type": "display_data",
                    "data": {
                        "text/html": "Total execution time: 00:00:00.003"
                    },
                    "metadata": {}
                },
                {
                    "output_type": "execute_result",
                    "execution_count": 10,
                    "data": {
                        "application/vnd.dataresource+json": {
                            "schema": {
                                "fields": [
                                    {
                                        "name": "SalesOrderID"
                                    }
                                ]
                            },
                            "data": []
                        },
                        "text/html": "<table><tr><th>SalesOrderID</th></tr></table>"
                    },
                    "metadata": {}
                }
            ],
            "execution_count": 10
        },
        {
            "cell_type": "markdown",
            "source": [
                "## 7. All Employees and All Salespeople:\r\n",
                "Create a combined list of all employees and salespeople, ensuring that each individual appears only once by using `UNION`.\r\n",
                ""
            ],
            "metadata": {
                "language": "sql",
                "azdata_cell_guid": "52ea24f1-d086-497d-a8ba-560bbe21cdc4"
            },
            "attachments": {}
        },
        {
            "cell_type": "code",
            "source": [
                "SELECT TOP 5 BusinessEntityID\r\n",
                "FROM HumanResources.Employee\r\n",
                "\r\n",
                "UNION\r\n",
                "\r\n",
                "SELECT TOP 5 BusinessEntityID\r\n",
                "FROM Sales.SalesPerson;\r\n",
                ""
            ],
            "metadata": {
                "language": "sql",
                "azdata_cell_guid": "c78894c9-6802-4a2b-b616-9d4c081bf703"
            },
            "outputs": [
                {
                    "output_type": "display_data",
                    "data": {
                        "text/html": "(10 rows affected)"
                    },
                    "metadata": {}
                },
                {
                    "output_type": "display_data",
                    "data": {
                        "text/html": "Total execution time: 00:00:00.010"
                    },
                    "metadata": {}
                },
                {
                    "output_type": "execute_result",
                    "execution_count": 12,
                    "data": {
                        "application/vnd.dataresource+json": {
                            "schema": {
                                "fields": [
                                    {
                                        "name": "BusinessEntityID"
                                    }
                                ]
                            },
                            "data": [
                                {
                                    "BusinessEntityID": "1"
                                },
                                {
                                    "BusinessEntityID": "2"
                                },
                                {
                                    "BusinessEntityID": "3"
                                },
                                {
                                    "BusinessEntityID": "4"
                                },
                                {
                                    "BusinessEntityID": "5"
                                },
                                {
                                    "BusinessEntityID": "274"
                                },
                                {
                                    "BusinessEntityID": "275"
                                },
                                {
                                    "BusinessEntityID": "276"
                                },
                                {
                                    "BusinessEntityID": "277"
                                },
                                {
                                    "BusinessEntityID": "278"
                                }
                            ]
                        },
                        "text/html": "<table><tr><th>BusinessEntityID</th></tr><tr><td>1</td></tr><tr><td>2</td></tr><tr><td>3</td></tr><tr><td>4</td></tr><tr><td>5</td></tr><tr><td>274</td></tr><tr><td>275</td></tr><tr><td>276</td></tr><tr><td>277</td></tr><tr><td>278</td></tr></table>"
                    },
                    "metadata": {}
                }
            ],
            "execution_count": 12
        },
        {
            "cell_type": "markdown",
            "source": [
                "## 8. Union of Orders by Country:\r\n",
                "Combine all sales orders from customers located in the United States and Canada by querying the `SalesOrderHeader` and `Customer` tables, and then using `UNION`.\r\n",
                ""
            ],
            "metadata": {
                "language": "sql",
                "azdata_cell_guid": "a48e2339-fa0f-4865-9a1f-4848e7ea5c23"
            },
            "attachments": {}
        },
        {
            "cell_type": "code",
            "source": [
                "SELECT TOP 5 SalesOrderID\r\n",
                "FROM Sales.SalesOrderHeader SOH\r\n",
                "JOIN Sales.Customer C ON SOH.CustomerID = C.CustomerID\r\n",
                "WHERE C.TerritoryID = (SELECT TerritoryID FROM Sales.SalesTerritory WHERE Name = 'United States')\r\n",
                "\r\n",
                "UNION\r\n",
                "\r\n",
                "SELECT TOP 5 SalesOrderID\r\n",
                "FROM Sales.SalesOrderHeader SOH\r\n",
                "JOIN Sales.Customer C ON SOH.CustomerID = C.CustomerID\r\n",
                "\r\n",
                ""
            ],
            "metadata": {
                "language": "sql",
                "azdata_cell_guid": "ea2a886a-acb5-4cb3-820c-5c4396e2ff00"
            },
            "outputs": [
                {
                    "output_type": "display_data",
                    "data": {
                        "text/html": "(5 rows affected)"
                    },
                    "metadata": {}
                },
                {
                    "output_type": "display_data",
                    "data": {
                        "text/html": "Total execution time: 00:00:00.014"
                    },
                    "metadata": {}
                },
                {
                    "output_type": "execute_result",
                    "execution_count": 15,
                    "data": {
                        "application/vnd.dataresource+json": {
                            "schema": {
                                "fields": [
                                    {
                                        "name": "SalesOrderID"
                                    }
                                ]
                            },
                            "data": [
                                {
                                    "SalesOrderID": "43697"
                                },
                                {
                                    "SalesOrderID": "43698"
                                },
                                {
                                    "SalesOrderID": "43699"
                                },
                                {
                                    "SalesOrderID": "43700"
                                },
                                {
                                    "SalesOrderID": "43701"
                                }
                            ]
                        },
                        "text/html": "<table><tr><th>SalesOrderID</th></tr><tr><td>43697</td></tr><tr><td>43698</td></tr><tr><td>43699</td></tr><tr><td>43700</td></tr><tr><td>43701</td></tr></table>"
                    },
                    "metadata": {}
                }
            ],
            "execution_count": 15
        },
        {
            "cell_type": "markdown",
            "source": [
                "## 9. Difference in Online vs Physical Store Customers:\r\n",
                "Find customers who have placed orders online but not in a physical store by comparing `SalesOrderHeader` and `SalesOrderDetail` with a set difference operation.\r\n",
                ""
            ],
            "metadata": {
                "language": "sql",
                "azdata_cell_guid": "ac82c3b7-eb6f-4c51-ad3d-2ca1577596df"
            },
            "attachments": {}
        },
        {
            "cell_type": "code",
            "source": [
                "SELECT TOP 5 CustomerID\r\n",
                "FROM Sales.SalesOrderHeader\r\n",
                "WHERE OnlineOrderFlag = 1\r\n",
                "\r\n",
                "EXCEPT\r\n",
                "\r\n",
                "SELECT TOP 5 CustomerID\r\n",
                "FROM Sales.SalesOrderHeader\r\n",
                "WHERE OnlineOrderFlag = 0;\r\n",
                ""
            ],
            "metadata": {
                "language": "sql",
                "azdata_cell_guid": "1a33cee3-f9ad-417f-ba38-4de641c8108b"
            },
            "outputs": [
                {
                    "output_type": "display_data",
                    "data": {
                        "text/html": "(5 rows affected)"
                    },
                    "metadata": {}
                },
                {
                    "output_type": "display_data",
                    "data": {
                        "text/html": "Total execution time: 00:00:00.013"
                    },
                    "metadata": {}
                },
                {
                    "output_type": "execute_result",
                    "execution_count": 9,
                    "data": {
                        "application/vnd.dataresource+json": {
                            "schema": {
                                "fields": [
                                    {
                                        "name": "CustomerID"
                                    }
                                ]
                            },
                            "data": [
                                {
                                    "CustomerID": "11003"
                                },
                                {
                                    "CustomerID": "14501"
                                },
                                {
                                    "CustomerID": "21768"
                                },
                                {
                                    "CustomerID": "25863"
                                },
                                {
                                    "CustomerID": "28389"
                                }
                            ]
                        },
                        "text/html": "<table><tr><th>CustomerID</th></tr><tr><td>11003</td></tr><tr><td>14501</td></tr><tr><td>21768</td></tr><tr><td>25863</td></tr><tr><td>28389</td></tr></table>"
                    },
                    "metadata": {}
                }
            ],
            "execution_count": 9
        },
        {
            "cell_type": "markdown",
            "source": [
                "## 10. Common Customers for Two Products:\r\n",
                "Determine which customers have purchased both `Product A` and `Product B` by using an intersection of their respective sales orders.\r\n",
                ""
            ],
            "metadata": {
                "language": "sql",
                "azdata_cell_guid": "63a8381c-b3f6-4180-bb39-eafb19ab35a1"
            },
            "attachments": {}
        },
        {
            "cell_type": "code",
            "source": [
                "\r\n",
                "DROP FUNCTION IF EXISTS Sales.SelectCustomersPurchased;\r\n",
                "GO\r\n",
                "CREATE OR ALTER FUNCTION Sales.SelectCustomersPurchased(@Product INT)\r\n",
                "RETURNS TABLE\r\n",
                "RETURN(\r\n",
                "    SELECT DISTINCT SOH.CustomerID\r\n",
                "    FROM Sales.SalesOrderHeader as SOH\r\n",
                "    INNER JOIN Sales.SalesOrderDetail as SOD on SOH.SalesOrderID = SOD.SalesOrderID\r\n",
                "    WHERE SOD.ProductID = @Product\r\n",
                "\r\n",
                ");\r\n",
                "GO\r\n",
                "DECLARE @ProductA  INT = 717;\r\n",
                "DECLARE @ProductB INT = 718;\r\n",
                "\r\n",
                "SELECT CustomerID\r\n",
                "FROM Sales.SelectCustomersPurchased(@ProductA) as SCP\r\n",
                "\r\n",
                "INTERSECT\r\n",
                "\r\n",
                "\r\n",
                "SELECT CustomerID\r\n",
                "FROM Sales.SelectCustomersPurchased(@ProductB) as SCP\r\n",
                ""
            ],
            "metadata": {
                "language": "sql",
                "azdata_cell_guid": "2d266016-6ce7-470c-a807-c16e67027aa3"
            },
            "outputs": [
                {
                    "output_type": "display_data",
                    "data": {
                        "text/html": "Commands completed successfully."
                    },
                    "metadata": {}
                },
                {
                    "output_type": "display_data",
                    "data": {
                        "text/html": "Commands completed successfully."
                    },
                    "metadata": {}
                },
                {
                    "output_type": "display_data",
                    "data": {
                        "text/html": "(85 rows affected)"
                    },
                    "metadata": {}
                },
                {
                    "output_type": "display_data",
                    "data": {
                        "text/html": "Total execution time: 00:00:00.059"
                    },
                    "metadata": {}
                },
                {
                    "output_type": "execute_result",
                    "execution_count": 7,
                    "data": {
                        "application/vnd.dataresource+json": {
                            "schema": {
                                "fields": [
                                    {
                                        "name": "CustomerID"
                                    }
                                ]
                            },
                            "data": [
                                {
                                    "CustomerID": "29486"
                                },
                                {
                                    "CustomerID": "29489"
                                },
                                {
                                    "CustomerID": "29513"
                                },
                                {
                                    "CustomerID": "29528"
                                },
                                {
                                    "CustomerID": "29533"
                                },
                                {
                                    "CustomerID": "29539"
                                },
                                {
                                    "CustomerID": "29543"
                                },
                                {
                                    "CustomerID": "29546"
                                },
                                {
                                    "CustomerID": "29560"
                                },
                                {
                                    "CustomerID": "29569"
                                },
                                {
                                    "CustomerID": "29587"
                                },
                                {
                                    "CustomerID": "29594"
                                },
                                {
                                    "CustomerID": "29599"
                                },
                                {
                                    "CustomerID": "29601"
                                },
                                {
                                    "CustomerID": "29610"
                                },
                                {
                                    "CustomerID": "29614"
                                },
                                {
                                    "CustomerID": "29616"
                                },
                                {
                                    "CustomerID": "29617"
                                },
                                {
                                    "CustomerID": "29627"
                                },
                                {
                                    "CustomerID": "29637"
                                },
                                {
                                    "CustomerID": "29639"
                                },
                                {
                                    "CustomerID": "29646"
                                },
                                {
                                    "CustomerID": "29667"
                                },
                                {
                                    "CustomerID": "29679"
                                },
                                {
                                    "CustomerID": "29687"
                                },
                                {
                                    "CustomerID": "29689"
                                },
                                {
                                    "CustomerID": "29692"
                                },
                                {
                                    "CustomerID": "29696"
                                },
                                {
                                    "CustomerID": "29698"
                                },
                                {
                                    "CustomerID": "29701"
                                },
                                {
                                    "CustomerID": "29703"
                                },
                                {
                                    "CustomerID": "29704"
                                },
                                {
                                    "CustomerID": "29705"
                                },
                                {
                                    "CustomerID": "29707"
                                },
                                {
                                    "CustomerID": "29715"
                                },
                                {
                                    "CustomerID": "29716"
                                },
                                {
                                    "CustomerID": "29721"
                                },
                                {
                                    "CustomerID": "29724"
                                },
                                {
                                    "CustomerID": "29731"
                                },
                                {
                                    "CustomerID": "29746"
                                },
                                {
                                    "CustomerID": "29749"
                                },
                                {
                                    "CustomerID": "29750"
                                },
                                {
                                    "CustomerID": "29772"
                                },
                                {
                                    "CustomerID": "29778"
                                },
                                {
                                    "CustomerID": "29783"
                                },
                                {
                                    "CustomerID": "29784"
                                },
                                {
                                    "CustomerID": "29794"
                                },
                                {
                                    "CustomerID": "29795"
                                },
                                {
                                    "CustomerID": "29796"
                                },
                                {
                                    "CustomerID": "29817"
                                },
                                {
                                    "CustomerID": "29837"
                                },
                                {
                                    "CustomerID": "29842"
                                },
                                {
                                    "CustomerID": "29846"
                                },
                                {
                                    "CustomerID": "29853"
                                },
                                {
                                    "CustomerID": "29875"
                                },
                                {
                                    "CustomerID": "29885"
                                },
                                {
                                    "CustomerID": "29888"
                                },
                                {
                                    "CustomerID": "29895"
                                },
                                {
                                    "CustomerID": "29897"
                                },
                                {
                                    "CustomerID": "29903"
                                },
                                {
                                    "CustomerID": "29946"
                                },
                                {
                                    "CustomerID": "29954"
                                },
                                {
                                    "CustomerID": "29957"
                                },
                                {
                                    "CustomerID": "29963"
                                },
                                {
                                    "CustomerID": "29966"
                                },
                                {
                                    "CustomerID": "29975"
                                },
                                {
                                    "CustomerID": "29988"
                                },
                                {
                                    "CustomerID": "29992"
                                },
                                {
                                    "CustomerID": "29994"
                                },
                                {
                                    "CustomerID": "29998"
                                },
                                {
                                    "CustomerID": "30009"
                                },
                                {
                                    "CustomerID": "30030"
                                },
                                {
                                    "CustomerID": "30043"
                                },
                                {
                                    "CustomerID": "30049"
                                },
                                {
                                    "CustomerID": "30064"
                                },
                                {
                                    "CustomerID": "30074"
                                },
                                {
                                    "CustomerID": "30076"
                                },
                                {
                                    "CustomerID": "30091"
                                },
                                {
                                    "CustomerID": "30094"
                                },
                                {
                                    "CustomerID": "30095"
                                },
                                {
                                    "CustomerID": "30103"
                                },
                                {
                                    "CustomerID": "30105"
                                },
                                {
                                    "CustomerID": "30109"
                                },
                                {
                                    "CustomerID": "30112"
                                },
                                {
                                    "CustomerID": "30117"
                                }
                            ]
                        },
                        "text/html": "<table><tr><th>CustomerID</th></tr><tr><td>29486</td></tr><tr><td>29489</td></tr><tr><td>29513</td></tr><tr><td>29528</td></tr><tr><td>29533</td></tr><tr><td>29539</td></tr><tr><td>29543</td></tr><tr><td>29546</td></tr><tr><td>29560</td></tr><tr><td>29569</td></tr><tr><td>29587</td></tr><tr><td>29594</td></tr><tr><td>29599</td></tr><tr><td>29601</td></tr><tr><td>29610</td></tr><tr><td>29614</td></tr><tr><td>29616</td></tr><tr><td>29617</td></tr><tr><td>29627</td></tr><tr><td>29637</td></tr><tr><td>29639</td></tr><tr><td>29646</td></tr><tr><td>29667</td></tr><tr><td>29679</td></tr><tr><td>29687</td></tr><tr><td>29689</td></tr><tr><td>29692</td></tr><tr><td>29696</td></tr><tr><td>29698</td></tr><tr><td>29701</td></tr><tr><td>29703</td></tr><tr><td>29704</td></tr><tr><td>29705</td></tr><tr><td>29707</td></tr><tr><td>29715</td></tr><tr><td>29716</td></tr><tr><td>29721</td></tr><tr><td>29724</td></tr><tr><td>29731</td></tr><tr><td>29746</td></tr><tr><td>29749</td></tr><tr><td>29750</td></tr><tr><td>29772</td></tr><tr><td>29778</td></tr><tr><td>29783</td></tr><tr><td>29784</td></tr><tr><td>29794</td></tr><tr><td>29795</td></tr><tr><td>29796</td></tr><tr><td>29817</td></tr><tr><td>29837</td></tr><tr><td>29842</td></tr><tr><td>29846</td></tr><tr><td>29853</td></tr><tr><td>29875</td></tr><tr><td>29885</td></tr><tr><td>29888</td></tr><tr><td>29895</td></tr><tr><td>29897</td></tr><tr><td>29903</td></tr><tr><td>29946</td></tr><tr><td>29954</td></tr><tr><td>29957</td></tr><tr><td>29963</td></tr><tr><td>29966</td></tr><tr><td>29975</td></tr><tr><td>29988</td></tr><tr><td>29992</td></tr><tr><td>29994</td></tr><tr><td>29998</td></tr><tr><td>30009</td></tr><tr><td>30030</td></tr><tr><td>30043</td></tr><tr><td>30049</td></tr><tr><td>30064</td></tr><tr><td>30074</td></tr><tr><td>30076</td></tr><tr><td>30091</td></tr><tr><td>30094</td></tr><tr><td>30095</td></tr><tr><td>30103</td></tr><tr><td>30105</td></tr><tr><td>30109</td></tr><tr><td>30112</td></tr><tr><td>30117</td></tr></table>"
                    },
                    "metadata": {}
                }
            ],
            "execution_count": 7
        }
    ]
}